{
 "cells": [
  {
   "cell_type": "markdown",
   "id": "7ba64b37",
   "metadata": {
    "toc": true
   },
   "source": [
    "<h1>Содержание:<span class=\"tocSkip\"></span></h1>\n",
    "<div class=\"toc\"><ul class=\"toc-item\"><li><span><a href=\"#Подготовка-данных\" data-toc-modified-id=\"Подготовка-данных-1\"><span class=\"toc-item-num\">1&nbsp;&nbsp;</span>Подготовка данных</a></span><ul class=\"toc-item\"><li><span><a href=\"#Загрузим-и-изучим-данные\" data-toc-modified-id=\"Загрузим-и-изучим-данные-1.1\"><span class=\"toc-item-num\">1.1&nbsp;&nbsp;</span>Загрузим и изучим данные</a></span></li><li><span><a href=\"#Явные-дубликаты\" data-toc-modified-id=\"Явные-дубликаты-1.2\"><span class=\"toc-item-num\">1.2&nbsp;&nbsp;</span>Явные дубликаты</a></span></li><li><span><a href=\"#Столбец-&quot;Price&quot;\" data-toc-modified-id=\"Столбец-&quot;Price&quot;-1.3\"><span class=\"toc-item-num\">1.3&nbsp;&nbsp;</span>Столбец \"Price\"</a></span></li><li><span><a href=\"#Столбец-&quot;VehicleType&quot;\" data-toc-modified-id=\"Столбец-&quot;VehicleType&quot;-1.4\"><span class=\"toc-item-num\">1.4&nbsp;&nbsp;</span>Столбец \"VehicleType\"</a></span></li><li><span><a href=\"#Столбец-&quot;RegistrationYear&quot;\" data-toc-modified-id=\"Столбец-&quot;RegistrationYear&quot;-1.5\"><span class=\"toc-item-num\">1.5&nbsp;&nbsp;</span>Столбец \"RegistrationYear\"</a></span></li><li><span><a href=\"#Столбец-&quot;Gearbox&quot;\" data-toc-modified-id=\"Столбец-&quot;Gearbox&quot;-1.6\"><span class=\"toc-item-num\">1.6&nbsp;&nbsp;</span>Столбец \"Gearbox\"</a></span></li><li><span><a href=\"#Столбец-&quot;Power&quot;\" data-toc-modified-id=\"Столбец-&quot;Power&quot;-1.7\"><span class=\"toc-item-num\">1.7&nbsp;&nbsp;</span>Столбец \"Power\"</a></span></li><li><span><a href=\"#Столбец-&quot;Model&quot;\" data-toc-modified-id=\"Столбец-&quot;Model&quot;-1.8\"><span class=\"toc-item-num\">1.8&nbsp;&nbsp;</span>Столбец \"Model\"</a></span></li><li><span><a href=\"#Столбец-&quot;FuelType&quot;\" data-toc-modified-id=\"Столбец-&quot;FuelType&quot;-1.9\"><span class=\"toc-item-num\">1.9&nbsp;&nbsp;</span>Столбец \"FuelType\"</a></span></li><li><span><a href=\"#Столбец-&quot;NotRepaired&quot;\" data-toc-modified-id=\"Столбец-&quot;NotRepaired&quot;-1.10\"><span class=\"toc-item-num\">1.10&nbsp;&nbsp;</span>Столбец \"NotRepaired\"</a></span></li><li><span><a href=\"#Удаление-столбцов.\" data-toc-modified-id=\"Удаление-столбцов.-1.11\"><span class=\"toc-item-num\">1.11&nbsp;&nbsp;</span>Удаление столбцов.</a></span></li><li><span><a href=\"#Вывод\" data-toc-modified-id=\"Вывод-1.12\"><span class=\"toc-item-num\">1.12&nbsp;&nbsp;</span>Вывод</a></span></li></ul></li><li><span><a href=\"#Обучение-моделей\" data-toc-modified-id=\"Обучение-моделей-2\"><span class=\"toc-item-num\">2&nbsp;&nbsp;</span>Обучение моделей</a></span><ul class=\"toc-item\"><li><span><a href=\"#Прямое-кодирование\" data-toc-modified-id=\"Прямое-кодирование-2.1\"><span class=\"toc-item-num\">2.1&nbsp;&nbsp;</span>Прямое кодирование</a></span></li><li><span><a href=\"#Разобьем-данные-на-выборки\" data-toc-modified-id=\"Разобьем-данные-на-выборки-2.2\"><span class=\"toc-item-num\">2.2&nbsp;&nbsp;</span>Разобьем данные на выборки</a></span></li><li><span><a href=\"#Дерево-решений\" data-toc-modified-id=\"Дерево-решений-2.3\"><span class=\"toc-item-num\">2.3&nbsp;&nbsp;</span>Дерево решений</a></span></li><li><span><a href=\"#Случайный-лес\" data-toc-modified-id=\"Случайный-лес-2.4\"><span class=\"toc-item-num\">2.4&nbsp;&nbsp;</span>Случайный лес</a></span></li><li><span><a href=\"#CatBoost\" data-toc-modified-id=\"CatBoost-2.5\"><span class=\"toc-item-num\">2.5&nbsp;&nbsp;</span>CatBoost</a></span></li></ul></li><li><span><a href=\"#Анализ-моделей\" data-toc-modified-id=\"Анализ-моделей-3\"><span class=\"toc-item-num\">3&nbsp;&nbsp;</span>Анализ моделей</a></span><ul class=\"toc-item\"><li><span><a href=\"#Вывод\" data-toc-modified-id=\"Вывод-3.1\"><span class=\"toc-item-num\">3.1&nbsp;&nbsp;</span>Вывод</a></span></li></ul></li></ul></div>"
   ]
  },
  {
   "cell_type": "markdown",
   "id": "ae916e0c",
   "metadata": {},
   "source": [
    "# Определение стоимости автомобилей\n",
    "\n",
    "Сервис по продаже автомобилей с пробегом «Не бит, не крашен» разрабатывает приложение для привлечения новых клиентов. В нём можно быстро узнать рыночную стоимость своего автомобиля. В вашем распоряжении исторические данные: технические характеристики, комплектации и цены автомобилей. Вам нужно построить модель для определения стоимости. \n",
    "\n",
    "Заказчику важны:\n",
    "\n",
    "- качество предсказания;\n",
    "- скорость предсказания;\n",
    "- время обучения.\n",
    "\n",
    "# Описание данных\n",
    "\n",
    "**Признаки:** \n",
    "* DateCrawled — дата скачивания анкеты из базы\n",
    "* VehicleType — тип автомобильного кузова\n",
    "* RegistrationYear — год регистрации автомобиля\n",
    "* Gearbox — тип коробки передач\n",
    "* Power — мощность (л. с.)\n",
    "* Model — модель автомобиля\n",
    "* Kilometer — пробег (км)\n",
    "* RegistrationMonth — месяц регистрации автомобиля\n",
    "* FuelType — тип топлива\n",
    "* Brand — марка автомобиля\n",
    "* NotRepaired — была машина в ремонте или нет\n",
    "* DateCreated — дата создания анкеты\n",
    "* NumberOfPictures — количество фотографий автомобиля\n",
    "* PostalCode — почтовый индекс владельца анкеты (пользователя)\n",
    "* LastSeen — дата последней активности пользователя\n",
    "\n",
    "**Целевой признак:**\n",
    "* Price — цена (евро)"
   ]
  },
  {
   "cell_type": "markdown",
   "id": "80efc75e",
   "metadata": {},
   "source": [
    "## Подготовка данных"
   ]
  },
  {
   "cell_type": "code",
   "execution_count": 1,
   "id": "618e1858",
   "metadata": {},
   "outputs": [],
   "source": [
    "import matplotlib.pyplot as plt\n",
    "import numpy as np\n",
    "import pandas as pd\n",
    "import time\n",
    "\n",
    "from catboost import CatBoostRegressor\n",
    "from lightgbm import LGBMRegressor\n",
    "from sklearn.ensemble import RandomForestRegressor\n",
    "from sklearn.linear_model import LinearRegression\n",
    "from sklearn.metrics import mean_squared_error\n",
    "from sklearn.model_selection import GridSearchCV, train_test_split\n",
    "from sklearn.tree import DecisionTreeRegressor"
   ]
  },
  {
   "cell_type": "markdown",
   "id": "98c665ed",
   "metadata": {},
   "source": [
    "### Загрузим и изучим данные"
   ]
  },
  {
   "cell_type": "markdown",
   "id": "628abc69",
   "metadata": {},
   "source": [
    "Загрузим данные"
   ]
  },
  {
   "cell_type": "code",
   "execution_count": 2,
   "id": "ea6ff53b",
   "metadata": {
    "scrolled": false
   },
   "outputs": [],
   "source": [
    "autos = pd.read_csv('./datasets/autos.csv')"
   ]
  },
  {
   "cell_type": "code",
   "execution_count": 3,
   "id": "6b3abfd5",
   "metadata": {
    "scrolled": false
   },
   "outputs": [
    {
     "name": "stdout",
     "output_type": "stream",
     "text": [
      "<class 'pandas.core.frame.DataFrame'>\n",
      "RangeIndex: 354369 entries, 0 to 354368\n",
      "Data columns (total 16 columns):\n",
      " #   Column             Non-Null Count   Dtype \n",
      "---  ------             --------------   ----- \n",
      " 0   DateCrawled        354369 non-null  object\n",
      " 1   Price              354369 non-null  int64 \n",
      " 2   VehicleType        316879 non-null  object\n",
      " 3   RegistrationYear   354369 non-null  int64 \n",
      " 4   Gearbox            334536 non-null  object\n",
      " 5   Power              354369 non-null  int64 \n",
      " 6   Model              334664 non-null  object\n",
      " 7   Kilometer          354369 non-null  int64 \n",
      " 8   RegistrationMonth  354369 non-null  int64 \n",
      " 9   FuelType           321474 non-null  object\n",
      " 10  Brand              354369 non-null  object\n",
      " 11  NotRepaired        283215 non-null  object\n",
      " 12  DateCreated        354369 non-null  object\n",
      " 13  NumberOfPictures   354369 non-null  int64 \n",
      " 14  PostalCode         354369 non-null  int64 \n",
      " 15  LastSeen           354369 non-null  object\n",
      "dtypes: int64(7), object(9)\n",
      "memory usage: 43.3+ MB\n"
     ]
    },
    {
     "data": {
      "text/html": [
       "<div>\n",
       "<style scoped>\n",
       "    .dataframe tbody tr th:only-of-type {\n",
       "        vertical-align: middle;\n",
       "    }\n",
       "\n",
       "    .dataframe tbody tr th {\n",
       "        vertical-align: top;\n",
       "    }\n",
       "\n",
       "    .dataframe thead th {\n",
       "        text-align: right;\n",
       "    }\n",
       "</style>\n",
       "<table border=\"1\" class=\"dataframe\">\n",
       "  <thead>\n",
       "    <tr style=\"text-align: right;\">\n",
       "      <th></th>\n",
       "      <th>DateCrawled</th>\n",
       "      <th>Price</th>\n",
       "      <th>VehicleType</th>\n",
       "      <th>RegistrationYear</th>\n",
       "      <th>Gearbox</th>\n",
       "      <th>Power</th>\n",
       "      <th>Model</th>\n",
       "      <th>Kilometer</th>\n",
       "      <th>RegistrationMonth</th>\n",
       "      <th>FuelType</th>\n",
       "      <th>Brand</th>\n",
       "      <th>NotRepaired</th>\n",
       "      <th>DateCreated</th>\n",
       "      <th>NumberOfPictures</th>\n",
       "      <th>PostalCode</th>\n",
       "      <th>LastSeen</th>\n",
       "    </tr>\n",
       "  </thead>\n",
       "  <tbody>\n",
       "    <tr>\n",
       "      <th>0</th>\n",
       "      <td>2016-03-24 11:52:17</td>\n",
       "      <td>480</td>\n",
       "      <td>NaN</td>\n",
       "      <td>1993</td>\n",
       "      <td>manual</td>\n",
       "      <td>0</td>\n",
       "      <td>golf</td>\n",
       "      <td>150000</td>\n",
       "      <td>0</td>\n",
       "      <td>petrol</td>\n",
       "      <td>volkswagen</td>\n",
       "      <td>NaN</td>\n",
       "      <td>2016-03-24 00:00:00</td>\n",
       "      <td>0</td>\n",
       "      <td>70435</td>\n",
       "      <td>2016-04-07 03:16:57</td>\n",
       "    </tr>\n",
       "    <tr>\n",
       "      <th>1</th>\n",
       "      <td>2016-03-24 10:58:45</td>\n",
       "      <td>18300</td>\n",
       "      <td>coupe</td>\n",
       "      <td>2011</td>\n",
       "      <td>manual</td>\n",
       "      <td>190</td>\n",
       "      <td>NaN</td>\n",
       "      <td>125000</td>\n",
       "      <td>5</td>\n",
       "      <td>gasoline</td>\n",
       "      <td>audi</td>\n",
       "      <td>yes</td>\n",
       "      <td>2016-03-24 00:00:00</td>\n",
       "      <td>0</td>\n",
       "      <td>66954</td>\n",
       "      <td>2016-04-07 01:46:50</td>\n",
       "    </tr>\n",
       "    <tr>\n",
       "      <th>2</th>\n",
       "      <td>2016-03-14 12:52:21</td>\n",
       "      <td>9800</td>\n",
       "      <td>suv</td>\n",
       "      <td>2004</td>\n",
       "      <td>auto</td>\n",
       "      <td>163</td>\n",
       "      <td>grand</td>\n",
       "      <td>125000</td>\n",
       "      <td>8</td>\n",
       "      <td>gasoline</td>\n",
       "      <td>jeep</td>\n",
       "      <td>NaN</td>\n",
       "      <td>2016-03-14 00:00:00</td>\n",
       "      <td>0</td>\n",
       "      <td>90480</td>\n",
       "      <td>2016-04-05 12:47:46</td>\n",
       "    </tr>\n",
       "    <tr>\n",
       "      <th>3</th>\n",
       "      <td>2016-03-17 16:54:04</td>\n",
       "      <td>1500</td>\n",
       "      <td>small</td>\n",
       "      <td>2001</td>\n",
       "      <td>manual</td>\n",
       "      <td>75</td>\n",
       "      <td>golf</td>\n",
       "      <td>150000</td>\n",
       "      <td>6</td>\n",
       "      <td>petrol</td>\n",
       "      <td>volkswagen</td>\n",
       "      <td>no</td>\n",
       "      <td>2016-03-17 00:00:00</td>\n",
       "      <td>0</td>\n",
       "      <td>91074</td>\n",
       "      <td>2016-03-17 17:40:17</td>\n",
       "    </tr>\n",
       "    <tr>\n",
       "      <th>4</th>\n",
       "      <td>2016-03-31 17:25:20</td>\n",
       "      <td>3600</td>\n",
       "      <td>small</td>\n",
       "      <td>2008</td>\n",
       "      <td>manual</td>\n",
       "      <td>69</td>\n",
       "      <td>fabia</td>\n",
       "      <td>90000</td>\n",
       "      <td>7</td>\n",
       "      <td>gasoline</td>\n",
       "      <td>skoda</td>\n",
       "      <td>no</td>\n",
       "      <td>2016-03-31 00:00:00</td>\n",
       "      <td>0</td>\n",
       "      <td>60437</td>\n",
       "      <td>2016-04-06 10:17:21</td>\n",
       "    </tr>\n",
       "  </tbody>\n",
       "</table>\n",
       "</div>"
      ],
      "text/plain": [
       "           DateCrawled  Price VehicleType  RegistrationYear Gearbox  Power  \\\n",
       "0  2016-03-24 11:52:17    480         NaN              1993  manual      0   \n",
       "1  2016-03-24 10:58:45  18300       coupe              2011  manual    190   \n",
       "2  2016-03-14 12:52:21   9800         suv              2004    auto    163   \n",
       "3  2016-03-17 16:54:04   1500       small              2001  manual     75   \n",
       "4  2016-03-31 17:25:20   3600       small              2008  manual     69   \n",
       "\n",
       "   Model  Kilometer  RegistrationMonth  FuelType       Brand NotRepaired  \\\n",
       "0   golf     150000                  0    petrol  volkswagen         NaN   \n",
       "1    NaN     125000                  5  gasoline        audi         yes   \n",
       "2  grand     125000                  8  gasoline        jeep         NaN   \n",
       "3   golf     150000                  6    petrol  volkswagen          no   \n",
       "4  fabia      90000                  7  gasoline       skoda          no   \n",
       "\n",
       "           DateCreated  NumberOfPictures  PostalCode             LastSeen  \n",
       "0  2016-03-24 00:00:00                 0       70435  2016-04-07 03:16:57  \n",
       "1  2016-03-24 00:00:00                 0       66954  2016-04-07 01:46:50  \n",
       "2  2016-03-14 00:00:00                 0       90480  2016-04-05 12:47:46  \n",
       "3  2016-03-17 00:00:00                 0       91074  2016-03-17 17:40:17  \n",
       "4  2016-03-31 00:00:00                 0       60437  2016-04-06 10:17:21  "
      ]
     },
     "execution_count": 3,
     "metadata": {},
     "output_type": "execute_result"
    }
   ],
   "source": [
    "autos.info()\n",
    "autos.head()"
   ]
  },
  {
   "cell_type": "code",
   "execution_count": 4,
   "id": "ed3cde1c",
   "metadata": {
    "scrolled": false
   },
   "outputs": [
    {
     "data": {
      "text/html": [
       "<div>\n",
       "<style scoped>\n",
       "    .dataframe tbody tr th:only-of-type {\n",
       "        vertical-align: middle;\n",
       "    }\n",
       "\n",
       "    .dataframe tbody tr th {\n",
       "        vertical-align: top;\n",
       "    }\n",
       "\n",
       "    .dataframe thead th {\n",
       "        text-align: right;\n",
       "    }\n",
       "</style>\n",
       "<table border=\"1\" class=\"dataframe\">\n",
       "  <thead>\n",
       "    <tr style=\"text-align: right;\">\n",
       "      <th></th>\n",
       "      <th>Price</th>\n",
       "      <th>RegistrationYear</th>\n",
       "      <th>Power</th>\n",
       "      <th>Kilometer</th>\n",
       "      <th>RegistrationMonth</th>\n",
       "      <th>NumberOfPictures</th>\n",
       "      <th>PostalCode</th>\n",
       "    </tr>\n",
       "  </thead>\n",
       "  <tbody>\n",
       "    <tr>\n",
       "      <th>count</th>\n",
       "      <td>354369.000000</td>\n",
       "      <td>354369.000000</td>\n",
       "      <td>354369.000000</td>\n",
       "      <td>354369.000000</td>\n",
       "      <td>354369.000000</td>\n",
       "      <td>354369.0</td>\n",
       "      <td>354369.000000</td>\n",
       "    </tr>\n",
       "    <tr>\n",
       "      <th>mean</th>\n",
       "      <td>4416.656776</td>\n",
       "      <td>2004.234448</td>\n",
       "      <td>110.094337</td>\n",
       "      <td>128211.172535</td>\n",
       "      <td>5.714645</td>\n",
       "      <td>0.0</td>\n",
       "      <td>50508.689087</td>\n",
       "    </tr>\n",
       "    <tr>\n",
       "      <th>std</th>\n",
       "      <td>4514.158514</td>\n",
       "      <td>90.227958</td>\n",
       "      <td>189.850405</td>\n",
       "      <td>37905.341530</td>\n",
       "      <td>3.726421</td>\n",
       "      <td>0.0</td>\n",
       "      <td>25783.096248</td>\n",
       "    </tr>\n",
       "    <tr>\n",
       "      <th>min</th>\n",
       "      <td>0.000000</td>\n",
       "      <td>1000.000000</td>\n",
       "      <td>0.000000</td>\n",
       "      <td>5000.000000</td>\n",
       "      <td>0.000000</td>\n",
       "      <td>0.0</td>\n",
       "      <td>1067.000000</td>\n",
       "    </tr>\n",
       "    <tr>\n",
       "      <th>25%</th>\n",
       "      <td>1050.000000</td>\n",
       "      <td>1999.000000</td>\n",
       "      <td>69.000000</td>\n",
       "      <td>125000.000000</td>\n",
       "      <td>3.000000</td>\n",
       "      <td>0.0</td>\n",
       "      <td>30165.000000</td>\n",
       "    </tr>\n",
       "    <tr>\n",
       "      <th>50%</th>\n",
       "      <td>2700.000000</td>\n",
       "      <td>2003.000000</td>\n",
       "      <td>105.000000</td>\n",
       "      <td>150000.000000</td>\n",
       "      <td>6.000000</td>\n",
       "      <td>0.0</td>\n",
       "      <td>49413.000000</td>\n",
       "    </tr>\n",
       "    <tr>\n",
       "      <th>75%</th>\n",
       "      <td>6400.000000</td>\n",
       "      <td>2008.000000</td>\n",
       "      <td>143.000000</td>\n",
       "      <td>150000.000000</td>\n",
       "      <td>9.000000</td>\n",
       "      <td>0.0</td>\n",
       "      <td>71083.000000</td>\n",
       "    </tr>\n",
       "    <tr>\n",
       "      <th>max</th>\n",
       "      <td>20000.000000</td>\n",
       "      <td>9999.000000</td>\n",
       "      <td>20000.000000</td>\n",
       "      <td>150000.000000</td>\n",
       "      <td>12.000000</td>\n",
       "      <td>0.0</td>\n",
       "      <td>99998.000000</td>\n",
       "    </tr>\n",
       "  </tbody>\n",
       "</table>\n",
       "</div>"
      ],
      "text/plain": [
       "               Price  RegistrationYear          Power      Kilometer  \\\n",
       "count  354369.000000     354369.000000  354369.000000  354369.000000   \n",
       "mean     4416.656776       2004.234448     110.094337  128211.172535   \n",
       "std      4514.158514         90.227958     189.850405   37905.341530   \n",
       "min         0.000000       1000.000000       0.000000    5000.000000   \n",
       "25%      1050.000000       1999.000000      69.000000  125000.000000   \n",
       "50%      2700.000000       2003.000000     105.000000  150000.000000   \n",
       "75%      6400.000000       2008.000000     143.000000  150000.000000   \n",
       "max     20000.000000       9999.000000   20000.000000  150000.000000   \n",
       "\n",
       "       RegistrationMonth  NumberOfPictures     PostalCode  \n",
       "count      354369.000000          354369.0  354369.000000  \n",
       "mean            5.714645               0.0   50508.689087  \n",
       "std             3.726421               0.0   25783.096248  \n",
       "min             0.000000               0.0    1067.000000  \n",
       "25%             3.000000               0.0   30165.000000  \n",
       "50%             6.000000               0.0   49413.000000  \n",
       "75%             9.000000               0.0   71083.000000  \n",
       "max            12.000000               0.0   99998.000000  "
      ]
     },
     "execution_count": 4,
     "metadata": {},
     "output_type": "execute_result"
    }
   ],
   "source": [
    "autos.describe()"
   ]
  },
  {
   "cell_type": "code",
   "execution_count": 5,
   "id": "b6754222",
   "metadata": {
    "scrolled": false
   },
   "outputs": [
    {
     "data": {
      "text/html": [
       "<div>\n",
       "<style scoped>\n",
       "    .dataframe tbody tr th:only-of-type {\n",
       "        vertical-align: middle;\n",
       "    }\n",
       "\n",
       "    .dataframe tbody tr th {\n",
       "        vertical-align: top;\n",
       "    }\n",
       "\n",
       "    .dataframe thead th {\n",
       "        text-align: right;\n",
       "    }\n",
       "</style>\n",
       "<table border=\"1\" class=\"dataframe\">\n",
       "  <thead>\n",
       "    <tr style=\"text-align: right;\">\n",
       "      <th></th>\n",
       "      <th>Price</th>\n",
       "      <th>RegistrationYear</th>\n",
       "      <th>Power</th>\n",
       "      <th>Kilometer</th>\n",
       "      <th>RegistrationMonth</th>\n",
       "      <th>NumberOfPictures</th>\n",
       "      <th>PostalCode</th>\n",
       "    </tr>\n",
       "  </thead>\n",
       "  <tbody>\n",
       "    <tr>\n",
       "      <th>Price</th>\n",
       "      <td>1.000000</td>\n",
       "      <td>0.026916</td>\n",
       "      <td>0.158872</td>\n",
       "      <td>-0.333199</td>\n",
       "      <td>0.110581</td>\n",
       "      <td>NaN</td>\n",
       "      <td>0.076055</td>\n",
       "    </tr>\n",
       "    <tr>\n",
       "      <th>RegistrationYear</th>\n",
       "      <td>0.026916</td>\n",
       "      <td>1.000000</td>\n",
       "      <td>-0.000828</td>\n",
       "      <td>-0.053447</td>\n",
       "      <td>-0.011619</td>\n",
       "      <td>NaN</td>\n",
       "      <td>-0.003459</td>\n",
       "    </tr>\n",
       "    <tr>\n",
       "      <th>Power</th>\n",
       "      <td>0.158872</td>\n",
       "      <td>-0.000828</td>\n",
       "      <td>1.000000</td>\n",
       "      <td>0.024002</td>\n",
       "      <td>0.043380</td>\n",
       "      <td>NaN</td>\n",
       "      <td>0.021665</td>\n",
       "    </tr>\n",
       "    <tr>\n",
       "      <th>Kilometer</th>\n",
       "      <td>-0.333199</td>\n",
       "      <td>-0.053447</td>\n",
       "      <td>0.024002</td>\n",
       "      <td>1.000000</td>\n",
       "      <td>0.009571</td>\n",
       "      <td>NaN</td>\n",
       "      <td>-0.007698</td>\n",
       "    </tr>\n",
       "    <tr>\n",
       "      <th>RegistrationMonth</th>\n",
       "      <td>0.110581</td>\n",
       "      <td>-0.011619</td>\n",
       "      <td>0.043380</td>\n",
       "      <td>0.009571</td>\n",
       "      <td>1.000000</td>\n",
       "      <td>NaN</td>\n",
       "      <td>0.013995</td>\n",
       "    </tr>\n",
       "    <tr>\n",
       "      <th>NumberOfPictures</th>\n",
       "      <td>NaN</td>\n",
       "      <td>NaN</td>\n",
       "      <td>NaN</td>\n",
       "      <td>NaN</td>\n",
       "      <td>NaN</td>\n",
       "      <td>NaN</td>\n",
       "      <td>NaN</td>\n",
       "    </tr>\n",
       "    <tr>\n",
       "      <th>PostalCode</th>\n",
       "      <td>0.076055</td>\n",
       "      <td>-0.003459</td>\n",
       "      <td>0.021665</td>\n",
       "      <td>-0.007698</td>\n",
       "      <td>0.013995</td>\n",
       "      <td>NaN</td>\n",
       "      <td>1.000000</td>\n",
       "    </tr>\n",
       "  </tbody>\n",
       "</table>\n",
       "</div>"
      ],
      "text/plain": [
       "                      Price  RegistrationYear     Power  Kilometer  \\\n",
       "Price              1.000000          0.026916  0.158872  -0.333199   \n",
       "RegistrationYear   0.026916          1.000000 -0.000828  -0.053447   \n",
       "Power              0.158872         -0.000828  1.000000   0.024002   \n",
       "Kilometer         -0.333199         -0.053447  0.024002   1.000000   \n",
       "RegistrationMonth  0.110581         -0.011619  0.043380   0.009571   \n",
       "NumberOfPictures        NaN               NaN       NaN        NaN   \n",
       "PostalCode         0.076055         -0.003459  0.021665  -0.007698   \n",
       "\n",
       "                   RegistrationMonth  NumberOfPictures  PostalCode  \n",
       "Price                       0.110581               NaN    0.076055  \n",
       "RegistrationYear           -0.011619               NaN   -0.003459  \n",
       "Power                       0.043380               NaN    0.021665  \n",
       "Kilometer                   0.009571               NaN   -0.007698  \n",
       "RegistrationMonth           1.000000               NaN    0.013995  \n",
       "NumberOfPictures                 NaN               NaN         NaN  \n",
       "PostalCode                  0.013995               NaN    1.000000  "
      ]
     },
     "execution_count": 5,
     "metadata": {},
     "output_type": "execute_result"
    }
   ],
   "source": [
    "autos.corr()"
   ]
  },
  {
   "cell_type": "markdown",
   "id": "800f7580",
   "metadata": {},
   "source": [
    "### Явные дубликаты"
   ]
  },
  {
   "cell_type": "markdown",
   "id": "c6d2b3f2",
   "metadata": {},
   "source": [
    "Посмотрим имеются ли явные дубликаты "
   ]
  },
  {
   "cell_type": "code",
   "execution_count": 6,
   "id": "c37d4770",
   "metadata": {},
   "outputs": [
    {
     "data": {
      "text/plain": [
       "4"
      ]
     },
     "execution_count": 6,
     "metadata": {},
     "output_type": "execute_result"
    }
   ],
   "source": [
    "autos.duplicated().sum()"
   ]
  },
  {
   "cell_type": "markdown",
   "id": "55cdc064",
   "metadata": {},
   "source": [
    "Удалим их"
   ]
  },
  {
   "cell_type": "code",
   "execution_count": 7,
   "id": "2d0eb21a",
   "metadata": {},
   "outputs": [],
   "source": [
    "autos = autos.drop_duplicates().reset_index(drop=True)"
   ]
  },
  {
   "cell_type": "markdown",
   "id": "5d9b513d",
   "metadata": {},
   "source": [
    "### Столбец \"Price\""
   ]
  },
  {
   "cell_type": "markdown",
   "id": "22128c0b",
   "metadata": {},
   "source": [
    "В столбце \"Price\", имеются строки с нулевой суммой. Посмотрим на данные подробнее"
   ]
  },
  {
   "cell_type": "code",
   "execution_count": 8,
   "id": "9d37099c",
   "metadata": {},
   "outputs": [
    {
     "data": {
      "image/png": "[encoded data removed]",
      "text/plain": [
       "<Figure size 648x288 with 1 Axes>"
      ]
     },
     "metadata": {
      "needs_background": "light"
     },
     "output_type": "display_data"
    }
   ],
   "source": [
    "fig,ax = plt.subplots(figsize = (9,4))\n",
    "autos['Price'].hist()\n",
    "ax.set_xlabel('Цена (евро)')\n",
    "ax.set_ylabel('Количество')\n",
    "ax.set_title('Цена автомобиля', fontsize=15)\n",
    "ax.grid(True)"
   ]
  },
  {
   "cell_type": "code",
   "execution_count": 9,
   "id": "16a0c322",
   "metadata": {},
   "outputs": [
    {
     "data": {
      "image/png": "[encoded data removed]",
      "text/plain": [
       "<Figure size 648x288 with 1 Axes>"
      ]
     },
     "metadata": {
      "needs_background": "light"
     },
     "output_type": "display_data"
    }
   ],
   "source": [
    "fig,ax = plt.subplots(figsize = (9,4))\n",
    "autos.query('Price < 300')['Price'].hist()\n",
    "ax.set_xlabel('Цена (евро)')\n",
    "ax.set_ylabel('Количество')\n",
    "ax.set_title('Цена автомобиля', fontsize=15)\n",
    "ax.grid(True)"
   ]
  },
  {
   "cell_type": "markdown",
   "id": "482d798d",
   "metadata": {},
   "source": [
    "Как видно более 12000 записей с ценной до 25 евро. Возьмем минимальную цену за авто 200 евро, возможно некоторые авто после аварии и восстановлению не подлежат, поэтому за них просят не большие суммы. Максимальную цену трогать не будем, т.к. очень много спортивных и ретро-автомобилей, которые стоят даже намного дороже."
   ]
  },
  {
   "cell_type": "code",
   "execution_count": 10,
   "id": "d24006df",
   "metadata": {},
   "outputs": [],
   "source": [
    "autos.query('Price >= 250', inplace=True)"
   ]
  },
  {
   "cell_type": "code",
   "execution_count": 11,
   "id": "321495b5",
   "metadata": {},
   "outputs": [
    {
     "data": {
      "text/plain": [
       "DateCrawled              0\n",
       "Price                    0\n",
       "VehicleType          30731\n",
       "RegistrationYear         0\n",
       "Gearbox              15208\n",
       "Power                    0\n",
       "Model                16313\n",
       "Kilometer                0\n",
       "RegistrationMonth        0\n",
       "FuelType             26626\n",
       "Brand                    0\n",
       "NotRepaired          61372\n",
       "DateCreated              0\n",
       "NumberOfPictures         0\n",
       "PostalCode               0\n",
       "LastSeen                 0\n",
       "dtype: int64"
      ]
     },
     "execution_count": 11,
     "metadata": {},
     "output_type": "execute_result"
    }
   ],
   "source": [
    "autos.isna().sum()"
   ]
  },
  {
   "cell_type": "markdown",
   "id": "a931d903",
   "metadata": {},
   "source": [
    "### Столбец \"VehicleType\""
   ]
  },
  {
   "cell_type": "code",
   "execution_count": 12,
   "id": "d7585bc7",
   "metadata": {
    "scrolled": true
   },
   "outputs": [
    {
     "data": {
      "text/plain": [
       "<AxesSubplot:>"
      ]
     },
     "execution_count": 12,
     "metadata": {},
     "output_type": "execute_result"
    },
    {
     "data": {
      "image/png": "[encoded data removed]",
      "text/plain": [
       "<Figure size 432x288 with 1 Axes>"
      ]
     },
     "metadata": {
      "needs_background": "light"
     },
     "output_type": "display_data"
    }
   ],
   "source": [
    "autos['VehicleType'].hist()"
   ]
  },
  {
   "cell_type": "markdown",
   "id": "9ca31013",
   "metadata": {},
   "source": [
    "В столбце **\"VehicleType\"**, 30,7 тыс. пропущенных значений, что составляет 9% от всех данных.  Заменим пустые значения на **\"other\"**, т.к. у одной и той же модели автомобиля может быть разные типы кузовов. "
   ]
  },
  {
   "cell_type": "code",
   "execution_count": 13,
   "id": "d55635a5",
   "metadata": {},
   "outputs": [],
   "source": [
    "autos['VehicleType'] = autos['VehicleType'].fillna('other')"
   ]
  },
  {
   "cell_type": "markdown",
   "id": "73fca14e",
   "metadata": {},
   "source": [
    "\n",
    "\n",
    "### Столбец \"RegistrationYear\""
   ]
  },
  {
   "cell_type": "markdown",
   "id": "c6338c63",
   "metadata": {},
   "source": [
    "В столбце года регистрации автомобиля имеются большие выбросы, где минимальное и максимальное значения 1000 и 9999 соответственно. Для начала ограничим минимальную дату регистрации 1950 годом, а максимальную 2030, т.к. тип данных datetime64, ограничен 584 годами и в дальнейшем не было ошибок. Минимальную дату в дальнейшем менять не будем и оставим. Максимальную дату возьмем из расчета, что регистрация автомобиля (год и месяц регистрации автомобиля) меньше даты создания анкеты."
   ]
  },
  {
   "cell_type": "code",
   "execution_count": 14,
   "id": "4f266e02",
   "metadata": {},
   "outputs": [],
   "source": [
    "autos.query('1950 < RegistrationYear < 2030', inplace=True)"
   ]
  },
  {
   "cell_type": "code",
   "execution_count": 15,
   "id": "6020de3a",
   "metadata": {
    "scrolled": true
   },
   "outputs": [
    {
     "name": "stdout",
     "output_type": "stream",
     "text": [
      "CPU times: user 5min 17s, sys: 2.07 s, total: 5min 19s\n",
      "Wall time: 5min 21s\n"
     ]
    }
   ],
   "source": [
    "%%time\n",
    "\n",
    "def date_registration(df):\n",
    "    if df['RegistrationMonth'] == 0:\n",
    "        st_new = pd.to_datetime(df['RegistrationYear'])\n",
    "        return pd.to_datetime(df['DateCreated'], format='%Y-%m') - st_new\n",
    "    else:\n",
    "        st_new = pd.to_datetime(df[['RegistrationYear','RegistrationMonth']].astype(str).add(' ').sum())\n",
    "        return pd.to_datetime(df['DateCreated'], format='%Y-%m') - st_new\n",
    "        \n",
    "autos['date'] = autos.apply(date_registration, axis=1)"
   ]
  },
  {
   "cell_type": "code",
   "execution_count": 16,
   "id": "96a4351d",
   "metadata": {},
   "outputs": [],
   "source": [
    "autos.query('date >= \"0 days\"', inplace=True)"
   ]
  },
  {
   "cell_type": "code",
   "execution_count": 17,
   "id": "198df21f",
   "metadata": {},
   "outputs": [
    {
     "name": "stdout",
     "output_type": "stream",
     "text": [
      "<class 'pandas.core.frame.DataFrame'>\n",
      "Int64Index: 319252 entries, 0 to 354364\n",
      "Data columns (total 17 columns):\n",
      " #   Column             Non-Null Count   Dtype          \n",
      "---  ------             --------------   -----          \n",
      " 0   DateCrawled        319252 non-null  object         \n",
      " 1   Price              319252 non-null  int64          \n",
      " 2   VehicleType        319252 non-null  object         \n",
      " 3   RegistrationYear   319252 non-null  int64          \n",
      " 4   Gearbox            305408 non-null  object         \n",
      " 5   Power              319252 non-null  int64          \n",
      " 6   Model              304832 non-null  object         \n",
      " 7   Kilometer          319252 non-null  int64          \n",
      " 8   RegistrationMonth  319252 non-null  int64          \n",
      " 9   FuelType           298495 non-null  object         \n",
      " 10  Brand              319252 non-null  object         \n",
      " 11  NotRepaired        263836 non-null  object         \n",
      " 12  DateCreated        319252 non-null  object         \n",
      " 13  NumberOfPictures   319252 non-null  int64          \n",
      " 14  PostalCode         319252 non-null  int64          \n",
      " 15  LastSeen           319252 non-null  object         \n",
      " 16  date               319252 non-null  timedelta64[ns]\n",
      "dtypes: int64(7), object(9), timedelta64[ns](1)\n",
      "memory usage: 43.8+ MB\n"
     ]
    }
   ],
   "source": [
    "autos.info()"
   ]
  },
  {
   "cell_type": "markdown",
   "id": "c51c8e13",
   "metadata": {},
   "source": [
    "### Столбец \"Gearbox\""
   ]
  },
  {
   "cell_type": "markdown",
   "id": "ce32b6e2",
   "metadata": {},
   "source": [
    "В столбце типа коробки передач, более 13000 пропущенных значений. Т.к. одна и та же марка автомобиля может иметь как ручную, так и автоматическую коробку передач, то заменим данные на “unknown”."
   ]
  },
  {
   "cell_type": "code",
   "execution_count": 18,
   "id": "f7b848ff",
   "metadata": {},
   "outputs": [],
   "source": [
    "autos['Gearbox'] = autos['Gearbox'].fillna('unknown')"
   ]
  },
  {
   "cell_type": "code",
   "execution_count": 19,
   "id": "7e0a6efd",
   "metadata": {},
   "outputs": [
    {
     "data": {
      "text/plain": [
       "<AxesSubplot:>"
      ]
     },
     "execution_count": 19,
     "metadata": {},
     "output_type": "execute_result"
    },
    {
     "data": {
      "image/png": "[encoded data removed]",
      "text/plain": [
       "<Figure size 432x288 with 1 Axes>"
      ]
     },
     "metadata": {
      "needs_background": "light"
     },
     "output_type": "display_data"
    }
   ],
   "source": [
    "autos['Gearbox'].hist()"
   ]
  },
  {
   "cell_type": "markdown",
   "id": "05e86acc",
   "metadata": {},
   "source": [
    "### Столбец \"Power\""
   ]
  },
  {
   "cell_type": "markdown",
   "id": "3c0579ef",
   "metadata": {},
   "source": [
    "В столбце мощности автомобиля минимальные и максимальные значения равны 0 и 20000 л.с. соответственно, что не соответствует действительности. Возьмем минимальную мощность автомобиля 5 л.с., такая мощность у автомобиля \"Renault Twizy\" в Европе. Максимальную мощность - 2000 л.с., как у самого мощного суперкара"
   ]
  },
  {
   "cell_type": "code",
   "execution_count": 20,
   "id": "f7e1b693",
   "metadata": {},
   "outputs": [],
   "source": [
    "autos.query('5 <= Power <= 2000', inplace=True)"
   ]
  },
  {
   "cell_type": "markdown",
   "id": "3b830d3a",
   "metadata": {},
   "source": [
    "### Столбец \"Model\""
   ]
  },
  {
   "cell_type": "code",
   "execution_count": 21,
   "id": "3379ee7b",
   "metadata": {},
   "outputs": [
    {
     "data": {
      "text/plain": [
       "10550"
      ]
     },
     "execution_count": 21,
     "metadata": {},
     "output_type": "execute_result"
    }
   ],
   "source": [
    "autos['Model'].isna().sum()"
   ]
  },
  {
   "cell_type": "code",
   "execution_count": 22,
   "id": "6b52d61d",
   "metadata": {
    "scrolled": true
   },
   "outputs": [
    {
     "data": {
      "text/plain": [
       "golf                  24132\n",
       "other                 20012\n",
       "3er                   17199\n",
       "polo                  10106\n",
       "corsa                  9431\n",
       "                      ...  \n",
       "kalina                    5\n",
       "elefantino                5\n",
       "serie_3                   3\n",
       "range_rover_evoque        2\n",
       "rangerover                2\n",
       "Name: Model, Length: 249, dtype: int64"
      ]
     },
     "execution_count": 22,
     "metadata": {},
     "output_type": "execute_result"
    }
   ],
   "source": [
    "autos['Model'].value_counts()"
   ]
  },
  {
   "cell_type": "markdown",
   "id": "c7eff944",
   "metadata": {},
   "source": [
    "В данных о моделях автомобилей 10550 пропущенных значений. Т.к. это один из основных параметров, влияющих на цену автомобиля, то удалим все пропущенные значения"
   ]
  },
  {
   "cell_type": "code",
   "execution_count": 23,
   "id": "e35a944c",
   "metadata": {},
   "outputs": [],
   "source": [
    "autos.dropna(subset=['Model'], inplace=True)"
   ]
  },
  {
   "cell_type": "markdown",
   "id": "d3b8d034",
   "metadata": {},
   "source": [
    "### Столбец \"FuelType\""
   ]
  },
  {
   "cell_type": "code",
   "execution_count": 24,
   "id": "0f79ac46",
   "metadata": {},
   "outputs": [
    {
     "data": {
      "text/plain": [
       "<AxesSubplot:>"
      ]
     },
     "execution_count": 24,
     "metadata": {},
     "output_type": "execute_result"
    },
    {
     "data": {
      "image/png": "[encoded data removed]",
      "text/plain": [
       "<Figure size 432x288 with 1 Axes>"
      ]
     },
     "metadata": {
      "needs_background": "light"
     },
     "output_type": "display_data"
    }
   ],
   "source": [
    "autos['FuelType'].hist()"
   ]
  },
  {
   "cell_type": "code",
   "execution_count": 25,
   "id": "550cdd35",
   "metadata": {},
   "outputs": [
    {
     "data": {
      "text/plain": [
       "11331"
      ]
     },
     "execution_count": 25,
     "metadata": {},
     "output_type": "execute_result"
    }
   ],
   "source": [
    "autos['FuelType'].isna().sum()"
   ]
  },
  {
   "cell_type": "markdown",
   "id": "2b532ce2",
   "metadata": {},
   "source": [
    "В данных о типе топлива, более 11000 пропущенных значений. Заменим данные пропуски на “other”."
   ]
  },
  {
   "cell_type": "code",
   "execution_count": 26,
   "id": "a3d6aec3",
   "metadata": {},
   "outputs": [],
   "source": [
    "autos['FuelType'] = autos['FuelType'].fillna('other')"
   ]
  },
  {
   "cell_type": "markdown",
   "id": "446d5fbb",
   "metadata": {},
   "source": [
    "### Столбец \"NotRepaired\""
   ]
  },
  {
   "cell_type": "markdown",
   "id": "646fc0b2",
   "metadata": {},
   "source": [
    "В столбце \"NotRepaired\", очень много пропущенных значений, заменим данные пропуски на “unknown”."
   ]
  },
  {
   "cell_type": "code",
   "execution_count": 27,
   "id": "aeac635f",
   "metadata": {},
   "outputs": [],
   "source": [
    "autos['NotRepaired'] = autos['NotRepaired'].fillna('unknown')"
   ]
  },
  {
   "cell_type": "markdown",
   "id": "21128962",
   "metadata": {},
   "source": [
    "### Удаление столбцов."
   ]
  },
  {
   "cell_type": "markdown",
   "id": "d7c679fc",
   "metadata": {},
   "source": [
    "Удалим столбцы, которые не пригодятся нам для анализа"
   ]
  },
  {
   "cell_type": "code",
   "execution_count": 28,
   "id": "49978744",
   "metadata": {},
   "outputs": [],
   "source": [
    "autos.drop(['DateCrawled', 'RegistrationMonth', 'DateCreated', 'NumberOfPictures', 'PostalCode', 'LastSeen', 'date'], axis=1, inplace=True)"
   ]
  },
  {
   "cell_type": "code",
   "execution_count": 29,
   "id": "3c60bce8",
   "metadata": {
    "scrolled": false
   },
   "outputs": [
    {
     "data": {
      "text/plain": [
       "Index(['Price', 'VehicleType', 'RegistrationYear', 'Gearbox', 'Power', 'Model',\n",
       "       'Kilometer', 'FuelType', 'Brand', 'NotRepaired'],\n",
       "      dtype='object')"
      ]
     },
     "execution_count": 29,
     "metadata": {},
     "output_type": "execute_result"
    }
   ],
   "source": [
    "autos.columns"
   ]
  },
  {
   "cell_type": "markdown",
   "id": "eefe012a",
   "metadata": {},
   "source": [
    "### Вывод"
   ]
  },
  {
   "cell_type": "code",
   "execution_count": 30,
   "id": "f3236d05",
   "metadata": {
    "scrolled": false
   },
   "outputs": [
    {
     "data": {
      "text/html": [
       "<div>\n",
       "<style scoped>\n",
       "    .dataframe tbody tr th:only-of-type {\n",
       "        vertical-align: middle;\n",
       "    }\n",
       "\n",
       "    .dataframe tbody tr th {\n",
       "        vertical-align: top;\n",
       "    }\n",
       "\n",
       "    .dataframe thead th {\n",
       "        text-align: right;\n",
       "    }\n",
       "</style>\n",
       "<table border=\"1\" class=\"dataframe\">\n",
       "  <thead>\n",
       "    <tr style=\"text-align: right;\">\n",
       "      <th></th>\n",
       "      <th>Price</th>\n",
       "      <th>RegistrationYear</th>\n",
       "      <th>Power</th>\n",
       "      <th>Kilometer</th>\n",
       "    </tr>\n",
       "  </thead>\n",
       "  <tbody>\n",
       "    <tr>\n",
       "      <th>count</th>\n",
       "      <td>278994.000000</td>\n",
       "      <td>278994.000000</td>\n",
       "      <td>278994.000000</td>\n",
       "      <td>278994.000000</td>\n",
       "    </tr>\n",
       "    <tr>\n",
       "      <th>mean</th>\n",
       "      <td>4994.246167</td>\n",
       "      <td>2002.950092</td>\n",
       "      <td>122.288189</td>\n",
       "      <td>128117.056281</td>\n",
       "    </tr>\n",
       "    <tr>\n",
       "      <th>std</th>\n",
       "      <td>4618.193676</td>\n",
       "      <td>6.266281</td>\n",
       "      <td>62.437440</td>\n",
       "      <td>36653.714117</td>\n",
       "    </tr>\n",
       "    <tr>\n",
       "      <th>min</th>\n",
       "      <td>250.000000</td>\n",
       "      <td>1951.000000</td>\n",
       "      <td>5.000000</td>\n",
       "      <td>5000.000000</td>\n",
       "    </tr>\n",
       "    <tr>\n",
       "      <th>25%</th>\n",
       "      <td>1450.000000</td>\n",
       "      <td>1999.000000</td>\n",
       "      <td>80.000000</td>\n",
       "      <td>125000.000000</td>\n",
       "    </tr>\n",
       "    <tr>\n",
       "      <th>50%</th>\n",
       "      <td>3350.000000</td>\n",
       "      <td>2003.000000</td>\n",
       "      <td>115.000000</td>\n",
       "      <td>150000.000000</td>\n",
       "    </tr>\n",
       "    <tr>\n",
       "      <th>75%</th>\n",
       "      <td>7200.000000</td>\n",
       "      <td>2007.000000</td>\n",
       "      <td>150.000000</td>\n",
       "      <td>150000.000000</td>\n",
       "    </tr>\n",
       "    <tr>\n",
       "      <th>max</th>\n",
       "      <td>20000.000000</td>\n",
       "      <td>2019.000000</td>\n",
       "      <td>2000.000000</td>\n",
       "      <td>150000.000000</td>\n",
       "    </tr>\n",
       "  </tbody>\n",
       "</table>\n",
       "</div>"
      ],
      "text/plain": [
       "               Price  RegistrationYear          Power      Kilometer\n",
       "count  278994.000000     278994.000000  278994.000000  278994.000000\n",
       "mean     4994.246167       2002.950092     122.288189  128117.056281\n",
       "std      4618.193676          6.266281      62.437440   36653.714117\n",
       "min       250.000000       1951.000000       5.000000    5000.000000\n",
       "25%      1450.000000       1999.000000      80.000000  125000.000000\n",
       "50%      3350.000000       2003.000000     115.000000  150000.000000\n",
       "75%      7200.000000       2007.000000     150.000000  150000.000000\n",
       "max     20000.000000       2019.000000    2000.000000  150000.000000"
      ]
     },
     "execution_count": 30,
     "metadata": {},
     "output_type": "execute_result"
    }
   ],
   "source": [
    "autos.describe()"
   ]
  },
  {
   "cell_type": "markdown",
   "id": "b514cd8e",
   "metadata": {},
   "source": [
    "Изучили данные. Удалили столбцы, которые не потребуется при анализе данных. Избавились от пропущенных и аномальных значений. "
   ]
  },
  {
   "cell_type": "markdown",
   "id": "78e7e657",
   "metadata": {},
   "source": [
    "## Обучение моделей"
   ]
  },
  {
   "cell_type": "markdown",
   "id": "ef2311da",
   "metadata": {},
   "source": [
    "### Прямое кодирование"
   ]
  },
  {
   "cell_type": "markdown",
   "id": "0c3d0455",
   "metadata": {},
   "source": [
    "Подготовим категориальные данные для обучения методом OHE."
   ]
  },
  {
   "cell_type": "code",
   "execution_count": 31,
   "id": "da813cc6",
   "metadata": {},
   "outputs": [],
   "source": [
    "autos_ohe = pd.get_dummies(autos, drop_first=True)"
   ]
  },
  {
   "cell_type": "markdown",
   "id": "5c760caa",
   "metadata": {},
   "source": [
    "### Разобьем данные на выборки"
   ]
  },
  {
   "cell_type": "markdown",
   "id": "2643ecab",
   "metadata": {},
   "source": [
    "Сохраним признаки в переменные **features** и **target**."
   ]
  },
  {
   "cell_type": "code",
   "execution_count": 32,
   "id": "ef69103b",
   "metadata": {},
   "outputs": [],
   "source": [
    "features = autos_ohe.drop(columns=['Price'])\n",
    "target = autos_ohe['Price']"
   ]
  },
  {
   "cell_type": "markdown",
   "id": "f4102d7c",
   "metadata": {},
   "source": [
    "Разделим исходные данные на обучающую, валидационную и тестовую выборки."
   ]
  },
  {
   "cell_type": "code",
   "execution_count": 33,
   "id": "0b9d18f8",
   "metadata": {},
   "outputs": [],
   "source": [
    "features_train, features_valid, target_train, target_valid = train_test_split(\n",
    "    features, target, test_size=0.25, random_state=12345)"
   ]
  },
  {
   "cell_type": "code",
   "execution_count": 34,
   "id": "2bdabb0f",
   "metadata": {},
   "outputs": [
    {
     "name": "stdout",
     "output_type": "stream",
     "text": [
      "Размер обучающей выборки: (209245, 306) (209245,)\n",
      "Размер валидационной выборки: (69749, 306) (69749,)\n"
     ]
    }
   ],
   "source": [
    "print('Размер обучающей выборки:', features_train.shape, target_train.shape)\n",
    "print('Размер валидационной выборки:', features_valid.shape, target_valid.shape)"
   ]
  },
  {
   "cell_type": "markdown",
   "id": "df51b36d",
   "metadata": {},
   "source": [
    "### Дерево решений"
   ]
  },
  {
   "cell_type": "code",
   "execution_count": 35,
   "id": "acd8a6c1",
   "metadata": {},
   "outputs": [
    {
     "name": "stdout",
     "output_type": "stream",
     "text": [
      "Лучшая модель дерева решений:\n",
      "\n",
      "{'criterion': 'mse', 'max_depth': 19, 'random_state': 12345}\n",
      "\n",
      "3619.49 for {'criterion': 'mse', 'max_depth': 1, 'random_state': 12345}\n",
      "3160.00 for {'criterion': 'mse', 'max_depth': 2, 'random_state': 12345}\n",
      "2886.91 for {'criterion': 'mse', 'max_depth': 3, 'random_state': 12345}\n",
      "2590.26 for {'criterion': 'mse', 'max_depth': 4, 'random_state': 12345}\n",
      "2414.92 for {'criterion': 'mse', 'max_depth': 5, 'random_state': 12345}\n",
      "2264.08 for {'criterion': 'mse', 'max_depth': 6, 'random_state': 12345}\n",
      "2166.85 for {'criterion': 'mse', 'max_depth': 7, 'random_state': 12345}\n",
      "2082.57 for {'criterion': 'mse', 'max_depth': 8, 'random_state': 12345}\n",
      "2018.28 for {'criterion': 'mse', 'max_depth': 9, 'random_state': 12345}\n",
      "1966.70 for {'criterion': 'mse', 'max_depth': 10, 'random_state': 12345}\n",
      "1918.12 for {'criterion': 'mse', 'max_depth': 11, 'random_state': 12345}\n",
      "1878.99 for {'criterion': 'mse', 'max_depth': 12, 'random_state': 12345}\n",
      "1853.20 for {'criterion': 'mse', 'max_depth': 13, 'random_state': 12345}\n",
      "1833.79 for {'criterion': 'mse', 'max_depth': 14, 'random_state': 12345}\n",
      "1816.22 for {'criterion': 'mse', 'max_depth': 15, 'random_state': 12345}\n",
      "1809.25 for {'criterion': 'mse', 'max_depth': 16, 'random_state': 12345}\n",
      "1805.44 for {'criterion': 'mse', 'max_depth': 17, 'random_state': 12345}\n",
      "1800.29 for {'criterion': 'mse', 'max_depth': 18, 'random_state': 12345}\n",
      "1797.84 for {'criterion': 'mse', 'max_depth': 19, 'random_state': 12345}\n",
      "1800.07 for {'criterion': 'mse', 'max_depth': 20, 'random_state': 12345}\n",
      "\n",
      "CPU times: user 4min 49s, sys: 22.5 s, total: 5min 11s\n",
      "Wall time: 5min 12s\n"
     ]
    }
   ],
   "source": [
    "%%time\n",
    "\n",
    "regressor = DecisionTreeRegressor() \n",
    "max_depth_list = [x for x in range(1, 21)]\n",
    "hyperparams = [{'criterion':['mse'], 'max_depth':max_depth_list, 'random_state':[12345]}]\n",
    "\n",
    "cv = GridSearchCV(regressor, hyperparams, scoring='neg_mean_squared_error')\n",
    "cv.fit(features_train, target_train)\n",
    "print('Лучшая модель дерева решений:')\n",
    "print()\n",
    "print(cv.best_params_)\n",
    "print()\n",
    "means = cv.cv_results_['mean_test_score']\n",
    "for mean, params in zip(means, cv.cv_results_['params']):\n",
    "    print(\"%0.2f for %s\"% ((mean*-1)** 0.5, params))\n",
    "print()"
   ]
  },
  {
   "cell_type": "markdown",
   "id": "4aa49400",
   "metadata": {},
   "source": [
    "### Случайный лес"
   ]
  },
  {
   "cell_type": "code",
   "execution_count": 36,
   "id": "a92d9156",
   "metadata": {},
   "outputs": [
    {
     "name": "stdout",
     "output_type": "stream",
     "text": [
      "Лучшая модель случайного леса:\n",
      "\n",
      "{'criterion': 'mse', 'max_depth': 10, 'n_estimators': 41, 'random_state': 12345}\n",
      "\n",
      "3619.50 for {'criterion': 'mse', 'max_depth': 1, 'n_estimators': 1, 'random_state': 12345}\n",
      "3619.48 for {'criterion': 'mse', 'max_depth': 1, 'n_estimators': 11, 'random_state': 12345}\n",
      "3619.49 for {'criterion': 'mse', 'max_depth': 1, 'n_estimators': 21, 'random_state': 12345}\n",
      "3619.49 for {'criterion': 'mse', 'max_depth': 1, 'n_estimators': 31, 'random_state': 12345}\n",
      "3619.49 for {'criterion': 'mse', 'max_depth': 1, 'n_estimators': 41, 'random_state': 12345}\n",
      "3159.61 for {'criterion': 'mse', 'max_depth': 2, 'n_estimators': 1, 'random_state': 12345}\n",
      "3158.56 for {'criterion': 'mse', 'max_depth': 2, 'n_estimators': 11, 'random_state': 12345}\n",
      "3158.13 for {'criterion': 'mse', 'max_depth': 2, 'n_estimators': 21, 'random_state': 12345}\n",
      "3158.06 for {'criterion': 'mse', 'max_depth': 2, 'n_estimators': 31, 'random_state': 12345}\n",
      "3158.22 for {'criterion': 'mse', 'max_depth': 2, 'n_estimators': 41, 'random_state': 12345}\n",
      "2889.46 for {'criterion': 'mse', 'max_depth': 3, 'n_estimators': 1, 'random_state': 12345}\n",
      "2846.22 for {'criterion': 'mse', 'max_depth': 3, 'n_estimators': 11, 'random_state': 12345}\n",
      "2845.92 for {'criterion': 'mse', 'max_depth': 3, 'n_estimators': 21, 'random_state': 12345}\n",
      "2843.26 for {'criterion': 'mse', 'max_depth': 3, 'n_estimators': 31, 'random_state': 12345}\n",
      "2844.36 for {'criterion': 'mse', 'max_depth': 3, 'n_estimators': 41, 'random_state': 12345}\n",
      "2583.16 for {'criterion': 'mse', 'max_depth': 4, 'n_estimators': 1, 'random_state': 12345}\n",
      "2513.95 for {'criterion': 'mse', 'max_depth': 4, 'n_estimators': 11, 'random_state': 12345}\n",
      "2517.91 for {'criterion': 'mse', 'max_depth': 4, 'n_estimators': 21, 'random_state': 12345}\n",
      "2515.37 for {'criterion': 'mse', 'max_depth': 4, 'n_estimators': 31, 'random_state': 12345}\n",
      "2517.99 for {'criterion': 'mse', 'max_depth': 4, 'n_estimators': 41, 'random_state': 12345}\n",
      "2413.23 for {'criterion': 'mse', 'max_depth': 5, 'n_estimators': 1, 'random_state': 12345}\n",
      "2345.60 for {'criterion': 'mse', 'max_depth': 5, 'n_estimators': 11, 'random_state': 12345}\n",
      "2348.94 for {'criterion': 'mse', 'max_depth': 5, 'n_estimators': 21, 'random_state': 12345}\n",
      "2347.38 for {'criterion': 'mse', 'max_depth': 5, 'n_estimators': 31, 'random_state': 12345}\n",
      "2348.04 for {'criterion': 'mse', 'max_depth': 5, 'n_estimators': 41, 'random_state': 12345}\n",
      "2269.20 for {'criterion': 'mse', 'max_depth': 6, 'n_estimators': 1, 'random_state': 12345}\n",
      "2210.94 for {'criterion': 'mse', 'max_depth': 6, 'n_estimators': 11, 'random_state': 12345}\n",
      "2210.37 for {'criterion': 'mse', 'max_depth': 6, 'n_estimators': 21, 'random_state': 12345}\n",
      "2209.00 for {'criterion': 'mse', 'max_depth': 6, 'n_estimators': 31, 'random_state': 12345}\n",
      "2208.98 for {'criterion': 'mse', 'max_depth': 6, 'n_estimators': 41, 'random_state': 12345}\n",
      "2174.93 for {'criterion': 'mse', 'max_depth': 7, 'n_estimators': 1, 'random_state': 12345}\n",
      "2105.43 for {'criterion': 'mse', 'max_depth': 7, 'n_estimators': 11, 'random_state': 12345}\n",
      "2104.25 for {'criterion': 'mse', 'max_depth': 7, 'n_estimators': 21, 'random_state': 12345}\n",
      "2102.81 for {'criterion': 'mse', 'max_depth': 7, 'n_estimators': 31, 'random_state': 12345}\n",
      "2102.19 for {'criterion': 'mse', 'max_depth': 7, 'n_estimators': 41, 'random_state': 12345}\n",
      "2090.07 for {'criterion': 'mse', 'max_depth': 8, 'n_estimators': 1, 'random_state': 12345}\n",
      "2011.63 for {'criterion': 'mse', 'max_depth': 8, 'n_estimators': 11, 'random_state': 12345}\n",
      "2008.83 for {'criterion': 'mse', 'max_depth': 8, 'n_estimators': 21, 'random_state': 12345}\n",
      "2007.80 for {'criterion': 'mse', 'max_depth': 8, 'n_estimators': 31, 'random_state': 12345}\n",
      "2007.43 for {'criterion': 'mse', 'max_depth': 8, 'n_estimators': 41, 'random_state': 12345}\n",
      "2034.52 for {'criterion': 'mse', 'max_depth': 9, 'n_estimators': 1, 'random_state': 12345}\n",
      "1935.58 for {'criterion': 'mse', 'max_depth': 9, 'n_estimators': 11, 'random_state': 12345}\n",
      "1931.76 for {'criterion': 'mse', 'max_depth': 9, 'n_estimators': 21, 'random_state': 12345}\n",
      "1930.10 for {'criterion': 'mse', 'max_depth': 9, 'n_estimators': 31, 'random_state': 12345}\n",
      "1929.95 for {'criterion': 'mse', 'max_depth': 9, 'n_estimators': 41, 'random_state': 12345}\n",
      "1994.50 for {'criterion': 'mse', 'max_depth': 10, 'n_estimators': 1, 'random_state': 12345}\n",
      "1869.12 for {'criterion': 'mse', 'max_depth': 10, 'n_estimators': 11, 'random_state': 12345}\n",
      "1865.01 for {'criterion': 'mse', 'max_depth': 10, 'n_estimators': 21, 'random_state': 12345}\n",
      "1862.86 for {'criterion': 'mse', 'max_depth': 10, 'n_estimators': 31, 'random_state': 12345}\n",
      "1862.26 for {'criterion': 'mse', 'max_depth': 10, 'n_estimators': 41, 'random_state': 12345}\n",
      "\n",
      "CPU times: user 1h 34min 38s, sys: 1min 1s, total: 1h 35min 39s\n",
      "Wall time: 1h 35min 55s\n"
     ]
    }
   ],
   "source": [
    "%%time\n",
    "\n",
    "regressor = RandomForestRegressor() \n",
    "max_depth_list = [x for x in range(1, 11)]\n",
    "max_estimators = [x for x in range(1, 51, 10)] \n",
    "hyperparams = [{'criterion':['mse'], 'max_depth':max_depth_list, 'n_estimators':max_estimators, 'random_state':[12345]}]\n",
    "\n",
    "cv = GridSearchCV(regressor, hyperparams, scoring='neg_mean_squared_error')\n",
    "cv.fit(features_train, target_train)\n",
    "print('Лучшая модель случайного леса:')\n",
    "print()\n",
    "print(cv.best_params_)\n",
    "print()\n",
    "means = cv.cv_results_['mean_test_score']\n",
    "for mean, params in zip(means, cv.cv_results_['params']):\n",
    "    print(\"%0.2f for %s\"% ((mean*-1)** 0.5, params))\n",
    "print()"
   ]
  },
  {
   "cell_type": "markdown",
   "id": "0067893a",
   "metadata": {},
   "source": [
    "### CatBoost"
   ]
  },
  {
   "cell_type": "code",
   "execution_count": 37,
   "id": "2b15da95",
   "metadata": {
    "scrolled": false
   },
   "outputs": [
    {
     "name": "stdout",
     "output_type": "stream",
     "text": [
      "Лучшая модель CatBoost:\n",
      "\n",
      "{'iterations': 51, 'max_depth': 16}\n",
      "\n",
      "3892.91 for {'iterations': 1, 'max_depth': 1}\n",
      "3610.69 for {'iterations': 1, 'max_depth': 2}\n",
      "3499.20 for {'iterations': 1, 'max_depth': 3}\n",
      "3407.21 for {'iterations': 1, 'max_depth': 4}\n",
      "3322.31 for {'iterations': 1, 'max_depth': 5}\n",
      "3257.49 for {'iterations': 1, 'max_depth': 6}\n",
      "3206.57 for {'iterations': 1, 'max_depth': 7}\n",
      "3165.24 for {'iterations': 1, 'max_depth': 8}\n",
      "3138.84 for {'iterations': 1, 'max_depth': 9}\n",
      "3114.01 for {'iterations': 1, 'max_depth': 10}\n",
      "3098.05 for {'iterations': 1, 'max_depth': 11}\n",
      "3075.91 for {'iterations': 1, 'max_depth': 12}\n",
      "3052.31 for {'iterations': 1, 'max_depth': 13}\n",
      "3037.29 for {'iterations': 1, 'max_depth': 14}\n",
      "3022.44 for {'iterations': 1, 'max_depth': 15}\n",
      "3012.18 for {'iterations': 1, 'max_depth': 16}\n",
      "2675.17 for {'iterations': 11, 'max_depth': 1}\n",
      "2303.84 for {'iterations': 11, 'max_depth': 2}\n",
      "2144.00 for {'iterations': 11, 'max_depth': 3}\n",
      "2047.39 for {'iterations': 11, 'max_depth': 4}\n",
      "1964.16 for {'iterations': 11, 'max_depth': 5}\n",
      "1907.39 for {'iterations': 11, 'max_depth': 6}\n",
      "1862.45 for {'iterations': 11, 'max_depth': 7}\n",
      "1823.57 for {'iterations': 11, 'max_depth': 8}\n",
      "1800.05 for {'iterations': 11, 'max_depth': 9}\n",
      "1772.08 for {'iterations': 11, 'max_depth': 10}\n",
      "1751.04 for {'iterations': 11, 'max_depth': 11}\n",
      "1726.48 for {'iterations': 11, 'max_depth': 12}\n",
      "1710.42 for {'iterations': 11, 'max_depth': 13}\n",
      "1699.22 for {'iterations': 11, 'max_depth': 14}\n",
      "1689.72 for {'iterations': 11, 'max_depth': 15}\n",
      "1674.67 for {'iterations': 11, 'max_depth': 16}\n",
      "2451.52 for {'iterations': 21, 'max_depth': 1}\n",
      "2132.72 for {'iterations': 21, 'max_depth': 2}\n",
      "1989.96 for {'iterations': 21, 'max_depth': 3}\n",
      "1907.21 for {'iterations': 21, 'max_depth': 4}\n",
      "1846.90 for {'iterations': 21, 'max_depth': 5}\n",
      "1803.24 for {'iterations': 21, 'max_depth': 6}\n",
      "1769.75 for {'iterations': 21, 'max_depth': 7}\n",
      "1735.13 for {'iterations': 21, 'max_depth': 8}\n",
      "1715.76 for {'iterations': 21, 'max_depth': 9}\n",
      "1695.17 for {'iterations': 21, 'max_depth': 10}\n",
      "1672.59 for {'iterations': 21, 'max_depth': 11}\n",
      "1657.83 for {'iterations': 21, 'max_depth': 12}\n",
      "1642.03 for {'iterations': 21, 'max_depth': 13}\n",
      "1631.92 for {'iterations': 21, 'max_depth': 14}\n",
      "1623.27 for {'iterations': 21, 'max_depth': 15}\n",
      "1612.67 for {'iterations': 21, 'max_depth': 16}\n",
      "2361.32 for {'iterations': 31, 'max_depth': 1}\n",
      "2042.78 for {'iterations': 31, 'max_depth': 2}\n",
      "1911.24 for {'iterations': 31, 'max_depth': 3}\n",
      "1842.44 for {'iterations': 31, 'max_depth': 4}\n",
      "1789.74 for {'iterations': 31, 'max_depth': 5}\n",
      "1750.02 for {'iterations': 31, 'max_depth': 6}\n",
      "1716.26 for {'iterations': 31, 'max_depth': 7}\n",
      "1687.26 for {'iterations': 31, 'max_depth': 8}\n",
      "1668.89 for {'iterations': 31, 'max_depth': 9}\n",
      "1648.40 for {'iterations': 31, 'max_depth': 10}\n",
      "1631.28 for {'iterations': 31, 'max_depth': 11}\n",
      "1616.37 for {'iterations': 31, 'max_depth': 12}\n",
      "1604.88 for {'iterations': 31, 'max_depth': 13}\n",
      "1595.35 for {'iterations': 31, 'max_depth': 14}\n",
      "1589.84 for {'iterations': 31, 'max_depth': 15}\n",
      "1580.12 for {'iterations': 31, 'max_depth': 16}\n",
      "2306.87 for {'iterations': 41, 'max_depth': 1}\n",
      "1985.34 for {'iterations': 41, 'max_depth': 2}\n",
      "1863.54 for {'iterations': 41, 'max_depth': 3}\n",
      "1801.68 for {'iterations': 41, 'max_depth': 4}\n",
      "1751.70 for {'iterations': 41, 'max_depth': 5}\n",
      "1716.36 for {'iterations': 41, 'max_depth': 6}\n",
      "1681.51 for {'iterations': 41, 'max_depth': 7}\n",
      "1653.49 for {'iterations': 41, 'max_depth': 8}\n",
      "1636.58 for {'iterations': 41, 'max_depth': 9}\n",
      "1617.20 for {'iterations': 41, 'max_depth': 10}\n",
      "1605.40 for {'iterations': 41, 'max_depth': 11}\n",
      "1590.35 for {'iterations': 41, 'max_depth': 12}\n",
      "1582.21 for {'iterations': 41, 'max_depth': 13}\n",
      "1576.13 for {'iterations': 41, 'max_depth': 14}\n",
      "1568.92 for {'iterations': 41, 'max_depth': 15}\n",
      "1561.56 for {'iterations': 41, 'max_depth': 16}\n",
      "2264.42 for {'iterations': 51, 'max_depth': 1}\n",
      "1945.45 for {'iterations': 51, 'max_depth': 2}\n",
      "1830.32 for {'iterations': 51, 'max_depth': 3}\n",
      "1773.81 for {'iterations': 51, 'max_depth': 4}\n",
      "1724.75 for {'iterations': 51, 'max_depth': 5}\n",
      "1688.94 for {'iterations': 51, 'max_depth': 6}\n",
      "1658.33 for {'iterations': 51, 'max_depth': 7}\n",
      "1630.59 for {'iterations': 51, 'max_depth': 8}\n",
      "1615.23 for {'iterations': 51, 'max_depth': 9}\n",
      "1597.24 for {'iterations': 51, 'max_depth': 10}\n",
      "1588.65 for {'iterations': 51, 'max_depth': 11}\n",
      "1574.58 for {'iterations': 51, 'max_depth': 12}\n",
      "1566.30 for {'iterations': 51, 'max_depth': 13}\n",
      "1562.47 for {'iterations': 51, 'max_depth': 14}\n",
      "1557.38 for {'iterations': 51, 'max_depth': 15}\n",
      "1549.85 for {'iterations': 51, 'max_depth': 16}\n",
      "\n",
      "CPU times: user 34min 37s, sys: 11min 9s, total: 45min 46s\n",
      "Wall time: 47min 23s\n"
     ]
    }
   ],
   "source": [
    "%%time\n",
    "\n",
    "regressor = CatBoostRegressor() \n",
    "\n",
    "max_iterations_list = [x for x in  range(1, 52, 10)]\n",
    "max_depth_list = [x for x in range (1, 17)]\n",
    "\n",
    "hyperparams = [{'max_depth':max_depth_list,\n",
    "                'iterations':max_iterations_list,\n",
    "                }]\n",
    "\n",
    "cv = GridSearchCV(regressor, hyperparams, scoring='neg_mean_squared_error')\n",
    "cv.fit(features_train, target_train, verbose=False)\n",
    "print('Лучшая модель CatBoost:')\n",
    "print()\n",
    "print(cv.best_params_)\n",
    "print()\n",
    "means = cv.cv_results_['mean_test_score']\n",
    "for mean, params in zip(means, cv.cv_results_['params']):\n",
    "    print(\"%0.2f for %s\"% ((mean*-1)** 0.5, params))\n",
    "print()"
   ]
  },
  {
   "cell_type": "markdown",
   "id": "73621420",
   "metadata": {},
   "source": [
    "## Анализ моделей"
   ]
  },
  {
   "cell_type": "code",
   "execution_count": 38,
   "id": "65cca716",
   "metadata": {},
   "outputs": [],
   "source": [
    "autos_time = pd.DataFrame({'Модель': [], 'RMSE': [], 'time_fit' : [],  'time_predict' : [] }) "
   ]
  },
  {
   "cell_type": "code",
   "execution_count": 40,
   "id": "49cd4f4d",
   "metadata": {},
   "outputs": [],
   "source": [
    "def predicted(name, model):\n",
    "    time_1 = time.time()\n",
    "    model.fit(features_train, target_train)\n",
    "    time_2 = time.time()\n",
    "    predicted_valid = model.predict(features_valid)\n",
    "    time_3 = time.time()\n",
    "    rmse = mean_squared_error(target_valid, predicted_valid)**0.5\n",
    "\n",
    "    return {'Модель': name, 'RMSE': rmse, 'time_fit' : time_2-time_1,  'time_predict' : time_3-time_2 }"
   ]
  },
  {
   "cell_type": "code",
   "execution_count": 41,
   "id": "858e2fa6",
   "metadata": {},
   "outputs": [],
   "source": [
    "autos_time = autos_time.append(\n",
    "    predicted('DecisionTreeRegressor', DecisionTreeRegressor(criterion = 'mse', max_depth = 19, random_state = 12345)),\n",
    "    ignore_index=True\n",
    ")"
   ]
  },
  {
   "cell_type": "code",
   "execution_count": 42,
   "id": "82db4c6a",
   "metadata": {},
   "outputs": [],
   "source": [
    "autos_time = autos_time.append(predicted(\n",
    "    'RandomForestRegressor', RandomForestRegressor(criterion = 'mse', max_depth = 10, n_estimators = 41, random_state = 12345)\n",
    "), ignore_index=True)"
   ]
  },
  {
   "cell_type": "code",
   "execution_count": 43,
   "id": "cd976ecb",
   "metadata": {},
   "outputs": [],
   "source": [
    "autos_time = autos_time.append(predicted('LinearRegression', LinearRegression()), ignore_index=True)"
   ]
  },
  {
   "cell_type": "code",
   "execution_count": 44,
   "id": "d2819ef4",
   "metadata": {},
   "outputs": [
    {
     "name": "stdout",
     "output_type": "stream",
     "text": [
      "Learning rate set to 0.5\n",
      "0:\tlearn: 2994.7566237\ttotal: 1.32s\tremaining: 1m 6s\n",
      "1:\tlearn: 2263.9382645\ttotal: 2.75s\tremaining: 1m 7s\n",
      "2:\tlearn: 1943.4608690\ttotal: 4.08s\tremaining: 1m 5s\n",
      "3:\tlearn: 1801.6669120\ttotal: 5.39s\tremaining: 1m 3s\n",
      "4:\tlearn: 1738.5465575\ttotal: 6.74s\tremaining: 1m 2s\n",
      "5:\tlearn: 1695.8030434\ttotal: 8.07s\tremaining: 1m\n",
      "6:\tlearn: 1672.1533646\ttotal: 9.38s\tremaining: 59s\n",
      "7:\tlearn: 1655.5892578\ttotal: 10.7s\tremaining: 57.5s\n",
      "8:\tlearn: 1641.4348252\ttotal: 12s\tremaining: 56s\n",
      "9:\tlearn: 1630.4612487\ttotal: 13.3s\tremaining: 54.6s\n",
      "10:\tlearn: 1617.1163561\ttotal: 14.6s\tremaining: 53.2s\n",
      "11:\tlearn: 1603.4972429\ttotal: 15.9s\tremaining: 51.8s\n",
      "12:\tlearn: 1583.2092535\ttotal: 17.3s\tremaining: 50.5s\n",
      "13:\tlearn: 1573.5847950\ttotal: 18.6s\tremaining: 49.1s\n",
      "14:\tlearn: 1565.4956888\ttotal: 19.9s\tremaining: 47.8s\n",
      "15:\tlearn: 1549.1195499\ttotal: 21.2s\tremaining: 46.5s\n",
      "16:\tlearn: 1544.6031166\ttotal: 22.6s\tremaining: 45.1s\n",
      "17:\tlearn: 1537.4674055\ttotal: 23.9s\tremaining: 43.9s\n",
      "18:\tlearn: 1528.7297773\ttotal: 25.3s\tremaining: 42.5s\n",
      "19:\tlearn: 1520.9670835\ttotal: 26.6s\tremaining: 41.3s\n",
      "20:\tlearn: 1516.0622875\ttotal: 27.9s\tremaining: 39.9s\n",
      "21:\tlearn: 1511.1874992\ttotal: 29.3s\tremaining: 38.6s\n",
      "22:\tlearn: 1504.5723685\ttotal: 30.5s\tremaining: 37.2s\n",
      "23:\tlearn: 1496.0045943\ttotal: 31.9s\tremaining: 35.8s\n",
      "24:\tlearn: 1490.2525318\ttotal: 33.2s\tremaining: 34.5s\n",
      "25:\tlearn: 1485.6524447\ttotal: 34.5s\tremaining: 33.2s\n",
      "26:\tlearn: 1481.0367952\ttotal: 35.8s\tremaining: 31.8s\n",
      "27:\tlearn: 1469.0128967\ttotal: 37.1s\tremaining: 30.5s\n",
      "28:\tlearn: 1464.2103651\ttotal: 38.4s\tremaining: 29.2s\n",
      "29:\tlearn: 1458.0575715\ttotal: 39.7s\tremaining: 27.8s\n",
      "30:\tlearn: 1454.7242085\ttotal: 41.1s\tremaining: 26.5s\n",
      "31:\tlearn: 1447.2473769\ttotal: 42.5s\tremaining: 25.3s\n",
      "32:\tlearn: 1439.1785023\ttotal: 43.9s\tremaining: 24s\n",
      "33:\tlearn: 1434.1900302\ttotal: 45.3s\tremaining: 22.7s\n",
      "34:\tlearn: 1430.5943636\ttotal: 46.7s\tremaining: 21.4s\n",
      "35:\tlearn: 1426.1047304\ttotal: 48s\tremaining: 20s\n",
      "36:\tlearn: 1419.4561817\ttotal: 49.3s\tremaining: 18.7s\n",
      "37:\tlearn: 1416.8303394\ttotal: 50.6s\tremaining: 17.3s\n",
      "38:\tlearn: 1412.9562253\ttotal: 51.9s\tremaining: 16s\n",
      "39:\tlearn: 1410.8626100\ttotal: 53.3s\tremaining: 14.7s\n",
      "40:\tlearn: 1407.4973830\ttotal: 54.6s\tremaining: 13.3s\n",
      "41:\tlearn: 1403.2556390\ttotal: 56s\tremaining: 12s\n",
      "42:\tlearn: 1399.6092878\ttotal: 57.3s\tremaining: 10.7s\n",
      "43:\tlearn: 1397.6387102\ttotal: 58.7s\tremaining: 9.33s\n",
      "44:\tlearn: 1394.4154118\ttotal: 1m\tremaining: 8s\n",
      "45:\tlearn: 1392.6413911\ttotal: 1m 1s\tremaining: 6.67s\n",
      "46:\tlearn: 1390.3911202\ttotal: 1m 2s\tremaining: 5.33s\n",
      "47:\tlearn: 1382.8982205\ttotal: 1m 4s\tremaining: 4s\n",
      "48:\tlearn: 1379.8712808\ttotal: 1m 5s\tremaining: 2.67s\n",
      "49:\tlearn: 1377.2650378\ttotal: 1m 6s\tremaining: 1.34s\n",
      "50:\tlearn: 1374.5018229\ttotal: 1m 8s\tremaining: 0us\n"
     ]
    }
   ],
   "source": [
    "autos_time = autos_time.append(predicted('CatBoostRegressor', CatBoostRegressor(iterations = 51, max_depth = 16)), ignore_index=True)"
   ]
  },
  {
   "cell_type": "code",
   "execution_count": 45,
   "id": "24656886",
   "metadata": {},
   "outputs": [],
   "source": [
    "autos_time = autos_time.append(predicted('LGBMRegressor', LGBMRegressor()), ignore_index=True)"
   ]
  },
  {
   "cell_type": "markdown",
   "id": "f6a7acd1",
   "metadata": {},
   "source": [
    "### Вывод"
   ]
  },
  {
   "cell_type": "code",
   "execution_count": 46,
   "id": "bea5128b",
   "metadata": {
    "scrolled": true
   },
   "outputs": [
    {
     "data": {
      "text/html": [
       "<style  type=\"text/css\" >\n",
       "#T_dcec7_row0_col2,#T_dcec7_row3_col0,#T_dcec7_row3_col1,#T_dcec7_row3_col3{\n",
       "            color: white;\n",
       "             font-weight: bold;\n",
       "             background-color: darkblue;\n",
       "        }</style><table id=\"T_dcec7_\" ><thead>    <tr>        <th class=\"blank level0\" ></th>        <th class=\"col_heading level0 col0\" >Модель</th>        <th class=\"col_heading level0 col1\" >RMSE</th>        <th class=\"col_heading level0 col2\" >time_fit</th>        <th class=\"col_heading level0 col3\" >time_predict</th>    </tr></thead><tbody>\n",
       "                <tr>\n",
       "                        <th id=\"T_dcec7_level0_row0\" class=\"row_heading level0 row0\" >0</th>\n",
       "                        <td id=\"T_dcec7_row0_col0\" class=\"data row0 col0\" >DecisionTreeRegressor</td>\n",
       "                        <td id=\"T_dcec7_row0_col1\" class=\"data row0 col1\" >1771.315310</td>\n",
       "                        <td id=\"T_dcec7_row0_col2\" class=\"data row0 col2\" >5.273518</td>\n",
       "                        <td id=\"T_dcec7_row0_col3\" class=\"data row0 col3\" >0.130639</td>\n",
       "            </tr>\n",
       "            <tr>\n",
       "                        <th id=\"T_dcec7_level0_row1\" class=\"row_heading level0 row1\" >1</th>\n",
       "                        <td id=\"T_dcec7_row1_col0\" class=\"data row1 col0\" >RandomForestRegressor</td>\n",
       "                        <td id=\"T_dcec7_row1_col1\" class=\"data row1 col1\" >1848.319499</td>\n",
       "                        <td id=\"T_dcec7_row1_col2\" class=\"data row1 col2\" >93.518860</td>\n",
       "                        <td id=\"T_dcec7_row1_col3\" class=\"data row1 col3\" >0.338418</td>\n",
       "            </tr>\n",
       "            <tr>\n",
       "                        <th id=\"T_dcec7_level0_row2\" class=\"row_heading level0 row2\" >2</th>\n",
       "                        <td id=\"T_dcec7_row2_col0\" class=\"data row2 col0\" >LinearRegression</td>\n",
       "                        <td id=\"T_dcec7_row2_col1\" class=\"data row2 col1\" >2607.688756</td>\n",
       "                        <td id=\"T_dcec7_row2_col2\" class=\"data row2 col2\" >32.754648</td>\n",
       "                        <td id=\"T_dcec7_row2_col3\" class=\"data row2 col3\" >0.386751</td>\n",
       "            </tr>\n",
       "            <tr>\n",
       "                        <th id=\"T_dcec7_level0_row3\" class=\"row_heading level0 row3\" >3</th>\n",
       "                        <td id=\"T_dcec7_row3_col0\" class=\"data row3 col0\" >CatBoostRegressor</td>\n",
       "                        <td id=\"T_dcec7_row3_col1\" class=\"data row3 col1\" >1530.778049</td>\n",
       "                        <td id=\"T_dcec7_row3_col2\" class=\"data row3 col2\" >69.975512</td>\n",
       "                        <td id=\"T_dcec7_row3_col3\" class=\"data row3 col3\" >0.069151</td>\n",
       "            </tr>\n",
       "            <tr>\n",
       "                        <th id=\"T_dcec7_level0_row4\" class=\"row_heading level0 row4\" >4</th>\n",
       "                        <td id=\"T_dcec7_row4_col0\" class=\"data row4 col0\" >LGBMRegressor</td>\n",
       "                        <td id=\"T_dcec7_row4_col1\" class=\"data row4 col1\" >1626.486684</td>\n",
       "                        <td id=\"T_dcec7_row4_col2\" class=\"data row4 col2\" >32.233994</td>\n",
       "                        <td id=\"T_dcec7_row4_col3\" class=\"data row4 col3\" >0.818864</td>\n",
       "            </tr>\n",
       "    </tbody></table>"
      ],
      "text/plain": [
       "<pandas.io.formats.style.Styler at 0x7fc11fd5fc40>"
      ]
     },
     "execution_count": 46,
     "metadata": {},
     "output_type": "execute_result"
    }
   ],
   "source": [
    "def highlight_min(s, props=''):\n",
    "    return np.where(s == np.nanmin(s.values), props, '')\n",
    "\n",
    "autos_time.style.apply(highlight_min, props='color:white; font-weight:bold; background-color:darkblue;', axis=0)"
   ]
  },
  {
   "cell_type": "markdown",
   "id": "8c82e9b6",
   "metadata": {},
   "source": [
    "Цель задачи состояла в анализе разных моделей, при предсказании стоимости автомобилей. Необходимо было найти самые быстрые и самые медленные модели при обучении и предсказании, а также модели с наилучшими и наихудшими метриками. \n",
    "\n",
    "Модель **CatBoostRegressor** показала наименьшею метрику **RMSE** и скорость предсказания, что составляет  **1530.778049** и **0.069151** соответственно.\n",
    "\n",
    "Наименьшая скорость обучения у модели **DecisionTreeRegressor** с **5.273518 сек**. \n",
    "\n",
    "Дольше всего времени на предсказание, было затрачено на модель **LGBMRegressor** с **0.818864** сек. А на обучение - **RandomForestRegressor** = **93.518860** сек.\n",
    "\n",
    "Самое большое **RMSE** у модели **LinearRegression** = **2607.688756**"
   ]
  }
 ],
 "metadata": {
  "ExecuteTimeLog": [
   {
    "duration": 1107,
    "start_time": "2022-06-09T17:08:59.329Z"
   },
   {
    "duration": 2122,
    "start_time": "2022-06-09T17:09:00.438Z"
   },
   {
    "duration": 227,
    "start_time": "2022-06-09T17:09:02.562Z"
   },
   {
    "duration": 108,
    "start_time": "2022-06-09T17:09:02.794Z"
   },
   {
    "duration": 84,
    "start_time": "2022-06-09T17:09:02.913Z"
   },
   {
    "duration": 524,
    "start_time": "2022-06-09T17:09:02.999Z"
   },
   {
    "duration": 677,
    "start_time": "2022-06-09T17:09:03.524Z"
   },
   {
    "duration": 27,
    "start_time": "2022-06-09T17:09:04.203Z"
   },
   {
    "duration": 6,
    "start_time": "2022-06-09T17:09:04.233Z"
   },
   {
    "duration": 671,
    "start_time": "2022-06-09T17:09:04.241Z"
   },
   {
    "duration": 171,
    "start_time": "2022-06-09T17:09:04.914Z"
   },
   {
    "duration": 38,
    "start_time": "2022-06-09T17:09:05.086Z"
   },
   {
    "duration": 104,
    "start_time": "2022-06-09T17:09:05.126Z"
   },
   {
    "duration": 280,
    "start_time": "2022-06-09T17:09:05.232Z"
   },
   {
    "duration": 22,
    "start_time": "2022-06-09T17:09:05.514Z"
   },
   {
    "duration": 47,
    "start_time": "2022-06-09T17:09:05.539Z"
   },
   {
    "duration": 544,
    "start_time": "2022-06-09T17:09:05.588Z"
   },
   {
    "duration": 31,
    "start_time": "2022-06-09T17:09:06.890Z"
   },
   {
    "duration": 284,
    "start_time": "2022-06-09T17:09:07.145Z"
   },
   {
    "duration": 30,
    "start_time": "2022-06-09T17:09:08.108Z"
   },
   {
    "duration": 113,
    "start_time": "2022-06-09T17:09:08.490Z"
   },
   {
    "duration": 19,
    "start_time": "2022-06-09T17:09:09.240Z"
   },
   {
    "duration": 65,
    "start_time": "2022-06-09T17:09:09.560Z"
   },
   {
    "duration": 19,
    "start_time": "2022-06-09T17:09:10.217Z"
   },
   {
    "duration": 401,
    "start_time": "2022-06-09T17:09:10.698Z"
   },
   {
    "duration": 28,
    "start_time": "2022-06-09T17:09:11.101Z"
   },
   {
    "duration": 19,
    "start_time": "2022-06-09T17:09:11.432Z"
   },
   {
    "duration": 42,
    "start_time": "2022-06-09T17:09:12.363Z"
   },
   {
    "duration": 769,
    "start_time": "2022-06-09T17:09:16.404Z"
   },
   {
    "duration": 183,
    "start_time": "2022-06-09T17:09:18.339Z"
   },
   {
    "duration": 418,
    "start_time": "2022-06-09T17:09:19.492Z"
   },
   {
    "duration": 7393,
    "start_time": "2022-06-09T17:09:21.709Z"
   },
   {
    "duration": 7397,
    "start_time": "2022-06-09T17:15:40.582Z"
   },
   {
    "duration": 1173,
    "start_time": "2022-06-09T17:31:58.496Z"
   },
   {
    "duration": 2015,
    "start_time": "2022-06-09T17:31:59.671Z"
   },
   {
    "duration": 200,
    "start_time": "2022-06-09T17:32:01.688Z"
   },
   {
    "duration": 199,
    "start_time": "2022-06-09T17:32:01.891Z"
   },
   {
    "duration": 109,
    "start_time": "2022-06-09T17:32:02.099Z"
   },
   {
    "duration": 571,
    "start_time": "2022-06-09T17:32:02.215Z"
   },
   {
    "duration": 737,
    "start_time": "2022-06-09T17:32:02.789Z"
   },
   {
    "duration": 38,
    "start_time": "2022-06-09T17:32:03.528Z"
   },
   {
    "duration": 11,
    "start_time": "2022-06-09T17:32:03.578Z"
   },
   {
    "duration": 505,
    "start_time": "2022-06-09T17:32:03.591Z"
   },
   {
    "duration": 152,
    "start_time": "2022-06-09T17:32:04.099Z"
   },
   {
    "duration": 46,
    "start_time": "2022-06-09T17:32:04.254Z"
   },
   {
    "duration": 132,
    "start_time": "2022-06-09T17:32:04.304Z"
   },
   {
    "duration": 319,
    "start_time": "2022-06-09T17:32:04.438Z"
   },
   {
    "duration": 33,
    "start_time": "2022-06-09T17:32:04.759Z"
   },
   {
    "duration": 52,
    "start_time": "2022-06-09T17:32:05.023Z"
   },
   {
    "duration": 532,
    "start_time": "2022-06-09T17:32:05.516Z"
   },
   {
    "duration": 23,
    "start_time": "2022-06-09T17:32:06.123Z"
   },
   {
    "duration": 275,
    "start_time": "2022-06-09T17:32:06.335Z"
   },
   {
    "duration": 33,
    "start_time": "2022-06-09T17:32:06.975Z"
   },
   {
    "duration": 106,
    "start_time": "2022-06-09T17:32:07.209Z"
   },
   {
    "duration": 25,
    "start_time": "2022-06-09T17:32:07.635Z"
   },
   {
    "duration": 41,
    "start_time": "2022-06-09T17:32:07.837Z"
   },
   {
    "duration": 28,
    "start_time": "2022-06-09T17:32:08.255Z"
   },
   {
    "duration": 295,
    "start_time": "2022-06-09T17:32:08.707Z"
   },
   {
    "duration": 27,
    "start_time": "2022-06-09T17:32:09.004Z"
   },
   {
    "duration": 30,
    "start_time": "2022-06-09T17:32:09.783Z"
   },
   {
    "duration": 28,
    "start_time": "2022-06-09T17:32:10.612Z"
   },
   {
    "duration": 723,
    "start_time": "2022-06-09T17:32:11.994Z"
   },
   {
    "duration": 196,
    "start_time": "2022-06-09T17:32:12.738Z"
   },
   {
    "duration": 447,
    "start_time": "2022-06-09T17:32:13.636Z"
   },
   {
    "duration": 8149,
    "start_time": "2022-06-09T17:32:15.300Z"
   },
   {
    "duration": 53823,
    "start_time": "2022-06-09T17:32:27.851Z"
   },
   {
    "duration": 925798,
    "start_time": "2022-06-09T17:33:38.991Z"
   },
   {
    "duration": 1536632,
    "start_time": "2022-06-09T17:56:54.990Z"
   },
   {
    "duration": 690488,
    "start_time": "2022-06-09T18:45:36.415Z"
   },
   {
    "duration": 93422,
    "start_time": "2022-06-09T18:58:13.559Z"
   },
   {
    "duration": 117,
    "start_time": "2022-06-09T18:59:52.174Z"
   },
   {
    "duration": 1785,
    "start_time": "2022-06-09T18:59:53.104Z"
   },
   {
    "duration": 278,
    "start_time": "2022-06-09T18:59:54.911Z"
   },
   {
    "duration": 138,
    "start_time": "2022-06-09T18:59:55.193Z"
   },
   {
    "duration": 81,
    "start_time": "2022-06-09T18:59:57.117Z"
   },
   {
    "duration": 609,
    "start_time": "2022-06-09T18:59:58.808Z"
   },
   {
    "duration": 678,
    "start_time": "2022-06-09T19:00:00.030Z"
   },
   {
    "duration": 28,
    "start_time": "2022-06-09T19:00:01.730Z"
   },
   {
    "duration": 11,
    "start_time": "2022-06-09T19:00:02.094Z"
   },
   {
    "duration": 216,
    "start_time": "2022-06-09T19:00:06.694Z"
   },
   {
    "duration": 188,
    "start_time": "2022-06-09T19:00:08.162Z"
   },
   {
    "duration": 63,
    "start_time": "2022-06-09T19:00:10.067Z"
   },
   {
    "duration": 166,
    "start_time": "2022-06-09T19:00:10.635Z"
   },
   {
    "duration": 28,
    "start_time": "2022-06-09T19:03:35.320Z"
   },
   {
    "duration": 16,
    "start_time": "2022-06-09T19:03:50.747Z"
   },
   {
    "duration": 35,
    "start_time": "2022-06-09T19:03:52.412Z"
   },
   {
    "duration": 61,
    "start_time": "2022-06-09T19:04:29.186Z"
   },
   {
    "duration": 20,
    "start_time": "2022-06-09T19:04:32.823Z"
   },
   {
    "duration": 109,
    "start_time": "2022-06-09T19:04:45.218Z"
   },
   {
    "duration": 306,
    "start_time": "2022-06-09T19:05:01.514Z"
   },
   {
    "duration": 285,
    "start_time": "2022-06-09T19:05:13.316Z"
   },
   {
    "duration": 113,
    "start_time": "2022-06-09T19:05:28.431Z"
   },
   {
    "duration": 1843,
    "start_time": "2022-06-09T19:06:00.084Z"
   },
   {
    "duration": 198,
    "start_time": "2022-06-09T19:06:01.930Z"
   },
   {
    "duration": 110,
    "start_time": "2022-06-09T19:06:02.130Z"
   },
   {
    "duration": 98,
    "start_time": "2022-06-09T19:06:06.803Z"
   },
   {
    "duration": 80,
    "start_time": "2022-06-09T19:06:07.405Z"
   },
   {
    "duration": 466,
    "start_time": "2022-06-09T19:06:09.244Z"
   },
   {
    "duration": 572,
    "start_time": "2022-06-09T19:06:09.840Z"
   },
   {
    "duration": 25,
    "start_time": "2022-06-09T19:06:11.020Z"
   },
   {
    "duration": 9,
    "start_time": "2022-06-09T19:06:11.461Z"
   },
   {
    "duration": 167,
    "start_time": "2022-06-09T19:06:14.315Z"
   },
   {
    "duration": 147,
    "start_time": "2022-06-09T19:06:15.205Z"
   },
   {
    "duration": 28,
    "start_time": "2022-06-09T19:06:17.407Z"
   },
   {
    "duration": 102,
    "start_time": "2022-06-09T19:06:17.821Z"
   },
   {
    "duration": 18,
    "start_time": "2022-06-09T19:07:24.521Z"
   },
   {
    "duration": 30,
    "start_time": "2022-06-09T19:07:27.416Z"
   },
   {
    "duration": 569,
    "start_time": "2022-06-09T19:07:28.622Z"
   },
   {
    "duration": 34,
    "start_time": "2022-06-09T19:07:44.558Z"
   },
   {
    "duration": 235,
    "start_time": "2022-06-09T19:07:45.220Z"
   },
   {
    "duration": 25,
    "start_time": "2022-06-09T19:09:17.822Z"
   },
   {
    "duration": 97,
    "start_time": "2022-06-09T19:09:20.456Z"
   },
   {
    "duration": 15,
    "start_time": "2022-06-09T19:09:28.401Z"
   },
   {
    "duration": 30,
    "start_time": "2022-06-09T19:09:32.316Z"
   },
   {
    "duration": 49,
    "start_time": "2022-06-09T19:09:48.640Z"
   },
   {
    "duration": 310,
    "start_time": "2022-06-09T19:09:51.987Z"
   },
   {
    "duration": 15,
    "start_time": "2022-06-09T19:09:55.318Z"
   },
   {
    "duration": 24,
    "start_time": "2022-06-09T19:10:08.391Z"
   },
   {
    "duration": 18,
    "start_time": "2022-06-09T19:10:15.422Z"
   },
   {
    "duration": 684,
    "start_time": "2022-06-09T19:11:39.030Z"
   },
   {
    "duration": 182,
    "start_time": "2022-06-09T19:11:42.747Z"
   },
   {
    "duration": 16,
    "start_time": "2022-06-09T19:11:58.715Z"
   },
   {
    "duration": 410,
    "start_time": "2022-06-09T19:12:06.018Z"
   },
   {
    "duration": 7328,
    "start_time": "2022-06-09T19:12:08.184Z"
   },
   {
    "duration": 54582,
    "start_time": "2022-06-09T19:12:41.790Z"
   },
   {
    "duration": 129,
    "start_time": "2022-06-09T19:13:36.381Z"
   },
   {
    "duration": 82474,
    "start_time": "2022-06-09T19:14:28.872Z"
   },
   {
    "duration": 821125,
    "start_time": "2022-06-09T19:16:59.389Z"
   },
   {
    "duration": 81497,
    "start_time": "2022-06-09T19:30:40.516Z"
   },
   {
    "duration": 65,
    "start_time": "2022-06-09T19:32:02.016Z"
   },
   {
    "duration": 5,
    "start_time": "2022-06-09T19:32:39.430Z"
   },
   {
    "duration": 2447,
    "start_time": "2022-06-09T19:36:25.986Z"
   },
   {
    "duration": 102080,
    "start_time": "2022-06-09T19:36:46.016Z"
   },
   {
    "duration": 80479,
    "start_time": "2022-06-09T19:41:49.495Z"
   },
   {
    "duration": 344378,
    "start_time": "2022-06-09T19:44:35.226Z"
   },
   {
    "duration": 700262,
    "start_time": "2022-06-09T19:51:38.623Z"
   },
   {
    "duration": 1400,
    "start_time": "2022-06-09T20:03:27.786Z"
   },
   {
    "duration": 1835,
    "start_time": "2022-06-09T20:03:29.190Z"
   },
   {
    "duration": 206,
    "start_time": "2022-06-09T20:03:31.027Z"
   },
   {
    "duration": 177,
    "start_time": "2022-06-09T20:03:31.236Z"
   },
   {
    "duration": 101,
    "start_time": "2022-06-09T20:03:31.417Z"
   },
   {
    "duration": 603,
    "start_time": "2022-06-09T20:03:31.520Z"
   },
   {
    "duration": 676,
    "start_time": "2022-06-09T20:03:32.127Z"
   },
   {
    "duration": 29,
    "start_time": "2022-06-09T20:03:32.807Z"
   },
   {
    "duration": 8,
    "start_time": "2022-06-09T20:03:32.838Z"
   },
   {
    "duration": 367,
    "start_time": "2022-06-09T20:03:32.848Z"
   },
   {
    "duration": 209,
    "start_time": "2022-06-09T20:03:33.217Z"
   },
   {
    "duration": 48,
    "start_time": "2022-06-09T20:03:33.427Z"
   },
   {
    "duration": 115,
    "start_time": "2022-06-09T20:03:33.481Z"
   },
   {
    "duration": 291,
    "start_time": "2022-06-09T20:03:33.601Z"
   },
   {
    "duration": 27,
    "start_time": "2022-06-09T20:03:33.894Z"
   },
   {
    "duration": 54,
    "start_time": "2022-06-09T20:03:33.923Z"
   },
   {
    "duration": 525,
    "start_time": "2022-06-09T20:03:33.982Z"
   },
   {
    "duration": 21,
    "start_time": "2022-06-09T20:03:34.510Z"
   },
   {
    "duration": 344,
    "start_time": "2022-06-09T20:03:34.533Z"
   },
   {
    "duration": 33,
    "start_time": "2022-06-09T20:03:35.081Z"
   },
   {
    "duration": 88,
    "start_time": "2022-06-09T20:03:35.299Z"
   },
   {
    "duration": 21,
    "start_time": "2022-06-09T20:03:35.735Z"
   },
   {
    "duration": 51,
    "start_time": "2022-06-09T20:03:35.935Z"
   },
   {
    "duration": 49,
    "start_time": "2022-06-09T20:03:36.330Z"
   },
   {
    "duration": 278,
    "start_time": "2022-06-09T20:03:36.721Z"
   },
   {
    "duration": 25,
    "start_time": "2022-06-09T20:03:37.002Z"
   },
   {
    "duration": 19,
    "start_time": "2022-06-09T20:03:37.305Z"
   },
   {
    "duration": 29,
    "start_time": "2022-06-09T20:03:37.894Z"
   },
   {
    "duration": 642,
    "start_time": "2022-06-09T20:03:39.831Z"
   },
   {
    "duration": 188,
    "start_time": "2022-06-09T20:03:40.500Z"
   },
   {
    "duration": 300,
    "start_time": "2022-06-09T20:03:41.506Z"
   },
   {
    "duration": 9062,
    "start_time": "2022-06-09T20:03:42.301Z"
   },
   {
    "duration": 1561,
    "start_time": "2022-06-10T06:25:51.082Z"
   },
   {
    "duration": 1783,
    "start_time": "2022-06-10T06:25:57.532Z"
   },
   {
    "duration": 195,
    "start_time": "2022-06-10T06:25:59.321Z"
   },
   {
    "duration": 110,
    "start_time": "2022-06-10T06:25:59.518Z"
   },
   {
    "duration": 102,
    "start_time": "2022-06-10T06:25:59.630Z"
   },
   {
    "duration": 536,
    "start_time": "2022-06-10T06:25:59.734Z"
   },
   {
    "duration": 585,
    "start_time": "2022-06-10T06:26:00.272Z"
   },
   {
    "duration": 39,
    "start_time": "2022-06-10T06:26:00.858Z"
   },
   {
    "duration": 4,
    "start_time": "2022-06-10T06:26:00.905Z"
   },
   {
    "duration": 527,
    "start_time": "2022-06-10T06:26:00.914Z"
   },
   {
    "duration": 165,
    "start_time": "2022-06-10T06:26:01.443Z"
   },
   {
    "duration": 36,
    "start_time": "2022-06-10T06:26:01.610Z"
   },
   {
    "duration": 107,
    "start_time": "2022-06-10T06:26:01.648Z"
   },
   {
    "duration": 272,
    "start_time": "2022-06-10T06:26:01.758Z"
   },
   {
    "duration": 20,
    "start_time": "2022-06-10T06:26:02.033Z"
   },
   {
    "duration": 44,
    "start_time": "2022-06-10T06:26:02.113Z"
   },
   {
    "duration": 529,
    "start_time": "2022-06-10T06:26:02.306Z"
   },
   {
    "duration": 21,
    "start_time": "2022-06-10T06:26:02.840Z"
   },
   {
    "duration": 357,
    "start_time": "2022-06-10T06:26:03.052Z"
   },
   {
    "duration": 30,
    "start_time": "2022-06-10T06:26:03.591Z"
   },
   {
    "duration": 93,
    "start_time": "2022-06-10T06:26:03.791Z"
   },
   {
    "duration": 16,
    "start_time": "2022-06-10T06:26:04.165Z"
   },
   {
    "duration": 63,
    "start_time": "2022-06-10T06:26:04.354Z"
   },
   {
    "duration": 64,
    "start_time": "2022-06-10T06:26:05.025Z"
   },
   {
    "duration": 271,
    "start_time": "2022-06-10T06:26:05.416Z"
   },
   {
    "duration": 29,
    "start_time": "2022-06-10T06:26:05.698Z"
   },
   {
    "duration": 27,
    "start_time": "2022-06-10T06:26:05.995Z"
   },
   {
    "duration": 26,
    "start_time": "2022-06-10T06:26:06.605Z"
   },
   {
    "duration": 974,
    "start_time": "2022-06-10T06:26:08.016Z"
   },
   {
    "duration": 229,
    "start_time": "2022-06-10T06:26:09.121Z"
   },
   {
    "duration": 331,
    "start_time": "2022-06-10T06:26:09.997Z"
   },
   {
    "duration": 8636,
    "start_time": "2022-06-10T06:26:13.367Z"
   },
   {
    "duration": 49418,
    "start_time": "2022-06-10T06:26:22.005Z"
   },
   {
    "duration": 250600,
    "start_time": "2022-06-10T06:27:11.496Z"
   },
   {
    "duration": 2535,
    "start_time": "2022-06-10T06:48:40.932Z"
   },
   {
    "duration": 872884,
    "start_time": "2022-06-10T06:48:50.826Z"
   },
   {
    "duration": 1209,
    "start_time": "2022-06-10T12:13:26.649Z"
   },
   {
    "duration": 1943,
    "start_time": "2022-06-10T12:13:27.860Z"
   },
   {
    "duration": 174,
    "start_time": "2022-06-10T12:13:29.806Z"
   },
   {
    "duration": 148,
    "start_time": "2022-06-10T12:13:29.982Z"
   },
   {
    "duration": 96,
    "start_time": "2022-06-10T12:13:30.132Z"
   },
   {
    "duration": 554,
    "start_time": "2022-06-10T12:13:30.230Z"
   },
   {
    "duration": 640,
    "start_time": "2022-06-10T12:13:30.787Z"
   },
   {
    "duration": 28,
    "start_time": "2022-06-10T12:13:31.428Z"
   },
   {
    "duration": 4,
    "start_time": "2022-06-10T12:13:31.458Z"
   },
   {
    "duration": 502,
    "start_time": "2022-06-10T12:13:31.465Z"
   },
   {
    "duration": 175,
    "start_time": "2022-06-10T12:13:31.969Z"
   },
   {
    "duration": 39,
    "start_time": "2022-06-10T12:13:32.146Z"
   },
   {
    "duration": 100,
    "start_time": "2022-06-10T12:13:32.196Z"
   },
   {
    "duration": 247,
    "start_time": "2022-06-10T12:13:32.303Z"
   },
   {
    "duration": 19,
    "start_time": "2022-06-10T12:13:32.552Z"
   },
   {
    "duration": 50,
    "start_time": "2022-06-10T12:13:32.573Z"
   },
   {
    "duration": 513,
    "start_time": "2022-06-10T12:13:32.625Z"
   },
   {
    "duration": 20,
    "start_time": "2022-06-10T12:13:33.139Z"
   },
   {
    "duration": 242,
    "start_time": "2022-06-10T12:13:33.161Z"
   },
   {
    "duration": 25,
    "start_time": "2022-06-10T12:13:33.408Z"
   },
   {
    "duration": 79,
    "start_time": "2022-06-10T12:13:33.435Z"
   },
   {
    "duration": 14,
    "start_time": "2022-06-10T12:13:33.516Z"
   },
   {
    "duration": 36,
    "start_time": "2022-06-10T12:13:33.532Z"
   },
   {
    "duration": 62,
    "start_time": "2022-06-10T12:13:33.570Z"
   },
   {
    "duration": 221,
    "start_time": "2022-06-10T12:13:33.634Z"
   },
   {
    "duration": 14,
    "start_time": "2022-06-10T12:13:33.857Z"
   },
   {
    "duration": 37,
    "start_time": "2022-06-10T12:13:33.872Z"
   },
   {
    "duration": 17,
    "start_time": "2022-06-10T12:13:33.913Z"
   },
   {
    "duration": 908,
    "start_time": "2022-06-10T12:13:33.932Z"
   },
   {
    "duration": 513,
    "start_time": "2022-06-10T12:13:34.842Z"
   },
   {
    "duration": 391,
    "start_time": "2022-06-10T12:13:35.356Z"
   },
   {
    "duration": 9739,
    "start_time": "2022-06-10T12:13:35.749Z"
   },
   {
    "duration": 1718709,
    "start_time": "2022-06-10T12:13:45.490Z"
   },
   {
    "duration": 56295,
    "start_time": "2022-06-10T12:42:24.201Z"
   },
   {
    "duration": 225507,
    "start_time": "2022-06-10T12:43:20.500Z"
   },
   {
    "duration": 170499,
    "start_time": "2022-06-10T12:47:06.009Z"
   },
   {
    "duration": 126,
    "start_time": "2022-06-10T12:49:56.510Z"
   },
   {
    "duration": 10,
    "start_time": "2022-06-10T13:17:47.327Z"
   },
   {
    "duration": 3,
    "start_time": "2022-06-11T13:51:34.232Z"
   },
   {
    "duration": 1459,
    "start_time": "2022-06-11T13:51:35.257Z"
   },
   {
    "duration": 148,
    "start_time": "2022-06-11T13:51:36.718Z"
   },
   {
    "duration": 108,
    "start_time": "2022-06-11T13:51:36.868Z"
   },
   {
    "duration": 75,
    "start_time": "2022-06-11T13:51:36.979Z"
   },
   {
    "duration": 446,
    "start_time": "2022-06-11T13:51:37.065Z"
   },
   {
    "duration": 522,
    "start_time": "2022-06-11T13:51:37.514Z"
   },
   {
    "duration": 29,
    "start_time": "2022-06-11T13:51:38.164Z"
   },
   {
    "duration": 9,
    "start_time": "2022-06-11T13:51:38.195Z"
   },
   {
    "duration": 186,
    "start_time": "2022-06-11T13:51:39.088Z"
   },
   {
    "duration": 137,
    "start_time": "2022-06-11T13:51:39.479Z"
   },
   {
    "duration": 28,
    "start_time": "2022-06-11T13:51:39.844Z"
   },
   {
    "duration": 90,
    "start_time": "2022-06-11T13:51:40.064Z"
   },
   {
    "duration": 241,
    "start_time": "2022-06-11T13:51:40.395Z"
   },
   {
    "duration": 20,
    "start_time": "2022-06-11T13:51:40.736Z"
   },
   {
    "duration": 27,
    "start_time": "2022-06-11T13:51:41.395Z"
   },
   {
    "duration": 450,
    "start_time": "2022-06-11T13:51:41.595Z"
   },
   {
    "duration": 32,
    "start_time": "2022-06-11T13:51:42.372Z"
   },
   {
    "duration": 217,
    "start_time": "2022-06-11T13:51:42.744Z"
   },
   {
    "duration": 25,
    "start_time": "2022-06-11T13:51:43.480Z"
   },
   {
    "duration": 87,
    "start_time": "2022-06-11T13:51:43.827Z"
   },
   {
    "duration": 15,
    "start_time": "2022-06-11T13:51:44.180Z"
   },
   {
    "duration": 39,
    "start_time": "2022-06-11T13:51:44.359Z"
   },
   {
    "duration": 33,
    "start_time": "2022-06-11T13:51:44.780Z"
   },
   {
    "duration": 232,
    "start_time": "2022-06-11T13:51:45.903Z"
   },
   {
    "duration": 15,
    "start_time": "2022-06-11T13:51:46.136Z"
   },
   {
    "duration": 16,
    "start_time": "2022-06-11T13:51:47.095Z"
   },
   {
    "duration": 17,
    "start_time": "2022-06-11T13:51:48.220Z"
   },
   {
    "duration": 51,
    "start_time": "2022-06-11T13:51:49.400Z"
   },
   {
    "duration": 35,
    "start_time": "2022-06-12T06:54:31.640Z"
   },
   {
    "duration": 21,
    "start_time": "2022-06-12T06:55:05.520Z"
   },
   {
    "duration": 19,
    "start_time": "2022-06-12T06:55:45.905Z"
   },
   {
    "duration": 20,
    "start_time": "2022-06-12T06:55:58.362Z"
   },
   {
    "duration": 29,
    "start_time": "2022-06-12T06:56:10.284Z"
   },
   {
    "duration": 1234,
    "start_time": "2022-06-12T06:57:12.821Z"
   },
   {
    "duration": 1778,
    "start_time": "2022-06-12T06:57:16.266Z"
   },
   {
    "duration": 143,
    "start_time": "2022-06-12T06:57:18.046Z"
   },
   {
    "duration": 106,
    "start_time": "2022-06-12T06:57:18.191Z"
   },
   {
    "duration": 75,
    "start_time": "2022-06-12T06:57:26.105Z"
   },
   {
    "duration": 415,
    "start_time": "2022-06-12T06:57:34.860Z"
   },
   {
    "duration": 423,
    "start_time": "2022-06-12T06:57:36.616Z"
   },
   {
    "duration": 460,
    "start_time": "2022-06-12T06:57:50.060Z"
   },
   {
    "duration": 139,
    "start_time": "2022-06-12T07:01:14.849Z"
   },
   {
    "duration": 108,
    "start_time": "2022-06-12T07:01:23.564Z"
   },
   {
    "duration": 188,
    "start_time": "2022-06-12T07:02:26.837Z"
   },
   {
    "duration": 13,
    "start_time": "2022-06-12T07:20:01.595Z"
   },
   {
    "duration": 697,
    "start_time": "2022-06-12T07:20:06.525Z"
   },
   {
    "duration": 162,
    "start_time": "2022-06-12T07:20:34.758Z"
   },
   {
    "duration": 152,
    "start_time": "2022-06-12T07:20:59.163Z"
   },
   {
    "duration": 150,
    "start_time": "2022-06-12T07:21:17.740Z"
   },
   {
    "duration": 1277,
    "start_time": "2022-06-12T07:44:07.917Z"
   },
   {
    "duration": 2061,
    "start_time": "2022-06-12T07:44:09.197Z"
   },
   {
    "duration": 178,
    "start_time": "2022-06-12T07:44:11.260Z"
   },
   {
    "duration": 102,
    "start_time": "2022-06-12T07:44:11.439Z"
   },
   {
    "duration": 72,
    "start_time": "2022-06-12T07:44:11.546Z"
   },
   {
    "duration": 465,
    "start_time": "2022-06-12T07:44:16.645Z"
   },
   {
    "duration": 563,
    "start_time": "2022-06-12T07:44:17.134Z"
   },
   {
    "duration": 0,
    "start_time": "2022-06-12T07:45:05.358Z"
   },
   {
    "duration": 1549,
    "start_time": "2022-06-12T07:46:31.519Z"
   },
   {
    "duration": 5,
    "start_time": "2022-06-12T08:07:01.241Z"
   },
   {
    "duration": 1801,
    "start_time": "2022-06-12T08:07:01.998Z"
   },
   {
    "duration": 177,
    "start_time": "2022-06-12T08:07:03.802Z"
   },
   {
    "duration": 94,
    "start_time": "2022-06-12T08:07:03.981Z"
   },
   {
    "duration": 80,
    "start_time": "2022-06-12T08:07:04.077Z"
   },
   {
    "duration": 437,
    "start_time": "2022-06-12T08:07:04.159Z"
   },
   {
    "duration": 578,
    "start_time": "2022-06-12T08:07:06.044Z"
   },
   {
    "duration": 10,
    "start_time": "2022-06-12T08:12:20.311Z"
   },
   {
    "duration": 9,
    "start_time": "2022-06-12T08:12:29.400Z"
   },
   {
    "duration": 4,
    "start_time": "2022-06-12T08:12:49.429Z"
   },
   {
    "duration": 3,
    "start_time": "2022-06-12T08:12:51.961Z"
   },
   {
    "duration": 161,
    "start_time": "2022-06-12T08:12:52.216Z"
   },
   {
    "duration": 156,
    "start_time": "2022-06-12T08:16:34.950Z"
   },
   {
    "duration": 171,
    "start_time": "2022-06-12T08:17:09.265Z"
   },
   {
    "duration": 180,
    "start_time": "2022-06-12T08:20:26.015Z"
   },
   {
    "duration": 9,
    "start_time": "2022-06-12T08:21:35.010Z"
   },
   {
    "duration": 14,
    "start_time": "2022-06-12T08:22:17.025Z"
   },
   {
    "duration": 101,
    "start_time": "2022-06-12T08:22:24.406Z"
   },
   {
    "duration": 16,
    "start_time": "2022-06-12T08:22:31.557Z"
   },
   {
    "duration": 552,
    "start_time": "2022-06-12T08:32:07.304Z"
   },
   {
    "duration": 28,
    "start_time": "2022-06-12T08:32:20.241Z"
   },
   {
    "duration": 32,
    "start_time": "2022-06-12T08:33:16.421Z"
   },
   {
    "duration": 37,
    "start_time": "2022-06-12T08:33:42.877Z"
   },
   {
    "duration": 157,
    "start_time": "2022-06-12T08:43:08.709Z"
   },
   {
    "duration": 150,
    "start_time": "2022-06-12T08:43:24.484Z"
   },
   {
    "duration": 144,
    "start_time": "2022-06-12T08:43:27.441Z"
   },
   {
    "duration": 164,
    "start_time": "2022-06-12T08:43:31.672Z"
   },
   {
    "duration": 137,
    "start_time": "2022-06-12T08:48:50.304Z"
   },
   {
    "duration": 31,
    "start_time": "2022-06-12T08:50:05.379Z"
   },
   {
    "duration": 45,
    "start_time": "2022-06-12T08:50:16.722Z"
   },
   {
    "duration": 132,
    "start_time": "2022-06-12T08:50:18.156Z"
   },
   {
    "duration": 116,
    "start_time": "2022-06-12T08:50:39.298Z"
   },
   {
    "duration": 24,
    "start_time": "2022-06-12T08:52:16.314Z"
   },
   {
    "duration": 221,
    "start_time": "2022-06-12T08:52:20.225Z"
   },
   {
    "duration": 4,
    "start_time": "2022-06-12T08:52:27.703Z"
   },
   {
    "duration": 1473,
    "start_time": "2022-06-12T08:52:28.263Z"
   },
   {
    "duration": 155,
    "start_time": "2022-06-12T08:52:29.741Z"
   },
   {
    "duration": 93,
    "start_time": "2022-06-12T08:52:29.898Z"
   },
   {
    "duration": 73,
    "start_time": "2022-06-12T08:52:29.993Z"
   },
   {
    "duration": 428,
    "start_time": "2022-06-12T08:52:30.068Z"
   },
   {
    "duration": 485,
    "start_time": "2022-06-12T08:52:30.498Z"
   },
   {
    "duration": 166,
    "start_time": "2022-06-12T08:52:30.985Z"
   },
   {
    "duration": 156,
    "start_time": "2022-06-12T08:52:31.152Z"
   },
   {
    "duration": 48,
    "start_time": "2022-06-12T08:52:31.310Z"
   },
   {
    "duration": 115,
    "start_time": "2022-06-12T08:52:31.363Z"
   },
   {
    "duration": 204,
    "start_time": "2022-06-12T08:52:32.839Z"
   },
   {
    "duration": 17,
    "start_time": "2022-06-12T08:52:35.960Z"
   },
   {
    "duration": 10,
    "start_time": "2022-06-12T08:57:20.412Z"
   },
   {
    "duration": 118,
    "start_time": "2022-06-12T08:57:48.284Z"
   },
   {
    "duration": 4,
    "start_time": "2022-06-12T08:58:31.415Z"
   },
   {
    "duration": 19,
    "start_time": "2022-06-12T08:58:39.975Z"
   },
   {
    "duration": 6,
    "start_time": "2022-06-12T09:01:45.044Z"
   },
   {
    "duration": 19,
    "start_time": "2022-06-12T09:02:00.137Z"
   },
   {
    "duration": 16,
    "start_time": "2022-06-12T09:02:05.343Z"
   },
   {
    "duration": 6,
    "start_time": "2022-06-12T09:02:19.806Z"
   },
   {
    "duration": 6,
    "start_time": "2022-06-12T09:02:45.613Z"
   },
   {
    "duration": 6,
    "start_time": "2022-06-12T09:02:54.495Z"
   },
   {
    "duration": 5,
    "start_time": "2022-06-12T09:03:24.814Z"
   },
   {
    "duration": 6,
    "start_time": "2022-06-12T09:03:34.662Z"
   },
   {
    "duration": 7,
    "start_time": "2022-06-12T09:03:46.207Z"
   },
   {
    "duration": 527,
    "start_time": "2022-06-12T09:05:41.697Z"
   },
   {
    "duration": 20,
    "start_time": "2022-06-12T09:06:16.416Z"
   },
   {
    "duration": 20,
    "start_time": "2022-06-12T09:07:22.069Z"
   },
   {
    "duration": 9,
    "start_time": "2022-06-12T09:07:37.592Z"
   },
   {
    "duration": 9,
    "start_time": "2022-06-12T09:08:13.193Z"
   },
   {
    "duration": 11,
    "start_time": "2022-06-12T09:08:27.315Z"
   },
   {
    "duration": 6,
    "start_time": "2022-06-12T09:08:35.048Z"
   },
   {
    "duration": 31,
    "start_time": "2022-06-12T09:08:43.610Z"
   },
   {
    "duration": 11,
    "start_time": "2022-06-12T09:08:49.942Z"
   },
   {
    "duration": 2,
    "start_time": "2022-06-12T09:24:17.740Z"
   },
   {
    "duration": 19,
    "start_time": "2022-06-12T09:24:21.211Z"
   },
   {
    "duration": 4,
    "start_time": "2022-06-12T09:26:33.433Z"
   },
   {
    "duration": 946,
    "start_time": "2022-06-12T09:26:59.057Z"
   },
   {
    "duration": 469,
    "start_time": "2022-06-12T09:27:20.376Z"
   },
   {
    "duration": 13,
    "start_time": "2022-06-12T09:28:05.160Z"
   },
   {
    "duration": 25,
    "start_time": "2022-06-12T09:28:09.612Z"
   },
   {
    "duration": 37,
    "start_time": "2022-06-12T09:28:19.557Z"
   },
   {
    "duration": 480,
    "start_time": "2022-06-12T09:28:23.822Z"
   },
   {
    "duration": 11,
    "start_time": "2022-06-12T09:28:32.807Z"
   },
   {
    "duration": 13,
    "start_time": "2022-06-12T09:29:16.723Z"
   },
   {
    "duration": 22,
    "start_time": "2022-06-12T09:29:21.405Z"
   },
   {
    "duration": 461,
    "start_time": "2022-06-12T09:30:58.535Z"
   },
   {
    "duration": 455,
    "start_time": "2022-06-12T09:31:07.794Z"
   },
   {
    "duration": 484,
    "start_time": "2022-06-12T09:31:17.093Z"
   },
   {
    "duration": 419,
    "start_time": "2022-06-12T09:31:25.823Z"
   },
   {
    "duration": 436,
    "start_time": "2022-06-12T09:31:34.331Z"
   },
   {
    "duration": 13,
    "start_time": "2022-06-12T09:39:42.306Z"
   },
   {
    "duration": 12,
    "start_time": "2022-06-12T09:40:11.711Z"
   },
   {
    "duration": 12,
    "start_time": "2022-06-12T09:40:22.492Z"
   },
   {
    "duration": 61,
    "start_time": "2022-06-12T09:40:29.459Z"
   },
   {
    "duration": 21,
    "start_time": "2022-06-12T09:40:38.270Z"
   },
   {
    "duration": 3,
    "start_time": "2022-06-12T09:49:15.986Z"
   },
   {
    "duration": 10,
    "start_time": "2022-06-12T09:49:57.050Z"
   },
   {
    "duration": 11,
    "start_time": "2022-06-12T09:50:01.838Z"
   },
   {
    "duration": 2,
    "start_time": "2022-06-12T09:50:04.940Z"
   },
   {
    "duration": 2,
    "start_time": "2022-06-12T09:51:02.241Z"
   },
   {
    "duration": 9,
    "start_time": "2022-06-12T09:51:03.155Z"
   },
   {
    "duration": 10,
    "start_time": "2022-06-12T09:51:15.035Z"
   },
   {
    "duration": 10,
    "start_time": "2022-06-12T09:51:23.891Z"
   },
   {
    "duration": 3,
    "start_time": "2022-06-12T09:53:48.464Z"
   },
   {
    "duration": 13,
    "start_time": "2022-06-12T09:53:49.028Z"
   },
   {
    "duration": 11,
    "start_time": "2022-06-12T09:53:52.881Z"
   },
   {
    "duration": 10,
    "start_time": "2022-06-12T09:54:56.960Z"
   },
   {
    "duration": 9,
    "start_time": "2022-06-12T09:59:12.629Z"
   },
   {
    "duration": 10,
    "start_time": "2022-06-12T09:59:19.089Z"
   },
   {
    "duration": 10,
    "start_time": "2022-06-12T09:59:41.909Z"
   },
   {
    "duration": 20,
    "start_time": "2022-06-12T10:04:06.239Z"
   },
   {
    "duration": 12,
    "start_time": "2022-06-12T10:04:23.329Z"
   },
   {
    "duration": 13,
    "start_time": "2022-06-12T10:04:41.224Z"
   },
   {
    "duration": 16,
    "start_time": "2022-06-12T10:04:46.539Z"
   },
   {
    "duration": 16,
    "start_time": "2022-06-12T10:04:55.303Z"
   },
   {
    "duration": 20,
    "start_time": "2022-06-12T10:05:02.787Z"
   },
   {
    "duration": 1004,
    "start_time": "2022-06-12T10:08:17.066Z"
   },
   {
    "duration": 186,
    "start_time": "2022-06-12T10:13:39.036Z"
   },
   {
    "duration": 18,
    "start_time": "2022-06-12T10:14:54.850Z"
   },
   {
    "duration": 12,
    "start_time": "2022-06-12T10:15:03.255Z"
   },
   {
    "duration": 184,
    "start_time": "2022-06-12T10:15:39.727Z"
   },
   {
    "duration": 14,
    "start_time": "2022-06-12T10:15:52.594Z"
   },
   {
    "duration": 13,
    "start_time": "2022-06-12T10:15:57.134Z"
   },
   {
    "duration": 162,
    "start_time": "2022-06-12T10:16:00.610Z"
   },
   {
    "duration": 13,
    "start_time": "2022-06-12T10:16:05.241Z"
   },
   {
    "duration": 171,
    "start_time": "2022-06-12T10:16:11.170Z"
   },
   {
    "duration": 10,
    "start_time": "2022-06-12T10:17:11.033Z"
   },
   {
    "duration": 45,
    "start_time": "2022-06-12T10:26:29.827Z"
   },
   {
    "duration": 35,
    "start_time": "2022-06-12T10:26:34.177Z"
   },
   {
    "duration": 882,
    "start_time": "2022-06-12T10:27:31.940Z"
   },
   {
    "duration": 2105,
    "start_time": "2022-06-12T10:28:03.467Z"
   },
   {
    "duration": 11,
    "start_time": "2022-06-12T10:29:01.587Z"
   },
   {
    "duration": 28,
    "start_time": "2022-06-12T10:29:36.109Z"
   },
   {
    "duration": 61,
    "start_time": "2022-06-12T10:30:02.024Z"
   },
   {
    "duration": 201,
    "start_time": "2022-06-12T10:30:09.156Z"
   },
   {
    "duration": 207,
    "start_time": "2022-06-12T10:30:36.881Z"
   },
   {
    "duration": 186,
    "start_time": "2022-06-12T10:30:40.575Z"
   },
   {
    "duration": 221,
    "start_time": "2022-06-12T10:31:44.628Z"
   },
   {
    "duration": 217,
    "start_time": "2022-06-12T10:31:59.553Z"
   },
   {
    "duration": 818,
    "start_time": "2022-06-12T10:32:15.996Z"
   },
   {
    "duration": 8,
    "start_time": "2022-06-12T10:32:32.364Z"
   },
   {
    "duration": 22,
    "start_time": "2022-06-12T10:32:38.574Z"
   },
   {
    "duration": 752,
    "start_time": "2022-06-12T10:33:52.810Z"
   },
   {
    "duration": 3035,
    "start_time": "2022-06-12T10:34:39.853Z"
   },
   {
    "duration": 134,
    "start_time": "2022-06-12T10:35:01.042Z"
   },
   {
    "duration": 2,
    "start_time": "2022-06-12T10:35:32.891Z"
   },
   {
    "duration": 9,
    "start_time": "2022-06-12T10:35:34.718Z"
   },
   {
    "duration": 2,
    "start_time": "2022-06-12T10:35:47.494Z"
   },
   {
    "duration": 11,
    "start_time": "2022-06-12T10:35:50.199Z"
   },
   {
    "duration": 3,
    "start_time": "2022-06-12T10:35:57.820Z"
   },
   {
    "duration": 9,
    "start_time": "2022-06-12T10:35:59.545Z"
   },
   {
    "duration": 3,
    "start_time": "2022-06-12T10:36:01.889Z"
   },
   {
    "duration": 115,
    "start_time": "2022-06-12T10:36:02.136Z"
   },
   {
    "duration": 116,
    "start_time": "2022-06-12T10:36:12.984Z"
   },
   {
    "duration": 1755,
    "start_time": "2022-06-12T10:36:25.183Z"
   },
   {
    "duration": 149,
    "start_time": "2022-06-12T10:36:26.941Z"
   },
   {
    "duration": 97,
    "start_time": "2022-06-12T10:36:27.092Z"
   },
   {
    "duration": 75,
    "start_time": "2022-06-12T10:36:27.191Z"
   },
   {
    "duration": 393,
    "start_time": "2022-06-12T10:36:27.268Z"
   },
   {
    "duration": 493,
    "start_time": "2022-06-12T10:36:27.663Z"
   },
   {
    "duration": 381,
    "start_time": "2022-06-12T10:36:28.158Z"
   },
   {
    "duration": 154,
    "start_time": "2022-06-12T10:36:28.722Z"
   },
   {
    "duration": 43,
    "start_time": "2022-06-12T10:36:29.792Z"
   },
   {
    "duration": 114,
    "start_time": "2022-06-12T10:36:30.354Z"
   },
   {
    "duration": 192,
    "start_time": "2022-06-12T10:36:32.426Z"
   },
   {
    "duration": 22,
    "start_time": "2022-06-12T10:36:33.254Z"
   },
   {
    "duration": 13,
    "start_time": "2022-06-12T10:36:36.097Z"
   },
   {
    "duration": 4,
    "start_time": "2022-06-12T10:36:36.881Z"
   },
   {
    "duration": 9,
    "start_time": "2022-06-12T10:36:40.023Z"
   },
   {
    "duration": 133,
    "start_time": "2022-06-12T10:36:43.782Z"
   },
   {
    "duration": 3,
    "start_time": "2022-06-12T10:36:51.023Z"
   },
   {
    "duration": 119,
    "start_time": "2022-06-12T10:36:51.886Z"
   },
   {
    "duration": 105,
    "start_time": "2022-06-12T10:37:40.172Z"
   },
   {
    "duration": 17663,
    "start_time": "2022-06-12T10:38:57.483Z"
   },
   {
    "duration": 21,
    "start_time": "2022-06-12T10:44:25.476Z"
   },
   {
    "duration": 29,
    "start_time": "2022-06-12T10:44:30.330Z"
   },
   {
    "duration": 33,
    "start_time": "2022-06-12T10:45:47.139Z"
   },
   {
    "duration": 6,
    "start_time": "2022-06-12T10:46:02.224Z"
   },
   {
    "duration": 25620,
    "start_time": "2022-06-12T10:46:25.532Z"
   },
   {
    "duration": 45,
    "start_time": "2022-06-12T10:47:17.504Z"
   },
   {
    "duration": 113,
    "start_time": "2022-06-12T10:47:28.903Z"
   },
   {
    "duration": 307830,
    "start_time": "2022-06-12T10:47:38.680Z"
   },
   {
    "duration": 27,
    "start_time": "2022-06-12T10:54:22.315Z"
   },
   {
    "duration": 23,
    "start_time": "2022-06-12T10:55:29.902Z"
   },
   {
    "duration": 20,
    "start_time": "2022-06-12T10:55:39.024Z"
   },
   {
    "duration": 25,
    "start_time": "2022-06-12T10:55:49.272Z"
   },
   {
    "duration": 20,
    "start_time": "2022-06-12T10:55:54.002Z"
   },
   {
    "duration": 23,
    "start_time": "2022-06-12T10:55:59.694Z"
   },
   {
    "duration": 20,
    "start_time": "2022-06-12T10:56:14.005Z"
   },
   {
    "duration": 22,
    "start_time": "2022-06-12T10:56:25.520Z"
   },
   {
    "duration": 31,
    "start_time": "2022-06-12T10:56:34.306Z"
   },
   {
    "duration": 31,
    "start_time": "2022-06-12T10:57:33.755Z"
   },
   {
    "duration": 36,
    "start_time": "2022-06-12T10:57:48.439Z"
   },
   {
    "duration": 2,
    "start_time": "2022-06-12T11:04:20.604Z"
   },
   {
    "duration": 116,
    "start_time": "2022-06-12T11:04:29.980Z"
   },
   {
    "duration": 3,
    "start_time": "2022-06-12T11:04:34.586Z"
   },
   {
    "duration": 3,
    "start_time": "2022-06-12T11:04:35.396Z"
   },
   {
    "duration": 129,
    "start_time": "2022-06-12T11:04:36.410Z"
   },
   {
    "duration": 3,
    "start_time": "2022-06-12T11:04:44.247Z"
   },
   {
    "duration": 3,
    "start_time": "2022-06-12T11:04:50.487Z"
   },
   {
    "duration": 11,
    "start_time": "2022-06-12T11:04:50.771Z"
   },
   {
    "duration": 2,
    "start_time": "2022-06-12T11:04:55.232Z"
   },
   {
    "duration": 155,
    "start_time": "2022-06-12T11:04:56.207Z"
   },
   {
    "duration": 9,
    "start_time": "2022-06-12T11:05:32.211Z"
   },
   {
    "duration": 9,
    "start_time": "2022-06-12T11:05:40.191Z"
   },
   {
    "duration": 10,
    "start_time": "2022-06-12T11:05:46.094Z"
   },
   {
    "duration": 12,
    "start_time": "2022-06-12T11:05:58.082Z"
   },
   {
    "duration": 36,
    "start_time": "2022-06-12T11:06:04.270Z"
   },
   {
    "duration": 156,
    "start_time": "2022-06-12T11:06:09.399Z"
   },
   {
    "duration": 44,
    "start_time": "2022-06-12T11:06:21.461Z"
   },
   {
    "duration": 166,
    "start_time": "2022-06-12T11:06:24.442Z"
   },
   {
    "duration": 27,
    "start_time": "2022-06-12T11:06:43.820Z"
   },
   {
    "duration": 118,
    "start_time": "2022-06-12T11:06:44.603Z"
   },
   {
    "duration": 54497,
    "start_time": "2022-06-12T11:06:53.068Z"
   },
   {
    "duration": 119,
    "start_time": "2022-06-12T11:08:04.389Z"
   },
   {
    "duration": 1472,
    "start_time": "2022-06-12T11:08:17.860Z"
   },
   {
    "duration": 134,
    "start_time": "2022-06-12T11:08:19.334Z"
   },
   {
    "duration": 98,
    "start_time": "2022-06-12T11:08:19.470Z"
   },
   {
    "duration": 74,
    "start_time": "2022-06-12T11:08:19.569Z"
   },
   {
    "duration": 359,
    "start_time": "2022-06-12T11:08:24.144Z"
   },
   {
    "duration": 477,
    "start_time": "2022-06-12T11:08:24.984Z"
   },
   {
    "duration": 159,
    "start_time": "2022-06-12T11:08:27.148Z"
   },
   {
    "duration": 285,
    "start_time": "2022-06-12T11:08:28.442Z"
   },
   {
    "duration": 41,
    "start_time": "2022-06-12T11:08:30.027Z"
   },
   {
    "duration": 120,
    "start_time": "2022-06-12T11:08:31.227Z"
   },
   {
    "duration": 192,
    "start_time": "2022-06-12T11:08:37.047Z"
   },
   {
    "duration": 17,
    "start_time": "2022-06-12T11:08:39.742Z"
   },
   {
    "duration": 111,
    "start_time": "2022-06-12T11:08:42.692Z"
   },
   {
    "duration": 132,
    "start_time": "2022-06-12T11:08:51.906Z"
   },
   {
    "duration": 3,
    "start_time": "2022-06-12T11:08:57.379Z"
   },
   {
    "duration": 132,
    "start_time": "2022-06-12T11:08:59.204Z"
   },
   {
    "duration": 17064,
    "start_time": "2022-06-12T11:09:08.638Z"
   },
   {
    "duration": 115,
    "start_time": "2022-06-12T11:19:31.232Z"
   },
   {
    "duration": 3,
    "start_time": "2022-06-12T11:19:37.072Z"
   },
   {
    "duration": 11,
    "start_time": "2022-06-12T11:19:39.565Z"
   },
   {
    "duration": 41,
    "start_time": "2022-06-12T11:20:32.243Z"
   },
   {
    "duration": 22947,
    "start_time": "2022-06-12T11:21:51.149Z"
   },
   {
    "duration": 0,
    "start_time": "2022-06-12T11:22:14.144Z"
   },
   {
    "duration": 12,
    "start_time": "2022-06-12T11:23:03.617Z"
   },
   {
    "duration": 3,
    "start_time": "2022-06-12T11:23:10.060Z"
   },
   {
    "duration": 48,
    "start_time": "2022-06-12T11:23:11.392Z"
   },
   {
    "duration": 119,
    "start_time": "2022-06-12T11:23:27.203Z"
   },
   {
    "duration": 154,
    "start_time": "2022-06-12T11:23:54.124Z"
   },
   {
    "duration": 32,
    "start_time": "2022-06-12T11:24:03.180Z"
   },
   {
    "duration": 110,
    "start_time": "2022-06-12T11:24:53.350Z"
   },
   {
    "duration": 100,
    "start_time": "2022-06-12T11:25:09.284Z"
   },
   {
    "duration": 313949,
    "start_time": "2022-06-12T11:25:50.629Z"
   },
   {
    "duration": 21,
    "start_time": "2022-06-12T11:31:04.579Z"
   },
   {
    "duration": 34,
    "start_time": "2022-06-12T11:32:18.000Z"
   },
   {
    "duration": 30,
    "start_time": "2022-06-12T11:34:12.359Z"
   },
   {
    "duration": 49,
    "start_time": "2022-06-12T11:34:34.640Z"
   },
   {
    "duration": 41,
    "start_time": "2022-06-12T11:34:50.951Z"
   },
   {
    "duration": 121,
    "start_time": "2022-06-12T11:34:57.756Z"
   },
   {
    "duration": 361,
    "start_time": "2022-06-12T11:37:11.306Z"
   },
   {
    "duration": 201,
    "start_time": "2022-06-12T11:38:26.271Z"
   },
   {
    "duration": 131,
    "start_time": "2022-06-12T11:38:56.782Z"
   },
   {
    "duration": 17,
    "start_time": "2022-06-12T11:39:21.252Z"
   },
   {
    "duration": 170,
    "start_time": "2022-06-12T11:39:23.577Z"
   },
   {
    "duration": 41,
    "start_time": "2022-06-12T11:45:09.171Z"
   },
   {
    "duration": 120,
    "start_time": "2022-06-12T11:45:18.109Z"
   },
   {
    "duration": 19,
    "start_time": "2022-06-12T11:45:34.295Z"
   },
   {
    "duration": 24,
    "start_time": "2022-06-12T11:45:37.074Z"
   },
   {
    "duration": 34,
    "start_time": "2022-06-12T11:45:39.244Z"
   },
   {
    "duration": 47,
    "start_time": "2022-06-12T11:46:18.959Z"
   },
   {
    "duration": 138,
    "start_time": "2022-06-12T11:46:33.823Z"
   },
   {
    "duration": 197,
    "start_time": "2022-06-12T11:47:46.740Z"
   },
   {
    "duration": 14,
    "start_time": "2022-06-12T11:47:48.810Z"
   },
   {
    "duration": 17,
    "start_time": "2022-06-12T11:48:10.418Z"
   },
   {
    "duration": 14,
    "start_time": "2022-06-12T11:48:28.757Z"
   },
   {
    "duration": 17,
    "start_time": "2022-06-12T11:48:31.151Z"
   },
   {
    "duration": 15,
    "start_time": "2022-06-12T11:48:33.880Z"
   },
   {
    "duration": 87,
    "start_time": "2022-06-12T11:50:59.744Z"
   },
   {
    "duration": 87,
    "start_time": "2022-06-12T11:54:14.960Z"
   },
   {
    "duration": 45,
    "start_time": "2022-06-12T11:54:44.681Z"
   },
   {
    "duration": 1427,
    "start_time": "2022-06-12T11:54:55.225Z"
   },
   {
    "duration": 3,
    "start_time": "2022-06-12T11:55:03.614Z"
   },
   {
    "duration": 1743,
    "start_time": "2022-06-12T11:55:04.871Z"
   },
   {
    "duration": 156,
    "start_time": "2022-06-12T11:55:06.616Z"
   },
   {
    "duration": 104,
    "start_time": "2022-06-12T11:55:06.773Z"
   },
   {
    "duration": 82,
    "start_time": "2022-06-12T11:55:06.879Z"
   },
   {
    "duration": 427,
    "start_time": "2022-06-12T11:55:07.678Z"
   },
   {
    "duration": 457,
    "start_time": "2022-06-12T11:55:08.760Z"
   },
   {
    "duration": 179,
    "start_time": "2022-06-12T11:55:09.823Z"
   },
   {
    "duration": 162,
    "start_time": "2022-06-12T11:55:10.728Z"
   },
   {
    "duration": 48,
    "start_time": "2022-06-12T11:55:11.924Z"
   },
   {
    "duration": 109,
    "start_time": "2022-06-12T11:55:12.804Z"
   },
   {
    "duration": 204,
    "start_time": "2022-06-12T11:55:14.032Z"
   },
   {
    "duration": 19,
    "start_time": "2022-06-12T11:55:15.041Z"
   },
   {
    "duration": 63,
    "start_time": "2022-06-12T11:55:16.474Z"
   },
   {
    "duration": 318525,
    "start_time": "2022-06-12T11:55:16.944Z"
   },
   {
    "duration": 45,
    "start_time": "2022-06-12T12:00:35.471Z"
   },
   {
    "duration": 119,
    "start_time": "2022-06-12T12:00:35.518Z"
   },
   {
    "duration": 18,
    "start_time": "2022-06-12T12:00:35.639Z"
   },
   {
    "duration": 198,
    "start_time": "2022-06-12T12:00:35.658Z"
   },
   {
    "duration": 44,
    "start_time": "2022-06-12T12:00:35.858Z"
   },
   {
    "duration": 25,
    "start_time": "2022-06-12T12:00:35.904Z"
   },
   {
    "duration": 30,
    "start_time": "2022-06-12T12:00:35.931Z"
   },
   {
    "duration": 52,
    "start_time": "2022-06-12T12:00:35.962Z"
   },
   {
    "duration": 223,
    "start_time": "2022-06-12T12:00:36.016Z"
   },
   {
    "duration": 21,
    "start_time": "2022-06-12T12:00:36.241Z"
   },
   {
    "duration": 34,
    "start_time": "2022-06-12T12:00:36.264Z"
   },
   {
    "duration": 34,
    "start_time": "2022-06-12T12:00:36.300Z"
   },
   {
    "duration": 107,
    "start_time": "2022-06-12T12:00:36.337Z"
   },
   {
    "duration": 46,
    "start_time": "2022-06-12T12:02:47.217Z"
   },
   {
    "duration": 1343,
    "start_time": "2022-06-12T12:02:52.036Z"
   },
   {
    "duration": 1455,
    "start_time": "2022-06-12T12:02:53.381Z"
   },
   {
    "duration": 176,
    "start_time": "2022-06-12T12:02:54.838Z"
   },
   {
    "duration": 112,
    "start_time": "2022-06-12T12:02:55.016Z"
   },
   {
    "duration": 78,
    "start_time": "2022-06-12T12:02:55.130Z"
   },
   {
    "duration": 495,
    "start_time": "2022-06-12T12:02:55.210Z"
   },
   {
    "duration": 536,
    "start_time": "2022-06-12T12:02:55.707Z"
   },
   {
    "duration": 243,
    "start_time": "2022-06-12T12:02:56.246Z"
   },
   {
    "duration": 170,
    "start_time": "2022-06-12T12:02:56.491Z"
   },
   {
    "duration": 46,
    "start_time": "2022-06-12T12:02:56.664Z"
   },
   {
    "duration": 124,
    "start_time": "2022-06-12T12:02:56.712Z"
   },
   {
    "duration": 210,
    "start_time": "2022-06-12T12:02:56.838Z"
   },
   {
    "duration": 17,
    "start_time": "2022-06-12T12:02:59.910Z"
   },
   {
    "duration": 58,
    "start_time": "2022-06-12T12:03:02.674Z"
   },
   {
    "duration": 324723,
    "start_time": "2022-06-12T12:03:05.711Z"
   },
   {
    "duration": 47,
    "start_time": "2022-06-12T12:08:30.436Z"
   },
   {
    "duration": 125,
    "start_time": "2022-06-12T12:08:30.485Z"
   },
   {
    "duration": 28,
    "start_time": "2022-06-12T12:08:30.612Z"
   },
   {
    "duration": 187,
    "start_time": "2022-06-12T12:08:30.642Z"
   },
   {
    "duration": 44,
    "start_time": "2022-06-12T12:08:30.831Z"
   },
   {
    "duration": 14,
    "start_time": "2022-06-12T12:08:30.877Z"
   },
   {
    "duration": 69,
    "start_time": "2022-06-12T12:08:30.894Z"
   },
   {
    "duration": 63,
    "start_time": "2022-06-12T12:08:30.965Z"
   },
   {
    "duration": 197,
    "start_time": "2022-06-12T12:08:31.030Z"
   },
   {
    "duration": 15,
    "start_time": "2022-06-12T12:08:31.228Z"
   },
   {
    "duration": 26,
    "start_time": "2022-06-12T12:08:31.246Z"
   },
   {
    "duration": 22,
    "start_time": "2022-06-12T12:08:31.274Z"
   },
   {
    "duration": 35,
    "start_time": "2022-06-12T12:08:31.394Z"
   },
   {
    "duration": 4,
    "start_time": "2022-06-12T12:08:31.431Z"
   },
   {
    "duration": 59,
    "start_time": "2022-06-12T12:08:31.437Z"
   },
   {
    "duration": 548,
    "start_time": "2022-06-12T12:10:20.812Z"
   },
   {
    "duration": 537,
    "start_time": "2022-06-12T12:10:42.803Z"
   },
   {
    "duration": 162,
    "start_time": "2022-06-12T12:10:44.657Z"
   },
   {
    "duration": 266,
    "start_time": "2022-06-12T12:12:36.141Z"
   },
   {
    "duration": 4,
    "start_time": "2022-06-12T12:14:57.103Z"
   },
   {
    "duration": 3,
    "start_time": "2022-06-12T12:16:55.814Z"
   },
   {
    "duration": 4,
    "start_time": "2022-06-12T12:17:09.458Z"
   },
   {
    "duration": 3,
    "start_time": "2022-06-12T13:02:58.443Z"
   },
   {
    "duration": 7113,
    "start_time": "2022-06-12T14:04:54.268Z"
   },
   {
    "duration": 93,
    "start_time": "2022-06-12T14:18:17.217Z"
   },
   {
    "duration": 3,
    "start_time": "2022-06-12T14:18:51.644Z"
   },
   {
    "duration": 45,
    "start_time": "2022-06-12T14:35:54.531Z"
   },
   {
    "duration": 1209,
    "start_time": "2022-06-12T14:35:58.423Z"
   },
   {
    "duration": 2103,
    "start_time": "2022-06-12T14:35:59.634Z"
   },
   {
    "duration": 160,
    "start_time": "2022-06-12T14:36:01.738Z"
   },
   {
    "duration": 103,
    "start_time": "2022-06-12T14:36:01.900Z"
   },
   {
    "duration": 80,
    "start_time": "2022-06-12T14:36:02.004Z"
   },
   {
    "duration": 429,
    "start_time": "2022-06-12T14:36:02.086Z"
   },
   {
    "duration": 455,
    "start_time": "2022-06-12T14:36:02.516Z"
   },
   {
    "duration": 167,
    "start_time": "2022-06-12T14:36:02.973Z"
   },
   {
    "duration": 172,
    "start_time": "2022-06-12T14:36:03.142Z"
   },
   {
    "duration": 52,
    "start_time": "2022-06-12T14:36:03.316Z"
   },
   {
    "duration": 114,
    "start_time": "2022-06-12T14:36:03.370Z"
   },
   {
    "duration": 197,
    "start_time": "2022-06-12T14:36:03.485Z"
   },
   {
    "duration": 18,
    "start_time": "2022-06-12T14:36:03.684Z"
   },
   {
    "duration": 66,
    "start_time": "2022-06-12T14:36:03.703Z"
   },
   {
    "duration": 304618,
    "start_time": "2022-06-12T14:36:03.771Z"
   },
   {
    "duration": 50,
    "start_time": "2022-06-12T14:41:08.391Z"
   },
   {
    "duration": 115,
    "start_time": "2022-06-12T14:41:08.443Z"
   },
   {
    "duration": 17,
    "start_time": "2022-06-12T14:41:08.561Z"
   },
   {
    "duration": 195,
    "start_time": "2022-06-12T14:41:08.579Z"
   },
   {
    "duration": 42,
    "start_time": "2022-06-12T14:41:08.775Z"
   },
   {
    "duration": 18,
    "start_time": "2022-06-12T14:41:08.826Z"
   },
   {
    "duration": 32,
    "start_time": "2022-06-12T14:41:08.846Z"
   },
   {
    "duration": 95,
    "start_time": "2022-06-12T14:41:08.879Z"
   },
   {
    "duration": 210,
    "start_time": "2022-06-12T14:41:08.976Z"
   },
   {
    "duration": 14,
    "start_time": "2022-06-12T14:41:09.187Z"
   },
   {
    "duration": 29,
    "start_time": "2022-06-12T14:41:09.203Z"
   },
   {
    "duration": 16,
    "start_time": "2022-06-12T14:41:09.234Z"
   },
   {
    "duration": 35,
    "start_time": "2022-06-12T14:41:09.252Z"
   },
   {
    "duration": 11,
    "start_time": "2022-06-12T14:41:09.288Z"
   },
   {
    "duration": 69,
    "start_time": "2022-06-12T14:41:09.301Z"
   },
   {
    "duration": 567,
    "start_time": "2022-06-12T14:41:09.372Z"
   },
   {
    "duration": 189,
    "start_time": "2022-06-12T14:41:09.941Z"
   },
   {
    "duration": 247,
    "start_time": "2022-06-12T14:41:10.131Z"
   },
   {
    "duration": 4,
    "start_time": "2022-06-12T14:41:10.380Z"
   },
   {
    "duration": 31940,
    "start_time": "2022-06-12T14:45:14.070Z"
   },
   {
    "duration": 23,
    "start_time": "2022-06-12T14:46:04.951Z"
   },
   {
    "duration": 7036,
    "start_time": "2022-06-12T14:46:17.637Z"
   },
   {
    "duration": 163407,
    "start_time": "2022-06-12T14:47:11.480Z"
   },
   {
    "duration": 99,
    "start_time": "2022-06-12T14:51:26.047Z"
   },
   {
    "duration": 163993,
    "start_time": "2022-06-12T14:51:40.807Z"
   },
   {
    "duration": 42,
    "start_time": "2022-06-12T15:17:19.003Z"
   },
   {
    "duration": 164714,
    "start_time": "2022-06-12T15:17:42.330Z"
   },
   {
    "duration": 166400,
    "start_time": "2022-06-12T15:20:58.360Z"
   },
   {
    "duration": 164203,
    "start_time": "2022-06-12T15:27:29.147Z"
   },
   {
    "duration": 165032,
    "start_time": "2022-06-12T15:32:25.262Z"
   },
   {
    "duration": 40,
    "start_time": "2022-06-12T15:37:48.699Z"
   },
   {
    "duration": 165799,
    "start_time": "2022-06-12T15:38:56.261Z"
   },
   {
    "duration": 163267,
    "start_time": "2022-06-12T15:42:07.123Z"
   },
   {
    "duration": 242539,
    "start_time": "2022-06-12T15:45:59.355Z"
   },
   {
    "duration": 164748,
    "start_time": "2022-06-12T15:52:39.074Z"
   },
   {
    "duration": 161816,
    "start_time": "2022-06-12T15:56:49.318Z"
   },
   {
    "duration": 736911,
    "start_time": "2022-06-12T16:02:18.752Z"
   },
   {
    "duration": 1535281,
    "start_time": "2022-06-12T16:14:35.665Z"
   },
   {
    "duration": 14748,
    "start_time": "2022-06-12T16:46:15.919Z"
   },
   {
    "duration": 646715,
    "start_time": "2022-06-12T16:47:39.618Z"
   },
   {
    "duration": 591219,
    "start_time": "2022-06-12T16:58:31.671Z"
   },
   {
    "duration": 5525468,
    "start_time": "2022-06-12T17:08:31.320Z"
   },
   {
    "duration": 5086367,
    "start_time": "2022-06-12T18:43:27.676Z"
   },
   {
    "duration": 8,
    "start_time": "2022-06-12T20:08:14.045Z"
   },
   {
    "duration": 5,
    "start_time": "2022-06-12T20:08:40.651Z"
   },
   {
    "duration": 5410,
    "start_time": "2022-06-12T20:08:41.929Z"
   },
   {
    "duration": 8,
    "start_time": "2022-06-12T20:08:48.337Z"
   },
   {
    "duration": 100642,
    "start_time": "2022-06-12T20:08:56.922Z"
   },
   {
    "duration": 88095,
    "start_time": "2022-06-12T20:10:37.566Z"
   },
   {
    "duration": 1438,
    "start_time": "2022-06-12T20:15:45.941Z"
   },
   {
    "duration": 1404,
    "start_time": "2022-06-12T20:15:51.652Z"
   },
   {
    "duration": 160,
    "start_time": "2022-06-12T20:15:53.152Z"
   },
   {
    "duration": 106,
    "start_time": "2022-06-12T20:15:56.073Z"
   },
   {
    "duration": 73,
    "start_time": "2022-06-12T20:15:57.808Z"
   },
   {
    "duration": 444,
    "start_time": "2022-06-12T20:15:59.870Z"
   },
   {
    "duration": 521,
    "start_time": "2022-06-12T20:16:01.063Z"
   },
   {
    "duration": 172,
    "start_time": "2022-06-12T20:16:02.820Z"
   },
   {
    "duration": 175,
    "start_time": "2022-06-12T20:16:04.234Z"
   },
   {
    "duration": 44,
    "start_time": "2022-06-12T20:16:05.594Z"
   },
   {
    "duration": 148,
    "start_time": "2022-06-12T20:16:05.889Z"
   },
   {
    "duration": 269,
    "start_time": "2022-06-12T20:16:08.507Z"
   },
   {
    "duration": 29,
    "start_time": "2022-06-12T20:16:09.892Z"
   },
   {
    "duration": 52,
    "start_time": "2022-06-12T20:16:11.739Z"
   },
   {
    "duration": 317458,
    "start_time": "2022-06-12T20:16:12.389Z"
   },
   {
    "duration": 44,
    "start_time": "2022-06-12T20:21:29.849Z"
   },
   {
    "duration": 119,
    "start_time": "2022-06-12T20:21:29.894Z"
   },
   {
    "duration": 33,
    "start_time": "2022-06-12T20:21:30.015Z"
   },
   {
    "duration": 196,
    "start_time": "2022-06-12T20:21:30.049Z"
   },
   {
    "duration": 47,
    "start_time": "2022-06-12T20:21:30.247Z"
   },
   {
    "duration": 14,
    "start_time": "2022-06-12T20:21:30.295Z"
   },
   {
    "duration": 33,
    "start_time": "2022-06-12T20:21:30.326Z"
   },
   {
    "duration": 82,
    "start_time": "2022-06-12T20:21:30.360Z"
   },
   {
    "duration": 231,
    "start_time": "2022-06-12T20:21:30.445Z"
   },
   {
    "duration": 15,
    "start_time": "2022-06-12T20:21:30.678Z"
   },
   {
    "duration": 55,
    "start_time": "2022-06-12T20:21:30.694Z"
   },
   {
    "duration": 24,
    "start_time": "2022-06-12T20:21:30.751Z"
   },
   {
    "duration": 60,
    "start_time": "2022-06-12T20:21:30.777Z"
   },
   {
    "duration": 25,
    "start_time": "2022-06-12T20:21:30.840Z"
   },
   {
    "duration": 66,
    "start_time": "2022-06-12T20:21:30.867Z"
   },
   {
    "duration": 578,
    "start_time": "2022-06-12T20:21:30.935Z"
   },
   {
    "duration": 177,
    "start_time": "2022-06-12T20:21:31.515Z"
   },
   {
    "duration": 261,
    "start_time": "2022-06-12T20:21:31.693Z"
   },
   {
    "duration": 4,
    "start_time": "2022-06-12T20:21:31.957Z"
   },
   {
    "duration": 304610,
    "start_time": "2022-06-12T20:21:31.963Z"
   },
   {
    "duration": 118,
    "start_time": "2022-06-12T20:27:27.921Z"
   },
   {
    "duration": 340477,
    "start_time": "2022-06-12T20:28:15.361Z"
   },
   {
    "duration": 44,
    "start_time": "2022-06-12T20:34:07.434Z"
   },
   {
    "duration": 33,
    "start_time": "2022-06-12T20:34:14.425Z"
   },
   {
    "duration": 31,
    "start_time": "2022-06-12T20:34:49.976Z"
   },
   {
    "duration": 35,
    "start_time": "2022-06-12T20:35:23.228Z"
   },
   {
    "duration": 31,
    "start_time": "2022-06-12T20:35:51.149Z"
   },
   {
    "duration": 60252,
    "start_time": "2022-06-12T20:36:12.359Z"
   },
   {
    "duration": 482432,
    "start_time": "2022-06-12T20:37:28.797Z"
   },
   {
    "duration": 2905474,
    "start_time": "2022-06-12T20:45:41.875Z"
   },
   {
    "duration": 4,
    "start_time": "2022-06-12T21:34:07.352Z"
   },
   {
    "duration": 5909,
    "start_time": "2022-06-12T21:35:42.215Z"
   },
   {
    "duration": 104716,
    "start_time": "2022-06-12T21:35:49.474Z"
   },
   {
    "duration": 39050,
    "start_time": "2022-06-12T21:37:34.192Z"
   },
   {
    "duration": 72174,
    "start_time": "2022-06-12T21:38:13.246Z"
   },
   {
    "duration": 435508,
    "start_time": "2022-06-12T21:39:25.422Z"
   },
   {
    "duration": 13,
    "start_time": "2022-06-12T21:46:40.936Z"
   },
   {
    "duration": 26,
    "start_time": "2022-06-12T21:47:03.720Z"
   },
   {
    "duration": 18,
    "start_time": "2022-06-12T21:47:14.939Z"
   },
   {
    "duration": 3,
    "start_time": "2022-06-12T21:48:17.657Z"
   },
   {
    "duration": 12,
    "start_time": "2022-06-12T21:48:22.272Z"
   },
   {
    "duration": 106,
    "start_time": "2022-06-12T21:51:13.676Z"
   },
   {
    "duration": 11,
    "start_time": "2022-06-12T21:52:08.699Z"
   },
   {
    "duration": 12,
    "start_time": "2022-06-12T21:52:22.371Z"
   },
   {
    "duration": 110,
    "start_time": "2022-06-12T21:54:50.957Z"
   },
   {
    "duration": 10,
    "start_time": "2022-06-12T21:56:44.173Z"
   },
   {
    "duration": 84,
    "start_time": "2022-06-12T21:57:16.242Z"
   },
   {
    "duration": 16,
    "start_time": "2022-06-12T21:57:26.502Z"
   },
   {
    "duration": 11,
    "start_time": "2022-06-12T21:57:59.596Z"
   },
   {
    "duration": 18,
    "start_time": "2022-06-12T21:59:11.382Z"
   },
   {
    "duration": 14,
    "start_time": "2022-06-12T21:59:28.143Z"
   },
   {
    "duration": 13,
    "start_time": "2022-06-12T22:00:10.487Z"
   },
   {
    "duration": 13,
    "start_time": "2022-06-12T22:00:38.541Z"
   },
   {
    "duration": 15,
    "start_time": "2022-06-12T22:00:42.832Z"
   },
   {
    "duration": 16,
    "start_time": "2022-06-12T22:00:48.834Z"
   },
   {
    "duration": 12,
    "start_time": "2022-06-12T22:00:53.543Z"
   },
   {
    "duration": 1374,
    "start_time": "2022-06-12T22:25:42.777Z"
   },
   {
    "duration": 2174,
    "start_time": "2022-06-12T22:25:44.154Z"
   },
   {
    "duration": 188,
    "start_time": "2022-06-12T22:25:46.330Z"
   },
   {
    "duration": 158,
    "start_time": "2022-06-12T22:25:46.521Z"
   },
   {
    "duration": 85,
    "start_time": "2022-06-12T22:25:46.681Z"
   },
   {
    "duration": 517,
    "start_time": "2022-06-12T22:25:46.767Z"
   },
   {
    "duration": 613,
    "start_time": "2022-06-12T22:25:47.286Z"
   },
   {
    "duration": 179,
    "start_time": "2022-06-12T22:25:47.901Z"
   },
   {
    "duration": 192,
    "start_time": "2022-06-12T22:25:48.082Z"
   },
   {
    "duration": 74,
    "start_time": "2022-06-12T22:25:48.276Z"
   },
   {
    "duration": 154,
    "start_time": "2022-06-12T22:25:48.353Z"
   },
   {
    "duration": 299,
    "start_time": "2022-06-12T22:25:48.561Z"
   },
   {
    "duration": 28,
    "start_time": "2022-06-12T22:25:48.966Z"
   },
   {
    "duration": 60,
    "start_time": "2022-06-12T22:25:49.842Z"
   },
   {
    "duration": 326926,
    "start_time": "2022-06-12T22:25:50.067Z"
   },
   {
    "duration": 56,
    "start_time": "2022-06-12T22:31:16.995Z"
   },
   {
    "duration": 124,
    "start_time": "2022-06-12T22:31:17.053Z"
   },
   {
    "duration": 18,
    "start_time": "2022-06-12T22:31:17.179Z"
   },
   {
    "duration": 221,
    "start_time": "2022-06-12T22:31:17.198Z"
   },
   {
    "duration": 48,
    "start_time": "2022-06-12T22:31:17.428Z"
   },
   {
    "duration": 14,
    "start_time": "2022-06-12T22:31:17.478Z"
   },
   {
    "duration": 50,
    "start_time": "2022-06-12T22:31:17.494Z"
   },
   {
    "duration": 60,
    "start_time": "2022-06-12T22:31:17.546Z"
   },
   {
    "duration": 233,
    "start_time": "2022-06-12T22:31:17.609Z"
   },
   {
    "duration": 14,
    "start_time": "2022-06-12T22:31:17.844Z"
   },
   {
    "duration": 19,
    "start_time": "2022-06-12T22:31:17.859Z"
   },
   {
    "duration": 21,
    "start_time": "2022-06-12T22:31:17.880Z"
   },
   {
    "duration": 37,
    "start_time": "2022-06-12T22:31:17.903Z"
   },
   {
    "duration": 4,
    "start_time": "2022-06-12T22:31:17.944Z"
   },
   {
    "duration": 51,
    "start_time": "2022-06-12T22:31:17.949Z"
   },
   {
    "duration": 577,
    "start_time": "2022-06-12T22:31:18.002Z"
   },
   {
    "duration": 174,
    "start_time": "2022-06-12T22:31:18.580Z"
   },
   {
    "duration": 250,
    "start_time": "2022-06-12T22:31:18.756Z"
   },
   {
    "duration": 4,
    "start_time": "2022-06-12T22:31:19.007Z"
   },
   {
    "duration": 4,
    "start_time": "2022-06-12T22:31:42.715Z"
   },
   {
    "duration": 6,
    "start_time": "2022-06-12T22:31:46.791Z"
   },
   {
    "duration": 5,
    "start_time": "2022-06-12T22:32:52.365Z"
   },
   {
    "duration": 5907,
    "start_time": "2022-06-12T22:32:53.061Z"
   },
   {
    "duration": 8,
    "start_time": "2022-06-12T22:32:58.970Z"
   },
   {
    "duration": 28,
    "start_time": "2022-06-12T22:34:29.043Z"
   },
   {
    "duration": 3,
    "start_time": "2022-06-12T22:35:17.382Z"
   },
   {
    "duration": 5648,
    "start_time": "2022-06-12T22:35:18.176Z"
   },
   {
    "duration": 11,
    "start_time": "2022-06-12T22:35:23.827Z"
   },
   {
    "duration": 5610,
    "start_time": "2022-06-12T22:35:37.190Z"
   },
   {
    "duration": 10,
    "start_time": "2022-06-12T22:35:45.135Z"
   },
   {
    "duration": 4,
    "start_time": "2022-06-12T22:35:50.142Z"
   },
   {
    "duration": 6,
    "start_time": "2022-06-12T22:35:50.506Z"
   },
   {
    "duration": 3,
    "start_time": "2022-06-12T22:35:51.219Z"
   },
   {
    "duration": 5692,
    "start_time": "2022-06-12T22:35:52.302Z"
   },
   {
    "duration": 8,
    "start_time": "2022-06-12T22:35:57.995Z"
   },
   {
    "duration": 5800,
    "start_time": "2022-06-12T22:36:57.001Z"
   },
   {
    "duration": 8,
    "start_time": "2022-06-12T22:37:02.803Z"
   },
   {
    "duration": 100980,
    "start_time": "2022-06-12T22:37:39.559Z"
   },
   {
    "duration": 74,
    "start_time": "2022-06-12T22:39:35.079Z"
   },
   {
    "duration": 1301,
    "start_time": "2022-06-12T22:39:59.246Z"
   },
   {
    "duration": 2047,
    "start_time": "2022-06-12T22:40:00.549Z"
   },
   {
    "duration": 170,
    "start_time": "2022-06-12T22:40:02.598Z"
   },
   {
    "duration": 106,
    "start_time": "2022-06-12T22:40:02.770Z"
   },
   {
    "duration": 88,
    "start_time": "2022-06-12T22:40:02.878Z"
   },
   {
    "duration": 519,
    "start_time": "2022-06-12T22:40:02.968Z"
   },
   {
    "duration": 622,
    "start_time": "2022-06-12T22:40:03.490Z"
   },
   {
    "duration": 186,
    "start_time": "2022-06-12T22:40:04.114Z"
   },
   {
    "duration": 177,
    "start_time": "2022-06-12T22:40:20.575Z"
   },
   {
    "duration": 88,
    "start_time": "2022-06-12T22:40:21.530Z"
   },
   {
    "duration": 129,
    "start_time": "2022-06-12T22:40:21.928Z"
   },
   {
    "duration": 201,
    "start_time": "2022-06-12T22:40:23.274Z"
   },
   {
    "duration": 26,
    "start_time": "2022-06-12T22:40:24.323Z"
   },
   {
    "duration": 55,
    "start_time": "2022-06-12T22:40:26.576Z"
   },
   {
    "duration": 21584,
    "start_time": "2022-06-12T22:40:27.052Z"
   },
   {
    "duration": 69,
    "start_time": "2022-06-12T22:40:48.638Z"
   },
   {
    "duration": 0,
    "start_time": "2022-06-12T22:40:48.709Z"
   },
   {
    "duration": 0,
    "start_time": "2022-06-12T22:40:48.711Z"
   },
   {
    "duration": 0,
    "start_time": "2022-06-12T22:40:48.713Z"
   },
   {
    "duration": 0,
    "start_time": "2022-06-12T22:40:48.714Z"
   },
   {
    "duration": 0,
    "start_time": "2022-06-12T22:40:48.716Z"
   },
   {
    "duration": 0,
    "start_time": "2022-06-12T22:40:48.717Z"
   },
   {
    "duration": 0,
    "start_time": "2022-06-12T22:40:48.719Z"
   },
   {
    "duration": 0,
    "start_time": "2022-06-12T22:40:48.720Z"
   },
   {
    "duration": 0,
    "start_time": "2022-06-12T22:40:48.722Z"
   },
   {
    "duration": 0,
    "start_time": "2022-06-12T22:40:48.728Z"
   },
   {
    "duration": 0,
    "start_time": "2022-06-12T22:40:48.729Z"
   },
   {
    "duration": 0,
    "start_time": "2022-06-12T22:40:48.730Z"
   },
   {
    "duration": 0,
    "start_time": "2022-06-12T22:40:48.731Z"
   },
   {
    "duration": 0,
    "start_time": "2022-06-12T22:40:48.732Z"
   },
   {
    "duration": 0,
    "start_time": "2022-06-12T22:40:48.738Z"
   },
   {
    "duration": 1404,
    "start_time": "2022-06-12T22:40:55.914Z"
   },
   {
    "duration": 1523,
    "start_time": "2022-06-12T22:40:57.319Z"
   },
   {
    "duration": 161,
    "start_time": "2022-06-12T22:40:58.844Z"
   },
   {
    "duration": 94,
    "start_time": "2022-06-12T22:40:59.007Z"
   },
   {
    "duration": 84,
    "start_time": "2022-06-12T22:40:59.103Z"
   },
   {
    "duration": 473,
    "start_time": "2022-06-12T22:40:59.188Z"
   },
   {
    "duration": 583,
    "start_time": "2022-06-12T22:40:59.662Z"
   },
   {
    "duration": 175,
    "start_time": "2022-06-12T22:41:00.246Z"
   },
   {
    "duration": 164,
    "start_time": "2022-06-12T22:41:00.423Z"
   },
   {
    "duration": 74,
    "start_time": "2022-06-12T22:41:00.589Z"
   },
   {
    "duration": 125,
    "start_time": "2022-06-12T22:41:00.664Z"
   },
   {
    "duration": 222,
    "start_time": "2022-06-12T22:41:00.790Z"
   },
   {
    "duration": 31,
    "start_time": "2022-06-12T22:41:01.014Z"
   },
   {
    "duration": 52,
    "start_time": "2022-06-12T22:41:01.449Z"
   },
   {
    "duration": 321048,
    "start_time": "2022-06-12T22:41:01.667Z"
   },
   {
    "duration": 57,
    "start_time": "2022-06-12T22:46:22.717Z"
   },
   {
    "duration": 124,
    "start_time": "2022-06-12T22:46:22.776Z"
   },
   {
    "duration": 33,
    "start_time": "2022-06-12T22:46:22.902Z"
   },
   {
    "duration": 173,
    "start_time": "2022-06-12T22:46:22.937Z"
   },
   {
    "duration": 57,
    "start_time": "2022-06-12T22:46:23.112Z"
   },
   {
    "duration": 13,
    "start_time": "2022-06-12T22:46:23.171Z"
   },
   {
    "duration": 28,
    "start_time": "2022-06-12T22:46:23.186Z"
   },
   {
    "duration": 83,
    "start_time": "2022-06-12T22:46:23.216Z"
   },
   {
    "duration": 206,
    "start_time": "2022-06-12T22:46:23.301Z"
   },
   {
    "duration": 20,
    "start_time": "2022-06-12T22:46:23.508Z"
   },
   {
    "duration": 21,
    "start_time": "2022-06-12T22:46:23.536Z"
   },
   {
    "duration": 15,
    "start_time": "2022-06-12T22:46:23.559Z"
   },
   {
    "duration": 25,
    "start_time": "2022-06-12T22:46:23.576Z"
   },
   {
    "duration": 4,
    "start_time": "2022-06-12T22:46:23.602Z"
   },
   {
    "duration": 57,
    "start_time": "2022-06-12T22:46:23.607Z"
   },
   {
    "duration": 569,
    "start_time": "2022-06-12T22:46:23.666Z"
   },
   {
    "duration": 171,
    "start_time": "2022-06-12T22:46:24.238Z"
   },
   {
    "duration": 245,
    "start_time": "2022-06-12T22:46:24.410Z"
   },
   {
    "duration": 4,
    "start_time": "2022-06-12T22:46:24.657Z"
   },
   {
    "duration": 312706,
    "start_time": "2022-06-12T22:46:24.663Z"
   },
   {
    "duration": 5755464,
    "start_time": "2022-06-12T22:51:37.371Z"
   },
   {
    "duration": 2843122,
    "start_time": "2022-06-13T00:27:32.837Z"
   },
   {
    "duration": 3,
    "start_time": "2022-06-13T01:14:55.960Z"
   },
   {
    "duration": 18,
    "start_time": "2022-06-13T01:14:55.965Z"
   },
   {
    "duration": 8,
    "start_time": "2022-06-13T01:14:55.984Z"
   },
   {
    "duration": 5426,
    "start_time": "2022-06-13T01:14:55.994Z"
   },
   {
    "duration": 93864,
    "start_time": "2022-06-13T01:15:01.423Z"
   },
   {
    "duration": 33151,
    "start_time": "2022-06-13T01:16:35.288Z"
   },
   {
    "duration": 70051,
    "start_time": "2022-06-13T01:17:08.442Z"
   },
   {
    "duration": 33143,
    "start_time": "2022-06-13T01:18:18.494Z"
   },
   {
    "duration": 47,
    "start_time": "2022-06-13T01:18:51.639Z"
   }
  ],
  "kernelspec": {
   "display_name": "Python 3 (ipykernel)",
   "language": "python",
   "name": "python3"
  },
  "language_info": {
   "codemirror_mode": {
    "name": "ipython",
    "version": 3
   },
   "file_extension": ".py",
   "mimetype": "text/x-python",
   "name": "python",
   "nbconvert_exporter": "python",
   "pygments_lexer": "ipython3",
   "version": "3.9.12"
  },
  "toc": {
   "base_numbering": 1,
   "nav_menu": {},
   "number_sections": true,
   "sideBar": true,
   "skip_h1_title": true,
   "title_cell": "Содержание:",
   "title_sidebar": "Contents",
   "toc_cell": true,
   "toc_position": {
    "height": "calc(100% - 180px)",
    "left": "10px",
    "top": "150px",
    "width": "302.391px"
   },
   "toc_section_display": true,
   "toc_window_display": true
  }
 },
 "nbformat": 4,
 "nbformat_minor": 5
}
