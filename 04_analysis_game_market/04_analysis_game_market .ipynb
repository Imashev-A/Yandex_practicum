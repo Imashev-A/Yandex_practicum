{
 "cells": [
  {
   "cell_type": "markdown",
   "id": "2fc8bf26",
   "metadata": {
    "toc": true
   },
   "source": [
    "<h1>Содержание<span class=\"tocSkip\"></span></h1>\n",
    "<div class=\"toc\"><ul class=\"toc-item\"><li><span><a href=\"#Изучение-данных-из-файла\" data-toc-modified-id=\"Изучение-данных-из-файла-1\"><span class=\"toc-item-num\">1&nbsp;&nbsp;</span>Изучение данных из файла</a></span></li><li><span><a href=\"#Предобработка-данных\" data-toc-modified-id=\"Предобработка-данных-2\"><span class=\"toc-item-num\">2&nbsp;&nbsp;</span>Предобработка данных</a></span><ul class=\"toc-item\"><li><span><a href=\"#Стиль-заголовков\" data-toc-modified-id=\"Стиль-заголовков-2.1\"><span class=\"toc-item-num\">2.1&nbsp;&nbsp;</span>Стиль заголовков</a></span></li><li><span><a href=\"#Обработка-пропусков\" data-toc-modified-id=\"Обработка-пропусков-2.2\"><span class=\"toc-item-num\">2.2&nbsp;&nbsp;</span>Обработка пропусков</a></span><ul class=\"toc-item\"><li><span><a href=\"#Пропуски-name\" data-toc-modified-id=\"Пропуски-name-2.2.1\"><span class=\"toc-item-num\">2.2.1&nbsp;&nbsp;</span>Пропуски name</a></span></li><li><span><a href=\"#Пропуски-year_of_release\" data-toc-modified-id=\"Пропуски-year_of_release-2.2.2\"><span class=\"toc-item-num\">2.2.2&nbsp;&nbsp;</span>Пропуски year_of_release</a></span></li><li><span><a href=\"#Пропуски-critic_score,-user_score\" data-toc-modified-id=\"Пропуски-critic_score,-user_score-2.2.3\"><span class=\"toc-item-num\">2.2.3&nbsp;&nbsp;</span>Пропуски critic_score, user_score</a></span></li><li><span><a href=\"#Пропуски-rating\" data-toc-modified-id=\"Пропуски-rating-2.2.4\"><span class=\"toc-item-num\">2.2.4&nbsp;&nbsp;</span>Пропуски rating</a></span></li><li><span><a href=\"#Вывод\" data-toc-modified-id=\"Вывод-2.2.5\"><span class=\"toc-item-num\">2.2.5&nbsp;&nbsp;</span>Вывод</a></span></li></ul></li><li><span><a href=\"#Замена-типа-данных\" data-toc-modified-id=\"Замена-типа-данных-2.3\"><span class=\"toc-item-num\">2.3&nbsp;&nbsp;</span>Замена типа данных</a></span></li><li><span><a href=\"#Суммарные-продажи-во-всех-регионах.\" data-toc-modified-id=\"Суммарные-продажи-во-всех-регионах.-2.4\"><span class=\"toc-item-num\">2.4&nbsp;&nbsp;</span>Суммарные продажи во всех регионах.</a></span></li></ul></li><li><span><a href=\"#Анализ-данных\" data-toc-modified-id=\"Анализ-данных-3\"><span class=\"toc-item-num\">3&nbsp;&nbsp;</span>Анализ данных</a></span><ul class=\"toc-item\"><li><span><a href=\"#Количество-игр-в-разные-годы\" data-toc-modified-id=\"Количество-игр-в-разные-годы-3.1\"><span class=\"toc-item-num\">3.1&nbsp;&nbsp;</span>Количество игр в разные годы</a></span></li><li><span><a href=\"#Количество-продаж-по-платформам.\" data-toc-modified-id=\"Количество-продаж-по-платформам.-3.2\"><span class=\"toc-item-num\">3.2&nbsp;&nbsp;</span>Количество продаж по платформам.</a></span></li><li><span><a href=\"#Прогноз-на-2017-год.\" data-toc-modified-id=\"Прогноз-на-2017-год.-3.3\"><span class=\"toc-item-num\">3.3&nbsp;&nbsp;</span>Прогноз на 2017 год.</a></span><ul class=\"toc-item\"><li><span><a href=\"#Анализ-платформ-по-годам\" data-toc-modified-id=\"Анализ-платформ-по-годам-3.3.1\"><span class=\"toc-item-num\">3.3.1&nbsp;&nbsp;</span>Анализ платформ по годам</a></span></li><li><span><a href=\"#График-глобальных-продаж-игр-в-разбивке-по-платформам.\" data-toc-modified-id=\"График-глобальных-продаж-игр-в-разбивке-по-платформам.-3.3.2\"><span class=\"toc-item-num\">3.3.2&nbsp;&nbsp;</span>График глобальных продаж игр в разбивке по платформам.</a></span></li><li><span><a href=\"#Влияние-отзывов-на-продажи-платформы-PS4\" data-toc-modified-id=\"Влияние-отзывов-на-продажи-платформы-PS4-3.3.3\"><span class=\"toc-item-num\">3.3.3&nbsp;&nbsp;</span>Влияние отзывов на продажи платформы PS4</a></span></li><li><span><a href=\"#Влияние-отзывов-на-продажи-других-платформах\" data-toc-modified-id=\"Влияние-отзывов-на-продажи-других-платформах-3.3.4\"><span class=\"toc-item-num\">3.3.4&nbsp;&nbsp;</span>Влияние отзывов на продажи других платформах</a></span></li><li><span><a href=\"#Распределение-игр-по-жанрам.\" data-toc-modified-id=\"Распределение-игр-по-жанрам.-3.3.5\"><span class=\"toc-item-num\">3.3.5&nbsp;&nbsp;</span>Распределение игр по жанрам.</a></span></li></ul></li></ul></li><li><span><a href=\"#Пользователи-регионов\" data-toc-modified-id=\"Пользователи-регионов-4\"><span class=\"toc-item-num\">4&nbsp;&nbsp;</span>Пользователи регионов</a></span><ul class=\"toc-item\"><li><span><a href=\"#Самые-популярные-платформы-(топ-5).\" data-toc-modified-id=\"Самые-популярные-платформы-(топ-5).-4.1\"><span class=\"toc-item-num\">4.1&nbsp;&nbsp;</span>Самые популярные платформы (топ-5).</a></span></li><li><span><a href=\"#Самые-популярные-жанры-(топ-5).\" data-toc-modified-id=\"Самые-популярные-жанры-(топ-5).-4.2\"><span class=\"toc-item-num\">4.2&nbsp;&nbsp;</span>Самые популярные жанры (топ-5).</a></span></li><li><span><a href=\"#Влияние-рейтинга-ESRB-на-продажи-в-отдельном-регионе.\" data-toc-modified-id=\"Влияние-рейтинга-ESRB-на-продажи-в-отдельном-регионе.-4.3\"><span class=\"toc-item-num\">4.3&nbsp;&nbsp;</span>Влияние рейтинга ESRB на продажи в отдельном регионе.</a></span></li><li><span><a href=\"#Вывод.\" data-toc-modified-id=\"Вывод.-4.4\"><span class=\"toc-item-num\">4.4&nbsp;&nbsp;</span>Вывод.</a></span></li></ul></li><li><span><a href=\"#Проверка-гипотез\" data-toc-modified-id=\"Проверка-гипотез-5\"><span class=\"toc-item-num\">5&nbsp;&nbsp;</span>Проверка гипотез</a></span><ul class=\"toc-item\"><li><span><a href=\"#Гипотеза-1\" data-toc-modified-id=\"Гипотеза-1-5.1\"><span class=\"toc-item-num\">5.1&nbsp;&nbsp;</span>Гипотеза 1</a></span></li><li><span><a href=\"#Гипотеза-2\" data-toc-modified-id=\"Гипотеза-2-5.2\"><span class=\"toc-item-num\">5.2&nbsp;&nbsp;</span>Гипотеза 2</a></span></li></ul></li><li><span><a href=\"#Общий-вывод\" data-toc-modified-id=\"Общий-вывод-6\"><span class=\"toc-item-num\">6&nbsp;&nbsp;</span>Общий вывод</a></span></li></ul></div>"
   ]
  },
  {
   "cell_type": "markdown",
   "id": "46b98ae6",
   "metadata": {},
   "source": [
    "# Анализ компании «Стримчик»"
   ]
  },
  {
   "cell_type": "markdown",
   "id": "af020cfa",
   "metadata": {},
   "source": [
    "Вы работаете в интернет-магазине «Стримчик», который продаёт по всему миру компьютерные игры. Из открытых источников доступны исторические данные о продажах игр, оценки пользователей и экспертов, жанры и платформы (например, Xbox или PlayStation). Вам нужно выявить определяющие успешность игры закономерности. Это позволит сделать ставку на потенциально популярный продукт и спланировать рекламные кампании.\n",
    "\n",
    "Перед вами данные до 2016 года. Представим, что сейчас декабрь 2016 г., и вы планируете кампанию на 2017-й. Нужно отработать принцип работы с данными. Неважно, прогнозируете ли вы продажи на 2017 год по данным 2016-го или же 2027-й — по данным 2026 года.\n",
    "\n",
    "В наборе данных попадается аббревиатура ESRB (Entertainment Software Rating Board) — это ассоциация, определяющая возрастной рейтинг компьютерных игр. ESRB оценивает игровой контент и присваивает ему подходящую возрастную категорию, например, «Для взрослых», «Для детей младшего возраста» или «Для подростков»."
   ]
  },
  {
   "cell_type": "markdown",
   "id": "be9704c2",
   "metadata": {},
   "source": [
    "# Описание данных\n",
    "\n",
    "* Name — название игры\n",
    "* Platform — платформа\n",
    "* Year_of_Release — год выпуска\n",
    "* Genre — жанр игры\n",
    "* NA_sales — продажи в Северной Америке (миллионы проданных копий)\n",
    "* EU_sales — продажи в Европе (миллионы проданных копий)\n",
    "* JP_sales — продажи в Японии (миллионы проданных копий)\n",
    "* Other_sales — продажи в других странах (миллионы проданных копий)\n",
    "* Critic_Score — оценка критиков (максимум 100)\n",
    "* User_Score — оценка пользователей (максимум 10)\n",
    "* Rating — рейтинг от организации ESRB (англ. Entertainment Software Rating Board). Эта ассоциация определяет рейтинг компьютерных игр и присваивает им подходящую возрастную категорию.\n",
    "\n",
    "Данные за 2016 год могут быть неполными."
   ]
  },
  {
   "cell_type": "markdown",
   "id": "0d4fbd53",
   "metadata": {},
   "source": [
    "## Изучение данных из файла"
   ]
  },
  {
   "cell_type": "code",
   "execution_count": 1,
   "id": "d995ef72",
   "metadata": {},
   "outputs": [],
   "source": [
    "import matplotlib.pyplot as plt\n",
    "import numpy as np\n",
    "import pandas as pd\n",
    "import warnings\n",
    "\n",
    "from pymystem3 import Mystem\n",
    "from scipy import stats as st"
   ]
  },
  {
   "cell_type": "markdown",
   "id": "40cb4bd7",
   "metadata": {},
   "source": [
    "Загрузим и изучим данные"
   ]
  },
  {
   "cell_type": "code",
   "execution_count": 2,
   "id": "1147fca4",
   "metadata": {
    "scrolled": false
   },
   "outputs": [
    {
     "name": "stdout",
     "output_type": "stream",
     "text": [
      "<class 'pandas.core.frame.DataFrame'>\n",
      "RangeIndex: 16715 entries, 0 to 16714\n",
      "Data columns (total 11 columns):\n",
      "Name               16713 non-null object\n",
      "Platform           16715 non-null object\n",
      "Year_of_Release    16446 non-null float64\n",
      "Genre              16713 non-null object\n",
      "NA_sales           16715 non-null float64\n",
      "EU_sales           16715 non-null float64\n",
      "JP_sales           16715 non-null float64\n",
      "Other_sales        16715 non-null float64\n",
      "Critic_Score       8137 non-null float64\n",
      "User_Score         10014 non-null object\n",
      "Rating             9949 non-null object\n",
      "dtypes: float64(6), object(5)\n",
      "memory usage: 1.4+ MB\n"
     ]
    },
    {
     "data": {
      "text/html": [
       "<div>\n",
       "<style scoped>\n",
       "    .dataframe tbody tr th:only-of-type {\n",
       "        vertical-align: middle;\n",
       "    }\n",
       "\n",
       "    .dataframe tbody tr th {\n",
       "        vertical-align: top;\n",
       "    }\n",
       "\n",
       "    .dataframe thead th {\n",
       "        text-align: right;\n",
       "    }\n",
       "</style>\n",
       "<table border=\"1\" class=\"dataframe\">\n",
       "  <thead>\n",
       "    <tr style=\"text-align: right;\">\n",
       "      <th></th>\n",
       "      <th>Name</th>\n",
       "      <th>Platform</th>\n",
       "      <th>Year_of_Release</th>\n",
       "      <th>Genre</th>\n",
       "      <th>NA_sales</th>\n",
       "      <th>EU_sales</th>\n",
       "      <th>JP_sales</th>\n",
       "      <th>Other_sales</th>\n",
       "      <th>Critic_Score</th>\n",
       "      <th>User_Score</th>\n",
       "      <th>Rating</th>\n",
       "    </tr>\n",
       "  </thead>\n",
       "  <tbody>\n",
       "    <tr>\n",
       "      <td>0</td>\n",
       "      <td>Wii Sports</td>\n",
       "      <td>Wii</td>\n",
       "      <td>2006.0</td>\n",
       "      <td>Sports</td>\n",
       "      <td>41.36</td>\n",
       "      <td>28.96</td>\n",
       "      <td>3.77</td>\n",
       "      <td>8.45</td>\n",
       "      <td>76.0</td>\n",
       "      <td>8</td>\n",
       "      <td>E</td>\n",
       "    </tr>\n",
       "    <tr>\n",
       "      <td>1</td>\n",
       "      <td>Super Mario Bros.</td>\n",
       "      <td>NES</td>\n",
       "      <td>1985.0</td>\n",
       "      <td>Platform</td>\n",
       "      <td>29.08</td>\n",
       "      <td>3.58</td>\n",
       "      <td>6.81</td>\n",
       "      <td>0.77</td>\n",
       "      <td>NaN</td>\n",
       "      <td>NaN</td>\n",
       "      <td>NaN</td>\n",
       "    </tr>\n",
       "    <tr>\n",
       "      <td>2</td>\n",
       "      <td>Mario Kart Wii</td>\n",
       "      <td>Wii</td>\n",
       "      <td>2008.0</td>\n",
       "      <td>Racing</td>\n",
       "      <td>15.68</td>\n",
       "      <td>12.76</td>\n",
       "      <td>3.79</td>\n",
       "      <td>3.29</td>\n",
       "      <td>82.0</td>\n",
       "      <td>8.3</td>\n",
       "      <td>E</td>\n",
       "    </tr>\n",
       "    <tr>\n",
       "      <td>3</td>\n",
       "      <td>Wii Sports Resort</td>\n",
       "      <td>Wii</td>\n",
       "      <td>2009.0</td>\n",
       "      <td>Sports</td>\n",
       "      <td>15.61</td>\n",
       "      <td>10.93</td>\n",
       "      <td>3.28</td>\n",
       "      <td>2.95</td>\n",
       "      <td>80.0</td>\n",
       "      <td>8</td>\n",
       "      <td>E</td>\n",
       "    </tr>\n",
       "    <tr>\n",
       "      <td>4</td>\n",
       "      <td>Pokemon Red/Pokemon Blue</td>\n",
       "      <td>GB</td>\n",
       "      <td>1996.0</td>\n",
       "      <td>Role-Playing</td>\n",
       "      <td>11.27</td>\n",
       "      <td>8.89</td>\n",
       "      <td>10.22</td>\n",
       "      <td>1.00</td>\n",
       "      <td>NaN</td>\n",
       "      <td>NaN</td>\n",
       "      <td>NaN</td>\n",
       "    </tr>\n",
       "    <tr>\n",
       "      <td>5</td>\n",
       "      <td>Tetris</td>\n",
       "      <td>GB</td>\n",
       "      <td>1989.0</td>\n",
       "      <td>Puzzle</td>\n",
       "      <td>23.20</td>\n",
       "      <td>2.26</td>\n",
       "      <td>4.22</td>\n",
       "      <td>0.58</td>\n",
       "      <td>NaN</td>\n",
       "      <td>NaN</td>\n",
       "      <td>NaN</td>\n",
       "    </tr>\n",
       "    <tr>\n",
       "      <td>6</td>\n",
       "      <td>New Super Mario Bros.</td>\n",
       "      <td>DS</td>\n",
       "      <td>2006.0</td>\n",
       "      <td>Platform</td>\n",
       "      <td>11.28</td>\n",
       "      <td>9.14</td>\n",
       "      <td>6.50</td>\n",
       "      <td>2.88</td>\n",
       "      <td>89.0</td>\n",
       "      <td>8.5</td>\n",
       "      <td>E</td>\n",
       "    </tr>\n",
       "    <tr>\n",
       "      <td>7</td>\n",
       "      <td>Wii Play</td>\n",
       "      <td>Wii</td>\n",
       "      <td>2006.0</td>\n",
       "      <td>Misc</td>\n",
       "      <td>13.96</td>\n",
       "      <td>9.18</td>\n",
       "      <td>2.93</td>\n",
       "      <td>2.84</td>\n",
       "      <td>58.0</td>\n",
       "      <td>6.6</td>\n",
       "      <td>E</td>\n",
       "    </tr>\n",
       "    <tr>\n",
       "      <td>8</td>\n",
       "      <td>New Super Mario Bros. Wii</td>\n",
       "      <td>Wii</td>\n",
       "      <td>2009.0</td>\n",
       "      <td>Platform</td>\n",
       "      <td>14.44</td>\n",
       "      <td>6.94</td>\n",
       "      <td>4.70</td>\n",
       "      <td>2.24</td>\n",
       "      <td>87.0</td>\n",
       "      <td>8.4</td>\n",
       "      <td>E</td>\n",
       "    </tr>\n",
       "    <tr>\n",
       "      <td>9</td>\n",
       "      <td>Duck Hunt</td>\n",
       "      <td>NES</td>\n",
       "      <td>1984.0</td>\n",
       "      <td>Shooter</td>\n",
       "      <td>26.93</td>\n",
       "      <td>0.63</td>\n",
       "      <td>0.28</td>\n",
       "      <td>0.47</td>\n",
       "      <td>NaN</td>\n",
       "      <td>NaN</td>\n",
       "      <td>NaN</td>\n",
       "    </tr>\n",
       "  </tbody>\n",
       "</table>\n",
       "</div>"
      ],
      "text/plain": [
       "                        Name Platform  Year_of_Release         Genre  \\\n",
       "0                 Wii Sports      Wii           2006.0        Sports   \n",
       "1          Super Mario Bros.      NES           1985.0      Platform   \n",
       "2             Mario Kart Wii      Wii           2008.0        Racing   \n",
       "3          Wii Sports Resort      Wii           2009.0        Sports   \n",
       "4   Pokemon Red/Pokemon Blue       GB           1996.0  Role-Playing   \n",
       "5                     Tetris       GB           1989.0        Puzzle   \n",
       "6      New Super Mario Bros.       DS           2006.0      Platform   \n",
       "7                   Wii Play      Wii           2006.0          Misc   \n",
       "8  New Super Mario Bros. Wii      Wii           2009.0      Platform   \n",
       "9                  Duck Hunt      NES           1984.0       Shooter   \n",
       "\n",
       "   NA_sales  EU_sales  JP_sales  Other_sales  Critic_Score User_Score Rating  \n",
       "0     41.36     28.96      3.77         8.45          76.0          8      E  \n",
       "1     29.08      3.58      6.81         0.77           NaN        NaN    NaN  \n",
       "2     15.68     12.76      3.79         3.29          82.0        8.3      E  \n",
       "3     15.61     10.93      3.28         2.95          80.0          8      E  \n",
       "4     11.27      8.89     10.22         1.00           NaN        NaN    NaN  \n",
       "5     23.20      2.26      4.22         0.58           NaN        NaN    NaN  \n",
       "6     11.28      9.14      6.50         2.88          89.0        8.5      E  \n",
       "7     13.96      9.18      2.93         2.84          58.0        6.6      E  \n",
       "8     14.44      6.94      4.70         2.24          87.0        8.4      E  \n",
       "9     26.93      0.63      0.28         0.47           NaN        NaN    NaN  "
      ]
     },
     "execution_count": 2,
     "metadata": {},
     "output_type": "execute_result"
    }
   ],
   "source": [
    "df = pd.read_csv('./datasets/games.csv')\n",
    "df.info()\n",
    "df.head(10)"
   ]
  },
  {
   "cell_type": "markdown",
   "id": "081a1f9d",
   "metadata": {},
   "source": [
    "В данных очень много пропущенных значений, некоторые нужно будет заменить, некоторые оставим. В названиях колонок — расхождения с хорошим стилем, приведем все названия к нижнему регистру. И изменим тапы данных у 2 столбцов "
   ]
  },
  {
   "cell_type": "markdown",
   "id": "ff888057",
   "metadata": {},
   "source": [
    "## Предобработка данных"
   ]
  },
  {
   "cell_type": "markdown",
   "id": "3adf7414",
   "metadata": {},
   "source": [
    "### Стиль заголовков"
   ]
  },
  {
   "cell_type": "markdown",
   "id": "1ac1643e",
   "metadata": {},
   "source": [
    "Приведем названия столбцов к единому стилю, изменив регистр в названия."
   ]
  },
  {
   "cell_type": "code",
   "execution_count": 3,
   "id": "72d760ee",
   "metadata": {},
   "outputs": [
    {
     "data": {
      "text/plain": [
       "Index(['name', 'platform', 'year_of_release', 'genre', 'na_sales', 'eu_sales',\n",
       "       'jp_sales', 'other_sales', 'critic_score', 'user_score', 'rating'],\n",
       "      dtype='object')"
      ]
     },
     "execution_count": 3,
     "metadata": {},
     "output_type": "execute_result"
    }
   ],
   "source": [
    "df.columns = df.columns.str.lower()\n",
    "df.columns"
   ]
  },
  {
   "cell_type": "markdown",
   "id": "96812e9f",
   "metadata": {},
   "source": [
    "### Обработка пропусков"
   ]
  },
  {
   "cell_type": "markdown",
   "id": "8819db14",
   "metadata": {},
   "source": [
    "#### Пропуски name"
   ]
  },
  {
   "cell_type": "markdown",
   "id": "8d98d11a",
   "metadata": {},
   "source": [
    "Посмотрим, что за пустые значения в столбце name"
   ]
  },
  {
   "cell_type": "code",
   "execution_count": 4,
   "id": "d27ec51f",
   "metadata": {},
   "outputs": [
    {
     "data": {
      "text/html": [
       "<div>\n",
       "<style scoped>\n",
       "    .dataframe tbody tr th:only-of-type {\n",
       "        vertical-align: middle;\n",
       "    }\n",
       "\n",
       "    .dataframe tbody tr th {\n",
       "        vertical-align: top;\n",
       "    }\n",
       "\n",
       "    .dataframe thead th {\n",
       "        text-align: right;\n",
       "    }\n",
       "</style>\n",
       "<table border=\"1\" class=\"dataframe\">\n",
       "  <thead>\n",
       "    <tr style=\"text-align: right;\">\n",
       "      <th></th>\n",
       "      <th>name</th>\n",
       "      <th>platform</th>\n",
       "      <th>year_of_release</th>\n",
       "      <th>genre</th>\n",
       "      <th>na_sales</th>\n",
       "      <th>eu_sales</th>\n",
       "      <th>jp_sales</th>\n",
       "      <th>other_sales</th>\n",
       "      <th>critic_score</th>\n",
       "      <th>user_score</th>\n",
       "      <th>rating</th>\n",
       "    </tr>\n",
       "  </thead>\n",
       "  <tbody>\n",
       "    <tr>\n",
       "      <td>659</td>\n",
       "      <td>NaN</td>\n",
       "      <td>GEN</td>\n",
       "      <td>1993.0</td>\n",
       "      <td>NaN</td>\n",
       "      <td>1.78</td>\n",
       "      <td>0.53</td>\n",
       "      <td>0.00</td>\n",
       "      <td>0.08</td>\n",
       "      <td>NaN</td>\n",
       "      <td>NaN</td>\n",
       "      <td>NaN</td>\n",
       "    </tr>\n",
       "    <tr>\n",
       "      <td>14244</td>\n",
       "      <td>NaN</td>\n",
       "      <td>GEN</td>\n",
       "      <td>1993.0</td>\n",
       "      <td>NaN</td>\n",
       "      <td>0.00</td>\n",
       "      <td>0.00</td>\n",
       "      <td>0.03</td>\n",
       "      <td>0.00</td>\n",
       "      <td>NaN</td>\n",
       "      <td>NaN</td>\n",
       "      <td>NaN</td>\n",
       "    </tr>\n",
       "  </tbody>\n",
       "</table>\n",
       "</div>"
      ],
      "text/plain": [
       "      name platform  year_of_release genre  na_sales  eu_sales  jp_sales  \\\n",
       "659    NaN      GEN           1993.0   NaN      1.78      0.53      0.00   \n",
       "14244  NaN      GEN           1993.0   NaN      0.00      0.00      0.03   \n",
       "\n",
       "       other_sales  critic_score user_score rating  \n",
       "659           0.08           NaN        NaN    NaN  \n",
       "14244         0.00           NaN        NaN    NaN  "
      ]
     },
     "execution_count": 4,
     "metadata": {},
     "output_type": "execute_result"
    }
   ],
   "source": [
    "df.query('name.isna()')"
   ]
  },
  {
   "cell_type": "markdown",
   "id": "4742c858",
   "metadata": {},
   "source": [
    "Т.к. у нас нет названий у 2 игр, то удалим эти значения. Как видно эти строки также являются единственными пустыми значения в столбце genre."
   ]
  },
  {
   "cell_type": "code",
   "execution_count": 5,
   "id": "0ea40579",
   "metadata": {},
   "outputs": [
    {
     "data": {
      "text/plain": [
       "0"
      ]
     },
     "execution_count": 5,
     "metadata": {},
     "output_type": "execute_result"
    }
   ],
   "source": [
    "df.dropna(subset=['name'], inplace=True)\n",
    "df['name'].isna().sum()"
   ]
  },
  {
   "cell_type": "markdown",
   "id": "3ef92ced",
   "metadata": {},
   "source": [
    "#### Пропуски year_of_release"
   ]
  },
  {
   "cell_type": "markdown",
   "id": "4b8a3ec4",
   "metadata": {},
   "source": [
    "В столбце c годом выпуска игр, имеется 269 пропусков, что приблизительно равно 1.7 %. Как видно из данных, многие названия игр повторяются, т.к. могли выпускаться на разных платформах. Поэтому заменим пропуски в столбце с датой выпуска, у тех игр, в названиях которых имеются данные на других платформах. Из-за того, что игры на разных платформах, могли выходить в разные годы, возьмем медиану этих дат. "
   ]
  },
  {
   "cell_type": "code",
   "execution_count": 6,
   "id": "8e4af5bd",
   "metadata": {
    "scrolled": true
   },
   "outputs": [],
   "source": [
    "warnings.simplefilter(\"ignore\", category=RuntimeWarning)\n",
    "\n",
    "for i in df['name'].unique():\n",
    "    df.loc[(df['name']==i) & (df['year_of_release'].isna()), 'year_of_release'] = df.loc[(df['name']==i),'year_of_release'].median()"
   ]
  },
  {
   "cell_type": "code",
   "execution_count": 7,
   "id": "f7d70bfc",
   "metadata": {
    "scrolled": false
   },
   "outputs": [
    {
     "data": {
      "text/html": [
       "<div>\n",
       "<style scoped>\n",
       "    .dataframe tbody tr th:only-of-type {\n",
       "        vertical-align: middle;\n",
       "    }\n",
       "\n",
       "    .dataframe tbody tr th {\n",
       "        vertical-align: top;\n",
       "    }\n",
       "\n",
       "    .dataframe thead th {\n",
       "        text-align: right;\n",
       "    }\n",
       "</style>\n",
       "<table border=\"1\" class=\"dataframe\">\n",
       "  <thead>\n",
       "    <tr style=\"text-align: right;\">\n",
       "      <th></th>\n",
       "      <th>name</th>\n",
       "      <th>platform</th>\n",
       "      <th>year_of_release</th>\n",
       "      <th>genre</th>\n",
       "      <th>na_sales</th>\n",
       "      <th>eu_sales</th>\n",
       "      <th>jp_sales</th>\n",
       "      <th>other_sales</th>\n",
       "      <th>critic_score</th>\n",
       "      <th>user_score</th>\n",
       "      <th>rating</th>\n",
       "    </tr>\n",
       "  </thead>\n",
       "  <tbody>\n",
       "    <tr>\n",
       "      <td>475</td>\n",
       "      <td>wwe Smackdown vs. Raw 2006</td>\n",
       "      <td>PS2</td>\n",
       "      <td>NaN</td>\n",
       "      <td>Fighting</td>\n",
       "      <td>1.57</td>\n",
       "      <td>1.02</td>\n",
       "      <td>0.00</td>\n",
       "      <td>0.41</td>\n",
       "      <td>NaN</td>\n",
       "      <td>NaN</td>\n",
       "      <td>NaN</td>\n",
       "    </tr>\n",
       "    <tr>\n",
       "      <td>627</td>\n",
       "      <td>Rock Band</td>\n",
       "      <td>X360</td>\n",
       "      <td>NaN</td>\n",
       "      <td>Misc</td>\n",
       "      <td>1.93</td>\n",
       "      <td>0.33</td>\n",
       "      <td>0.00</td>\n",
       "      <td>0.21</td>\n",
       "      <td>92.0</td>\n",
       "      <td>8.2</td>\n",
       "      <td>T</td>\n",
       "    </tr>\n",
       "    <tr>\n",
       "      <td>657</td>\n",
       "      <td>Frogger's Adventures: Temple of the Frog</td>\n",
       "      <td>GBA</td>\n",
       "      <td>NaN</td>\n",
       "      <td>Adventure</td>\n",
       "      <td>2.15</td>\n",
       "      <td>0.18</td>\n",
       "      <td>0.00</td>\n",
       "      <td>0.07</td>\n",
       "      <td>73.0</td>\n",
       "      <td>tbd</td>\n",
       "      <td>E</td>\n",
       "    </tr>\n",
       "    <tr>\n",
       "      <td>805</td>\n",
       "      <td>Rock Band</td>\n",
       "      <td>Wii</td>\n",
       "      <td>NaN</td>\n",
       "      <td>Misc</td>\n",
       "      <td>1.33</td>\n",
       "      <td>0.56</td>\n",
       "      <td>0.00</td>\n",
       "      <td>0.20</td>\n",
       "      <td>80.0</td>\n",
       "      <td>6.3</td>\n",
       "      <td>T</td>\n",
       "    </tr>\n",
       "    <tr>\n",
       "      <td>1142</td>\n",
       "      <td>Rock Band</td>\n",
       "      <td>PS3</td>\n",
       "      <td>NaN</td>\n",
       "      <td>Misc</td>\n",
       "      <td>0.99</td>\n",
       "      <td>0.41</td>\n",
       "      <td>0.00</td>\n",
       "      <td>0.22</td>\n",
       "      <td>92.0</td>\n",
       "      <td>8.4</td>\n",
       "      <td>T</td>\n",
       "    </tr>\n",
       "    <tr>\n",
       "      <td>...</td>\n",
       "      <td>...</td>\n",
       "      <td>...</td>\n",
       "      <td>...</td>\n",
       "      <td>...</td>\n",
       "      <td>...</td>\n",
       "      <td>...</td>\n",
       "      <td>...</td>\n",
       "      <td>...</td>\n",
       "      <td>...</td>\n",
       "      <td>...</td>\n",
       "      <td>...</td>\n",
       "    </tr>\n",
       "    <tr>\n",
       "      <td>16277</td>\n",
       "      <td>Homeworld Remastered Collection</td>\n",
       "      <td>PC</td>\n",
       "      <td>NaN</td>\n",
       "      <td>Strategy</td>\n",
       "      <td>0.00</td>\n",
       "      <td>0.01</td>\n",
       "      <td>0.00</td>\n",
       "      <td>0.00</td>\n",
       "      <td>86.0</td>\n",
       "      <td>8.2</td>\n",
       "      <td>E10+</td>\n",
       "    </tr>\n",
       "    <tr>\n",
       "      <td>16288</td>\n",
       "      <td>Shorts</td>\n",
       "      <td>DS</td>\n",
       "      <td>NaN</td>\n",
       "      <td>Platform</td>\n",
       "      <td>0.01</td>\n",
       "      <td>0.00</td>\n",
       "      <td>0.00</td>\n",
       "      <td>0.00</td>\n",
       "      <td>NaN</td>\n",
       "      <td>tbd</td>\n",
       "      <td>E10+</td>\n",
       "    </tr>\n",
       "    <tr>\n",
       "      <td>16348</td>\n",
       "      <td>Agarest Senki: Re-appearance</td>\n",
       "      <td>PS3</td>\n",
       "      <td>NaN</td>\n",
       "      <td>Role-Playing</td>\n",
       "      <td>0.00</td>\n",
       "      <td>0.00</td>\n",
       "      <td>0.01</td>\n",
       "      <td>0.00</td>\n",
       "      <td>NaN</td>\n",
       "      <td>NaN</td>\n",
       "      <td>NaN</td>\n",
       "    </tr>\n",
       "    <tr>\n",
       "      <td>16458</td>\n",
       "      <td>Hakuouki: Shinsengumi Kitan</td>\n",
       "      <td>PS3</td>\n",
       "      <td>NaN</td>\n",
       "      <td>Adventure</td>\n",
       "      <td>0.01</td>\n",
       "      <td>0.00</td>\n",
       "      <td>0.00</td>\n",
       "      <td>0.00</td>\n",
       "      <td>NaN</td>\n",
       "      <td>NaN</td>\n",
       "      <td>NaN</td>\n",
       "    </tr>\n",
       "    <tr>\n",
       "      <td>16522</td>\n",
       "      <td>Virtua Quest</td>\n",
       "      <td>GC</td>\n",
       "      <td>NaN</td>\n",
       "      <td>Role-Playing</td>\n",
       "      <td>0.01</td>\n",
       "      <td>0.00</td>\n",
       "      <td>0.00</td>\n",
       "      <td>0.00</td>\n",
       "      <td>55.0</td>\n",
       "      <td>5.5</td>\n",
       "      <td>T</td>\n",
       "    </tr>\n",
       "  </tbody>\n",
       "</table>\n",
       "<p>146 rows × 11 columns</p>\n",
       "</div>"
      ],
      "text/plain": [
       "                                           name platform  year_of_release  \\\n",
       "475                  wwe Smackdown vs. Raw 2006      PS2              NaN   \n",
       "627                                   Rock Band     X360              NaN   \n",
       "657    Frogger's Adventures: Temple of the Frog      GBA              NaN   \n",
       "805                                   Rock Band      Wii              NaN   \n",
       "1142                                  Rock Band      PS3              NaN   \n",
       "...                                         ...      ...              ...   \n",
       "16277           Homeworld Remastered Collection       PC              NaN   \n",
       "16288                                    Shorts       DS              NaN   \n",
       "16348              Agarest Senki: Re-appearance      PS3              NaN   \n",
       "16458               Hakuouki: Shinsengumi Kitan      PS3              NaN   \n",
       "16522                              Virtua Quest       GC              NaN   \n",
       "\n",
       "              genre  na_sales  eu_sales  jp_sales  other_sales  critic_score  \\\n",
       "475        Fighting      1.57      1.02      0.00         0.41           NaN   \n",
       "627            Misc      1.93      0.33      0.00         0.21          92.0   \n",
       "657       Adventure      2.15      0.18      0.00         0.07          73.0   \n",
       "805            Misc      1.33      0.56      0.00         0.20          80.0   \n",
       "1142           Misc      0.99      0.41      0.00         0.22          92.0   \n",
       "...             ...       ...       ...       ...          ...           ...   \n",
       "16277      Strategy      0.00      0.01      0.00         0.00          86.0   \n",
       "16288      Platform      0.01      0.00      0.00         0.00           NaN   \n",
       "16348  Role-Playing      0.00      0.00      0.01         0.00           NaN   \n",
       "16458     Adventure      0.01      0.00      0.00         0.00           NaN   \n",
       "16522  Role-Playing      0.01      0.00      0.00         0.00          55.0   \n",
       "\n",
       "      user_score rating  \n",
       "475          NaN    NaN  \n",
       "627          8.2      T  \n",
       "657          tbd      E  \n",
       "805          6.3      T  \n",
       "1142         8.4      T  \n",
       "...          ...    ...  \n",
       "16277        8.2   E10+  \n",
       "16288        tbd   E10+  \n",
       "16348        NaN    NaN  \n",
       "16458        NaN    NaN  \n",
       "16522        5.5      T  \n",
       "\n",
       "[146 rows x 11 columns]"
      ]
     },
     "execution_count": 7,
     "metadata": {},
     "output_type": "execute_result"
    }
   ],
   "source": [
    "df.query('year_of_release.isna()')"
   ]
  },
  {
   "cell_type": "markdown",
   "id": "4afb1e3b",
   "metadata": {},
   "source": [
    "Мы уменьшили в 2 раза количество пропусков в столбце year_of_release, до 146. Удалим оставшиеся пропущенные значения "
   ]
  },
  {
   "cell_type": "code",
   "execution_count": 8,
   "id": "958c8918",
   "metadata": {},
   "outputs": [
    {
     "data": {
      "text/plain": [
       "0"
      ]
     },
     "execution_count": 8,
     "metadata": {},
     "output_type": "execute_result"
    }
   ],
   "source": [
    "df.dropna(subset=['year_of_release'], inplace=True)\n",
    "df['year_of_release'].isna().sum()"
   ]
  },
  {
   "cell_type": "markdown",
   "id": "91bd2ebd",
   "metadata": {},
   "source": [
    "#### Пропуски critic_score, user_score"
   ]
  },
  {
   "cell_type": "markdown",
   "id": "e7b0b23e",
   "metadata": {},
   "source": [
    "В столбцах **critic_score** и  **user_score** очень много пропусков, это данные оценок критиков и пользователей. Пропуски могли появиться, т.к. игры не популярны и оценок нет или их слишком мало для учета. Заменять пропуски данными из игр с разных платформ (как ранее с годом выпуска), в зависимости от жанров, средней или медианой не получится, т.к. одна и та же игра на разных платформах может иметь разные оценки (где-то больше глюков, где-то лучше детализация, требования). Поэтому эти пропуски трогать не будем.\n",
    "Посмотрим на уникальные значения в столбце user_score, тип данных в нем должен быть float."
   ]
  },
  {
   "cell_type": "code",
   "execution_count": 9,
   "id": "36105a1d",
   "metadata": {},
   "outputs": [
    {
     "data": {
      "text/plain": [
       "array(['8', nan, '8.3', '8.5', '6.6', '8.4', '8.6', '7.7', '6.3', '7.4',\n",
       "       '8.2', '9', '7.9', '8.1', '8.7', '7.1', '3.4', '5.3', '4.8', '3.2',\n",
       "       '8.9', '6.4', '7.8', '7.5', '2.6', '7.2', '9.2', '7', '7.3', '4.3',\n",
       "       '7.6', '5.7', '5', '9.1', '6.5', 'tbd', '8.8', '6.9', '9.4', '6.8',\n",
       "       '6.1', '6.7', '5.4', '4', '4.9', '4.5', '9.3', '6.2', '4.2', '6',\n",
       "       '3.7', '4.1', '5.8', '5.6', '5.5', '4.4', '4.6', '5.9', '3.9',\n",
       "       '3.1', '2.9', '5.2', '3.3', '4.7', '5.1', '3.5', '2.5', '1.9', '3',\n",
       "       '2.7', '2.2', '2', '9.5', '2.1', '3.6', '2.8', '1.8', '3.8', '0',\n",
       "       '1.6', '9.6', '2.4', '1.7', '1.1', '0.3', '1.5', '0.7', '1.2',\n",
       "       '2.3', '0.5', '1.3', '0.2', '0.6', '1.4', '0.9', '1', '9.7'],\n",
       "      dtype=object)"
      ]
     },
     "execution_count": 9,
     "metadata": {},
     "output_type": "execute_result"
    }
   ],
   "source": [
    "df['user_score'].unique()"
   ]
  },
  {
   "cell_type": "markdown",
   "id": "6a20ce59",
   "metadata": {},
   "source": [
    "Как видно имеются значения “tbd”, что является аббревиатурой от английского To Be Determined (будет определено) или To Be Decided (будет решено). Это скорее всего, из-за малого количества оценок, поэтому решение о результатах оценок пользователей еще нет. Заменим эти значения на NaN, чтобы в дальнейшем изменить на вещественный тип данных в столбце."
   ]
  },
  {
   "cell_type": "code",
   "execution_count": 10,
   "id": "d16dda92",
   "metadata": {},
   "outputs": [],
   "source": [
    "df['user_score'].replace('tbd', np.NaN, inplace=True)"
   ]
  },
  {
   "cell_type": "markdown",
   "id": "e0e60685",
   "metadata": {},
   "source": [
    "#### Пропуски rating"
   ]
  },
  {
   "cell_type": "code",
   "execution_count": 11,
   "id": "f297df60",
   "metadata": {},
   "outputs": [
    {
     "data": {
      "text/plain": [
       "6699"
      ]
     },
     "execution_count": 11,
     "metadata": {},
     "output_type": "execute_result"
    }
   ],
   "source": [
    "df['rating'].isna().sum()"
   ]
  },
  {
   "cell_type": "markdown",
   "id": "9441448a",
   "metadata": {},
   "source": [
    "В данных о рейтинге игр 6699 пропущенных значения. Заменим по возможности пропуски, у тех игр, в названиях которых имеются данные на других платформах. "
   ]
  },
  {
   "cell_type": "code",
   "execution_count": 12,
   "id": "82da04a2",
   "metadata": {
    "scrolled": false
   },
   "outputs": [],
   "source": [
    "df_rating = df.set_index(\"name\")['rating'].dropna().to_dict()\n",
    "def rating(row):\n",
    "    if pd.isna(row['rating']):\n",
    "        return df_rating.get(row['name'])\n",
    "    return row['rating']\n",
    "\n",
    "df['rating'] = df.apply(rating, axis=1)"
   ]
  },
  {
   "cell_type": "code",
   "execution_count": 13,
   "id": "55cfbbc1",
   "metadata": {},
   "outputs": [
    {
     "data": {
      "text/plain": [
       "6262"
      ]
     },
     "execution_count": 13,
     "metadata": {},
     "output_type": "execute_result"
    }
   ],
   "source": [
    "df['rating'].isna().sum()"
   ]
  },
  {
   "cell_type": "markdown",
   "id": "7e3c2a6d",
   "metadata": {},
   "source": [
    "Мы избавились от некоторых пропусков, но их все еще много. Остальные пропуски заменим на значение **other**"
   ]
  },
  {
   "cell_type": "code",
   "execution_count": 14,
   "id": "2e27f0b2",
   "metadata": {
    "scrolled": true
   },
   "outputs": [
    {
     "data": {
      "text/plain": [
       "0"
      ]
     },
     "execution_count": 14,
     "metadata": {},
     "output_type": "execute_result"
    }
   ],
   "source": [
    "df['rating'].fillna('other', inplace=True)\n",
    "df['rating'].isna().sum()"
   ]
  },
  {
   "cell_type": "markdown",
   "id": "0ed6c17f",
   "metadata": {},
   "source": [
    "#### Вывод"
   ]
  },
  {
   "cell_type": "markdown",
   "id": "b63f2ed1",
   "metadata": {},
   "source": [
    "По возможности избавились от пропущенных значений в дате выпуска и рейтинга игр, заменив значениями о играх на разных платформах. Пропуски в рейтингах игр могли появиться из-за того, что они вышли давно и тогда не применялась система рейтингов или не все игры, проходят оценку у этой ассоциации. Остальные пропуски не трогали"
   ]
  },
  {
   "cell_type": "markdown",
   "id": "b8619e72",
   "metadata": {},
   "source": [
    "### Замена типа данных"
   ]
  },
  {
   "cell_type": "markdown",
   "id": "1625cd34",
   "metadata": {},
   "source": [
    "Изменим типы данных у столбцов year_of_release и user_score."
   ]
  },
  {
   "cell_type": "code",
   "execution_count": 15,
   "id": "2555ce2a",
   "metadata": {},
   "outputs": [],
   "source": [
    "df = df.astype({'year_of_release': 'int', 'user_score': 'float'})"
   ]
  },
  {
   "cell_type": "code",
   "execution_count": 16,
   "id": "1d709cf1",
   "metadata": {},
   "outputs": [
    {
     "name": "stdout",
     "output_type": "stream",
     "text": [
      "<class 'pandas.core.frame.DataFrame'>\n",
      "Int64Index: 16567 entries, 0 to 16714\n",
      "Data columns (total 11 columns):\n",
      "name               16567 non-null object\n",
      "platform           16567 non-null object\n",
      "year_of_release    16567 non-null int32\n",
      "genre              16567 non-null object\n",
      "na_sales           16567 non-null float64\n",
      "eu_sales           16567 non-null float64\n",
      "jp_sales           16567 non-null float64\n",
      "other_sales        16567 non-null float64\n",
      "critic_score       8075 non-null float64\n",
      "user_score         7540 non-null float64\n",
      "rating             16567 non-null object\n",
      "dtypes: float64(6), int32(1), object(4)\n",
      "memory usage: 1.5+ MB\n"
     ]
    }
   ],
   "source": [
    "df.info()"
   ]
  },
  {
   "cell_type": "markdown",
   "id": "5da54a72",
   "metadata": {},
   "source": [
    "### Суммарные продажи во всех регионах."
   ]
  },
  {
   "cell_type": "markdown",
   "id": "e23a4ba6",
   "metadata": {},
   "source": [
    "Посчитаем суммарные продажи во всех регионах и запишите их в отдельный столбец all_sales."
   ]
  },
  {
   "cell_type": "code",
   "execution_count": 17,
   "id": "caa78e72",
   "metadata": {},
   "outputs": [
    {
     "data": {
      "text/html": [
       "<div>\n",
       "<style scoped>\n",
       "    .dataframe tbody tr th:only-of-type {\n",
       "        vertical-align: middle;\n",
       "    }\n",
       "\n",
       "    .dataframe tbody tr th {\n",
       "        vertical-align: top;\n",
       "    }\n",
       "\n",
       "    .dataframe thead th {\n",
       "        text-align: right;\n",
       "    }\n",
       "</style>\n",
       "<table border=\"1\" class=\"dataframe\">\n",
       "  <thead>\n",
       "    <tr style=\"text-align: right;\">\n",
       "      <th></th>\n",
       "      <th>name</th>\n",
       "      <th>platform</th>\n",
       "      <th>year_of_release</th>\n",
       "      <th>genre</th>\n",
       "      <th>na_sales</th>\n",
       "      <th>eu_sales</th>\n",
       "      <th>jp_sales</th>\n",
       "      <th>other_sales</th>\n",
       "      <th>critic_score</th>\n",
       "      <th>user_score</th>\n",
       "      <th>rating</th>\n",
       "      <th>all_sales</th>\n",
       "    </tr>\n",
       "  </thead>\n",
       "  <tbody>\n",
       "    <tr>\n",
       "      <td>0</td>\n",
       "      <td>Wii Sports</td>\n",
       "      <td>Wii</td>\n",
       "      <td>2006</td>\n",
       "      <td>Sports</td>\n",
       "      <td>41.36</td>\n",
       "      <td>28.96</td>\n",
       "      <td>3.77</td>\n",
       "      <td>8.45</td>\n",
       "      <td>76.0</td>\n",
       "      <td>8.0</td>\n",
       "      <td>E</td>\n",
       "      <td>82.54</td>\n",
       "    </tr>\n",
       "    <tr>\n",
       "      <td>1</td>\n",
       "      <td>Super Mario Bros.</td>\n",
       "      <td>NES</td>\n",
       "      <td>1985</td>\n",
       "      <td>Platform</td>\n",
       "      <td>29.08</td>\n",
       "      <td>3.58</td>\n",
       "      <td>6.81</td>\n",
       "      <td>0.77</td>\n",
       "      <td>NaN</td>\n",
       "      <td>NaN</td>\n",
       "      <td>other</td>\n",
       "      <td>40.24</td>\n",
       "    </tr>\n",
       "    <tr>\n",
       "      <td>2</td>\n",
       "      <td>Mario Kart Wii</td>\n",
       "      <td>Wii</td>\n",
       "      <td>2008</td>\n",
       "      <td>Racing</td>\n",
       "      <td>15.68</td>\n",
       "      <td>12.76</td>\n",
       "      <td>3.79</td>\n",
       "      <td>3.29</td>\n",
       "      <td>82.0</td>\n",
       "      <td>8.3</td>\n",
       "      <td>E</td>\n",
       "      <td>35.52</td>\n",
       "    </tr>\n",
       "    <tr>\n",
       "      <td>3</td>\n",
       "      <td>Wii Sports Resort</td>\n",
       "      <td>Wii</td>\n",
       "      <td>2009</td>\n",
       "      <td>Sports</td>\n",
       "      <td>15.61</td>\n",
       "      <td>10.93</td>\n",
       "      <td>3.28</td>\n",
       "      <td>2.95</td>\n",
       "      <td>80.0</td>\n",
       "      <td>8.0</td>\n",
       "      <td>E</td>\n",
       "      <td>32.77</td>\n",
       "    </tr>\n",
       "    <tr>\n",
       "      <td>4</td>\n",
       "      <td>Pokemon Red/Pokemon Blue</td>\n",
       "      <td>GB</td>\n",
       "      <td>1996</td>\n",
       "      <td>Role-Playing</td>\n",
       "      <td>11.27</td>\n",
       "      <td>8.89</td>\n",
       "      <td>10.22</td>\n",
       "      <td>1.00</td>\n",
       "      <td>NaN</td>\n",
       "      <td>NaN</td>\n",
       "      <td>other</td>\n",
       "      <td>31.38</td>\n",
       "    </tr>\n",
       "  </tbody>\n",
       "</table>\n",
       "</div>"
      ],
      "text/plain": [
       "                       name platform  year_of_release         genre  na_sales  \\\n",
       "0                Wii Sports      Wii             2006        Sports     41.36   \n",
       "1         Super Mario Bros.      NES             1985      Platform     29.08   \n",
       "2            Mario Kart Wii      Wii             2008        Racing     15.68   \n",
       "3         Wii Sports Resort      Wii             2009        Sports     15.61   \n",
       "4  Pokemon Red/Pokemon Blue       GB             1996  Role-Playing     11.27   \n",
       "\n",
       "   eu_sales  jp_sales  other_sales  critic_score  user_score rating  all_sales  \n",
       "0     28.96      3.77         8.45          76.0         8.0      E      82.54  \n",
       "1      3.58      6.81         0.77           NaN         NaN  other      40.24  \n",
       "2     12.76      3.79         3.29          82.0         8.3      E      35.52  \n",
       "3     10.93      3.28         2.95          80.0         8.0      E      32.77  \n",
       "4      8.89     10.22         1.00           NaN         NaN  other      31.38  "
      ]
     },
     "execution_count": 17,
     "metadata": {},
     "output_type": "execute_result"
    }
   ],
   "source": [
    "df['all_sales'] = df['na_sales'] + df['eu_sales'] + df['jp_sales'] + df['other_sales']\n",
    "df.head()"
   ]
  },
  {
   "cell_type": "markdown",
   "id": "9258892f",
   "metadata": {},
   "source": [
    "## Анализ данных"
   ]
  },
  {
   "cell_type": "code",
   "execution_count": 18,
   "id": "3e8114a6",
   "metadata": {},
   "outputs": [],
   "source": [
    "def relation(table, xcolumn, ycolumn, title, ylabel, kind, figsize=(6,4), func='count'):\n",
    "    if func == 'count':\n",
    "        filter_column = table.groupby(xcolumn)[ycolumn].count()\n",
    "    else:\n",
    "        filter_column = table.groupby(xcolumn)[ycolumn].sum().sort_values(ascending=False)\n",
    "    plt.ylabel(ylabel)\n",
    "    return filter_column.plot(x=xcolumn, y=ycolumn, title=title, kind=kind, legend=False, figsize=figsize, grid=True)"
   ]
  },
  {
   "cell_type": "markdown",
   "id": "ca6aaafe",
   "metadata": {},
   "source": [
    "### Количество игр в разные годы"
   ]
  },
  {
   "cell_type": "markdown",
   "id": "2c907096",
   "metadata": {},
   "source": [
    "Построим гистограмму количества игр в разные годы."
   ]
  },
  {
   "cell_type": "code",
   "execution_count": 19,
   "id": "c856d37a",
   "metadata": {
    "scrolled": false
   },
   "outputs": [
    {
     "data": {
      "text/plain": [
       "<matplotlib.axes._subplots.AxesSubplot at 0x22c2c1f1b08>"
      ]
     },
     "execution_count": 19,
     "metadata": {},
     "output_type": "execute_result"
    },
    {
     "data": {
      "image/png": "[encoded data removed]",
      "text/plain": [
       "<Figure size 1080x360 with 1 Axes>"
      ]
     },
     "metadata": {
      "needs_background": "light"
     },
     "output_type": "display_data"
    }
   ],
   "source": [
    "relation(df, 'year_of_release', 'name', 'Количество игр в разные годы', 'Количество игр', 'bar', (15,5), 'count')"
   ]
  },
  {
   "cell_type": "markdown",
   "id": "ec84c093",
   "metadata": {},
   "source": [
    "Как видно из данных, до 1995 года игр выпускалось мало. С развитием технологий появляется больше игр. В начале 21 века происходит скачок появлении новых игр, игры становятся разнообразнее, реалистичнее, чему поспособствовало развитие технологий. Пик приходится на 2008 год, потом наблюдается спад, скорее всего из-за экономического кризиса. Игр становится меньше, но из-за конкуренции и охвата большей аудитории, они становятся лучше, создание которых более трудоемко и требует больше времени.\n",
    "\n",
    "Посмотри на данные начиная с 1995 года."
   ]
  },
  {
   "cell_type": "code",
   "execution_count": 20,
   "id": "084d09ba",
   "metadata": {},
   "outputs": [
    {
     "data": {
      "text/plain": [
       "<matplotlib.axes._subplots.AxesSubplot at 0x22c2c4cd688>"
      ]
     },
     "execution_count": 20,
     "metadata": {},
     "output_type": "execute_result"
    },
    {
     "data": {
      "image/png": "[encoded data removed]",
      "text/plain": [
       "<Figure size 864x288 with 1 Axes>"
      ]
     },
     "metadata": {
      "needs_background": "light"
     },
     "output_type": "display_data"
    }
   ],
   "source": [
    "relation(df.query('year_of_release > 1994'), 'year_of_release', \\\n",
    "         'name', 'Количество игр c 1995 года', 'Количество игр', 'bar', (12,4))"
   ]
  },
  {
   "cell_type": "markdown",
   "id": "c7974004",
   "metadata": {},
   "source": [
    "### Количество продаж по платформам. "
   ]
  },
  {
   "cell_type": "markdown",
   "id": "7a6c03cc",
   "metadata": {},
   "source": [
    "Посмотрим на данные по количеству продаж игр в зависимости от платформы."
   ]
  },
  {
   "cell_type": "code",
   "execution_count": 21,
   "id": "18ea40b4",
   "metadata": {},
   "outputs": [
    {
     "data": {
      "text/plain": [
       "<matplotlib.axes._subplots.AxesSubplot at 0x22c2c3a4d88>"
      ]
     },
     "execution_count": 21,
     "metadata": {},
     "output_type": "execute_result"
    },
    {
     "data": {
      "image/png": "[encoded data removed]",
      "text/plain": [
       "<Figure size 1080x360 with 1 Axes>"
      ]
     },
     "metadata": {
      "needs_background": "light"
     },
     "output_type": "display_data"
    }
   ],
   "source": [
    "relation(df, 'platform', 'all_sales', 'Количество продаж по платформам', 'Количество продаж (млн.)', 'bar', (15,5), 'sum')"
   ]
  },
  {
   "cell_type": "markdown",
   "id": "65abea87",
   "metadata": {},
   "source": [
    "Как видно большая часть продаж, приходится на 6 платформ. Возьмем платформы с самым большим количеством продаж и посмотрим на их распределение по годам."
   ]
  },
  {
   "cell_type": "markdown",
   "id": "810ab3ac",
   "metadata": {},
   "source": [
    "Напишем функцию для дальнейшей постройки диаграмм "
   ]
  },
  {
   "cell_type": "code",
   "execution_count": 22,
   "id": "ff819637",
   "metadata": {
    "scrolled": true
   },
   "outputs": [],
   "source": [
    "def platsorm_line(table, row=0):\n",
    "    \n",
    "    if row == 1:\n",
    "        top_platform = list(df.groupby('platform')['all_sales'].sum().sort_values(ascending=False).index[:7])\n",
    "    else:\n",
    "        top_platform = df_2017['platform'].unique()\n",
    "\n",
    "    for i in top_platform:\n",
    "        platform_graf = table.query('platform == @i').groupby('year_of_release')['all_sales'].sum()\n",
    "        platform_graf.plot(x=platform_graf.index, y=platform_graf.values, style='-o', label=i, alpha=0.8, grid=True, figsize=(16, 6))\n",
    "        \n",
    "        if row == 1:\n",
    "            print('Платформа', '\\033[1m', i, '\\033[0m', platform_graf.index[0], '-', platform_graf.index[-1], \\\n",
    "                  'ПРодолжительность -', '\\033[1m', platform_graf.index[-1] - platform_graf.index[0], 'лет', '\\033[0m')\n",
    "        \n",
    "    plt.style.use('tableau-colorblind10') \n",
    "    plt.title('Количество продаж разных платформах по годам')\n",
    "    plt.title('Объёмы продаж на разных платформах по годам')\n",
    "    plt.xlabel('Год')    \n",
    "    plt.ylabel('Количество продаж (млн.)')\n",
    "    plt.legend()\n",
    "    "
   ]
  },
  {
   "cell_type": "markdown",
   "id": "74f2f18d",
   "metadata": {},
   "source": [
    "Построим графики количества продаж на разных платформах по годам"
   ]
  },
  {
   "cell_type": "code",
   "execution_count": 23,
   "id": "790a7b07",
   "metadata": {
    "scrolled": false
   },
   "outputs": [
    {
     "name": "stdout",
     "output_type": "stream",
     "text": [
      "Платформа \u001b[1m PS2 \u001b[0m 2000 - 2011 ПРодолжительность - \u001b[1m 11 лет \u001b[0m\n",
      "Платформа \u001b[1m X360 \u001b[0m 2005 - 2016 ПРодолжительность - \u001b[1m 11 лет \u001b[0m\n",
      "Платформа \u001b[1m PS3 \u001b[0m 2005 - 2016 ПРодолжительность - \u001b[1m 11 лет \u001b[0m\n",
      "Платформа \u001b[1m Wii \u001b[0m 2006 - 2016 ПРодолжительность - \u001b[1m 10 лет \u001b[0m\n",
      "Платформа \u001b[1m DS \u001b[0m 1985 - 2013 ПРодолжительность - \u001b[1m 28 лет \u001b[0m\n",
      "Платформа \u001b[1m PS \u001b[0m 1994 - 2003 ПРодолжительность - \u001b[1m 9 лет \u001b[0m\n",
      "Платформа \u001b[1m PS4 \u001b[0m 2013 - 2016 ПРодолжительность - \u001b[1m 3 лет \u001b[0m\n"
     ]
    },
    {
     "data": {
      "image/png": "[encoded data removed]",
      "text/plain": [
       "<Figure size 1152x432 with 1 Axes>"
      ]
     },
     "metadata": {
      "needs_background": "light"
     },
     "output_type": "display_data"
    }
   ],
   "source": [
    "platsorm_line(df, 1)"
   ]
  },
  {
   "cell_type": "markdown",
   "id": "c4d74ce7",
   "metadata": {},
   "source": [
    "Из данных видно, что игры для платформ продаются, около 11 лет. Ввиду того, что данные у нас только до 2016 года, проверить данные далее нет возможности. Из графика видно, что пик продаж происходит в первые 5 лет, потом идет спад с появлением новых платформ и выхода игр для них. Последние годы игр для старых платформ почти не производится, наблюдается появление новых платформ."
   ]
  },
  {
   "cell_type": "markdown",
   "id": "f55c9597",
   "metadata": {},
   "source": [
    "### Прогноз на 2017 год."
   ]
  },
  {
   "cell_type": "markdown",
   "id": "d0b55fb9",
   "metadata": {},
   "source": [
    "Для проведения прогноза на 2017 год, возьмем за актуальный период с 2013 года."
   ]
  },
  {
   "cell_type": "code",
   "execution_count": 24,
   "id": "3dc05fdf",
   "metadata": {
    "scrolled": false
   },
   "outputs": [
    {
     "data": {
      "text/html": [
       "<div>\n",
       "<style scoped>\n",
       "    .dataframe tbody tr th:only-of-type {\n",
       "        vertical-align: middle;\n",
       "    }\n",
       "\n",
       "    .dataframe tbody tr th {\n",
       "        vertical-align: top;\n",
       "    }\n",
       "\n",
       "    .dataframe thead th {\n",
       "        text-align: right;\n",
       "    }\n",
       "</style>\n",
       "<table border=\"1\" class=\"dataframe\">\n",
       "  <thead>\n",
       "    <tr style=\"text-align: right;\">\n",
       "      <th></th>\n",
       "      <th>name</th>\n",
       "      <th>platform</th>\n",
       "      <th>year_of_release</th>\n",
       "      <th>genre</th>\n",
       "      <th>na_sales</th>\n",
       "      <th>eu_sales</th>\n",
       "      <th>jp_sales</th>\n",
       "      <th>other_sales</th>\n",
       "      <th>critic_score</th>\n",
       "      <th>user_score</th>\n",
       "      <th>rating</th>\n",
       "      <th>all_sales</th>\n",
       "    </tr>\n",
       "  </thead>\n",
       "  <tbody>\n",
       "    <tr>\n",
       "      <td>0</td>\n",
       "      <td>Grand Theft Auto V</td>\n",
       "      <td>PS3</td>\n",
       "      <td>2013</td>\n",
       "      <td>Action</td>\n",
       "      <td>7.02</td>\n",
       "      <td>9.09</td>\n",
       "      <td>0.98</td>\n",
       "      <td>3.96</td>\n",
       "      <td>97.0</td>\n",
       "      <td>8.2</td>\n",
       "      <td>M</td>\n",
       "      <td>21.05</td>\n",
       "    </tr>\n",
       "    <tr>\n",
       "      <td>1</td>\n",
       "      <td>Grand Theft Auto V</td>\n",
       "      <td>X360</td>\n",
       "      <td>2013</td>\n",
       "      <td>Action</td>\n",
       "      <td>9.66</td>\n",
       "      <td>5.14</td>\n",
       "      <td>0.06</td>\n",
       "      <td>1.41</td>\n",
       "      <td>97.0</td>\n",
       "      <td>8.1</td>\n",
       "      <td>M</td>\n",
       "      <td>16.27</td>\n",
       "    </tr>\n",
       "    <tr>\n",
       "      <td>2</td>\n",
       "      <td>Call of Duty: Black Ops 3</td>\n",
       "      <td>PS4</td>\n",
       "      <td>2015</td>\n",
       "      <td>Shooter</td>\n",
       "      <td>6.03</td>\n",
       "      <td>5.86</td>\n",
       "      <td>0.36</td>\n",
       "      <td>2.38</td>\n",
       "      <td>NaN</td>\n",
       "      <td>NaN</td>\n",
       "      <td>other</td>\n",
       "      <td>14.63</td>\n",
       "    </tr>\n",
       "    <tr>\n",
       "      <td>3</td>\n",
       "      <td>Pokemon X/Pokemon Y</td>\n",
       "      <td>3DS</td>\n",
       "      <td>2013</td>\n",
       "      <td>Role-Playing</td>\n",
       "      <td>5.28</td>\n",
       "      <td>4.19</td>\n",
       "      <td>4.35</td>\n",
       "      <td>0.78</td>\n",
       "      <td>NaN</td>\n",
       "      <td>NaN</td>\n",
       "      <td>other</td>\n",
       "      <td>14.60</td>\n",
       "    </tr>\n",
       "    <tr>\n",
       "      <td>4</td>\n",
       "      <td>Grand Theft Auto V</td>\n",
       "      <td>PS4</td>\n",
       "      <td>2014</td>\n",
       "      <td>Action</td>\n",
       "      <td>3.96</td>\n",
       "      <td>6.31</td>\n",
       "      <td>0.38</td>\n",
       "      <td>1.97</td>\n",
       "      <td>97.0</td>\n",
       "      <td>8.3</td>\n",
       "      <td>M</td>\n",
       "      <td>12.62</td>\n",
       "    </tr>\n",
       "    <tr>\n",
       "      <td>...</td>\n",
       "      <td>...</td>\n",
       "      <td>...</td>\n",
       "      <td>...</td>\n",
       "      <td>...</td>\n",
       "      <td>...</td>\n",
       "      <td>...</td>\n",
       "      <td>...</td>\n",
       "      <td>...</td>\n",
       "      <td>...</td>\n",
       "      <td>...</td>\n",
       "      <td>...</td>\n",
       "      <td>...</td>\n",
       "    </tr>\n",
       "    <tr>\n",
       "      <td>2232</td>\n",
       "      <td>Strawberry Nauts</td>\n",
       "      <td>PSV</td>\n",
       "      <td>2016</td>\n",
       "      <td>Adventure</td>\n",
       "      <td>0.00</td>\n",
       "      <td>0.00</td>\n",
       "      <td>0.01</td>\n",
       "      <td>0.00</td>\n",
       "      <td>NaN</td>\n",
       "      <td>NaN</td>\n",
       "      <td>other</td>\n",
       "      <td>0.01</td>\n",
       "    </tr>\n",
       "    <tr>\n",
       "      <td>2233</td>\n",
       "      <td>Aiyoku no Eustia</td>\n",
       "      <td>PSV</td>\n",
       "      <td>2014</td>\n",
       "      <td>Misc</td>\n",
       "      <td>0.00</td>\n",
       "      <td>0.00</td>\n",
       "      <td>0.01</td>\n",
       "      <td>0.00</td>\n",
       "      <td>NaN</td>\n",
       "      <td>NaN</td>\n",
       "      <td>other</td>\n",
       "      <td>0.01</td>\n",
       "    </tr>\n",
       "    <tr>\n",
       "      <td>2234</td>\n",
       "      <td>Samurai Warriors: Sanada Maru</td>\n",
       "      <td>PS3</td>\n",
       "      <td>2016</td>\n",
       "      <td>Action</td>\n",
       "      <td>0.00</td>\n",
       "      <td>0.00</td>\n",
       "      <td>0.01</td>\n",
       "      <td>0.00</td>\n",
       "      <td>NaN</td>\n",
       "      <td>NaN</td>\n",
       "      <td>other</td>\n",
       "      <td>0.01</td>\n",
       "    </tr>\n",
       "    <tr>\n",
       "      <td>2235</td>\n",
       "      <td>Haitaka no Psychedelica</td>\n",
       "      <td>PSV</td>\n",
       "      <td>2016</td>\n",
       "      <td>Adventure</td>\n",
       "      <td>0.00</td>\n",
       "      <td>0.00</td>\n",
       "      <td>0.01</td>\n",
       "      <td>0.00</td>\n",
       "      <td>NaN</td>\n",
       "      <td>NaN</td>\n",
       "      <td>other</td>\n",
       "      <td>0.01</td>\n",
       "    </tr>\n",
       "    <tr>\n",
       "      <td>2236</td>\n",
       "      <td>Winning Post 8 2016</td>\n",
       "      <td>PSV</td>\n",
       "      <td>2016</td>\n",
       "      <td>Simulation</td>\n",
       "      <td>0.00</td>\n",
       "      <td>0.00</td>\n",
       "      <td>0.01</td>\n",
       "      <td>0.00</td>\n",
       "      <td>NaN</td>\n",
       "      <td>NaN</td>\n",
       "      <td>other</td>\n",
       "      <td>0.01</td>\n",
       "    </tr>\n",
       "  </tbody>\n",
       "</table>\n",
       "<p>2237 rows × 12 columns</p>\n",
       "</div>"
      ],
      "text/plain": [
       "                               name platform  year_of_release         genre  \\\n",
       "0                Grand Theft Auto V      PS3             2013        Action   \n",
       "1                Grand Theft Auto V     X360             2013        Action   \n",
       "2         Call of Duty: Black Ops 3      PS4             2015       Shooter   \n",
       "3               Pokemon X/Pokemon Y      3DS             2013  Role-Playing   \n",
       "4                Grand Theft Auto V      PS4             2014        Action   \n",
       "...                             ...      ...              ...           ...   \n",
       "2232               Strawberry Nauts      PSV             2016     Adventure   \n",
       "2233               Aiyoku no Eustia      PSV             2014          Misc   \n",
       "2234  Samurai Warriors: Sanada Maru      PS3             2016        Action   \n",
       "2235        Haitaka no Psychedelica      PSV             2016     Adventure   \n",
       "2236            Winning Post 8 2016      PSV             2016    Simulation   \n",
       "\n",
       "      na_sales  eu_sales  jp_sales  other_sales  critic_score  user_score  \\\n",
       "0         7.02      9.09      0.98         3.96          97.0         8.2   \n",
       "1         9.66      5.14      0.06         1.41          97.0         8.1   \n",
       "2         6.03      5.86      0.36         2.38           NaN         NaN   \n",
       "3         5.28      4.19      4.35         0.78           NaN         NaN   \n",
       "4         3.96      6.31      0.38         1.97          97.0         8.3   \n",
       "...        ...       ...       ...          ...           ...         ...   \n",
       "2232      0.00      0.00      0.01         0.00           NaN         NaN   \n",
       "2233      0.00      0.00      0.01         0.00           NaN         NaN   \n",
       "2234      0.00      0.00      0.01         0.00           NaN         NaN   \n",
       "2235      0.00      0.00      0.01         0.00           NaN         NaN   \n",
       "2236      0.00      0.00      0.01         0.00           NaN         NaN   \n",
       "\n",
       "     rating  all_sales  \n",
       "0         M      21.05  \n",
       "1         M      16.27  \n",
       "2     other      14.63  \n",
       "3     other      14.60  \n",
       "4         M      12.62  \n",
       "...     ...        ...  \n",
       "2232  other       0.01  \n",
       "2233  other       0.01  \n",
       "2234  other       0.01  \n",
       "2235  other       0.01  \n",
       "2236  other       0.01  \n",
       "\n",
       "[2237 rows x 12 columns]"
      ]
     },
     "execution_count": 24,
     "metadata": {},
     "output_type": "execute_result"
    }
   ],
   "source": [
    "df_2017 = df.query('year_of_release > 2012').reset_index(drop=True)\n",
    "df_2017"
   ]
  },
  {
   "cell_type": "markdown",
   "id": "b3c709f8",
   "metadata": {},
   "source": [
    "#### Анализ платформ по годам"
   ]
  },
  {
   "cell_type": "code",
   "execution_count": 25,
   "id": "15be9e65",
   "metadata": {
    "scrolled": false
   },
   "outputs": [
    {
     "data": {
      "image/png": "[encoded data removed]",
      "text/plain": [
       "<Figure size 1152x432 with 1 Axes>"
      ]
     },
     "metadata": {
      "needs_background": "light"
     },
     "output_type": "display_data"
    }
   ],
   "source": [
    "platsorm_line(df_2017)"
   ]
  },
  {
   "cell_type": "markdown",
   "id": "fa28afa9",
   "metadata": {},
   "source": [
    "Как видно за этот период только у 2 новых платформ **PS4** и **XOne**, заметено увеличение продаж, к 2016 году для них начинается со спадом продаж, но т.к. за 2016 год данные могут быть не полные (из условия исследования), то возможно спада продаж не было. Эти платформы появились относительно недавно, то они еще продержатся на рынке и будут самыми прибыльными платформами. \n",
    "\n",
    "Наибольший спад продаж наблюдается у платформ **PS3** и **X360**, на смену им пришли платформы нового поколения, которые и перехватили спрос. Поэтому эти платформы уже не будут актуальны и в ближайшем будущем не стоит ожидать на них спроса.\n",
    "\n",
    "Еще одна платформа **3DS**, имеет не такой резкий спад спроса за эти года, и к 2016 году держится на 3 месте по продажам игр. Возможно в ближайшие пару лет, еще будет популярна, но т.к. хорошие игры пишутся сравнительно долго, то выпуска новых игр и высоких продаж ожидать не стоит.\n",
    "\n",
    "Стоит обратить внимание еще на платформу **PC** (персональный ПК), т.к. она не имеет поколений, а является общим для все компьютеров, то спрос на игры в основном остается на одном уровне. И на игры для этой платформы, всегда найдется свой покупатель. \n",
    "\n",
    "Остальные платформы скорее всего в ближайшие годы прекратят поддержку и уйдут с рынка. "
   ]
  },
  {
   "cell_type": "markdown",
   "id": "6bb1ca5d",
   "metadata": {},
   "source": [
    "#### График глобальных продаж игр в разбивке по платформам."
   ]
  },
  {
   "cell_type": "markdown",
   "id": "03d0260f",
   "metadata": {},
   "source": [
    "Посмотрим на глобальные суммарные продажи по платформам  "
   ]
  },
  {
   "cell_type": "code",
   "execution_count": 26,
   "id": "0af9d0da",
   "metadata": {
    "scrolled": true
   },
   "outputs": [
    {
     "data": {
      "text/plain": [
       "platform\n",
       "PS4     314.14\n",
       "PS3     181.43\n",
       "XOne    159.32\n",
       "3DS     143.25\n",
       "X360    136.80\n",
       "WiiU     64.63\n",
       "PC       40.06\n",
       "PSV      32.99\n",
       "Wii      13.66\n",
       "PSP       3.74\n",
       "DS        1.54\n",
       "Name: all_sales, dtype: float64"
      ]
     },
     "execution_count": 26,
     "metadata": {},
     "output_type": "execute_result"
    }
   ],
   "source": [
    "platform_2017 = df_2017.groupby('platform')['all_sales'].sum().sort_values(ascending=False)\n",
    "platform_2017"
   ]
  },
  {
   "cell_type": "markdown",
   "id": "e816bd60",
   "metadata": {},
   "source": [
    "Как видно для 5 платформ продали более 100 миллиона копий игр. Построим для них график «ящик с усами»  "
   ]
  },
  {
   "cell_type": "code",
   "execution_count": 27,
   "id": "090a6ae4",
   "metadata": {
    "scrolled": false
   },
   "outputs": [
    {
     "name": "stdout",
     "output_type": "stream",
     "text": [
      "\u001b[1m PS4 \u001b[0m\n",
      "\n",
      "count    392.000000\n",
      "mean       0.801378\n",
      "std        1.609456\n",
      "min        0.010000\n",
      "25%        0.060000\n",
      "50%        0.200000\n",
      "75%        0.730000\n",
      "max       14.630000\n",
      "Name: all_sales, dtype: float64\n"
     ]
    },
    {
     "data": {
      "image/png": "[encoded data removed]",
      "text/plain": [
       "<Figure size 432x288 with 1 Axes>"
      ]
     },
     "metadata": {
      "needs_background": "light"
     },
     "output_type": "display_data"
    },
    {
     "name": "stdout",
     "output_type": "stream",
     "text": [
      "\u001b[1m PS3 \u001b[0m\n",
      "\n",
      "count    345.000000\n",
      "mean       0.525884\n",
      "std        1.451939\n",
      "min        0.010000\n",
      "25%        0.040000\n",
      "50%        0.150000\n",
      "75%        0.510000\n",
      "max       21.050000\n",
      "Name: all_sales, dtype: float64\n"
     ]
    },
    {
     "data": {
      "image/png": "[encoded data removed]",
      "text/plain": [
       "<Figure size 432x288 with 1 Axes>"
      ]
     },
     "metadata": {
      "needs_background": "light"
     },
     "output_type": "display_data"
    },
    {
     "name": "stdout",
     "output_type": "stream",
     "text": [
      "\u001b[1m XOne \u001b[0m\n",
      "\n",
      "count    247.000000\n",
      "mean       0.645020\n",
      "std        1.036139\n",
      "min        0.010000\n",
      "25%        0.060000\n",
      "50%        0.220000\n",
      "75%        0.685000\n",
      "max        7.390000\n",
      "Name: all_sales, dtype: float64\n"
     ]
    },
    {
     "data": {
      "image/png": "[encoded data removed]",
      "text/plain": [
       "<Figure size 432x288 with 1 Axes>"
      ]
     },
     "metadata": {
      "needs_background": "light"
     },
     "output_type": "display_data"
    },
    {
     "name": "stdout",
     "output_type": "stream",
     "text": [
      "\u001b[1m 3DS \u001b[0m\n",
      "\n",
      "count    303.000000\n",
      "mean       0.472772\n",
      "std        1.381347\n",
      "min        0.010000\n",
      "25%        0.040000\n",
      "50%        0.090000\n",
      "75%        0.280000\n",
      "max       14.600000\n",
      "Name: all_sales, dtype: float64\n"
     ]
    },
    {
     "data": {
      "image/png": "[encoded data removed]",
      "text/plain": [
       "<Figure size 432x288 with 1 Axes>"
      ]
     },
     "metadata": {
      "needs_background": "light"
     },
     "output_type": "display_data"
    },
    {
     "name": "stdout",
     "output_type": "stream",
     "text": [
      "\u001b[1m X360 \u001b[0m\n",
      "\n",
      "count    186.000000\n",
      "mean       0.735484\n",
      "std        1.663275\n",
      "min        0.010000\n",
      "25%        0.080000\n",
      "50%        0.265000\n",
      "75%        0.795000\n",
      "max       16.270000\n",
      "Name: all_sales, dtype: float64\n"
     ]
    },
    {
     "data": {
      "image/png": "[encoded data removed]",
      "text/plain": [
       "<Figure size 432x288 with 1 Axes>"
      ]
     },
     "metadata": {
      "needs_background": "light"
     },
     "output_type": "display_data"
    }
   ],
   "source": [
    "for row in platform_2017.index[:5]:\n",
    "    print('\\033[1m', row, '\\033[0m', end='\\n\\n')\n",
    "    print(df_2017.query('platform == @row')['all_sales'].describe())\n",
    "    df_2017.query('platform == @row').boxplot('all_sales')\n",
    "    plt.show()"
   ]
  },
  {
   "cell_type": "markdown",
   "id": "d058d60b",
   "metadata": {},
   "source": [
    "Для платформы **PS4**, за период 2013 – 2016 г., было выпущено 392 игры, со средней продажей 0,8 млн копий на игру, при этом медиана составляет всего 0,2 млн копий. Из этого можно сделать вывод, что высокие средние показатели получены благодаря высоким продажам некоторых игр. \n",
    "\n",
    "\n",
    "На платформе **PS3** за этот период было выпушено 345 игр, максимальное количество продаж на игру 21 млн копий. Медиана продаж 0.15 млн, а средняя 0.53 млн копий. Как видно из выбросов были игры, которые продавались большим количеством копий, что и повлияло на общее количество продаж.\n",
    "\n",
    "Хоть для платформы **XOne** и было выпущено меньше игр, чем для **3DS**, 247 и 303 соответственно, но она имеет лучше показатели по общему количеству продаж игр 159, 32 млн против 143,25 млн игр, а также у платформы **XOne** лучше средние показатели и медиана. При этом у платформы **3DS**, имеются игры с 14,6 и 12 миллионными продажами, но таких игр мало.\n",
    " \n",
    "Для платформы **X360** было выпушено 186 игр. В среднем они продавались хорошо с 0.74 млн и медиана 0.26 млн копий. "
   ]
  },
  {
   "cell_type": "markdown",
   "id": "d6231ebc",
   "metadata": {},
   "source": [
    "#### Влияние отзывов на продажи платформы PS4"
   ]
  },
  {
   "cell_type": "markdown",
   "id": "9a474a60",
   "metadata": {},
   "source": [
    "Посмотрите, как влияют на продажи платформы **PS4** отзывы пользователей и критиков. Для этого создадим таблицу ps4. "
   ]
  },
  {
   "cell_type": "code",
   "execution_count": 28,
   "id": "d648d47d",
   "metadata": {},
   "outputs": [
    {
     "data": {
      "text/html": [
       "<div>\n",
       "<style scoped>\n",
       "    .dataframe tbody tr th:only-of-type {\n",
       "        vertical-align: middle;\n",
       "    }\n",
       "\n",
       "    .dataframe tbody tr th {\n",
       "        vertical-align: top;\n",
       "    }\n",
       "\n",
       "    .dataframe thead th {\n",
       "        text-align: right;\n",
       "    }\n",
       "</style>\n",
       "<table border=\"1\" class=\"dataframe\">\n",
       "  <thead>\n",
       "    <tr style=\"text-align: right;\">\n",
       "      <th></th>\n",
       "      <th>all_sales</th>\n",
       "      <th>critic_score</th>\n",
       "      <th>user_score</th>\n",
       "    </tr>\n",
       "  </thead>\n",
       "  <tbody>\n",
       "    <tr>\n",
       "      <td>0</td>\n",
       "      <td>14.63</td>\n",
       "      <td>NaN</td>\n",
       "      <td>NaN</td>\n",
       "    </tr>\n",
       "    <tr>\n",
       "      <td>1</td>\n",
       "      <td>12.62</td>\n",
       "      <td>97.0</td>\n",
       "      <td>8.3</td>\n",
       "    </tr>\n",
       "    <tr>\n",
       "      <td>2</td>\n",
       "      <td>8.58</td>\n",
       "      <td>82.0</td>\n",
       "      <td>4.3</td>\n",
       "    </tr>\n",
       "    <tr>\n",
       "      <td>3</td>\n",
       "      <td>7.98</td>\n",
       "      <td>NaN</td>\n",
       "      <td>NaN</td>\n",
       "    </tr>\n",
       "    <tr>\n",
       "      <td>4</td>\n",
       "      <td>7.66</td>\n",
       "      <td>83.0</td>\n",
       "      <td>5.7</td>\n",
       "    </tr>\n",
       "    <tr>\n",
       "      <td>...</td>\n",
       "      <td>...</td>\n",
       "      <td>...</td>\n",
       "      <td>...</td>\n",
       "    </tr>\n",
       "    <tr>\n",
       "      <td>387</td>\n",
       "      <td>0.01</td>\n",
       "      <td>69.0</td>\n",
       "      <td>7.5</td>\n",
       "    </tr>\n",
       "    <tr>\n",
       "      <td>388</td>\n",
       "      <td>0.01</td>\n",
       "      <td>NaN</td>\n",
       "      <td>NaN</td>\n",
       "    </tr>\n",
       "    <tr>\n",
       "      <td>389</td>\n",
       "      <td>0.01</td>\n",
       "      <td>61.0</td>\n",
       "      <td>7.9</td>\n",
       "    </tr>\n",
       "    <tr>\n",
       "      <td>390</td>\n",
       "      <td>0.01</td>\n",
       "      <td>51.0</td>\n",
       "      <td>5.5</td>\n",
       "    </tr>\n",
       "    <tr>\n",
       "      <td>391</td>\n",
       "      <td>0.01</td>\n",
       "      <td>NaN</td>\n",
       "      <td>NaN</td>\n",
       "    </tr>\n",
       "  </tbody>\n",
       "</table>\n",
       "<p>392 rows × 3 columns</p>\n",
       "</div>"
      ],
      "text/plain": [
       "     all_sales  critic_score  user_score\n",
       "0        14.63           NaN         NaN\n",
       "1        12.62          97.0         8.3\n",
       "2         8.58          82.0         4.3\n",
       "3         7.98           NaN         NaN\n",
       "4         7.66          83.0         5.7\n",
       "..         ...           ...         ...\n",
       "387       0.01          69.0         7.5\n",
       "388       0.01           NaN         NaN\n",
       "389       0.01          61.0         7.9\n",
       "390       0.01          51.0         5.5\n",
       "391       0.01           NaN         NaN\n",
       "\n",
       "[392 rows x 3 columns]"
      ]
     },
     "execution_count": 28,
     "metadata": {},
     "output_type": "execute_result"
    }
   ],
   "source": [
    "ps4 = df_2017.query('platform==\"PS4\"')[['all_sales', 'critic_score', 'user_score']].reset_index(drop=True)\n",
    "ps4"
   ]
  },
  {
   "cell_type": "markdown",
   "id": "1ad4d637",
   "metadata": {},
   "source": [
    "Построим корреляцией Пирсона зависимость продаж от факторов: отзывы критиков и пользователей. "
   ]
  },
  {
   "cell_type": "code",
   "execution_count": 29,
   "id": "acb58725",
   "metadata": {},
   "outputs": [
    {
     "data": {
      "text/html": [
       "<div>\n",
       "<style scoped>\n",
       "    .dataframe tbody tr th:only-of-type {\n",
       "        vertical-align: middle;\n",
       "    }\n",
       "\n",
       "    .dataframe tbody tr th {\n",
       "        vertical-align: top;\n",
       "    }\n",
       "\n",
       "    .dataframe thead th {\n",
       "        text-align: right;\n",
       "    }\n",
       "</style>\n",
       "<table border=\"1\" class=\"dataframe\">\n",
       "  <thead>\n",
       "    <tr style=\"text-align: right;\">\n",
       "      <th></th>\n",
       "      <th>all_sales</th>\n",
       "      <th>critic_score</th>\n",
       "      <th>user_score</th>\n",
       "    </tr>\n",
       "  </thead>\n",
       "  <tbody>\n",
       "    <tr>\n",
       "      <td>all_sales</td>\n",
       "      <td>1.000000</td>\n",
       "      <td>0.406568</td>\n",
       "      <td>-0.031957</td>\n",
       "    </tr>\n",
       "    <tr>\n",
       "      <td>critic_score</td>\n",
       "      <td>0.406568</td>\n",
       "      <td>1.000000</td>\n",
       "      <td>0.557654</td>\n",
       "    </tr>\n",
       "    <tr>\n",
       "      <td>user_score</td>\n",
       "      <td>-0.031957</td>\n",
       "      <td>0.557654</td>\n",
       "      <td>1.000000</td>\n",
       "    </tr>\n",
       "  </tbody>\n",
       "</table>\n",
       "</div>"
      ],
      "text/plain": [
       "              all_sales  critic_score  user_score\n",
       "all_sales      1.000000      0.406568   -0.031957\n",
       "critic_score   0.406568      1.000000    0.557654\n",
       "user_score    -0.031957      0.557654    1.000000"
      ]
     },
     "execution_count": 29,
     "metadata": {},
     "output_type": "execute_result"
    }
   ],
   "source": [
    "ps4.corr()"
   ]
  },
  {
   "cell_type": "code",
   "execution_count": 30,
   "id": "8e30f3ca",
   "metadata": {},
   "outputs": [
    {
     "data": {
      "text/plain": [
       "array([[<matplotlib.axes._subplots.AxesSubplot object at 0x0000022C2ED26D08>,\n",
       "        <matplotlib.axes._subplots.AxesSubplot object at 0x0000022C2ED0E148>,\n",
       "        <matplotlib.axes._subplots.AxesSubplot object at 0x0000022C2EC2FDC8>],\n",
       "       [<matplotlib.axes._subplots.AxesSubplot object at 0x0000022C2EBDDE48>,\n",
       "        <matplotlib.axes._subplots.AxesSubplot object at 0x0000022C2ED6AD88>,\n",
       "        <matplotlib.axes._subplots.AxesSubplot object at 0x0000022C2EACE808>],\n",
       "       [<matplotlib.axes._subplots.AxesSubplot object at 0x0000022C2C5DD1C8>,\n",
       "        <matplotlib.axes._subplots.AxesSubplot object at 0x0000022C2C489888>,\n",
       "        <matplotlib.axes._subplots.AxesSubplot object at 0x0000022C2C5B68C8>]],\n",
       "      dtype=object)"
      ]
     },
     "execution_count": 30,
     "metadata": {},
     "output_type": "execute_result"
    },
    {
     "data": {
      "image/png": "[encoded data removed]",
      "text/plain": [
       "<Figure size 1080x1080 with 9 Axes>"
      ]
     },
     "metadata": {
      "needs_background": "light"
     },
     "output_type": "display_data"
    }
   ],
   "source": [
    "pd.plotting.scatter_matrix(ps4, figsize=(15, 15))"
   ]
  },
  {
   "cell_type": "markdown",
   "id": "3fcfb86e",
   "metadata": {},
   "source": [
    "Как видно из данных, есть небольшая связь у зависимости продаж и отзывами критиков. Чем больше оценки критиков, тем больше продаж копий. Продажи игр не сильно зависят от отзывов пользователей, есть игры с большими продажами, но с низкими отзывами. Поэтому лучше сосредоточиться на качестве игр, чем на их количестве."
   ]
  },
  {
   "cell_type": "markdown",
   "id": "7bc6a086",
   "metadata": {},
   "source": [
    "#### Влияние отзывов на продажи других платформах"
   ]
  },
  {
   "cell_type": "markdown",
   "id": "06333abd",
   "metadata": {},
   "source": [
    "Построим корреляцией Пирсона зависимость продаж от факторов: отзывы критиков и пользователей для остальных платформ. "
   ]
  },
  {
   "cell_type": "code",
   "execution_count": 31,
   "id": "f49ca9f8",
   "metadata": {
    "scrolled": false
   },
   "outputs": [
    {
     "name": "stdout",
     "output_type": "stream",
     "text": [
      "PS3\n"
     ]
    },
    {
     "data": {
      "text/html": [
       "<div>\n",
       "<style scoped>\n",
       "    .dataframe tbody tr th:only-of-type {\n",
       "        vertical-align: middle;\n",
       "    }\n",
       "\n",
       "    .dataframe tbody tr th {\n",
       "        vertical-align: top;\n",
       "    }\n",
       "\n",
       "    .dataframe thead th {\n",
       "        text-align: right;\n",
       "    }\n",
       "</style>\n",
       "<table border=\"1\" class=\"dataframe\">\n",
       "  <thead>\n",
       "    <tr style=\"text-align: right;\">\n",
       "      <th></th>\n",
       "      <th>all_sales</th>\n",
       "      <th>critic_score</th>\n",
       "      <th>user_score</th>\n",
       "    </tr>\n",
       "  </thead>\n",
       "  <tbody>\n",
       "    <tr>\n",
       "      <td>all_sales</td>\n",
       "      <td>1.000000</td>\n",
       "      <td>0.334285</td>\n",
       "      <td>0.002394</td>\n",
       "    </tr>\n",
       "    <tr>\n",
       "      <td>critic_score</td>\n",
       "      <td>0.334285</td>\n",
       "      <td>1.000000</td>\n",
       "      <td>0.599920</td>\n",
       "    </tr>\n",
       "    <tr>\n",
       "      <td>user_score</td>\n",
       "      <td>0.002394</td>\n",
       "      <td>0.599920</td>\n",
       "      <td>1.000000</td>\n",
       "    </tr>\n",
       "  </tbody>\n",
       "</table>\n",
       "</div>"
      ],
      "text/plain": [
       "              all_sales  critic_score  user_score\n",
       "all_sales      1.000000      0.334285    0.002394\n",
       "critic_score   0.334285      1.000000    0.599920\n",
       "user_score     0.002394      0.599920    1.000000"
      ]
     },
     "metadata": {},
     "output_type": "display_data"
    },
    {
     "name": "stdout",
     "output_type": "stream",
     "text": [
      "\n",
      "\n",
      "XOne\n"
     ]
    },
    {
     "data": {
      "text/html": [
       "<div>\n",
       "<style scoped>\n",
       "    .dataframe tbody tr th:only-of-type {\n",
       "        vertical-align: middle;\n",
       "    }\n",
       "\n",
       "    .dataframe tbody tr th {\n",
       "        vertical-align: top;\n",
       "    }\n",
       "\n",
       "    .dataframe thead th {\n",
       "        text-align: right;\n",
       "    }\n",
       "</style>\n",
       "<table border=\"1\" class=\"dataframe\">\n",
       "  <thead>\n",
       "    <tr style=\"text-align: right;\">\n",
       "      <th></th>\n",
       "      <th>all_sales</th>\n",
       "      <th>critic_score</th>\n",
       "      <th>user_score</th>\n",
       "    </tr>\n",
       "  </thead>\n",
       "  <tbody>\n",
       "    <tr>\n",
       "      <td>all_sales</td>\n",
       "      <td>1.000000</td>\n",
       "      <td>0.416998</td>\n",
       "      <td>-0.068925</td>\n",
       "    </tr>\n",
       "    <tr>\n",
       "      <td>critic_score</td>\n",
       "      <td>0.416998</td>\n",
       "      <td>1.000000</td>\n",
       "      <td>0.472462</td>\n",
       "    </tr>\n",
       "    <tr>\n",
       "      <td>user_score</td>\n",
       "      <td>-0.068925</td>\n",
       "      <td>0.472462</td>\n",
       "      <td>1.000000</td>\n",
       "    </tr>\n",
       "  </tbody>\n",
       "</table>\n",
       "</div>"
      ],
      "text/plain": [
       "              all_sales  critic_score  user_score\n",
       "all_sales      1.000000      0.416998   -0.068925\n",
       "critic_score   0.416998      1.000000    0.472462\n",
       "user_score    -0.068925      0.472462    1.000000"
      ]
     },
     "metadata": {},
     "output_type": "display_data"
    },
    {
     "name": "stdout",
     "output_type": "stream",
     "text": [
      "\n",
      "\n",
      "3DS\n"
     ]
    },
    {
     "data": {
      "text/html": [
       "<div>\n",
       "<style scoped>\n",
       "    .dataframe tbody tr th:only-of-type {\n",
       "        vertical-align: middle;\n",
       "    }\n",
       "\n",
       "    .dataframe tbody tr th {\n",
       "        vertical-align: top;\n",
       "    }\n",
       "\n",
       "    .dataframe thead th {\n",
       "        text-align: right;\n",
       "    }\n",
       "</style>\n",
       "<table border=\"1\" class=\"dataframe\">\n",
       "  <thead>\n",
       "    <tr style=\"text-align: right;\">\n",
       "      <th></th>\n",
       "      <th>all_sales</th>\n",
       "      <th>critic_score</th>\n",
       "      <th>user_score</th>\n",
       "    </tr>\n",
       "  </thead>\n",
       "  <tbody>\n",
       "    <tr>\n",
       "      <td>all_sales</td>\n",
       "      <td>1.000000</td>\n",
       "      <td>0.357057</td>\n",
       "      <td>0.241504</td>\n",
       "    </tr>\n",
       "    <tr>\n",
       "      <td>critic_score</td>\n",
       "      <td>0.357057</td>\n",
       "      <td>1.000000</td>\n",
       "      <td>0.769536</td>\n",
       "    </tr>\n",
       "    <tr>\n",
       "      <td>user_score</td>\n",
       "      <td>0.241504</td>\n",
       "      <td>0.769536</td>\n",
       "      <td>1.000000</td>\n",
       "    </tr>\n",
       "  </tbody>\n",
       "</table>\n",
       "</div>"
      ],
      "text/plain": [
       "              all_sales  critic_score  user_score\n",
       "all_sales      1.000000      0.357057    0.241504\n",
       "critic_score   0.357057      1.000000    0.769536\n",
       "user_score     0.241504      0.769536    1.000000"
      ]
     },
     "metadata": {},
     "output_type": "display_data"
    },
    {
     "name": "stdout",
     "output_type": "stream",
     "text": [
      "\n",
      "\n",
      "X360\n"
     ]
    },
    {
     "data": {
      "text/html": [
       "<div>\n",
       "<style scoped>\n",
       "    .dataframe tbody tr th:only-of-type {\n",
       "        vertical-align: middle;\n",
       "    }\n",
       "\n",
       "    .dataframe tbody tr th {\n",
       "        vertical-align: top;\n",
       "    }\n",
       "\n",
       "    .dataframe thead th {\n",
       "        text-align: right;\n",
       "    }\n",
       "</style>\n",
       "<table border=\"1\" class=\"dataframe\">\n",
       "  <thead>\n",
       "    <tr style=\"text-align: right;\">\n",
       "      <th></th>\n",
       "      <th>all_sales</th>\n",
       "      <th>critic_score</th>\n",
       "      <th>user_score</th>\n",
       "    </tr>\n",
       "  </thead>\n",
       "  <tbody>\n",
       "    <tr>\n",
       "      <td>all_sales</td>\n",
       "      <td>1.000000</td>\n",
       "      <td>0.350345</td>\n",
       "      <td>-0.011742</td>\n",
       "    </tr>\n",
       "    <tr>\n",
       "      <td>critic_score</td>\n",
       "      <td>0.350345</td>\n",
       "      <td>1.000000</td>\n",
       "      <td>0.520946</td>\n",
       "    </tr>\n",
       "    <tr>\n",
       "      <td>user_score</td>\n",
       "      <td>-0.011742</td>\n",
       "      <td>0.520946</td>\n",
       "      <td>1.000000</td>\n",
       "    </tr>\n",
       "  </tbody>\n",
       "</table>\n",
       "</div>"
      ],
      "text/plain": [
       "              all_sales  critic_score  user_score\n",
       "all_sales      1.000000      0.350345   -0.011742\n",
       "critic_score   0.350345      1.000000    0.520946\n",
       "user_score    -0.011742      0.520946    1.000000"
      ]
     },
     "metadata": {},
     "output_type": "display_data"
    },
    {
     "name": "stdout",
     "output_type": "stream",
     "text": [
      "\n",
      "\n",
      "WiiU\n"
     ]
    },
    {
     "data": {
      "text/html": [
       "<div>\n",
       "<style scoped>\n",
       "    .dataframe tbody tr th:only-of-type {\n",
       "        vertical-align: middle;\n",
       "    }\n",
       "\n",
       "    .dataframe tbody tr th {\n",
       "        vertical-align: top;\n",
       "    }\n",
       "\n",
       "    .dataframe thead th {\n",
       "        text-align: right;\n",
       "    }\n",
       "</style>\n",
       "<table border=\"1\" class=\"dataframe\">\n",
       "  <thead>\n",
       "    <tr style=\"text-align: right;\">\n",
       "      <th></th>\n",
       "      <th>all_sales</th>\n",
       "      <th>critic_score</th>\n",
       "      <th>user_score</th>\n",
       "    </tr>\n",
       "  </thead>\n",
       "  <tbody>\n",
       "    <tr>\n",
       "      <td>all_sales</td>\n",
       "      <td>1.000000</td>\n",
       "      <td>0.376415</td>\n",
       "      <td>0.419330</td>\n",
       "    </tr>\n",
       "    <tr>\n",
       "      <td>critic_score</td>\n",
       "      <td>0.376415</td>\n",
       "      <td>1.000000</td>\n",
       "      <td>0.721313</td>\n",
       "    </tr>\n",
       "    <tr>\n",
       "      <td>user_score</td>\n",
       "      <td>0.419330</td>\n",
       "      <td>0.721313</td>\n",
       "      <td>1.000000</td>\n",
       "    </tr>\n",
       "  </tbody>\n",
       "</table>\n",
       "</div>"
      ],
      "text/plain": [
       "              all_sales  critic_score  user_score\n",
       "all_sales      1.000000      0.376415    0.419330\n",
       "critic_score   0.376415      1.000000    0.721313\n",
       "user_score     0.419330      0.721313    1.000000"
      ]
     },
     "metadata": {},
     "output_type": "display_data"
    },
    {
     "name": "stdout",
     "output_type": "stream",
     "text": [
      "\n",
      "\n",
      "PC\n"
     ]
    },
    {
     "data": {
      "text/html": [
       "<div>\n",
       "<style scoped>\n",
       "    .dataframe tbody tr th:only-of-type {\n",
       "        vertical-align: middle;\n",
       "    }\n",
       "\n",
       "    .dataframe tbody tr th {\n",
       "        vertical-align: top;\n",
       "    }\n",
       "\n",
       "    .dataframe thead th {\n",
       "        text-align: right;\n",
       "    }\n",
       "</style>\n",
       "<table border=\"1\" class=\"dataframe\">\n",
       "  <thead>\n",
       "    <tr style=\"text-align: right;\">\n",
       "      <th></th>\n",
       "      <th>all_sales</th>\n",
       "      <th>critic_score</th>\n",
       "      <th>user_score</th>\n",
       "    </tr>\n",
       "  </thead>\n",
       "  <tbody>\n",
       "    <tr>\n",
       "      <td>all_sales</td>\n",
       "      <td>1.000000</td>\n",
       "      <td>0.199660</td>\n",
       "      <td>-0.089998</td>\n",
       "    </tr>\n",
       "    <tr>\n",
       "      <td>critic_score</td>\n",
       "      <td>0.199660</td>\n",
       "      <td>1.000000</td>\n",
       "      <td>0.432737</td>\n",
       "    </tr>\n",
       "    <tr>\n",
       "      <td>user_score</td>\n",
       "      <td>-0.089998</td>\n",
       "      <td>0.432737</td>\n",
       "      <td>1.000000</td>\n",
       "    </tr>\n",
       "  </tbody>\n",
       "</table>\n",
       "</div>"
      ],
      "text/plain": [
       "              all_sales  critic_score  user_score\n",
       "all_sales      1.000000      0.199660   -0.089998\n",
       "critic_score   0.199660      1.000000    0.432737\n",
       "user_score    -0.089998      0.432737    1.000000"
      ]
     },
     "metadata": {},
     "output_type": "display_data"
    },
    {
     "name": "stdout",
     "output_type": "stream",
     "text": [
      "\n",
      "\n",
      "PSV\n"
     ]
    },
    {
     "data": {
      "text/html": [
       "<div>\n",
       "<style scoped>\n",
       "    .dataframe tbody tr th:only-of-type {\n",
       "        vertical-align: middle;\n",
       "    }\n",
       "\n",
       "    .dataframe tbody tr th {\n",
       "        vertical-align: top;\n",
       "    }\n",
       "\n",
       "    .dataframe thead th {\n",
       "        text-align: right;\n",
       "    }\n",
       "</style>\n",
       "<table border=\"1\" class=\"dataframe\">\n",
       "  <thead>\n",
       "    <tr style=\"text-align: right;\">\n",
       "      <th></th>\n",
       "      <th>all_sales</th>\n",
       "      <th>critic_score</th>\n",
       "      <th>user_score</th>\n",
       "    </tr>\n",
       "  </thead>\n",
       "  <tbody>\n",
       "    <tr>\n",
       "      <td>all_sales</td>\n",
       "      <td>1.000000</td>\n",
       "      <td>0.254742</td>\n",
       "      <td>0.000942</td>\n",
       "    </tr>\n",
       "    <tr>\n",
       "      <td>critic_score</td>\n",
       "      <td>0.254742</td>\n",
       "      <td>1.000000</td>\n",
       "      <td>0.611521</td>\n",
       "    </tr>\n",
       "    <tr>\n",
       "      <td>user_score</td>\n",
       "      <td>0.000942</td>\n",
       "      <td>0.611521</td>\n",
       "      <td>1.000000</td>\n",
       "    </tr>\n",
       "  </tbody>\n",
       "</table>\n",
       "</div>"
      ],
      "text/plain": [
       "              all_sales  critic_score  user_score\n",
       "all_sales      1.000000      0.254742    0.000942\n",
       "critic_score   0.254742      1.000000    0.611521\n",
       "user_score     0.000942      0.611521    1.000000"
      ]
     },
     "metadata": {},
     "output_type": "display_data"
    },
    {
     "name": "stdout",
     "output_type": "stream",
     "text": [
      "\n",
      "\n",
      "Wii\n"
     ]
    },
    {
     "data": {
      "text/html": [
       "<div>\n",
       "<style scoped>\n",
       "    .dataframe tbody tr th:only-of-type {\n",
       "        vertical-align: middle;\n",
       "    }\n",
       "\n",
       "    .dataframe tbody tr th {\n",
       "        vertical-align: top;\n",
       "    }\n",
       "\n",
       "    .dataframe thead th {\n",
       "        text-align: right;\n",
       "    }\n",
       "</style>\n",
       "<table border=\"1\" class=\"dataframe\">\n",
       "  <thead>\n",
       "    <tr style=\"text-align: right;\">\n",
       "      <th></th>\n",
       "      <th>all_sales</th>\n",
       "      <th>critic_score</th>\n",
       "      <th>user_score</th>\n",
       "    </tr>\n",
       "  </thead>\n",
       "  <tbody>\n",
       "    <tr>\n",
       "      <td>all_sales</td>\n",
       "      <td>1.000000</td>\n",
       "      <td>NaN</td>\n",
       "      <td>0.682942</td>\n",
       "    </tr>\n",
       "    <tr>\n",
       "      <td>critic_score</td>\n",
       "      <td>NaN</td>\n",
       "      <td>NaN</td>\n",
       "      <td>NaN</td>\n",
       "    </tr>\n",
       "    <tr>\n",
       "      <td>user_score</td>\n",
       "      <td>0.682942</td>\n",
       "      <td>NaN</td>\n",
       "      <td>1.000000</td>\n",
       "    </tr>\n",
       "  </tbody>\n",
       "</table>\n",
       "</div>"
      ],
      "text/plain": [
       "              all_sales  critic_score  user_score\n",
       "all_sales      1.000000           NaN    0.682942\n",
       "critic_score        NaN           NaN         NaN\n",
       "user_score     0.682942           NaN    1.000000"
      ]
     },
     "metadata": {},
     "output_type": "display_data"
    },
    {
     "name": "stdout",
     "output_type": "stream",
     "text": [
      "\n",
      "\n",
      "PSP\n"
     ]
    },
    {
     "data": {
      "text/html": [
       "<div>\n",
       "<style scoped>\n",
       "    .dataframe tbody tr th:only-of-type {\n",
       "        vertical-align: middle;\n",
       "    }\n",
       "\n",
       "    .dataframe tbody tr th {\n",
       "        vertical-align: top;\n",
       "    }\n",
       "\n",
       "    .dataframe thead th {\n",
       "        text-align: right;\n",
       "    }\n",
       "</style>\n",
       "<table border=\"1\" class=\"dataframe\">\n",
       "  <thead>\n",
       "    <tr style=\"text-align: right;\">\n",
       "      <th></th>\n",
       "      <th>all_sales</th>\n",
       "      <th>critic_score</th>\n",
       "      <th>user_score</th>\n",
       "    </tr>\n",
       "  </thead>\n",
       "  <tbody>\n",
       "    <tr>\n",
       "      <td>all_sales</td>\n",
       "      <td>1.0</td>\n",
       "      <td>NaN</td>\n",
       "      <td>-1.0</td>\n",
       "    </tr>\n",
       "    <tr>\n",
       "      <td>critic_score</td>\n",
       "      <td>NaN</td>\n",
       "      <td>NaN</td>\n",
       "      <td>NaN</td>\n",
       "    </tr>\n",
       "    <tr>\n",
       "      <td>user_score</td>\n",
       "      <td>-1.0</td>\n",
       "      <td>NaN</td>\n",
       "      <td>1.0</td>\n",
       "    </tr>\n",
       "  </tbody>\n",
       "</table>\n",
       "</div>"
      ],
      "text/plain": [
       "              all_sales  critic_score  user_score\n",
       "all_sales           1.0           NaN        -1.0\n",
       "critic_score        NaN           NaN         NaN\n",
       "user_score         -1.0           NaN         1.0"
      ]
     },
     "metadata": {},
     "output_type": "display_data"
    },
    {
     "name": "stdout",
     "output_type": "stream",
     "text": [
      "\n",
      "\n",
      "DS\n"
     ]
    },
    {
     "data": {
      "text/html": [
       "<div>\n",
       "<style scoped>\n",
       "    .dataframe tbody tr th:only-of-type {\n",
       "        vertical-align: middle;\n",
       "    }\n",
       "\n",
       "    .dataframe tbody tr th {\n",
       "        vertical-align: top;\n",
       "    }\n",
       "\n",
       "    .dataframe thead th {\n",
       "        text-align: right;\n",
       "    }\n",
       "</style>\n",
       "<table border=\"1\" class=\"dataframe\">\n",
       "  <thead>\n",
       "    <tr style=\"text-align: right;\">\n",
       "      <th></th>\n",
       "      <th>all_sales</th>\n",
       "      <th>critic_score</th>\n",
       "      <th>user_score</th>\n",
       "    </tr>\n",
       "  </thead>\n",
       "  <tbody>\n",
       "    <tr>\n",
       "      <td>all_sales</td>\n",
       "      <td>1.0</td>\n",
       "      <td>NaN</td>\n",
       "      <td>NaN</td>\n",
       "    </tr>\n",
       "    <tr>\n",
       "      <td>critic_score</td>\n",
       "      <td>NaN</td>\n",
       "      <td>NaN</td>\n",
       "      <td>NaN</td>\n",
       "    </tr>\n",
       "    <tr>\n",
       "      <td>user_score</td>\n",
       "      <td>NaN</td>\n",
       "      <td>NaN</td>\n",
       "      <td>NaN</td>\n",
       "    </tr>\n",
       "  </tbody>\n",
       "</table>\n",
       "</div>"
      ],
      "text/plain": [
       "              all_sales  critic_score  user_score\n",
       "all_sales           1.0           NaN         NaN\n",
       "critic_score        NaN           NaN         NaN\n",
       "user_score          NaN           NaN         NaN"
      ]
     },
     "metadata": {},
     "output_type": "display_data"
    },
    {
     "name": "stdout",
     "output_type": "stream",
     "text": [
      "\n",
      "\n"
     ]
    }
   ],
   "source": [
    "for row in platform_2017.index[1:]:\n",
    "    print(row)\n",
    "    display(df_2017.query('platform == @row')[['all_sales', 'critic_score', 'user_score']].reset_index(drop=True).corr())\n",
    "    print(end='\\n\\n')"
   ]
  },
  {
   "cell_type": "markdown",
   "id": "f3d3d637",
   "metadata": {},
   "source": [
    "**Вывод**\n",
    "\n",
    "Как видно у остальных платформ прослеживается такая же зависимость продаж от отзывов. За исключение платформы WiiU, где отзывы критиков и пользователей имеют почти одинаковую зависимость с продажами "
   ]
  },
  {
   "cell_type": "markdown",
   "id": "5cf91833",
   "metadata": {},
   "source": [
    "#### Распределение игр по жанрам."
   ]
  },
  {
   "cell_type": "markdown",
   "id": "bd7bf5f8",
   "metadata": {},
   "source": [
    "Посмотрим на общее распределение игр по жанрам."
   ]
  },
  {
   "cell_type": "code",
   "execution_count": 32,
   "id": "2b06368b",
   "metadata": {},
   "outputs": [
    {
     "data": {
      "text/plain": [
       "genre\n",
       "Action          322.50\n",
       "Shooter         232.98\n",
       "Sports          150.65\n",
       "Role-Playing    145.89\n",
       "Misc             63.06\n",
       "Platform         42.63\n",
       "Racing           39.89\n",
       "Fighting         35.31\n",
       "Adventure        23.64\n",
       "Simulation       21.76\n",
       "Strategy         10.08\n",
       "Puzzle            3.17\n",
       "Name: all_sales, dtype: float64"
      ]
     },
     "execution_count": 32,
     "metadata": {},
     "output_type": "execute_result"
    }
   ],
   "source": [
    "genre_sales = df_2017.groupby('genre')['all_sales'].sum().sort_values(ascending=False)\n",
    "genre_sales"
   ]
  },
  {
   "cell_type": "markdown",
   "id": "1098a801",
   "metadata": {},
   "source": [
    "Самыми прибыльными жанрами являются **Action** и **Shooter**, с **322.5** и **232.98** млн копий продаж соответственно. Еще два жанра **Sports**, **Role-Playing** имеют более 100 млн проданных копий. Самые низкие продажи у жанра **Puzzle** - 3.17. \n",
    "Как видно имеет смысл выпускать игры с жанрами **Action** и **Shooter**."
   ]
  },
  {
   "cell_type": "markdown",
   "id": "b7dda636",
   "metadata": {},
   "source": [
    "## Пользователи регионов"
   ]
  },
  {
   "cell_type": "markdown",
   "id": "c46d1e33",
   "metadata": {},
   "source": [
    "Создадим функцию для анализа пользователей каждого региона NA (Северной Америке), EU (Европе) и JP (Японии)"
   ]
  },
  {
   "cell_type": "code",
   "execution_count": 33,
   "id": "8a8c1585",
   "metadata": {},
   "outputs": [],
   "source": [
    "reg = ['na_sales', 'eu_sales', 'jp_sales']"
   ]
  },
  {
   "cell_type": "code",
   "execution_count": 34,
   "id": "84bb9069",
   "metadata": {},
   "outputs": [],
   "source": [
    "def region(table, column, kind='bar'):\n",
    "    fig, ax = plt.subplots(1, 3, figsize=(15, 4))\n",
    "    a=0\n",
    "    for row in reg:\n",
    "        graf = table.groupby(column)[row].sum().sort_values(ascending=False)\n",
    "        graf[:5].plot(x=column, y=row, title=row, kind=kind, legend=False, grid=True, ax=ax[a])\n",
    "        a += 1"
   ]
  },
  {
   "cell_type": "markdown",
   "id": "e8aecf1a",
   "metadata": {},
   "source": [
    "### Самые популярные платформы (топ-5)."
   ]
  },
  {
   "cell_type": "markdown",
   "id": "484e75a4",
   "metadata": {},
   "source": [
    "Построим гистограмму зависимости продаж игр от платформы в разных регионах"
   ]
  },
  {
   "cell_type": "code",
   "execution_count": 35,
   "id": "aee039ee",
   "metadata": {},
   "outputs": [
    {
     "data": {
      "image/png": "[encoded data removed]",
      "text/plain": [
       "<Figure size 1080x288 with 3 Axes>"
      ]
     },
     "metadata": {
      "needs_background": "light"
     },
     "output_type": "display_data"
    }
   ],
   "source": [
    "region(df, 'platform')"
   ]
  },
  {
   "cell_type": "markdown",
   "id": "ec839d48",
   "metadata": {},
   "source": [
    "Как видно в Северной Америке, преобладают продажи на платформах **X360** и **PS2**, так же в пятерку вошли платформы **Wii**, **PS3** и **DS**.\n",
    "\n",
    "В Европе пользователи, чаще покупали игры для платформ **PS2* и **PS3**, также для **X360**, **Wii** и **PS**.\n",
    "\n",
    "В Японии больше всего продажи игр для платформы **DS**, также в пятерку вошли **PS**, **PS2**, **SNES** и **3DS**.\n",
    "\n",
    "В Северной Америке игры для платформ из первой пятерки, расходились от 380 - 600 млн. копий. В Европе на самые популярные платформы, приходится 330 млн. копий проданных игр. В Японии этот показатель меньше, 175 млн. копий игр"
   ]
  },
  {
   "cell_type": "markdown",
   "id": "a061f99a",
   "metadata": {},
   "source": [
    "### Самые популярные жанры (топ-5)."
   ]
  },
  {
   "cell_type": "markdown",
   "id": "5ee6c98b",
   "metadata": {},
   "source": [
    "Построим гистограмму зависимости продаж игр от жанра в разных регионах"
   ]
  },
  {
   "cell_type": "code",
   "execution_count": 36,
   "id": "99647afa",
   "metadata": {},
   "outputs": [
    {
     "data": {
      "image/png": "[encoded data removed]",
      "text/plain": [
       "<Figure size 1080x288 with 3 Axes>"
      ]
     },
     "metadata": {
      "needs_background": "light"
     },
     "output_type": "display_data"
    }
   ],
   "source": [
    "region(df, 'genre')"
   ]
  },
  {
   "cell_type": "markdown",
   "id": "a34fbd6a",
   "metadata": {},
   "source": [
    "Во всех регионах в топ 5 жанров игр, вошли 3 жанра: Action, Sports и Misc. Так в Северной Америке и Европе, топ 5 жанров игр вошли Action, Sports, Shooter и Misc, за исключением 4 места. Для Северной Америке на четвертом месте Platform, в Европе - Racing. В Японии самый популярным жанром оказался Role-Playing, далее по пулярности идут Action, Sports, Shooter и Misc"
   ]
  },
  {
   "cell_type": "markdown",
   "id": "1a29648d",
   "metadata": {},
   "source": [
    "### Влияние рейтинга ESRB на продажи в отдельном регионе."
   ]
  },
  {
   "cell_type": "markdown",
   "id": "ee6b340d",
   "metadata": {},
   "source": [
    "Построим гистограммы влияния рейтинга ESRB на продажи по регионам. "
   ]
  },
  {
   "cell_type": "code",
   "execution_count": 37,
   "id": "a9da52a4",
   "metadata": {
    "scrolled": true
   },
   "outputs": [
    {
     "data": {
      "image/png": "[encoded data removed]",
      "text/plain": [
       "<Figure size 1080x288 with 3 Axes>"
      ]
     },
     "metadata": {
      "needs_background": "light"
     },
     "output_type": "display_data"
    }
   ],
   "source": [
    "region((df.query('rating != \"other\"')), 'rating')"
   ]
  },
  {
   "cell_type": "markdown",
   "id": "a9a09541",
   "metadata": {},
   "source": [
    "При построении гистограмм, не были учтены неизвестные рейтинги игр. С учетом этого во всех регионах по продажам игр, лидируют игры с рейтингом ESRB **Е**. В Северной Америке и Европе игры с рейтингом **Т** и **М**, продаются почти на одном уровне. В Японии игры с рейтингом **Т** (занимающие второе место по продажам), заметно выделяются от игр с рейтингом **М**, имея продажи по 160 и 70 млн. соответственно. Далее во всех регионах, на четвертом месте по продажам занимают игры с рейтингом **Е10+**. Игры с остальными рейтингами имеют маленькие показатели продаж. \n",
    "\n",
    "Посмотрим на игры с учетом неизвестных рейтингов."
   ]
  },
  {
   "cell_type": "code",
   "execution_count": 38,
   "id": "e22727d6",
   "metadata": {},
   "outputs": [
    {
     "data": {
      "image/png": "[encoded data removed]",
      "text/plain": [
       "<Figure size 1080x288 with 3 Axes>"
      ]
     },
     "metadata": {
      "needs_background": "light"
     },
     "output_type": "display_data"
    }
   ],
   "source": [
    "region(df, 'rating')"
   ]
  },
  {
   "cell_type": "markdown",
   "id": "77438c1d",
   "metadata": {},
   "source": [
    "Как видно игры с неизвестными рейтингами, имеют высокий процент продаж игр по всем регионам. Так в Северной Америке и Европе, такие игры по продажам стоят на втором месте, имея по 1100 и 550 миллионов продаж соответственно. В Японии такие игры продаются лучше всего с 800 млн. продаж."
   ]
  },
  {
   "cell_type": "markdown",
   "id": "2e41bbff",
   "metadata": {},
   "source": [
    "### Вывод."
   ]
  },
  {
   "cell_type": "markdown",
   "id": "7a2c6441",
   "metadata": {},
   "source": [
    "Проанализировав данные можно сказать, что для Северной Америке и Европы, лучше вкладываться в выпуск игр с рейтингом **Е** и жанром игр **Action**, **Sports** и **Shooter**. Японцам больше нравятся игры с жанром **Role-Playing**, но рейтинг таких игр неизвестен или тоже должны быть с рейтингом **Е**"
   ]
  },
  {
   "cell_type": "markdown",
   "id": "7ef609d5",
   "metadata": {},
   "source": [
    "## Проверка гипотез"
   ]
  },
  {
   "cell_type": "markdown",
   "id": "919852a8",
   "metadata": {},
   "source": [
    "Нам необходимо проверить 2 гипотезы:\n",
    "\n",
    "1. Средние пользовательские рейтинги платформ Xbox One и PC одинаковые;\n",
    "2. Средние пользовательские рейтинги жанров Action (англ. «действие», экшен-игры) и Sports (англ. «спортивные соревнования») разные."
   ]
  },
  {
   "cell_type": "markdown",
   "id": "a0824ca2",
   "metadata": {},
   "source": [
    "### Гипотеза 1"
   ]
  },
  {
   "cell_type": "markdown",
   "id": "cb93c3c1",
   "metadata": {},
   "source": [
    "**H0 (нулевая гипотеза)**  - средние пользовательские рейтинги платформ Xbox One и PC одинаковые\n",
    "\n",
    "**H1 (альтернативная гипотеза)** - Средние пользовательские рейтинги платформ Xbox One и PC различаются."
   ]
  },
  {
   "cell_type": "code",
   "execution_count": 39,
   "id": "0e247af1",
   "metadata": {
    "scrolled": true
   },
   "outputs": [
    {
     "data": {
      "text/html": [
       "<div>\n",
       "<style scoped>\n",
       "    .dataframe tbody tr th:only-of-type {\n",
       "        vertical-align: middle;\n",
       "    }\n",
       "\n",
       "    .dataframe tbody tr th {\n",
       "        vertical-align: top;\n",
       "    }\n",
       "\n",
       "    .dataframe thead th {\n",
       "        text-align: right;\n",
       "    }\n",
       "</style>\n",
       "<table border=\"1\" class=\"dataframe\">\n",
       "  <thead>\n",
       "    <tr style=\"text-align: right;\">\n",
       "      <th></th>\n",
       "      <th>mean</th>\n",
       "      <th>median</th>\n",
       "      <th>var</th>\n",
       "      <th>std</th>\n",
       "    </tr>\n",
       "    <tr>\n",
       "      <th>platform</th>\n",
       "      <th></th>\n",
       "      <th></th>\n",
       "      <th></th>\n",
       "      <th></th>\n",
       "    </tr>\n",
       "  </thead>\n",
       "  <tbody>\n",
       "    <tr>\n",
       "      <td>PC</td>\n",
       "      <td>7.067363</td>\n",
       "      <td>7.5</td>\n",
       "      <td>2.334881</td>\n",
       "      <td>1.528032</td>\n",
       "    </tr>\n",
       "    <tr>\n",
       "      <td>XOne</td>\n",
       "      <td>6.521429</td>\n",
       "      <td>6.8</td>\n",
       "      <td>1.906997</td>\n",
       "      <td>1.380941</td>\n",
       "    </tr>\n",
       "  </tbody>\n",
       "</table>\n",
       "</div>"
      ],
      "text/plain": [
       "              mean  median       var       std\n",
       "platform                                      \n",
       "PC        7.067363     7.5  2.334881  1.528032\n",
       "XOne      6.521429     6.8  1.906997  1.380941"
      ]
     },
     "execution_count": 39,
     "metadata": {},
     "output_type": "execute_result"
    }
   ],
   "source": [
    "df.query('platform == \"XOne\" or platform == \"PC\"').groupby('platform')['user_score'].agg([np.mean, np.median, np.var, np.std])"
   ]
  },
  {
   "cell_type": "markdown",
   "id": "81d04d55",
   "metadata": {},
   "source": [
    "Как видно медиана и дисперсия различаются. Проверим гипотезу с помощью метода “ttest_ind()”. Критический уровень статистической значимости возьмем 0.01"
   ]
  },
  {
   "cell_type": "code",
   "execution_count": 40,
   "id": "63af45a5",
   "metadata": {},
   "outputs": [
    {
     "name": "stdout",
     "output_type": "stream",
     "text": [
      "p-значение: 1.1488002807200711e-05\n",
      "Отвергаем нулевую гипотезу\n"
     ]
    }
   ],
   "source": [
    "alpha = .01\n",
    "\n",
    "results = st.ttest_ind(df.query('platform == \"XOne\" and not user_score.isna()')['user_score'],\n",
    "                       df.query('platform == \"PC\" and not user_score.isna()')['user_score'])\n",
    "\n",
    "print('p-значение:', results.pvalue)\n",
    "\n",
    "if (results.pvalue < alpha):\n",
    "    print(\"Отвергаем нулевую гипотезу\")\n",
    "else:\n",
    "    print(\"Не получилось отвергнуть нулевую гипотезу\")"
   ]
  },
  {
   "cell_type": "markdown",
   "id": "4924f948",
   "metadata": {},
   "source": [
    "Нулевую гипотезу отвергаем. Верно утверждение, что средние пользовательские рейтинги платформ Xbox One и PC различаются."
   ]
  },
  {
   "cell_type": "markdown",
   "id": "1e78e2f9",
   "metadata": {},
   "source": [
    "### Гипотеза 2"
   ]
  },
  {
   "cell_type": "markdown",
   "id": "6a958b24",
   "metadata": {},
   "source": [
    "**H0 (нулевая гипотеза)**  - средние пользовательские рейтинги жанров Action и Sports одинаковые\n",
    "\n",
    "**H1 (альтернативная гипотеза)** - средние пользовательские рейтинги жанров Action и Sports различаются."
   ]
  },
  {
   "cell_type": "code",
   "execution_count": 42,
   "id": "a93d8e4d",
   "metadata": {},
   "outputs": [
    {
     "data": {
      "text/html": [
       "<div>\n",
       "<style scoped>\n",
       "    .dataframe tbody tr th:only-of-type {\n",
       "        vertical-align: middle;\n",
       "    }\n",
       "\n",
       "    .dataframe tbody tr th {\n",
       "        vertical-align: top;\n",
       "    }\n",
       "\n",
       "    .dataframe thead th {\n",
       "        text-align: right;\n",
       "    }\n",
       "</style>\n",
       "<table border=\"1\" class=\"dataframe\">\n",
       "  <thead>\n",
       "    <tr style=\"text-align: right;\">\n",
       "      <th></th>\n",
       "      <th>mean</th>\n",
       "      <th>median</th>\n",
       "      <th>var</th>\n",
       "      <th>std</th>\n",
       "    </tr>\n",
       "    <tr>\n",
       "      <th>genre</th>\n",
       "      <th></th>\n",
       "      <th></th>\n",
       "      <th></th>\n",
       "      <th></th>\n",
       "    </tr>\n",
       "  </thead>\n",
       "  <tbody>\n",
       "    <tr>\n",
       "      <td>Action</td>\n",
       "      <td>7.056484</td>\n",
       "      <td>7.4</td>\n",
       "      <td>2.024746</td>\n",
       "      <td>1.422936</td>\n",
       "    </tr>\n",
       "    <tr>\n",
       "      <td>Sports</td>\n",
       "      <td>6.956375</td>\n",
       "      <td>7.4</td>\n",
       "      <td>2.601240</td>\n",
       "      <td>1.612836</td>\n",
       "    </tr>\n",
       "  </tbody>\n",
       "</table>\n",
       "</div>"
      ],
      "text/plain": [
       "            mean  median       var       std\n",
       "genre                                       \n",
       "Action  7.056484     7.4  2.024746  1.422936\n",
       "Sports  6.956375     7.4  2.601240  1.612836"
      ]
     },
     "execution_count": 42,
     "metadata": {},
     "output_type": "execute_result"
    }
   ],
   "source": [
    "df.query('genre == \"Action\" or genre == \"Sports\"').groupby('genre')['user_score'].agg([np.mean, np.median, np.var, np.std])"
   ]
  },
  {
   "cell_type": "markdown",
   "id": "c03cd482",
   "metadata": {},
   "source": [
    "Как видно медиана у жанров одинакова. Проверим гипотезу с помощью метода “ttest_ind()”. Критический уровень статистической значимости возьмем 0.5"
   ]
  },
  {
   "cell_type": "code",
   "execution_count": 43,
   "id": "3e15ba8f",
   "metadata": {},
   "outputs": [
    {
     "name": "stdout",
     "output_type": "stream",
     "text": [
      "p-значение: 0.08991887133875968\n",
      "Не получилось отвергнуть нулевую гипотезу\n"
     ]
    }
   ],
   "source": [
    "alpha = .05\n",
    "\n",
    "results = st.ttest_ind(df.query('genre == \"Action\" and not user_score.isna()')['user_score'], \\\n",
    "                       df.query('genre == \"Sports\" and not user_score.isna()')['user_score'], equal_var=False)\n",
    "\n",
    "print('p-значение:', results.pvalue)\n",
    "\n",
    "if (results.pvalue < alpha):\n",
    "    print(\"Отвергаем нулевую гипотезу\")\n",
    "else:\n",
    "    print(\"Не получилось отвергнуть нулевую гипотезу\")"
   ]
  },
  {
   "cell_type": "markdown",
   "id": "d8ec6a0c",
   "metadata": {},
   "source": [
    "Не получилось отвергнуть нулевую гипотезу. Утверждение, что средние пользовательские рейтинги жанров Action и Sports одинаковые, подтвердилась."
   ]
  },
  {
   "cell_type": "markdown",
   "id": "2a981050",
   "metadata": {},
   "source": [
    "## Общий вывод"
   ]
  },
  {
   "cell_type": "markdown",
   "id": "266bb538",
   "metadata": {},
   "source": [
    "Был произведен анализ интернет-магазина «Стримчик», который продаёт по всему миру компьютерные игры. Произвели обработку данных, заменили по возможности пропуски. Посчитали суммарные продажи во всех регионах.\n",
    "\n",
    "Вывели что, начиная с 1995 года продажа игр с развитием технологий начала увеличиваться. Пик продаж пришелся на 2008 год, но после экономического кризиса, продажи начали падать и в приоритете стали качественные игры, за которые отдаются хорошие оценки критиков.\n",
    "\n",
    "Проведя анализ, определили, что игры для платформ выпускаются в среднем 11 лет, на смену им приходят новые платформы.\n",
    "\n",
    "Определили, что в будущем будут популярны игры на платформах **PS4** и **XOne**. И что для Северной Америке и Европы, лучше вкладываться в выпуск игр с рейтингом **Е** и жанром игр **Action**, **Sports** и **Shooter**. Японцам больше нравятся игры с жанром **Role-Playing**, но рейтинг таких игр неизвестен или тоже должны быть с рейтингом **Е**.\n",
    "\n",
    "Проверили 2 гипотезы:\n",
    "1. Средние пользовательские рейтинги платформ Xbox One и PC одинаковые, верна\n",
    "2. Средние пользовательские рейтинги жанров Action (англ. «действие», экшен-игры) и Sports (англ. «спортивные соревнования») разные, верна."
   ]
  }
 ],
 "metadata": {
  "ExecuteTimeLog": [
   {
    "duration": 1107,
    "start_time": "2022-03-06T19:46:28.720Z"
   },
   {
    "duration": 146,
    "start_time": "2022-03-06T19:46:29.829Z"
   },
   {
    "duration": 4,
    "start_time": "2022-03-06T19:46:29.978Z"
   },
   {
    "duration": 17,
    "start_time": "2022-03-06T19:46:29.984Z"
   },
   {
    "duration": 12,
    "start_time": "2022-03-06T19:46:30.003Z"
   },
   {
    "duration": 43708,
    "start_time": "2022-03-06T19:46:30.038Z"
   },
   {
    "duration": 22,
    "start_time": "2022-03-06T19:47:13.748Z"
   },
   {
    "duration": 8,
    "start_time": "2022-03-06T19:47:13.773Z"
   },
   {
    "duration": 6,
    "start_time": "2022-03-06T19:47:13.783Z"
   },
   {
    "duration": 7,
    "start_time": "2022-03-06T19:47:13.790Z"
   },
   {
    "duration": 11,
    "start_time": "2022-03-06T19:47:13.798Z"
   },
   {
    "duration": 287,
    "start_time": "2022-03-06T19:47:13.838Z"
   },
   {
    "duration": 12,
    "start_time": "2022-03-06T19:47:14.127Z"
   },
   {
    "duration": 9,
    "start_time": "2022-03-06T19:47:14.140Z"
   },
   {
    "duration": 10,
    "start_time": "2022-03-06T19:47:14.151Z"
   },
   {
    "duration": 11,
    "start_time": "2022-03-06T19:47:14.163Z"
   },
   {
    "duration": 17,
    "start_time": "2022-03-06T19:47:14.176Z"
   },
   {
    "duration": 43,
    "start_time": "2022-03-06T19:47:14.195Z"
   },
   {
    "duration": 422,
    "start_time": "2022-03-06T19:47:14.241Z"
   },
   {
    "duration": 312,
    "start_time": "2022-03-06T19:47:14.665Z"
   },
   {
    "duration": 423,
    "start_time": "2022-03-06T19:47:14.980Z"
   },
   {
    "duration": 7,
    "start_time": "2022-03-06T19:47:15.404Z"
   },
   {
    "duration": 431,
    "start_time": "2022-03-06T19:47:15.414Z"
   },
   {
    "duration": 21,
    "start_time": "2022-03-06T19:47:15.847Z"
   },
   {
    "duration": 484,
    "start_time": "2022-03-06T19:47:15.870Z"
   },
   {
    "duration": 8,
    "start_time": "2022-03-06T19:47:16.356Z"
   },
   {
    "duration": 864,
    "start_time": "2022-03-06T19:47:16.365Z"
   },
   {
    "duration": 18,
    "start_time": "2022-03-06T19:47:17.231Z"
   },
   {
    "duration": 8,
    "start_time": "2022-03-06T19:47:17.251Z"
   },
   {
    "duration": 1176,
    "start_time": "2022-03-06T19:47:17.261Z"
   },
   {
    "duration": 126,
    "start_time": "2022-03-06T19:47:18.439Z"
   },
   {
    "duration": 6,
    "start_time": "2022-03-06T19:47:18.567Z"
   },
   {
    "duration": 4,
    "start_time": "2022-03-06T19:47:18.575Z"
   },
   {
    "duration": 6,
    "start_time": "2022-03-06T19:47:18.581Z"
   },
   {
    "duration": 487,
    "start_time": "2022-03-06T19:47:18.588Z"
   },
   {
    "duration": 447,
    "start_time": "2022-03-06T19:47:19.077Z"
   },
   {
    "duration": 584,
    "start_time": "2022-03-06T19:47:19.525Z"
   },
   {
    "duration": 460,
    "start_time": "2022-03-06T19:47:20.111Z"
   },
   {
    "duration": 17,
    "start_time": "2022-03-06T19:47:20.573Z"
   },
   {
    "duration": 19,
    "start_time": "2022-03-06T19:47:20.592Z"
   },
   {
    "duration": 39,
    "start_time": "2022-03-06T19:47:20.612Z"
   },
   {
    "duration": 15,
    "start_time": "2022-03-06T19:47:20.652Z"
   },
   {
    "duration": 20,
    "start_time": "2022-03-06T20:08:33.181Z"
   },
   {
    "duration": 15,
    "start_time": "2022-03-06T20:09:52.194Z"
   },
   {
    "duration": 16,
    "start_time": "2022-03-06T20:11:19.958Z"
   },
   {
    "duration": 15,
    "start_time": "2022-03-06T20:11:24.094Z"
   }
  ],
  "kernelspec": {
   "display_name": "Python 3 (ipykernel)",
   "language": "python",
   "name": "python3"
  },
  "language_info": {
   "codemirror_mode": {
    "name": "ipython",
    "version": 3
   },
   "file_extension": ".py",
   "mimetype": "text/x-python",
   "name": "python",
   "nbconvert_exporter": "python",
   "pygments_lexer": "ipython3",
   "version": "3.9.12"
  },
  "toc": {
   "base_numbering": 1,
   "nav_menu": {},
   "number_sections": true,
   "sideBar": true,
   "skip_h1_title": true,
   "title_cell": "Содержание",
   "title_sidebar": "Contents",
   "toc_cell": true,
   "toc_position": {
    "height": "calc(100% - 180px)",
    "left": "10px",
    "top": "150px",
    "width": "320px"
   },
   "toc_section_display": true,
   "toc_window_display": true
  }
 },
 "nbformat": 4,
 "nbformat_minor": 5
}
