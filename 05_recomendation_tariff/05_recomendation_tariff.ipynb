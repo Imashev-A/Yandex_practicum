{
 "cells": [
  {
   "cell_type": "markdown",
   "id": "6ff3c0e8",
   "metadata": {},
   "source": [
    "# Рекомендация тарифов\n",
    "\n",
    "В вашем распоряжении данные о поведении клиентов, которые уже перешли на тарифы. Нужно построить модель для задачи классификации, которая выберет подходящий тариф. Предобработка данных не понадобится — вы её уже сделали.\n",
    "\n",
    "Постройте модель с максимально большим значением *accuracy*. Чтобы сдать проект успешно, нужно довести долю правильных ответов по крайней мере до 0.75. Проверьте *accuracy* на тестовой выборке самостоятельно.\n",
    "\n",
    "# Описание данных\n",
    "\n",
    "Каждый объект в наборе данных — это информация о поведении одного пользователя за месяц. Известно:\n",
    "* сalls — количество звонков,\n",
    "* minutes — суммарная длительность звонков в минутах,\n",
    "* messages — количество sms-сообщений,\n",
    "* mb_used — израсходованный интернет-трафик в Мб,\n",
    "* is_ultra — каким тарифом пользовался в течение месяца («Ультра» — 1, «Смарт» — 0)."
   ]
  },
  {
   "cell_type": "markdown",
   "id": "c8137498",
   "metadata": {},
   "source": [
    "## Загрузка и подготовка данных"
   ]
  },
  {
   "cell_type": "code",
   "execution_count": 1,
   "id": "b481ff8f",
   "metadata": {},
   "outputs": [],
   "source": [
    "import matplotlib.pyplot as plt\n",
    "import pandas as pd\n",
    "\n",
    "from sklearn.dummy import DummyClassifier\n",
    "from sklearn.ensemble import RandomForestClassifier\n",
    "from sklearn.linear_model import LogisticRegression\n",
    "from sklearn.metrics import accuracy_score\n",
    "from sklearn.model_selection import train_test_split\n",
    "from sklearn.tree import DecisionTreeClassifier"
   ]
  },
  {
   "cell_type": "markdown",
   "id": "6f847652",
   "metadata": {},
   "source": [
    "Загрузим и изучим данные"
   ]
  },
  {
   "cell_type": "code",
   "execution_count": 2,
   "id": "f811cc46",
   "metadata": {},
   "outputs": [
    {
     "name": "stdout",
     "output_type": "stream",
     "text": [
      "<class 'pandas.core.frame.DataFrame'>\n",
      "RangeIndex: 3214 entries, 0 to 3213\n",
      "Data columns (total 5 columns):\n",
      " #   Column    Non-Null Count  Dtype  \n",
      "---  ------    --------------  -----  \n",
      " 0   calls     3214 non-null   float64\n",
      " 1   minutes   3214 non-null   float64\n",
      " 2   messages  3214 non-null   float64\n",
      " 3   mb_used   3214 non-null   float64\n",
      " 4   is_ultra  3214 non-null   int64  \n",
      "dtypes: float64(4), int64(1)\n",
      "memory usage: 125.7 KB\n"
     ]
    },
    {
     "data": {
      "text/html": [
       "<div>\n",
       "<style scoped>\n",
       "    .dataframe tbody tr th:only-of-type {\n",
       "        vertical-align: middle;\n",
       "    }\n",
       "\n",
       "    .dataframe tbody tr th {\n",
       "        vertical-align: top;\n",
       "    }\n",
       "\n",
       "    .dataframe thead th {\n",
       "        text-align: right;\n",
       "    }\n",
       "</style>\n",
       "<table border=\"1\" class=\"dataframe\">\n",
       "  <thead>\n",
       "    <tr style=\"text-align: right;\">\n",
       "      <th></th>\n",
       "      <th>calls</th>\n",
       "      <th>minutes</th>\n",
       "      <th>messages</th>\n",
       "      <th>mb_used</th>\n",
       "      <th>is_ultra</th>\n",
       "    </tr>\n",
       "  </thead>\n",
       "  <tbody>\n",
       "    <tr>\n",
       "      <th>0</th>\n",
       "      <td>40.0</td>\n",
       "      <td>311.90</td>\n",
       "      <td>83.0</td>\n",
       "      <td>19915.42</td>\n",
       "      <td>0</td>\n",
       "    </tr>\n",
       "    <tr>\n",
       "      <th>1</th>\n",
       "      <td>85.0</td>\n",
       "      <td>516.75</td>\n",
       "      <td>56.0</td>\n",
       "      <td>22696.96</td>\n",
       "      <td>0</td>\n",
       "    </tr>\n",
       "    <tr>\n",
       "      <th>2</th>\n",
       "      <td>77.0</td>\n",
       "      <td>467.66</td>\n",
       "      <td>86.0</td>\n",
       "      <td>21060.45</td>\n",
       "      <td>0</td>\n",
       "    </tr>\n",
       "    <tr>\n",
       "      <th>3</th>\n",
       "      <td>106.0</td>\n",
       "      <td>745.53</td>\n",
       "      <td>81.0</td>\n",
       "      <td>8437.39</td>\n",
       "      <td>1</td>\n",
       "    </tr>\n",
       "    <tr>\n",
       "      <th>4</th>\n",
       "      <td>66.0</td>\n",
       "      <td>418.74</td>\n",
       "      <td>1.0</td>\n",
       "      <td>14502.75</td>\n",
       "      <td>0</td>\n",
       "    </tr>\n",
       "    <tr>\n",
       "      <th>5</th>\n",
       "      <td>58.0</td>\n",
       "      <td>344.56</td>\n",
       "      <td>21.0</td>\n",
       "      <td>15823.37</td>\n",
       "      <td>0</td>\n",
       "    </tr>\n",
       "    <tr>\n",
       "      <th>6</th>\n",
       "      <td>57.0</td>\n",
       "      <td>431.64</td>\n",
       "      <td>20.0</td>\n",
       "      <td>3738.90</td>\n",
       "      <td>1</td>\n",
       "    </tr>\n",
       "    <tr>\n",
       "      <th>7</th>\n",
       "      <td>15.0</td>\n",
       "      <td>132.40</td>\n",
       "      <td>6.0</td>\n",
       "      <td>21911.60</td>\n",
       "      <td>0</td>\n",
       "    </tr>\n",
       "    <tr>\n",
       "      <th>8</th>\n",
       "      <td>7.0</td>\n",
       "      <td>43.39</td>\n",
       "      <td>3.0</td>\n",
       "      <td>2538.67</td>\n",
       "      <td>1</td>\n",
       "    </tr>\n",
       "    <tr>\n",
       "      <th>9</th>\n",
       "      <td>90.0</td>\n",
       "      <td>665.41</td>\n",
       "      <td>38.0</td>\n",
       "      <td>17358.61</td>\n",
       "      <td>0</td>\n",
       "    </tr>\n",
       "  </tbody>\n",
       "</table>\n",
       "</div>"
      ],
      "text/plain": [
       "   calls  minutes  messages   mb_used  is_ultra\n",
       "0   40.0   311.90      83.0  19915.42         0\n",
       "1   85.0   516.75      56.0  22696.96         0\n",
       "2   77.0   467.66      86.0  21060.45         0\n",
       "3  106.0   745.53      81.0   8437.39         1\n",
       "4   66.0   418.74       1.0  14502.75         0\n",
       "5   58.0   344.56      21.0  15823.37         0\n",
       "6   57.0   431.64      20.0   3738.90         1\n",
       "7   15.0   132.40       6.0  21911.60         0\n",
       "8    7.0    43.39       3.0   2538.67         1\n",
       "9   90.0   665.41      38.0  17358.61         0"
      ]
     },
     "execution_count": 2,
     "metadata": {},
     "output_type": "execute_result"
    }
   ],
   "source": [
    "df = pd.read_csv('./datasets/users_behavior.csv')\n",
    "df.info()\n",
    "df.head(10)"
   ]
  },
  {
   "cell_type": "code",
   "execution_count": 3,
   "id": "f70e5b5b",
   "metadata": {},
   "outputs": [
    {
     "data": {
      "text/html": [
       "<div>\n",
       "<style scoped>\n",
       "    .dataframe tbody tr th:only-of-type {\n",
       "        vertical-align: middle;\n",
       "    }\n",
       "\n",
       "    .dataframe tbody tr th {\n",
       "        vertical-align: top;\n",
       "    }\n",
       "\n",
       "    .dataframe thead th {\n",
       "        text-align: right;\n",
       "    }\n",
       "</style>\n",
       "<table border=\"1\" class=\"dataframe\">\n",
       "  <thead>\n",
       "    <tr style=\"text-align: right;\">\n",
       "      <th></th>\n",
       "      <th>calls</th>\n",
       "      <th>minutes</th>\n",
       "      <th>messages</th>\n",
       "      <th>mb_used</th>\n",
       "      <th>is_ultra</th>\n",
       "    </tr>\n",
       "  </thead>\n",
       "  <tbody>\n",
       "    <tr>\n",
       "      <th>count</th>\n",
       "      <td>3214.000000</td>\n",
       "      <td>3214.000000</td>\n",
       "      <td>3214.000000</td>\n",
       "      <td>3214.000000</td>\n",
       "      <td>3214.000000</td>\n",
       "    </tr>\n",
       "    <tr>\n",
       "      <th>mean</th>\n",
       "      <td>63.038892</td>\n",
       "      <td>438.208787</td>\n",
       "      <td>38.281269</td>\n",
       "      <td>17207.673836</td>\n",
       "      <td>0.306472</td>\n",
       "    </tr>\n",
       "    <tr>\n",
       "      <th>std</th>\n",
       "      <td>33.236368</td>\n",
       "      <td>234.569872</td>\n",
       "      <td>36.148326</td>\n",
       "      <td>7570.968246</td>\n",
       "      <td>0.461100</td>\n",
       "    </tr>\n",
       "    <tr>\n",
       "      <th>min</th>\n",
       "      <td>0.000000</td>\n",
       "      <td>0.000000</td>\n",
       "      <td>0.000000</td>\n",
       "      <td>0.000000</td>\n",
       "      <td>0.000000</td>\n",
       "    </tr>\n",
       "    <tr>\n",
       "      <th>25%</th>\n",
       "      <td>40.000000</td>\n",
       "      <td>274.575000</td>\n",
       "      <td>9.000000</td>\n",
       "      <td>12491.902500</td>\n",
       "      <td>0.000000</td>\n",
       "    </tr>\n",
       "    <tr>\n",
       "      <th>50%</th>\n",
       "      <td>62.000000</td>\n",
       "      <td>430.600000</td>\n",
       "      <td>30.000000</td>\n",
       "      <td>16943.235000</td>\n",
       "      <td>0.000000</td>\n",
       "    </tr>\n",
       "    <tr>\n",
       "      <th>75%</th>\n",
       "      <td>82.000000</td>\n",
       "      <td>571.927500</td>\n",
       "      <td>57.000000</td>\n",
       "      <td>21424.700000</td>\n",
       "      <td>1.000000</td>\n",
       "    </tr>\n",
       "    <tr>\n",
       "      <th>max</th>\n",
       "      <td>244.000000</td>\n",
       "      <td>1632.060000</td>\n",
       "      <td>224.000000</td>\n",
       "      <td>49745.730000</td>\n",
       "      <td>1.000000</td>\n",
       "    </tr>\n",
       "  </tbody>\n",
       "</table>\n",
       "</div>"
      ],
      "text/plain": [
       "             calls      minutes     messages       mb_used     is_ultra\n",
       "count  3214.000000  3214.000000  3214.000000   3214.000000  3214.000000\n",
       "mean     63.038892   438.208787    38.281269  17207.673836     0.306472\n",
       "std      33.236368   234.569872    36.148326   7570.968246     0.461100\n",
       "min       0.000000     0.000000     0.000000      0.000000     0.000000\n",
       "25%      40.000000   274.575000     9.000000  12491.902500     0.000000\n",
       "50%      62.000000   430.600000    30.000000  16943.235000     0.000000\n",
       "75%      82.000000   571.927500    57.000000  21424.700000     1.000000\n",
       "max     244.000000  1632.060000   224.000000  49745.730000     1.000000"
      ]
     },
     "execution_count": 3,
     "metadata": {},
     "output_type": "execute_result"
    }
   ],
   "source": [
    "df.describe()"
   ]
  },
  {
   "cell_type": "code",
   "execution_count": 4,
   "id": "014732c8",
   "metadata": {},
   "outputs": [
    {
     "data": {
      "text/html": [
       "<div>\n",
       "<style scoped>\n",
       "    .dataframe tbody tr th:only-of-type {\n",
       "        vertical-align: middle;\n",
       "    }\n",
       "\n",
       "    .dataframe tbody tr th {\n",
       "        vertical-align: top;\n",
       "    }\n",
       "\n",
       "    .dataframe thead th {\n",
       "        text-align: right;\n",
       "    }\n",
       "</style>\n",
       "<table border=\"1\" class=\"dataframe\">\n",
       "  <thead>\n",
       "    <tr style=\"text-align: right;\">\n",
       "      <th></th>\n",
       "      <th>calls</th>\n",
       "      <th>minutes</th>\n",
       "      <th>messages</th>\n",
       "      <th>mb_used</th>\n",
       "      <th>is_ultra</th>\n",
       "    </tr>\n",
       "  </thead>\n",
       "  <tbody>\n",
       "    <tr>\n",
       "      <th>calls</th>\n",
       "      <td>1.000000</td>\n",
       "      <td>0.982083</td>\n",
       "      <td>0.177385</td>\n",
       "      <td>0.286442</td>\n",
       "      <td>0.207122</td>\n",
       "    </tr>\n",
       "    <tr>\n",
       "      <th>minutes</th>\n",
       "      <td>0.982083</td>\n",
       "      <td>1.000000</td>\n",
       "      <td>0.173110</td>\n",
       "      <td>0.280967</td>\n",
       "      <td>0.206955</td>\n",
       "    </tr>\n",
       "    <tr>\n",
       "      <th>messages</th>\n",
       "      <td>0.177385</td>\n",
       "      <td>0.173110</td>\n",
       "      <td>1.000000</td>\n",
       "      <td>0.195721</td>\n",
       "      <td>0.203830</td>\n",
       "    </tr>\n",
       "    <tr>\n",
       "      <th>mb_used</th>\n",
       "      <td>0.286442</td>\n",
       "      <td>0.280967</td>\n",
       "      <td>0.195721</td>\n",
       "      <td>1.000000</td>\n",
       "      <td>0.198568</td>\n",
       "    </tr>\n",
       "    <tr>\n",
       "      <th>is_ultra</th>\n",
       "      <td>0.207122</td>\n",
       "      <td>0.206955</td>\n",
       "      <td>0.203830</td>\n",
       "      <td>0.198568</td>\n",
       "      <td>1.000000</td>\n",
       "    </tr>\n",
       "  </tbody>\n",
       "</table>\n",
       "</div>"
      ],
      "text/plain": [
       "             calls   minutes  messages   mb_used  is_ultra\n",
       "calls     1.000000  0.982083  0.177385  0.286442  0.207122\n",
       "minutes   0.982083  1.000000  0.173110  0.280967  0.206955\n",
       "messages  0.177385  0.173110  1.000000  0.195721  0.203830\n",
       "mb_used   0.286442  0.280967  0.195721  1.000000  0.198568\n",
       "is_ultra  0.207122  0.206955  0.203830  0.198568  1.000000"
      ]
     },
     "execution_count": 4,
     "metadata": {},
     "output_type": "execute_result"
    }
   ],
   "source": [
    "df.corr()"
   ]
  },
  {
   "cell_type": "code",
   "execution_count": 4,
   "id": "cb773d4a",
   "metadata": {},
   "outputs": [
    {
     "data": {
      "text/plain": [
       "0    2229\n",
       "1     985\n",
       "Name: is_ultra, dtype: int64"
      ]
     },
     "execution_count": 4,
     "metadata": {},
     "output_type": "execute_result"
    }
   ],
   "source": [
    "df['is_ultra'].value_counts()"
   ]
  },
  {
   "cell_type": "markdown",
   "id": "f78edcff",
   "metadata": {},
   "source": [
    "### Замена типа данных"
   ]
  },
  {
   "cell_type": "markdown",
   "id": "809a2a58",
   "metadata": {},
   "source": [
    "Заменим типы данных в столбцах **calls** и **messages**"
   ]
  },
  {
   "cell_type": "code",
   "execution_count": 5,
   "id": "f431b5cc",
   "metadata": {
    "scrolled": false
   },
   "outputs": [
    {
     "name": "stdout",
     "output_type": "stream",
     "text": [
      "<class 'pandas.core.frame.DataFrame'>\n",
      "RangeIndex: 3214 entries, 0 to 3213\n",
      "Data columns (total 5 columns):\n",
      " #   Column    Non-Null Count  Dtype  \n",
      "---  ------    --------------  -----  \n",
      " 0   calls     3214 non-null   int64  \n",
      " 1   minutes   3214 non-null   float64\n",
      " 2   messages  3214 non-null   int64  \n",
      " 3   mb_used   3214 non-null   float64\n",
      " 4   is_ultra  3214 non-null   int64  \n",
      "dtypes: float64(2), int64(3)\n",
      "memory usage: 125.7 KB\n"
     ]
    }
   ],
   "source": [
    "df = df.astype({'calls':'int', 'messages':'int'}, copy=True)\n",
    "df.info()"
   ]
  },
  {
   "cell_type": "markdown",
   "id": "14bf06c6",
   "metadata": {},
   "source": [
    "### Обработка дубликатов"
   ]
  },
  {
   "cell_type": "markdown",
   "id": "cbfaa99c",
   "metadata": {},
   "source": [
    "Посмотрим, есть ли явные дубликаты в таблице:"
   ]
  },
  {
   "cell_type": "code",
   "execution_count": 6,
   "id": "dc9cdd93",
   "metadata": {
    "scrolled": true
   },
   "outputs": [
    {
     "data": {
      "text/plain": [
       "0"
      ]
     },
     "execution_count": 6,
     "metadata": {},
     "output_type": "execute_result"
    }
   ],
   "source": [
    "df.duplicated().sum()"
   ]
  },
  {
   "cell_type": "markdown",
   "id": "aa443386",
   "metadata": {},
   "source": [
    "### Посмотрим на данные на диаграмме размаха"
   ]
  },
  {
   "cell_type": "code",
   "execution_count": 7,
   "id": "e6b7d394",
   "metadata": {
    "scrolled": false
   },
   "outputs": [
    {
     "data": {
      "image/png": "[encoded data removed]",
      "text/plain": [
       "<Figure size 720x432 with 1 Axes>"
      ]
     },
     "metadata": {
      "needs_background": "light"
     },
     "output_type": "display_data"
    },
    {
     "data": {
      "image/png": "[encoded data removed]",
      "text/plain": [
       "<Figure size 720x432 with 1 Axes>"
      ]
     },
     "metadata": {
      "needs_background": "light"
     },
     "output_type": "display_data"
    },
    {
     "data": {
      "image/png": "[encoded data removed]",
      "text/plain": [
       "<Figure size 720x432 with 1 Axes>"
      ]
     },
     "metadata": {
      "needs_background": "light"
     },
     "output_type": "display_data"
    },
    {
     "data": {
      "image/png": "[encoded data removed]",
      "text/plain": [
       "<Figure size 720x432 with 1 Axes>"
      ]
     },
     "metadata": {
      "needs_background": "light"
     },
     "output_type": "display_data"
    }
   ],
   "source": [
    "for row in ['calls', 'minutes', 'messages', 'mb_used']:\n",
    "    ax = df.boxplot(column=row, by='is_ultra', figsize=(10,6), notch=True,\n",
    "                    boxprops=dict(linestyle='-', linewidth=2),\n",
    "                    medianprops=dict(linestyle='-', linewidth=2, color='firebrick'),\n",
    "                    whiskerprops=dict(linestyle='-', linewidth=2),\n",
    "                    capprops=dict(linestyle='-', linewidth=2))\n",
    "                    #showfliers=False)\n",
    "    plt.legend(['0 -- Smart','1 -- Ultra'])\n",
    "    ax.set_xlabel('')\n",
    "    plt.show()\n"
   ]
  },
  {
   "cell_type": "markdown",
   "id": "5cb6ddcd",
   "metadata": {},
   "source": [
    "### Вывод"
   ]
  },
  {
   "cell_type": "markdown",
   "id": "d2705da5",
   "metadata": {},
   "source": [
    "В данных отсутствуют пропуски и дубликаты. Но как видно пользователей на тарифе “Смарт” в 2 раза больше, чем на тарифе “Ультра”, что может повлиять на дальнейшие предсказания."
   ]
  },
  {
   "cell_type": "markdown",
   "id": "ea34f057",
   "metadata": {},
   "source": [
    "## Разобьем признаки для обучения"
   ]
  },
  {
   "cell_type": "markdown",
   "id": "08d3d336",
   "metadata": {},
   "source": [
    "Сохраним признаки в переменные **features** и **target**."
   ]
  },
  {
   "cell_type": "code",
   "execution_count": 8,
   "id": "30879432",
   "metadata": {},
   "outputs": [],
   "source": [
    "features = df.drop(columns=['is_ultra'])\n",
    "target = df['is_ultra']"
   ]
  },
  {
   "cell_type": "markdown",
   "id": "a4697016",
   "metadata": {},
   "source": [
    "Разделим исходные данные на обучающую, валидационную и тестовую выборки."
   ]
  },
  {
   "cell_type": "code",
   "execution_count": 9,
   "id": "611c9185",
   "metadata": {},
   "outputs": [],
   "source": [
    "features_train, features_valid, target_train, target_valid = train_test_split(\n",
    "    features, target, test_size=0.4, random_state=12345)\n",
    "\n",
    "features_valid, features_test, target_valid, target_test = train_test_split(\n",
    "    features_valid, target_valid, test_size=0.5, random_state=12345)"
   ]
  },
  {
   "cell_type": "markdown",
   "id": "a026a369",
   "metadata": {},
   "source": [
    "## Обучение модели"
   ]
  },
  {
   "cell_type": "markdown",
   "id": "d8787e09",
   "metadata": {},
   "source": [
    "Исследуем качество разных моделей"
   ]
  },
  {
   "cell_type": "markdown",
   "id": "4f4b4c17",
   "metadata": {},
   "source": [
    "### Дерево решений"
   ]
  },
  {
   "cell_type": "code",
   "execution_count": 10,
   "id": "e6cce0db",
   "metadata": {},
   "outputs": [
    {
     "name": "stdout",
     "output_type": "stream",
     "text": [
      "Лучшая модель: DecisionTreeClassifier(max_depth=3, random_state=12345)\n",
      "Качество модели: 0.7853810264385692\n"
     ]
    }
   ],
   "source": [
    "best_model_decision = None\n",
    "best_result_decision = 0\n",
    "for depth in range(1, 6):\n",
    "    model = DecisionTreeClassifier(random_state=12345, max_depth=depth) \n",
    "    model.fit(features_train, target_train) \n",
    "    predictions_valid = model.predict(features_valid)\n",
    "    result = accuracy_score(target_valid, predictions_valid)\n",
    "    if result > best_result_decision:\n",
    "        best_model_decisin = model \n",
    "        best_result_decision = result\n",
    "print('Лучшая модель:', best_model_decisin)\n",
    "print('Качество модели:', best_result_decision)\n"
   ]
  },
  {
   "cell_type": "markdown",
   "id": "128cbba3",
   "metadata": {},
   "source": [
    "### Случайный лес"
   ]
  },
  {
   "cell_type": "code",
   "execution_count": 11,
   "id": "60f54db7",
   "metadata": {},
   "outputs": [
    {
     "name": "stdout",
     "output_type": "stream",
     "text": [
      "Лучшая модель: RandomForestClassifier(max_depth=8, n_estimators=40, random_state=12345)\n",
      "Качество модели: 0.8087091757387247\n"
     ]
    }
   ],
   "source": [
    "best_model_random = None\n",
    "best_result_random = 0\n",
    "for est in range(1, 51):\n",
    "    for depth in range (1, 11):\n",
    "        model = RandomForestClassifier(random_state=12345, max_depth=depth, n_estimators=est)\n",
    "        model.fit(features_train, target_train)\n",
    "        result = model.score(features_valid, target_valid)\n",
    "        if result > best_result_random:\n",
    "            best_model_random = model\n",
    "            best_result_random = result\n",
    "print('Лучшая модель:', best_model_random)\n",
    "print('Качество модели:', best_result_random)"
   ]
  },
  {
   "cell_type": "markdown",
   "id": "ded0ab60",
   "metadata": {},
   "source": [
    "### Логистическая регрессия"
   ]
  },
  {
   "cell_type": "code",
   "execution_count": 12,
   "id": "605d2247",
   "metadata": {},
   "outputs": [
    {
     "name": "stdout",
     "output_type": "stream",
     "text": [
      "Качество модели: 0.7107309486780715\n"
     ]
    }
   ],
   "source": [
    "model_logistic = LogisticRegression(random_state=12345, solver='lbfgs', max_iter=1000)\n",
    "model_logistic.fit(features_train, target_train)\n",
    "result_logistic = model_logistic.score(features_valid, target_valid)\n",
    "print('Качество модели:', result_logistic)        "
   ]
  },
  {
   "cell_type": "markdown",
   "id": "00fca817",
   "metadata": {},
   "source": [
    "### Вывод"
   ]
  },
  {
   "cell_type": "markdown",
   "id": "76899050",
   "metadata": {},
   "source": [
    "Из трех моделей, лучшей оказалась модель “Случайный лес”. Качество модели: 0.8087091757387247"
   ]
  },
  {
   "cell_type": "markdown",
   "id": "dfa09d75",
   "metadata": {},
   "source": [
    "## Тестирование"
   ]
  },
  {
   "cell_type": "markdown",
   "id": "3ed5489a",
   "metadata": {},
   "source": [
    "Проверим модель “Случайный лес”, на тестовой выборке."
   ]
  },
  {
   "cell_type": "code",
   "execution_count": 13,
   "id": "d00adf19",
   "metadata": {},
   "outputs": [
    {
     "name": "stdout",
     "output_type": "stream",
     "text": [
      "Качество модели: 0.7962674961119751\n"
     ]
    }
   ],
   "source": [
    "result_test_random = best_model_random.score(features_test, target_test)\n",
    "print('Качество модели:', result_test_random)"
   ]
  },
  {
   "cell_type": "markdown",
   "id": "15ecdd82",
   "metadata": {},
   "source": [
    "Проверим остальные модели "
   ]
  },
  {
   "cell_type": "code",
   "execution_count": 14,
   "id": "baa5c378",
   "metadata": {},
   "outputs": [
    {
     "name": "stdout",
     "output_type": "stream",
     "text": [
      "Дерево решений: 0.7791601866251944\n",
      "Логистическая регрессия: 0.6842923794712286\n"
     ]
    }
   ],
   "source": [
    "result_test_decision = best_model_decisin.score(features_test, target_test)\n",
    "result_test_logistic = model_logistic.score(features_test, target_test)\n",
    "print('Дерево решений:', result_test_decision)\n",
    "print('Логистическая регрессия:', result_test_logistic)"
   ]
  },
  {
   "cell_type": "markdown",
   "id": "cd5ff9e3",
   "metadata": {},
   "source": [
    "**Вывод**"
   ]
  },
  {
   "cell_type": "markdown",
   "id": "d810e333",
   "metadata": {},
   "source": [
    "Был произведен анализ пользователей компании «Мегалайн», на тарифах Смарт и Ультра. Для рекомендаций тарифа, была найдена модель с наилудшими предсказаниями метрики **RandomForestClassifier(max_depth=8, n_estimators=40, random_state=12345)** с метрикой 0,79. "
   ]
  },
  {
   "cell_type": "markdown",
   "id": "a1cea67d",
   "metadata": {},
   "source": [
    "## Проверка модели на адекватность"
   ]
  },
  {
   "cell_type": "markdown",
   "id": "769cc864",
   "metadata": {},
   "source": [
    "Проверим модели на вменяемость использовав DummyClassifier."
   ]
  },
  {
   "cell_type": "code",
   "execution_count": 15,
   "id": "429c1738",
   "metadata": {},
   "outputs": [
    {
     "name": "stdout",
     "output_type": "stream",
     "text": [
      "На валидационной выборке:  0.7060653188180405\n",
      "На тестовой выборке:  0.6842923794712286\n"
     ]
    }
   ],
   "source": [
    "model_dummy = DummyClassifier(strategy='most_frequent').fit(features_train, target_train)\n",
    "predictions_valid = model_dummy.predict(features_valid)\n",
    "\n",
    "print('На валидационной выборке: ', model_dummy.score(features_valid, target_valid)) \n",
    "print('На тестовой выборке: ', model_dummy.score(features_test, target_test)) "
   ]
  },
  {
   "cell_type": "markdown",
   "id": "b5a2a9d2",
   "metadata": {},
   "source": [
    "Так как наша модель предсказывает лучше, чем DummyClassifier, то она работает "
   ]
  }
 ],
 "metadata": {
  "ExecuteTimeLog": [
   {
    "duration": 1565,
    "start_time": "2022-03-18T06:04:23.734Z"
   },
   {
    "duration": 168,
    "start_time": "2022-03-18T06:04:34.209Z"
   },
   {
    "duration": 16,
    "start_time": "2022-03-18T06:47:01.991Z"
   },
   {
    "duration": 12,
    "start_time": "2022-03-18T06:47:11.853Z"
   },
   {
    "duration": 13,
    "start_time": "2022-03-18T06:47:32.851Z"
   },
   {
    "duration": 18,
    "start_time": "2022-03-18T06:47:43.730Z"
   },
   {
    "duration": 13,
    "start_time": "2022-03-18T06:47:49.147Z"
   },
   {
    "duration": 14,
    "start_time": "2022-03-18T06:48:00.164Z"
   },
   {
    "duration": 14,
    "start_time": "2022-03-18T06:48:05.388Z"
   },
   {
    "duration": 13,
    "start_time": "2022-03-18T06:48:08.670Z"
   },
   {
    "duration": 13,
    "start_time": "2022-03-18T06:48:13.312Z"
   },
   {
    "duration": 13,
    "start_time": "2022-03-18T06:48:25.010Z"
   },
   {
    "duration": 3,
    "start_time": "2022-03-18T06:48:28.385Z"
   },
   {
    "duration": 5,
    "start_time": "2022-03-18T06:54:09.771Z"
   },
   {
    "duration": 19,
    "start_time": "2022-03-18T06:54:32.029Z"
   },
   {
    "duration": 19,
    "start_time": "2022-03-18T06:54:32.330Z"
   },
   {
    "duration": 24,
    "start_time": "2022-03-18T06:54:46.002Z"
   },
   {
    "duration": 23,
    "start_time": "2022-03-18T06:57:24.745Z"
   },
   {
    "duration": 4,
    "start_time": "2022-03-18T06:57:32.543Z"
   },
   {
    "duration": 31,
    "start_time": "2022-03-18T06:57:33.080Z"
   },
   {
    "duration": 6,
    "start_time": "2022-03-18T06:58:13.135Z"
   },
   {
    "duration": 29,
    "start_time": "2022-03-18T06:58:15.174Z"
   },
   {
    "duration": 10,
    "start_time": "2022-03-18T08:11:28.334Z"
   },
   {
    "duration": 13,
    "start_time": "2022-03-18T08:12:06.451Z"
   },
   {
    "duration": 3,
    "start_time": "2022-03-18T08:13:07.307Z"
   },
   {
    "duration": 29,
    "start_time": "2022-03-18T08:13:11.407Z"
   },
   {
    "duration": 31,
    "start_time": "2022-03-18T08:13:55.892Z"
   },
   {
    "duration": 31,
    "start_time": "2022-03-18T08:17:34.316Z"
   },
   {
    "duration": 226,
    "start_time": "2022-03-18T08:24:29.040Z"
   },
   {
    "duration": 12,
    "start_time": "2022-03-18T08:24:50.477Z"
   },
   {
    "duration": 29,
    "start_time": "2022-03-18T08:25:46.977Z"
   },
   {
    "duration": 166,
    "start_time": "2022-03-18T08:26:02.896Z"
   },
   {
    "duration": 157,
    "start_time": "2022-03-18T08:26:24.663Z"
   },
   {
    "duration": 3813,
    "start_time": "2022-03-18T08:26:39.430Z"
   },
   {
    "duration": 4844,
    "start_time": "2022-03-18T08:37:37.831Z"
   },
   {
    "duration": 3743,
    "start_time": "2022-03-18T08:38:04.864Z"
   },
   {
    "duration": 765,
    "start_time": "2022-03-18T08:40:27.513Z"
   },
   {
    "duration": 3392,
    "start_time": "2022-03-18T08:40:36.501Z"
   },
   {
    "duration": 31131,
    "start_time": "2022-03-18T08:41:17.346Z"
   },
   {
    "duration": 3614,
    "start_time": "2022-03-18T08:42:01.836Z"
   },
   {
    "duration": 31584,
    "start_time": "2022-03-18T08:42:15.172Z"
   },
   {
    "duration": 26,
    "start_time": "2022-03-18T08:44:42.951Z"
   },
   {
    "duration": 30,
    "start_time": "2022-03-18T08:45:17.011Z"
   },
   {
    "duration": 27,
    "start_time": "2022-03-18T08:45:25.386Z"
   },
   {
    "duration": 30,
    "start_time": "2022-03-18T08:47:17.657Z"
   },
   {
    "duration": 29747,
    "start_time": "2022-03-18T08:48:45.685Z"
   },
   {
    "duration": 32038,
    "start_time": "2022-03-18T08:51:54.910Z"
   },
   {
    "duration": 30051,
    "start_time": "2022-03-18T08:52:42.950Z"
   },
   {
    "duration": 189,
    "start_time": "2022-03-18T08:53:46.545Z"
   },
   {
    "duration": 22,
    "start_time": "2022-03-18T08:54:48.465Z"
   },
   {
    "duration": 74,
    "start_time": "2022-03-18T09:14:53.479Z"
   },
   {
    "duration": 27,
    "start_time": "2022-03-18T09:46:35.947Z"
   },
   {
    "duration": 1578,
    "start_time": "2022-03-18T09:48:53.386Z"
   },
   {
    "duration": 176,
    "start_time": "2022-03-18T09:48:54.966Z"
   },
   {
    "duration": 0,
    "start_time": "2022-03-18T09:48:55.144Z"
   },
   {
    "duration": 362,
    "start_time": "2022-03-18T09:49:13.668Z"
   },
   {
    "duration": 23,
    "start_time": "2022-03-18T09:49:25.074Z"
   },
   {
    "duration": 3,
    "start_time": "2022-03-18T09:49:26.635Z"
   },
   {
    "duration": 8,
    "start_time": "2022-03-18T09:49:28.211Z"
   },
   {
    "duration": 31,
    "start_time": "2022-03-18T09:49:32.790Z"
   },
   {
    "duration": 116,
    "start_time": "2022-03-18T09:50:19.497Z"
   },
   {
    "duration": 30,
    "start_time": "2022-03-18T09:50:30.312Z"
   },
   {
    "duration": 29162,
    "start_time": "2022-03-18T09:50:47.629Z"
   },
   {
    "duration": 1123,
    "start_time": "2022-03-18T09:51:51.645Z"
   },
   {
    "duration": 110,
    "start_time": "2022-03-18T09:51:52.770Z"
   },
   {
    "duration": 20,
    "start_time": "2022-03-18T09:51:52.987Z"
   },
   {
    "duration": 3,
    "start_time": "2022-03-18T09:51:54.534Z"
   },
   {
    "duration": 7,
    "start_time": "2022-03-18T09:51:55.277Z"
   },
   {
    "duration": 28,
    "start_time": "2022-03-18T09:51:56.999Z"
   },
   {
    "duration": 29688,
    "start_time": "2022-03-18T09:51:57.928Z"
   },
   {
    "duration": 20,
    "start_time": "2022-03-18T09:52:27.618Z"
   },
   {
    "duration": 12,
    "start_time": "2022-03-18T09:53:30.363Z"
   },
   {
    "duration": 1115,
    "start_time": "2022-03-18T09:54:57.639Z"
   },
   {
    "duration": 102,
    "start_time": "2022-03-18T09:54:58.756Z"
   },
   {
    "duration": 21,
    "start_time": "2022-03-18T09:54:58.859Z"
   },
   {
    "duration": 3,
    "start_time": "2022-03-18T09:54:58.882Z"
   },
   {
    "duration": 7,
    "start_time": "2022-03-18T09:54:59.029Z"
   },
   {
    "duration": 91,
    "start_time": "2022-03-18T09:54:59.690Z"
   },
   {
    "duration": 18,
    "start_time": "2022-03-18T09:55:00.025Z"
   },
   {
    "duration": 23,
    "start_time": "2022-03-18T09:55:00.353Z"
   },
   {
    "duration": 8,
    "start_time": "2022-03-18T09:55:01.268Z"
   },
   {
    "duration": 29,
    "start_time": "2022-03-18T09:55:21.985Z"
   },
   {
    "duration": 29044,
    "start_time": "2022-03-18T09:55:26.793Z"
   },
   {
    "duration": 21,
    "start_time": "2022-03-18T09:55:55.839Z"
   },
   {
    "duration": 21,
    "start_time": "2022-03-18T09:56:43.383Z"
   },
   {
    "duration": 13,
    "start_time": "2022-03-18T09:56:56.076Z"
   },
   {
    "duration": 9,
    "start_time": "2022-03-18T09:58:11.928Z"
   },
   {
    "duration": 132,
    "start_time": "2022-03-18T16:09:24.541Z"
   },
   {
    "duration": 2078,
    "start_time": "2022-03-18T16:09:31.866Z"
   },
   {
    "duration": 103,
    "start_time": "2022-03-18T16:09:33.946Z"
   },
   {
    "duration": 41,
    "start_time": "2022-03-18T16:09:34.052Z"
   },
   {
    "duration": 5,
    "start_time": "2022-03-18T16:09:34.096Z"
   },
   {
    "duration": 20,
    "start_time": "2022-03-18T16:09:34.104Z"
   },
   {
    "duration": 50,
    "start_time": "2022-03-18T16:09:35.529Z"
   },
   {
    "duration": 61077,
    "start_time": "2022-03-18T16:09:36.155Z"
   },
   {
    "duration": 55,
    "start_time": "2022-03-18T16:10:37.235Z"
   },
   {
    "duration": 19,
    "start_time": "2022-03-18T16:10:37.293Z"
   },
   {
    "duration": 21,
    "start_time": "2022-03-18T16:10:37.315Z"
   },
   {
    "duration": 1533,
    "start_time": "2022-03-18T18:22:02.921Z"
   },
   {
    "duration": 82,
    "start_time": "2022-03-18T18:22:04.457Z"
   },
   {
    "duration": 33,
    "start_time": "2022-03-18T18:22:04.544Z"
   },
   {
    "duration": 5,
    "start_time": "2022-03-18T18:22:04.579Z"
   },
   {
    "duration": 11,
    "start_time": "2022-03-18T18:22:04.586Z"
   },
   {
    "duration": 65,
    "start_time": "2022-03-18T18:22:05.228Z"
   },
   {
    "duration": 72079,
    "start_time": "2022-03-18T18:22:05.592Z"
   },
   {
    "duration": 41,
    "start_time": "2022-03-18T18:23:17.677Z"
   },
   {
    "duration": 23,
    "start_time": "2022-03-18T18:23:17.720Z"
   },
   {
    "duration": 39,
    "start_time": "2022-03-18T18:23:17.747Z"
   },
   {
    "duration": 50044,
    "start_time": "2022-03-18T18:24:29.470Z"
   },
   {
    "duration": 7,
    "start_time": "2022-03-18T18:25:19.517Z"
   },
   {
    "duration": 9,
    "start_time": "2022-03-18T18:25:48.969Z"
   },
   {
    "duration": 9,
    "start_time": "2022-03-18T18:27:11.136Z"
   },
   {
    "duration": 1629,
    "start_time": "2022-03-18T18:36:26.632Z"
   },
   {
    "duration": 167,
    "start_time": "2022-03-18T18:36:28.263Z"
   },
   {
    "duration": 33,
    "start_time": "2022-03-18T18:36:28.433Z"
   },
   {
    "duration": 6,
    "start_time": "2022-03-18T18:36:28.468Z"
   },
   {
    "duration": 9,
    "start_time": "2022-03-18T18:36:28.478Z"
   },
   {
    "duration": 47,
    "start_time": "2022-03-18T18:36:28.489Z"
   },
   {
    "duration": 52182,
    "start_time": "2022-03-18T18:36:28.538Z"
   },
   {
    "duration": 61,
    "start_time": "2022-03-18T18:37:20.723Z"
   },
   {
    "duration": 23,
    "start_time": "2022-03-18T18:37:20.787Z"
   },
   {
    "duration": 11,
    "start_time": "2022-03-18T18:37:20.812Z"
   },
   {
    "duration": 8,
    "start_time": "2022-03-18T18:37:20.825Z"
   },
   {
    "duration": 50,
    "start_time": "2022-03-19T19:34:44.713Z"
   },
   {
    "duration": 1518,
    "start_time": "2022-03-19T19:34:52.384Z"
   },
   {
    "duration": 194,
    "start_time": "2022-03-19T19:34:53.983Z"
   },
   {
    "duration": 24,
    "start_time": "2022-03-19T19:34:54.961Z"
   },
   {
    "duration": 5,
    "start_time": "2022-03-19T19:34:58.968Z"
   },
   {
    "duration": 4,
    "start_time": "2022-03-19T19:37:41.515Z"
   },
   {
    "duration": 71,
    "start_time": "2022-03-19T19:37:42.641Z"
   },
   {
    "duration": 25,
    "start_time": "2022-03-19T19:37:43.569Z"
   },
   {
    "duration": 5,
    "start_time": "2022-03-19T19:37:45.927Z"
   },
   {
    "duration": 15,
    "start_time": "2022-03-19T19:46:20.923Z"
   },
   {
    "duration": 7,
    "start_time": "2022-03-19T19:49:33.841Z"
   },
   {
    "duration": 542,
    "start_time": "2022-03-19T19:58:23.052Z"
   },
   {
    "duration": 1269,
    "start_time": "2022-03-19T19:59:30.685Z"
   },
   {
    "duration": 1199,
    "start_time": "2022-03-19T20:03:04.013Z"
   },
   {
    "duration": 1698,
    "start_time": "2022-03-19T20:03:26.758Z"
   },
   {
    "duration": 1269,
    "start_time": "2022-03-19T20:03:41.389Z"
   },
   {
    "duration": 1321,
    "start_time": "2022-03-19T20:03:46.328Z"
   },
   {
    "duration": 1315,
    "start_time": "2022-03-19T20:03:50.150Z"
   },
   {
    "duration": 1505,
    "start_time": "2022-03-19T20:03:55.774Z"
   },
   {
    "duration": 1316,
    "start_time": "2022-03-19T20:04:03.856Z"
   },
   {
    "duration": 1447,
    "start_time": "2022-03-19T20:04:12.230Z"
   },
   {
    "duration": 76,
    "start_time": "2022-03-19T20:05:21.503Z"
   },
   {
    "duration": 313,
    "start_time": "2022-03-19T20:05:51.980Z"
   },
   {
    "duration": 316,
    "start_time": "2022-03-19T20:05:58.663Z"
   },
   {
    "duration": 4,
    "start_time": "2022-03-19T20:06:24.652Z"
   },
   {
    "duration": 1291,
    "start_time": "2022-03-19T20:06:29.445Z"
   },
   {
    "duration": 1404,
    "start_time": "2022-03-19T20:07:19.498Z"
   },
   {
    "duration": 1340,
    "start_time": "2022-03-19T20:08:32.178Z"
   },
   {
    "duration": 1337,
    "start_time": "2022-03-19T20:09:00.277Z"
   },
   {
    "duration": 1748,
    "start_time": "2022-03-19T20:09:53.095Z"
   },
   {
    "duration": 1434,
    "start_time": "2022-03-19T20:10:00.515Z"
   },
   {
    "duration": 1338,
    "start_time": "2022-03-19T20:10:16.107Z"
   },
   {
    "duration": 524,
    "start_time": "2022-03-19T20:13:56.221Z"
   },
   {
    "duration": 669,
    "start_time": "2022-03-19T20:14:34.707Z"
   },
   {
    "duration": 133,
    "start_time": "2022-03-19T20:15:58.116Z"
   },
   {
    "duration": 6,
    "start_time": "2022-03-19T20:22:07.894Z"
   },
   {
    "duration": 344,
    "start_time": "2022-03-19T20:22:16.647Z"
   },
   {
    "duration": 361,
    "start_time": "2022-03-19T20:22:37.666Z"
   },
   {
    "duration": 369,
    "start_time": "2022-03-19T20:22:49.157Z"
   },
   {
    "duration": 364,
    "start_time": "2022-03-19T20:24:41.256Z"
   },
   {
    "duration": 398,
    "start_time": "2022-03-19T20:25:53.625Z"
   },
   {
    "duration": 6,
    "start_time": "2022-03-19T20:26:30.002Z"
   },
   {
    "duration": 353,
    "start_time": "2022-03-19T20:26:36.392Z"
   },
   {
    "duration": 676,
    "start_time": "2022-03-19T20:27:43.744Z"
   },
   {
    "duration": 2697,
    "start_time": "2022-03-19T20:27:52.527Z"
   },
   {
    "duration": 296,
    "start_time": "2022-03-19T20:28:02.978Z"
   },
   {
    "duration": 416,
    "start_time": "2022-03-19T20:28:18.652Z"
   },
   {
    "duration": 2857,
    "start_time": "2022-03-19T20:28:32.780Z"
   },
   {
    "duration": 1527,
    "start_time": "2022-03-19T20:28:53.005Z"
   },
   {
    "duration": 1717,
    "start_time": "2022-03-19T20:29:59.317Z"
   },
   {
    "duration": 1651,
    "start_time": "2022-03-19T20:30:10.773Z"
   },
   {
    "duration": 1707,
    "start_time": "2022-03-19T20:30:22.620Z"
   },
   {
    "duration": 618,
    "start_time": "2022-03-19T20:30:27.215Z"
   },
   {
    "duration": 659,
    "start_time": "2022-03-19T20:30:40.840Z"
   },
   {
    "duration": 655,
    "start_time": "2022-03-19T20:30:46.143Z"
   },
   {
    "duration": 651,
    "start_time": "2022-03-19T20:30:51.502Z"
   },
   {
    "duration": 631,
    "start_time": "2022-03-19T20:30:56.353Z"
   },
   {
    "duration": 647,
    "start_time": "2022-03-19T20:31:05.585Z"
   },
   {
    "duration": 1052,
    "start_time": "2022-03-19T20:31:12.486Z"
   },
   {
    "duration": 971,
    "start_time": "2022-03-19T20:31:26.280Z"
   },
   {
    "duration": 683,
    "start_time": "2022-03-19T20:31:30.592Z"
   },
   {
    "duration": 176,
    "start_time": "2022-03-19T20:31:38.387Z"
   },
   {
    "duration": 622,
    "start_time": "2022-03-19T20:31:58.154Z"
   },
   {
    "duration": 658,
    "start_time": "2022-03-19T20:37:19.874Z"
   },
   {
    "duration": 673,
    "start_time": "2022-03-19T20:38:03.738Z"
   },
   {
    "duration": 728,
    "start_time": "2022-03-19T20:39:42.370Z"
   },
   {
    "duration": 662,
    "start_time": "2022-03-19T20:39:54.855Z"
   },
   {
    "duration": 695,
    "start_time": "2022-03-19T20:40:34.587Z"
   },
   {
    "duration": 1082,
    "start_time": "2022-03-19T20:40:44.101Z"
   },
   {
    "duration": 675,
    "start_time": "2022-03-19T20:53:15.555Z"
   },
   {
    "duration": 669,
    "start_time": "2022-03-19T20:53:33.822Z"
   },
   {
    "duration": 1033,
    "start_time": "2022-03-19T20:53:45.368Z"
   },
   {
    "duration": 661,
    "start_time": "2022-03-19T20:54:03.707Z"
   },
   {
    "duration": 117,
    "start_time": "2022-03-19T20:54:08.685Z"
   },
   {
    "duration": 666,
    "start_time": "2022-03-19T20:54:12.277Z"
   },
   {
    "duration": 652,
    "start_time": "2022-03-19T20:54:34.070Z"
   },
   {
    "duration": 733,
    "start_time": "2022-03-19T20:54:41.401Z"
   },
   {
    "duration": 648,
    "start_time": "2022-03-19T20:55:27.659Z"
   },
   {
    "duration": 669,
    "start_time": "2022-03-19T20:55:52.455Z"
   },
   {
    "duration": 1329,
    "start_time": "2022-03-19T20:56:03.814Z"
   },
   {
    "duration": 666,
    "start_time": "2022-03-19T20:56:33.337Z"
   },
   {
    "duration": 1029,
    "start_time": "2022-03-19T20:57:37.946Z"
   },
   {
    "duration": 998,
    "start_time": "2022-03-19T20:57:51.455Z"
   },
   {
    "duration": 658,
    "start_time": "2022-03-19T20:58:31.805Z"
   },
   {
    "duration": 2155,
    "start_time": "2022-03-19T20:59:01.880Z"
   },
   {
    "duration": 122,
    "start_time": "2022-03-19T20:59:04.038Z"
   },
   {
    "duration": 27,
    "start_time": "2022-03-19T20:59:04.162Z"
   },
   {
    "duration": 4,
    "start_time": "2022-03-19T20:59:08.429Z"
   },
   {
    "duration": 16,
    "start_time": "2022-03-19T20:59:12.232Z"
   },
   {
    "duration": 7,
    "start_time": "2022-03-19T20:59:14.038Z"
   },
   {
    "duration": 284,
    "start_time": "2022-03-19T20:59:18.359Z"
   },
   {
    "duration": 1798,
    "start_time": "2022-03-19T20:59:35.141Z"
   },
   {
    "duration": 97,
    "start_time": "2022-03-19T20:59:36.942Z"
   },
   {
    "duration": 24,
    "start_time": "2022-03-19T20:59:37.042Z"
   },
   {
    "duration": 6,
    "start_time": "2022-03-19T20:59:37.068Z"
   },
   {
    "duration": 25,
    "start_time": "2022-03-19T20:59:37.647Z"
   },
   {
    "duration": 7,
    "start_time": "2022-03-19T20:59:38.837Z"
   },
   {
    "duration": 819,
    "start_time": "2022-03-19T20:59:39.840Z"
   },
   {
    "duration": 7,
    "start_time": "2022-03-19T21:01:57.706Z"
   },
   {
    "duration": 1652,
    "start_time": "2022-03-19T21:05:05.694Z"
   },
   {
    "duration": 99,
    "start_time": "2022-03-19T21:05:07.348Z"
   },
   {
    "duration": 26,
    "start_time": "2022-03-19T21:05:07.449Z"
   },
   {
    "duration": 6,
    "start_time": "2022-03-19T21:05:07.477Z"
   },
   {
    "duration": 28,
    "start_time": "2022-03-19T21:05:07.485Z"
   },
   {
    "duration": 7,
    "start_time": "2022-03-19T21:05:07.515Z"
   },
   {
    "duration": 686,
    "start_time": "2022-03-19T21:05:07.524Z"
   },
   {
    "duration": 4,
    "start_time": "2022-03-19T21:05:08.212Z"
   },
   {
    "duration": 10,
    "start_time": "2022-03-19T21:05:08.218Z"
   },
   {
    "duration": 40,
    "start_time": "2022-03-19T21:05:08.230Z"
   },
   {
    "duration": 35644,
    "start_time": "2022-03-19T21:05:08.300Z"
   },
   {
    "duration": 32,
    "start_time": "2022-03-19T21:05:43.946Z"
   },
   {
    "duration": 30,
    "start_time": "2022-03-19T21:05:43.980Z"
   },
   {
    "duration": 9,
    "start_time": "2022-03-19T21:05:44.013Z"
   },
   {
    "duration": 6,
    "start_time": "2022-03-19T21:05:44.024Z"
   }
  ],
  "kernelspec": {
   "display_name": "Python 3 (ipykernel)",
   "language": "python",
   "name": "python3"
  },
  "language_info": {
   "codemirror_mode": {
    "name": "ipython",
    "version": 3
   },
   "file_extension": ".py",
   "mimetype": "text/x-python",
   "name": "python",
   "nbconvert_exporter": "python",
   "pygments_lexer": "ipython3",
   "version": "3.9.12"
  },
  "toc": {
   "base_numbering": 1,
   "nav_menu": {},
   "number_sections": true,
   "sideBar": true,
   "skip_h1_title": true,
   "title_cell": "Table of Contents",
   "title_sidebar": "Contents",
   "toc_cell": false,
   "toc_position": {
    "height": "calc(100% - 180px)",
    "left": "10px",
    "top": "150px",
    "width": "165px"
   },
   "toc_section_display": true,
   "toc_window_display": true
  }
 },
 "nbformat": 4,
 "nbformat_minor": 5
}
