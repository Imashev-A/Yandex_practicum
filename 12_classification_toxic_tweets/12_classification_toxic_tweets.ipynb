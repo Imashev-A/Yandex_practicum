{
 "cells": [
  {
   "cell_type": "markdown",
   "id": "cae2b2aa",
   "metadata": {
    "toc": true
   },
   "source": [
    "<h1>Содержание<span class=\"tocSkip\"></span></h1>\n",
    "<div class=\"toc\"><ul class=\"toc-item\"><li><span><a href=\"#Подготовка\" data-toc-modified-id=\"Подготовка-1\"><span class=\"toc-item-num\">1&nbsp;&nbsp;</span>Подготовка</a></span><ul class=\"toc-item\"><li><span><a href=\"#Загрузим-и-изучим-данные\" data-toc-modified-id=\"Загрузим-и-изучим-данные-1.1\"><span class=\"toc-item-num\">1.1&nbsp;&nbsp;</span>Загрузим и изучим данные</a></span></li><li><span><a href=\"#Явные-дубликаты\" data-toc-modified-id=\"Явные-дубликаты-1.2\"><span class=\"toc-item-num\">1.2&nbsp;&nbsp;</span>Явные дубликаты</a></span></li><li><span><a href=\"#Лемматизация\" data-toc-modified-id=\"Лемматизация-1.3\"><span class=\"toc-item-num\">1.3&nbsp;&nbsp;</span>Лемматизация</a></span></li><li><span><a href=\"#Разобьем-данные-на-выборки\" data-toc-modified-id=\"Разобьем-данные-на-выборки-1.4\"><span class=\"toc-item-num\">1.4&nbsp;&nbsp;</span>Разобьем данные на выборки</a></span></li><li><span><a href=\"#Вывод\" data-toc-modified-id=\"Вывод-1.5\"><span class=\"toc-item-num\">1.5&nbsp;&nbsp;</span>Вывод</a></span></li></ul></li><li><span><a href=\"#Обучение\" data-toc-modified-id=\"Обучение-2\"><span class=\"toc-item-num\">2&nbsp;&nbsp;</span>Обучение</a></span><ul class=\"toc-item\"><li><span><a href=\"#TfidfVectorizer\" data-toc-modified-id=\"TfidfVectorizer-2.1\"><span class=\"toc-item-num\">2.1&nbsp;&nbsp;</span>TfidfVectorizer</a></span><ul class=\"toc-item\"><li><span><a href=\"#Логистическая-регрессия\" data-toc-modified-id=\"Логистическая-регрессия-2.1.1\"><span class=\"toc-item-num\">2.1.1&nbsp;&nbsp;</span>Логистическая регрессия</a></span></li><li><span><a href=\"#Дерево-решений\" data-toc-modified-id=\"Дерево-решений-2.1.2\"><span class=\"toc-item-num\">2.1.2&nbsp;&nbsp;</span>Дерево решений</a></span></li></ul></li><li><span><a href=\"#CountVectorizer\" data-toc-modified-id=\"CountVectorizer-2.2\"><span class=\"toc-item-num\">2.2&nbsp;&nbsp;</span>CountVectorizer</a></span><ul class=\"toc-item\"><li><span><a href=\"#Логистическая-регрессия\" data-toc-modified-id=\"Логистическая-регрессия-2.2.1\"><span class=\"toc-item-num\">2.2.1&nbsp;&nbsp;</span>Логистическая регрессия</a></span></li><li><span><a href=\"#Дерево-решений\" data-toc-modified-id=\"Дерево-решений-2.2.2\"><span class=\"toc-item-num\">2.2.2&nbsp;&nbsp;</span>Дерево решений</a></span></li></ul></li></ul></li><li><span><a href=\"#Выводы\" data-toc-modified-id=\"Выводы-3\"><span class=\"toc-item-num\">3&nbsp;&nbsp;</span>Выводы</a></span></li></ul></div>"
   ]
  },
  {
   "cell_type": "markdown",
   "id": "71c7a958",
   "metadata": {
    "id": "71c7a958"
   },
   "source": [
    "# Проект для «Викишоп»\n",
    "\n",
    "Интернет-магазин «Викишоп» запускает новый сервис. Теперь пользователи могут редактировать и дополнять описания товаров, как в вики-сообществах. То есть клиенты предлагают свои правки и комментируют изменения других. Магазину нужен инструмент, который будет искать токсичные комментарии и отправлять их на модерацию. \n",
    "\n",
    "Обучите модель классифицировать комментарии на позитивные и негативные. В вашем распоряжении набор данных с разметкой о токсичности правок.\n",
    "\n",
    "Постройте модель со значением метрики качества *F1* не меньше 0.75. \n",
    "\n",
    "**Описание данных**\n",
    "\n",
    "Данные находятся в файле `toxic_comments.csv`. Столбец *text* в нём содержит текст комментария, а *toxic* — целевой признак."
   ]
  },
  {
   "cell_type": "markdown",
   "id": "a1562a31",
   "metadata": {
    "id": "a1562a31"
   },
   "source": [
    "## Подготовка"
   ]
  },
  {
   "cell_type": "code",
   "execution_count": 1,
   "id": "847158a5",
   "metadata": {
    "colab": {
     "base_uri": "https://localhost:8080/"
    },
    "id": "847158a5",
    "outputId": "bf6a0f1b-a2e7-4325-cb6f-56fb44aba968"
   },
   "outputs": [
    {
     "name": "stderr",
     "output_type": "stream",
     "text": [
      "[nltk_data] Downloading package wordnet to /home/jovyan/nltk_data...\n",
      "[nltk_data]   Package wordnet is already up-to-date!\n"
     ]
    },
    {
     "data": {
      "text/plain": [
       "True"
      ]
     },
     "execution_count": 1,
     "metadata": {},
     "output_type": "execute_result"
    }
   ],
   "source": [
    "import nltk\n",
    "import numpy as np\n",
    "import pandas as pd\n",
    "import re \n",
    "\n",
    "from nltk.corpus import stopwords as nltk_stopwords\n",
    "from nltk.corpus import wordnet\n",
    "from nltk.stem import WordNetLemmatizer\n",
    "\n",
    "\n",
    "from sklearn.feature_extraction.text import CountVectorizer, TfidfVectorizer\n",
    "from sklearn.linear_model import LogisticRegression\n",
    "from sklearn.metrics import f1_score\n",
    "from sklearn.model_selection import GridSearchCV, train_test_split\n",
    "from sklearn.pipeline import Pipeline\n",
    "from sklearn.tree import DecisionTreeClassifier\n",
    "\n",
    "nltk.download('wordnet')"
   ]
  },
  {
   "cell_type": "markdown",
   "id": "98c665ed",
   "metadata": {
    "id": "98c665ed"
   },
   "source": [
    "### Загрузим и изучим данные"
   ]
  },
  {
   "cell_type": "markdown",
   "id": "628abc69",
   "metadata": {
    "id": "628abc69"
   },
   "source": [
    "Загрузим данные"
   ]
  },
  {
   "cell_type": "code",
   "execution_count": 2,
   "id": "be7476b9",
   "metadata": {
    "id": "be7476b9"
   },
   "outputs": [],
   "source": [
    "comments = pd.read_csv('https://code.s3.yandex.net/datasets/toxic_comments.csv')"
   ]
  },
  {
   "cell_type": "code",
   "execution_count": 3,
   "id": "6df36163",
   "metadata": {
    "colab": {
     "base_uri": "https://localhost:8080/",
     "height": 362
    },
    "id": "6df36163",
    "outputId": "2b17ec2d-79d5-4a55-dd63-afdb57709abf"
   },
   "outputs": [
    {
     "name": "stdout",
     "output_type": "stream",
     "text": [
      "<class 'pandas.core.frame.DataFrame'>\n",
      "RangeIndex: 159571 entries, 0 to 159570\n",
      "Data columns (total 2 columns):\n",
      " #   Column  Non-Null Count   Dtype \n",
      "---  ------  --------------   ----- \n",
      " 0   text    159571 non-null  object\n",
      " 1   toxic   159571 non-null  int64 \n",
      "dtypes: int64(1), object(1)\n",
      "memory usage: 2.4+ MB\n"
     ]
    },
    {
     "data": {
      "text/html": [
       "<div>\n",
       "<style scoped>\n",
       "    .dataframe tbody tr th:only-of-type {\n",
       "        vertical-align: middle;\n",
       "    }\n",
       "\n",
       "    .dataframe tbody tr th {\n",
       "        vertical-align: top;\n",
       "    }\n",
       "\n",
       "    .dataframe thead th {\n",
       "        text-align: right;\n",
       "    }\n",
       "</style>\n",
       "<table border=\"1\" class=\"dataframe\">\n",
       "  <thead>\n",
       "    <tr style=\"text-align: right;\">\n",
       "      <th></th>\n",
       "      <th>text</th>\n",
       "      <th>toxic</th>\n",
       "    </tr>\n",
       "  </thead>\n",
       "  <tbody>\n",
       "    <tr>\n",
       "      <th>0</th>\n",
       "      <td>Explanation\\nWhy the edits made under my usern...</td>\n",
       "      <td>0</td>\n",
       "    </tr>\n",
       "    <tr>\n",
       "      <th>1</th>\n",
       "      <td>D'aww! He matches this background colour I'm s...</td>\n",
       "      <td>0</td>\n",
       "    </tr>\n",
       "    <tr>\n",
       "      <th>2</th>\n",
       "      <td>Hey man, I'm really not trying to edit war. It...</td>\n",
       "      <td>0</td>\n",
       "    </tr>\n",
       "    <tr>\n",
       "      <th>3</th>\n",
       "      <td>\"\\nMore\\nI can't make any real suggestions on ...</td>\n",
       "      <td>0</td>\n",
       "    </tr>\n",
       "    <tr>\n",
       "      <th>4</th>\n",
       "      <td>You, sir, are my hero. Any chance you remember...</td>\n",
       "      <td>0</td>\n",
       "    </tr>\n",
       "  </tbody>\n",
       "</table>\n",
       "</div>"
      ],
      "text/plain": [
       "                                                text  toxic\n",
       "0  Explanation\\nWhy the edits made under my usern...      0\n",
       "1  D'aww! He matches this background colour I'm s...      0\n",
       "2  Hey man, I'm really not trying to edit war. It...      0\n",
       "3  \"\\nMore\\nI can't make any real suggestions on ...      0\n",
       "4  You, sir, are my hero. Any chance you remember...      0"
      ]
     },
     "execution_count": 3,
     "metadata": {},
     "output_type": "execute_result"
    }
   ],
   "source": [
    "comments.info()\n",
    "comments.head()"
   ]
  },
  {
   "cell_type": "markdown",
   "id": "800f7580",
   "metadata": {
    "id": "800f7580"
   },
   "source": [
    "### Явные дубликаты"
   ]
  },
  {
   "cell_type": "markdown",
   "id": "c6d2b3f2",
   "metadata": {
    "id": "c6d2b3f2"
   },
   "source": [
    "Посмотрим имеются ли явные дубликаты "
   ]
  },
  {
   "cell_type": "code",
   "execution_count": 4,
   "id": "c37d4770",
   "metadata": {
    "colab": {
     "base_uri": "https://localhost:8080/"
    },
    "id": "c37d4770",
    "outputId": "6a5c37db-90ed-4b64-fd5c-62a15cf249ae"
   },
   "outputs": [
    {
     "data": {
      "text/plain": [
       "0"
      ]
     },
     "execution_count": 4,
     "metadata": {},
     "output_type": "execute_result"
    }
   ],
   "source": [
    "comments.duplicated().sum()"
   ]
  },
  {
   "cell_type": "markdown",
   "id": "BvtT8e28spf7",
   "metadata": {
    "id": "BvtT8e28spf7"
   },
   "source": [
    "### Лемматизация"
   ]
  },
  {
   "cell_type": "markdown",
   "id": "YWET4FdSsyGe",
   "metadata": {
    "id": "YWET4FdSsyGe"
   },
   "source": [
    "Выделим леммы в столбце \"text\", оставив в тексте только английские символы и пробелы"
   ]
  },
  {
   "cell_type": "code",
   "execution_count": 5,
   "id": "7e135d0d",
   "metadata": {},
   "outputs": [],
   "source": [
    "def get_wordnet_pos(word):\n",
    "    tag = nltk.pos_tag([word])[0][1][0].upper()\n",
    "    tag_dict = {\"J\": wordnet.ADJ,\n",
    "                \"N\": wordnet.NOUN,\n",
    "                \"V\": wordnet.VERB,\n",
    "                \"R\": wordnet.ADV}\n",
    "    return tag_dict.get(tag, wordnet.NOUN)"
   ]
  },
  {
   "cell_type": "code",
   "execution_count": 6,
   "id": "l53UjbeO09jj",
   "metadata": {
    "id": "l53UjbeO09jj"
   },
   "outputs": [],
   "source": [
    "def lemmatize(text):\n",
    "    lemmatizer = WordNetLemmatizer()\n",
    "    text = re.sub(r\"[^a-zA-Z']\", ' ', text).split()\n",
    "    text = \" \".join(text)\n",
    "    text = text.lower()\n",
    "    lemm_list = nltk.word_tokenize(text)\n",
    "    lemm_text = ' '.join([lemmatizer.lemmatize(w, get_wordnet_pos(w)) for w in lemm_list])\n",
    "\n",
    "    return lemm_text"
   ]
  },
  {
   "cell_type": "code",
   "execution_count": 7,
   "id": "9baa9472",
   "metadata": {
    "scrolled": true
   },
   "outputs": [
    {
     "name": "stderr",
     "output_type": "stream",
     "text": [
      "[nltk_data] Downloading package averaged_perceptron_tagger to\n",
      "[nltk_data]     /home/jovyan/nltk_data...\n",
      "[nltk_data]   Unzipping taggers/averaged_perceptron_tagger.zip.\n"
     ]
    },
    {
     "data": {
      "text/plain": [
       "True"
      ]
     },
     "execution_count": 7,
     "metadata": {},
     "output_type": "execute_result"
    }
   ],
   "source": [
    "nltk.download('averaged_perceptron_tagger')"
   ]
  },
  {
   "cell_type": "code",
   "execution_count": 8,
   "id": "NSKVpLq44-e2",
   "metadata": {
    "colab": {
     "base_uri": "https://localhost:8080/"
    },
    "id": "NSKVpLq44-e2",
    "outputId": "d6261ea5-b746-4bc1-c790-3a195382d852"
   },
   "outputs": [
    {
     "name": "stdout",
     "output_type": "stream",
     "text": [
      "CPU times: user 16min 49s, sys: 1min 38s, total: 18min 28s\n",
      "Wall time: 18min 29s\n"
     ]
    }
   ],
   "source": [
    "%%time\n",
    "\n",
    "comments['lemma'] = comments['text'].apply(lemmatize)"
   ]
  },
  {
   "cell_type": "code",
   "execution_count": 9,
   "id": "usc3eGJhI6e3",
   "metadata": {
    "colab": {
     "base_uri": "https://localhost:8080/",
     "height": 424
    },
    "id": "usc3eGJhI6e3",
    "outputId": "6d23ccd6-feb1-40b6-e91e-a7794c556c65",
    "scrolled": true
   },
   "outputs": [
    {
     "data": {
      "text/html": [
       "<div>\n",
       "<style scoped>\n",
       "    .dataframe tbody tr th:only-of-type {\n",
       "        vertical-align: middle;\n",
       "    }\n",
       "\n",
       "    .dataframe tbody tr th {\n",
       "        vertical-align: top;\n",
       "    }\n",
       "\n",
       "    .dataframe thead th {\n",
       "        text-align: right;\n",
       "    }\n",
       "</style>\n",
       "<table border=\"1\" class=\"dataframe\">\n",
       "  <thead>\n",
       "    <tr style=\"text-align: right;\">\n",
       "      <th></th>\n",
       "      <th>text</th>\n",
       "      <th>toxic</th>\n",
       "      <th>lemma</th>\n",
       "    </tr>\n",
       "  </thead>\n",
       "  <tbody>\n",
       "    <tr>\n",
       "      <th>0</th>\n",
       "      <td>Explanation\\nWhy the edits made under my usern...</td>\n",
       "      <td>0</td>\n",
       "      <td>explanation why the edits make under my userna...</td>\n",
       "    </tr>\n",
       "    <tr>\n",
       "      <th>1</th>\n",
       "      <td>D'aww! He matches this background colour I'm s...</td>\n",
       "      <td>0</td>\n",
       "      <td>d'aww he match this background colour i 'm see...</td>\n",
       "    </tr>\n",
       "    <tr>\n",
       "      <th>2</th>\n",
       "      <td>Hey man, I'm really not trying to edit war. It...</td>\n",
       "      <td>0</td>\n",
       "      <td>hey man i 'm really not try to edit war it 's ...</td>\n",
       "    </tr>\n",
       "    <tr>\n",
       "      <th>3</th>\n",
       "      <td>\"\\nMore\\nI can't make any real suggestions on ...</td>\n",
       "      <td>0</td>\n",
       "      <td>more i ca n't make any real suggestion on impr...</td>\n",
       "    </tr>\n",
       "    <tr>\n",
       "      <th>4</th>\n",
       "      <td>You, sir, are my hero. Any chance you remember...</td>\n",
       "      <td>0</td>\n",
       "      <td>you sir be my hero any chance you remember wha...</td>\n",
       "    </tr>\n",
       "  </tbody>\n",
       "</table>\n",
       "</div>"
      ],
      "text/plain": [
       "                                                text  toxic  \\\n",
       "0  Explanation\\nWhy the edits made under my usern...      0   \n",
       "1  D'aww! He matches this background colour I'm s...      0   \n",
       "2  Hey man, I'm really not trying to edit war. It...      0   \n",
       "3  \"\\nMore\\nI can't make any real suggestions on ...      0   \n",
       "4  You, sir, are my hero. Any chance you remember...      0   \n",
       "\n",
       "                                               lemma  \n",
       "0  explanation why the edits make under my userna...  \n",
       "1  d'aww he match this background colour i 'm see...  \n",
       "2  hey man i 'm really not try to edit war it 's ...  \n",
       "3  more i ca n't make any real suggestion on impr...  \n",
       "4  you sir be my hero any chance you remember wha...  "
      ]
     },
     "execution_count": 9,
     "metadata": {},
     "output_type": "execute_result"
    }
   ],
   "source": [
    "comments.head()"
   ]
  },
  {
   "cell_type": "markdown",
   "id": "bOiCSSl_7Xv4",
   "metadata": {
    "id": "bOiCSSl_7Xv4"
   },
   "source": [
    "### Разобьем данные на выборки"
   ]
  },
  {
   "cell_type": "markdown",
   "id": "M_BEIlyw5xW1",
   "metadata": {
    "id": "M_BEIlyw5xW1"
   },
   "source": [
    "Разделим исходные данные на обучающую и тестовую выборки."
   ]
  },
  {
   "cell_type": "code",
   "execution_count": 10,
   "id": "d9566306",
   "metadata": {
    "colab": {
     "base_uri": "https://localhost:8080/"
    },
    "id": "4Fzg6pv452PJ",
    "outputId": "3e4176a0-e8b2-4c66-d95c-b867b0979d0b"
   },
   "outputs": [
    {
     "name": "stdout",
     "output_type": "stream",
     "text": [
      "Размер обучающей выборки: (119678,) (119678,)\n",
      "Размер тестовой выборки: (39893,) (39893,)\n"
     ]
    }
   ],
   "source": [
    "features_train, features_test, target_train, target_test = train_test_split(comments['lemma'], comments['toxic'], test_size=0.25, random_state=12345)\n",
    "\n",
    "print('Размер обучающей выборки:', features_train.shape, target_train.shape)\n",
    "print('Размер тестовой выборки:', features_test.shape, target_test.shape)"
   ]
  },
  {
   "cell_type": "markdown",
   "id": "3392f5f4",
   "metadata": {},
   "source": [
    "<font color='blue'><b>Комментарий ревьюера: </b></font> ✔️\\\n",
    "<font color='green'> Здорово , что у нас есть выборка для тестов!</font>"
   ]
  },
  {
   "cell_type": "markdown",
   "id": "WgExMZ26ugEz",
   "metadata": {
    "id": "WgExMZ26ugEz"
   },
   "source": [
    "### Вывод"
   ]
  },
  {
   "cell_type": "markdown",
   "id": "bKkPvB4nuiwS",
   "metadata": {
    "id": "bKkPvB4nuiwS"
   },
   "source": [
    "Загрузили данные. Провели лемматизацию данных и разбили на выборки, для дальнейшего анализа"
   ]
  },
  {
   "cell_type": "markdown",
   "id": "8a510e31",
   "metadata": {
    "id": "8a510e31"
   },
   "source": [
    "## Обучение"
   ]
  },
  {
   "cell_type": "code",
   "execution_count": 11,
   "id": "Rs1fs2JaQBfm",
   "metadata": {
    "id": "Rs1fs2JaQBfm"
   },
   "outputs": [],
   "source": [
    "comments_f1 = pd.DataFrame({'Class': [], 'Model': [], 'F1': []}) "
   ]
  },
  {
   "cell_type": "markdown",
   "id": "3bZxSKGzCo5t",
   "metadata": {
    "id": "3bZxSKGzCo5t"
   },
   "source": [
    "Загрузим список стоп-слов:"
   ]
  },
  {
   "cell_type": "code",
   "execution_count": 12,
   "id": "yEuBhuPwfMXd",
   "metadata": {
    "colab": {
     "base_uri": "https://localhost:8080/"
    },
    "id": "yEuBhuPwfMXd",
    "outputId": "e465a51b-5cd2-4d42-a023-63185260ab39"
   },
   "outputs": [
    {
     "name": "stderr",
     "output_type": "stream",
     "text": [
      "[nltk_data] Downloading package stopwords to /home/jovyan/nltk_data...\n",
      "[nltk_data]   Package stopwords is already up-to-date!\n"
     ]
    }
   ],
   "source": [
    "nltk.download('stopwords')\n",
    "stopwords = set(nltk_stopwords.words('english'))"
   ]
  },
  {
   "cell_type": "markdown",
   "id": "qsSTs8LX36pO",
   "metadata": {
    "id": "qsSTs8LX36pO"
   },
   "source": [
    "### TfidfVectorizer"
   ]
  },
  {
   "cell_type": "code",
   "execution_count": 13,
   "id": "QoP6gakMeyIV",
   "metadata": {
    "colab": {
     "base_uri": "https://localhost:8080/"
    },
    "id": "QoP6gakMeyIV",
    "outputId": "daa16162-fa12-457d-ae81-e700ab3b2bf3"
   },
   "outputs": [
    {
     "name": "stdout",
     "output_type": "stream",
     "text": [
      "Размер матрицы: (119678, 128561)\n"
     ]
    }
   ],
   "source": [
    "tf_idf = TfidfVectorizer(stop_words=stopwords)\n",
    "\n",
    "tf_idf_train = tf_idf.fit_transform(features_train)\n",
    "tf_idf_test = tf_idf.transform(features_test)\n",
    "\n",
    "print('Размер матрицы:', tf_idf_train.shape)"
   ]
  },
  {
   "cell_type": "markdown",
   "id": "xtpwUfUNervc",
   "metadata": {
    "id": "xtpwUfUNervc"
   },
   "source": [
    "#### Логистическая регрессия"
   ]
  },
  {
   "cell_type": "code",
   "execution_count": 14,
   "id": "Szuotnn0QgCH",
   "metadata": {
    "colab": {
     "base_uri": "https://localhost:8080/"
    },
    "id": "Szuotnn0QgCH",
    "outputId": "0b14b75a-47a2-46ac-ed1c-550cacdfcbec"
   },
   "outputs": [
    {
     "name": "stdout",
     "output_type": "stream",
     "text": [
      "Лучшая модель: {'class_weight': 'balanced', 'max_iter': 100, 'random_state': 12345, 'solver': 'liblinear'}\n",
      "CPU times: user 1min 55s, sys: 1min 55s, total: 3min 50s\n",
      "Wall time: 3min 52s\n"
     ]
    }
   ],
   "source": [
    "%%time\n",
    "\n",
    "regressor = LogisticRegression()\n",
    "hyperparams = [{'max_iter':(100, 1000), 'class_weight':['balanced', None], 'solver':['liblinear'], 'random_state':[12345]}]\n",
    "\n",
    "cv = GridSearchCV(regressor, hyperparams, cv=5, scoring='f1')\n",
    "cv.fit(tf_idf_train, target_train)\n",
    "\n",
    "print('Лучшая модель:', cv.best_params_)"
   ]
  },
  {
   "cell_type": "code",
   "execution_count": 15,
   "id": "hAY3GEjIU2I6",
   "metadata": {
    "colab": {
     "base_uri": "https://localhost:8080/"
    },
    "id": "hAY3GEjIU2I6",
    "outputId": "030542e0-3849-489d-e661-0a00a81e04d5"
   },
   "outputs": [
    {
     "data": {
      "text/plain": [
       "Class       TfidfVectorizer\n",
       "Model    LogisticRegression\n",
       "F1                  0.74976\n",
       "Name: 0, dtype: object"
      ]
     },
     "execution_count": 15,
     "metadata": {},
     "output_type": "execute_result"
    }
   ],
   "source": [
    "model = LogisticRegression(class_weight='balanced', max_iter=100, random_state=12345, solver='liblinear')\n",
    "model.fit(tf_idf_train, target_train)\n",
    "predicted = model.predict(tf_idf_test)\n",
    "f1 = f1_score(target_test, predicted)\n",
    "\n",
    "comments_f1 = comments_f1.append({'Class':'TfidfVectorizer', 'Model':'LogisticRegression', 'F1':f1}, ignore_index=True)\n",
    "comments_f1.iloc[-1]"
   ]
  },
  {
   "cell_type": "markdown",
   "id": "80x3fOkkb2KH",
   "metadata": {
    "id": "80x3fOkkb2KH"
   },
   "source": [
    "#### Дерево решений"
   ]
  },
  {
   "cell_type": "code",
   "execution_count": 16,
   "id": "uyrAP8yZbuEq",
   "metadata": {
    "colab": {
     "base_uri": "https://localhost:8080/"
    },
    "id": "uyrAP8yZbuEq",
    "outputId": "01fefabd-6a46-48d7-a125-e148577190b4"
   },
   "outputs": [
    {
     "name": "stdout",
     "output_type": "stream",
     "text": [
      "Лучшая модель: {'max_depth': 10, 'random_state': 12345}\n",
      "CPU times: user 7min 16s, sys: 1.2 s, total: 7min 17s\n",
      "Wall time: 7min 20s\n"
     ]
    }
   ],
   "source": [
    "%%time\n",
    "\n",
    "regressor = DecisionTreeClassifier() \n",
    "max_depth_list = [x for x in range(1, 11)]\n",
    "hyperparams = [{'max_depth':max_depth_list, 'random_state':[12345]}]\n",
    "\n",
    "cv = GridSearchCV(regressor, hyperparams, scoring='f1', cv=5)\n",
    "cv.fit(tf_idf_train, target_train)\n",
    "print('Лучшая модель:', cv.best_params_)"
   ]
  },
  {
   "cell_type": "code",
   "execution_count": 17,
   "id": "Ms5OJm64eEYe",
   "metadata": {
    "colab": {
     "base_uri": "https://localhost:8080/"
    },
    "id": "Ms5OJm64eEYe",
    "outputId": "77a12d27-db72-40dd-8802-358a2cd8fcfb"
   },
   "outputs": [
    {
     "data": {
      "text/plain": [
       "Class           TfidfVectorizer\n",
       "Model    DecisionTreeClassifier\n",
       "F1                     0.611844\n",
       "Name: 1, dtype: object"
      ]
     },
     "execution_count": 17,
     "metadata": {},
     "output_type": "execute_result"
    }
   ],
   "source": [
    "model = DecisionTreeClassifier(max_depth=10, random_state=12345)\n",
    "model.fit(tf_idf_train, target_train)\n",
    "predicted = model.predict(tf_idf_test)\n",
    "f1 = f1_score(target_test, predicted)\n",
    "\n",
    "comments_f1 = comments_f1.append({'Class':'TfidfVectorizer', 'Model':'DecisionTreeClassifier', 'F1':f1}, ignore_index=True)\n",
    "comments_f1.iloc[-1]"
   ]
  },
  {
   "cell_type": "markdown",
   "id": "-UDZ_KkWf_Zl",
   "metadata": {
    "id": "-UDZ_KkWf_Zl"
   },
   "source": [
    "### CountVectorizer"
   ]
  },
  {
   "cell_type": "code",
   "execution_count": 18,
   "id": "-ORxgribQkil",
   "metadata": {
    "colab": {
     "base_uri": "https://localhost:8080/"
    },
    "id": "-ORxgribQkil",
    "outputId": "90957256-be74-4686-c662-3f3e91f2997f"
   },
   "outputs": [
    {
     "name": "stdout",
     "output_type": "stream",
     "text": [
      "Размер матрицы: (119678, 128561)\n"
     ]
    }
   ],
   "source": [
    "vect = CountVectorizer(stop_words=stopwords)\n",
    "\n",
    "vect_train = vect.fit_transform(features_train)\n",
    "vect_test = vect.transform(features_test)\n",
    "\n",
    "print('Размер матрицы:', vect_train.shape)"
   ]
  },
  {
   "cell_type": "markdown",
   "id": "xT8Szq9jf0Y2",
   "metadata": {
    "id": "xT8Szq9jf0Y2"
   },
   "source": [
    "#### Логистическая регрессия"
   ]
  },
  {
   "cell_type": "code",
   "execution_count": 19,
   "id": "da823e4b",
   "metadata": {
    "colab": {
     "base_uri": "https://localhost:8080/"
    },
    "id": "hulgdZYZf0ZI",
    "outputId": "a2c9ce24-08e9-47cf-e104-32d8aaa55164"
   },
   "outputs": [
    {
     "name": "stdout",
     "output_type": "stream",
     "text": [
      "Лучшая модель: {'class_weight': 'balanced', 'max_iter': 1000, 'random_state': 12345, 'solver': 'lbfgs'}\n",
      "CPU times: user 19min 41s, sys: 22min 1s, total: 41min 42s\n",
      "Wall time: 41min 48s\n"
     ]
    }
   ],
   "source": [
    "%%time\n",
    "\n",
    "regressor = LogisticRegression()\n",
    "hyperparams = [{'max_iter':[1000], 'class_weight':['balanced', None], 'solver':['lbfgs', 'liblinear'], 'random_state':[12345]}]\n",
    "\n",
    "cv = GridSearchCV(regressor, hyperparams, cv=2, scoring='f1', n_jobs=1)\n",
    "cv.fit(vect_train, target_train)\n",
    "\n",
    "print('Лучшая модель:', cv.best_params_)"
   ]
  },
  {
   "cell_type": "code",
   "execution_count": 20,
   "id": "wnyqx4vKf0ZI",
   "metadata": {
    "colab": {
     "base_uri": "https://localhost:8080/"
    },
    "id": "wnyqx4vKf0ZI",
    "outputId": "1cc9215d-e77a-45e1-dfc7-16300603b750"
   },
   "outputs": [
    {
     "data": {
      "text/plain": [
       "Class       CountVectorizer\n",
       "Model    LogisticRegression\n",
       "F1                  0.75801\n",
       "Name: 2, dtype: object"
      ]
     },
     "execution_count": 20,
     "metadata": {},
     "output_type": "execute_result"
    }
   ],
   "source": [
    "model = LogisticRegression(class_weight='balanced', max_iter=1000, random_state=12345, solver='lbfgs')\n",
    "model.fit(vect_train, target_train)\n",
    "predicted = model.predict(vect_test)\n",
    "f1 = f1_score(target_test, predicted)\n",
    "\n",
    "comments_f1 = comments_f1.append({'Class':'CountVectorizer', 'Model':'LogisticRegression', 'F1':f1}, ignore_index=True)\n",
    "comments_f1.iloc[-1]"
   ]
  },
  {
   "cell_type": "markdown",
   "id": "9ahBVpPGf0ZJ",
   "metadata": {
    "id": "9ahBVpPGf0ZJ"
   },
   "source": [
    "#### Дерево решений"
   ]
  },
  {
   "cell_type": "code",
   "execution_count": 22,
   "id": "ZzVYmzDJf0ZJ",
   "metadata": {
    "colab": {
     "base_uri": "https://localhost:8080/"
    },
    "id": "ZzVYmzDJf0ZJ",
    "outputId": "6f365b13-c88e-4734-bd0b-f49877ca8a40"
   },
   "outputs": [
    {
     "name": "stdout",
     "output_type": "stream",
     "text": [
      "Лучшая модель: {'max_depth': 10, 'random_state': 12345}\n",
      "CPU times: user 6min 3s, sys: 248 ms, total: 6min 3s\n",
      "Wall time: 6min 5s\n"
     ]
    }
   ],
   "source": [
    "%%time\n",
    "\n",
    "regressor = DecisionTreeClassifier() \n",
    "max_depth_list = [x for x in range(1, 11)]\n",
    "hyperparams = [{'max_depth':max_depth_list, 'random_state':[12345]}]\n",
    "\n",
    "cv = GridSearchCV(regressor, hyperparams, scoring='f1', cv=5)\n",
    "cv.fit(vect_train, target_train)\n",
    "print('Лучшая модель:', cv.best_params_)"
   ]
  },
  {
   "cell_type": "code",
   "execution_count": 23,
   "id": "0pYKXgf6f0ZJ",
   "metadata": {
    "colab": {
     "base_uri": "https://localhost:8080/"
    },
    "id": "0pYKXgf6f0ZJ",
    "outputId": "284df72a-70af-4d7d-c434-46da4709cd6b"
   },
   "outputs": [
    {
     "data": {
      "text/plain": [
       "Class           CountVectorizer\n",
       "Model    DecisionTreeClassifier\n",
       "F1                     0.597555\n",
       "Name: 3, dtype: object"
      ]
     },
     "execution_count": 23,
     "metadata": {},
     "output_type": "execute_result"
    }
   ],
   "source": [
    "model = DecisionTreeClassifier(max_depth=10, random_state=12345)\n",
    "model.fit(vect_train, target_train)\n",
    "predicted = model.predict(vect_test)\n",
    "f1 = f1_score(target_test, predicted)\n",
    "\n",
    "comments_f1 = comments_f1.append({'Class':'CountVectorizer', 'Model':'DecisionTreeClassifier', 'F1':f1}, ignore_index=True)\n",
    "comments_f1.iloc[-1]"
   ]
  },
  {
   "cell_type": "markdown",
   "id": "2fd4e7f0",
   "metadata": {
    "id": "2fd4e7f0"
   },
   "source": [
    "## Выводы"
   ]
  },
  {
   "cell_type": "code",
   "execution_count": 24,
   "id": "o8AOfBPEgq3a",
   "metadata": {
    "colab": {
     "base_uri": "https://localhost:8080/",
     "height": 175
    },
    "id": "o8AOfBPEgq3a",
    "outputId": "f24a5f8f-ed4d-4474-8dac-1c19e4842ba1",
    "scrolled": false
   },
   "outputs": [
    {
     "data": {
      "text/html": [
       "<style  type=\"text/css\" >\n",
       "#T_7919a_row0_col0,#T_7919a_row0_col1,#T_7919a_row1_col0,#T_7919a_row2_col1,#T_7919a_row2_col2{\n",
       "            color: white;\n",
       "             font-weight: bold;\n",
       "             background-color: darkblue;\n",
       "        }</style><table id=\"T_7919a_\" ><thead>    <tr>        <th class=\"blank level0\" ></th>        <th class=\"col_heading level0 col0\" >Class</th>        <th class=\"col_heading level0 col1\" >Model</th>        <th class=\"col_heading level0 col2\" >F1</th>    </tr></thead><tbody>\n",
       "                <tr>\n",
       "                        <th id=\"T_7919a_level0_row0\" class=\"row_heading level0 row0\" >0</th>\n",
       "                        <td id=\"T_7919a_row0_col0\" class=\"data row0 col0\" >TfidfVectorizer</td>\n",
       "                        <td id=\"T_7919a_row0_col1\" class=\"data row0 col1\" >LogisticRegression</td>\n",
       "                        <td id=\"T_7919a_row0_col2\" class=\"data row0 col2\" >0.749760</td>\n",
       "            </tr>\n",
       "            <tr>\n",
       "                        <th id=\"T_7919a_level0_row1\" class=\"row_heading level0 row1\" >1</th>\n",
       "                        <td id=\"T_7919a_row1_col0\" class=\"data row1 col0\" >TfidfVectorizer</td>\n",
       "                        <td id=\"T_7919a_row1_col1\" class=\"data row1 col1\" >DecisionTreeClassifier</td>\n",
       "                        <td id=\"T_7919a_row1_col2\" class=\"data row1 col2\" >0.611844</td>\n",
       "            </tr>\n",
       "            <tr>\n",
       "                        <th id=\"T_7919a_level0_row2\" class=\"row_heading level0 row2\" >2</th>\n",
       "                        <td id=\"T_7919a_row2_col0\" class=\"data row2 col0\" >CountVectorizer</td>\n",
       "                        <td id=\"T_7919a_row2_col1\" class=\"data row2 col1\" >LogisticRegression</td>\n",
       "                        <td id=\"T_7919a_row2_col2\" class=\"data row2 col2\" >0.758010</td>\n",
       "            </tr>\n",
       "            <tr>\n",
       "                        <th id=\"T_7919a_level0_row3\" class=\"row_heading level0 row3\" >3</th>\n",
       "                        <td id=\"T_7919a_row3_col0\" class=\"data row3 col0\" >CountVectorizer</td>\n",
       "                        <td id=\"T_7919a_row3_col1\" class=\"data row3 col1\" >DecisionTreeClassifier</td>\n",
       "                        <td id=\"T_7919a_row3_col2\" class=\"data row3 col2\" >0.597555</td>\n",
       "            </tr>\n",
       "    </tbody></table>"
      ],
      "text/plain": [
       "<pandas.io.formats.style.Styler at 0x7ff1270d9910>"
      ]
     },
     "execution_count": 24,
     "metadata": {},
     "output_type": "execute_result"
    }
   ],
   "source": [
    "def highlight_max(s, props=''):\n",
    "    return np.where(s == np.nanmax(s.values), props, '')\n",
    "\n",
    "comments_f1.style.apply(highlight_max, props='color:white; font-weight:bold; background-color:darkblue;', axis=0)"
   ]
  },
  {
   "cell_type": "markdown",
   "id": "Qub1wD7sgmd6",
   "metadata": {
    "id": "Qub1wD7sgmd6"
   },
   "source": [
    "Была найдена необходимая модель, с наилучшей метрикой. Это модель LogisticRegression с классом CountVectorizer и метрикой 0.758010"
   ]
  }
 ],
 "metadata": {
  "ExecuteTimeLog": [
   {
    "duration": 17010,
    "start_time": "2022-06-26T16:35:38.488Z"
   },
   {
    "duration": 2780,
    "start_time": "2022-06-26T16:35:55.499Z"
   },
   {
    "duration": 37,
    "start_time": "2022-06-26T16:35:58.281Z"
   },
   {
    "duration": 206,
    "start_time": "2022-06-26T16:35:58.320Z"
   },
   {
    "duration": 185,
    "start_time": "2022-06-26T16:54:54.159Z"
   },
   {
    "duration": 1395,
    "start_time": "2022-06-26T16:55:32.091Z"
   },
   {
    "duration": 24,
    "start_time": "2022-06-26T16:55:42.778Z"
   },
   {
    "duration": 2,
    "start_time": "2022-06-26T16:56:24.819Z"
   },
   {
    "duration": 1113,
    "start_time": "2022-06-26T16:56:31.319Z"
   },
   {
    "duration": 4,
    "start_time": "2022-06-26T16:56:43.225Z"
   },
   {
    "duration": 5,
    "start_time": "2022-06-26T16:56:53.354Z"
   },
   {
    "duration": 14,
    "start_time": "2022-06-26T16:57:10.688Z"
   },
   {
    "duration": 5,
    "start_time": "2022-06-26T16:57:26.740Z"
   },
   {
    "duration": 6,
    "start_time": "2022-06-26T16:59:25.657Z"
   },
   {
    "duration": 4,
    "start_time": "2022-06-26T16:59:38.082Z"
   },
   {
    "duration": 5,
    "start_time": "2022-06-26T16:59:47.960Z"
   },
   {
    "duration": 5,
    "start_time": "2022-06-26T16:59:48.946Z"
   },
   {
    "duration": 8,
    "start_time": "2022-06-26T17:00:20.783Z"
   },
   {
    "duration": 6,
    "start_time": "2022-06-26T17:01:05.494Z"
   },
   {
    "duration": 4,
    "start_time": "2022-06-26T17:01:19.516Z"
   },
   {
    "duration": 14,
    "start_time": "2022-06-26T17:01:47.242Z"
   },
   {
    "duration": 5,
    "start_time": "2022-06-26T17:02:20.717Z"
   },
   {
    "duration": 24,
    "start_time": "2022-06-26T17:02:31.145Z"
   },
   {
    "duration": 10,
    "start_time": "2022-06-26T17:02:43.993Z"
   },
   {
    "duration": 11,
    "start_time": "2022-06-26T17:03:03.896Z"
   },
   {
    "duration": 11,
    "start_time": "2022-06-26T17:05:20.616Z"
   },
   {
    "duration": 19,
    "start_time": "2022-06-26T17:06:37.252Z"
   },
   {
    "duration": 7,
    "start_time": "2022-06-26T17:06:56.731Z"
   },
   {
    "duration": 98,
    "start_time": "2022-06-26T17:07:19.148Z"
   },
   {
    "duration": 18,
    "start_time": "2022-06-26T17:07:38.082Z"
   },
   {
    "duration": 7,
    "start_time": "2022-06-26T17:08:07.345Z"
   },
   {
    "duration": 6,
    "start_time": "2022-06-26T17:08:32.723Z"
   },
   {
    "duration": 6,
    "start_time": "2022-06-26T17:08:46.322Z"
   },
   {
    "duration": 6,
    "start_time": "2022-06-26T17:09:11.546Z"
   },
   {
    "duration": 6,
    "start_time": "2022-06-26T17:10:09.598Z"
   },
   {
    "duration": 19,
    "start_time": "2022-06-26T17:10:20.920Z"
   },
   {
    "duration": 5,
    "start_time": "2022-06-26T17:14:24.150Z"
   },
   {
    "duration": 13,
    "start_time": "2022-06-26T17:14:58.490Z"
   },
   {
    "duration": 6,
    "start_time": "2022-06-26T17:15:54.523Z"
   },
   {
    "duration": 2,
    "start_time": "2022-06-26T17:17:04.082Z"
   },
   {
    "duration": 8,
    "start_time": "2022-06-26T17:17:31.326Z"
   },
   {
    "duration": 5,
    "start_time": "2022-06-26T17:17:49.211Z"
   },
   {
    "duration": 7,
    "start_time": "2022-06-26T17:18:37.769Z"
   },
   {
    "duration": 6,
    "start_time": "2022-06-26T17:19:37.441Z"
   },
   {
    "duration": 17,
    "start_time": "2022-06-26T17:23:18.752Z"
   },
   {
    "duration": 12,
    "start_time": "2022-06-26T17:23:46.709Z"
   },
   {
    "duration": 12,
    "start_time": "2022-06-26T17:24:02.446Z"
   },
   {
    "duration": 1390,
    "start_time": "2022-06-26T17:32:30.036Z"
   },
   {
    "duration": 4547,
    "start_time": "2022-06-26T17:32:35.695Z"
   },
   {
    "duration": 25,
    "start_time": "2022-06-26T17:32:40.244Z"
   },
   {
    "duration": 206,
    "start_time": "2022-06-26T17:32:40.277Z"
   },
   {
    "duration": 2,
    "start_time": "2022-06-26T17:33:05.790Z"
   },
   {
    "duration": 4,
    "start_time": "2022-06-26T17:33:31.856Z"
   },
   {
    "duration": 1407,
    "start_time": "2022-06-26T17:34:57.919Z"
   },
   {
    "duration": 10,
    "start_time": "2022-06-26T17:37:56.993Z"
   },
   {
    "duration": 8,
    "start_time": "2022-06-26T17:39:49.564Z"
   },
   {
    "duration": 1954,
    "start_time": "2022-06-26T17:40:16.491Z"
   },
   {
    "duration": 1999,
    "start_time": "2022-06-26T17:40:18.446Z"
   },
   {
    "duration": 38,
    "start_time": "2022-06-26T17:40:20.446Z"
   },
   {
    "duration": 189,
    "start_time": "2022-06-26T17:40:20.817Z"
   },
   {
    "duration": 3,
    "start_time": "2022-06-26T17:40:39.992Z"
   },
   {
    "duration": 8,
    "start_time": "2022-06-26T17:40:51.792Z"
   },
   {
    "duration": 514,
    "start_time": "2022-06-26T17:41:00.893Z"
   },
   {
    "duration": 8,
    "start_time": "2022-06-26T17:41:01.409Z"
   },
   {
    "duration": 4,
    "start_time": "2022-06-26T17:41:33.691Z"
   },
   {
    "duration": 73255,
    "start_time": "2022-06-26T17:41:35.273Z"
   },
   {
    "duration": 11,
    "start_time": "2022-06-26T17:42:48.530Z"
   },
   {
    "duration": 6,
    "start_time": "2022-06-26T17:45:28.459Z"
   },
   {
    "duration": 3,
    "start_time": "2022-06-26T17:45:42.415Z"
   },
   {
    "duration": 3,
    "start_time": "2022-06-26T17:46:02.995Z"
   },
   {
    "duration": 2,
    "start_time": "2022-06-26T17:46:23.772Z"
   },
   {
    "duration": 5,
    "start_time": "2022-06-26T17:46:25.941Z"
   },
   {
    "duration": 90,
    "start_time": "2022-06-26T17:46:31.237Z"
   },
   {
    "duration": 11,
    "start_time": "2022-06-26T17:46:44.305Z"
   },
   {
    "duration": 4,
    "start_time": "2022-06-26T17:50:52.994Z"
   },
   {
    "duration": 20,
    "start_time": "2022-06-26T17:55:21.826Z"
   },
   {
    "duration": 4,
    "start_time": "2022-06-26T17:57:23.906Z"
   },
   {
    "duration": 13,
    "start_time": "2022-06-26T17:57:25.746Z"
   },
   {
    "duration": 13,
    "start_time": "2022-06-26T17:57:59.074Z"
   },
   {
    "duration": 3,
    "start_time": "2022-06-26T17:57:59.665Z"
   },
   {
    "duration": 4,
    "start_time": "2022-06-26T17:58:02.229Z"
   },
   {
    "duration": 13,
    "start_time": "2022-06-26T17:58:03.826Z"
   },
   {
    "duration": 4,
    "start_time": "2022-06-26T17:58:19.303Z"
   },
   {
    "duration": 14,
    "start_time": "2022-06-26T17:58:21.613Z"
   },
   {
    "duration": 4,
    "start_time": "2022-06-26T17:58:41.201Z"
   },
   {
    "duration": 13,
    "start_time": "2022-06-26T17:58:42.661Z"
   },
   {
    "duration": 3,
    "start_time": "2022-06-26T18:04:30.004Z"
   },
   {
    "duration": 4,
    "start_time": "2022-06-26T18:15:32.689Z"
   },
   {
    "duration": 108,
    "start_time": "2022-06-26T18:15:50.541Z"
   },
   {
    "duration": 10,
    "start_time": "2022-06-26T18:16:22.516Z"
   },
   {
    "duration": 14,
    "start_time": "2022-06-26T18:16:46.611Z"
   },
   {
    "duration": 11,
    "start_time": "2022-06-26T18:17:04.724Z"
   },
   {
    "duration": 11,
    "start_time": "2022-06-26T18:17:34.559Z"
   },
   {
    "duration": 12,
    "start_time": "2022-06-26T18:17:47.019Z"
   },
   {
    "duration": 12,
    "start_time": "2022-06-26T18:24:30.320Z"
   },
   {
    "duration": 11,
    "start_time": "2022-06-26T18:25:30.965Z"
   },
   {
    "duration": 12,
    "start_time": "2022-06-26T18:26:08.040Z"
   },
   {
    "duration": 12,
    "start_time": "2022-06-26T18:26:15.814Z"
   },
   {
    "duration": 12,
    "start_time": "2022-06-26T18:26:33.609Z"
   },
   {
    "duration": 14,
    "start_time": "2022-06-26T18:26:37.040Z"
   },
   {
    "duration": 14,
    "start_time": "2022-06-26T18:26:44.509Z"
   },
   {
    "duration": 13,
    "start_time": "2022-06-26T18:27:15.989Z"
   },
   {
    "duration": 20,
    "start_time": "2022-06-26T18:27:50.063Z"
   },
   {
    "duration": 3,
    "start_time": "2022-06-26T18:28:00.289Z"
   },
   {
    "duration": 11,
    "start_time": "2022-06-26T18:28:03.235Z"
   },
   {
    "duration": 20,
    "start_time": "2022-06-26T18:28:24.621Z"
   },
   {
    "duration": 22,
    "start_time": "2022-06-26T18:28:53.904Z"
   },
   {
    "duration": 3,
    "start_time": "2022-06-26T18:29:28.061Z"
   },
   {
    "duration": 75587,
    "start_time": "2022-06-26T18:29:30.330Z"
   },
   {
    "duration": 11,
    "start_time": "2022-06-26T18:30:45.918Z"
   },
   {
    "duration": 10,
    "start_time": "2022-06-26T18:32:02.989Z"
   },
   {
    "duration": 5,
    "start_time": "2022-06-26T18:32:44.070Z"
   },
   {
    "duration": 6,
    "start_time": "2022-06-26T18:33:08.617Z"
   },
   {
    "duration": 5,
    "start_time": "2022-06-26T18:33:34.286Z"
   },
   {
    "duration": 17,
    "start_time": "2022-06-26T18:35:29.818Z"
   },
   {
    "duration": 1660,
    "start_time": "2022-06-26T18:38:26.571Z"
   },
   {
    "duration": 2321,
    "start_time": "2022-06-26T18:38:28.233Z"
   },
   {
    "duration": 41,
    "start_time": "2022-06-26T18:38:30.555Z"
   },
   {
    "duration": 225,
    "start_time": "2022-06-26T18:38:30.598Z"
   },
   {
    "duration": 9,
    "start_time": "2022-06-26T18:38:32.902Z"
   },
   {
    "duration": 102,
    "start_time": "2022-06-26T18:38:36.602Z"
   },
   {
    "duration": 205,
    "start_time": "2022-06-26T18:38:45.789Z"
   },
   {
    "duration": 1172,
    "start_time": "2022-06-26T18:39:08.566Z"
   },
   {
    "duration": 17,
    "start_time": "2022-06-26T18:39:34.751Z"
   },
   {
    "duration": 6,
    "start_time": "2022-06-26T18:42:23.349Z"
   },
   {
    "duration": 7,
    "start_time": "2022-06-26T18:43:02.514Z"
   },
   {
    "duration": 10,
    "start_time": "2022-06-26T18:43:22.422Z"
   },
   {
    "duration": 12,
    "start_time": "2022-06-26T18:43:36.889Z"
   },
   {
    "duration": 8,
    "start_time": "2022-06-26T18:44:57.244Z"
   },
   {
    "duration": 10,
    "start_time": "2022-06-26T18:45:08.855Z"
   },
   {
    "duration": 13,
    "start_time": "2022-06-26T19:04:06.355Z"
   },
   {
    "duration": 10,
    "start_time": "2022-06-26T19:04:21.466Z"
   },
   {
    "duration": 9,
    "start_time": "2022-06-26T19:04:34.234Z"
   },
   {
    "duration": 16,
    "start_time": "2022-06-26T19:04:53.524Z"
   },
   {
    "duration": 11,
    "start_time": "2022-06-26T19:05:26.489Z"
   },
   {
    "duration": 4,
    "start_time": "2022-06-26T19:05:35.652Z"
   },
   {
    "duration": 4,
    "start_time": "2022-06-26T19:06:03.762Z"
   },
   {
    "duration": 4,
    "start_time": "2022-06-26T19:06:11.405Z"
   },
   {
    "duration": 21,
    "start_time": "2022-06-26T19:11:21.672Z"
   },
   {
    "duration": 9,
    "start_time": "2022-06-26T19:11:51.989Z"
   },
   {
    "duration": 10,
    "start_time": "2022-06-26T19:14:39.609Z"
   },
   {
    "duration": 8,
    "start_time": "2022-06-26T19:14:53.811Z"
   },
   {
    "duration": 8,
    "start_time": "2022-06-26T19:14:59.760Z"
   },
   {
    "duration": 9,
    "start_time": "2022-06-26T19:15:03.510Z"
   },
   {
    "duration": 1383,
    "start_time": "2022-06-26T19:15:33.563Z"
   },
   {
    "duration": 2314,
    "start_time": "2022-06-26T19:15:34.948Z"
   },
   {
    "duration": 38,
    "start_time": "2022-06-26T19:15:37.264Z"
   },
   {
    "duration": 212,
    "start_time": "2022-06-26T19:15:38.940Z"
   },
   {
    "duration": 4,
    "start_time": "2022-06-26T19:18:05.583Z"
   },
   {
    "duration": 3,
    "start_time": "2022-06-26T19:18:08.890Z"
   },
   {
    "duration": 695,
    "start_time": "2022-06-26T19:18:26.924Z"
   },
   {
    "duration": 6,
    "start_time": "2022-06-26T19:19:00.127Z"
   },
   {
    "duration": 1440,
    "start_time": "2022-06-26T20:01:27.475Z"
   },
   {
    "duration": 2451,
    "start_time": "2022-06-26T20:01:28.917Z"
   },
   {
    "duration": 43,
    "start_time": "2022-06-26T20:01:31.371Z"
   },
   {
    "duration": 268,
    "start_time": "2022-06-26T20:01:31.416Z"
   },
   {
    "duration": 4,
    "start_time": "2022-06-26T20:01:33.524Z"
   },
   {
    "duration": 6,
    "start_time": "2022-06-26T20:01:34.130Z"
   },
   {
    "duration": 400,
    "start_time": "2022-06-26T20:01:36.586Z"
   },
   {
    "duration": 444,
    "start_time": "2022-06-26T20:02:28.365Z"
   },
   {
    "duration": 388618,
    "start_time": "2022-06-26T20:02:31.717Z"
   },
   {
    "duration": 10,
    "start_time": "2022-06-26T20:09:00.338Z"
   },
   {
    "duration": 915,
    "start_time": "2022-06-26T20:09:00.350Z"
   },
   {
    "duration": 0,
    "start_time": "2022-06-26T20:09:01.268Z"
   },
   {
    "duration": 5,
    "start_time": "2022-06-26T20:09:06.292Z"
   },
   {
    "duration": 16,
    "start_time": "2022-06-26T20:09:07.386Z"
   },
   {
    "duration": 1595,
    "start_time": "2022-06-26T20:40:23.923Z"
   },
   {
    "duration": 2089,
    "start_time": "2022-06-26T20:40:28.841Z"
   },
   {
    "duration": 41,
    "start_time": "2022-06-26T20:40:30.932Z"
   },
   {
    "duration": 254,
    "start_time": "2022-06-26T20:40:30.975Z"
   },
   {
    "duration": 4,
    "start_time": "2022-06-26T20:40:32.544Z"
   },
   {
    "duration": 4,
    "start_time": "2022-06-26T20:40:32.803Z"
   },
   {
    "duration": 580,
    "start_time": "2022-06-26T20:40:34.834Z"
   },
   {
    "duration": 1472,
    "start_time": "2022-06-26T21:22:24.170Z"
   },
   {
    "duration": 1831,
    "start_time": "2022-06-26T21:22:28.237Z"
   },
   {
    "duration": 40,
    "start_time": "2022-06-26T21:22:30.071Z"
   },
   {
    "duration": 249,
    "start_time": "2022-06-26T21:22:30.112Z"
   },
   {
    "duration": 4,
    "start_time": "2022-06-26T21:22:30.735Z"
   },
   {
    "duration": 3,
    "start_time": "2022-06-26T21:22:31.474Z"
   },
   {
    "duration": 416,
    "start_time": "2022-06-26T21:22:32.009Z"
   },
   {
    "duration": 1132648,
    "start_time": "2022-06-26T21:22:36.710Z"
   },
   {
    "duration": 7,
    "start_time": "2022-06-26T21:44:37.384Z"
   },
   {
    "duration": 36,
    "start_time": "2022-06-26T21:44:55.055Z"
   },
   {
    "duration": 3,
    "start_time": "2022-06-26T21:52:59.674Z"
   },
   {
    "duration": 6,
    "start_time": "2022-06-26T21:53:06.232Z"
   },
   {
    "duration": 108,
    "start_time": "2022-06-26T21:59:00.877Z"
   },
   {
    "duration": 6434,
    "start_time": "2022-06-26T22:00:25.583Z"
   },
   {
    "duration": 231698,
    "start_time": "2022-06-26T22:02:04.453Z"
   },
   {
    "duration": 14614,
    "start_time": "2022-06-26T22:05:56.153Z"
   },
   {
    "duration": 4,
    "start_time": "2022-06-26T22:06:10.768Z"
   },
   {
    "duration": 135286,
    "start_time": "2022-06-26T22:07:12.714Z"
   },
   {
    "duration": 1377,
    "start_time": "2022-06-26T22:09:37.951Z"
   },
   {
    "duration": 2304,
    "start_time": "2022-06-26T22:09:39.452Z"
   },
   {
    "duration": 34,
    "start_time": "2022-06-26T22:09:41.758Z"
   },
   {
    "duration": 227,
    "start_time": "2022-06-26T22:09:41.794Z"
   },
   {
    "duration": 4,
    "start_time": "2022-06-26T22:09:42.268Z"
   },
   {
    "duration": 3,
    "start_time": "2022-06-26T22:09:42.796Z"
   },
   {
    "duration": 9,
    "start_time": "2022-06-26T22:09:44.411Z"
   },
   {
    "duration": 1087627,
    "start_time": "2022-06-26T22:09:48.306Z"
   },
   {
    "duration": 7,
    "start_time": "2022-06-26T22:27:55.935Z"
   },
   {
    "duration": 372,
    "start_time": "2022-06-26T22:28:03.988Z"
   },
   {
    "duration": 33,
    "start_time": "2022-06-26T22:28:17.643Z"
   },
   {
    "duration": 4,
    "start_time": "2022-06-26T22:28:24.583Z"
   },
   {
    "duration": 5,
    "start_time": "2022-06-26T22:28:29.371Z"
   },
   {
    "duration": 6303,
    "start_time": "2022-06-26T22:28:35.945Z"
   },
   {
    "duration": 231999,
    "start_time": "2022-06-26T22:28:53.250Z"
   },
   {
    "duration": 14080,
    "start_time": "2022-06-26T22:33:20.490Z"
   },
   {
    "duration": 420587,
    "start_time": "2022-06-26T22:33:50.132Z"
   },
   {
    "duration": 4825,
    "start_time": "2022-06-26T22:41:36.169Z"
   },
   {
    "duration": 6099,
    "start_time": "2022-06-26T22:41:43.451Z"
   },
   {
    "duration": 179714,
    "start_time": "2022-06-26T22:42:12.985Z"
   },
   {
    "duration": 195596,
    "start_time": "2022-06-26T22:45:30.898Z"
   },
   {
    "duration": 498222,
    "start_time": "2022-06-26T22:48:57.207Z"
   },
   {
    "duration": 60338,
    "start_time": "2022-06-26T22:57:15.436Z"
   },
   {
    "duration": 60370,
    "start_time": "2022-06-26T22:58:44.378Z"
   },
   {
    "duration": 83061,
    "start_time": "2022-06-26T23:01:54.491Z"
   },
   {
    "duration": 66,
    "start_time": "2022-06-26T23:18:30.916Z"
   },
   {
    "duration": 59,
    "start_time": "2022-06-26T23:19:17.978Z"
   },
   {
    "duration": 2292046,
    "start_time": "2022-06-26T23:20:00.882Z"
   },
   {
    "duration": 1485,
    "start_time": "2022-06-27T05:49:34.722Z"
   },
   {
    "duration": 2583,
    "start_time": "2022-06-27T05:49:40.809Z"
   },
   {
    "duration": 40,
    "start_time": "2022-06-27T05:49:43.394Z"
   },
   {
    "duration": 256,
    "start_time": "2022-06-27T05:49:44.793Z"
   },
   {
    "duration": 3,
    "start_time": "2022-06-27T05:49:47.464Z"
   },
   {
    "duration": 4,
    "start_time": "2022-06-27T05:49:47.698Z"
   },
   {
    "duration": 408,
    "start_time": "2022-06-27T05:49:49.297Z"
   },
   {
    "duration": 1109334,
    "start_time": "2022-06-27T05:49:50.360Z"
   },
   {
    "duration": 8,
    "start_time": "2022-06-27T06:08:19.695Z"
   },
   {
    "duration": 44,
    "start_time": "2022-06-27T06:08:19.704Z"
   },
   {
    "duration": 3,
    "start_time": "2022-06-27T06:08:19.750Z"
   },
   {
    "duration": 8,
    "start_time": "2022-06-27T06:08:19.754Z"
   },
   {
    "duration": 6436,
    "start_time": "2022-06-27T06:08:19.764Z"
   },
   {
    "duration": 232547,
    "start_time": "2022-06-27T06:08:26.202Z"
   },
   {
    "duration": 14113,
    "start_time": "2022-06-27T06:12:18.751Z"
   },
   {
    "duration": 440094,
    "start_time": "2022-06-27T06:12:32.865Z"
   },
   {
    "duration": 4888,
    "start_time": "2022-06-27T06:19:52.962Z"
   },
   {
    "duration": 6181,
    "start_time": "2022-06-27T06:19:57.852Z"
   },
   {
    "duration": 2508400,
    "start_time": "2022-06-27T06:20:04.035Z"
   },
   {
    "duration": 284499,
    "start_time": "2022-06-27T07:01:52.436Z"
   },
   {
    "duration": 4,
    "start_time": "2022-06-27T07:06:36.936Z"
   },
   {
    "duration": 0,
    "start_time": "2022-06-27T07:06:36.942Z"
   },
   {
    "duration": 0,
    "start_time": "2022-06-27T07:06:36.943Z"
   },
   {
    "duration": 365052,
    "start_time": "2022-06-27T07:08:54.335Z"
   },
   {
    "duration": 2205,
    "start_time": "2022-06-27T07:14:59.389Z"
   },
   {
    "duration": 450,
    "start_time": "2022-06-27T07:15:01.596Z"
   }
  ],
  "colab": {
   "collapsed_sections": [],
   "name": "Project 13.ipynb",
   "provenance": []
  },
  "kernelspec": {
   "display_name": "Python 3 (ipykernel)",
   "language": "python",
   "name": "python3"
  },
  "language_info": {
   "codemirror_mode": {
    "name": "ipython",
    "version": 3
   },
   "file_extension": ".py",
   "mimetype": "text/x-python",
   "name": "python",
   "nbconvert_exporter": "python",
   "pygments_lexer": "ipython3",
   "version": "3.9.12"
  },
  "toc": {
   "base_numbering": 1,
   "nav_menu": {},
   "number_sections": true,
   "sideBar": true,
   "skip_h1_title": true,
   "title_cell": "Содержание",
   "title_sidebar": "Contents",
   "toc_cell": true,
   "toc_position": {
    "height": "calc(100% - 180px)",
    "left": "10px",
    "top": "150px",
    "width": "302.391px"
   },
   "toc_section_display": true,
   "toc_window_display": true
  }
 },
 "nbformat": 4,
 "nbformat_minor": 5
}
