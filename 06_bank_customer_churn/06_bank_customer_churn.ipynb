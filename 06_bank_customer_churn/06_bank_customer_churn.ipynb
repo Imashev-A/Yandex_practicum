{
 "cells": [
  {
   "cell_type": "markdown",
   "id": "1f57eca1",
   "metadata": {
    "toc": true
   },
   "source": [
    "<h1>Содержание<span class=\"tocSkip\"></span></h1>\n",
    "<div class=\"toc\"><ul class=\"toc-item\"><li><span><a href=\"#Подготовка-данных\" data-toc-modified-id=\"Подготовка-данных-1\"><span class=\"toc-item-num\">1&nbsp;&nbsp;</span>Подготовка данных</a></span><ul class=\"toc-item\"><li><span><a href=\"#Загрузим-и-изучим-данные\" data-toc-modified-id=\"Загрузим-и-изучим-данные-1.1\"><span class=\"toc-item-num\">1.1&nbsp;&nbsp;</span>Загрузим и изучим данные</a></span></li><li><span><a href=\"#Удаление-столбцов\" data-toc-modified-id=\"Удаление-столбцов-1.2\"><span class=\"toc-item-num\">1.2&nbsp;&nbsp;</span>Удаление столбцов</a></span></li><li><span><a href=\"#Стиль-заголовков\" data-toc-modified-id=\"Стиль-заголовков-1.3\"><span class=\"toc-item-num\">1.3&nbsp;&nbsp;</span>Стиль заголовков</a></span></li><li><span><a href=\"#Посмотрим-на-данные-на-диаграмме-размаха\" data-toc-modified-id=\"Посмотрим-на-данные-на-диаграмме-размаха-1.4\"><span class=\"toc-item-num\">1.4&nbsp;&nbsp;</span>Посмотрим на данные на диаграмме размаха</a></span></li><li><span><a href=\"#Пропуски\" data-toc-modified-id=\"Пропуски-1.5\"><span class=\"toc-item-num\">1.5&nbsp;&nbsp;</span>Пропуски</a></span></li><li><span><a href=\"#Обработка-дубликатов\" data-toc-modified-id=\"Обработка-дубликатов-1.6\"><span class=\"toc-item-num\">1.6&nbsp;&nbsp;</span>Обработка дубликатов</a></span></li></ul></li><li><span><a href=\"#Исследование-задачи\" data-toc-modified-id=\"Исследование-задачи-2\"><span class=\"toc-item-num\">2&nbsp;&nbsp;</span>Исследование задачи</a></span><ul class=\"toc-item\"><li><span><a href=\"#Прямое-кодирование\" data-toc-modified-id=\"Прямое-кодирование-2.1\"><span class=\"toc-item-num\">2.1&nbsp;&nbsp;</span>Прямое кодирование</a></span></li><li><span><a href=\"#Разобьем-признаки-для-выборки\" data-toc-modified-id=\"Разобьем-признаки-для-выборки-2.2\"><span class=\"toc-item-num\">2.2&nbsp;&nbsp;</span>Разобьем признаки для выборки</a></span></li><li><span><a href=\"#Масштабирование-признаков\" data-toc-modified-id=\"Масштабирование-признаков-2.3\"><span class=\"toc-item-num\">2.3&nbsp;&nbsp;</span>Масштабирование признаков</a></span></li><li><span><a href=\"#Дерево-решений\" data-toc-modified-id=\"Дерево-решений-2.4\"><span class=\"toc-item-num\">2.4&nbsp;&nbsp;</span>Дерево решений</a></span></li><li><span><a href=\"#Случайный-лес\" data-toc-modified-id=\"Случайный-лес-2.5\"><span class=\"toc-item-num\">2.5&nbsp;&nbsp;</span>Случайный лес</a></span></li><li><span><a href=\"#Логистическая-регрессия\" data-toc-modified-id=\"Логистическая-регрессия-2.6\"><span class=\"toc-item-num\">2.6&nbsp;&nbsp;</span>Логистическая регрессия</a></span></li><li><span><a href=\"#Вывод\" data-toc-modified-id=\"Вывод-2.7\"><span class=\"toc-item-num\">2.7&nbsp;&nbsp;</span>Вывод</a></span></li></ul></li><li><span><a href=\"#Борьба-с-дисбалансом\" data-toc-modified-id=\"Борьба-с-дисбалансом-3\"><span class=\"toc-item-num\">3&nbsp;&nbsp;</span>Борьба с дисбалансом</a></span><ul class=\"toc-item\"><li><span><a href=\"#Upsampling\" data-toc-modified-id=\"Upsampling-3.1\"><span class=\"toc-item-num\">3.1&nbsp;&nbsp;</span>Upsampling</a></span><ul class=\"toc-item\"><li><span><a href=\"#Дерево-решений\" data-toc-modified-id=\"Дерево-решений-3.1.1\"><span class=\"toc-item-num\">3.1.1&nbsp;&nbsp;</span>Дерево решений</a></span></li><li><span><a href=\"#Случайный-лес\" data-toc-modified-id=\"Случайный-лес-3.1.2\"><span class=\"toc-item-num\">3.1.2&nbsp;&nbsp;</span>Случайный лес</a></span></li><li><span><a href=\"#Логистическая-регрессия\" data-toc-modified-id=\"Логистическая-регрессия-3.1.3\"><span class=\"toc-item-num\">3.1.3&nbsp;&nbsp;</span>Логистическая регрессия</a></span></li></ul></li><li><span><a href=\"#Downsampling\" data-toc-modified-id=\"Downsampling-3.2\"><span class=\"toc-item-num\">3.2&nbsp;&nbsp;</span>Downsampling</a></span><ul class=\"toc-item\"><li><span><a href=\"#Дерево-решений\" data-toc-modified-id=\"Дерево-решений-3.2.1\"><span class=\"toc-item-num\">3.2.1&nbsp;&nbsp;</span>Дерево решений</a></span></li><li><span><a href=\"#Случайный-лес\" data-toc-modified-id=\"Случайный-лес-3.2.2\"><span class=\"toc-item-num\">3.2.2&nbsp;&nbsp;</span>Случайный лес</a></span></li><li><span><a href=\"#Логистическая-регрессия\" data-toc-modified-id=\"Логистическая-регрессия-3.2.3\"><span class=\"toc-item-num\">3.2.3&nbsp;&nbsp;</span>Логистическая регрессия</a></span></li></ul></li><li><span><a href=\"#Вывод\" data-toc-modified-id=\"Вывод-3.3\"><span class=\"toc-item-num\">3.3&nbsp;&nbsp;</span>Вывод</a></span></li></ul></li><li><span><a href=\"#Тестирование-модели\" data-toc-modified-id=\"Тестирование-модели-4\"><span class=\"toc-item-num\">4&nbsp;&nbsp;</span>Тестирование модели</a></span></li></ul></div>"
   ]
  },
  {
   "cell_type": "markdown",
   "id": "9e7d6f7a",
   "metadata": {},
   "source": [
    "# Отток клиентов"
   ]
  },
  {
   "cell_type": "markdown",
   "id": "6ecacc77",
   "metadata": {},
   "source": [
    "Из «Бета-Банка» стали уходить клиенты. Каждый месяц. Немного, но заметно. Банковские маркетологи посчитали: сохранять текущих клиентов дешевле, чем привлекать новых.\n",
    "\n",
    "Нужно спрогнозировать, уйдёт клиент из банка в ближайшее время или нет. Вам предоставлены исторические данные о поведении клиентов и расторжении договоров с банком. \n",
    "\n",
    "Постройте модель с предельно большим значением *F1*-меры. Чтобы сдать проект успешно, нужно довести метрику до 0.59. Проверьте *F1*-меру на тестовой выборке самостоятельно.\n",
    "\n",
    "Дополнительно измеряйте *AUC-ROC*, сравнивайте её значение с *F1*-мерой.\n",
    "\n",
    "Источник данных: [https://www.kaggle.com/barelydedicated/bank-customer-churn-modeling](https://www.kaggle.com/barelydedicated/bank-customer-churn-modeling)"
   ]
  },
  {
   "cell_type": "markdown",
   "id": "5e27ff67",
   "metadata": {},
   "source": [
    "# Описание данных\n",
    "\n",
    "**Признаки**\n",
    "\n",
    "* RowNumber — индекс строки в данных\n",
    "* CustomerId — уникальный идентификатор клиента\n",
    "* Surname — фамилия\n",
    "* CreditScore — кредитный рейтинг\n",
    "* Geography — страна проживания\n",
    "* Gender — пол\n",
    "* Age — возраст\n",
    "* Tenure — сколько лет человек является клиентом банка\n",
    "* Balance — баланс на счёте\n",
    "* NumOfProducts — количество продуктов банка, используемых клиентом\n",
    "* HasCrCard — наличие кредитной карты\n",
    "* IsActiveMember — активность клиента\n",
    "* EstimatedSalary — предполагаемая зарплата\n",
    "\n",
    "**Целевой признак**\n",
    "\n",
    "* Exited — факт ухода клиента"
   ]
  },
  {
   "cell_type": "markdown",
   "id": "03f61d3b",
   "metadata": {},
   "source": [
    "## Подготовка данных"
   ]
  },
  {
   "cell_type": "code",
   "execution_count": 1,
   "id": "b481ff8f",
   "metadata": {},
   "outputs": [],
   "source": [
    "import matplotlib.pyplot as plt\n",
    "import pandas as pd\n",
    "import random\n",
    "\n",
    "from sklearn.ensemble import RandomForestClassifier\n",
    "from sklearn.linear_model import LogisticRegression\n",
    "from sklearn.metrics import f1_score, roc_auc_score\n",
    "from sklearn.model_selection import train_test_split\n",
    "from sklearn.preprocessing import StandardScaler\n",
    "from sklearn.tree import DecisionTreeClassifier\n",
    "from sklearn.utils import shuffle\n",
    "\n",
    "pd.options.mode.chained_assignment = None"
   ]
  },
  {
   "cell_type": "markdown",
   "id": "6f847652",
   "metadata": {},
   "source": [
    "### Загрузим и изучим данные"
   ]
  },
  {
   "cell_type": "code",
   "execution_count": 2,
   "id": "f811cc46",
   "metadata": {
    "scrolled": false
   },
   "outputs": [
    {
     "name": "stdout",
     "output_type": "stream",
     "text": [
      "<class 'pandas.core.frame.DataFrame'>\n",
      "RangeIndex: 10000 entries, 0 to 9999\n",
      "Data columns (total 14 columns):\n",
      " #   Column           Non-Null Count  Dtype  \n",
      "---  ------           --------------  -----  \n",
      " 0   RowNumber        10000 non-null  int64  \n",
      " 1   CustomerId       10000 non-null  int64  \n",
      " 2   Surname          10000 non-null  object \n",
      " 3   CreditScore      10000 non-null  int64  \n",
      " 4   Geography        10000 non-null  object \n",
      " 5   Gender           10000 non-null  object \n",
      " 6   Age              10000 non-null  int64  \n",
      " 7   Tenure           9091 non-null   float64\n",
      " 8   Balance          10000 non-null  float64\n",
      " 9   NumOfProducts    10000 non-null  int64  \n",
      " 10  HasCrCard        10000 non-null  int64  \n",
      " 11  IsActiveMember   10000 non-null  int64  \n",
      " 12  EstimatedSalary  10000 non-null  float64\n",
      " 13  Exited           10000 non-null  int64  \n",
      "dtypes: float64(3), int64(8), object(3)\n",
      "memory usage: 1.1+ MB\n"
     ]
    },
    {
     "data": {
      "text/html": [
       "<div>\n",
       "<style scoped>\n",
       "    .dataframe tbody tr th:only-of-type {\n",
       "        vertical-align: middle;\n",
       "    }\n",
       "\n",
       "    .dataframe tbody tr th {\n",
       "        vertical-align: top;\n",
       "    }\n",
       "\n",
       "    .dataframe thead th {\n",
       "        text-align: right;\n",
       "    }\n",
       "</style>\n",
       "<table border=\"1\" class=\"dataframe\">\n",
       "  <thead>\n",
       "    <tr style=\"text-align: right;\">\n",
       "      <th></th>\n",
       "      <th>RowNumber</th>\n",
       "      <th>CustomerId</th>\n",
       "      <th>Surname</th>\n",
       "      <th>CreditScore</th>\n",
       "      <th>Geography</th>\n",
       "      <th>Gender</th>\n",
       "      <th>Age</th>\n",
       "      <th>Tenure</th>\n",
       "      <th>Balance</th>\n",
       "      <th>NumOfProducts</th>\n",
       "      <th>HasCrCard</th>\n",
       "      <th>IsActiveMember</th>\n",
       "      <th>EstimatedSalary</th>\n",
       "      <th>Exited</th>\n",
       "    </tr>\n",
       "  </thead>\n",
       "  <tbody>\n",
       "    <tr>\n",
       "      <th>0</th>\n",
       "      <td>1</td>\n",
       "      <td>15634602</td>\n",
       "      <td>Hargrave</td>\n",
       "      <td>619</td>\n",
       "      <td>France</td>\n",
       "      <td>Female</td>\n",
       "      <td>42</td>\n",
       "      <td>2.0</td>\n",
       "      <td>0.00</td>\n",
       "      <td>1</td>\n",
       "      <td>1</td>\n",
       "      <td>1</td>\n",
       "      <td>101348.88</td>\n",
       "      <td>1</td>\n",
       "    </tr>\n",
       "    <tr>\n",
       "      <th>1</th>\n",
       "      <td>2</td>\n",
       "      <td>15647311</td>\n",
       "      <td>Hill</td>\n",
       "      <td>608</td>\n",
       "      <td>Spain</td>\n",
       "      <td>Female</td>\n",
       "      <td>41</td>\n",
       "      <td>1.0</td>\n",
       "      <td>83807.86</td>\n",
       "      <td>1</td>\n",
       "      <td>0</td>\n",
       "      <td>1</td>\n",
       "      <td>112542.58</td>\n",
       "      <td>0</td>\n",
       "    </tr>\n",
       "    <tr>\n",
       "      <th>2</th>\n",
       "      <td>3</td>\n",
       "      <td>15619304</td>\n",
       "      <td>Onio</td>\n",
       "      <td>502</td>\n",
       "      <td>France</td>\n",
       "      <td>Female</td>\n",
       "      <td>42</td>\n",
       "      <td>8.0</td>\n",
       "      <td>159660.80</td>\n",
       "      <td>3</td>\n",
       "      <td>1</td>\n",
       "      <td>0</td>\n",
       "      <td>113931.57</td>\n",
       "      <td>1</td>\n",
       "    </tr>\n",
       "    <tr>\n",
       "      <th>3</th>\n",
       "      <td>4</td>\n",
       "      <td>15701354</td>\n",
       "      <td>Boni</td>\n",
       "      <td>699</td>\n",
       "      <td>France</td>\n",
       "      <td>Female</td>\n",
       "      <td>39</td>\n",
       "      <td>1.0</td>\n",
       "      <td>0.00</td>\n",
       "      <td>2</td>\n",
       "      <td>0</td>\n",
       "      <td>0</td>\n",
       "      <td>93826.63</td>\n",
       "      <td>0</td>\n",
       "    </tr>\n",
       "    <tr>\n",
       "      <th>4</th>\n",
       "      <td>5</td>\n",
       "      <td>15737888</td>\n",
       "      <td>Mitchell</td>\n",
       "      <td>850</td>\n",
       "      <td>Spain</td>\n",
       "      <td>Female</td>\n",
       "      <td>43</td>\n",
       "      <td>2.0</td>\n",
       "      <td>125510.82</td>\n",
       "      <td>1</td>\n",
       "      <td>1</td>\n",
       "      <td>1</td>\n",
       "      <td>79084.10</td>\n",
       "      <td>0</td>\n",
       "    </tr>\n",
       "    <tr>\n",
       "      <th>5</th>\n",
       "      <td>6</td>\n",
       "      <td>15574012</td>\n",
       "      <td>Chu</td>\n",
       "      <td>645</td>\n",
       "      <td>Spain</td>\n",
       "      <td>Male</td>\n",
       "      <td>44</td>\n",
       "      <td>8.0</td>\n",
       "      <td>113755.78</td>\n",
       "      <td>2</td>\n",
       "      <td>1</td>\n",
       "      <td>0</td>\n",
       "      <td>149756.71</td>\n",
       "      <td>1</td>\n",
       "    </tr>\n",
       "    <tr>\n",
       "      <th>6</th>\n",
       "      <td>7</td>\n",
       "      <td>15592531</td>\n",
       "      <td>Bartlett</td>\n",
       "      <td>822</td>\n",
       "      <td>France</td>\n",
       "      <td>Male</td>\n",
       "      <td>50</td>\n",
       "      <td>7.0</td>\n",
       "      <td>0.00</td>\n",
       "      <td>2</td>\n",
       "      <td>1</td>\n",
       "      <td>1</td>\n",
       "      <td>10062.80</td>\n",
       "      <td>0</td>\n",
       "    </tr>\n",
       "    <tr>\n",
       "      <th>7</th>\n",
       "      <td>8</td>\n",
       "      <td>15656148</td>\n",
       "      <td>Obinna</td>\n",
       "      <td>376</td>\n",
       "      <td>Germany</td>\n",
       "      <td>Female</td>\n",
       "      <td>29</td>\n",
       "      <td>4.0</td>\n",
       "      <td>115046.74</td>\n",
       "      <td>4</td>\n",
       "      <td>1</td>\n",
       "      <td>0</td>\n",
       "      <td>119346.88</td>\n",
       "      <td>1</td>\n",
       "    </tr>\n",
       "    <tr>\n",
       "      <th>8</th>\n",
       "      <td>9</td>\n",
       "      <td>15792365</td>\n",
       "      <td>He</td>\n",
       "      <td>501</td>\n",
       "      <td>France</td>\n",
       "      <td>Male</td>\n",
       "      <td>44</td>\n",
       "      <td>4.0</td>\n",
       "      <td>142051.07</td>\n",
       "      <td>2</td>\n",
       "      <td>0</td>\n",
       "      <td>1</td>\n",
       "      <td>74940.50</td>\n",
       "      <td>0</td>\n",
       "    </tr>\n",
       "    <tr>\n",
       "      <th>9</th>\n",
       "      <td>10</td>\n",
       "      <td>15592389</td>\n",
       "      <td>H?</td>\n",
       "      <td>684</td>\n",
       "      <td>France</td>\n",
       "      <td>Male</td>\n",
       "      <td>27</td>\n",
       "      <td>2.0</td>\n",
       "      <td>134603.88</td>\n",
       "      <td>1</td>\n",
       "      <td>1</td>\n",
       "      <td>1</td>\n",
       "      <td>71725.73</td>\n",
       "      <td>0</td>\n",
       "    </tr>\n",
       "  </tbody>\n",
       "</table>\n",
       "</div>"
      ],
      "text/plain": [
       "   RowNumber  CustomerId   Surname  CreditScore Geography  Gender  Age  \\\n",
       "0          1    15634602  Hargrave          619    France  Female   42   \n",
       "1          2    15647311      Hill          608     Spain  Female   41   \n",
       "2          3    15619304      Onio          502    France  Female   42   \n",
       "3          4    15701354      Boni          699    France  Female   39   \n",
       "4          5    15737888  Mitchell          850     Spain  Female   43   \n",
       "5          6    15574012       Chu          645     Spain    Male   44   \n",
       "6          7    15592531  Bartlett          822    France    Male   50   \n",
       "7          8    15656148    Obinna          376   Germany  Female   29   \n",
       "8          9    15792365        He          501    France    Male   44   \n",
       "9         10    15592389        H?          684    France    Male   27   \n",
       "\n",
       "   Tenure    Balance  NumOfProducts  HasCrCard  IsActiveMember  \\\n",
       "0     2.0       0.00              1          1               1   \n",
       "1     1.0   83807.86              1          0               1   \n",
       "2     8.0  159660.80              3          1               0   \n",
       "3     1.0       0.00              2          0               0   \n",
       "4     2.0  125510.82              1          1               1   \n",
       "5     8.0  113755.78              2          1               0   \n",
       "6     7.0       0.00              2          1               1   \n",
       "7     4.0  115046.74              4          1               0   \n",
       "8     4.0  142051.07              2          0               1   \n",
       "9     2.0  134603.88              1          1               1   \n",
       "\n",
       "   EstimatedSalary  Exited  \n",
       "0        101348.88       1  \n",
       "1        112542.58       0  \n",
       "2        113931.57       1  \n",
       "3         93826.63       0  \n",
       "4         79084.10       0  \n",
       "5        149756.71       1  \n",
       "6         10062.80       0  \n",
       "7        119346.88       1  \n",
       "8         74940.50       0  \n",
       "9         71725.73       0  "
      ]
     },
     "execution_count": 2,
     "metadata": {},
     "output_type": "execute_result"
    }
   ],
   "source": [
    "df = pd.read_csv('https://code.s3.yandex.net/datasets/Churn.csv')\n",
    "df.info()\n",
    "df.head(10)"
   ]
  },
  {
   "cell_type": "code",
   "execution_count": 3,
   "id": "f70e5b5b",
   "metadata": {},
   "outputs": [
    {
     "data": {
      "text/html": [
       "<div>\n",
       "<style scoped>\n",
       "    .dataframe tbody tr th:only-of-type {\n",
       "        vertical-align: middle;\n",
       "    }\n",
       "\n",
       "    .dataframe tbody tr th {\n",
       "        vertical-align: top;\n",
       "    }\n",
       "\n",
       "    .dataframe thead th {\n",
       "        text-align: right;\n",
       "    }\n",
       "</style>\n",
       "<table border=\"1\" class=\"dataframe\">\n",
       "  <thead>\n",
       "    <tr style=\"text-align: right;\">\n",
       "      <th></th>\n",
       "      <th>RowNumber</th>\n",
       "      <th>CustomerId</th>\n",
       "      <th>CreditScore</th>\n",
       "      <th>Age</th>\n",
       "      <th>Tenure</th>\n",
       "      <th>Balance</th>\n",
       "      <th>NumOfProducts</th>\n",
       "      <th>HasCrCard</th>\n",
       "      <th>IsActiveMember</th>\n",
       "      <th>EstimatedSalary</th>\n",
       "      <th>Exited</th>\n",
       "    </tr>\n",
       "  </thead>\n",
       "  <tbody>\n",
       "    <tr>\n",
       "      <th>count</th>\n",
       "      <td>10000.00000</td>\n",
       "      <td>1.000000e+04</td>\n",
       "      <td>10000.000000</td>\n",
       "      <td>10000.000000</td>\n",
       "      <td>9091.000000</td>\n",
       "      <td>10000.000000</td>\n",
       "      <td>10000.000000</td>\n",
       "      <td>10000.00000</td>\n",
       "      <td>10000.000000</td>\n",
       "      <td>10000.000000</td>\n",
       "      <td>10000.000000</td>\n",
       "    </tr>\n",
       "    <tr>\n",
       "      <th>mean</th>\n",
       "      <td>5000.50000</td>\n",
       "      <td>1.569094e+07</td>\n",
       "      <td>650.528800</td>\n",
       "      <td>38.921800</td>\n",
       "      <td>4.997690</td>\n",
       "      <td>76485.889288</td>\n",
       "      <td>1.530200</td>\n",
       "      <td>0.70550</td>\n",
       "      <td>0.515100</td>\n",
       "      <td>100090.239881</td>\n",
       "      <td>0.203700</td>\n",
       "    </tr>\n",
       "    <tr>\n",
       "      <th>std</th>\n",
       "      <td>2886.89568</td>\n",
       "      <td>7.193619e+04</td>\n",
       "      <td>96.653299</td>\n",
       "      <td>10.487806</td>\n",
       "      <td>2.894723</td>\n",
       "      <td>62397.405202</td>\n",
       "      <td>0.581654</td>\n",
       "      <td>0.45584</td>\n",
       "      <td>0.499797</td>\n",
       "      <td>57510.492818</td>\n",
       "      <td>0.402769</td>\n",
       "    </tr>\n",
       "    <tr>\n",
       "      <th>min</th>\n",
       "      <td>1.00000</td>\n",
       "      <td>1.556570e+07</td>\n",
       "      <td>350.000000</td>\n",
       "      <td>18.000000</td>\n",
       "      <td>0.000000</td>\n",
       "      <td>0.000000</td>\n",
       "      <td>1.000000</td>\n",
       "      <td>0.00000</td>\n",
       "      <td>0.000000</td>\n",
       "      <td>11.580000</td>\n",
       "      <td>0.000000</td>\n",
       "    </tr>\n",
       "    <tr>\n",
       "      <th>25%</th>\n",
       "      <td>2500.75000</td>\n",
       "      <td>1.562853e+07</td>\n",
       "      <td>584.000000</td>\n",
       "      <td>32.000000</td>\n",
       "      <td>2.000000</td>\n",
       "      <td>0.000000</td>\n",
       "      <td>1.000000</td>\n",
       "      <td>0.00000</td>\n",
       "      <td>0.000000</td>\n",
       "      <td>51002.110000</td>\n",
       "      <td>0.000000</td>\n",
       "    </tr>\n",
       "    <tr>\n",
       "      <th>50%</th>\n",
       "      <td>5000.50000</td>\n",
       "      <td>1.569074e+07</td>\n",
       "      <td>652.000000</td>\n",
       "      <td>37.000000</td>\n",
       "      <td>5.000000</td>\n",
       "      <td>97198.540000</td>\n",
       "      <td>1.000000</td>\n",
       "      <td>1.00000</td>\n",
       "      <td>1.000000</td>\n",
       "      <td>100193.915000</td>\n",
       "      <td>0.000000</td>\n",
       "    </tr>\n",
       "    <tr>\n",
       "      <th>75%</th>\n",
       "      <td>7500.25000</td>\n",
       "      <td>1.575323e+07</td>\n",
       "      <td>718.000000</td>\n",
       "      <td>44.000000</td>\n",
       "      <td>7.000000</td>\n",
       "      <td>127644.240000</td>\n",
       "      <td>2.000000</td>\n",
       "      <td>1.00000</td>\n",
       "      <td>1.000000</td>\n",
       "      <td>149388.247500</td>\n",
       "      <td>0.000000</td>\n",
       "    </tr>\n",
       "    <tr>\n",
       "      <th>max</th>\n",
       "      <td>10000.00000</td>\n",
       "      <td>1.581569e+07</td>\n",
       "      <td>850.000000</td>\n",
       "      <td>92.000000</td>\n",
       "      <td>10.000000</td>\n",
       "      <td>250898.090000</td>\n",
       "      <td>4.000000</td>\n",
       "      <td>1.00000</td>\n",
       "      <td>1.000000</td>\n",
       "      <td>199992.480000</td>\n",
       "      <td>1.000000</td>\n",
       "    </tr>\n",
       "  </tbody>\n",
       "</table>\n",
       "</div>"
      ],
      "text/plain": [
       "         RowNumber    CustomerId   CreditScore           Age       Tenure  \\\n",
       "count  10000.00000  1.000000e+04  10000.000000  10000.000000  9091.000000   \n",
       "mean    5000.50000  1.569094e+07    650.528800     38.921800     4.997690   \n",
       "std     2886.89568  7.193619e+04     96.653299     10.487806     2.894723   \n",
       "min        1.00000  1.556570e+07    350.000000     18.000000     0.000000   \n",
       "25%     2500.75000  1.562853e+07    584.000000     32.000000     2.000000   \n",
       "50%     5000.50000  1.569074e+07    652.000000     37.000000     5.000000   \n",
       "75%     7500.25000  1.575323e+07    718.000000     44.000000     7.000000   \n",
       "max    10000.00000  1.581569e+07    850.000000     92.000000    10.000000   \n",
       "\n",
       "             Balance  NumOfProducts    HasCrCard  IsActiveMember  \\\n",
       "count   10000.000000   10000.000000  10000.00000    10000.000000   \n",
       "mean    76485.889288       1.530200      0.70550        0.515100   \n",
       "std     62397.405202       0.581654      0.45584        0.499797   \n",
       "min         0.000000       1.000000      0.00000        0.000000   \n",
       "25%         0.000000       1.000000      0.00000        0.000000   \n",
       "50%     97198.540000       1.000000      1.00000        1.000000   \n",
       "75%    127644.240000       2.000000      1.00000        1.000000   \n",
       "max    250898.090000       4.000000      1.00000        1.000000   \n",
       "\n",
       "       EstimatedSalary        Exited  \n",
       "count     10000.000000  10000.000000  \n",
       "mean     100090.239881      0.203700  \n",
       "std       57510.492818      0.402769  \n",
       "min          11.580000      0.000000  \n",
       "25%       51002.110000      0.000000  \n",
       "50%      100193.915000      0.000000  \n",
       "75%      149388.247500      0.000000  \n",
       "max      199992.480000      1.000000  "
      ]
     },
     "execution_count": 3,
     "metadata": {},
     "output_type": "execute_result"
    }
   ],
   "source": [
    "df.describe()"
   ]
  },
  {
   "cell_type": "code",
   "execution_count": 4,
   "id": "845f9fa3",
   "metadata": {},
   "outputs": [
    {
     "data": {
      "text/html": [
       "<div>\n",
       "<style scoped>\n",
       "    .dataframe tbody tr th:only-of-type {\n",
       "        vertical-align: middle;\n",
       "    }\n",
       "\n",
       "    .dataframe tbody tr th {\n",
       "        vertical-align: top;\n",
       "    }\n",
       "\n",
       "    .dataframe thead th {\n",
       "        text-align: right;\n",
       "    }\n",
       "</style>\n",
       "<table border=\"1\" class=\"dataframe\">\n",
       "  <thead>\n",
       "    <tr style=\"text-align: right;\">\n",
       "      <th></th>\n",
       "      <th>RowNumber</th>\n",
       "      <th>CustomerId</th>\n",
       "      <th>CreditScore</th>\n",
       "      <th>Age</th>\n",
       "      <th>Tenure</th>\n",
       "      <th>Balance</th>\n",
       "      <th>NumOfProducts</th>\n",
       "      <th>HasCrCard</th>\n",
       "      <th>IsActiveMember</th>\n",
       "      <th>EstimatedSalary</th>\n",
       "      <th>Exited</th>\n",
       "    </tr>\n",
       "  </thead>\n",
       "  <tbody>\n",
       "    <tr>\n",
       "      <th>RowNumber</th>\n",
       "      <td>1.000000</td>\n",
       "      <td>0.004202</td>\n",
       "      <td>0.005840</td>\n",
       "      <td>0.000783</td>\n",
       "      <td>-0.007322</td>\n",
       "      <td>-0.009067</td>\n",
       "      <td>0.007246</td>\n",
       "      <td>0.000599</td>\n",
       "      <td>0.012044</td>\n",
       "      <td>-0.005988</td>\n",
       "      <td>-0.016571</td>\n",
       "    </tr>\n",
       "    <tr>\n",
       "      <th>CustomerId</th>\n",
       "      <td>0.004202</td>\n",
       "      <td>1.000000</td>\n",
       "      <td>0.005308</td>\n",
       "      <td>0.009497</td>\n",
       "      <td>-0.021418</td>\n",
       "      <td>-0.012419</td>\n",
       "      <td>0.016972</td>\n",
       "      <td>-0.014025</td>\n",
       "      <td>0.001665</td>\n",
       "      <td>0.015271</td>\n",
       "      <td>-0.006248</td>\n",
       "    </tr>\n",
       "    <tr>\n",
       "      <th>CreditScore</th>\n",
       "      <td>0.005840</td>\n",
       "      <td>0.005308</td>\n",
       "      <td>1.000000</td>\n",
       "      <td>-0.003965</td>\n",
       "      <td>-0.000062</td>\n",
       "      <td>0.006268</td>\n",
       "      <td>0.012238</td>\n",
       "      <td>-0.005458</td>\n",
       "      <td>0.025651</td>\n",
       "      <td>-0.001384</td>\n",
       "      <td>-0.027094</td>\n",
       "    </tr>\n",
       "    <tr>\n",
       "      <th>Age</th>\n",
       "      <td>0.000783</td>\n",
       "      <td>0.009497</td>\n",
       "      <td>-0.003965</td>\n",
       "      <td>1.000000</td>\n",
       "      <td>-0.013134</td>\n",
       "      <td>0.028308</td>\n",
       "      <td>-0.030680</td>\n",
       "      <td>-0.011721</td>\n",
       "      <td>0.085472</td>\n",
       "      <td>-0.007201</td>\n",
       "      <td>0.285323</td>\n",
       "    </tr>\n",
       "    <tr>\n",
       "      <th>Tenure</th>\n",
       "      <td>-0.007322</td>\n",
       "      <td>-0.021418</td>\n",
       "      <td>-0.000062</td>\n",
       "      <td>-0.013134</td>\n",
       "      <td>1.000000</td>\n",
       "      <td>-0.007911</td>\n",
       "      <td>0.011979</td>\n",
       "      <td>0.027232</td>\n",
       "      <td>-0.032178</td>\n",
       "      <td>0.010520</td>\n",
       "      <td>-0.016761</td>\n",
       "    </tr>\n",
       "    <tr>\n",
       "      <th>Balance</th>\n",
       "      <td>-0.009067</td>\n",
       "      <td>-0.012419</td>\n",
       "      <td>0.006268</td>\n",
       "      <td>0.028308</td>\n",
       "      <td>-0.007911</td>\n",
       "      <td>1.000000</td>\n",
       "      <td>-0.304180</td>\n",
       "      <td>-0.014858</td>\n",
       "      <td>-0.010084</td>\n",
       "      <td>0.012797</td>\n",
       "      <td>0.118533</td>\n",
       "    </tr>\n",
       "    <tr>\n",
       "      <th>NumOfProducts</th>\n",
       "      <td>0.007246</td>\n",
       "      <td>0.016972</td>\n",
       "      <td>0.012238</td>\n",
       "      <td>-0.030680</td>\n",
       "      <td>0.011979</td>\n",
       "      <td>-0.304180</td>\n",
       "      <td>1.000000</td>\n",
       "      <td>0.003183</td>\n",
       "      <td>0.009612</td>\n",
       "      <td>0.014204</td>\n",
       "      <td>-0.047820</td>\n",
       "    </tr>\n",
       "    <tr>\n",
       "      <th>HasCrCard</th>\n",
       "      <td>0.000599</td>\n",
       "      <td>-0.014025</td>\n",
       "      <td>-0.005458</td>\n",
       "      <td>-0.011721</td>\n",
       "      <td>0.027232</td>\n",
       "      <td>-0.014858</td>\n",
       "      <td>0.003183</td>\n",
       "      <td>1.000000</td>\n",
       "      <td>-0.011866</td>\n",
       "      <td>-0.009933</td>\n",
       "      <td>-0.007138</td>\n",
       "    </tr>\n",
       "    <tr>\n",
       "      <th>IsActiveMember</th>\n",
       "      <td>0.012044</td>\n",
       "      <td>0.001665</td>\n",
       "      <td>0.025651</td>\n",
       "      <td>0.085472</td>\n",
       "      <td>-0.032178</td>\n",
       "      <td>-0.010084</td>\n",
       "      <td>0.009612</td>\n",
       "      <td>-0.011866</td>\n",
       "      <td>1.000000</td>\n",
       "      <td>-0.011421</td>\n",
       "      <td>-0.156128</td>\n",
       "    </tr>\n",
       "    <tr>\n",
       "      <th>EstimatedSalary</th>\n",
       "      <td>-0.005988</td>\n",
       "      <td>0.015271</td>\n",
       "      <td>-0.001384</td>\n",
       "      <td>-0.007201</td>\n",
       "      <td>0.010520</td>\n",
       "      <td>0.012797</td>\n",
       "      <td>0.014204</td>\n",
       "      <td>-0.009933</td>\n",
       "      <td>-0.011421</td>\n",
       "      <td>1.000000</td>\n",
       "      <td>0.012097</td>\n",
       "    </tr>\n",
       "    <tr>\n",
       "      <th>Exited</th>\n",
       "      <td>-0.016571</td>\n",
       "      <td>-0.006248</td>\n",
       "      <td>-0.027094</td>\n",
       "      <td>0.285323</td>\n",
       "      <td>-0.016761</td>\n",
       "      <td>0.118533</td>\n",
       "      <td>-0.047820</td>\n",
       "      <td>-0.007138</td>\n",
       "      <td>-0.156128</td>\n",
       "      <td>0.012097</td>\n",
       "      <td>1.000000</td>\n",
       "    </tr>\n",
       "  </tbody>\n",
       "</table>\n",
       "</div>"
      ],
      "text/plain": [
       "                 RowNumber  CustomerId  CreditScore       Age    Tenure  \\\n",
       "RowNumber         1.000000    0.004202     0.005840  0.000783 -0.007322   \n",
       "CustomerId        0.004202    1.000000     0.005308  0.009497 -0.021418   \n",
       "CreditScore       0.005840    0.005308     1.000000 -0.003965 -0.000062   \n",
       "Age               0.000783    0.009497    -0.003965  1.000000 -0.013134   \n",
       "Tenure           -0.007322   -0.021418    -0.000062 -0.013134  1.000000   \n",
       "Balance          -0.009067   -0.012419     0.006268  0.028308 -0.007911   \n",
       "NumOfProducts     0.007246    0.016972     0.012238 -0.030680  0.011979   \n",
       "HasCrCard         0.000599   -0.014025    -0.005458 -0.011721  0.027232   \n",
       "IsActiveMember    0.012044    0.001665     0.025651  0.085472 -0.032178   \n",
       "EstimatedSalary  -0.005988    0.015271    -0.001384 -0.007201  0.010520   \n",
       "Exited           -0.016571   -0.006248    -0.027094  0.285323 -0.016761   \n",
       "\n",
       "                  Balance  NumOfProducts  HasCrCard  IsActiveMember  \\\n",
       "RowNumber       -0.009067       0.007246   0.000599        0.012044   \n",
       "CustomerId      -0.012419       0.016972  -0.014025        0.001665   \n",
       "CreditScore      0.006268       0.012238  -0.005458        0.025651   \n",
       "Age              0.028308      -0.030680  -0.011721        0.085472   \n",
       "Tenure          -0.007911       0.011979   0.027232       -0.032178   \n",
       "Balance          1.000000      -0.304180  -0.014858       -0.010084   \n",
       "NumOfProducts   -0.304180       1.000000   0.003183        0.009612   \n",
       "HasCrCard       -0.014858       0.003183   1.000000       -0.011866   \n",
       "IsActiveMember  -0.010084       0.009612  -0.011866        1.000000   \n",
       "EstimatedSalary  0.012797       0.014204  -0.009933       -0.011421   \n",
       "Exited           0.118533      -0.047820  -0.007138       -0.156128   \n",
       "\n",
       "                 EstimatedSalary    Exited  \n",
       "RowNumber              -0.005988 -0.016571  \n",
       "CustomerId              0.015271 -0.006248  \n",
       "CreditScore            -0.001384 -0.027094  \n",
       "Age                    -0.007201  0.285323  \n",
       "Tenure                  0.010520 -0.016761  \n",
       "Balance                 0.012797  0.118533  \n",
       "NumOfProducts           0.014204 -0.047820  \n",
       "HasCrCard              -0.009933 -0.007138  \n",
       "IsActiveMember         -0.011421 -0.156128  \n",
       "EstimatedSalary         1.000000  0.012097  \n",
       "Exited                  0.012097  1.000000  "
      ]
     },
     "execution_count": 4,
     "metadata": {},
     "output_type": "execute_result"
    }
   ],
   "source": [
    "df.corr()"
   ]
  },
  {
   "cell_type": "markdown",
   "id": "3adf7414",
   "metadata": {},
   "source": [
    "### Удаление столбцов"
   ]
  },
  {
   "cell_type": "markdown",
   "id": "72ec5a12",
   "metadata": {},
   "source": [
    "Столбец \"RowNumber\" дублирует индекс датафрейма. Столбцы \"CustomerId\" и \"Surname\" не пригодятся нам для анализа, т.к. являются идентификаторами клиентов и не влияют на анализ. Удалим данные столбцы."
   ]
  },
  {
   "cell_type": "code",
   "execution_count": 5,
   "id": "a2264c52",
   "metadata": {},
   "outputs": [],
   "source": [
    "df.drop(columns=['RowNumber', 'CustomerId', 'Surname'], axis=1, inplace=True)"
   ]
  },
  {
   "cell_type": "markdown",
   "id": "b4963727",
   "metadata": {},
   "source": [
    "### Стиль заголовков"
   ]
  },
  {
   "cell_type": "markdown",
   "id": "1ac1643e",
   "metadata": {},
   "source": [
    "Приведем названия столбцов к единому стилю, изменив регистр в названия."
   ]
  },
  {
   "cell_type": "code",
   "execution_count": 6,
   "id": "72d760ee",
   "metadata": {},
   "outputs": [
    {
     "data": {
      "text/plain": [
       "Index(['creditscore', 'geography', 'gender', 'age', 'tenure', 'balance',\n",
       "       'numofproducts', 'hascrcard', 'isactivemember', 'estimatedsalary',\n",
       "       'exited'],\n",
       "      dtype='object')"
      ]
     },
     "execution_count": 6,
     "metadata": {},
     "output_type": "execute_result"
    }
   ],
   "source": [
    "df.columns = df.columns.str.lower()\n",
    "df.columns"
   ]
  },
  {
   "cell_type": "markdown",
   "id": "aa443386",
   "metadata": {},
   "source": [
    "### Посмотрим на данные на диаграмме размаха"
   ]
  },
  {
   "cell_type": "code",
   "execution_count": 7,
   "id": "e6b7d394",
   "metadata": {
    "scrolled": false
   },
   "outputs": [
    {
     "data": {
      "image/png": "[encoded data removed]",
      "text/plain": [
       "<Figure size 720x432 with 1 Axes>"
      ]
     },
     "metadata": {
      "needs_background": "light"
     },
     "output_type": "display_data"
    },
    {
     "data": {
      "image/png": "[encoded data removed]",
      "text/plain": [
       "<Figure size 720x432 with 1 Axes>"
      ]
     },
     "metadata": {
      "needs_background": "light"
     },
     "output_type": "display_data"
    },
    {
     "data": {
      "image/png": "[encoded data removed]",
      "text/plain": [
       "<Figure size 720x432 with 1 Axes>"
      ]
     },
     "metadata": {
      "needs_background": "light"
     },
     "output_type": "display_data"
    },
    {
     "data": {
      "image/png": "[encoded data removed]",
      "text/plain": [
       "<Figure size 720x432 with 1 Axes>"
      ]
     },
     "metadata": {
      "needs_background": "light"
     },
     "output_type": "display_data"
    },
    {
     "data": {
      "image/png": "[encoded data removed]",
      "text/plain": [
       "<Figure size 720x432 with 1 Axes>"
      ]
     },
     "metadata": {
      "needs_background": "light"
     },
     "output_type": "display_data"
    }
   ],
   "source": [
    "for row in ['age', 'tenure', 'balance', 'numofproducts', 'estimatedsalary']:\n",
    "    ax = df.boxplot(column=row, by='exited', figsize=(10,6), notch=True,\n",
    "                    boxprops=dict(linestyle='-', linewidth=2),\n",
    "                    medianprops=dict(linestyle='-', linewidth=2, color='firebrick'),\n",
    "                    whiskerprops=dict(linestyle='-', linewidth=2),\n",
    "                    capprops=dict(linestyle='-', linewidth=2),\n",
    "                    \n",
    "                   )\n",
    "    plt.legend(['0 -- Клиент остался','1 -- Клиент ушел'])\n",
    "    ax.set_xlabel('')\n",
    "    plt.show()"
   ]
  },
  {
   "cell_type": "markdown",
   "id": "b5eab3d4",
   "metadata": {},
   "source": [
    "### Пропуски"
   ]
  },
  {
   "cell_type": "markdown",
   "id": "2d3e52eb",
   "metadata": {},
   "source": [
    "В столбце \"tenure\" почти 10% пропусков. Рассчитать сколько лет человек является клиентом банка на основе других данных не получится, поэтому заменим пропуски случайными числами "
   ]
  },
  {
   "cell_type": "code",
   "execution_count": 8,
   "id": "55ca61f1",
   "metadata": {
    "scrolled": true
   },
   "outputs": [
    {
     "data": {
      "text/plain": [
       "1.0     952\n",
       "2.0     950\n",
       "8.0     933\n",
       "3.0     928\n",
       "5.0     927\n",
       "7.0     925\n",
       "4.0     885\n",
       "9.0     882\n",
       "6.0     881\n",
       "10.0    446\n",
       "0.0     382\n",
       "Name: tenure, dtype: int64"
      ]
     },
     "execution_count": 8,
     "metadata": {},
     "output_type": "execute_result"
    }
   ],
   "source": [
    "df['tenure'].value_counts()"
   ]
  },
  {
   "cell_type": "code",
   "execution_count": 9,
   "id": "5a1b098b",
   "metadata": {
    "scrolled": true
   },
   "outputs": [],
   "source": [
    "def passe(df):\n",
    "    if df['tenure'] != df['tenure']:\n",
    "        return random.randrange(11)\n",
    "    else:\n",
    "        return df['tenure']\n",
    "\n",
    "df['tenure'] = df.apply(passe, axis=1)"
   ]
  },
  {
   "cell_type": "code",
   "execution_count": 10,
   "id": "cf699830",
   "metadata": {
    "scrolled": true
   },
   "outputs": [
    {
     "data": {
      "text/plain": [
       "1.0     1055\n",
       "2.0     1031\n",
       "8.0     1016\n",
       "7.0     1015\n",
       "5.0     1012\n",
       "3.0      998\n",
       "9.0      984\n",
       "6.0      963\n",
       "4.0      949\n",
       "10.0     523\n",
       "0.0      454\n",
       "Name: tenure, dtype: int64"
      ]
     },
     "execution_count": 10,
     "metadata": {},
     "output_type": "execute_result"
    }
   ],
   "source": [
    "df['tenure'].value_counts()"
   ]
  },
  {
   "cell_type": "markdown",
   "id": "14bf06c6",
   "metadata": {},
   "source": [
    "### Обработка дубликатов"
   ]
  },
  {
   "cell_type": "markdown",
   "id": "cbfaa99c",
   "metadata": {},
   "source": [
    "Посмотрим, есть ли явные дубликаты в таблице:"
   ]
  },
  {
   "cell_type": "code",
   "execution_count": 11,
   "id": "dc9cdd93",
   "metadata": {
    "scrolled": true
   },
   "outputs": [
    {
     "data": {
      "text/plain": [
       "0"
      ]
     },
     "execution_count": 11,
     "metadata": {},
     "output_type": "execute_result"
    }
   ],
   "source": [
    "df.duplicated().sum()"
   ]
  },
  {
   "cell_type": "markdown",
   "id": "77f5a519",
   "metadata": {},
   "source": [
    "## Исследование задачи"
   ]
  },
  {
   "cell_type": "markdown",
   "id": "ea34f057",
   "metadata": {},
   "source": [
    "### Прямое кодирование"
   ]
  },
  {
   "cell_type": "markdown",
   "id": "60f4db73",
   "metadata": {},
   "source": [
    "Подготовим категориальные данные для обучения методом OHE."
   ]
  },
  {
   "cell_type": "code",
   "execution_count": 12,
   "id": "493dd700",
   "metadata": {},
   "outputs": [],
   "source": [
    "df_ohe = pd.get_dummies(df, drop_first=True)"
   ]
  },
  {
   "cell_type": "markdown",
   "id": "c0d97de2",
   "metadata": {},
   "source": [
    "### Разобьем признаки для выборки"
   ]
  },
  {
   "cell_type": "markdown",
   "id": "08d3d336",
   "metadata": {},
   "source": [
    "Сохраним признаки в переменные **features** и **target**."
   ]
  },
  {
   "cell_type": "code",
   "execution_count": 13,
   "id": "30879432",
   "metadata": {},
   "outputs": [],
   "source": [
    "features = df_ohe.drop(columns=['exited'])\n",
    "target = df_ohe['exited']"
   ]
  },
  {
   "cell_type": "markdown",
   "id": "a4697016",
   "metadata": {},
   "source": [
    "Разделим исходные данные на обучающую, валидационную и тестовую выборки."
   ]
  },
  {
   "cell_type": "code",
   "execution_count": 14,
   "id": "611c9185",
   "metadata": {},
   "outputs": [],
   "source": [
    "features_train, features_valid, target_train, target_valid = train_test_split(\n",
    "    features, target, test_size=0.4, random_state=12345)\n",
    "\n",
    "features_valid, features_test, target_valid, target_test = train_test_split(\n",
    "    features_valid, target_valid, test_size=0.5, random_state=12345)"
   ]
  },
  {
   "cell_type": "markdown",
   "id": "668cc05c",
   "metadata": {},
   "source": [
    "### Масштабирование признаков"
   ]
  },
  {
   "cell_type": "code",
   "execution_count": 15,
   "id": "eb7f2238",
   "metadata": {},
   "outputs": [],
   "source": [
    "numeric = ['creditscore', 'age', 'balance', 'estimatedsalary', 'tenure']\n",
    "\n",
    "scaler = StandardScaler()\n",
    "scaler.fit(features_train[numeric]) \n",
    "\n",
    "features_train[numeric] = scaler.transform(features_train[numeric])\n",
    "features_valid[numeric] = scaler.transform(features_valid[numeric])\n",
    "features_test[numeric] = scaler.transform(features_test[numeric])"
   ]
  },
  {
   "cell_type": "markdown",
   "id": "4f4b4c17",
   "metadata": {},
   "source": [
    "### Дерево решений"
   ]
  },
  {
   "cell_type": "code",
   "execution_count": 16,
   "id": "e6cce0db",
   "metadata": {},
   "outputs": [
    {
     "name": "stdout",
     "output_type": "stream",
     "text": [
      "F1-score: 0.5528700906344411 || модель -  DecisionTreeClassifier(max_depth=4, random_state=12345)\n",
      "AUC-ROC: 0.8221680508592478 || модель -  DecisionTreeClassifier(max_depth=5, random_state=12345)\n"
     ]
    }
   ],
   "source": [
    "best_model_decision = None\n",
    "best_model_decision_auc = None\n",
    "best_f1_decision = 0\n",
    "best_auc_roc_decision = 0.5\n",
    "for depth in range(1, 6):\n",
    "    model_decision = DecisionTreeClassifier(random_state=12345, max_depth=depth) \n",
    "    model_decision.fit(features_train, target_train)\n",
    "    predicted_valid_decision = model_decision.predict(features_valid)\n",
    "    probabilities_valid_decision = model_decision.predict_proba(features_valid)\n",
    "    probabilities_one_valid_decision = probabilities_valid_decision[:, 1]\n",
    "    f1_decision = f1_score(target_valid, predicted_valid_decision)\n",
    "    auc_roc_decision = roc_auc_score(target_valid, probabilities_one_valid_decision)\n",
    "    \n",
    "    if f1_decision > best_f1_decision:\n",
    "        best_f1_decision = f1_decision\n",
    "        best_model_decisin = model_decision \n",
    "    \n",
    "    if auc_roc_decision > best_auc_roc_decision:\n",
    "        best_auc_roc_decision = auc_roc_decision\n",
    "        best_model_decision_auc = model_decision\n",
    "\n",
    "print('F1-score:', best_f1_decision, '|| модель - ', best_model_decisin)\n",
    "print('AUC-ROC:', best_auc_roc_decision, '|| модель - ', best_model_decision_auc)"
   ]
  },
  {
   "cell_type": "markdown",
   "id": "128cbba3",
   "metadata": {},
   "source": [
    "### Случайный лес"
   ]
  },
  {
   "cell_type": "code",
   "execution_count": 17,
   "id": "60f54db7",
   "metadata": {},
   "outputs": [
    {
     "name": "stdout",
     "output_type": "stream",
     "text": [
      "F1-score: 0.5861111111111111 || модель -  RandomForestClassifier(max_depth=6, n_estimators=1, random_state=12345)\n",
      "AUC-ROC: 0.8526303691650687 || модель -  RandomForestClassifier(max_depth=9, n_estimators=38, random_state=12345)\n"
     ]
    }
   ],
   "source": [
    "best_model_random = None\n",
    "best_model_random_auc = None\n",
    "best_f1_random = 0\n",
    "best_auc_roc_random = 0.5\n",
    "for est in range(1, 51):\n",
    "    for depth in range (1, 10):\n",
    "        model_random = RandomForestClassifier(random_state=12345, max_depth=depth, n_estimators=est)\n",
    "        model_random.fit(features_train, target_train)\n",
    "        predicted_valid_random = model_random.predict(features_valid)\n",
    "        probabilities_valid_random = model_random.predict_proba(features_valid)\n",
    "        probabilities_one_valid_random = probabilities_valid_random[:, 1]\n",
    "        f1_random = f1_score(target_valid, predicted_valid_random)\n",
    "        auc_roc_random = roc_auc_score(target_valid, probabilities_one_valid_random)\n",
    "\n",
    "        if f1_random > best_f1_random:\n",
    "            best_f1_random = f1_random\n",
    "            best_model_random = model_random \n",
    "            a = auc_roc_random\n",
    "            \n",
    "        if auc_roc_random > best_auc_roc_random:\n",
    "            best_auc_roc_random = auc_roc_random\n",
    "            best_model_random_auc = model_random\n",
    "\n",
    "\n",
    "print('F1-score:', best_f1_random, '|| модель - ', best_model_random)\n",
    "print('AUC-ROC:', best_auc_roc_random, '|| модель - ', best_model_random_auc)"
   ]
  },
  {
   "cell_type": "markdown",
   "id": "ded0ab60",
   "metadata": {},
   "source": [
    "### Логистическая регрессия"
   ]
  },
  {
   "cell_type": "code",
   "execution_count": 18,
   "id": "605d2247",
   "metadata": {},
   "outputs": [
    {
     "name": "stdout",
     "output_type": "stream",
     "text": [
      "F1-score: 0.33670033670033667\n",
      "AUC-ROC: 0.7586620412656742\n"
     ]
    }
   ],
   "source": [
    "model_logistic = LogisticRegression(random_state=12345, solver='lbfgs', max_iter=1000)\n",
    "model_logistic.fit(features_train, target_train)\n",
    "predicted_valid_logistic = model_logistic.predict(features_valid)\n",
    "probabilities_valid_logistic = model_logistic.predict_proba(features_valid)\n",
    "probabilities_one_valid_logistic = probabilities_valid_logistic[:, 1]\n",
    "\n",
    "print(\"F1-score:\", f1_score(target_valid, predicted_valid_logistic))\n",
    "print('AUC-ROC:', roc_auc_score(target_valid, probabilities_one_valid_logistic))"
   ]
  },
  {
   "cell_type": "markdown",
   "id": "00fca817",
   "metadata": {},
   "source": [
    "### Вывод"
   ]
  },
  {
   "cell_type": "markdown",
   "id": "76899050",
   "metadata": {},
   "source": [
    "Из трех моделей, лучшей оказалась модель “Случайный лес”. \n",
    "* **F1-score** - 0.586, модель RandomForestClassifier(max_depth=6, n_estimators=1, random_state=12345)\n",
    "* **AUC-ROC** - 0.853, модель RandomForestClassifier(max_depth=9, n_estimators=38, random_state=12345)"
   ]
  },
  {
   "cell_type": "markdown",
   "id": "660a1ad9",
   "metadata": {},
   "source": [
    "## Борьба с дисбалансом"
   ]
  },
  {
   "cell_type": "code",
   "execution_count": 19,
   "id": "8d1c2aea",
   "metadata": {
    "scrolled": true
   },
   "outputs": [
    {
     "data": {
      "text/plain": [
       "<AxesSubplot:ylabel='exited'>"
      ]
     },
     "execution_count": 19,
     "metadata": {},
     "output_type": "execute_result"
    },
    {
     "data": {
      "image/png": "[encoded data removed]",
      "text/plain": [
       "<Figure size 432x288 with 1 Axes>"
      ]
     },
     "metadata": {},
     "output_type": "display_data"
    }
   ],
   "source": [
    "df['exited'].value_counts().plot(kind='pie')"
   ]
  },
  {
   "cell_type": "markdown",
   "id": "6f598fca",
   "metadata": {},
   "source": [
    "В данных наблюдается сильный дисбаланс классов"
   ]
  },
  {
   "cell_type": "code",
   "execution_count": 20,
   "id": "ddc1b817",
   "metadata": {},
   "outputs": [
    {
     "name": "stdout",
     "output_type": "stream",
     "text": [
      "Больше в 4.016722408026756\n"
     ]
    }
   ],
   "source": [
    "print('Больше в', target_train[target_train == 0].count() / target_train[target_train == 1].count())"
   ]
  },
  {
   "cell_type": "markdown",
   "id": "e658d7a4",
   "metadata": {},
   "source": [
    "### Upsampling"
   ]
  },
  {
   "cell_type": "code",
   "execution_count": 21,
   "id": "d13729e7",
   "metadata": {},
   "outputs": [],
   "source": [
    "def upsample(features, target, repeat):\n",
    "    features_zeros = features[target == 0]\n",
    "    features_ones = features[target == 1]\n",
    "    target_zeros = target[target == 0]\n",
    "    target_ones = target[target == 1]\n",
    "\n",
    "    features_upsampled = pd.concat([features_zeros] + [features_ones] * repeat)\n",
    "    target_upsampled = pd.concat([target_zeros] + [target_ones] * repeat)\n",
    "    \n",
    "    features_upsampled, target_upsampled = shuffle(\n",
    "        features_upsampled, target_upsampled, random_state=12345)\n",
    "    \n",
    "    return features_upsampled, target_upsampled\n",
    "\n",
    "features_upsampled, target_upsampled = upsample(features_train, target_train, 4)"
   ]
  },
  {
   "cell_type": "markdown",
   "id": "1441fb86",
   "metadata": {},
   "source": [
    "#### Дерево решений"
   ]
  },
  {
   "cell_type": "code",
   "execution_count": 22,
   "id": "5d1a53e0",
   "metadata": {},
   "outputs": [
    {
     "name": "stdout",
     "output_type": "stream",
     "text": [
      "F1-score: 0.5963791267305644 || модель -  DecisionTreeClassifier(max_depth=5, random_state=12345)\n",
      "AUC-ROC: 0.8310244134068074 || модель -  DecisionTreeClassifier(max_depth=5, random_state=12345)\n"
     ]
    }
   ],
   "source": [
    "best_model_decision_upsample = None\n",
    "best_model_decision_auc_upsample = None\n",
    "best_f1_decision_upsample = 0\n",
    "best_auc_roc_decision_upsample = 0.5\n",
    "for depth in range(1, 6):\n",
    "    model_decision_upsample = DecisionTreeClassifier(random_state=12345, max_depth=depth) \n",
    "    model_decision_upsample.fit(features_upsampled, target_upsampled)\n",
    "    predicted_valid_decision_upsample = model_decision_upsample.predict(features_valid)\n",
    "    probabilities_valid_decision_upsample = model_decision_upsample.predict_proba(features_valid)\n",
    "    probabilities_one_valid_decision_upsample = probabilities_valid_decision_upsample[:, 1]\n",
    "    f1_decision_upsample = f1_score(target_valid, predicted_valid_decision_upsample)\n",
    "    auc_roc_decision_upsample = roc_auc_score(target_valid, probabilities_one_valid_decision_upsample)\n",
    "    \n",
    "    if f1_decision_upsample > best_f1_decision_upsample:\n",
    "        best_f1_decision_upsample = f1_decision_upsample\n",
    "        best_model_decisin_upsample = model_decision_upsample\n",
    "        \n",
    "    if auc_roc_decision_upsample > best_auc_roc_decision_upsample:\n",
    "        best_auc_roc_decision_upsample = auc_roc_decision_upsample\n",
    "        best_model_decision_auc_upsample = model_decision_upsample\n",
    "\n",
    "print('F1-score:', best_f1_decision_upsample, '|| модель - ', best_model_decisin_upsample)\n",
    "print('AUC-ROC:', best_auc_roc_decision_upsample, '|| модель - ', best_model_decision_auc_upsample)"
   ]
  },
  {
   "cell_type": "markdown",
   "id": "118f500c",
   "metadata": {},
   "source": [
    "#### Случайный лес"
   ]
  },
  {
   "cell_type": "code",
   "execution_count": 23,
   "id": "eb53abd3",
   "metadata": {},
   "outputs": [
    {
     "name": "stdout",
     "output_type": "stream",
     "text": [
      "F1-score: 0.6291666666666668 || модель -  RandomForestClassifier(max_depth=8, n_estimators=36, random_state=12345)\n",
      "AUC-ROC: 0.855210229919126 || модель -  RandomForestClassifier(max_depth=8, n_estimators=74, random_state=12345)\n"
     ]
    }
   ],
   "source": [
    "best_model_random_upsample = None\n",
    "best_model_random_auc_upsample = None\n",
    "best_f1_random_upsample = 0\n",
    "best_auc_roc_random_upsample = 0.5\n",
    "for est in range(1, 100):\n",
    "    for depth in range (1, 10):\n",
    "        model_random_upsample = RandomForestClassifier(random_state=12345, max_depth=depth, n_estimators=est)\n",
    "        model_random_upsample.fit(features_upsampled, target_upsampled)\n",
    "        predicted_valid_random_upsample = model_random_upsample.predict(features_valid)\n",
    "        probabilities_valid_random_upsample = model_random_upsample.predict_proba(features_valid)\n",
    "        probabilities_one_valid_random_upsample = probabilities_valid_random_upsample[:, 1]\n",
    "        f1_random_upsample = f1_score(target_valid, predicted_valid_random_upsample)\n",
    "        auc_roc_random_upsample = roc_auc_score(target_valid, probabilities_one_valid_random_upsample)\n",
    "    \n",
    "        if f1_random_upsample > best_f1_random_upsample:\n",
    "            best_f1_random_upsample = f1_random_upsample\n",
    "            best_model_random_upsample = model_random_upsample \n",
    "\n",
    "        if auc_roc_random_upsample > best_auc_roc_random_upsample:\n",
    "            best_auc_roc_random_upsample = auc_roc_random_upsample\n",
    "            best_model_random_auc_upsample = model_random_upsample\n",
    "\n",
    "\n",
    "print('F1-score:', best_f1_random_upsample, '|| модель - ', best_model_random_upsample)\n",
    "print('AUC-ROC:', best_auc_roc_random_upsample, '|| модель - ', best_model_random_auc_upsample)"
   ]
  },
  {
   "cell_type": "markdown",
   "id": "0723ab31",
   "metadata": {},
   "source": [
    "#### Логистическая регрессия"
   ]
  },
  {
   "cell_type": "code",
   "execution_count": 24,
   "id": "684c0842",
   "metadata": {},
   "outputs": [
    {
     "name": "stdout",
     "output_type": "stream",
     "text": [
      "F1-score: 0.4850042844901457\n",
      "AUC-ROC: 0.7633529721326647\n"
     ]
    }
   ],
   "source": [
    "model_logistic_upsample = LogisticRegression(random_state=12345, solver='liblinear')\n",
    "model_logistic_upsample.fit(features_upsampled, target_upsampled)\n",
    "predicted_valid_logistic_upsample = model_logistic_upsample.predict(features_valid)\n",
    "probabilities_valid_logistic_upsample = model_logistic_upsample.predict_proba(features_valid)\n",
    "probabilities_one_valid_logistic_upsample = probabilities_valid_logistic_upsample[:, 1]\n",
    "        \n",
    "print(\"F1-score:\", f1_score(target_valid, predicted_valid_logistic_upsample))\n",
    "print('AUC-ROC:', roc_auc_score(target_valid, probabilities_one_valid_logistic_upsample))"
   ]
  },
  {
   "cell_type": "markdown",
   "id": "9791d1c7",
   "metadata": {},
   "source": [
    "### Downsampling"
   ]
  },
  {
   "cell_type": "code",
   "execution_count": 25,
   "id": "d5667a62",
   "metadata": {},
   "outputs": [],
   "source": [
    "def downsample(features, target, fraction):\n",
    "    features_zeros = features[target == 0]\n",
    "    features_ones = features[target == 1]\n",
    "    target_zeros = target[target == 0]\n",
    "    target_ones = target[target == 1]\n",
    "\n",
    "    features_downsampled = pd.concat(\n",
    "        [features_zeros.sample(frac=fraction, random_state=12345)] + [features_ones])\n",
    "    target_downsampled = pd.concat(\n",
    "        [target_zeros.sample(frac=fraction, random_state=12345)] + [target_ones])\n",
    "    \n",
    "    features_downsampled, target_downsampled = shuffle(\n",
    "        features_downsampled, target_downsampled, random_state=12345)\n",
    "    \n",
    "    return features_downsampled, target_downsampled\n",
    "\n",
    "features_downsampled, target_downsampled = downsample(features_train, target_train, 0.25)"
   ]
  },
  {
   "cell_type": "markdown",
   "id": "27cab7cd",
   "metadata": {},
   "source": [
    "#### Дерево решений"
   ]
  },
  {
   "cell_type": "code",
   "execution_count": 26,
   "id": "ed6ba5c1",
   "metadata": {},
   "outputs": [
    {
     "name": "stdout",
     "output_type": "stream",
     "text": [
      "F1-score: 0.5965621840242669 || модель -  DecisionTreeClassifier(max_depth=5, random_state=12345)\n",
      "AUC-ROC: 0.8288218535074614 || модель -  DecisionTreeClassifier(max_depth=5, random_state=12345)\n"
     ]
    }
   ],
   "source": [
    "best_model_decision_downsample = None\n",
    "best_model_decision_auc_downsample = None\n",
    "best_f1_decision_downsample = 0\n",
    "best_auc_roc_decision_downsample = 0.5\n",
    "for depth in range(1, 6):\n",
    "    model_decision_downsample = DecisionTreeClassifier(random_state=12345, max_depth=depth) \n",
    "    model_decision_downsample.fit(features_downsampled, target_downsampled)\n",
    "    predicted_valid_decision_downsample = model_decision_downsample.predict(features_valid)\n",
    "    probabilities_valid_decision_downsample = model_decision_downsample.predict_proba(features_valid)\n",
    "    probabilities_one_valid_decision_downsample = probabilities_valid_decision_downsample[:, 1]\n",
    "    f1_decision_downsample = f1_score(target_valid, predicted_valid_decision_downsample)\n",
    "    auc_roc_decision_downsample = roc_auc_score(target_valid, probabilities_one_valid_decision_downsample)\n",
    "\n",
    "    if f1_decision_downsample > best_f1_decision_downsample:\n",
    "        best_f1_decision_downsample = f1_decision_downsample\n",
    "        best_model_decisin_downsample = model_decision_downsample\n",
    "\n",
    "    if auc_roc_decision_downsample > best_auc_roc_decision_downsample:\n",
    "        best_auc_roc_decision_downsample = auc_roc_decision_downsample\n",
    "        best_model_decision_auc_downsample = model_decision_downsample\n",
    "\n",
    "print('F1-score:', best_f1_decision_downsample, '|| модель - ', best_model_decisin_downsample)\n",
    "print('AUC-ROC:', best_auc_roc_decision_downsample, '|| модель - ', best_model_decision_auc_downsample)"
   ]
  },
  {
   "cell_type": "markdown",
   "id": "8407cf81",
   "metadata": {},
   "source": [
    "#### Случайный лес"
   ]
  },
  {
   "cell_type": "code",
   "execution_count": 27,
   "id": "2a661c8a",
   "metadata": {},
   "outputs": [
    {
     "name": "stdout",
     "output_type": "stream",
     "text": [
      "F1-score: 0.6101048617731173 || модель -  RandomForestClassifier(max_depth=6, n_estimators=10, random_state=12345)\n",
      "AUC-ROC: 0.8504436876584058 || модель -  RandomForestClassifier(max_depth=8, n_estimators=99, random_state=12345)\n"
     ]
    }
   ],
   "source": [
    "best_model_random_downsample = None\n",
    "best_model_random_auc_downsample = None\n",
    "best_f1_random_downsample = 0\n",
    "best_auc_roc_random_downsample = 0.5\n",
    "for est in range(1, 100):\n",
    "    for depth in range (1, 10):\n",
    "        model_random_downsample = RandomForestClassifier(random_state=12345, max_depth=depth, n_estimators=est)\n",
    "        model_random_downsample.fit(features_downsampled, target_downsampled)\n",
    "        predicted_valid_random_downsample = model_random_downsample.predict(features_valid)\n",
    "        probabilities_valid_random_downsample = model_random_downsample.predict_proba(features_valid)\n",
    "        probabilities_one_valid_random_downsample = probabilities_valid_random_downsample[:, 1]\n",
    "        f1_random_downsample = f1_score(target_valid, predicted_valid_random_downsample)\n",
    "        auc_roc_random_downsample = roc_auc_score(target_valid, probabilities_one_valid_random_downsample)\n",
    "\n",
    "        if f1_random_downsample > best_f1_random_downsample:\n",
    "            best_f1_random_downsample = f1_random_downsample\n",
    "            best_model_random_downsample = model_random_downsample\n",
    "\n",
    "        if auc_roc_random_downsample > best_auc_roc_random_downsample:\n",
    "            best_auc_roc_random_downsample = auc_roc_random_downsample\n",
    "            best_model_random_auc_downsample = model_random_downsample\n",
    "\n",
    "\n",
    "print('F1-score:', best_f1_random_downsample, '|| модель - ', best_model_random_downsample)\n",
    "print('AUC-ROC:', best_auc_roc_random_downsample, '|| модель - ', best_model_random_auc_downsample)"
   ]
  },
  {
   "cell_type": "markdown",
   "id": "45508124",
   "metadata": {},
   "source": [
    "#### Логистическая регрессия"
   ]
  },
  {
   "cell_type": "code",
   "execution_count": 28,
   "id": "6a4da657",
   "metadata": {},
   "outputs": [
    {
     "name": "stdout",
     "output_type": "stream",
     "text": [
      "F1-score: 0.4818652849740932\n",
      "AUC-ROC: 0.7620343094260188\n"
     ]
    }
   ],
   "source": [
    "model_logistic_downsample = LogisticRegression(random_state=12345, solver='liblinear')\n",
    "model_logistic_downsample.fit(features_downsampled, target_downsampled)\n",
    "predicted_valid_logistic_downsample = model_logistic_downsample.predict(features_valid)\n",
    "probabilities_valid_logistic_downsample = model_logistic_downsample.predict_proba(features_valid)\n",
    "probabilities_one_valid_logistic_downsample = probabilities_valid_logistic_downsample[:, 1]\n",
    "\n",
    "print(\"F1-score:\", f1_score(target_valid, predicted_valid_logistic_downsample))\n",
    "print('AUC-ROC:', roc_auc_score(target_valid, probabilities_one_valid_logistic_downsample))"
   ]
  },
  {
   "cell_type": "markdown",
   "id": "3e6ae098",
   "metadata": {},
   "source": [
    "### Вывод"
   ]
  },
  {
   "cell_type": "markdown",
   "id": "ea05da64",
   "metadata": {},
   "source": [
    "Применив методы upsampling и downsampling к данным, увеличили значение F1-score и AUC-ROC.\n",
    "* **F1-score** 0.629 при методе увеличении выборки, модель RandomForestClassifier(max_depth=8, n_estimators=36, random_state=12345)\n",
    "* **AUC-ROC** 0.855 при методе увеличении выборки, модель RandomForestClassifier(max_depth=8, n_estimators=74, random_state=12345)"
   ]
  },
  {
   "cell_type": "markdown",
   "id": "f2c57787",
   "metadata": {},
   "source": [
    "## Тестирование модели"
   ]
  },
  {
   "cell_type": "code",
   "execution_count": 29,
   "id": "7f5dba84",
   "metadata": {},
   "outputs": [
    {
     "name": "stdout",
     "output_type": "stream",
     "text": [
      "F1-score: 0.6125760649087222\n",
      "AUC-ROC: 0.8566022207531131\n"
     ]
    }
   ],
   "source": [
    "model_test_random =  best_model_random_upsample\n",
    "model_test_random.fit(features_upsampled, target_upsampled)\n",
    "predicted_test_random = model_test_random.predict(features_test)\n",
    "probabilities_test_random = model_test_random.predict_proba(features_test)\n",
    "probabilities_one_test_random = probabilities_test_random[:, 1]\n",
    "\n",
    "print('F1-score:', f1_score(target_test, predicted_test_random))\n",
    "print('AUC-ROC:', roc_auc_score(target_test, probabilities_one_test_random))"
   ]
  },
  {
   "cell_type": "markdown",
   "id": "8e11f865",
   "metadata": {},
   "source": [
    "**Вывод**"
   ]
  },
  {
   "cell_type": "markdown",
   "id": "8a02255d",
   "metadata": {},
   "source": [
    "Был произведен анализ оттока клиентов банка. И найдена модель для прогноза ухода клиента клиентов в ближайшее время. Модель **RandomForestClassifier(max_depth=8, n_estimators=36, random_state=12345)**, с метрикой 0.61 на тестовой Использовали модель RandomForestClassifier с увеличением выборки"
   ]
  }
 ],
 "metadata": {
  "ExecuteTimeLog": [
   {
    "duration": 181,
    "start_time": "2022-04-05T07:36:49.434Z"
   },
   {
    "duration": 2686,
    "start_time": "2022-04-05T07:43:42.008Z"
   },
   {
    "duration": 290,
    "start_time": "2022-04-05T07:43:44.698Z"
   },
   {
    "duration": 56,
    "start_time": "2022-04-05T07:43:44.991Z"
   },
   {
    "duration": 47,
    "start_time": "2022-04-05T07:43:45.050Z"
   },
   {
    "duration": 6,
    "start_time": "2022-04-05T07:43:45.099Z"
   },
   {
    "duration": 21,
    "start_time": "2022-04-05T07:43:45.107Z"
   },
   {
    "duration": 1694,
    "start_time": "2022-04-05T07:43:45.131Z"
   },
   {
    "duration": 11,
    "start_time": "2022-04-05T07:43:46.828Z"
   },
   {
    "duration": 363,
    "start_time": "2022-04-05T07:43:46.841Z"
   },
   {
    "duration": 11,
    "start_time": "2022-04-05T07:43:47.210Z"
   },
   {
    "duration": 149,
    "start_time": "2022-04-05T07:43:47.223Z"
   },
   {
    "duration": 13,
    "start_time": "2022-04-05T07:43:47.375Z"
   },
   {
    "duration": 14,
    "start_time": "2022-04-05T07:43:47.391Z"
   },
   {
    "duration": 36,
    "start_time": "2022-04-05T07:43:47.408Z"
   },
   {
    "duration": 124,
    "start_time": "2022-04-05T07:43:47.447Z"
   },
   {
    "duration": 79631,
    "start_time": "2022-04-05T07:43:47.573Z"
   },
   {
    "duration": 984,
    "start_time": "2022-04-05T07:45:07.206Z"
   },
   {
    "duration": 309,
    "start_time": "2022-04-05T07:45:08.193Z"
   },
   {
    "duration": 7,
    "start_time": "2022-04-05T07:45:08.505Z"
   },
   {
    "duration": 23,
    "start_time": "2022-04-05T07:45:08.515Z"
   },
   {
    "duration": 167,
    "start_time": "2022-04-05T07:45:08.541Z"
   },
   {
    "duration": 118588,
    "start_time": "2022-04-05T07:45:08.711Z"
   },
   {
    "duration": 91,
    "start_time": "2022-04-05T07:47:07.302Z"
   },
   {
    "duration": 188,
    "start_time": "2022-04-05T07:47:07.396Z"
   },
   {
    "duration": 99,
    "start_time": "2022-04-05T07:47:07.586Z"
   },
   {
    "duration": 60696,
    "start_time": "2022-04-05T07:47:07.688Z"
   },
   {
    "duration": 103,
    "start_time": "2022-04-05T07:48:08.386Z"
   },
   {
    "duration": 505,
    "start_time": "2022-04-05T07:48:08.495Z"
   },
   {
    "duration": 18,
    "start_time": "2022-04-05T07:48:35.529Z"
   },
   {
    "duration": 6,
    "start_time": "2022-04-05T08:30:36.391Z"
   },
   {
    "duration": 241,
    "start_time": "2022-04-05T08:31:03.757Z"
   },
   {
    "duration": 2344,
    "start_time": "2022-04-05T08:32:32.695Z"
   },
   {
    "duration": 7,
    "start_time": "2022-04-05T08:33:23.622Z"
   },
   {
    "duration": 6,
    "start_time": "2022-04-05T08:33:29.683Z"
   },
   {
    "duration": 3370,
    "start_time": "2022-04-05T08:33:47.800Z"
   },
   {
    "duration": 7,
    "start_time": "2022-04-05T08:33:54.774Z"
   },
   {
    "duration": 17,
    "start_time": "2022-04-05T08:34:11.398Z"
   },
   {
    "duration": 7,
    "start_time": "2022-04-05T08:34:17.435Z"
   },
   {
    "duration": 7,
    "start_time": "2022-04-05T08:34:20.980Z"
   },
   {
    "duration": 1213,
    "start_time": "2022-04-05T08:34:46.414Z"
   },
   {
    "duration": 17,
    "start_time": "2022-04-05T08:55:39.958Z"
   },
   {
    "duration": 262,
    "start_time": "2022-04-05T08:58:41.466Z"
   }
  ],
  "kernelspec": {
   "display_name": "Python 3 (ipykernel)",
   "language": "python",
   "name": "python3"
  },
  "language_info": {
   "codemirror_mode": {
    "name": "ipython",
    "version": 3
   },
   "file_extension": ".py",
   "mimetype": "text/x-python",
   "name": "python",
   "nbconvert_exporter": "python",
   "pygments_lexer": "ipython3",
   "version": "3.9.12"
  },
  "toc": {
   "base_numbering": 1,
   "nav_menu": {},
   "number_sections": true,
   "sideBar": true,
   "skip_h1_title": true,
   "title_cell": "Содержание",
   "title_sidebar": "Contents",
   "toc_cell": true,
   "toc_position": {
    "height": "577px",
    "left": "75px",
    "top": "144.125px",
    "width": "320px"
   },
   "toc_section_display": true,
   "toc_window_display": true
  }
 },
 "nbformat": 4,
 "nbformat_minor": 5
}
