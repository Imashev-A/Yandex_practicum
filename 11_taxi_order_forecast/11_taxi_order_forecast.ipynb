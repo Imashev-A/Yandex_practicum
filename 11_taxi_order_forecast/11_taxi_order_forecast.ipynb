{
 "cells": [
  {
   "cell_type": "markdown",
   "id": "69971b42",
   "metadata": {
    "toc": true
   },
   "source": [
    "<h1>Содержание<span class=\"tocSkip\"></span></h1>\n",
    "<div class=\"toc\"><ul class=\"toc-item\"><li><span><a href=\"#Подготовка\" data-toc-modified-id=\"Подготовка-1\"><span class=\"toc-item-num\">1&nbsp;&nbsp;</span>Подготовка</a></span><ul class=\"toc-item\"><li><span><a href=\"#Загрузим-и-изучим-данные\" data-toc-modified-id=\"Загрузим-и-изучим-данные-1.1\"><span class=\"toc-item-num\">1.1&nbsp;&nbsp;</span>Загрузим и изучим данные</a></span></li><li><span><a href=\"#Ресемплирование\" data-toc-modified-id=\"Ресемплирование-1.2\"><span class=\"toc-item-num\">1.2&nbsp;&nbsp;</span>Ресемплирование</a></span></li></ul></li><li><span><a href=\"#Анализ\" data-toc-modified-id=\"Анализ-2\"><span class=\"toc-item-num\">2&nbsp;&nbsp;</span>Анализ</a></span><ul class=\"toc-item\"><li><span><a href=\"#Тренды-и-сезонность\" data-toc-modified-id=\"Тренды-и-сезонность-2.1\"><span class=\"toc-item-num\">2.1&nbsp;&nbsp;</span>Тренды и сезонность</a></span></li><li><span><a href=\"#Создание-признаков\" data-toc-modified-id=\"Создание-признаков-2.2\"><span class=\"toc-item-num\">2.2&nbsp;&nbsp;</span>Создание признаков</a></span></li><li><span><a href=\"#Разобьем-данные-на-выборки\" data-toc-modified-id=\"Разобьем-данные-на-выборки-2.3\"><span class=\"toc-item-num\">2.3&nbsp;&nbsp;</span>Разобьем данные на выборки</a></span></li></ul></li><li><span><a href=\"#Обучение\" data-toc-modified-id=\"Обучение-3\"><span class=\"toc-item-num\">3&nbsp;&nbsp;</span>Обучение</a></span><ul class=\"toc-item\"><li><span><a href=\"#Дерево-решений\" data-toc-modified-id=\"Дерево-решений-3.1\"><span class=\"toc-item-num\">3.1&nbsp;&nbsp;</span>Дерево решений</a></span></li><li><span><a href=\"#Случайный-лес\" data-toc-modified-id=\"Случайный-лес-3.2\"><span class=\"toc-item-num\">3.2&nbsp;&nbsp;</span>Случайный лес</a></span></li><li><span><a href=\"#CatBoost\" data-toc-modified-id=\"CatBoost-3.3\"><span class=\"toc-item-num\">3.3&nbsp;&nbsp;</span>CatBoost</a></span></li><li><span><a href=\"#LGBMRegressor\" data-toc-modified-id=\"LGBMRegressor-3.4\"><span class=\"toc-item-num\">3.4&nbsp;&nbsp;</span>LGBMRegressor</a></span></li><li><span><a href=\"#Линейная-регрессия\" data-toc-modified-id=\"Линейная-регрессия-3.5\"><span class=\"toc-item-num\">3.5&nbsp;&nbsp;</span>Линейная регрессия</a></span></li></ul></li><li><span><a href=\"#Тестирование\" data-toc-modified-id=\"Тестирование-4\"><span class=\"toc-item-num\">4&nbsp;&nbsp;</span>Тестирование</a></span><ul class=\"toc-item\"><li><span><a href=\"#Визуализация-предсказания\" data-toc-modified-id=\"Визуализация-предсказания-4.1\"><span class=\"toc-item-num\">4.1&nbsp;&nbsp;</span>Визуализация предсказания</a></span></li><li><span><a href=\"#Вывод\" data-toc-modified-id=\"Вывод-4.2\"><span class=\"toc-item-num\">4.2&nbsp;&nbsp;</span>Вывод</a></span></li></ul></li></ul></div>"
   ]
  },
  {
   "cell_type": "markdown",
   "id": "318732a6",
   "metadata": {},
   "source": [
    "#  Прогнозирование заказов такси\n",
    "\n",
    "Компания «Чётенькое такси» собрала исторические данные о заказах такси в аэропортах. Чтобы привлекать больше водителей в период пиковой нагрузки, нужно спрогнозировать количество заказов такси на следующий час. Постройте модель для такого предсказания.\n",
    "\n",
    "Значение метрики *RMSE* на тестовой выборке должно быть не больше 48.\n",
    "\n",
    "Вам нужно:\n",
    "\n",
    "1. Загрузить данные и выполнить их ресемплирование по одному часу.\n",
    "2. Проанализировать данные.\n",
    "3. Обучить разные модели с различными гиперпараметрами. Сделать тестовую выборку размером 10% от исходных данных.\n",
    "4. Проверить данные на тестовой выборке и сделать выводы.\n",
    "\n",
    "\n",
    "Данные лежат в файле `taxi.csv`. Количество заказов находится в столбце `num_orders` (от англ. *number of orders*, «число заказов»)."
   ]
  },
  {
   "cell_type": "markdown",
   "id": "41e8212b",
   "metadata": {},
   "source": [
    "## Подготовка"
   ]
  },
  {
   "cell_type": "code",
   "execution_count": 1,
   "id": "8933cd02",
   "metadata": {},
   "outputs": [],
   "source": [
    "import matplotlib.pyplot as plt\n",
    "import numpy as np\n",
    "import pandas as pd\n",
    "\n",
    "from catboost import CatBoostRegressor\n",
    "from lightgbm import LGBMRegressor\n",
    "from sklearn.ensemble import RandomForestRegressor\n",
    "from sklearn.linear_model import LinearRegression\n",
    "from sklearn.metrics import mean_squared_error\n",
    "from sklearn.model_selection import cross_val_score, train_test_split, TimeSeriesSplit, GridSearchCV\n",
    "from sklearn.tree import DecisionTreeRegressor\n",
    "from statsmodels.tsa.seasonal import seasonal_decompose"
   ]
  },
  {
   "cell_type": "markdown",
   "id": "6f847652",
   "metadata": {},
   "source": [
    "### Загрузим и изучим данные"
   ]
  },
  {
   "cell_type": "markdown",
   "id": "6c70efac",
   "metadata": {},
   "source": [
    "Загрузим данные"
   ]
  },
  {
   "cell_type": "code",
   "execution_count": 2,
   "id": "f811cc46",
   "metadata": {
    "scrolled": false
   },
   "outputs": [],
   "source": [
    "taxi = pd.read_csv('./datasets/taxi.csv', index_col=[0], parse_dates=[0])"
   ]
  },
  {
   "cell_type": "code",
   "execution_count": 3,
   "id": "09732d3f",
   "metadata": {
    "scrolled": false
   },
   "outputs": [
    {
     "name": "stdout",
     "output_type": "stream",
     "text": [
      "<class 'pandas.core.frame.DataFrame'>\n",
      "DatetimeIndex: 26496 entries, 2018-03-01 00:00:00 to 2018-08-31 23:50:00\n",
      "Data columns (total 1 columns):\n",
      " #   Column      Non-Null Count  Dtype\n",
      "---  ------      --------------  -----\n",
      " 0   num_orders  26496 non-null  int64\n",
      "dtypes: int64(1)\n",
      "memory usage: 414.0 KB\n"
     ]
    },
    {
     "data": {
      "text/html": [
       "<div>\n",
       "<style scoped>\n",
       "    .dataframe tbody tr th:only-of-type {\n",
       "        vertical-align: middle;\n",
       "    }\n",
       "\n",
       "    .dataframe tbody tr th {\n",
       "        vertical-align: top;\n",
       "    }\n",
       "\n",
       "    .dataframe thead th {\n",
       "        text-align: right;\n",
       "    }\n",
       "</style>\n",
       "<table border=\"1\" class=\"dataframe\">\n",
       "  <thead>\n",
       "    <tr style=\"text-align: right;\">\n",
       "      <th></th>\n",
       "      <th>num_orders</th>\n",
       "    </tr>\n",
       "    <tr>\n",
       "      <th>datetime</th>\n",
       "      <th></th>\n",
       "    </tr>\n",
       "  </thead>\n",
       "  <tbody>\n",
       "    <tr>\n",
       "      <th>2018-03-01 00:00:00</th>\n",
       "      <td>9</td>\n",
       "    </tr>\n",
       "    <tr>\n",
       "      <th>2018-03-01 00:10:00</th>\n",
       "      <td>14</td>\n",
       "    </tr>\n",
       "    <tr>\n",
       "      <th>2018-03-01 00:20:00</th>\n",
       "      <td>28</td>\n",
       "    </tr>\n",
       "    <tr>\n",
       "      <th>2018-03-01 00:30:00</th>\n",
       "      <td>20</td>\n",
       "    </tr>\n",
       "    <tr>\n",
       "      <th>2018-03-01 00:40:00</th>\n",
       "      <td>32</td>\n",
       "    </tr>\n",
       "  </tbody>\n",
       "</table>\n",
       "</div>"
      ],
      "text/plain": [
       "                     num_orders\n",
       "datetime                       \n",
       "2018-03-01 00:00:00           9\n",
       "2018-03-01 00:10:00          14\n",
       "2018-03-01 00:20:00          28\n",
       "2018-03-01 00:30:00          20\n",
       "2018-03-01 00:40:00          32"
      ]
     },
     "execution_count": 3,
     "metadata": {},
     "output_type": "execute_result"
    }
   ],
   "source": [
    "taxi.info()\n",
    "taxi.head()"
   ]
  },
  {
   "cell_type": "markdown",
   "id": "b1824192",
   "metadata": {},
   "source": [
    "### Ресемплирование"
   ]
  },
  {
   "cell_type": "markdown",
   "id": "9cbe6184",
   "metadata": {},
   "source": [
    "Выполним ресемплирование по одному часу"
   ]
  },
  {
   "cell_type": "code",
   "execution_count": 4,
   "id": "65db728e",
   "metadata": {},
   "outputs": [
    {
     "data": {
      "text/html": [
       "<div>\n",
       "<style scoped>\n",
       "    .dataframe tbody tr th:only-of-type {\n",
       "        vertical-align: middle;\n",
       "    }\n",
       "\n",
       "    .dataframe tbody tr th {\n",
       "        vertical-align: top;\n",
       "    }\n",
       "\n",
       "    .dataframe thead th {\n",
       "        text-align: right;\n",
       "    }\n",
       "</style>\n",
       "<table border=\"1\" class=\"dataframe\">\n",
       "  <thead>\n",
       "    <tr style=\"text-align: right;\">\n",
       "      <th></th>\n",
       "      <th>num_orders</th>\n",
       "    </tr>\n",
       "    <tr>\n",
       "      <th>datetime</th>\n",
       "      <th></th>\n",
       "    </tr>\n",
       "  </thead>\n",
       "  <tbody>\n",
       "    <tr>\n",
       "      <th>2018-03-01 00:00:00</th>\n",
       "      <td>124</td>\n",
       "    </tr>\n",
       "    <tr>\n",
       "      <th>2018-03-01 01:00:00</th>\n",
       "      <td>85</td>\n",
       "    </tr>\n",
       "    <tr>\n",
       "      <th>2018-03-01 02:00:00</th>\n",
       "      <td>71</td>\n",
       "    </tr>\n",
       "    <tr>\n",
       "      <th>2018-03-01 03:00:00</th>\n",
       "      <td>66</td>\n",
       "    </tr>\n",
       "    <tr>\n",
       "      <th>2018-03-01 04:00:00</th>\n",
       "      <td>43</td>\n",
       "    </tr>\n",
       "    <tr>\n",
       "      <th>...</th>\n",
       "      <td>...</td>\n",
       "    </tr>\n",
       "    <tr>\n",
       "      <th>2018-08-31 19:00:00</th>\n",
       "      <td>136</td>\n",
       "    </tr>\n",
       "    <tr>\n",
       "      <th>2018-08-31 20:00:00</th>\n",
       "      <td>154</td>\n",
       "    </tr>\n",
       "    <tr>\n",
       "      <th>2018-08-31 21:00:00</th>\n",
       "      <td>159</td>\n",
       "    </tr>\n",
       "    <tr>\n",
       "      <th>2018-08-31 22:00:00</th>\n",
       "      <td>223</td>\n",
       "    </tr>\n",
       "    <tr>\n",
       "      <th>2018-08-31 23:00:00</th>\n",
       "      <td>205</td>\n",
       "    </tr>\n",
       "  </tbody>\n",
       "</table>\n",
       "<p>4416 rows × 1 columns</p>\n",
       "</div>"
      ],
      "text/plain": [
       "                     num_orders\n",
       "datetime                       \n",
       "2018-03-01 00:00:00         124\n",
       "2018-03-01 01:00:00          85\n",
       "2018-03-01 02:00:00          71\n",
       "2018-03-01 03:00:00          66\n",
       "2018-03-01 04:00:00          43\n",
       "...                         ...\n",
       "2018-08-31 19:00:00         136\n",
       "2018-08-31 20:00:00         154\n",
       "2018-08-31 21:00:00         159\n",
       "2018-08-31 22:00:00         223\n",
       "2018-08-31 23:00:00         205\n",
       "\n",
       "[4416 rows x 1 columns]"
      ]
     },
     "execution_count": 4,
     "metadata": {},
     "output_type": "execute_result"
    }
   ],
   "source": [
    "taxi.sort_index(inplace=True)\n",
    "taxi = taxi.resample('1H').sum()\n",
    "taxi"
   ]
  },
  {
   "cell_type": "markdown",
   "id": "5fc14554",
   "metadata": {},
   "source": [
    "Загрузили данные. Выполним ресемплирование по одному часу "
   ]
  },
  {
   "cell_type": "markdown",
   "id": "fed823f8",
   "metadata": {},
   "source": [
    "## Анализ"
   ]
  },
  {
   "cell_type": "code",
   "execution_count": 5,
   "id": "05529f81",
   "metadata": {},
   "outputs": [
    {
     "data": {
      "text/plain": [
       "<AxesSubplot:title={'center':'Количество заказов по часам'}, xlabel='Дата', ylabel='Количество заказов'>"
      ]
     },
     "execution_count": 5,
     "metadata": {},
     "output_type": "execute_result"
    },
    {
     "data": {
      "image/png": "[encoded data removed]",
      "text/plain": [
       "<Figure size 1008x360 with 1 Axes>"
      ]
     },
     "metadata": {
      "needs_background": "light"
     },
     "output_type": "display_data"
    }
   ],
   "source": [
    "taxi.plot(\n",
    "    title='Количество заказов по часам', \n",
    "    legend=False, \n",
    "    figsize=(14,5), \n",
    "    grid=True, \n",
    "    xlabel='Дата', \n",
    "    ylabel='Количество заказов'\n",
    ")"
   ]
  },
  {
   "cell_type": "markdown",
   "id": "1a005af0",
   "metadata": {},
   "source": [
    "### Тренды и сезонность"
   ]
  },
  {
   "cell_type": "markdown",
   "id": "656c4193",
   "metadata": {},
   "source": [
    "Разложим временной ряд на три составляющие: тренд, сезонность и остаток"
   ]
  },
  {
   "cell_type": "code",
   "execution_count": 6,
   "id": "363b74c0",
   "metadata": {},
   "outputs": [],
   "source": [
    "decomposed = seasonal_decompose(taxi)"
   ]
  },
  {
   "cell_type": "code",
   "execution_count": 7,
   "id": "5b46655c",
   "metadata": {},
   "outputs": [
    {
     "data": {
      "image/png": "[encoded data removed]",
      "text/plain": [
       "<Figure size 432x288 with 4 Axes>"
      ]
     },
     "metadata": {
      "needs_background": "light"
     },
     "output_type": "display_data"
    }
   ],
   "source": [
    "decomposed.plot()\n",
    "plt.show()"
   ]
  },
  {
   "cell_type": "markdown",
   "id": "edd7ffd4",
   "metadata": {},
   "source": [
    "Посмотрим на данные за день, неделю и месяц. За период возьмем первые числа марта. Для построения графиков создадим функцию **decompose()**"
   ]
  },
  {
   "cell_type": "code",
   "execution_count": 8,
   "id": "250f3ab7",
   "metadata": {},
   "outputs": [],
   "source": [
    "def decompose(result, time_1, time_2, title, figsize = (14,5)):\n",
    "    if result == 'trend':\n",
    "        decomposed.trend[time_1 : time_2].plot(\n",
    "            title = title, \n",
    "            legend = False, \n",
    "            figsize = figsize, \n",
    "            grid = True, \n",
    "            xlabel = 'Период', \n",
    "            ylabel = 'Количество заказов'\n",
    "        )\n",
    "    else:\n",
    "        decomposed.seasonal[time_1 : time_2].plot(\n",
    "            title = title, \n",
    "            legend = False, \n",
    "            figsize = figsize, \n",
    "            grid = True, \n",
    "            xlabel = 'Период', \n",
    "            ylabel = 'Количество заказов'\n",
    "        )"
   ]
  },
  {
   "cell_type": "code",
   "execution_count": 9,
   "id": "ca2f984d",
   "metadata": {
    "scrolled": false
   },
   "outputs": [
    {
     "data": {
      "image/png": "[encoded data removed]",
      "text/plain": [
       "<Figure size 1008x360 with 1 Axes>"
      ]
     },
     "metadata": {
      "needs_background": "light"
     },
     "output_type": "display_data"
    }
   ],
   "source": [
    "decompose('trend', '2018-03-02', '2018-03-02', 'График тренда за 2 марта')"
   ]
  },
  {
   "cell_type": "code",
   "execution_count": 10,
   "id": "14951279",
   "metadata": {
    "scrolled": false
   },
   "outputs": [
    {
     "data": {
      "image/png": "[encoded data removed]",
      "text/plain": [
       "<Figure size 1008x360 with 1 Axes>"
      ]
     },
     "metadata": {
      "needs_background": "light"
     },
     "output_type": "display_data"
    }
   ],
   "source": [
    "decompose('trend', '2018-03-02', '2018-03-09', 'График тренда с 2 по 9 марта')"
   ]
  },
  {
   "cell_type": "code",
   "execution_count": 11,
   "id": "8fae7a13",
   "metadata": {},
   "outputs": [
    {
     "data": {
      "image/png": "[encoded data removed]",
      "text/plain": [
       "<Figure size 1008x360 with 1 Axes>"
      ]
     },
     "metadata": {
      "needs_background": "light"
     },
     "output_type": "display_data"
    }
   ],
   "source": [
    "decompose('trend', '2018-03-01', '2018-03-31', 'График тренда за март')"
   ]
  },
  {
   "cell_type": "code",
   "execution_count": 12,
   "id": "e845c7c0",
   "metadata": {
    "scrolled": true
   },
   "outputs": [
    {
     "data": {
      "image/png": "[encoded data removed]",
      "text/plain": [
       "<Figure size 1008x360 with 1 Axes>"
      ]
     },
     "metadata": {
      "needs_background": "light"
     },
     "output_type": "display_data"
    }
   ],
   "source": [
    "decompose('seasonal', '2018-03-02', '2018-03-02', 'График сезонной составляющей за 2 марта')"
   ]
  },
  {
   "cell_type": "code",
   "execution_count": 13,
   "id": "10d5ddd3",
   "metadata": {
    "scrolled": false
   },
   "outputs": [
    {
     "data": {
      "image/png": "[encoded data removed]",
      "text/plain": [
       "<Figure size 1008x360 with 1 Axes>"
      ]
     },
     "metadata": {
      "needs_background": "light"
     },
     "output_type": "display_data"
    }
   ],
   "source": [
    "decompose('seasonal', '2018-03-02', '2018-03-09', 'График сезонной составляющей с 2 по 9 марта')"
   ]
  },
  {
   "cell_type": "code",
   "execution_count": 14,
   "id": "ae160041",
   "metadata": {},
   "outputs": [
    {
     "data": {
      "image/png": "[encoded data removed]",
      "text/plain": [
       "<Figure size 1008x360 with 1 Axes>"
      ]
     },
     "metadata": {
      "needs_background": "light"
     },
     "output_type": "display_data"
    }
   ],
   "source": [
    "decompose('seasonal', '2018-03-01', '2018-03-31', 'График сезонной составляющей за март')"
   ]
  },
  {
   "cell_type": "markdown",
   "id": "3663fe2b",
   "metadata": {},
   "source": [
    "Как видно из данных в течение суток, количество заказов увеличивается ближе к ночи, возможно это связанно, что в вечернее время уже не ходит общественный транспорт и чаще приходится заказывать такси. \n",
    "\n",
    "При анализе за неделю и месяц, наблюдается увеличение заказов в некоторые дни недели, это может быть связанно, что в эти дни больше рейсов.\n",
    "\n",
    "За весь период анализа данных, заметен рост количества заказов. Это может быть связанно с увеличение популярности таксопарка или увеличение количества рейсов в период отпусков."
   ]
  },
  {
   "cell_type": "markdown",
   "id": "6d3a293c",
   "metadata": {},
   "source": [
    "### Создание признаков"
   ]
  },
  {
   "cell_type": "markdown",
   "id": "4b10ec74",
   "metadata": {},
   "source": [
    "Создадим функцию **make_features()**, чтобы прибавить к таблице новые календарные признаки: месяц, день и день недели."
   ]
  },
  {
   "cell_type": "code",
   "execution_count": 15,
   "id": "f157bb45",
   "metadata": {},
   "outputs": [],
   "source": [
    "def make_features(data, max_lag, rolling_mean_size):\n",
    "    data['month'] = data.index.month\n",
    "    data['day'] = data.index.day\n",
    "    data['dayofweek'] = data.index.dayofweek\n",
    "\n",
    "    for lag in range(1, max_lag + 1):\n",
    "        data['lag_{}'.format(lag)] = data['num_orders'].shift(lag)\n",
    "\n",
    "    return data['num_orders'].shift().rolling(rolling_mean_size).mean()\n"
   ]
  },
  {
   "cell_type": "code",
   "execution_count": 16,
   "id": "3de9da0b",
   "metadata": {},
   "outputs": [],
   "source": [
    "taxi['rolling_mean'] = make_features(taxi, 30, 40)"
   ]
  },
  {
   "cell_type": "markdown",
   "id": "c0d97de2",
   "metadata": {},
   "source": [
    "### Разобьем данные на выборки"
   ]
  },
  {
   "cell_type": "markdown",
   "id": "08d3d336",
   "metadata": {},
   "source": [
    "Разделим исходные данные на обучающую и тестовую выборки."
   ]
  },
  {
   "cell_type": "code",
   "execution_count": 17,
   "id": "bc8f0689",
   "metadata": {
    "scrolled": true
   },
   "outputs": [
    {
     "name": "stdout",
     "output_type": "stream",
     "text": [
      "Размер обучающей выборки: (3934, 35)\n",
      "Размер тестовой выборки: (442, 35)\n"
     ]
    }
   ],
   "source": [
    "train, test = train_test_split(taxi, shuffle=False, test_size = 0.1)\n",
    "train = train.dropna()\n",
    "\n",
    "print('Размер обучающей выборки:', train.shape)\n",
    "print('Размер тестовой выборки:', test.shape)"
   ]
  },
  {
   "cell_type": "markdown",
   "id": "78eb1ba8",
   "metadata": {},
   "source": [
    "В выборке выделим признаки и целевой признак"
   ]
  },
  {
   "cell_type": "code",
   "execution_count": 18,
   "id": "67ca43f7",
   "metadata": {},
   "outputs": [],
   "source": [
    "features_train = train.drop('num_orders', axis=1)\n",
    "target_train = train['num_orders']\n",
    "features_test = test.drop('num_orders', axis=1)\n",
    "target_test = test['num_orders']"
   ]
  },
  {
   "cell_type": "markdown",
   "id": "d2e32203",
   "metadata": {},
   "source": [
    "## Обучение"
   ]
  },
  {
   "cell_type": "code",
   "execution_count": 19,
   "id": "851f42dc",
   "metadata": {},
   "outputs": [],
   "source": [
    "best_model = pd.DataFrame({'Model': [], 'RMSE': []}) "
   ]
  },
  {
   "cell_type": "markdown",
   "id": "df51b36d",
   "metadata": {},
   "source": [
    "### Дерево решений"
   ]
  },
  {
   "cell_type": "code",
   "execution_count": 20,
   "id": "cf319212",
   "metadata": {
    "scrolled": false
   },
   "outputs": [
    {
     "name": "stdout",
     "output_type": "stream",
     "text": [
      "Fitting 10 folds for each of 19 candidates, totalling 190 fits\n",
      "\n",
      "Лучшая модель дерева решений:\n",
      "DecisionTreeRegressor(max_depth=4, random_state=12345)   RMSE: 30.240808751020815\n",
      "\n",
      "34.47 for {'criterion': 'squared_error', 'max_depth': 1, 'random_state': 12345}\n",
      "31.76 for {'criterion': 'squared_error', 'max_depth': 2, 'random_state': 12345}\n",
      "30.72 for {'criterion': 'squared_error', 'max_depth': 3, 'random_state': 12345}\n",
      "30.24 for {'criterion': 'squared_error', 'max_depth': 4, 'random_state': 12345}\n",
      "30.31 for {'criterion': 'squared_error', 'max_depth': 5, 'random_state': 12345}\n",
      "30.81 for {'criterion': 'squared_error', 'max_depth': 6, 'random_state': 12345}\n",
      "31.24 for {'criterion': 'squared_error', 'max_depth': 7, 'random_state': 12345}\n",
      "32.03 for {'criterion': 'squared_error', 'max_depth': 8, 'random_state': 12345}\n",
      "33.72 for {'criterion': 'squared_error', 'max_depth': 9, 'random_state': 12345}\n",
      "34.03 for {'criterion': 'squared_error', 'max_depth': 10, 'random_state': 12345}\n",
      "34.79 for {'criterion': 'squared_error', 'max_depth': 11, 'random_state': 12345}\n",
      "35.97 for {'criterion': 'squared_error', 'max_depth': 12, 'random_state': 12345}\n",
      "35.91 for {'criterion': 'squared_error', 'max_depth': 13, 'random_state': 12345}\n",
      "35.89 for {'criterion': 'squared_error', 'max_depth': 14, 'random_state': 12345}\n",
      "36.88 for {'criterion': 'squared_error', 'max_depth': 15, 'random_state': 12345}\n",
      "36.14 for {'criterion': 'squared_error', 'max_depth': 16, 'random_state': 12345}\n",
      "35.91 for {'criterion': 'squared_error', 'max_depth': 17, 'random_state': 12345}\n",
      "37.05 for {'criterion': 'squared_error', 'max_depth': 18, 'random_state': 12345}\n",
      "36.75 for {'criterion': 'squared_error', 'max_depth': 19, 'random_state': 12345}\n",
      "\n",
      "CPU times: total: 7.36 s\n",
      "Wall time: 7.43 s\n"
     ]
    }
   ],
   "source": [
    "%%time\n",
    "\n",
    "tscv = TimeSeriesSplit(n_splits=10)\n",
    "regressor = DecisionTreeRegressor() \n",
    "max_depth_list = [x for x in range(1, 20)]\n",
    "hyperparams = [{'criterion':['squared_error'], 'max_depth':max_depth_list, 'random_state':[12345]}]\n",
    "\n",
    "cv = GridSearchCV(regressor, hyperparams, cv = tscv, verbose=1, scoring='neg_mean_squared_error')\n",
    "cv.fit(features_train,target_train)\n",
    "\n",
    "best_factor_dt = cv.best_estimator_\n",
    "\n",
    "print()\n",
    "print('Лучшая модель дерева решений:')\n",
    "print(best_factor_dt, '  RMSE:', (cv.best_score_*-1)** 0.5)\n",
    "print()\n",
    "means = cv.cv_results_['mean_test_score']\n",
    "for mean, params in zip(means, cv.cv_results_['params']):\n",
    "    print(\"%0.2f for %s\"% ((mean*-1)** 0.5, params))\n",
    "print()\n",
    "\n",
    "best_model = best_model.append({'Model': best_factor_dt, 'RMSE': (cv.best_score_*-1)** 0.5}, ignore_index=True)"
   ]
  },
  {
   "cell_type": "markdown",
   "id": "4aa49400",
   "metadata": {},
   "source": [
    "### Случайный лес"
   ]
  },
  {
   "cell_type": "code",
   "execution_count": 21,
   "id": "a92d9156",
   "metadata": {
    "scrolled": false
   },
   "outputs": [
    {
     "name": "stdout",
     "output_type": "stream",
     "text": [
      "Fitting 10 folds for each of 100 candidates, totalling 1000 fits\n",
      "\n",
      "Лучшая модель дерева решений:\n",
      "RandomForestRegressor(max_depth=10, n_estimators=91, random_state=12345)   RMSE: 25.30808002980388\n",
      "\n",
      "34.61 for {'criterion': 'squared_error', 'max_depth': 1, 'n_estimators': 1, 'random_state': 12345}\n",
      "33.72 for {'criterion': 'squared_error', 'max_depth': 1, 'n_estimators': 11, 'random_state': 12345}\n",
      "33.75 for {'criterion': 'squared_error', 'max_depth': 1, 'n_estimators': 21, 'random_state': 12345}\n",
      "33.78 for {'criterion': 'squared_error', 'max_depth': 1, 'n_estimators': 31, 'random_state': 12345}\n",
      "33.81 for {'criterion': 'squared_error', 'max_depth': 1, 'n_estimators': 41, 'random_state': 12345}\n",
      "33.82 for {'criterion': 'squared_error', 'max_depth': 1, 'n_estimators': 51, 'random_state': 12345}\n",
      "33.83 for {'criterion': 'squared_error', 'max_depth': 1, 'n_estimators': 61, 'random_state': 12345}\n",
      "33.85 for {'criterion': 'squared_error', 'max_depth': 1, 'n_estimators': 71, 'random_state': 12345}\n",
      "33.84 for {'criterion': 'squared_error', 'max_depth': 1, 'n_estimators': 81, 'random_state': 12345}\n",
      "33.84 for {'criterion': 'squared_error', 'max_depth': 1, 'n_estimators': 91, 'random_state': 12345}\n",
      "31.30 for {'criterion': 'squared_error', 'max_depth': 2, 'n_estimators': 1, 'random_state': 12345}\n",
      "30.61 for {'criterion': 'squared_error', 'max_depth': 2, 'n_estimators': 11, 'random_state': 12345}\n",
      "30.53 for {'criterion': 'squared_error', 'max_depth': 2, 'n_estimators': 21, 'random_state': 12345}\n",
      "30.54 for {'criterion': 'squared_error', 'max_depth': 2, 'n_estimators': 31, 'random_state': 12345}\n",
      "30.56 for {'criterion': 'squared_error', 'max_depth': 2, 'n_estimators': 41, 'random_state': 12345}\n",
      "30.59 for {'criterion': 'squared_error', 'max_depth': 2, 'n_estimators': 51, 'random_state': 12345}\n",
      "30.59 for {'criterion': 'squared_error', 'max_depth': 2, 'n_estimators': 61, 'random_state': 12345}\n",
      "30.57 for {'criterion': 'squared_error', 'max_depth': 2, 'n_estimators': 71, 'random_state': 12345}\n",
      "30.56 for {'criterion': 'squared_error', 'max_depth': 2, 'n_estimators': 81, 'random_state': 12345}\n",
      "30.57 for {'criterion': 'squared_error', 'max_depth': 2, 'n_estimators': 91, 'random_state': 12345}\n",
      "31.15 for {'criterion': 'squared_error', 'max_depth': 3, 'n_estimators': 1, 'random_state': 12345}\n",
      "29.12 for {'criterion': 'squared_error', 'max_depth': 3, 'n_estimators': 11, 'random_state': 12345}\n",
      "29.03 for {'criterion': 'squared_error', 'max_depth': 3, 'n_estimators': 21, 'random_state': 12345}\n",
      "28.96 for {'criterion': 'squared_error', 'max_depth': 3, 'n_estimators': 31, 'random_state': 12345}\n",
      "28.97 for {'criterion': 'squared_error', 'max_depth': 3, 'n_estimators': 41, 'random_state': 12345}\n",
      "28.98 for {'criterion': 'squared_error', 'max_depth': 3, 'n_estimators': 51, 'random_state': 12345}\n",
      "28.93 for {'criterion': 'squared_error', 'max_depth': 3, 'n_estimators': 61, 'random_state': 12345}\n",
      "28.91 for {'criterion': 'squared_error', 'max_depth': 3, 'n_estimators': 71, 'random_state': 12345}\n",
      "28.90 for {'criterion': 'squared_error', 'max_depth': 3, 'n_estimators': 81, 'random_state': 12345}\n",
      "28.91 for {'criterion': 'squared_error', 'max_depth': 3, 'n_estimators': 91, 'random_state': 12345}\n",
      "30.48 for {'criterion': 'squared_error', 'max_depth': 4, 'n_estimators': 1, 'random_state': 12345}\n",
      "28.08 for {'criterion': 'squared_error', 'max_depth': 4, 'n_estimators': 11, 'random_state': 12345}\n",
      "27.90 for {'criterion': 'squared_error', 'max_depth': 4, 'n_estimators': 21, 'random_state': 12345}\n",
      "27.86 for {'criterion': 'squared_error', 'max_depth': 4, 'n_estimators': 31, 'random_state': 12345}\n",
      "27.87 for {'criterion': 'squared_error', 'max_depth': 4, 'n_estimators': 41, 'random_state': 12345}\n",
      "27.90 for {'criterion': 'squared_error', 'max_depth': 4, 'n_estimators': 51, 'random_state': 12345}\n",
      "27.89 for {'criterion': 'squared_error', 'max_depth': 4, 'n_estimators': 61, 'random_state': 12345}\n",
      "27.89 for {'criterion': 'squared_error', 'max_depth': 4, 'n_estimators': 71, 'random_state': 12345}\n",
      "27.88 for {'criterion': 'squared_error', 'max_depth': 4, 'n_estimators': 81, 'random_state': 12345}\n",
      "27.89 for {'criterion': 'squared_error', 'max_depth': 4, 'n_estimators': 91, 'random_state': 12345}\n",
      "30.77 for {'criterion': 'squared_error', 'max_depth': 5, 'n_estimators': 1, 'random_state': 12345}\n",
      "27.40 for {'criterion': 'squared_error', 'max_depth': 5, 'n_estimators': 11, 'random_state': 12345}\n",
      "27.15 for {'criterion': 'squared_error', 'max_depth': 5, 'n_estimators': 21, 'random_state': 12345}\n",
      "27.09 for {'criterion': 'squared_error', 'max_depth': 5, 'n_estimators': 31, 'random_state': 12345}\n",
      "27.07 for {'criterion': 'squared_error', 'max_depth': 5, 'n_estimators': 41, 'random_state': 12345}\n",
      "27.09 for {'criterion': 'squared_error', 'max_depth': 5, 'n_estimators': 51, 'random_state': 12345}\n",
      "27.07 for {'criterion': 'squared_error', 'max_depth': 5, 'n_estimators': 61, 'random_state': 12345}\n",
      "27.06 for {'criterion': 'squared_error', 'max_depth': 5, 'n_estimators': 71, 'random_state': 12345}\n",
      "27.04 for {'criterion': 'squared_error', 'max_depth': 5, 'n_estimators': 81, 'random_state': 12345}\n",
      "27.06 for {'criterion': 'squared_error', 'max_depth': 5, 'n_estimators': 91, 'random_state': 12345}\n",
      "31.89 for {'criterion': 'squared_error', 'max_depth': 6, 'n_estimators': 1, 'random_state': 12345}\n",
      "26.89 for {'criterion': 'squared_error', 'max_depth': 6, 'n_estimators': 11, 'random_state': 12345}\n",
      "26.57 for {'criterion': 'squared_error', 'max_depth': 6, 'n_estimators': 21, 'random_state': 12345}\n",
      "26.55 for {'criterion': 'squared_error', 'max_depth': 6, 'n_estimators': 31, 'random_state': 12345}\n",
      "26.54 for {'criterion': 'squared_error', 'max_depth': 6, 'n_estimators': 41, 'random_state': 12345}\n",
      "26.52 for {'criterion': 'squared_error', 'max_depth': 6, 'n_estimators': 51, 'random_state': 12345}\n",
      "26.49 for {'criterion': 'squared_error', 'max_depth': 6, 'n_estimators': 61, 'random_state': 12345}\n",
      "26.46 for {'criterion': 'squared_error', 'max_depth': 6, 'n_estimators': 71, 'random_state': 12345}\n",
      "26.45 for {'criterion': 'squared_error', 'max_depth': 6, 'n_estimators': 81, 'random_state': 12345}\n",
      "26.44 for {'criterion': 'squared_error', 'max_depth': 6, 'n_estimators': 91, 'random_state': 12345}\n",
      "32.91 for {'criterion': 'squared_error', 'max_depth': 7, 'n_estimators': 1, 'random_state': 12345}\n",
      "26.49 for {'criterion': 'squared_error', 'max_depth': 7, 'n_estimators': 11, 'random_state': 12345}\n",
      "26.17 for {'criterion': 'squared_error', 'max_depth': 7, 'n_estimators': 21, 'random_state': 12345}\n",
      "26.08 for {'criterion': 'squared_error', 'max_depth': 7, 'n_estimators': 31, 'random_state': 12345}\n",
      "26.08 for {'criterion': 'squared_error', 'max_depth': 7, 'n_estimators': 41, 'random_state': 12345}\n",
      "26.06 for {'criterion': 'squared_error', 'max_depth': 7, 'n_estimators': 51, 'random_state': 12345}\n",
      "26.04 for {'criterion': 'squared_error', 'max_depth': 7, 'n_estimators': 61, 'random_state': 12345}\n",
      "26.01 for {'criterion': 'squared_error', 'max_depth': 7, 'n_estimators': 71, 'random_state': 12345}\n",
      "25.99 for {'criterion': 'squared_error', 'max_depth': 7, 'n_estimators': 81, 'random_state': 12345}\n",
      "25.98 for {'criterion': 'squared_error', 'max_depth': 7, 'n_estimators': 91, 'random_state': 12345}\n",
      "33.81 for {'criterion': 'squared_error', 'max_depth': 8, 'n_estimators': 1, 'random_state': 12345}\n",
      "26.41 for {'criterion': 'squared_error', 'max_depth': 8, 'n_estimators': 11, 'random_state': 12345}\n",
      "26.02 for {'criterion': 'squared_error', 'max_depth': 8, 'n_estimators': 21, 'random_state': 12345}\n",
      "25.92 for {'criterion': 'squared_error', 'max_depth': 8, 'n_estimators': 31, 'random_state': 12345}\n",
      "25.87 for {'criterion': 'squared_error', 'max_depth': 8, 'n_estimators': 41, 'random_state': 12345}\n",
      "25.82 for {'criterion': 'squared_error', 'max_depth': 8, 'n_estimators': 51, 'random_state': 12345}\n",
      "25.79 for {'criterion': 'squared_error', 'max_depth': 8, 'n_estimators': 61, 'random_state': 12345}\n",
      "25.73 for {'criterion': 'squared_error', 'max_depth': 8, 'n_estimators': 71, 'random_state': 12345}\n",
      "25.70 for {'criterion': 'squared_error', 'max_depth': 8, 'n_estimators': 81, 'random_state': 12345}\n",
      "25.68 for {'criterion': 'squared_error', 'max_depth': 8, 'n_estimators': 91, 'random_state': 12345}\n",
      "34.66 for {'criterion': 'squared_error', 'max_depth': 9, 'n_estimators': 1, 'random_state': 12345}\n",
      "26.25 for {'criterion': 'squared_error', 'max_depth': 9, 'n_estimators': 11, 'random_state': 12345}\n",
      "25.80 for {'criterion': 'squared_error', 'max_depth': 9, 'n_estimators': 21, 'random_state': 12345}\n",
      "25.68 for {'criterion': 'squared_error', 'max_depth': 9, 'n_estimators': 31, 'random_state': 12345}\n",
      "25.67 for {'criterion': 'squared_error', 'max_depth': 9, 'n_estimators': 41, 'random_state': 12345}\n",
      "25.62 for {'criterion': 'squared_error', 'max_depth': 9, 'n_estimators': 51, 'random_state': 12345}\n",
      "25.57 for {'criterion': 'squared_error', 'max_depth': 9, 'n_estimators': 61, 'random_state': 12345}\n",
      "25.52 for {'criterion': 'squared_error', 'max_depth': 9, 'n_estimators': 71, 'random_state': 12345}\n",
      "25.47 for {'criterion': 'squared_error', 'max_depth': 9, 'n_estimators': 81, 'random_state': 12345}\n",
      "25.46 for {'criterion': 'squared_error', 'max_depth': 9, 'n_estimators': 91, 'random_state': 12345}\n",
      "34.45 for {'criterion': 'squared_error', 'max_depth': 10, 'n_estimators': 1, 'random_state': 12345}\n",
      "26.16 for {'criterion': 'squared_error', 'max_depth': 10, 'n_estimators': 11, 'random_state': 12345}\n",
      "25.76 for {'criterion': 'squared_error', 'max_depth': 10, 'n_estimators': 21, 'random_state': 12345}\n",
      "25.56 for {'criterion': 'squared_error', 'max_depth': 10, 'n_estimators': 31, 'random_state': 12345}\n",
      "25.50 for {'criterion': 'squared_error', 'max_depth': 10, 'n_estimators': 41, 'random_state': 12345}\n",
      "25.45 for {'criterion': 'squared_error', 'max_depth': 10, 'n_estimators': 51, 'random_state': 12345}\n",
      "25.41 for {'criterion': 'squared_error', 'max_depth': 10, 'n_estimators': 61, 'random_state': 12345}\n",
      "25.36 for {'criterion': 'squared_error', 'max_depth': 10, 'n_estimators': 71, 'random_state': 12345}\n",
      "25.32 for {'criterion': 'squared_error', 'max_depth': 10, 'n_estimators': 81, 'random_state': 12345}\n",
      "25.31 for {'criterion': 'squared_error', 'max_depth': 10, 'n_estimators': 91, 'random_state': 12345}\n",
      "\n",
      "CPU times: total: 9min 43s\n",
      "Wall time: 9min 43s\n"
     ]
    }
   ],
   "source": [
    "%%time\n",
    "\n",
    "regressor = RandomForestRegressor() \n",
    "max_depth_list = [x for x in range(1, 11)]\n",
    "max_estimators = [x for x in range(1, 92, 10)] \n",
    "hyperparams = [{'criterion':['squared_error'], 'max_depth':max_depth_list, 'n_estimators':max_estimators, 'random_state':[12345]}]\n",
    "\n",
    "cv = GridSearchCV(regressor, hyperparams, cv = tscv, verbose=1, scoring='neg_mean_squared_error')\n",
    "cv.fit(features_train,target_train)\n",
    "\n",
    "best_factor_rf = cv.best_estimator_\n",
    "\n",
    "print()\n",
    "print('Лучшая модель дерева решений:')\n",
    "print(best_factor_rf, '  RMSE:', (cv.best_score_*-1)** 0.5)\n",
    "print()\n",
    "means = cv.cv_results_['mean_test_score']\n",
    "for mean, params in zip(means, cv.cv_results_['params']):\n",
    "    print(\"%0.2f for %s\"% ((mean*-1)** 0.5, params))\n",
    "print()\n",
    "\n",
    "best_model = best_model.append({'Model': 'RandomForestRegressor()', 'RMSE': (cv.best_score_*-1)** 0.5}, ignore_index=True)"
   ]
  },
  {
   "cell_type": "markdown",
   "id": "0067893a",
   "metadata": {},
   "source": [
    "### CatBoost"
   ]
  },
  {
   "cell_type": "code",
   "execution_count": 22,
   "id": "2b15da95",
   "metadata": {
    "scrolled": false
   },
   "outputs": [
    {
     "name": "stdout",
     "output_type": "stream",
     "text": [
      "Fitting 2 folds for each of 54 candidates, totalling 108 fits\n",
      "\n",
      "Лучшая модель дерева решений:\n",
      "RandomForestRegressor(max_depth=10, n_estimators=91, random_state=12345)   RMSE: 29.03793434233218\n",
      "\n",
      "41.75 for {'iterations': 1, 'max_depth': 1}\n",
      "39.12 for {'iterations': 1, 'max_depth': 2}\n",
      "37.54 for {'iterations': 1, 'max_depth': 3}\n",
      "37.67 for {'iterations': 1, 'max_depth': 4}\n",
      "37.57 for {'iterations': 1, 'max_depth': 5}\n",
      "37.34 for {'iterations': 1, 'max_depth': 6}\n",
      "37.60 for {'iterations': 1, 'max_depth': 7}\n",
      "38.42 for {'iterations': 1, 'max_depth': 8}\n",
      "39.20 for {'iterations': 1, 'max_depth': 9}\n",
      "32.19 for {'iterations': 11, 'max_depth': 1}\n",
      "30.58 for {'iterations': 11, 'max_depth': 2}\n",
      "29.83 for {'iterations': 11, 'max_depth': 3}\n",
      "29.89 for {'iterations': 11, 'max_depth': 4}\n",
      "30.09 for {'iterations': 11, 'max_depth': 5}\n",
      "29.80 for {'iterations': 11, 'max_depth': 6}\n",
      "30.49 for {'iterations': 11, 'max_depth': 7}\n",
      "30.07 for {'iterations': 11, 'max_depth': 8}\n",
      "30.75 for {'iterations': 11, 'max_depth': 9}\n",
      "31.17 for {'iterations': 21, 'max_depth': 1}\n",
      "30.08 for {'iterations': 21, 'max_depth': 2}\n",
      "30.01 for {'iterations': 21, 'max_depth': 3}\n",
      "30.39 for {'iterations': 21, 'max_depth': 4}\n",
      "30.03 for {'iterations': 21, 'max_depth': 5}\n",
      "29.36 for {'iterations': 21, 'max_depth': 6}\n",
      "30.30 for {'iterations': 21, 'max_depth': 7}\n",
      "29.37 for {'iterations': 21, 'max_depth': 8}\n",
      "30.70 for {'iterations': 21, 'max_depth': 9}\n",
      "30.51 for {'iterations': 31, 'max_depth': 1}\n",
      "29.87 for {'iterations': 31, 'max_depth': 2}\n",
      "30.24 for {'iterations': 31, 'max_depth': 3}\n",
      "29.84 for {'iterations': 31, 'max_depth': 4}\n",
      "30.00 for {'iterations': 31, 'max_depth': 5}\n",
      "29.58 for {'iterations': 31, 'max_depth': 6}\n",
      "30.07 for {'iterations': 31, 'max_depth': 7}\n",
      "29.31 for {'iterations': 31, 'max_depth': 8}\n",
      "30.63 for {'iterations': 31, 'max_depth': 9}\n",
      "30.35 for {'iterations': 41, 'max_depth': 1}\n",
      "29.71 for {'iterations': 41, 'max_depth': 2}\n",
      "29.89 for {'iterations': 41, 'max_depth': 3}\n",
      "29.95 for {'iterations': 41, 'max_depth': 4}\n",
      "29.94 for {'iterations': 41, 'max_depth': 5}\n",
      "29.27 for {'iterations': 41, 'max_depth': 6}\n",
      "30.18 for {'iterations': 41, 'max_depth': 7}\n",
      "29.51 for {'iterations': 41, 'max_depth': 8}\n",
      "30.51 for {'iterations': 41, 'max_depth': 9}\n",
      "30.13 for {'iterations': 51, 'max_depth': 1}\n",
      "29.46 for {'iterations': 51, 'max_depth': 2}\n",
      "29.93 for {'iterations': 51, 'max_depth': 3}\n",
      "29.74 for {'iterations': 51, 'max_depth': 4}\n",
      "29.97 for {'iterations': 51, 'max_depth': 5}\n",
      "29.04 for {'iterations': 51, 'max_depth': 6}\n",
      "29.58 for {'iterations': 51, 'max_depth': 7}\n",
      "30.07 for {'iterations': 51, 'max_depth': 8}\n",
      "30.97 for {'iterations': 51, 'max_depth': 9}\n",
      "\n",
      "CPU times: total: 2min 21s\n",
      "Wall time: 1min 2s\n"
     ]
    }
   ],
   "source": [
    "%%time\n",
    "tscv = TimeSeriesSplit(n_splits=2)\n",
    "regressor = CatBoostRegressor() \n",
    "max_iterations_list = [x for x in  range(1, 52, 10)]\n",
    "max_depth_list = [x for x in range (1, 10)]\n",
    "hyperparams = [{'max_depth':max_depth_list, 'iterations':max_iterations_list}]\n",
    "\n",
    "cv = GridSearchCV(regressor, hyperparams, cv = tscv, verbose=1, scoring='neg_mean_squared_error')\n",
    "cv.fit(features_train, target_train, verbose=False)\n",
    "\n",
    "best_factor_cat = cv.best_estimator_\n",
    "print()\n",
    "print('Лучшая модель дерева решений:')\n",
    "print(best_factor_rf, '  RMSE:', (cv.best_score_*-1)** 0.5)\n",
    "print()\n",
    "\n",
    "means = cv.cv_results_['mean_test_score']\n",
    "for mean, params in zip(means, cv.cv_results_['params']):\n",
    "    print(\"%0.2f for %s\"% ((mean*-1)** 0.5, params))\n",
    "print()\n",
    "\n",
    "best_model = best_model.append({'Model': 'CatBoostRegressor()', 'RMSE': (cv.best_score_*-1)** 0.5}, ignore_index=True)"
   ]
  },
  {
   "cell_type": "markdown",
   "id": "79dc93e8",
   "metadata": {},
   "source": [
    "### LGBMRegressor"
   ]
  },
  {
   "cell_type": "code",
   "execution_count": 23,
   "id": "f6d63e40",
   "metadata": {},
   "outputs": [
    {
     "name": "stdout",
     "output_type": "stream",
     "text": [
      "Fitting 2 folds for each of 210 candidates, totalling 420 fits\n",
      "\n",
      "Лучшая модель LGBMRegressor:\n",
      "{'learning_rate': 0.1, 'max_depth': 9, 'n_estimators': 70, 'num_leaves': 21, 'random_state': 12345}   RMSE: 27.329773864172203\n",
      "\n",
      "41.35 for {'learning_rate': 0.03, 'max_depth': 4, 'n_estimators': 10, 'num_leaves': 18, 'random_state': 12345}\n",
      "41.35 for {'learning_rate': 0.03, 'max_depth': 4, 'n_estimators': 10, 'num_leaves': 21, 'random_state': 12345}\n",
      "41.35 for {'learning_rate': 0.03, 'max_depth': 4, 'n_estimators': 10, 'num_leaves': 27, 'random_state': 12345}\n",
      "35.14 for {'learning_rate': 0.03, 'max_depth': 4, 'n_estimators': 30, 'num_leaves': 18, 'random_state': 12345}\n",
      "35.14 for {'learning_rate': 0.03, 'max_depth': 4, 'n_estimators': 30, 'num_leaves': 21, 'random_state': 12345}\n",
      "35.14 for {'learning_rate': 0.03, 'max_depth': 4, 'n_estimators': 30, 'num_leaves': 27, 'random_state': 12345}\n",
      "31.92 for {'learning_rate': 0.03, 'max_depth': 4, 'n_estimators': 50, 'num_leaves': 18, 'random_state': 12345}\n",
      "31.92 for {'learning_rate': 0.03, 'max_depth': 4, 'n_estimators': 50, 'num_leaves': 21, 'random_state': 12345}\n",
      "31.92 for {'learning_rate': 0.03, 'max_depth': 4, 'n_estimators': 50, 'num_leaves': 27, 'random_state': 12345}\n",
      "30.20 for {'learning_rate': 0.03, 'max_depth': 4, 'n_estimators': 70, 'num_leaves': 18, 'random_state': 12345}\n",
      "30.20 for {'learning_rate': 0.03, 'max_depth': 4, 'n_estimators': 70, 'num_leaves': 21, 'random_state': 12345}\n",
      "30.20 for {'learning_rate': 0.03, 'max_depth': 4, 'n_estimators': 70, 'num_leaves': 27, 'random_state': 12345}\n",
      "29.32 for {'learning_rate': 0.03, 'max_depth': 4, 'n_estimators': 90, 'num_leaves': 18, 'random_state': 12345}\n",
      "29.32 for {'learning_rate': 0.03, 'max_depth': 4, 'n_estimators': 90, 'num_leaves': 21, 'random_state': 12345}\n",
      "29.32 for {'learning_rate': 0.03, 'max_depth': 4, 'n_estimators': 90, 'num_leaves': 27, 'random_state': 12345}\n",
      "40.97 for {'learning_rate': 0.03, 'max_depth': 5, 'n_estimators': 10, 'num_leaves': 18, 'random_state': 12345}\n",
      "41.00 for {'learning_rate': 0.03, 'max_depth': 5, 'n_estimators': 10, 'num_leaves': 21, 'random_state': 12345}\n",
      "40.78 for {'learning_rate': 0.03, 'max_depth': 5, 'n_estimators': 10, 'num_leaves': 27, 'random_state': 12345}\n",
      "34.48 for {'learning_rate': 0.03, 'max_depth': 5, 'n_estimators': 30, 'num_leaves': 18, 'random_state': 12345}\n",
      "34.33 for {'learning_rate': 0.03, 'max_depth': 5, 'n_estimators': 30, 'num_leaves': 21, 'random_state': 12345}\n",
      "34.08 for {'learning_rate': 0.03, 'max_depth': 5, 'n_estimators': 30, 'num_leaves': 27, 'random_state': 12345}\n",
      "31.48 for {'learning_rate': 0.03, 'max_depth': 5, 'n_estimators': 50, 'num_leaves': 18, 'random_state': 12345}\n",
      "31.16 for {'learning_rate': 0.03, 'max_depth': 5, 'n_estimators': 50, 'num_leaves': 21, 'random_state': 12345}\n",
      "31.27 for {'learning_rate': 0.03, 'max_depth': 5, 'n_estimators': 50, 'num_leaves': 27, 'random_state': 12345}\n",
      "29.74 for {'learning_rate': 0.03, 'max_depth': 5, 'n_estimators': 70, 'num_leaves': 18, 'random_state': 12345}\n",
      "29.58 for {'learning_rate': 0.03, 'max_depth': 5, 'n_estimators': 70, 'num_leaves': 21, 'random_state': 12345}\n",
      "29.62 for {'learning_rate': 0.03, 'max_depth': 5, 'n_estimators': 70, 'num_leaves': 27, 'random_state': 12345}\n",
      "28.85 for {'learning_rate': 0.03, 'max_depth': 5, 'n_estimators': 90, 'num_leaves': 18, 'random_state': 12345}\n",
      "28.64 for {'learning_rate': 0.03, 'max_depth': 5, 'n_estimators': 90, 'num_leaves': 21, 'random_state': 12345}\n",
      "28.80 for {'learning_rate': 0.03, 'max_depth': 5, 'n_estimators': 90, 'num_leaves': 27, 'random_state': 12345}\n",
      "40.96 for {'learning_rate': 0.03, 'max_depth': 6, 'n_estimators': 10, 'num_leaves': 18, 'random_state': 12345}\n",
      "40.91 for {'learning_rate': 0.03, 'max_depth': 6, 'n_estimators': 10, 'num_leaves': 21, 'random_state': 12345}\n",
      "40.78 for {'learning_rate': 0.03, 'max_depth': 6, 'n_estimators': 10, 'num_leaves': 27, 'random_state': 12345}\n",
      "34.70 for {'learning_rate': 0.03, 'max_depth': 6, 'n_estimators': 30, 'num_leaves': 18, 'random_state': 12345}\n",
      "34.34 for {'learning_rate': 0.03, 'max_depth': 6, 'n_estimators': 30, 'num_leaves': 21, 'random_state': 12345}\n",
      "34.11 for {'learning_rate': 0.03, 'max_depth': 6, 'n_estimators': 30, 'num_leaves': 27, 'random_state': 12345}\n",
      "31.44 for {'learning_rate': 0.03, 'max_depth': 6, 'n_estimators': 50, 'num_leaves': 18, 'random_state': 12345}\n",
      "31.22 for {'learning_rate': 0.03, 'max_depth': 6, 'n_estimators': 50, 'num_leaves': 21, 'random_state': 12345}\n",
      "31.10 for {'learning_rate': 0.03, 'max_depth': 6, 'n_estimators': 50, 'num_leaves': 27, 'random_state': 12345}\n",
      "29.70 for {'learning_rate': 0.03, 'max_depth': 6, 'n_estimators': 70, 'num_leaves': 18, 'random_state': 12345}\n",
      "29.59 for {'learning_rate': 0.03, 'max_depth': 6, 'n_estimators': 70, 'num_leaves': 21, 'random_state': 12345}\n",
      "29.49 for {'learning_rate': 0.03, 'max_depth': 6, 'n_estimators': 70, 'num_leaves': 27, 'random_state': 12345}\n",
      "28.74 for {'learning_rate': 0.03, 'max_depth': 6, 'n_estimators': 90, 'num_leaves': 18, 'random_state': 12345}\n",
      "28.67 for {'learning_rate': 0.03, 'max_depth': 6, 'n_estimators': 90, 'num_leaves': 21, 'random_state': 12345}\n",
      "28.52 for {'learning_rate': 0.03, 'max_depth': 6, 'n_estimators': 90, 'num_leaves': 27, 'random_state': 12345}\n",
      "40.85 for {'learning_rate': 0.03, 'max_depth': 7, 'n_estimators': 10, 'num_leaves': 18, 'random_state': 12345}\n",
      "40.79 for {'learning_rate': 0.03, 'max_depth': 7, 'n_estimators': 10, 'num_leaves': 21, 'random_state': 12345}\n",
      "40.81 for {'learning_rate': 0.03, 'max_depth': 7, 'n_estimators': 10, 'num_leaves': 27, 'random_state': 12345}\n",
      "34.61 for {'learning_rate': 0.03, 'max_depth': 7, 'n_estimators': 30, 'num_leaves': 18, 'random_state': 12345}\n",
      "34.44 for {'learning_rate': 0.03, 'max_depth': 7, 'n_estimators': 30, 'num_leaves': 21, 'random_state': 12345}\n",
      "34.25 for {'learning_rate': 0.03, 'max_depth': 7, 'n_estimators': 30, 'num_leaves': 27, 'random_state': 12345}\n",
      "31.63 for {'learning_rate': 0.03, 'max_depth': 7, 'n_estimators': 50, 'num_leaves': 18, 'random_state': 12345}\n",
      "31.46 for {'learning_rate': 0.03, 'max_depth': 7, 'n_estimators': 50, 'num_leaves': 21, 'random_state': 12345}\n",
      "31.15 for {'learning_rate': 0.03, 'max_depth': 7, 'n_estimators': 50, 'num_leaves': 27, 'random_state': 12345}\n",
      "29.83 for {'learning_rate': 0.03, 'max_depth': 7, 'n_estimators': 70, 'num_leaves': 18, 'random_state': 12345}\n",
      "29.60 for {'learning_rate': 0.03, 'max_depth': 7, 'n_estimators': 70, 'num_leaves': 21, 'random_state': 12345}\n",
      "29.50 for {'learning_rate': 0.03, 'max_depth': 7, 'n_estimators': 70, 'num_leaves': 27, 'random_state': 12345}\n",
      "28.71 for {'learning_rate': 0.03, 'max_depth': 7, 'n_estimators': 90, 'num_leaves': 18, 'random_state': 12345}\n",
      "28.64 for {'learning_rate': 0.03, 'max_depth': 7, 'n_estimators': 90, 'num_leaves': 21, 'random_state': 12345}\n",
      "28.53 for {'learning_rate': 0.03, 'max_depth': 7, 'n_estimators': 90, 'num_leaves': 27, 'random_state': 12345}\n",
      "40.84 for {'learning_rate': 0.03, 'max_depth': 8, 'n_estimators': 10, 'num_leaves': 18, 'random_state': 12345}\n",
      "40.77 for {'learning_rate': 0.03, 'max_depth': 8, 'n_estimators': 10, 'num_leaves': 21, 'random_state': 12345}\n",
      "40.80 for {'learning_rate': 0.03, 'max_depth': 8, 'n_estimators': 10, 'num_leaves': 27, 'random_state': 12345}\n",
      "34.60 for {'learning_rate': 0.03, 'max_depth': 8, 'n_estimators': 30, 'num_leaves': 18, 'random_state': 12345}\n",
      "34.40 for {'learning_rate': 0.03, 'max_depth': 8, 'n_estimators': 30, 'num_leaves': 21, 'random_state': 12345}\n",
      "34.23 for {'learning_rate': 0.03, 'max_depth': 8, 'n_estimators': 30, 'num_leaves': 27, 'random_state': 12345}\n",
      "31.62 for {'learning_rate': 0.03, 'max_depth': 8, 'n_estimators': 50, 'num_leaves': 18, 'random_state': 12345}\n",
      "31.33 for {'learning_rate': 0.03, 'max_depth': 8, 'n_estimators': 50, 'num_leaves': 21, 'random_state': 12345}\n",
      "31.24 for {'learning_rate': 0.03, 'max_depth': 8, 'n_estimators': 50, 'num_leaves': 27, 'random_state': 12345}\n",
      "29.82 for {'learning_rate': 0.03, 'max_depth': 8, 'n_estimators': 70, 'num_leaves': 18, 'random_state': 12345}\n",
      "29.52 for {'learning_rate': 0.03, 'max_depth': 8, 'n_estimators': 70, 'num_leaves': 21, 'random_state': 12345}\n",
      "29.51 for {'learning_rate': 0.03, 'max_depth': 8, 'n_estimators': 70, 'num_leaves': 27, 'random_state': 12345}\n",
      "28.73 for {'learning_rate': 0.03, 'max_depth': 8, 'n_estimators': 90, 'num_leaves': 18, 'random_state': 12345}\n",
      "28.42 for {'learning_rate': 0.03, 'max_depth': 8, 'n_estimators': 90, 'num_leaves': 21, 'random_state': 12345}\n",
      "28.49 for {'learning_rate': 0.03, 'max_depth': 8, 'n_estimators': 90, 'num_leaves': 27, 'random_state': 12345}\n",
      "40.84 for {'learning_rate': 0.03, 'max_depth': 9, 'n_estimators': 10, 'num_leaves': 18, 'random_state': 12345}\n",
      "40.77 for {'learning_rate': 0.03, 'max_depth': 9, 'n_estimators': 10, 'num_leaves': 21, 'random_state': 12345}\n",
      "40.78 for {'learning_rate': 0.03, 'max_depth': 9, 'n_estimators': 10, 'num_leaves': 27, 'random_state': 12345}\n",
      "34.59 for {'learning_rate': 0.03, 'max_depth': 9, 'n_estimators': 30, 'num_leaves': 18, 'random_state': 12345}\n",
      "34.38 for {'learning_rate': 0.03, 'max_depth': 9, 'n_estimators': 30, 'num_leaves': 21, 'random_state': 12345}\n",
      "34.19 for {'learning_rate': 0.03, 'max_depth': 9, 'n_estimators': 30, 'num_leaves': 27, 'random_state': 12345}\n",
      "31.67 for {'learning_rate': 0.03, 'max_depth': 9, 'n_estimators': 50, 'num_leaves': 18, 'random_state': 12345}\n",
      "31.34 for {'learning_rate': 0.03, 'max_depth': 9, 'n_estimators': 50, 'num_leaves': 21, 'random_state': 12345}\n",
      "31.19 for {'learning_rate': 0.03, 'max_depth': 9, 'n_estimators': 50, 'num_leaves': 27, 'random_state': 12345}\n",
      "29.75 for {'learning_rate': 0.03, 'max_depth': 9, 'n_estimators': 70, 'num_leaves': 18, 'random_state': 12345}\n",
      "29.50 for {'learning_rate': 0.03, 'max_depth': 9, 'n_estimators': 70, 'num_leaves': 21, 'random_state': 12345}\n",
      "29.48 for {'learning_rate': 0.03, 'max_depth': 9, 'n_estimators': 70, 'num_leaves': 27, 'random_state': 12345}\n",
      "28.73 for {'learning_rate': 0.03, 'max_depth': 9, 'n_estimators': 90, 'num_leaves': 18, 'random_state': 12345}\n",
      "28.45 for {'learning_rate': 0.03, 'max_depth': 9, 'n_estimators': 90, 'num_leaves': 21, 'random_state': 12345}\n",
      "28.59 for {'learning_rate': 0.03, 'max_depth': 9, 'n_estimators': 90, 'num_leaves': 27, 'random_state': 12345}\n",
      "40.84 for {'learning_rate': 0.03, 'max_depth': 10, 'n_estimators': 10, 'num_leaves': 18, 'random_state': 12345}\n",
      "40.77 for {'learning_rate': 0.03, 'max_depth': 10, 'n_estimators': 10, 'num_leaves': 21, 'random_state': 12345}\n",
      "40.78 for {'learning_rate': 0.03, 'max_depth': 10, 'n_estimators': 10, 'num_leaves': 27, 'random_state': 12345}\n",
      "34.59 for {'learning_rate': 0.03, 'max_depth': 10, 'n_estimators': 30, 'num_leaves': 18, 'random_state': 12345}\n",
      "34.37 for {'learning_rate': 0.03, 'max_depth': 10, 'n_estimators': 30, 'num_leaves': 21, 'random_state': 12345}\n",
      "34.24 for {'learning_rate': 0.03, 'max_depth': 10, 'n_estimators': 30, 'num_leaves': 27, 'random_state': 12345}\n",
      "31.69 for {'learning_rate': 0.03, 'max_depth': 10, 'n_estimators': 50, 'num_leaves': 18, 'random_state': 12345}\n",
      "31.36 for {'learning_rate': 0.03, 'max_depth': 10, 'n_estimators': 50, 'num_leaves': 21, 'random_state': 12345}\n",
      "31.27 for {'learning_rate': 0.03, 'max_depth': 10, 'n_estimators': 50, 'num_leaves': 27, 'random_state': 12345}\n",
      "29.79 for {'learning_rate': 0.03, 'max_depth': 10, 'n_estimators': 70, 'num_leaves': 18, 'random_state': 12345}\n",
      "29.54 for {'learning_rate': 0.03, 'max_depth': 10, 'n_estimators': 70, 'num_leaves': 21, 'random_state': 12345}\n",
      "29.47 for {'learning_rate': 0.03, 'max_depth': 10, 'n_estimators': 70, 'num_leaves': 27, 'random_state': 12345}\n",
      "28.67 for {'learning_rate': 0.03, 'max_depth': 10, 'n_estimators': 90, 'num_leaves': 18, 'random_state': 12345}\n",
      "28.47 for {'learning_rate': 0.03, 'max_depth': 10, 'n_estimators': 90, 'num_leaves': 21, 'random_state': 12345}\n",
      "28.56 for {'learning_rate': 0.03, 'max_depth': 10, 'n_estimators': 90, 'num_leaves': 27, 'random_state': 12345}\n",
      "34.13 for {'learning_rate': 0.1, 'max_depth': 4, 'n_estimators': 10, 'num_leaves': 18, 'random_state': 12345}\n",
      "34.13 for {'learning_rate': 0.1, 'max_depth': 4, 'n_estimators': 10, 'num_leaves': 21, 'random_state': 12345}\n",
      "34.13 for {'learning_rate': 0.1, 'max_depth': 4, 'n_estimators': 10, 'num_leaves': 27, 'random_state': 12345}\n",
      "28.68 for {'learning_rate': 0.1, 'max_depth': 4, 'n_estimators': 30, 'num_leaves': 18, 'random_state': 12345}\n",
      "28.68 for {'learning_rate': 0.1, 'max_depth': 4, 'n_estimators': 30, 'num_leaves': 21, 'random_state': 12345}\n",
      "28.68 for {'learning_rate': 0.1, 'max_depth': 4, 'n_estimators': 30, 'num_leaves': 27, 'random_state': 12345}\n",
      "28.08 for {'learning_rate': 0.1, 'max_depth': 4, 'n_estimators': 50, 'num_leaves': 18, 'random_state': 12345}\n",
      "28.08 for {'learning_rate': 0.1, 'max_depth': 4, 'n_estimators': 50, 'num_leaves': 21, 'random_state': 12345}\n",
      "28.08 for {'learning_rate': 0.1, 'max_depth': 4, 'n_estimators': 50, 'num_leaves': 27, 'random_state': 12345}\n",
      "27.82 for {'learning_rate': 0.1, 'max_depth': 4, 'n_estimators': 70, 'num_leaves': 18, 'random_state': 12345}\n",
      "27.82 for {'learning_rate': 0.1, 'max_depth': 4, 'n_estimators': 70, 'num_leaves': 21, 'random_state': 12345}\n",
      "27.82 for {'learning_rate': 0.1, 'max_depth': 4, 'n_estimators': 70, 'num_leaves': 27, 'random_state': 12345}\n",
      "27.71 for {'learning_rate': 0.1, 'max_depth': 4, 'n_estimators': 90, 'num_leaves': 18, 'random_state': 12345}\n",
      "27.71 for {'learning_rate': 0.1, 'max_depth': 4, 'n_estimators': 90, 'num_leaves': 21, 'random_state': 12345}\n",
      "27.71 for {'learning_rate': 0.1, 'max_depth': 4, 'n_estimators': 90, 'num_leaves': 27, 'random_state': 12345}\n",
      "33.50 for {'learning_rate': 0.1, 'max_depth': 5, 'n_estimators': 10, 'num_leaves': 18, 'random_state': 12345}\n",
      "33.71 for {'learning_rate': 0.1, 'max_depth': 5, 'n_estimators': 10, 'num_leaves': 21, 'random_state': 12345}\n",
      "33.33 for {'learning_rate': 0.1, 'max_depth': 5, 'n_estimators': 10, 'num_leaves': 27, 'random_state': 12345}\n",
      "28.71 for {'learning_rate': 0.1, 'max_depth': 5, 'n_estimators': 30, 'num_leaves': 18, 'random_state': 12345}\n",
      "28.75 for {'learning_rate': 0.1, 'max_depth': 5, 'n_estimators': 30, 'num_leaves': 21, 'random_state': 12345}\n",
      "28.77 for {'learning_rate': 0.1, 'max_depth': 5, 'n_estimators': 30, 'num_leaves': 27, 'random_state': 12345}\n",
      "28.07 for {'learning_rate': 0.1, 'max_depth': 5, 'n_estimators': 50, 'num_leaves': 18, 'random_state': 12345}\n",
      "28.31 for {'learning_rate': 0.1, 'max_depth': 5, 'n_estimators': 50, 'num_leaves': 21, 'random_state': 12345}\n",
      "28.35 for {'learning_rate': 0.1, 'max_depth': 5, 'n_estimators': 50, 'num_leaves': 27, 'random_state': 12345}\n",
      "28.03 for {'learning_rate': 0.1, 'max_depth': 5, 'n_estimators': 70, 'num_leaves': 18, 'random_state': 12345}\n",
      "28.23 for {'learning_rate': 0.1, 'max_depth': 5, 'n_estimators': 70, 'num_leaves': 21, 'random_state': 12345}\n",
      "28.58 for {'learning_rate': 0.1, 'max_depth': 5, 'n_estimators': 70, 'num_leaves': 27, 'random_state': 12345}\n",
      "28.08 for {'learning_rate': 0.1, 'max_depth': 5, 'n_estimators': 90, 'num_leaves': 18, 'random_state': 12345}\n",
      "28.31 for {'learning_rate': 0.1, 'max_depth': 5, 'n_estimators': 90, 'num_leaves': 21, 'random_state': 12345}\n",
      "28.45 for {'learning_rate': 0.1, 'max_depth': 5, 'n_estimators': 90, 'num_leaves': 27, 'random_state': 12345}\n",
      "33.77 for {'learning_rate': 0.1, 'max_depth': 6, 'n_estimators': 10, 'num_leaves': 18, 'random_state': 12345}\n",
      "33.42 for {'learning_rate': 0.1, 'max_depth': 6, 'n_estimators': 10, 'num_leaves': 21, 'random_state': 12345}\n",
      "33.43 for {'learning_rate': 0.1, 'max_depth': 6, 'n_estimators': 10, 'num_leaves': 27, 'random_state': 12345}\n",
      "28.66 for {'learning_rate': 0.1, 'max_depth': 6, 'n_estimators': 30, 'num_leaves': 18, 'random_state': 12345}\n",
      "28.29 for {'learning_rate': 0.1, 'max_depth': 6, 'n_estimators': 30, 'num_leaves': 21, 'random_state': 12345}\n",
      "28.14 for {'learning_rate': 0.1, 'max_depth': 6, 'n_estimators': 30, 'num_leaves': 27, 'random_state': 12345}\n",
      "28.31 for {'learning_rate': 0.1, 'max_depth': 6, 'n_estimators': 50, 'num_leaves': 18, 'random_state': 12345}\n",
      "27.75 for {'learning_rate': 0.1, 'max_depth': 6, 'n_estimators': 50, 'num_leaves': 21, 'random_state': 12345}\n",
      "27.64 for {'learning_rate': 0.1, 'max_depth': 6, 'n_estimators': 50, 'num_leaves': 27, 'random_state': 12345}\n",
      "28.30 for {'learning_rate': 0.1, 'max_depth': 6, 'n_estimators': 70, 'num_leaves': 18, 'random_state': 12345}\n",
      "27.80 for {'learning_rate': 0.1, 'max_depth': 6, 'n_estimators': 70, 'num_leaves': 21, 'random_state': 12345}\n",
      "27.67 for {'learning_rate': 0.1, 'max_depth': 6, 'n_estimators': 70, 'num_leaves': 27, 'random_state': 12345}\n",
      "28.19 for {'learning_rate': 0.1, 'max_depth': 6, 'n_estimators': 90, 'num_leaves': 18, 'random_state': 12345}\n",
      "27.81 for {'learning_rate': 0.1, 'max_depth': 6, 'n_estimators': 90, 'num_leaves': 21, 'random_state': 12345}\n",
      "27.63 for {'learning_rate': 0.1, 'max_depth': 6, 'n_estimators': 90, 'num_leaves': 27, 'random_state': 12345}\n",
      "33.77 for {'learning_rate': 0.1, 'max_depth': 7, 'n_estimators': 10, 'num_leaves': 18, 'random_state': 12345}\n",
      "33.81 for {'learning_rate': 0.1, 'max_depth': 7, 'n_estimators': 10, 'num_leaves': 21, 'random_state': 12345}\n",
      "33.53 for {'learning_rate': 0.1, 'max_depth': 7, 'n_estimators': 10, 'num_leaves': 27, 'random_state': 12345}\n",
      "28.45 for {'learning_rate': 0.1, 'max_depth': 7, 'n_estimators': 30, 'num_leaves': 18, 'random_state': 12345}\n",
      "28.22 for {'learning_rate': 0.1, 'max_depth': 7, 'n_estimators': 30, 'num_leaves': 21, 'random_state': 12345}\n",
      "28.44 for {'learning_rate': 0.1, 'max_depth': 7, 'n_estimators': 30, 'num_leaves': 27, 'random_state': 12345}\n",
      "27.78 for {'learning_rate': 0.1, 'max_depth': 7, 'n_estimators': 50, 'num_leaves': 18, 'random_state': 12345}\n",
      "27.66 for {'learning_rate': 0.1, 'max_depth': 7, 'n_estimators': 50, 'num_leaves': 21, 'random_state': 12345}\n",
      "27.89 for {'learning_rate': 0.1, 'max_depth': 7, 'n_estimators': 50, 'num_leaves': 27, 'random_state': 12345}\n",
      "27.61 for {'learning_rate': 0.1, 'max_depth': 7, 'n_estimators': 70, 'num_leaves': 18, 'random_state': 12345}\n",
      "27.76 for {'learning_rate': 0.1, 'max_depth': 7, 'n_estimators': 70, 'num_leaves': 21, 'random_state': 12345}\n",
      "28.06 for {'learning_rate': 0.1, 'max_depth': 7, 'n_estimators': 70, 'num_leaves': 27, 'random_state': 12345}\n",
      "27.51 for {'learning_rate': 0.1, 'max_depth': 7, 'n_estimators': 90, 'num_leaves': 18, 'random_state': 12345}\n",
      "27.79 for {'learning_rate': 0.1, 'max_depth': 7, 'n_estimators': 90, 'num_leaves': 21, 'random_state': 12345}\n",
      "28.12 for {'learning_rate': 0.1, 'max_depth': 7, 'n_estimators': 90, 'num_leaves': 27, 'random_state': 12345}\n",
      "33.52 for {'learning_rate': 0.1, 'max_depth': 8, 'n_estimators': 10, 'num_leaves': 18, 'random_state': 12345}\n",
      "33.41 for {'learning_rate': 0.1, 'max_depth': 8, 'n_estimators': 10, 'num_leaves': 21, 'random_state': 12345}\n",
      "33.24 for {'learning_rate': 0.1, 'max_depth': 8, 'n_estimators': 10, 'num_leaves': 27, 'random_state': 12345}\n",
      "28.32 for {'learning_rate': 0.1, 'max_depth': 8, 'n_estimators': 30, 'num_leaves': 18, 'random_state': 12345}\n",
      "28.18 for {'learning_rate': 0.1, 'max_depth': 8, 'n_estimators': 30, 'num_leaves': 21, 'random_state': 12345}\n",
      "28.24 for {'learning_rate': 0.1, 'max_depth': 8, 'n_estimators': 30, 'num_leaves': 27, 'random_state': 12345}\n",
      "27.99 for {'learning_rate': 0.1, 'max_depth': 8, 'n_estimators': 50, 'num_leaves': 18, 'random_state': 12345}\n",
      "27.47 for {'learning_rate': 0.1, 'max_depth': 8, 'n_estimators': 50, 'num_leaves': 21, 'random_state': 12345}\n",
      "27.72 for {'learning_rate': 0.1, 'max_depth': 8, 'n_estimators': 50, 'num_leaves': 27, 'random_state': 12345}\n",
      "27.91 for {'learning_rate': 0.1, 'max_depth': 8, 'n_estimators': 70, 'num_leaves': 18, 'random_state': 12345}\n",
      "27.48 for {'learning_rate': 0.1, 'max_depth': 8, 'n_estimators': 70, 'num_leaves': 21, 'random_state': 12345}\n",
      "27.67 for {'learning_rate': 0.1, 'max_depth': 8, 'n_estimators': 70, 'num_leaves': 27, 'random_state': 12345}\n",
      "28.04 for {'learning_rate': 0.1, 'max_depth': 8, 'n_estimators': 90, 'num_leaves': 18, 'random_state': 12345}\n",
      "27.55 for {'learning_rate': 0.1, 'max_depth': 8, 'n_estimators': 90, 'num_leaves': 21, 'random_state': 12345}\n",
      "27.77 for {'learning_rate': 0.1, 'max_depth': 8, 'n_estimators': 90, 'num_leaves': 27, 'random_state': 12345}\n",
      "33.52 for {'learning_rate': 0.1, 'max_depth': 9, 'n_estimators': 10, 'num_leaves': 18, 'random_state': 12345}\n",
      "33.41 for {'learning_rate': 0.1, 'max_depth': 9, 'n_estimators': 10, 'num_leaves': 21, 'random_state': 12345}\n",
      "33.31 for {'learning_rate': 0.1, 'max_depth': 9, 'n_estimators': 10, 'num_leaves': 27, 'random_state': 12345}\n",
      "28.34 for {'learning_rate': 0.1, 'max_depth': 9, 'n_estimators': 30, 'num_leaves': 18, 'random_state': 12345}\n",
      "28.10 for {'learning_rate': 0.1, 'max_depth': 9, 'n_estimators': 30, 'num_leaves': 21, 'random_state': 12345}\n",
      "28.50 for {'learning_rate': 0.1, 'max_depth': 9, 'n_estimators': 30, 'num_leaves': 27, 'random_state': 12345}\n",
      "27.87 for {'learning_rate': 0.1, 'max_depth': 9, 'n_estimators': 50, 'num_leaves': 18, 'random_state': 12345}\n",
      "27.47 for {'learning_rate': 0.1, 'max_depth': 9, 'n_estimators': 50, 'num_leaves': 21, 'random_state': 12345}\n",
      "28.10 for {'learning_rate': 0.1, 'max_depth': 9, 'n_estimators': 50, 'num_leaves': 27, 'random_state': 12345}\n",
      "27.71 for {'learning_rate': 0.1, 'max_depth': 9, 'n_estimators': 70, 'num_leaves': 18, 'random_state': 12345}\n",
      "27.33 for {'learning_rate': 0.1, 'max_depth': 9, 'n_estimators': 70, 'num_leaves': 21, 'random_state': 12345}\n",
      "28.06 for {'learning_rate': 0.1, 'max_depth': 9, 'n_estimators': 70, 'num_leaves': 27, 'random_state': 12345}\n",
      "28.07 for {'learning_rate': 0.1, 'max_depth': 9, 'n_estimators': 90, 'num_leaves': 18, 'random_state': 12345}\n",
      "27.41 for {'learning_rate': 0.1, 'max_depth': 9, 'n_estimators': 90, 'num_leaves': 21, 'random_state': 12345}\n",
      "28.16 for {'learning_rate': 0.1, 'max_depth': 9, 'n_estimators': 90, 'num_leaves': 27, 'random_state': 12345}\n",
      "33.52 for {'learning_rate': 0.1, 'max_depth': 10, 'n_estimators': 10, 'num_leaves': 18, 'random_state': 12345}\n",
      "33.41 for {'learning_rate': 0.1, 'max_depth': 10, 'n_estimators': 10, 'num_leaves': 21, 'random_state': 12345}\n",
      "33.45 for {'learning_rate': 0.1, 'max_depth': 10, 'n_estimators': 10, 'num_leaves': 27, 'random_state': 12345}\n",
      "28.25 for {'learning_rate': 0.1, 'max_depth': 10, 'n_estimators': 30, 'num_leaves': 18, 'random_state': 12345}\n",
      "28.08 for {'learning_rate': 0.1, 'max_depth': 10, 'n_estimators': 30, 'num_leaves': 21, 'random_state': 12345}\n",
      "28.29 for {'learning_rate': 0.1, 'max_depth': 10, 'n_estimators': 30, 'num_leaves': 27, 'random_state': 12345}\n",
      "27.56 for {'learning_rate': 0.1, 'max_depth': 10, 'n_estimators': 50, 'num_leaves': 18, 'random_state': 12345}\n",
      "27.54 for {'learning_rate': 0.1, 'max_depth': 10, 'n_estimators': 50, 'num_leaves': 21, 'random_state': 12345}\n",
      "27.79 for {'learning_rate': 0.1, 'max_depth': 10, 'n_estimators': 50, 'num_leaves': 27, 'random_state': 12345}\n",
      "27.59 for {'learning_rate': 0.1, 'max_depth': 10, 'n_estimators': 70, 'num_leaves': 18, 'random_state': 12345}\n",
      "27.49 for {'learning_rate': 0.1, 'max_depth': 10, 'n_estimators': 70, 'num_leaves': 21, 'random_state': 12345}\n",
      "27.87 for {'learning_rate': 0.1, 'max_depth': 10, 'n_estimators': 70, 'num_leaves': 27, 'random_state': 12345}\n",
      "27.72 for {'learning_rate': 0.1, 'max_depth': 10, 'n_estimators': 90, 'num_leaves': 18, 'random_state': 12345}\n",
      "27.49 for {'learning_rate': 0.1, 'max_depth': 10, 'n_estimators': 90, 'num_leaves': 21, 'random_state': 12345}\n",
      "27.85 for {'learning_rate': 0.1, 'max_depth': 10, 'n_estimators': 90, 'num_leaves': 27, 'random_state': 12345}\n",
      "\n",
      "CPU times: total: 2min 17s\n",
      "Wall time: 35.2 s\n"
     ]
    }
   ],
   "source": [
    "%%time\n",
    "\n",
    "regressor = LGBMRegressor() \n",
    "max_estimators_list = [x for x in  range(10, 101, 20)]\n",
    "max_depth_list = [x for x in range (4, 11)]\n",
    "hyperparams = [{'max_depth':max_depth_list, 'n_estimators':max_estimators_list, 'learning_rate' : [0.03, 0.1],\n",
    "               'num_leaves': [18, 21, 27], 'random_state':[12345]}]\n",
    "\n",
    "cv = GridSearchCV(regressor, hyperparams, cv = 2, verbose=1, scoring='neg_mean_squared_error')\n",
    "cv.fit(features_train, target_train)\n",
    "\n",
    "best_factor_lgb = cv.best_estimator_\n",
    "\n",
    "print()\n",
    "print('Лучшая модель LGBMRegressor:')\n",
    "print(cv.best_params_, '  RMSE:', (cv.best_score_*-1)** 0.5)\n",
    "print()\n",
    "means = cv.cv_results_['mean_test_score']\n",
    "for mean, params in zip(means, cv.cv_results_['params']):\n",
    "    print(\"%0.2f for %s\"% ((mean*-1)** 0.5, params))\n",
    "print()\n",
    "\n",
    "best_model = best_model.append({'Model': best_factor_lgb, 'RMSE': (cv.best_score_*-1)** 0.5}, ignore_index=True)"
   ]
  },
  {
   "cell_type": "markdown",
   "id": "640aa75a",
   "metadata": {},
   "source": [
    "### Линейная регрессия"
   ]
  },
  {
   "cell_type": "code",
   "execution_count": 24,
   "id": "7fb13910",
   "metadata": {},
   "outputs": [
    {
     "name": "stdout",
     "output_type": "stream",
     "text": [
      "RMSE линейной модели: 25.94589473813044\n"
     ]
    }
   ],
   "source": [
    "linear = cross_val_score(\n",
    "    LinearRegression(),\n",
    "    features_train,\n",
    "    target_train,\n",
    "    scoring = 'neg_mean_squared_error',\n",
    "    cv = 5).mean()\n",
    "\n",
    "print('RMSE линейной модели:', (linear*-1)**0.5)\n",
    "\n",
    "best_model = best_model.append({'Model': 'LinearRegression()', 'RMSE': (linear*-1)**0.5}, ignore_index=True)"
   ]
  },
  {
   "cell_type": "markdown",
   "id": "6b5e25dd",
   "metadata": {},
   "source": [
    "## Тестирование"
   ]
  },
  {
   "cell_type": "code",
   "execution_count": 25,
   "id": "0d39aa7f",
   "metadata": {},
   "outputs": [],
   "source": [
    "best_model = best_model.set_index('Model')"
   ]
  },
  {
   "cell_type": "code",
   "execution_count": 27,
   "id": "bea5128b",
   "metadata": {
    "scrolled": false
   },
   "outputs": [
    {
     "data": {
      "text/html": [
       "<style  type=\"text/css\" >\n",
       "#T_c0634_row1_col0{\n",
       "            color: white;\n",
       "            background-color: darkblue;\n",
       "        }</style><table id=\"T_c0634_\" ><thead>    <tr>        <th class=\"blank level0\" ></th>        <th class=\"col_heading level0 col0\" >RMSE</th>    </tr>    <tr>        <th class=\"index_name level0\" >Model</th>        <th class=\"blank\" ></th>    </tr></thead><tbody>\n",
       "                <tr>\n",
       "                        <th id=\"T_c0634_level0_row0\" class=\"row_heading level0 row0\" >DecisionTreeRegressor(max_depth=4, random_state=12345)</th>\n",
       "                        <td id=\"T_c0634_row0_col0\" class=\"data row0 col0\" >30.240809</td>\n",
       "            </tr>\n",
       "            <tr>\n",
       "                        <th id=\"T_c0634_level0_row1\" class=\"row_heading level0 row1\" >RandomForestRegressor()</th>\n",
       "                        <td id=\"T_c0634_row1_col0\" class=\"data row1 col0\" >25.308080</td>\n",
       "            </tr>\n",
       "            <tr>\n",
       "                        <th id=\"T_c0634_level0_row2\" class=\"row_heading level0 row2\" >CatBoostRegressor()</th>\n",
       "                        <td id=\"T_c0634_row2_col0\" class=\"data row2 col0\" >29.037934</td>\n",
       "            </tr>\n",
       "            <tr>\n",
       "                        <th id=\"T_c0634_level0_row3\" class=\"row_heading level0 row3\" >LGBMRegressor(max_depth=9, n_estimators=70, num_leaves=21, random_state=12345)</th>\n",
       "                        <td id=\"T_c0634_row3_col0\" class=\"data row3 col0\" >27.329774</td>\n",
       "            </tr>\n",
       "            <tr>\n",
       "                        <th id=\"T_c0634_level0_row4\" class=\"row_heading level0 row4\" >LinearRegression()</th>\n",
       "                        <td id=\"T_c0634_row4_col0\" class=\"data row4 col0\" >25.945895</td>\n",
       "            </tr>\n",
       "    </tbody></table>"
      ],
      "text/plain": [
       "<pandas.io.formats.style.Styler at 0x1fb6f8ca310>"
      ]
     },
     "execution_count": 27,
     "metadata": {},
     "output_type": "execute_result"
    }
   ],
   "source": [
    "def highlight_min(s, props=''):\n",
    "    return np.where(s == np.nanmin(s.values), props, '')\n",
    "\n",
    "best_model.style.apply(highlight_min, props='color:white;background-color:darkblue', axis=0)"
   ]
  },
  {
   "cell_type": "markdown",
   "id": "9f9dedf6",
   "metadata": {},
   "source": [
    "Протестируем лучшую модель"
   ]
  },
  {
   "cell_type": "code",
   "execution_count": 28,
   "id": "59b12a0b",
   "metadata": {},
   "outputs": [
    {
     "name": "stdout",
     "output_type": "stream",
     "text": [
      "Итоговая метрика: 44.05820283921083\n"
     ]
    }
   ],
   "source": [
    "model = best_factor_rf\n",
    "model.fit(features_train, target_train)\n",
    "predicted_valid = model.predict(features_test)\n",
    "rmse = mean_squared_error(target_test, predicted_valid)\n",
    "\n",
    "print('Итоговая метрика:', rmse**0.5)"
   ]
  },
  {
   "cell_type": "markdown",
   "id": "273aef7f",
   "metadata": {},
   "source": [
    "### Визуализация предсказания"
   ]
  },
  {
   "cell_type": "markdown",
   "id": "9215309e",
   "metadata": {},
   "source": [
    "Отобразим финальные предсказания на графике: графики исходного и предсказанных данных."
   ]
  },
  {
   "cell_type": "code",
   "execution_count": 30,
   "id": "97b9be38",
   "metadata": {},
   "outputs": [],
   "source": [
    "true_pred = pd.DataFrame({ \n",
    "    'y_true' : target_test,\n",
    "    'y_pred' : best_factor_rf.predict(features_test)\n",
    "    }).sort_index()"
   ]
  },
  {
   "cell_type": "code",
   "execution_count": 31,
   "id": "fcd5e855",
   "metadata": {
    "scrolled": false
   },
   "outputs": [
    {
     "data": {
      "image/png": "[encoded data removed]",
      "text/plain": [
       "<Figure size 1224x576 with 1 Axes>"
      ]
     },
     "metadata": {
      "needs_background": "light"
     },
     "output_type": "display_data"
    }
   ],
   "source": [
    "true_pred.plot(figsize=(17,8), title='Сравнение истинных и предсказанных значений');"
   ]
  },
  {
   "cell_type": "markdown",
   "id": "e9022ba4",
   "metadata": {},
   "source": [
    "По графику видно, что модель не плохо определяет количество заказов такси в аэропортах"
   ]
  },
  {
   "cell_type": "markdown",
   "id": "f6a7acd1",
   "metadata": {},
   "source": [
    "### Вывод"
   ]
  },
  {
   "cell_type": "markdown",
   "id": "6c19ad3a",
   "metadata": {},
   "source": [
    "Провели анализ заказов такси в аэропортах. Выполнили ресемплирование по одному часу. Создали признаки для анализа данных. Обучили разные модели с различными гиперпараметрами. Наименьшее RMSE у модели **RandomForestRegressor(max_depth=10, n_estimators=91, random_state=12345)** и равно 44"
   ]
  }
 ],
 "metadata": {
  "ExecuteTimeLog": [
   {
    "duration": 1569,
    "start_time": "2022-06-13T11:44:17.942Z"
   },
   {
    "duration": 179,
    "start_time": "2022-06-13T11:44:19.513Z"
   },
   {
    "duration": 19,
    "start_time": "2022-06-13T11:44:19.694Z"
   },
   {
    "duration": 15,
    "start_time": "2022-06-13T11:44:26.498Z"
   },
   {
    "duration": 263,
    "start_time": "2022-06-13T11:44:27.153Z"
   },
   {
    "duration": 5,
    "start_time": "2022-06-13T11:44:28.345Z"
   },
   {
    "duration": 14,
    "start_time": "2022-06-13T11:44:28.617Z"
   },
   {
    "duration": 8,
    "start_time": "2022-06-13T11:44:29.116Z"
   },
   {
    "duration": 14,
    "start_time": "2022-06-13T11:44:29.647Z"
   },
   {
    "duration": 1365,
    "start_time": "2022-06-14T09:49:01.350Z"
   },
   {
    "duration": 165,
    "start_time": "2022-06-14T09:49:17.544Z"
   },
   {
    "duration": 16,
    "start_time": "2022-06-14T09:49:18.062Z"
   },
   {
    "duration": 14,
    "start_time": "2022-06-14T09:49:19.989Z"
   },
   {
    "duration": 229,
    "start_time": "2022-06-14T09:49:21.344Z"
   },
   {
    "duration": 87,
    "start_time": "2022-06-14T09:49:22.278Z"
   },
   {
    "duration": 3,
    "start_time": "2022-06-14T09:49:23.978Z"
   },
   {
    "duration": 9,
    "start_time": "2022-06-14T09:49:24.690Z"
   },
   {
    "duration": 8,
    "start_time": "2022-06-14T09:49:29.696Z"
   },
   {
    "duration": 5,
    "start_time": "2022-06-14T09:49:30.808Z"
   },
   {
    "duration": 120,
    "start_time": "2022-06-14T09:52:24.363Z"
   },
   {
    "duration": 290,
    "start_time": "2022-06-14T09:52:51.813Z"
   },
   {
    "duration": 3312,
    "start_time": "2022-06-14T09:53:45.488Z"
   },
   {
    "duration": 74,
    "start_time": "2022-06-14T09:55:21.787Z"
   },
   {
    "duration": 14,
    "start_time": "2022-06-14T09:55:21.987Z"
   },
   {
    "duration": 13,
    "start_time": "2022-06-14T09:55:22.533Z"
   },
   {
    "duration": 309,
    "start_time": "2022-06-14T09:55:23.533Z"
   },
   {
    "duration": 106,
    "start_time": "2022-06-14T09:55:23.843Z"
   },
   {
    "duration": 3,
    "start_time": "2022-06-14T09:55:25.434Z"
   },
   {
    "duration": 12,
    "start_time": "2022-06-14T09:55:25.665Z"
   },
   {
    "duration": 8,
    "start_time": "2022-06-14T09:55:27.493Z"
   },
   {
    "duration": 4,
    "start_time": "2022-06-14T09:55:28.858Z"
   },
   {
    "duration": 1432,
    "start_time": "2022-06-14T09:55:36.554Z"
   },
   {
    "duration": 15099,
    "start_time": "2022-06-14T09:57:42.779Z"
   },
   {
    "duration": 1434,
    "start_time": "2022-06-14T09:58:17.460Z"
   },
   {
    "duration": 1410,
    "start_time": "2022-06-14T09:59:03.506Z"
   },
   {
    "duration": 1383,
    "start_time": "2022-06-14T09:59:12.576Z"
   },
   {
    "duration": 1413,
    "start_time": "2022-06-14T09:59:19.440Z"
   },
   {
    "duration": 24,
    "start_time": "2022-06-14T09:59:27.875Z"
   },
   {
    "duration": 81,
    "start_time": "2022-06-14T09:59:42.169Z"
   },
   {
    "duration": 12,
    "start_time": "2022-06-14T09:59:42.329Z"
   },
   {
    "duration": 12,
    "start_time": "2022-06-14T09:59:42.877Z"
   },
   {
    "duration": 211,
    "start_time": "2022-06-14T09:59:43.732Z"
   },
   {
    "duration": 80,
    "start_time": "2022-06-14T09:59:44.016Z"
   },
   {
    "duration": 4,
    "start_time": "2022-06-14T09:59:45.778Z"
   },
   {
    "duration": 9,
    "start_time": "2022-06-14T09:59:46.229Z"
   },
   {
    "duration": 136,
    "start_time": "2022-06-14T09:59:51.004Z"
   },
   {
    "duration": 13,
    "start_time": "2022-06-14T09:59:51.192Z"
   },
   {
    "duration": 13,
    "start_time": "2022-06-14T09:59:51.667Z"
   },
   {
    "duration": 212,
    "start_time": "2022-06-14T09:59:53.273Z"
   },
   {
    "duration": 75,
    "start_time": "2022-06-14T09:59:54.265Z"
   },
   {
    "duration": 11,
    "start_time": "2022-06-14T10:00:11.816Z"
   },
   {
    "duration": 5,
    "start_time": "2022-06-14T10:00:18.579Z"
   },
   {
    "duration": 8,
    "start_time": "2022-06-14T10:00:19.035Z"
   },
   {
    "duration": 11,
    "start_time": "2022-06-14T10:00:22.058Z"
   },
   {
    "duration": 5,
    "start_time": "2022-06-14T10:00:28.568Z"
   },
   {
    "duration": 1386,
    "start_time": "2022-06-14T10:00:29.424Z"
   },
   {
    "duration": 83,
    "start_time": "2022-06-14T10:00:42.857Z"
   },
   {
    "duration": 12,
    "start_time": "2022-06-14T10:00:43.049Z"
   },
   {
    "duration": 11,
    "start_time": "2022-06-14T10:00:43.842Z"
   },
   {
    "duration": 209,
    "start_time": "2022-06-14T10:00:44.871Z"
   },
   {
    "duration": 77,
    "start_time": "2022-06-14T10:00:45.250Z"
   },
   {
    "duration": 4,
    "start_time": "2022-06-14T10:00:47.199Z"
   },
   {
    "duration": 10,
    "start_time": "2022-06-14T10:00:53.061Z"
   },
   {
    "duration": 10,
    "start_time": "2022-06-14T10:00:54.353Z"
   },
   {
    "duration": 6,
    "start_time": "2022-06-14T10:00:55.401Z"
   },
   {
    "duration": 1688,
    "start_time": "2022-06-14T10:00:56.992Z"
   },
   {
    "duration": 1290,
    "start_time": "2022-06-14T10:01:20.370Z"
   },
   {
    "duration": 1318,
    "start_time": "2022-06-14T10:02:42.256Z"
   },
   {
    "duration": 35,
    "start_time": "2022-06-14T10:02:58.492Z"
   },
   {
    "duration": 35,
    "start_time": "2022-06-14T10:03:01.727Z"
   },
   {
    "duration": 1355,
    "start_time": "2022-06-14T10:03:18.659Z"
   },
   {
    "duration": 1339,
    "start_time": "2022-06-14T10:04:25.786Z"
   },
   {
    "duration": 1395,
    "start_time": "2022-06-14T10:05:02.664Z"
   },
   {
    "duration": 1553,
    "start_time": "2022-06-14T10:05:35.257Z"
   },
   {
    "duration": 417,
    "start_time": "2022-06-14T10:11:49.499Z"
   },
   {
    "duration": 80,
    "start_time": "2022-06-14T10:15:21.481Z"
   },
   {
    "duration": 54,
    "start_time": "2022-06-14T10:16:01.031Z"
   },
   {
    "duration": 49,
    "start_time": "2022-06-14T10:16:17.175Z"
   },
   {
    "duration": 7796,
    "start_time": "2022-06-14T10:23:40.182Z"
   },
   {
    "duration": 32948,
    "start_time": "2022-06-14T10:24:05.834Z"
   },
   {
    "duration": 31928,
    "start_time": "2022-06-14T10:25:38.961Z"
   },
   {
    "duration": 778810,
    "start_time": "2022-06-14T10:27:05.269Z"
   },
   {
    "duration": 33113,
    "start_time": "2022-06-14T10:47:35.549Z"
   },
   {
    "duration": 17,
    "start_time": "2022-06-14T10:55:12.363Z"
   },
   {
    "duration": 16,
    "start_time": "2022-06-14T10:55:40.112Z"
   },
   {
    "duration": 1062,
    "start_time": "2022-06-14T10:56:13.199Z"
   },
   {
    "duration": 484,
    "start_time": "2022-06-14T10:56:22.682Z"
   },
   {
    "duration": 1182,
    "start_time": "2022-06-14T10:56:28.764Z"
   },
   {
    "duration": 1033,
    "start_time": "2022-06-14T10:56:36.999Z"
   },
   {
    "duration": 1985,
    "start_time": "2022-06-14T10:56:45.579Z"
   },
   {
    "duration": 165470,
    "start_time": "2022-06-14T10:57:14.451Z"
   },
   {
    "duration": 73029,
    "start_time": "2022-06-14T11:00:29.881Z"
   },
   {
    "duration": 3,
    "start_time": "2022-06-14T11:03:21.745Z"
   },
   {
    "duration": 3,
    "start_time": "2022-06-14T11:03:22.571Z"
   },
   {
    "duration": 23,
    "start_time": "2022-06-14T11:03:22.903Z"
   },
   {
    "duration": 37,
    "start_time": "2022-06-14T11:03:41.819Z"
   },
   {
    "duration": 4,
    "start_time": "2022-06-14T11:03:57.263Z"
   },
   {
    "duration": 3,
    "start_time": "2022-06-14T11:04:00.932Z"
   },
   {
    "duration": 21,
    "start_time": "2022-06-14T11:04:01.797Z"
   },
   {
    "duration": 4,
    "start_time": "2022-06-14T11:05:05.237Z"
   },
   {
    "duration": 3,
    "start_time": "2022-06-14T11:05:09.481Z"
   },
   {
    "duration": 3,
    "start_time": "2022-06-14T11:05:09.932Z"
   },
   {
    "duration": 17,
    "start_time": "2022-06-14T11:05:10.771Z"
   },
   {
    "duration": 670,
    "start_time": "2022-06-14T11:05:12.291Z"
   },
   {
    "duration": 115,
    "start_time": "2022-06-14T11:05:12.963Z"
   },
   {
    "duration": 246,
    "start_time": "2022-06-14T11:05:13.738Z"
   },
   {
    "duration": 698,
    "start_time": "2022-06-14T11:05:16.790Z"
   },
   {
    "duration": 72,
    "start_time": "2022-06-14T11:05:45.221Z"
   },
   {
    "duration": 14,
    "start_time": "2022-06-14T11:10:55.632Z"
   },
   {
    "duration": 10,
    "start_time": "2022-06-14T11:11:06.386Z"
   },
   {
    "duration": 10,
    "start_time": "2022-06-14T11:11:45.651Z"
   },
   {
    "duration": 11,
    "start_time": "2022-06-14T11:12:27.884Z"
   },
   {
    "duration": 2,
    "start_time": "2022-06-14T11:14:24.140Z"
   },
   {
    "duration": 3,
    "start_time": "2022-06-14T11:14:24.624Z"
   },
   {
    "duration": 15,
    "start_time": "2022-06-14T11:14:25.080Z"
   },
   {
    "duration": 668,
    "start_time": "2022-06-14T11:14:25.421Z"
   },
   {
    "duration": 87,
    "start_time": "2022-06-14T11:14:26.091Z"
   },
   {
    "duration": 540,
    "start_time": "2022-06-14T11:14:26.557Z"
   },
   {
    "duration": 1040,
    "start_time": "2022-06-14T11:14:27.538Z"
   },
   {
    "duration": 8,
    "start_time": "2022-06-14T11:14:39.598Z"
   },
   {
    "duration": 6,
    "start_time": "2022-06-14T11:14:47.021Z"
   },
   {
    "duration": 2,
    "start_time": "2022-06-14T11:15:18.728Z"
   },
   {
    "duration": 5,
    "start_time": "2022-06-14T11:15:22.254Z"
   },
   {
    "duration": 4,
    "start_time": "2022-06-14T11:15:25.097Z"
   },
   {
    "duration": 4,
    "start_time": "2022-06-14T11:15:26.956Z"
   },
   {
    "duration": 19,
    "start_time": "2022-06-14T11:15:30.675Z"
   },
   {
    "duration": 711,
    "start_time": "2022-06-14T11:15:30.986Z"
   },
   {
    "duration": 179,
    "start_time": "2022-06-14T11:15:31.699Z"
   },
   {
    "duration": 246,
    "start_time": "2022-06-14T11:15:32.982Z"
   },
   {
    "duration": 3554,
    "start_time": "2022-06-14T11:15:36.325Z"
   },
   {
    "duration": 3,
    "start_time": "2022-06-14T11:15:46.425Z"
   },
   {
    "duration": 8,
    "start_time": "2022-06-14T11:15:47.862Z"
   },
   {
    "duration": 14,
    "start_time": "2022-06-14T11:15:50.136Z"
   },
   {
    "duration": 8,
    "start_time": "2022-06-14T11:15:57.099Z"
   },
   {
    "duration": 1279,
    "start_time": "2022-06-14T11:19:11.354Z"
   },
   {
    "duration": 170,
    "start_time": "2022-06-14T11:19:12.635Z"
   },
   {
    "duration": 15,
    "start_time": "2022-06-14T11:19:12.806Z"
   },
   {
    "duration": 14,
    "start_time": "2022-06-14T11:19:12.823Z"
   },
   {
    "duration": 243,
    "start_time": "2022-06-14T11:19:12.838Z"
   },
   {
    "duration": 97,
    "start_time": "2022-06-14T11:19:13.083Z"
   },
   {
    "duration": 4,
    "start_time": "2022-06-14T11:19:13.182Z"
   },
   {
    "duration": 15,
    "start_time": "2022-06-14T11:19:13.187Z"
   },
   {
    "duration": 7,
    "start_time": "2022-06-14T11:19:13.203Z"
   },
   {
    "duration": 5,
    "start_time": "2022-06-14T11:19:13.211Z"
   },
   {
    "duration": 2892,
    "start_time": "2022-06-14T11:19:13.217Z"
   },
   {
    "duration": 3320,
    "start_time": "2022-06-14T11:19:16.111Z"
   },
   {
    "duration": 52960,
    "start_time": "2022-06-14T11:19:19.432Z"
   },
   {
    "duration": 3,
    "start_time": "2022-06-14T11:20:12.394Z"
   },
   {
    "duration": 8,
    "start_time": "2022-06-14T11:20:12.398Z"
   },
   {
    "duration": 16,
    "start_time": "2022-06-14T11:20:12.407Z"
   },
   {
    "duration": 649,
    "start_time": "2022-06-14T11:20:12.424Z"
   },
   {
    "duration": 19,
    "start_time": "2022-06-14T11:20:13.074Z"
   },
   {
    "duration": 611,
    "start_time": "2022-06-14T11:20:13.177Z"
   },
   {
    "duration": 15503,
    "start_time": "2022-06-14T11:20:13.789Z"
   },
   {
    "duration": 0,
    "start_time": "2022-06-14T11:20:29.294Z"
   },
   {
    "duration": 0,
    "start_time": "2022-06-14T11:20:29.295Z"
   },
   {
    "duration": 1178,
    "start_time": "2022-06-14T11:20:46.416Z"
   },
   {
    "duration": 80,
    "start_time": "2022-06-14T11:20:47.596Z"
   },
   {
    "duration": 16,
    "start_time": "2022-06-14T11:20:47.677Z"
   },
   {
    "duration": 27,
    "start_time": "2022-06-14T11:20:47.695Z"
   },
   {
    "duration": 389,
    "start_time": "2022-06-14T11:20:47.725Z"
   },
   {
    "duration": 113,
    "start_time": "2022-06-14T11:20:48.115Z"
   },
   {
    "duration": 4,
    "start_time": "2022-06-14T11:20:48.231Z"
   },
   {
    "duration": 130,
    "start_time": "2022-06-14T11:20:48.237Z"
   },
   {
    "duration": 33,
    "start_time": "2022-06-14T11:20:48.369Z"
   },
   {
    "duration": 22,
    "start_time": "2022-06-14T11:20:48.404Z"
   },
   {
    "duration": 2153,
    "start_time": "2022-06-14T11:20:48.427Z"
   },
   {
    "duration": 162605,
    "start_time": "2022-06-14T11:20:50.583Z"
   },
   {
    "duration": 72407,
    "start_time": "2022-06-14T11:23:33.190Z"
   },
   {
    "duration": 4,
    "start_time": "2022-06-14T11:24:45.599Z"
   },
   {
    "duration": 12,
    "start_time": "2022-06-14T11:24:45.604Z"
   },
   {
    "duration": 17,
    "start_time": "2022-06-14T11:24:45.617Z"
   },
   {
    "duration": 686,
    "start_time": "2022-06-14T11:24:45.635Z"
   },
   {
    "duration": 56,
    "start_time": "2022-06-14T11:24:46.323Z"
   },
   {
    "duration": 270,
    "start_time": "2022-06-14T11:24:46.381Z"
   },
   {
    "duration": 1232,
    "start_time": "2022-06-14T11:24:46.652Z"
   },
   {
    "duration": 4,
    "start_time": "2022-06-14T11:24:47.886Z"
   },
   {
    "duration": 72,
    "start_time": "2022-06-14T11:24:47.892Z"
   },
   {
    "duration": 563,
    "start_time": "2022-06-14T11:26:18.410Z"
   },
   {
    "duration": 460,
    "start_time": "2022-06-14T11:26:23.233Z"
   },
   {
    "duration": 13,
    "start_time": "2022-06-14T11:26:27.919Z"
   },
   {
    "duration": 8,
    "start_time": "2022-06-14T11:27:33.035Z"
   },
   {
    "duration": 4,
    "start_time": "2022-06-14T11:27:38.098Z"
   },
   {
    "duration": 1231,
    "start_time": "2022-06-14T11:29:09.828Z"
   },
   {
    "duration": 93,
    "start_time": "2022-06-14T11:29:11.060Z"
   },
   {
    "duration": 15,
    "start_time": "2022-06-14T11:29:11.155Z"
   },
   {
    "duration": 29,
    "start_time": "2022-06-14T11:29:11.172Z"
   },
   {
    "duration": 231,
    "start_time": "2022-06-14T11:29:11.203Z"
   },
   {
    "duration": 92,
    "start_time": "2022-06-14T11:29:11.435Z"
   },
   {
    "duration": 4,
    "start_time": "2022-06-14T11:29:11.529Z"
   },
   {
    "duration": 15,
    "start_time": "2022-06-14T11:29:11.534Z"
   },
   {
    "duration": 8,
    "start_time": "2022-06-14T11:29:11.550Z"
   },
   {
    "duration": 21,
    "start_time": "2022-06-14T11:29:11.560Z"
   },
   {
    "duration": 1935,
    "start_time": "2022-06-14T11:29:11.583Z"
   },
   {
    "duration": 163845,
    "start_time": "2022-06-14T11:29:13.519Z"
   },
   {
    "duration": 119129,
    "start_time": "2022-06-14T11:31:57.366Z"
   },
   {
    "duration": 4,
    "start_time": "2022-06-14T11:33:56.498Z"
   },
   {
    "duration": 15,
    "start_time": "2022-06-14T11:33:56.504Z"
   },
   {
    "duration": 19,
    "start_time": "2022-06-14T11:33:56.521Z"
   },
   {
    "duration": 661,
    "start_time": "2022-06-14T11:33:56.541Z"
   },
   {
    "duration": 12,
    "start_time": "2022-06-14T11:33:57.204Z"
   },
   {
    "duration": 286,
    "start_time": "2022-06-14T11:33:57.279Z"
   },
   {
    "duration": 11417,
    "start_time": "2022-06-14T11:33:57.567Z"
   },
   {
    "duration": 3,
    "start_time": "2022-06-14T11:34:08.986Z"
   },
   {
    "duration": 51,
    "start_time": "2022-06-14T11:34:08.990Z"
   },
   {
    "duration": 5,
    "start_time": "2022-06-14T11:34:09.043Z"
   },
   {
    "duration": 1515,
    "start_time": "2022-06-15T08:47:54.386Z"
   },
   {
    "duration": 364,
    "start_time": "2022-06-15T08:47:59.317Z"
   },
   {
    "duration": 18,
    "start_time": "2022-06-15T08:48:00.000Z"
   },
   {
    "duration": 15,
    "start_time": "2022-06-15T08:48:06.676Z"
   },
   {
    "duration": 284,
    "start_time": "2022-06-15T08:48:11.380Z"
   },
   {
    "duration": 71,
    "start_time": "2022-06-15T09:03:21.215Z"
   },
   {
    "duration": 128,
    "start_time": "2022-06-15T09:03:50.582Z"
   },
   {
    "duration": 9,
    "start_time": "2022-06-15T09:03:59.486Z"
   },
   {
    "duration": 212,
    "start_time": "2022-06-15T09:04:31.762Z"
   },
   {
    "duration": 1143,
    "start_time": "2022-06-15T09:06:09.183Z"
   },
   {
    "duration": 4,
    "start_time": "2022-06-15T09:06:33.695Z"
   },
   {
    "duration": 7,
    "start_time": "2022-06-15T09:06:40.651Z"
   },
   {
    "duration": 866,
    "start_time": "2022-06-15T09:06:53.340Z"
   },
   {
    "duration": 553,
    "start_time": "2022-06-15T09:07:07.551Z"
   },
   {
    "duration": 919,
    "start_time": "2022-06-15T09:07:16.183Z"
   },
   {
    "duration": 11,
    "start_time": "2022-06-15T09:10:57.806Z"
   },
   {
    "duration": 8,
    "start_time": "2022-06-15T09:11:07.730Z"
   },
   {
    "duration": 920,
    "start_time": "2022-06-15T09:11:08.598Z"
   },
   {
    "duration": 7,
    "start_time": "2022-06-15T09:11:21.208Z"
   },
   {
    "duration": 1064,
    "start_time": "2022-06-15T09:11:21.430Z"
   },
   {
    "duration": 570,
    "start_time": "2022-06-15T09:11:35.130Z"
   },
   {
    "duration": 35,
    "start_time": "2022-06-15T09:12:57.630Z"
   },
   {
    "duration": 254,
    "start_time": "2022-06-15T09:18:26.046Z"
   },
   {
    "duration": 147,
    "start_time": "2022-06-15T09:18:48.354Z"
   },
   {
    "duration": 193,
    "start_time": "2022-06-15T09:18:53.786Z"
   },
   {
    "duration": 215,
    "start_time": "2022-06-15T09:19:36.304Z"
   },
   {
    "duration": 10,
    "start_time": "2022-06-15T09:22:43.399Z"
   },
   {
    "duration": 10,
    "start_time": "2022-06-15T09:23:25.020Z"
   },
   {
    "duration": 574,
    "start_time": "2022-06-15T09:23:44.151Z"
   },
   {
    "duration": 678,
    "start_time": "2022-06-15T09:23:54.466Z"
   },
   {
    "duration": 243,
    "start_time": "2022-06-15T09:24:06.083Z"
   },
   {
    "duration": 200,
    "start_time": "2022-06-15T09:24:11.470Z"
   },
   {
    "duration": 319,
    "start_time": "2022-06-15T09:24:51.651Z"
   },
   {
    "duration": 246,
    "start_time": "2022-06-15T09:24:57.758Z"
   },
   {
    "duration": 238,
    "start_time": "2022-06-15T09:25:04.277Z"
   },
   {
    "duration": 10,
    "start_time": "2022-06-15T10:32:53.764Z"
   },
   {
    "duration": 187,
    "start_time": "2022-06-15T10:33:11.700Z"
   },
   {
    "duration": 156,
    "start_time": "2022-06-15T10:33:23.179Z"
   },
   {
    "duration": 164,
    "start_time": "2022-06-15T10:33:42.388Z"
   },
   {
    "duration": 10,
    "start_time": "2022-06-15T10:35:25.964Z"
   },
   {
    "duration": 554,
    "start_time": "2022-06-15T10:35:32.335Z"
   },
   {
    "duration": 193,
    "start_time": "2022-06-15T10:36:53.549Z"
   },
   {
    "duration": 190,
    "start_time": "2022-06-15T10:37:11.047Z"
   },
   {
    "duration": 226,
    "start_time": "2022-06-15T10:37:39.195Z"
   },
   {
    "duration": 171,
    "start_time": "2022-06-15T10:39:09.111Z"
   },
   {
    "duration": 171,
    "start_time": "2022-06-15T10:39:19.601Z"
   },
   {
    "duration": 194,
    "start_time": "2022-06-15T10:39:30.507Z"
   },
   {
    "duration": 303,
    "start_time": "2022-06-15T10:39:58.480Z"
   },
   {
    "duration": 245,
    "start_time": "2022-06-15T10:40:11.820Z"
   },
   {
    "duration": 181,
    "start_time": "2022-06-15T10:40:48.383Z"
   },
   {
    "duration": 1557,
    "start_time": "2022-06-15T10:44:16.155Z"
   },
   {
    "duration": 99,
    "start_time": "2022-06-15T10:44:20.571Z"
   },
   {
    "duration": 34,
    "start_time": "2022-06-15T10:44:20.838Z"
   },
   {
    "duration": 15,
    "start_time": "2022-06-15T10:44:22.282Z"
   },
   {
    "duration": 281,
    "start_time": "2022-06-15T10:44:24.207Z"
   },
   {
    "duration": 12,
    "start_time": "2022-06-15T10:44:26.458Z"
   },
   {
    "duration": 721,
    "start_time": "2022-06-15T10:44:27.099Z"
   },
   {
    "duration": 196,
    "start_time": "2022-06-15T10:44:28.182Z"
   },
   {
    "duration": 247,
    "start_time": "2022-06-15T10:45:00.691Z"
   },
   {
    "duration": 1162,
    "start_time": "2022-06-15T10:49:20.547Z"
   },
   {
    "duration": 432,
    "start_time": "2022-06-15T10:49:39.537Z"
   },
   {
    "duration": 296,
    "start_time": "2022-06-15T10:50:07.696Z"
   },
   {
    "duration": 325,
    "start_time": "2022-06-15T10:50:29.688Z"
   },
   {
    "duration": 313,
    "start_time": "2022-06-15T10:50:40.248Z"
   },
   {
    "duration": 651,
    "start_time": "2022-06-15T10:51:14.705Z"
   },
   {
    "duration": 972,
    "start_time": "2022-06-15T10:54:57.914Z"
   },
   {
    "duration": 707,
    "start_time": "2022-06-15T10:57:37.865Z"
   },
   {
    "duration": 206,
    "start_time": "2022-06-15T10:58:40.784Z"
   },
   {
    "duration": 209,
    "start_time": "2022-06-15T10:58:59.240Z"
   },
   {
    "duration": 45,
    "start_time": "2022-06-15T10:59:45.953Z"
   },
   {
    "duration": 8,
    "start_time": "2022-06-15T11:02:00.684Z"
   },
   {
    "duration": 55,
    "start_time": "2022-06-15T11:02:26.939Z"
   },
   {
    "duration": 55,
    "start_time": "2022-06-15T11:02:35.880Z"
   },
   {
    "duration": 13,
    "start_time": "2022-06-15T11:02:53.399Z"
   },
   {
    "duration": 14,
    "start_time": "2022-06-15T11:03:02.736Z"
   },
   {
    "duration": 10,
    "start_time": "2022-06-15T11:03:36.185Z"
   },
   {
    "duration": 3,
    "start_time": "2022-06-15T11:04:36.888Z"
   },
   {
    "duration": 2,
    "start_time": "2022-06-15T11:04:38.727Z"
   },
   {
    "duration": 19,
    "start_time": "2022-06-15T11:04:38.970Z"
   },
   {
    "duration": 4,
    "start_time": "2022-06-15T11:04:46.148Z"
   },
   {
    "duration": 3,
    "start_time": "2022-06-15T11:04:46.339Z"
   },
   {
    "duration": 3,
    "start_time": "2022-06-15T11:05:03.024Z"
   },
   {
    "duration": 23,
    "start_time": "2022-06-15T11:05:03.282Z"
   },
   {
    "duration": 4,
    "start_time": "2022-06-15T11:05:15.479Z"
   },
   {
    "duration": 20,
    "start_time": "2022-06-15T11:05:15.714Z"
   },
   {
    "duration": 16,
    "start_time": "2022-06-15T11:05:28.514Z"
   },
   {
    "duration": 3,
    "start_time": "2022-06-15T11:06:05.713Z"
   },
   {
    "duration": 13,
    "start_time": "2022-06-15T11:06:05.934Z"
   },
   {
    "duration": 3,
    "start_time": "2022-06-15T11:06:18.640Z"
   },
   {
    "duration": 15,
    "start_time": "2022-06-15T11:06:18.882Z"
   },
   {
    "duration": 4,
    "start_time": "2022-06-15T11:06:29.627Z"
   },
   {
    "duration": 20,
    "start_time": "2022-06-15T11:06:29.632Z"
   },
   {
    "duration": 3,
    "start_time": "2022-06-15T11:07:28.988Z"
   },
   {
    "duration": 7,
    "start_time": "2022-06-15T11:07:30.059Z"
   },
   {
    "duration": 3,
    "start_time": "2022-06-15T11:08:46.390Z"
   },
   {
    "duration": 689,
    "start_time": "2022-06-15T11:08:46.648Z"
   },
   {
    "duration": 32,
    "start_time": "2022-06-15T11:09:23.910Z"
   },
   {
    "duration": 4,
    "start_time": "2022-06-15T11:09:29.583Z"
   },
   {
    "duration": 38,
    "start_time": "2022-06-15T11:09:30.237Z"
   },
   {
    "duration": 3,
    "start_time": "2022-06-15T11:09:36.501Z"
   },
   {
    "duration": 45,
    "start_time": "2022-06-15T11:09:37.341Z"
   },
   {
    "duration": 937,
    "start_time": "2022-06-15T11:09:48.704Z"
   },
   {
    "duration": 205,
    "start_time": "2022-06-15T11:10:15.687Z"
   },
   {
    "duration": 207,
    "start_time": "2022-06-15T11:10:18.425Z"
   },
   {
    "duration": 201,
    "start_time": "2022-06-15T11:12:25.301Z"
   },
   {
    "duration": 199,
    "start_time": "2022-06-15T11:12:30.701Z"
   },
   {
    "duration": 213,
    "start_time": "2022-06-15T11:12:44.797Z"
   },
   {
    "duration": 186,
    "start_time": "2022-06-15T11:12:55.538Z"
   },
   {
    "duration": 232,
    "start_time": "2022-06-15T11:13:09.587Z"
   },
   {
    "duration": 197,
    "start_time": "2022-06-15T11:16:40.054Z"
   },
   {
    "duration": 188,
    "start_time": "2022-06-15T11:16:58.503Z"
   },
   {
    "duration": 195,
    "start_time": "2022-06-15T11:17:08.307Z"
   },
   {
    "duration": 214,
    "start_time": "2022-06-15T11:17:18.166Z"
   },
   {
    "duration": 201,
    "start_time": "2022-06-15T11:17:33.721Z"
   },
   {
    "duration": 175,
    "start_time": "2022-06-15T11:26:18.494Z"
   },
   {
    "duration": 194,
    "start_time": "2022-06-15T11:26:32.837Z"
   },
   {
    "duration": 181,
    "start_time": "2022-06-15T11:27:39.731Z"
   },
   {
    "duration": 167,
    "start_time": "2022-06-15T11:43:10.900Z"
   },
   {
    "duration": 174,
    "start_time": "2022-06-15T11:43:56.879Z"
   },
   {
    "duration": 187,
    "start_time": "2022-06-15T11:48:49.042Z"
   },
   {
    "duration": 200,
    "start_time": "2022-06-15T11:49:06.574Z"
   },
   {
    "duration": 277,
    "start_time": "2022-06-15T11:54:25.113Z"
   },
   {
    "duration": 194,
    "start_time": "2022-06-15T11:55:33.458Z"
   },
   {
    "duration": 175,
    "start_time": "2022-06-15T11:55:58.178Z"
   },
   {
    "duration": 247,
    "start_time": "2022-06-15T11:56:35.605Z"
   },
   {
    "duration": 5,
    "start_time": "2022-06-15T12:09:04.071Z"
   },
   {
    "duration": 9,
    "start_time": "2022-06-15T12:09:04.687Z"
   },
   {
    "duration": 4,
    "start_time": "2022-06-15T12:09:17.371Z"
   },
   {
    "duration": 323,
    "start_time": "2022-06-15T12:09:18.256Z"
   },
   {
    "duration": 158,
    "start_time": "2022-06-15T12:09:43.784Z"
   },
   {
    "duration": 5,
    "start_time": "2022-06-15T12:10:40.141Z"
   },
   {
    "duration": 177,
    "start_time": "2022-06-15T12:10:40.742Z"
   },
   {
    "duration": 256,
    "start_time": "2022-06-15T12:10:44.275Z"
   },
   {
    "duration": 184,
    "start_time": "2022-06-15T12:11:05.086Z"
   },
   {
    "duration": 1403,
    "start_time": "2022-06-15T12:12:50.122Z"
   },
   {
    "duration": 179,
    "start_time": "2022-06-15T12:12:51.858Z"
   },
   {
    "duration": 26,
    "start_time": "2022-06-15T12:12:52.076Z"
   },
   {
    "duration": 16,
    "start_time": "2022-06-15T12:12:52.711Z"
   },
   {
    "duration": 283,
    "start_time": "2022-06-15T12:12:53.577Z"
   },
   {
    "duration": 8,
    "start_time": "2022-06-15T12:12:54.801Z"
   },
   {
    "duration": 762,
    "start_time": "2022-06-15T12:12:55.014Z"
   },
   {
    "duration": 4,
    "start_time": "2022-06-15T12:12:55.778Z"
   },
   {
    "duration": 175,
    "start_time": "2022-06-15T12:13:03.486Z"
   },
   {
    "duration": 191,
    "start_time": "2022-06-15T12:13:26.352Z"
   },
   {
    "duration": 182,
    "start_time": "2022-06-15T12:13:36.218Z"
   },
   {
    "duration": 172,
    "start_time": "2022-06-15T12:14:01.479Z"
   },
   {
    "duration": 168,
    "start_time": "2022-06-15T12:14:02.312Z"
   },
   {
    "duration": 243,
    "start_time": "2022-06-15T12:14:09.747Z"
   },
   {
    "duration": 183,
    "start_time": "2022-06-15T12:15:07.595Z"
   },
   {
    "duration": 211,
    "start_time": "2022-06-15T12:15:08.907Z"
   },
   {
    "duration": 250,
    "start_time": "2022-06-15T12:15:09.643Z"
   },
   {
    "duration": 254,
    "start_time": "2022-06-15T12:15:12.413Z"
   },
   {
    "duration": 288,
    "start_time": "2022-06-15T12:25:45.208Z"
   },
   {
    "duration": 173,
    "start_time": "2022-06-15T12:25:59.782Z"
   },
   {
    "duration": 251,
    "start_time": "2022-06-15T12:26:03.532Z"
   },
   {
    "duration": 185,
    "start_time": "2022-06-15T12:26:23.562Z"
   },
   {
    "duration": 184,
    "start_time": "2022-06-15T12:26:27.486Z"
   },
   {
    "duration": 248,
    "start_time": "2022-06-15T12:26:32.604Z"
   },
   {
    "duration": 3,
    "start_time": "2022-06-15T12:27:52.283Z"
   },
   {
    "duration": 9,
    "start_time": "2022-06-15T12:27:56.922Z"
   },
   {
    "duration": 12,
    "start_time": "2022-06-15T12:28:01.798Z"
   },
   {
    "duration": 21,
    "start_time": "2022-06-15T12:28:03.105Z"
   },
   {
    "duration": 9,
    "start_time": "2022-06-15T12:28:16.158Z"
   },
   {
    "duration": 5,
    "start_time": "2022-06-15T12:28:45.885Z"
   },
   {
    "duration": 2487,
    "start_time": "2022-06-15T12:29:53.154Z"
   },
   {
    "duration": 198110,
    "start_time": "2022-06-15T12:30:01.611Z"
   },
   {
    "duration": 78580,
    "start_time": "2022-06-15T12:33:19.723Z"
   },
   {
    "duration": 3,
    "start_time": "2022-06-15T12:34:38.305Z"
   },
   {
    "duration": 17,
    "start_time": "2022-06-15T12:34:38.310Z"
   },
   {
    "duration": 48,
    "start_time": "2022-06-15T12:34:38.329Z"
   },
   {
    "duration": 824,
    "start_time": "2022-06-15T12:34:38.379Z"
   },
   {
    "duration": 13,
    "start_time": "2022-06-15T12:34:39.205Z"
   },
   {
    "duration": 219,
    "start_time": "2022-06-15T12:34:39.219Z"
   },
   {
    "duration": 18020,
    "start_time": "2022-06-15T12:34:39.440Z"
   },
   {
    "duration": 4,
    "start_time": "2022-06-15T12:34:57.462Z"
   },
   {
    "duration": 54,
    "start_time": "2022-06-15T12:34:57.468Z"
   },
   {
    "duration": 1232,
    "start_time": "2022-06-15T12:35:19.935Z"
   },
   {
    "duration": 21,
    "start_time": "2022-06-15T12:35:48.111Z"
   },
   {
    "duration": 23,
    "start_time": "2022-06-15T12:35:54.102Z"
   },
   {
    "duration": 3656,
    "start_time": "2022-06-15T12:36:00.219Z"
   },
   {
    "duration": 2420,
    "start_time": "2022-06-15T12:36:10.882Z"
   },
   {
    "duration": 21,
    "start_time": "2022-06-15T12:36:21.686Z"
   },
   {
    "duration": 29,
    "start_time": "2022-06-15T12:36:25.483Z"
   },
   {
    "duration": 23,
    "start_time": "2022-06-15T12:36:29.620Z"
   },
   {
    "duration": 21,
    "start_time": "2022-06-15T12:36:32.531Z"
   },
   {
    "duration": 20,
    "start_time": "2022-06-15T12:36:35.648Z"
   },
   {
    "duration": 389,
    "start_time": "2022-06-15T12:39:30.490Z"
   },
   {
    "duration": 153542,
    "start_time": "2022-06-15T12:40:27.983Z"
   },
   {
    "duration": 25009,
    "start_time": "2022-06-15T12:43:56.830Z"
   },
   {
    "duration": 176,
    "start_time": "2022-06-15T12:44:50.665Z"
   },
   {
    "duration": 397,
    "start_time": "2022-06-15T12:45:05.682Z"
   },
   {
    "duration": 185,
    "start_time": "2022-06-15T12:45:13.561Z"
   },
   {
    "duration": 45,
    "start_time": "2022-06-15T13:58:33.512Z"
   },
   {
    "duration": 37,
    "start_time": "2022-06-15T13:58:41.410Z"
   },
   {
    "duration": 18,
    "start_time": "2022-06-15T13:58:47.195Z"
   },
   {
    "duration": 20,
    "start_time": "2022-06-15T13:58:50.531Z"
   },
   {
    "duration": 21,
    "start_time": "2022-06-15T13:58:57.102Z"
   },
   {
    "duration": 26,
    "start_time": "2022-06-15T13:59:00.914Z"
   },
   {
    "duration": 20,
    "start_time": "2022-06-15T13:59:06.268Z"
   },
   {
    "duration": 20,
    "start_time": "2022-06-15T13:59:19.441Z"
   },
   {
    "duration": 558,
    "start_time": "2022-06-15T14:01:58.063Z"
   },
   {
    "duration": 1667,
    "start_time": "2022-06-15T14:02:04.338Z"
   },
   {
    "duration": 2649,
    "start_time": "2022-06-15T14:02:11.173Z"
   },
   {
    "duration": 4584,
    "start_time": "2022-06-15T14:02:18.966Z"
   },
   {
    "duration": 36,
    "start_time": "2022-06-15T14:02:28.561Z"
   },
   {
    "duration": 1623,
    "start_time": "2022-06-15T14:02:33.842Z"
   },
   {
    "duration": 7075,
    "start_time": "2022-06-15T14:02:39.051Z"
   },
   {
    "duration": 1833,
    "start_time": "2022-06-15T14:02:59.257Z"
   },
   {
    "duration": 1844,
    "start_time": "2022-06-15T14:03:10.175Z"
   },
   {
    "duration": 3598,
    "start_time": "2022-06-15T14:03:16.731Z"
   },
   {
    "duration": 51,
    "start_time": "2022-06-15T15:07:27.818Z"
   },
   {
    "duration": 7708,
    "start_time": "2022-06-15T15:07:32.259Z"
   },
   {
    "duration": 780,
    "start_time": "2022-06-15T15:07:52.602Z"
   },
   {
    "duration": 61,
    "start_time": "2022-06-15T15:10:56.662Z"
   },
   {
    "duration": 868,
    "start_time": "2022-06-15T15:11:34.098Z"
   },
   {
    "duration": 897,
    "start_time": "2022-06-15T15:11:44.672Z"
   },
   {
    "duration": 1971,
    "start_time": "2022-06-15T16:13:33.933Z"
   },
   {
    "duration": 8,
    "start_time": "2022-06-15T16:14:53.990Z"
   },
   {
    "duration": 5,
    "start_time": "2022-06-15T16:14:54.408Z"
   },
   {
    "duration": 2272,
    "start_time": "2022-06-15T16:14:59.214Z"
   },
   {
    "duration": 3,
    "start_time": "2022-06-15T16:15:07.317Z"
   },
   {
    "duration": 4,
    "start_time": "2022-06-15T16:15:07.455Z"
   },
   {
    "duration": 18,
    "start_time": "2022-06-15T16:15:09.114Z"
   },
   {
    "duration": 931,
    "start_time": "2022-06-15T16:15:20.235Z"
   },
   {
    "duration": 9,
    "start_time": "2022-06-15T16:15:35.874Z"
   },
   {
    "duration": 8,
    "start_time": "2022-06-15T16:15:40.164Z"
   },
   {
    "duration": 11,
    "start_time": "2022-06-15T16:15:44.108Z"
   },
   {
    "duration": 156,
    "start_time": "2022-06-15T16:15:58.280Z"
   },
   {
    "duration": 14,
    "start_time": "2022-06-15T16:15:58.676Z"
   },
   {
    "duration": 13,
    "start_time": "2022-06-15T16:16:03.075Z"
   },
   {
    "duration": 345,
    "start_time": "2022-06-15T16:16:06.304Z"
   },
   {
    "duration": 8,
    "start_time": "2022-06-15T16:16:09.636Z"
   },
   {
    "duration": 578,
    "start_time": "2022-06-15T16:16:09.904Z"
   },
   {
    "duration": 4,
    "start_time": "2022-06-15T16:16:11.364Z"
   },
   {
    "duration": 172,
    "start_time": "2022-06-15T16:16:12.100Z"
   },
   {
    "duration": 173,
    "start_time": "2022-06-15T16:16:12.566Z"
   },
   {
    "duration": 237,
    "start_time": "2022-06-15T16:16:13.258Z"
   },
   {
    "duration": 183,
    "start_time": "2022-06-15T16:16:13.902Z"
   },
   {
    "duration": 210,
    "start_time": "2022-06-15T16:16:14.602Z"
   },
   {
    "duration": 263,
    "start_time": "2022-06-15T16:16:15.157Z"
   },
   {
    "duration": 4,
    "start_time": "2022-06-15T16:16:21.607Z"
   },
   {
    "duration": 13,
    "start_time": "2022-06-15T16:16:41.408Z"
   },
   {
    "duration": 9,
    "start_time": "2022-06-15T16:16:43.898Z"
   },
   {
    "duration": 5,
    "start_time": "2022-06-15T16:16:46.567Z"
   },
   {
    "duration": 2831,
    "start_time": "2022-06-15T16:16:50.305Z"
   },
   {
    "duration": 23,
    "start_time": "2022-06-15T16:17:04.650Z"
   },
   {
    "duration": 244305,
    "start_time": "2022-06-15T16:17:18.176Z"
   },
   {
    "duration": 28643,
    "start_time": "2022-06-15T16:21:22.485Z"
   },
   {
    "duration": 3,
    "start_time": "2022-06-15T16:21:51.130Z"
   },
   {
    "duration": 33,
    "start_time": "2022-06-15T16:21:51.135Z"
   },
   {
    "duration": 29,
    "start_time": "2022-06-15T16:21:51.171Z"
   },
   {
    "duration": 4534,
    "start_time": "2022-06-15T16:21:51.202Z"
   },
   {
    "duration": 33,
    "start_time": "2022-06-15T16:21:55.737Z"
   },
   {
    "duration": 317,
    "start_time": "2022-06-15T16:21:55.776Z"
   },
   {
    "duration": 147172,
    "start_time": "2022-06-15T16:21:56.095Z"
   },
   {
    "duration": 7,
    "start_time": "2022-06-15T16:24:23.272Z"
   },
   {
    "duration": 13,
    "start_time": "2022-06-15T16:24:23.283Z"
   },
   {
    "duration": 1412,
    "start_time": "2022-06-15T16:24:28.574Z"
   },
   {
    "duration": 293,
    "start_time": "2022-06-15T16:24:35.413Z"
   },
   {
    "duration": 6,
    "start_time": "2022-06-15T16:25:18.234Z"
   },
   {
    "duration": 9,
    "start_time": "2022-06-15T16:25:20.806Z"
   },
   {
    "duration": 354,
    "start_time": "2022-06-15T16:25:24.649Z"
   },
   {
    "duration": 15,
    "start_time": "2022-06-15T16:25:25.005Z"
   },
   {
    "duration": 14,
    "start_time": "2022-06-15T16:25:25.312Z"
   },
   {
    "duration": 410,
    "start_time": "2022-06-15T16:25:26.050Z"
   },
   {
    "duration": 13,
    "start_time": "2022-06-15T16:25:26.659Z"
   },
   {
    "duration": 568,
    "start_time": "2022-06-15T16:25:26.827Z"
   },
   {
    "duration": 4,
    "start_time": "2022-06-15T16:25:27.397Z"
   },
   {
    "duration": 203,
    "start_time": "2022-06-15T16:25:27.403Z"
   },
   {
    "duration": 190,
    "start_time": "2022-06-15T16:25:27.608Z"
   },
   {
    "duration": 250,
    "start_time": "2022-06-15T16:25:27.846Z"
   },
   {
    "duration": 190,
    "start_time": "2022-06-15T16:25:28.098Z"
   },
   {
    "duration": 214,
    "start_time": "2022-06-15T16:25:28.304Z"
   },
   {
    "duration": 287,
    "start_time": "2022-06-15T16:25:28.573Z"
   },
   {
    "duration": 4,
    "start_time": "2022-06-15T16:25:30.112Z"
   },
   {
    "duration": 11,
    "start_time": "2022-06-15T16:25:30.475Z"
   },
   {
    "duration": 13,
    "start_time": "2022-06-15T16:25:33.377Z"
   },
   {
    "duration": 5,
    "start_time": "2022-06-15T16:25:34.650Z"
   },
   {
    "duration": 1643,
    "start_time": "2022-06-15T16:25:37.524Z"
   },
   {
    "duration": 3,
    "start_time": "2022-06-15T16:25:46.812Z"
   },
   {
    "duration": 3,
    "start_time": "2022-06-15T16:25:46.999Z"
   },
   {
    "duration": 22,
    "start_time": "2022-06-15T16:25:47.652Z"
   },
   {
    "duration": 12,
    "start_time": "2022-06-15T16:25:57.095Z"
   },
   {
    "duration": 261,
    "start_time": "2022-06-15T16:25:58.525Z"
   },
   {
    "duration": 94438,
    "start_time": "2022-06-15T16:26:02.235Z"
   },
   {
    "duration": 119084,
    "start_time": "2022-06-15T16:27:44.146Z"
   },
   {
    "duration": 23899,
    "start_time": "2022-06-15T16:29:43.232Z"
   },
   {
    "duration": 4,
    "start_time": "2022-06-15T16:30:07.134Z"
   },
   {
    "duration": 7,
    "start_time": "2022-06-15T16:30:07.141Z"
   },
   {
    "duration": 27,
    "start_time": "2022-06-15T16:30:07.150Z"
   },
   {
    "duration": 571,
    "start_time": "2022-06-15T16:30:07.179Z"
   },
   {
    "duration": 35,
    "start_time": "2022-06-15T16:30:07.752Z"
   },
   {
    "duration": 190,
    "start_time": "2022-06-15T16:30:07.789Z"
   },
   {
    "duration": 55289,
    "start_time": "2022-06-15T16:30:07.981Z"
   },
   {
    "duration": 5,
    "start_time": "2022-06-15T16:31:03.275Z"
   },
   {
    "duration": 11,
    "start_time": "2022-06-15T16:31:03.282Z"
   },
   {
    "duration": 89,
    "start_time": "2022-06-15T16:32:58.808Z"
   },
   {
    "duration": 14,
    "start_time": "2022-06-15T16:32:59.089Z"
   },
   {
    "duration": 17,
    "start_time": "2022-06-15T16:32:59.646Z"
   },
   {
    "duration": 273,
    "start_time": "2022-06-15T16:33:00.652Z"
   },
   {
    "duration": 8,
    "start_time": "2022-06-15T16:33:02.528Z"
   },
   {
    "duration": 792,
    "start_time": "2022-06-15T16:33:03.167Z"
   },
   {
    "duration": 5,
    "start_time": "2022-06-15T16:33:06.043Z"
   },
   {
    "duration": 7,
    "start_time": "2022-06-15T16:33:10.257Z"
   },
   {
    "duration": 202,
    "start_time": "2022-06-15T16:33:10.733Z"
   },
   {
    "duration": 189,
    "start_time": "2022-06-15T16:33:10.937Z"
   },
   {
    "duration": 256,
    "start_time": "2022-06-15T16:33:11.136Z"
   },
   {
    "duration": 192,
    "start_time": "2022-06-15T16:33:11.467Z"
   },
   {
    "duration": 238,
    "start_time": "2022-06-15T16:33:11.900Z"
   },
   {
    "duration": 262,
    "start_time": "2022-06-15T16:33:12.237Z"
   },
   {
    "duration": 4,
    "start_time": "2022-06-15T16:33:16.950Z"
   },
   {
    "duration": 23,
    "start_time": "2022-06-15T16:33:22.855Z"
   },
   {
    "duration": 10,
    "start_time": "2022-06-15T16:33:23.840Z"
   },
   {
    "duration": 6,
    "start_time": "2022-06-15T16:33:25.469Z"
   },
   {
    "duration": 3922,
    "start_time": "2022-06-15T16:33:26.598Z"
   },
   {
    "duration": 327083,
    "start_time": "2022-06-15T16:33:30.522Z"
   },
   {
    "duration": 34022,
    "start_time": "2022-06-15T16:38:57.607Z"
   },
   {
    "duration": 4,
    "start_time": "2022-06-15T16:39:31.633Z"
   },
   {
    "duration": 12,
    "start_time": "2022-06-15T16:39:31.639Z"
   },
   {
    "duration": 54,
    "start_time": "2022-06-15T16:39:31.653Z"
   },
   {
    "duration": 2098,
    "start_time": "2022-06-15T16:39:31.709Z"
   },
   {
    "duration": 13,
    "start_time": "2022-06-15T16:39:33.809Z"
   },
   {
    "duration": 247,
    "start_time": "2022-06-15T16:39:33.865Z"
   },
   {
    "duration": 76179,
    "start_time": "2022-06-15T16:39:34.115Z"
   },
   {
    "duration": 68,
    "start_time": "2022-06-15T16:40:50.296Z"
   },
   {
    "duration": 16,
    "start_time": "2022-06-15T16:40:50.367Z"
   },
   {
    "duration": 1726,
    "start_time": "2022-06-15T16:57:07.371Z"
   },
   {
    "duration": 88,
    "start_time": "2022-06-15T16:57:30.216Z"
   },
   {
    "duration": 15,
    "start_time": "2022-06-15T16:57:30.981Z"
   },
   {
    "duration": 16,
    "start_time": "2022-06-15T16:57:35.047Z"
   },
   {
    "duration": 34,
    "start_time": "2022-06-15T16:57:59.857Z"
   },
   {
    "duration": 11,
    "start_time": "2022-06-15T16:58:03.410Z"
   },
   {
    "duration": 6,
    "start_time": "2022-06-15T16:58:06.117Z"
   },
   {
    "duration": 9484,
    "start_time": "2022-06-15T16:58:10.853Z"
   },
   {
    "duration": 4,
    "start_time": "2022-06-15T16:58:35.301Z"
   },
   {
    "duration": 92,
    "start_time": "2022-06-15T16:58:36.200Z"
   },
   {
    "duration": 58518,
    "start_time": "2022-06-15T16:58:44.055Z"
   },
   {
    "duration": 185,
    "start_time": "2022-06-15T16:59:42.575Z"
   },
   {
    "duration": 100,
    "start_time": "2022-06-15T17:10:23.951Z"
   },
   {
    "duration": 32,
    "start_time": "2022-06-15T17:10:24.054Z"
   },
   {
    "duration": 19,
    "start_time": "2022-06-15T17:10:25.993Z"
   },
   {
    "duration": 4,
    "start_time": "2022-06-15T17:10:36.593Z"
   },
   {
    "duration": 16,
    "start_time": "2022-06-15T17:10:40.844Z"
   },
   {
    "duration": 9,
    "start_time": "2022-06-15T17:10:43.898Z"
   },
   {
    "duration": 6,
    "start_time": "2022-06-15T17:10:44.908Z"
   },
   {
    "duration": 4330,
    "start_time": "2022-06-15T17:10:58.654Z"
   },
   {
    "duration": 29,
    "start_time": "2022-06-15T17:11:09.685Z"
   },
   {
    "duration": 22,
    "start_time": "2022-06-15T17:11:24.990Z"
   },
   {
    "duration": 103,
    "start_time": "2022-06-15T17:11:29.559Z"
   },
   {
    "duration": 23,
    "start_time": "2022-06-15T17:11:29.774Z"
   },
   {
    "duration": 16,
    "start_time": "2022-06-15T17:11:30.698Z"
   },
   {
    "duration": 310,
    "start_time": "2022-06-15T17:11:31.532Z"
   },
   {
    "duration": 37,
    "start_time": "2022-06-15T17:11:42.783Z"
   },
   {
    "duration": 12,
    "start_time": "2022-06-15T17:11:44.126Z"
   },
   {
    "duration": 8,
    "start_time": "2022-06-15T17:11:45.578Z"
   },
   {
    "duration": 8382,
    "start_time": "2022-06-15T17:11:49.958Z"
   },
   {
    "duration": 55,
    "start_time": "2022-06-15T17:12:11.543Z"
   },
   {
    "duration": 343,
    "start_time": "2022-06-15T17:12:20.839Z"
   },
   {
    "duration": 315824,
    "start_time": "2022-06-15T17:12:25.350Z"
   },
   {
    "duration": 1725,
    "start_time": "2022-06-15T17:26:19.752Z"
   },
   {
    "duration": 363,
    "start_time": "2022-06-15T17:26:21.889Z"
   },
   {
    "duration": 47,
    "start_time": "2022-06-15T17:26:22.255Z"
   },
   {
    "duration": 25,
    "start_time": "2022-06-15T17:26:23.458Z"
   },
   {
    "duration": 289,
    "start_time": "2022-06-15T17:26:24.891Z"
   },
   {
    "duration": 12,
    "start_time": "2022-06-15T17:26:26.290Z"
   },
   {
    "duration": 810,
    "start_time": "2022-06-15T17:26:26.546Z"
   },
   {
    "duration": 5,
    "start_time": "2022-06-15T17:26:27.358Z"
   },
   {
    "duration": 203,
    "start_time": "2022-06-15T17:26:27.541Z"
   },
   {
    "duration": 198,
    "start_time": "2022-06-15T17:26:28.324Z"
   },
   {
    "duration": 293,
    "start_time": "2022-06-15T17:26:28.610Z"
   },
   {
    "duration": 215,
    "start_time": "2022-06-15T17:26:28.908Z"
   },
   {
    "duration": 239,
    "start_time": "2022-06-15T17:26:29.199Z"
   },
   {
    "duration": 300,
    "start_time": "2022-06-15T17:26:29.475Z"
   },
   {
    "duration": 16,
    "start_time": "2022-06-15T17:26:33.557Z"
   },
   {
    "duration": 37,
    "start_time": "2022-06-15T17:26:34.050Z"
   },
   {
    "duration": 12,
    "start_time": "2022-06-15T17:26:36.906Z"
   },
   {
    "duration": 5,
    "start_time": "2022-06-15T17:26:37.723Z"
   },
   {
    "duration": 8121,
    "start_time": "2022-06-15T17:26:43.709Z"
   },
   {
    "duration": 742202,
    "start_time": "2022-06-15T17:26:51.833Z"
   },
   {
    "duration": 58461,
    "start_time": "2022-06-15T17:39:14.038Z"
   },
   {
    "duration": 6,
    "start_time": "2022-06-15T17:40:12.501Z"
   },
   {
    "duration": 12,
    "start_time": "2022-06-15T17:40:12.509Z"
   },
   {
    "duration": 62,
    "start_time": "2022-06-15T17:40:12.523Z"
   },
   {
    "duration": 4877,
    "start_time": "2022-06-15T17:40:12.587Z"
   },
   {
    "duration": 202,
    "start_time": "2022-06-15T17:40:17.467Z"
   },
   {
    "duration": 853,
    "start_time": "2022-06-15T17:41:57.636Z"
   },
   {
    "duration": 306895,
    "start_time": "2022-06-15T17:41:59.073Z"
   },
   {
    "duration": 6,
    "start_time": "2022-06-15T17:47:05.972Z"
   },
   {
    "duration": 93,
    "start_time": "2022-06-15T17:47:05.980Z"
   },
   {
    "duration": 51,
    "start_time": "2022-06-15T17:47:33.941Z"
   },
   {
    "duration": 29,
    "start_time": "2022-06-15T17:47:40.613Z"
   },
   {
    "duration": 42,
    "start_time": "2022-06-15T17:47:53.050Z"
   },
   {
    "duration": 9,
    "start_time": "2022-06-15T17:48:26.817Z"
   },
   {
    "duration": 300547,
    "start_time": "2022-06-15T17:49:17.733Z"
   }
  ],
  "kernelspec": {
   "display_name": "Python 3 (ipykernel)",
   "language": "python",
   "name": "python3"
  },
  "language_info": {
   "codemirror_mode": {
    "name": "ipython",
    "version": 3
   },
   "file_extension": ".py",
   "mimetype": "text/x-python",
   "name": "python",
   "nbconvert_exporter": "python",
   "pygments_lexer": "ipython3",
   "version": "3.9.12"
  },
  "toc": {
   "base_numbering": 1,
   "nav_menu": {},
   "number_sections": true,
   "sideBar": true,
   "skip_h1_title": true,
   "title_cell": "Содержание",
   "title_sidebar": "Contents",
   "toc_cell": true,
   "toc_position": {
    "height": "calc(100% - 180px)",
    "left": "10px",
    "top": "150px",
    "width": "302.391px"
   },
   "toc_section_display": true,
   "toc_window_display": true
  }
 },
 "nbformat": 4,
 "nbformat_minor": 5
}
