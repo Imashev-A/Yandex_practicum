{
 "cells": [
  {
   "cell_type": "markdown",
   "id": "04193b4e",
   "metadata": {
    "toc": true
   },
   "source": [
    "<h1>Содержание<span class=\"tocSkip\"></span></h1>\n",
    "<div class=\"toc\"><ul class=\"toc-item\"><li><span><a href=\"#Подготовка-данных\" data-toc-modified-id=\"Подготовка-данных-1\"><span class=\"toc-item-num\">1&nbsp;&nbsp;</span>Подготовка данных</a></span><ul class=\"toc-item\"><li><span><a href=\"#Таблица-data_arc\" data-toc-modified-id=\"Таблица-data_arc-1.1\"><span class=\"toc-item-num\">1.1&nbsp;&nbsp;</span>Таблица data_arc</a></span><ul class=\"toc-item\"><li><span><a href=\"#Переименование-столбцов\" data-toc-modified-id=\"Переименование-столбцов-1.1.1\"><span class=\"toc-item-num\">1.1.1&nbsp;&nbsp;</span>Переименование столбцов</a></span></li><li><span><a href=\"#Замена-типа-данных\" data-toc-modified-id=\"Замена-типа-данных-1.1.2\"><span class=\"toc-item-num\">1.1.2&nbsp;&nbsp;</span>Замена типа данных</a></span></li><li><span><a href=\"#Изучим-данные\" data-toc-modified-id=\"Изучим-данные-1.1.3\"><span class=\"toc-item-num\">1.1.3&nbsp;&nbsp;</span>Изучим данные</a></span></li><li><span><a href=\"#Посмотрим-на-данные-на-диаграмме-размаха\" data-toc-modified-id=\"Посмотрим-на-данные-на-диаграмме-размаха-1.1.4\"><span class=\"toc-item-num\">1.1.4&nbsp;&nbsp;</span>Посмотрим на данные на диаграмме размаха</a></span></li><li><span><a href=\"#Расчет-мощности-и-времени\" data-toc-modified-id=\"Расчет-мощности-и-времени-1.1.5\"><span class=\"toc-item-num\">1.1.5&nbsp;&nbsp;</span>Расчет мощности и времени</a></span></li></ul></li><li><span><a href=\"#Таблица-data_bulk\" data-toc-modified-id=\"Таблица-data_bulk-1.2\"><span class=\"toc-item-num\">1.2&nbsp;&nbsp;</span>Таблица data_bulk</a></span><ul class=\"toc-item\"><li><span><a href=\"#Переименование-столбцов\" data-toc-modified-id=\"Переименование-столбцов-1.2.1\"><span class=\"toc-item-num\">1.2.1&nbsp;&nbsp;</span>Переименование столбцов</a></span></li><li><span><a href=\"#Изучим-данные\" data-toc-modified-id=\"Изучим-данные-1.2.2\"><span class=\"toc-item-num\">1.2.2&nbsp;&nbsp;</span>Изучим данные</a></span></li><li><span><a href=\"#Посмотрим-на-данные-на-диаграмме-размаха\" data-toc-modified-id=\"Посмотрим-на-данные-на-диаграмме-размаха-1.2.3\"><span class=\"toc-item-num\">1.2.3&nbsp;&nbsp;</span>Посмотрим на данные на диаграмме размаха</a></span></li></ul></li><li><span><a href=\"#Таблица-data_bulk_time\" data-toc-modified-id=\"Таблица-data_bulk_time-1.3\"><span class=\"toc-item-num\">1.3&nbsp;&nbsp;</span>Таблица data_bulk_time</a></span></li><li><span><a href=\"#Таблица-data_gas\" data-toc-modified-id=\"Таблица-data_gas-1.4\"><span class=\"toc-item-num\">1.4&nbsp;&nbsp;</span>Таблица data_gas</a></span><ul class=\"toc-item\"><li><span><a href=\"#Переименование-столбцов\" data-toc-modified-id=\"Переименование-столбцов-1.4.1\"><span class=\"toc-item-num\">1.4.1&nbsp;&nbsp;</span>Переименование столбцов</a></span></li><li><span><a href=\"#Изучим-данные\" data-toc-modified-id=\"Изучим-данные-1.4.2\"><span class=\"toc-item-num\">1.4.2&nbsp;&nbsp;</span>Изучим данные</a></span></li><li><span><a href=\"#Посмотрим-данные-на-диаграммах\" data-toc-modified-id=\"Посмотрим-данные-на-диаграммах-1.4.3\"><span class=\"toc-item-num\">1.4.3&nbsp;&nbsp;</span>Посмотрим данные на диаграммах</a></span></li></ul></li><li><span><a href=\"#Таблица-data_temp\" data-toc-modified-id=\"Таблица-data_temp-1.5\"><span class=\"toc-item-num\">1.5&nbsp;&nbsp;</span>Таблица data_temp</a></span><ul class=\"toc-item\"><li><span><a href=\"#Переименование-столбцов\" data-toc-modified-id=\"Переименование-столбцов-1.5.1\"><span class=\"toc-item-num\">1.5.1&nbsp;&nbsp;</span>Переименование столбцов</a></span></li><li><span><a href=\"#Замена-типа-данных\" data-toc-modified-id=\"Замена-типа-данных-1.5.2\"><span class=\"toc-item-num\">1.5.2&nbsp;&nbsp;</span>Замена типа данных</a></span></li><li><span><a href=\"#Посмотрим-данные-на-диаграммах\" data-toc-modified-id=\"Посмотрим-данные-на-диаграммах-1.5.3\"><span class=\"toc-item-num\">1.5.3&nbsp;&nbsp;</span>Посмотрим данные на диаграммах</a></span></li><li><span><a href=\"#Изучим-данные\" data-toc-modified-id=\"Изучим-данные-1.5.4\"><span class=\"toc-item-num\">1.5.4&nbsp;&nbsp;</span>Изучим данные</a></span></li></ul></li><li><span><a href=\"#Таблица-data_wire\" data-toc-modified-id=\"Таблица-data_wire-1.6\"><span class=\"toc-item-num\">1.6&nbsp;&nbsp;</span>Таблица data_wire</a></span><ul class=\"toc-item\"><li><span><a href=\"#Переименование-столбцов\" data-toc-modified-id=\"Переименование-столбцов-1.6.1\"><span class=\"toc-item-num\">1.6.1&nbsp;&nbsp;</span>Переименование столбцов</a></span></li><li><span><a href=\"#Изучим-данные\" data-toc-modified-id=\"Изучим-данные-1.6.2\"><span class=\"toc-item-num\">1.6.2&nbsp;&nbsp;</span>Изучим данные</a></span></li><li><span><a href=\"#Посмотрим-на-данные-на-диаграмме-размаха\" data-toc-modified-id=\"Посмотрим-на-данные-на-диаграмме-размаха-1.6.3\"><span class=\"toc-item-num\">1.6.3&nbsp;&nbsp;</span>Посмотрим на данные на диаграмме размаха</a></span></li></ul></li><li><span><a href=\"#Таблица-data_wire_time\" data-toc-modified-id=\"Таблица-data_wire_time-1.7\"><span class=\"toc-item-num\">1.7&nbsp;&nbsp;</span>Таблица data_wire_time</a></span></li><li><span><a href=\"#Вывод\" data-toc-modified-id=\"Вывод-1.8\"><span class=\"toc-item-num\">1.8&nbsp;&nbsp;</span>Вывод</a></span></li></ul></li><li><span><a href=\"#Исследование-задачи\" data-toc-modified-id=\"Исследование-задачи-2\"><span class=\"toc-item-num\">2&nbsp;&nbsp;</span>Исследование задачи</a></span><ul class=\"toc-item\"><li><span><a href=\"#Объединение-данных\" data-toc-modified-id=\"Объединение-данных-2.1\"><span class=\"toc-item-num\">2.1&nbsp;&nbsp;</span>Объединение данных</a></span></li><li><span><a href=\"#Разобьем-признаки-для-обучения\" data-toc-modified-id=\"Разобьем-признаки-для-обучения-2.2\"><span class=\"toc-item-num\">2.2&nbsp;&nbsp;</span>Разобьем признаки для обучения</a></span></li></ul></li><li><span><a href=\"#Обучение-модели\" data-toc-modified-id=\"Обучение-модели-3\"><span class=\"toc-item-num\">3&nbsp;&nbsp;</span>Обучение модели</a></span><ul class=\"toc-item\"><li><span><a href=\"#Дерево-решений\" data-toc-modified-id=\"Дерево-решений-3.1\"><span class=\"toc-item-num\">3.1&nbsp;&nbsp;</span>Дерево решений</a></span></li><li><span><a href=\"#Случайный-лес\" data-toc-modified-id=\"Случайный-лес-3.2\"><span class=\"toc-item-num\">3.2&nbsp;&nbsp;</span>Случайный лес</a></span></li><li><span><a href=\"#CatBoost\" data-toc-modified-id=\"CatBoost-3.3\"><span class=\"toc-item-num\">3.3&nbsp;&nbsp;</span>CatBoost</a></span></li><li><span><a href=\"#LGBMRegressor\" data-toc-modified-id=\"LGBMRegressor-3.4\"><span class=\"toc-item-num\">3.4&nbsp;&nbsp;</span>LGBMRegressor</a></span></li><li><span><a href=\"#Линейная-регрессия\" data-toc-modified-id=\"Линейная-регрессия-3.5\"><span class=\"toc-item-num\">3.5&nbsp;&nbsp;</span>Линейная регрессия</a></span></li><li><span><a href=\"#Ridge\" data-toc-modified-id=\"Ridge-3.6\"><span class=\"toc-item-num\">3.6&nbsp;&nbsp;</span>Ridge</a></span></li></ul></li><li><span><a href=\"#Тестирование\" data-toc-modified-id=\"Тестирование-4\"><span class=\"toc-item-num\">4&nbsp;&nbsp;</span>Тестирование</a></span><ul class=\"toc-item\"><li><span><a href=\"#Визуализация-предсказания\" data-toc-modified-id=\"Визуализация-предсказания-4.1\"><span class=\"toc-item-num\">4.1&nbsp;&nbsp;</span>Визуализация предсказания</a></span></li><li><span><a href=\"#Анализ-важности\" data-toc-modified-id=\"Анализ-важности-4.2\"><span class=\"toc-item-num\">4.2&nbsp;&nbsp;</span>Анализ важности</a></span></li></ul></li><li><span><a href=\"#Вывод\" data-toc-modified-id=\"Вывод-5\"><span class=\"toc-item-num\">5&nbsp;&nbsp;</span>Вывод</a></span></li></ul></div>"
   ]
  },
  {
   "cell_type": "markdown",
   "id": "46b98ae6",
   "metadata": {},
   "source": [
    "# Металлургический комбинат ООО «Так закаляем сталь» "
   ]
  },
  {
   "cell_type": "markdown",
   "id": "af020cfa",
   "metadata": {},
   "source": [
    "**Описание этапа обработки**\n",
    "\n",
    "Сталь обрабатывают в металлическом ковше вместимостью около 100 тонн. Чтобы ковш выдерживал высокие температуры, изнутри его облицовывают огнеупорным кирпичом. Расплавленную сталь заливают в ковш и подогревают до нужной температуры графитовыми электродами. Они установлены в крышке ковша. \n",
    "\n",
    "Из сплава выводится сера (десульфурация), добавлением примесей корректируется химический состав и отбираются пробы. Сталь легируют — изменяют её состав — подавая куски сплава из бункера для сыпучих материалов или проволоку через специальный трайб-аппарат (англ. tribe, «масса»).\n",
    "\n",
    "Перед тем как первый раз ввести легирующие добавки, измеряют температуру стали и производят её химический анализ. Потом температуру на несколько минут повышают, добавляют легирующие материалы и продувают сплав инертным газом. Затем его перемешивают и снова проводят измерения. Такой цикл повторяется до достижения целевого химического состава и оптимальной температуры плавки.\n",
    "\n",
    "Тогда расплавленная сталь отправляется на доводку металла или поступает в машину непрерывной разливки. Оттуда готовый продукт выходит в виде заготовок-слябов (англ. *slab*, «плита»).\n",
    "\n",
    "**Описание данных**\n",
    "\n",
    "Данные состоят из файлов, полученных из разных источников:\n",
    "\n",
    "- `data_arc.csv` — данные об электродах;\n",
    "- `data_bulk.csv` — данные о подаче сыпучих материалов (объём);\n",
    "- `data_bulk_time.csv` *—* данные о подаче сыпучих материалов (время);\n",
    "- `data_gas.csv` — данные о продувке сплава газом;\n",
    "- `data_temp.csv` — результаты измерения температуры;\n",
    "- `data_wire.csv` — данные о проволочных материалах (объём);\n",
    "- `data_wire_time.csv` — данные о проволочных материалах (время).\n",
    "\n",
    "Во всех файлах столбец `key` содержит номер партии. В файлах может быть несколько строк с одинаковым значением `key`: они соответствуют разным итерациям обработки.\n",
    "\n",
    "Задача достигнуть метрики МАЕ < 6.8"
   ]
  },
  {
   "cell_type": "markdown",
   "id": "6f847652",
   "metadata": {},
   "source": [
    "## Подготовка данных"
   ]
  },
  {
   "cell_type": "code",
   "execution_count": 1,
   "id": "cc780e30",
   "metadata": {},
   "outputs": [],
   "source": [
    "import pandas as pd\n",
    "import matplotlib.pyplot as plt\n",
    "import numpy as np\n",
    "import time\n",
    "\n",
    "from catboost import CatBoostRegressor\n",
    "from lightgbm import LGBMRegressor\n",
    "from sklearn.ensemble import RandomForestRegressor\n",
    "from sklearn.linear_model import LinearRegression, Ridge\n",
    "from sklearn.metrics import mean_absolute_error\n",
    "from sklearn.model_selection import cross_val_score, GridSearchCV, TimeSeriesSplit, train_test_split\n",
    "from sklearn.tree import DecisionTreeRegressor"
   ]
  },
  {
   "cell_type": "markdown",
   "id": "6c70efac",
   "metadata": {},
   "source": [
    "Загрузим данные"
   ]
  },
  {
   "cell_type": "code",
   "execution_count": 2,
   "id": "88a75826",
   "metadata": {
    "scrolled": true
   },
   "outputs": [],
   "source": [
    "path = './datasets/final_steel'\n",
    "\n",
    "data_arc = pd.read_csv(path + '/data_arc.csv')\n",
    "data_bulk = pd.read_csv(path + '/data_bulk.csv', index_col=0)\n",
    "data_bulk_time = pd.read_csv(path + '/data_bulk_time.csv', index_col=0)\n",
    "data_gas = pd.read_csv(path + '/data_gas.csv', index_col=0)\n",
    "data_temp = pd.read_csv(path + '/data_temp.csv')\n",
    "data_wire = pd.read_csv(path + '/data_wire.csv', index_col=0)\n",
    "data_wire_time = pd.read_csv(path + '/data_wire_time.csv', index_col=0)"
   ]
  },
  {
   "cell_type": "markdown",
   "id": "5c0bcbe4",
   "metadata": {},
   "source": [
    "### Таблица data_arc"
   ]
  },
  {
   "cell_type": "markdown",
   "id": "8af07482",
   "metadata": {},
   "source": [
    "Посмотрим на данные таблицы data_arc"
   ]
  },
  {
   "cell_type": "code",
   "execution_count": 3,
   "id": "b1268b40",
   "metadata": {
    "scrolled": false
   },
   "outputs": [
    {
     "name": "stdout",
     "output_type": "stream",
     "text": [
      "<class 'pandas.core.frame.DataFrame'>\n",
      "RangeIndex: 14876 entries, 0 to 14875\n",
      "Data columns (total 5 columns):\n",
      " #   Column                Non-Null Count  Dtype  \n",
      "---  ------                --------------  -----  \n",
      " 0   key                   14876 non-null  int64  \n",
      " 1   Начало нагрева дугой  14876 non-null  object \n",
      " 2   Конец нагрева дугой   14876 non-null  object \n",
      " 3   Активная мощность     14876 non-null  float64\n",
      " 4   Реактивная мощность   14876 non-null  float64\n",
      "dtypes: float64(2), int64(1), object(2)\n",
      "memory usage: 581.2+ KB\n"
     ]
    },
    {
     "data": {
      "text/html": [
       "<div>\n",
       "<style scoped>\n",
       "    .dataframe tbody tr th:only-of-type {\n",
       "        vertical-align: middle;\n",
       "    }\n",
       "\n",
       "    .dataframe tbody tr th {\n",
       "        vertical-align: top;\n",
       "    }\n",
       "\n",
       "    .dataframe thead th {\n",
       "        text-align: right;\n",
       "    }\n",
       "</style>\n",
       "<table border=\"1\" class=\"dataframe\">\n",
       "  <thead>\n",
       "    <tr style=\"text-align: right;\">\n",
       "      <th></th>\n",
       "      <th>key</th>\n",
       "      <th>Начало нагрева дугой</th>\n",
       "      <th>Конец нагрева дугой</th>\n",
       "      <th>Активная мощность</th>\n",
       "      <th>Реактивная мощность</th>\n",
       "    </tr>\n",
       "  </thead>\n",
       "  <tbody>\n",
       "    <tr>\n",
       "      <th>0</th>\n",
       "      <td>1</td>\n",
       "      <td>2019-05-03 11:02:14</td>\n",
       "      <td>2019-05-03 11:06:02</td>\n",
       "      <td>0.976059</td>\n",
       "      <td>0.687084</td>\n",
       "    </tr>\n",
       "    <tr>\n",
       "      <th>1</th>\n",
       "      <td>1</td>\n",
       "      <td>2019-05-03 11:07:28</td>\n",
       "      <td>2019-05-03 11:10:33</td>\n",
       "      <td>0.805607</td>\n",
       "      <td>0.520285</td>\n",
       "    </tr>\n",
       "    <tr>\n",
       "      <th>2</th>\n",
       "      <td>1</td>\n",
       "      <td>2019-05-03 11:11:44</td>\n",
       "      <td>2019-05-03 11:14:36</td>\n",
       "      <td>0.744363</td>\n",
       "      <td>0.498805</td>\n",
       "    </tr>\n",
       "    <tr>\n",
       "      <th>3</th>\n",
       "      <td>1</td>\n",
       "      <td>2019-05-03 11:18:14</td>\n",
       "      <td>2019-05-03 11:24:19</td>\n",
       "      <td>1.659363</td>\n",
       "      <td>1.062669</td>\n",
       "    </tr>\n",
       "    <tr>\n",
       "      <th>4</th>\n",
       "      <td>1</td>\n",
       "      <td>2019-05-03 11:26:09</td>\n",
       "      <td>2019-05-03 11:28:37</td>\n",
       "      <td>0.692755</td>\n",
       "      <td>0.414397</td>\n",
       "    </tr>\n",
       "    <tr>\n",
       "      <th>5</th>\n",
       "      <td>2</td>\n",
       "      <td>2019-05-03 11:34:14</td>\n",
       "      <td>2019-05-03 11:36:31</td>\n",
       "      <td>0.438063</td>\n",
       "      <td>0.283043</td>\n",
       "    </tr>\n",
       "    <tr>\n",
       "      <th>6</th>\n",
       "      <td>2</td>\n",
       "      <td>2019-05-03 11:38:50</td>\n",
       "      <td>2019-05-03 11:44:28</td>\n",
       "      <td>1.296415</td>\n",
       "      <td>0.892914</td>\n",
       "    </tr>\n",
       "    <tr>\n",
       "      <th>7</th>\n",
       "      <td>2</td>\n",
       "      <td>2019-05-03 11:46:19</td>\n",
       "      <td>2019-05-03 11:48:25</td>\n",
       "      <td>0.490377</td>\n",
       "      <td>0.305281</td>\n",
       "    </tr>\n",
       "    <tr>\n",
       "      <th>8</th>\n",
       "      <td>2</td>\n",
       "      <td>2019-05-03 11:49:48</td>\n",
       "      <td>2019-05-03 11:53:18</td>\n",
       "      <td>0.827743</td>\n",
       "      <td>0.516874</td>\n",
       "    </tr>\n",
       "    <tr>\n",
       "      <th>9</th>\n",
       "      <td>3</td>\n",
       "      <td>2019-05-03 12:06:54</td>\n",
       "      <td>2019-05-03 12:11:34</td>\n",
       "      <td>1.062053</td>\n",
       "      <td>0.671494</td>\n",
       "    </tr>\n",
       "  </tbody>\n",
       "</table>\n",
       "</div>"
      ],
      "text/plain": [
       "   key Начало нагрева дугой  Конец нагрева дугой  Активная мощность  \\\n",
       "0    1  2019-05-03 11:02:14  2019-05-03 11:06:02           0.976059   \n",
       "1    1  2019-05-03 11:07:28  2019-05-03 11:10:33           0.805607   \n",
       "2    1  2019-05-03 11:11:44  2019-05-03 11:14:36           0.744363   \n",
       "3    1  2019-05-03 11:18:14  2019-05-03 11:24:19           1.659363   \n",
       "4    1  2019-05-03 11:26:09  2019-05-03 11:28:37           0.692755   \n",
       "5    2  2019-05-03 11:34:14  2019-05-03 11:36:31           0.438063   \n",
       "6    2  2019-05-03 11:38:50  2019-05-03 11:44:28           1.296415   \n",
       "7    2  2019-05-03 11:46:19  2019-05-03 11:48:25           0.490377   \n",
       "8    2  2019-05-03 11:49:48  2019-05-03 11:53:18           0.827743   \n",
       "9    3  2019-05-03 12:06:54  2019-05-03 12:11:34           1.062053   \n",
       "\n",
       "   Реактивная мощность  \n",
       "0             0.687084  \n",
       "1             0.520285  \n",
       "2             0.498805  \n",
       "3             1.062669  \n",
       "4             0.414397  \n",
       "5             0.283043  \n",
       "6             0.892914  \n",
       "7             0.305281  \n",
       "8             0.516874  \n",
       "9             0.671494  "
      ]
     },
     "execution_count": 3,
     "metadata": {},
     "output_type": "execute_result"
    }
   ],
   "source": [
    "data_arc.info()\n",
    "data_arc.head(10)"
   ]
  },
  {
   "cell_type": "markdown",
   "id": "b4963727",
   "metadata": {},
   "source": [
    "#### Переименование столбцов"
   ]
  },
  {
   "cell_type": "markdown",
   "id": "1ac1643e",
   "metadata": {},
   "source": [
    "Приведем названия столбцов к единому стилю."
   ]
  },
  {
   "cell_type": "code",
   "execution_count": 4,
   "id": "72d760ee",
   "metadata": {},
   "outputs": [
    {
     "data": {
      "text/plain": [
       "Index(['key', 'start_heat', 'end_heat', 'active', 'reactive'], dtype='object')"
      ]
     },
     "execution_count": 4,
     "metadata": {},
     "output_type": "execute_result"
    }
   ],
   "source": [
    "data_arc.columns = ['key', 'start_heat', 'end_heat', 'active', 'reactive']\n",
    "data_arc.columns"
   ]
  },
  {
   "cell_type": "markdown",
   "id": "f78edcff",
   "metadata": {},
   "source": [
    "#### Замена типа данных"
   ]
  },
  {
   "cell_type": "markdown",
   "id": "809a2a58",
   "metadata": {},
   "source": [
    "Заменим типы данных на дате в столбцах `start_heat` и `end_heat`"
   ]
  },
  {
   "cell_type": "code",
   "execution_count": 5,
   "id": "f431b5cc",
   "metadata": {
    "scrolled": true
   },
   "outputs": [],
   "source": [
    "data_arc = data_arc.astype({'start_heat':'datetime64', 'end_heat':'datetime64'})"
   ]
  },
  {
   "cell_type": "markdown",
   "id": "c1c6c61d",
   "metadata": {},
   "source": [
    "#### Изучим данные"
   ]
  },
  {
   "cell_type": "code",
   "execution_count": 6,
   "id": "54598121",
   "metadata": {
    "scrolled": false
   },
   "outputs": [
    {
     "data": {
      "text/html": [
       "<div>\n",
       "<style scoped>\n",
       "    .dataframe tbody tr th:only-of-type {\n",
       "        vertical-align: middle;\n",
       "    }\n",
       "\n",
       "    .dataframe tbody tr th {\n",
       "        vertical-align: top;\n",
       "    }\n",
       "\n",
       "    .dataframe thead th {\n",
       "        text-align: right;\n",
       "    }\n",
       "</style>\n",
       "<table border=\"1\" class=\"dataframe\">\n",
       "  <thead>\n",
       "    <tr style=\"text-align: right;\">\n",
       "      <th></th>\n",
       "      <th>key</th>\n",
       "      <th>active</th>\n",
       "      <th>reactive</th>\n",
       "    </tr>\n",
       "  </thead>\n",
       "  <tbody>\n",
       "    <tr>\n",
       "      <th>count</th>\n",
       "      <td>14876.000000</td>\n",
       "      <td>14876.000000</td>\n",
       "      <td>14876.000000</td>\n",
       "    </tr>\n",
       "    <tr>\n",
       "      <th>mean</th>\n",
       "      <td>1615.220422</td>\n",
       "      <td>0.670441</td>\n",
       "      <td>0.452592</td>\n",
       "    </tr>\n",
       "    <tr>\n",
       "      <th>std</th>\n",
       "      <td>934.571502</td>\n",
       "      <td>0.408159</td>\n",
       "      <td>5.878702</td>\n",
       "    </tr>\n",
       "    <tr>\n",
       "      <th>min</th>\n",
       "      <td>1.000000</td>\n",
       "      <td>0.030002</td>\n",
       "      <td>-715.504924</td>\n",
       "    </tr>\n",
       "    <tr>\n",
       "      <th>25%</th>\n",
       "      <td>806.000000</td>\n",
       "      <td>0.395297</td>\n",
       "      <td>0.290991</td>\n",
       "    </tr>\n",
       "    <tr>\n",
       "      <th>50%</th>\n",
       "      <td>1617.000000</td>\n",
       "      <td>0.555517</td>\n",
       "      <td>0.415962</td>\n",
       "    </tr>\n",
       "    <tr>\n",
       "      <th>75%</th>\n",
       "      <td>2429.000000</td>\n",
       "      <td>0.857034</td>\n",
       "      <td>0.637371</td>\n",
       "    </tr>\n",
       "    <tr>\n",
       "      <th>max</th>\n",
       "      <td>3241.000000</td>\n",
       "      <td>3.731596</td>\n",
       "      <td>2.676388</td>\n",
       "    </tr>\n",
       "  </tbody>\n",
       "</table>\n",
       "</div>"
      ],
      "text/plain": [
       "                key        active      reactive\n",
       "count  14876.000000  14876.000000  14876.000000\n",
       "mean    1615.220422      0.670441      0.452592\n",
       "std      934.571502      0.408159      5.878702\n",
       "min        1.000000      0.030002   -715.504924\n",
       "25%      806.000000      0.395297      0.290991\n",
       "50%     1617.000000      0.555517      0.415962\n",
       "75%     2429.000000      0.857034      0.637371\n",
       "max     3241.000000      3.731596      2.676388"
      ]
     },
     "execution_count": 6,
     "metadata": {},
     "output_type": "execute_result"
    }
   ],
   "source": [
    "data_arc.describe()"
   ]
  },
  {
   "cell_type": "markdown",
   "id": "d5f63a0e",
   "metadata": {},
   "source": [
    "Как видно у нас имеются отрицательные значения в реактивной мощности. Посмотрим сколько их"
   ]
  },
  {
   "cell_type": "code",
   "execution_count": 7,
   "id": "78323263",
   "metadata": {},
   "outputs": [
    {
     "data": {
      "text/html": [
       "<div>\n",
       "<style scoped>\n",
       "    .dataframe tbody tr th:only-of-type {\n",
       "        vertical-align: middle;\n",
       "    }\n",
       "\n",
       "    .dataframe tbody tr th {\n",
       "        vertical-align: top;\n",
       "    }\n",
       "\n",
       "    .dataframe thead th {\n",
       "        text-align: right;\n",
       "    }\n",
       "</style>\n",
       "<table border=\"1\" class=\"dataframe\">\n",
       "  <thead>\n",
       "    <tr style=\"text-align: right;\">\n",
       "      <th></th>\n",
       "      <th>key</th>\n",
       "      <th>start_heat</th>\n",
       "      <th>end_heat</th>\n",
       "      <th>active</th>\n",
       "      <th>reactive</th>\n",
       "    </tr>\n",
       "  </thead>\n",
       "  <tbody>\n",
       "    <tr>\n",
       "      <th>9780</th>\n",
       "      <td>2116</td>\n",
       "      <td>2019-07-24 00:44:48</td>\n",
       "      <td>2019-07-24 00:46:37</td>\n",
       "      <td>0.495782</td>\n",
       "      <td>-715.504924</td>\n",
       "    </tr>\n",
       "  </tbody>\n",
       "</table>\n",
       "</div>"
      ],
      "text/plain": [
       "       key          start_heat            end_heat    active    reactive\n",
       "9780  2116 2019-07-24 00:44:48 2019-07-24 00:46:37  0.495782 -715.504924"
      ]
     },
     "execution_count": 7,
     "metadata": {},
     "output_type": "execute_result"
    }
   ],
   "source": [
    "data_arc.query('reactive < 0')"
   ]
  },
  {
   "cell_type": "markdown",
   "id": "bfe2160c",
   "metadata": {},
   "source": [
    "Такая запись у нас одна. Посмотрим на партию с отрицательной мощностью "
   ]
  },
  {
   "cell_type": "code",
   "execution_count": 8,
   "id": "37da0677",
   "metadata": {
    "scrolled": true
   },
   "outputs": [
    {
     "data": {
      "text/html": [
       "<div>\n",
       "<style scoped>\n",
       "    .dataframe tbody tr th:only-of-type {\n",
       "        vertical-align: middle;\n",
       "    }\n",
       "\n",
       "    .dataframe tbody tr th {\n",
       "        vertical-align: top;\n",
       "    }\n",
       "\n",
       "    .dataframe thead th {\n",
       "        text-align: right;\n",
       "    }\n",
       "</style>\n",
       "<table border=\"1\" class=\"dataframe\">\n",
       "  <thead>\n",
       "    <tr style=\"text-align: right;\">\n",
       "      <th></th>\n",
       "      <th>key</th>\n",
       "      <th>start_heat</th>\n",
       "      <th>end_heat</th>\n",
       "      <th>active</th>\n",
       "      <th>reactive</th>\n",
       "    </tr>\n",
       "  </thead>\n",
       "  <tbody>\n",
       "    <tr>\n",
       "      <th>9778</th>\n",
       "      <td>2116</td>\n",
       "      <td>2019-07-24 00:29:52</td>\n",
       "      <td>2019-07-24 00:31:54</td>\n",
       "      <td>0.433266</td>\n",
       "      <td>0.306141</td>\n",
       "    </tr>\n",
       "    <tr>\n",
       "      <th>9779</th>\n",
       "      <td>2116</td>\n",
       "      <td>2019-07-24 00:35:50</td>\n",
       "      <td>2019-07-24 00:38:05</td>\n",
       "      <td>0.620265</td>\n",
       "      <td>0.408352</td>\n",
       "    </tr>\n",
       "    <tr>\n",
       "      <th>9780</th>\n",
       "      <td>2116</td>\n",
       "      <td>2019-07-24 00:44:48</td>\n",
       "      <td>2019-07-24 00:46:37</td>\n",
       "      <td>0.495782</td>\n",
       "      <td>-715.504924</td>\n",
       "    </tr>\n",
       "    <tr>\n",
       "      <th>9781</th>\n",
       "      <td>2116</td>\n",
       "      <td>2019-07-24 00:51:51</td>\n",
       "      <td>2019-07-24 00:52:58</td>\n",
       "      <td>0.299368</td>\n",
       "      <td>0.198796</td>\n",
       "    </tr>\n",
       "  </tbody>\n",
       "</table>\n",
       "</div>"
      ],
      "text/plain": [
       "       key          start_heat            end_heat    active    reactive\n",
       "9778  2116 2019-07-24 00:29:52 2019-07-24 00:31:54  0.433266    0.306141\n",
       "9779  2116 2019-07-24 00:35:50 2019-07-24 00:38:05  0.620265    0.408352\n",
       "9780  2116 2019-07-24 00:44:48 2019-07-24 00:46:37  0.495782 -715.504924\n",
       "9781  2116 2019-07-24 00:51:51 2019-07-24 00:52:58  0.299368    0.198796"
      ]
     },
     "execution_count": 8,
     "metadata": {},
     "output_type": "execute_result"
    }
   ],
   "source": [
    "data_arc.query('key == 2116')"
   ]
  },
  {
   "cell_type": "markdown",
   "id": "2639dc50",
   "metadata": {},
   "source": [
    "Скорее всего указаны некорректные данные, т.к. значение реактивной мощности сильно скачет. Удалим эту запись. "
   ]
  },
  {
   "cell_type": "code",
   "execution_count": 9,
   "id": "72693f5d",
   "metadata": {},
   "outputs": [],
   "source": [
    "data_arc = data_arc.query('reactive > 0')"
   ]
  },
  {
   "cell_type": "markdown",
   "id": "aa443386",
   "metadata": {},
   "source": [
    "#### Посмотрим на данные на диаграмме размаха"
   ]
  },
  {
   "cell_type": "markdown",
   "id": "77c8bcd3",
   "metadata": {},
   "source": [
    "Построим диаграмму размаха"
   ]
  },
  {
   "cell_type": "code",
   "execution_count": 10,
   "id": "7cde1e24",
   "metadata": {
    "scrolled": false
   },
   "outputs": [
    {
     "data": {
      "text/plain": [
       "<AxesSubplot:>"
      ]
     },
     "execution_count": 10,
     "metadata": {},
     "output_type": "execute_result"
    },
    {
     "data": {
      "image/png": "[encoded data removed]",
      "text/plain": [
       "<Figure size 864x504 with 1 Axes>"
      ]
     },
     "metadata": {
      "needs_background": "light"
     },
     "output_type": "display_data"
    }
   ],
   "source": [
    "data_arc.boxplot(column=['active', 'reactive'], figsize=(12,7))"
   ]
  },
  {
   "cell_type": "markdown",
   "id": "7b119796",
   "metadata": {},
   "source": [
    "#### Расчет мощности и времени"
   ]
  },
  {
   "cell_type": "markdown",
   "id": "fab9e7cd",
   "metadata": {},
   "source": [
    "Рассчитаем для каждой партии время, затраченное на нагрев дуги (в секундах, т.к. временные отрезки не значительные) и полную мощность. Для этого создадим таблицы `data_arc_new` с новыми данными\n",
    "\n",
    "Полная мощность вычисляется по формуле  \n",
    "\n",
    "$$\n",
    "Полная\\ мощность = √ (Активная\\ мощность^2 + Реактивная\\ мощность^2)\n",
    "$$"
   ]
  },
  {
   "cell_type": "code",
   "execution_count": 11,
   "id": "0cae2801",
   "metadata": {},
   "outputs": [
    {
     "data": {
      "text/html": [
       "<div>\n",
       "<style scoped>\n",
       "    .dataframe tbody tr th:only-of-type {\n",
       "        vertical-align: middle;\n",
       "    }\n",
       "\n",
       "    .dataframe tbody tr th {\n",
       "        vertical-align: top;\n",
       "    }\n",
       "\n",
       "    .dataframe thead th {\n",
       "        text-align: right;\n",
       "    }\n",
       "</style>\n",
       "<table border=\"1\" class=\"dataframe\">\n",
       "  <thead>\n",
       "    <tr style=\"text-align: right;\">\n",
       "      <th></th>\n",
       "      <th>time_heat</th>\n",
       "      <th>full_power</th>\n",
       "    </tr>\n",
       "    <tr>\n",
       "      <th>key</th>\n",
       "      <th></th>\n",
       "      <th></th>\n",
       "    </tr>\n",
       "  </thead>\n",
       "  <tbody>\n",
       "    <tr>\n",
       "      <th>1.0</th>\n",
       "      <td>1098.0</td>\n",
       "      <td>5.826395</td>\n",
       "    </tr>\n",
       "    <tr>\n",
       "      <th>2.0</th>\n",
       "      <td>811.0</td>\n",
       "      <td>3.649216</td>\n",
       "    </tr>\n",
       "    <tr>\n",
       "      <th>3.0</th>\n",
       "      <td>655.0</td>\n",
       "      <td>2.989534</td>\n",
       "    </tr>\n",
       "    <tr>\n",
       "      <th>4.0</th>\n",
       "      <td>741.0</td>\n",
       "      <td>3.814962</td>\n",
       "    </tr>\n",
       "    <tr>\n",
       "      <th>5.0</th>\n",
       "      <td>869.0</td>\n",
       "      <td>4.035758</td>\n",
       "    </tr>\n",
       "    <tr>\n",
       "      <th>...</th>\n",
       "      <td>...</td>\n",
       "      <td>...</td>\n",
       "    </tr>\n",
       "    <tr>\n",
       "      <th>3237.0</th>\n",
       "      <td>909.0</td>\n",
       "      <td>4.844982</td>\n",
       "    </tr>\n",
       "    <tr>\n",
       "      <th>3238.0</th>\n",
       "      <td>546.0</td>\n",
       "      <td>2.696542</td>\n",
       "    </tr>\n",
       "    <tr>\n",
       "      <th>3239.0</th>\n",
       "      <td>1216.0</td>\n",
       "      <td>5.611883</td>\n",
       "    </tr>\n",
       "    <tr>\n",
       "      <th>3240.0</th>\n",
       "      <td>839.0</td>\n",
       "      <td>3.891856</td>\n",
       "    </tr>\n",
       "    <tr>\n",
       "      <th>3241.0</th>\n",
       "      <td>659.0</td>\n",
       "      <td>2.999516</td>\n",
       "    </tr>\n",
       "  </tbody>\n",
       "</table>\n",
       "<p>3214 rows × 2 columns</p>\n",
       "</div>"
      ],
      "text/plain": [
       "        time_heat  full_power\n",
       "key                          \n",
       "1.0        1098.0    5.826395\n",
       "2.0         811.0    3.649216\n",
       "3.0         655.0    2.989534\n",
       "4.0         741.0    3.814962\n",
       "5.0         869.0    4.035758\n",
       "...           ...         ...\n",
       "3237.0      909.0    4.844982\n",
       "3238.0      546.0    2.696542\n",
       "3239.0     1216.0    5.611883\n",
       "3240.0      839.0    3.891856\n",
       "3241.0      659.0    2.999516\n",
       "\n",
       "[3214 rows x 2 columns]"
      ]
     },
     "execution_count": 11,
     "metadata": {},
     "output_type": "execute_result"
    }
   ],
   "source": [
    "data_arc_new = pd.DataFrame(columns=['key', 'time_heat', 'full_power'])\n",
    "\n",
    "for i in list(data_arc['key'].unique()):\n",
    "    power = data_arc[data_arc['key'] == i]\n",
    "    time_heat = (power['end_heat'] - power['start_heat']).dt.total_seconds().sum()\n",
    "    full_power =  np.sqrt(power['active']**2 + power['reactive']**2).sum()\n",
    "    \n",
    "    data_arc_new.loc[len(data_arc_new.index)] = [i, time_heat, full_power]\n",
    "    \n",
    "data_arc_new.set_index('key', inplace=True)\n",
    "data_arc_new"
   ]
  },
  {
   "cell_type": "markdown",
   "id": "2dd27dfe",
   "metadata": {},
   "source": [
    "### Таблица data_bulk"
   ]
  },
  {
   "cell_type": "markdown",
   "id": "5c8f678d",
   "metadata": {},
   "source": [
    "Посмотрим на данные таблицы data_bulk"
   ]
  },
  {
   "cell_type": "code",
   "execution_count": 12,
   "id": "9853555d",
   "metadata": {
    "scrolled": false
   },
   "outputs": [
    {
     "name": "stdout",
     "output_type": "stream",
     "text": [
      "<class 'pandas.core.frame.DataFrame'>\n",
      "Int64Index: 3129 entries, 1 to 3241\n",
      "Data columns (total 15 columns):\n",
      " #   Column   Non-Null Count  Dtype  \n",
      "---  ------   --------------  -----  \n",
      " 0   Bulk 1   252 non-null    float64\n",
      " 1   Bulk 2   22 non-null     float64\n",
      " 2   Bulk 3   1298 non-null   float64\n",
      " 3   Bulk 4   1014 non-null   float64\n",
      " 4   Bulk 5   77 non-null     float64\n",
      " 5   Bulk 6   576 non-null    float64\n",
      " 6   Bulk 7   25 non-null     float64\n",
      " 7   Bulk 8   1 non-null      float64\n",
      " 8   Bulk 9   19 non-null     float64\n",
      " 9   Bulk 10  176 non-null    float64\n",
      " 10  Bulk 11  177 non-null    float64\n",
      " 11  Bulk 12  2450 non-null   float64\n",
      " 12  Bulk 13  18 non-null     float64\n",
      " 13  Bulk 14  2806 non-null   float64\n",
      " 14  Bulk 15  2248 non-null   float64\n",
      "dtypes: float64(15)\n",
      "memory usage: 391.1 KB\n"
     ]
    },
    {
     "data": {
      "text/html": [
       "<div>\n",
       "<style scoped>\n",
       "    .dataframe tbody tr th:only-of-type {\n",
       "        vertical-align: middle;\n",
       "    }\n",
       "\n",
       "    .dataframe tbody tr th {\n",
       "        vertical-align: top;\n",
       "    }\n",
       "\n",
       "    .dataframe thead th {\n",
       "        text-align: right;\n",
       "    }\n",
       "</style>\n",
       "<table border=\"1\" class=\"dataframe\">\n",
       "  <thead>\n",
       "    <tr style=\"text-align: right;\">\n",
       "      <th></th>\n",
       "      <th>Bulk 1</th>\n",
       "      <th>Bulk 2</th>\n",
       "      <th>Bulk 3</th>\n",
       "      <th>Bulk 4</th>\n",
       "      <th>Bulk 5</th>\n",
       "      <th>Bulk 6</th>\n",
       "      <th>Bulk 7</th>\n",
       "      <th>Bulk 8</th>\n",
       "      <th>Bulk 9</th>\n",
       "      <th>Bulk 10</th>\n",
       "      <th>Bulk 11</th>\n",
       "      <th>Bulk 12</th>\n",
       "      <th>Bulk 13</th>\n",
       "      <th>Bulk 14</th>\n",
       "      <th>Bulk 15</th>\n",
       "    </tr>\n",
       "    <tr>\n",
       "      <th>key</th>\n",
       "      <th></th>\n",
       "      <th></th>\n",
       "      <th></th>\n",
       "      <th></th>\n",
       "      <th></th>\n",
       "      <th></th>\n",
       "      <th></th>\n",
       "      <th></th>\n",
       "      <th></th>\n",
       "      <th></th>\n",
       "      <th></th>\n",
       "      <th></th>\n",
       "      <th></th>\n",
       "      <th></th>\n",
       "      <th></th>\n",
       "    </tr>\n",
       "  </thead>\n",
       "  <tbody>\n",
       "    <tr>\n",
       "      <th>1</th>\n",
       "      <td>NaN</td>\n",
       "      <td>NaN</td>\n",
       "      <td>NaN</td>\n",
       "      <td>43.0</td>\n",
       "      <td>NaN</td>\n",
       "      <td>NaN</td>\n",
       "      <td>NaN</td>\n",
       "      <td>NaN</td>\n",
       "      <td>NaN</td>\n",
       "      <td>NaN</td>\n",
       "      <td>NaN</td>\n",
       "      <td>206.0</td>\n",
       "      <td>NaN</td>\n",
       "      <td>150.0</td>\n",
       "      <td>154.0</td>\n",
       "    </tr>\n",
       "    <tr>\n",
       "      <th>2</th>\n",
       "      <td>NaN</td>\n",
       "      <td>NaN</td>\n",
       "      <td>NaN</td>\n",
       "      <td>73.0</td>\n",
       "      <td>NaN</td>\n",
       "      <td>NaN</td>\n",
       "      <td>NaN</td>\n",
       "      <td>NaN</td>\n",
       "      <td>NaN</td>\n",
       "      <td>NaN</td>\n",
       "      <td>NaN</td>\n",
       "      <td>206.0</td>\n",
       "      <td>NaN</td>\n",
       "      <td>149.0</td>\n",
       "      <td>154.0</td>\n",
       "    </tr>\n",
       "    <tr>\n",
       "      <th>3</th>\n",
       "      <td>NaN</td>\n",
       "      <td>NaN</td>\n",
       "      <td>NaN</td>\n",
       "      <td>34.0</td>\n",
       "      <td>NaN</td>\n",
       "      <td>NaN</td>\n",
       "      <td>NaN</td>\n",
       "      <td>NaN</td>\n",
       "      <td>NaN</td>\n",
       "      <td>NaN</td>\n",
       "      <td>NaN</td>\n",
       "      <td>205.0</td>\n",
       "      <td>NaN</td>\n",
       "      <td>152.0</td>\n",
       "      <td>153.0</td>\n",
       "    </tr>\n",
       "    <tr>\n",
       "      <th>4</th>\n",
       "      <td>NaN</td>\n",
       "      <td>NaN</td>\n",
       "      <td>NaN</td>\n",
       "      <td>81.0</td>\n",
       "      <td>NaN</td>\n",
       "      <td>NaN</td>\n",
       "      <td>NaN</td>\n",
       "      <td>NaN</td>\n",
       "      <td>NaN</td>\n",
       "      <td>NaN</td>\n",
       "      <td>NaN</td>\n",
       "      <td>207.0</td>\n",
       "      <td>NaN</td>\n",
       "      <td>153.0</td>\n",
       "      <td>154.0</td>\n",
       "    </tr>\n",
       "    <tr>\n",
       "      <th>5</th>\n",
       "      <td>NaN</td>\n",
       "      <td>NaN</td>\n",
       "      <td>NaN</td>\n",
       "      <td>78.0</td>\n",
       "      <td>NaN</td>\n",
       "      <td>NaN</td>\n",
       "      <td>NaN</td>\n",
       "      <td>NaN</td>\n",
       "      <td>NaN</td>\n",
       "      <td>NaN</td>\n",
       "      <td>NaN</td>\n",
       "      <td>203.0</td>\n",
       "      <td>NaN</td>\n",
       "      <td>151.0</td>\n",
       "      <td>152.0</td>\n",
       "    </tr>\n",
       "  </tbody>\n",
       "</table>\n",
       "</div>"
      ],
      "text/plain": [
       "     Bulk 1  Bulk 2  Bulk 3  Bulk 4  Bulk 5  Bulk 6  Bulk 7  Bulk 8  Bulk 9  \\\n",
       "key                                                                           \n",
       "1       NaN     NaN     NaN    43.0     NaN     NaN     NaN     NaN     NaN   \n",
       "2       NaN     NaN     NaN    73.0     NaN     NaN     NaN     NaN     NaN   \n",
       "3       NaN     NaN     NaN    34.0     NaN     NaN     NaN     NaN     NaN   \n",
       "4       NaN     NaN     NaN    81.0     NaN     NaN     NaN     NaN     NaN   \n",
       "5       NaN     NaN     NaN    78.0     NaN     NaN     NaN     NaN     NaN   \n",
       "\n",
       "     Bulk 10  Bulk 11  Bulk 12  Bulk 13  Bulk 14  Bulk 15  \n",
       "key                                                        \n",
       "1        NaN      NaN    206.0      NaN    150.0    154.0  \n",
       "2        NaN      NaN    206.0      NaN    149.0    154.0  \n",
       "3        NaN      NaN    205.0      NaN    152.0    153.0  \n",
       "4        NaN      NaN    207.0      NaN    153.0    154.0  \n",
       "5        NaN      NaN    203.0      NaN    151.0    152.0  "
      ]
     },
     "execution_count": 12,
     "metadata": {},
     "output_type": "execute_result"
    }
   ],
   "source": [
    "data_bulk.info()\n",
    "data_bulk.head()"
   ]
  },
  {
   "cell_type": "markdown",
   "id": "a53db243",
   "metadata": {},
   "source": [
    "В данных имеется много пропусков, данные пропуски в дальнейшем заменим на нули, после объединения всех признаков в одну таблицу. Скорее всего в одной партии использовались не все смеси сыпучих материалов, а только определенные"
   ]
  },
  {
   "cell_type": "markdown",
   "id": "a3551b45",
   "metadata": {},
   "source": [
    "#### Переименование столбцов"
   ]
  },
  {
   "cell_type": "markdown",
   "id": "679c26c7",
   "metadata": {},
   "source": [
    "Приведем названия столбцов к единому стилю."
   ]
  },
  {
   "cell_type": "code",
   "execution_count": 13,
   "id": "b0229888",
   "metadata": {},
   "outputs": [
    {
     "data": {
      "text/plain": [
       "Index(['bulk_1', 'bulk_2', 'bulk_3', 'bulk_4', 'bulk_5', 'bulk_6', 'bulk_7',\n",
       "       'bulk_8', 'bulk_9', 'bulk_10', 'bulk_11', 'bulk_12', 'bulk_13',\n",
       "       'bulk_14', 'bulk_15'],\n",
       "      dtype='object')"
      ]
     },
     "execution_count": 13,
     "metadata": {},
     "output_type": "execute_result"
    }
   ],
   "source": [
    "data_bulk.columns = data_bulk.columns.str.replace(' ','_').str.lower()\n",
    "data_bulk.columns"
   ]
  },
  {
   "cell_type": "markdown",
   "id": "3220968d",
   "metadata": {},
   "source": [
    "#### Изучим данные"
   ]
  },
  {
   "cell_type": "code",
   "execution_count": 14,
   "id": "17f9401b",
   "metadata": {
    "scrolled": false
   },
   "outputs": [
    {
     "data": {
      "text/html": [
       "<div>\n",
       "<style scoped>\n",
       "    .dataframe tbody tr th:only-of-type {\n",
       "        vertical-align: middle;\n",
       "    }\n",
       "\n",
       "    .dataframe tbody tr th {\n",
       "        vertical-align: top;\n",
       "    }\n",
       "\n",
       "    .dataframe thead th {\n",
       "        text-align: right;\n",
       "    }\n",
       "</style>\n",
       "<table border=\"1\" class=\"dataframe\">\n",
       "  <thead>\n",
       "    <tr style=\"text-align: right;\">\n",
       "      <th></th>\n",
       "      <th>bulk_1</th>\n",
       "      <th>bulk_2</th>\n",
       "      <th>bulk_3</th>\n",
       "      <th>bulk_4</th>\n",
       "      <th>bulk_5</th>\n",
       "      <th>bulk_6</th>\n",
       "      <th>bulk_7</th>\n",
       "      <th>bulk_8</th>\n",
       "      <th>bulk_9</th>\n",
       "      <th>bulk_10</th>\n",
       "      <th>bulk_11</th>\n",
       "      <th>bulk_12</th>\n",
       "      <th>bulk_13</th>\n",
       "      <th>bulk_14</th>\n",
       "      <th>bulk_15</th>\n",
       "    </tr>\n",
       "  </thead>\n",
       "  <tbody>\n",
       "    <tr>\n",
       "      <th>count</th>\n",
       "      <td>252.000000</td>\n",
       "      <td>22.000000</td>\n",
       "      <td>1298.000000</td>\n",
       "      <td>1014.000000</td>\n",
       "      <td>77.000000</td>\n",
       "      <td>576.000000</td>\n",
       "      <td>25.000000</td>\n",
       "      <td>1.0</td>\n",
       "      <td>19.000000</td>\n",
       "      <td>176.000000</td>\n",
       "      <td>177.000000</td>\n",
       "      <td>2450.000000</td>\n",
       "      <td>18.000000</td>\n",
       "      <td>2806.000000</td>\n",
       "      <td>2248.000000</td>\n",
       "    </tr>\n",
       "    <tr>\n",
       "      <th>mean</th>\n",
       "      <td>39.242063</td>\n",
       "      <td>253.045455</td>\n",
       "      <td>113.879045</td>\n",
       "      <td>104.394477</td>\n",
       "      <td>107.025974</td>\n",
       "      <td>118.925347</td>\n",
       "      <td>305.600000</td>\n",
       "      <td>49.0</td>\n",
       "      <td>76.315789</td>\n",
       "      <td>83.284091</td>\n",
       "      <td>76.819209</td>\n",
       "      <td>260.471020</td>\n",
       "      <td>181.111111</td>\n",
       "      <td>170.284747</td>\n",
       "      <td>160.513345</td>\n",
       "    </tr>\n",
       "    <tr>\n",
       "      <th>std</th>\n",
       "      <td>18.277654</td>\n",
       "      <td>21.180578</td>\n",
       "      <td>75.483494</td>\n",
       "      <td>48.184126</td>\n",
       "      <td>81.790646</td>\n",
       "      <td>72.057776</td>\n",
       "      <td>191.022904</td>\n",
       "      <td>NaN</td>\n",
       "      <td>21.720581</td>\n",
       "      <td>26.060347</td>\n",
       "      <td>59.655365</td>\n",
       "      <td>120.649269</td>\n",
       "      <td>46.088009</td>\n",
       "      <td>65.868652</td>\n",
       "      <td>51.765319</td>\n",
       "    </tr>\n",
       "    <tr>\n",
       "      <th>min</th>\n",
       "      <td>10.000000</td>\n",
       "      <td>228.000000</td>\n",
       "      <td>6.000000</td>\n",
       "      <td>12.000000</td>\n",
       "      <td>11.000000</td>\n",
       "      <td>17.000000</td>\n",
       "      <td>47.000000</td>\n",
       "      <td>49.0</td>\n",
       "      <td>63.000000</td>\n",
       "      <td>24.000000</td>\n",
       "      <td>8.000000</td>\n",
       "      <td>53.000000</td>\n",
       "      <td>151.000000</td>\n",
       "      <td>16.000000</td>\n",
       "      <td>1.000000</td>\n",
       "    </tr>\n",
       "    <tr>\n",
       "      <th>25%</th>\n",
       "      <td>27.000000</td>\n",
       "      <td>242.000000</td>\n",
       "      <td>58.000000</td>\n",
       "      <td>72.000000</td>\n",
       "      <td>70.000000</td>\n",
       "      <td>69.750000</td>\n",
       "      <td>155.000000</td>\n",
       "      <td>49.0</td>\n",
       "      <td>66.000000</td>\n",
       "      <td>64.000000</td>\n",
       "      <td>25.000000</td>\n",
       "      <td>204.000000</td>\n",
       "      <td>153.250000</td>\n",
       "      <td>119.000000</td>\n",
       "      <td>105.000000</td>\n",
       "    </tr>\n",
       "    <tr>\n",
       "      <th>50%</th>\n",
       "      <td>31.000000</td>\n",
       "      <td>251.500000</td>\n",
       "      <td>97.500000</td>\n",
       "      <td>102.000000</td>\n",
       "      <td>86.000000</td>\n",
       "      <td>100.000000</td>\n",
       "      <td>298.000000</td>\n",
       "      <td>49.0</td>\n",
       "      <td>68.000000</td>\n",
       "      <td>86.500000</td>\n",
       "      <td>64.000000</td>\n",
       "      <td>208.000000</td>\n",
       "      <td>155.500000</td>\n",
       "      <td>151.000000</td>\n",
       "      <td>160.000000</td>\n",
       "    </tr>\n",
       "    <tr>\n",
       "      <th>75%</th>\n",
       "      <td>46.000000</td>\n",
       "      <td>257.750000</td>\n",
       "      <td>152.000000</td>\n",
       "      <td>133.000000</td>\n",
       "      <td>132.000000</td>\n",
       "      <td>157.000000</td>\n",
       "      <td>406.000000</td>\n",
       "      <td>49.0</td>\n",
       "      <td>70.500000</td>\n",
       "      <td>102.000000</td>\n",
       "      <td>106.000000</td>\n",
       "      <td>316.000000</td>\n",
       "      <td>203.500000</td>\n",
       "      <td>205.750000</td>\n",
       "      <td>205.000000</td>\n",
       "    </tr>\n",
       "    <tr>\n",
       "      <th>max</th>\n",
       "      <td>185.000000</td>\n",
       "      <td>325.000000</td>\n",
       "      <td>454.000000</td>\n",
       "      <td>281.000000</td>\n",
       "      <td>603.000000</td>\n",
       "      <td>503.000000</td>\n",
       "      <td>772.000000</td>\n",
       "      <td>49.0</td>\n",
       "      <td>147.000000</td>\n",
       "      <td>159.000000</td>\n",
       "      <td>313.000000</td>\n",
       "      <td>1849.000000</td>\n",
       "      <td>305.000000</td>\n",
       "      <td>636.000000</td>\n",
       "      <td>405.000000</td>\n",
       "    </tr>\n",
       "  </tbody>\n",
       "</table>\n",
       "</div>"
      ],
      "text/plain": [
       "           bulk_1      bulk_2       bulk_3       bulk_4      bulk_5  \\\n",
       "count  252.000000   22.000000  1298.000000  1014.000000   77.000000   \n",
       "mean    39.242063  253.045455   113.879045   104.394477  107.025974   \n",
       "std     18.277654   21.180578    75.483494    48.184126   81.790646   \n",
       "min     10.000000  228.000000     6.000000    12.000000   11.000000   \n",
       "25%     27.000000  242.000000    58.000000    72.000000   70.000000   \n",
       "50%     31.000000  251.500000    97.500000   102.000000   86.000000   \n",
       "75%     46.000000  257.750000   152.000000   133.000000  132.000000   \n",
       "max    185.000000  325.000000   454.000000   281.000000  603.000000   \n",
       "\n",
       "           bulk_6      bulk_7  bulk_8      bulk_9     bulk_10     bulk_11  \\\n",
       "count  576.000000   25.000000     1.0   19.000000  176.000000  177.000000   \n",
       "mean   118.925347  305.600000    49.0   76.315789   83.284091   76.819209   \n",
       "std     72.057776  191.022904     NaN   21.720581   26.060347   59.655365   \n",
       "min     17.000000   47.000000    49.0   63.000000   24.000000    8.000000   \n",
       "25%     69.750000  155.000000    49.0   66.000000   64.000000   25.000000   \n",
       "50%    100.000000  298.000000    49.0   68.000000   86.500000   64.000000   \n",
       "75%    157.000000  406.000000    49.0   70.500000  102.000000  106.000000   \n",
       "max    503.000000  772.000000    49.0  147.000000  159.000000  313.000000   \n",
       "\n",
       "           bulk_12     bulk_13      bulk_14      bulk_15  \n",
       "count  2450.000000   18.000000  2806.000000  2248.000000  \n",
       "mean    260.471020  181.111111   170.284747   160.513345  \n",
       "std     120.649269   46.088009    65.868652    51.765319  \n",
       "min      53.000000  151.000000    16.000000     1.000000  \n",
       "25%     204.000000  153.250000   119.000000   105.000000  \n",
       "50%     208.000000  155.500000   151.000000   160.000000  \n",
       "75%     316.000000  203.500000   205.750000   205.000000  \n",
       "max    1849.000000  305.000000   636.000000   405.000000  "
      ]
     },
     "execution_count": 14,
     "metadata": {},
     "output_type": "execute_result"
    }
   ],
   "source": [
    "data_bulk.describe()"
   ]
  },
  {
   "cell_type": "markdown",
   "id": "e4b08295",
   "metadata": {},
   "source": [
    "Как видно из данных bulk_8 состав сыпучих материалов, добавляли всего один раз. Чаще всего использовали bulk_12, также он имеет самые максимальные значения из всех данных"
   ]
  },
  {
   "cell_type": "markdown",
   "id": "bdf7573a",
   "metadata": {},
   "source": [
    "#### Посмотрим на данные на диаграмме размаха"
   ]
  },
  {
   "cell_type": "code",
   "execution_count": 15,
   "id": "77d6a916",
   "metadata": {
    "scrolled": false
   },
   "outputs": [
    {
     "data": {
      "text/plain": [
       "<AxesSubplot:>"
      ]
     },
     "execution_count": 15,
     "metadata": {},
     "output_type": "execute_result"
    },
    {
     "data": {
      "image/png": "[encoded data removed]",
      "text/plain": [
       "<Figure size 1080x576 with 1 Axes>"
      ]
     },
     "metadata": {
      "needs_background": "light"
     },
     "output_type": "display_data"
    }
   ],
   "source": [
    "data_bulk.boxplot(figsize=(15,8))"
   ]
  },
  {
   "cell_type": "markdown",
   "id": "25f3e40b",
   "metadata": {},
   "source": [
    "### Таблица data_bulk_time"
   ]
  },
  {
   "cell_type": "markdown",
   "id": "00f1fbab",
   "metadata": {},
   "source": [
    "Посмотрим на данные таблицы data_bulk_time"
   ]
  },
  {
   "cell_type": "code",
   "execution_count": 16,
   "id": "407dcb82",
   "metadata": {
    "scrolled": false
   },
   "outputs": [
    {
     "name": "stdout",
     "output_type": "stream",
     "text": [
      "<class 'pandas.core.frame.DataFrame'>\n",
      "Int64Index: 3129 entries, 1 to 3241\n",
      "Data columns (total 15 columns):\n",
      " #   Column   Non-Null Count  Dtype \n",
      "---  ------   --------------  ----- \n",
      " 0   Bulk 1   252 non-null    object\n",
      " 1   Bulk 2   22 non-null     object\n",
      " 2   Bulk 3   1298 non-null   object\n",
      " 3   Bulk 4   1014 non-null   object\n",
      " 4   Bulk 5   77 non-null     object\n",
      " 5   Bulk 6   576 non-null    object\n",
      " 6   Bulk 7   25 non-null     object\n",
      " 7   Bulk 8   1 non-null      object\n",
      " 8   Bulk 9   19 non-null     object\n",
      " 9   Bulk 10  176 non-null    object\n",
      " 10  Bulk 11  177 non-null    object\n",
      " 11  Bulk 12  2450 non-null   object\n",
      " 12  Bulk 13  18 non-null     object\n",
      " 13  Bulk 14  2806 non-null   object\n",
      " 14  Bulk 15  2248 non-null   object\n",
      "dtypes: object(15)\n",
      "memory usage: 391.1+ KB\n"
     ]
    },
    {
     "data": {
      "text/html": [
       "<div>\n",
       "<style scoped>\n",
       "    .dataframe tbody tr th:only-of-type {\n",
       "        vertical-align: middle;\n",
       "    }\n",
       "\n",
       "    .dataframe tbody tr th {\n",
       "        vertical-align: top;\n",
       "    }\n",
       "\n",
       "    .dataframe thead th {\n",
       "        text-align: right;\n",
       "    }\n",
       "</style>\n",
       "<table border=\"1\" class=\"dataframe\">\n",
       "  <thead>\n",
       "    <tr style=\"text-align: right;\">\n",
       "      <th></th>\n",
       "      <th>Bulk 1</th>\n",
       "      <th>Bulk 2</th>\n",
       "      <th>Bulk 3</th>\n",
       "      <th>Bulk 4</th>\n",
       "      <th>Bulk 5</th>\n",
       "      <th>Bulk 6</th>\n",
       "      <th>Bulk 7</th>\n",
       "      <th>Bulk 8</th>\n",
       "      <th>Bulk 9</th>\n",
       "      <th>Bulk 10</th>\n",
       "      <th>Bulk 11</th>\n",
       "      <th>Bulk 12</th>\n",
       "      <th>Bulk 13</th>\n",
       "      <th>Bulk 14</th>\n",
       "      <th>Bulk 15</th>\n",
       "    </tr>\n",
       "    <tr>\n",
       "      <th>key</th>\n",
       "      <th></th>\n",
       "      <th></th>\n",
       "      <th></th>\n",
       "      <th></th>\n",
       "      <th></th>\n",
       "      <th></th>\n",
       "      <th></th>\n",
       "      <th></th>\n",
       "      <th></th>\n",
       "      <th></th>\n",
       "      <th></th>\n",
       "      <th></th>\n",
       "      <th></th>\n",
       "      <th></th>\n",
       "      <th></th>\n",
       "    </tr>\n",
       "  </thead>\n",
       "  <tbody>\n",
       "    <tr>\n",
       "      <th>1</th>\n",
       "      <td>NaN</td>\n",
       "      <td>NaN</td>\n",
       "      <td>NaN</td>\n",
       "      <td>2019-05-03 11:21:30</td>\n",
       "      <td>NaN</td>\n",
       "      <td>NaN</td>\n",
       "      <td>NaN</td>\n",
       "      <td>NaN</td>\n",
       "      <td>NaN</td>\n",
       "      <td>NaN</td>\n",
       "      <td>NaN</td>\n",
       "      <td>2019-05-03 11:03:52</td>\n",
       "      <td>NaN</td>\n",
       "      <td>2019-05-03 11:03:52</td>\n",
       "      <td>2019-05-03 11:03:52</td>\n",
       "    </tr>\n",
       "    <tr>\n",
       "      <th>2</th>\n",
       "      <td>NaN</td>\n",
       "      <td>NaN</td>\n",
       "      <td>NaN</td>\n",
       "      <td>2019-05-03 11:46:38</td>\n",
       "      <td>NaN</td>\n",
       "      <td>NaN</td>\n",
       "      <td>NaN</td>\n",
       "      <td>NaN</td>\n",
       "      <td>NaN</td>\n",
       "      <td>NaN</td>\n",
       "      <td>NaN</td>\n",
       "      <td>2019-05-03 11:40:20</td>\n",
       "      <td>NaN</td>\n",
       "      <td>2019-05-03 11:40:20</td>\n",
       "      <td>2019-05-03 11:40:20</td>\n",
       "    </tr>\n",
       "    <tr>\n",
       "      <th>3</th>\n",
       "      <td>NaN</td>\n",
       "      <td>NaN</td>\n",
       "      <td>NaN</td>\n",
       "      <td>2019-05-03 12:31:06</td>\n",
       "      <td>NaN</td>\n",
       "      <td>NaN</td>\n",
       "      <td>NaN</td>\n",
       "      <td>NaN</td>\n",
       "      <td>NaN</td>\n",
       "      <td>NaN</td>\n",
       "      <td>NaN</td>\n",
       "      <td>2019-05-03 12:09:40</td>\n",
       "      <td>NaN</td>\n",
       "      <td>2019-05-03 12:09:40</td>\n",
       "      <td>2019-05-03 12:09:40</td>\n",
       "    </tr>\n",
       "    <tr>\n",
       "      <th>4</th>\n",
       "      <td>NaN</td>\n",
       "      <td>NaN</td>\n",
       "      <td>NaN</td>\n",
       "      <td>2019-05-03 12:48:43</td>\n",
       "      <td>NaN</td>\n",
       "      <td>NaN</td>\n",
       "      <td>NaN</td>\n",
       "      <td>NaN</td>\n",
       "      <td>NaN</td>\n",
       "      <td>NaN</td>\n",
       "      <td>NaN</td>\n",
       "      <td>2019-05-03 12:41:24</td>\n",
       "      <td>NaN</td>\n",
       "      <td>2019-05-03 12:41:24</td>\n",
       "      <td>2019-05-03 12:41:24</td>\n",
       "    </tr>\n",
       "    <tr>\n",
       "      <th>5</th>\n",
       "      <td>NaN</td>\n",
       "      <td>NaN</td>\n",
       "      <td>NaN</td>\n",
       "      <td>2019-05-03 13:18:50</td>\n",
       "      <td>NaN</td>\n",
       "      <td>NaN</td>\n",
       "      <td>NaN</td>\n",
       "      <td>NaN</td>\n",
       "      <td>NaN</td>\n",
       "      <td>NaN</td>\n",
       "      <td>NaN</td>\n",
       "      <td>2019-05-03 13:12:56</td>\n",
       "      <td>NaN</td>\n",
       "      <td>2019-05-03 13:12:56</td>\n",
       "      <td>2019-05-03 13:12:56</td>\n",
       "    </tr>\n",
       "  </tbody>\n",
       "</table>\n",
       "</div>"
      ],
      "text/plain": [
       "    Bulk 1 Bulk 2 Bulk 3               Bulk 4 Bulk 5 Bulk 6 Bulk 7 Bulk 8  \\\n",
       "key                                                                         \n",
       "1      NaN    NaN    NaN  2019-05-03 11:21:30    NaN    NaN    NaN    NaN   \n",
       "2      NaN    NaN    NaN  2019-05-03 11:46:38    NaN    NaN    NaN    NaN   \n",
       "3      NaN    NaN    NaN  2019-05-03 12:31:06    NaN    NaN    NaN    NaN   \n",
       "4      NaN    NaN    NaN  2019-05-03 12:48:43    NaN    NaN    NaN    NaN   \n",
       "5      NaN    NaN    NaN  2019-05-03 13:18:50    NaN    NaN    NaN    NaN   \n",
       "\n",
       "    Bulk 9 Bulk 10 Bulk 11              Bulk 12 Bulk 13              Bulk 14  \\\n",
       "key                                                                            \n",
       "1      NaN     NaN     NaN  2019-05-03 11:03:52     NaN  2019-05-03 11:03:52   \n",
       "2      NaN     NaN     NaN  2019-05-03 11:40:20     NaN  2019-05-03 11:40:20   \n",
       "3      NaN     NaN     NaN  2019-05-03 12:09:40     NaN  2019-05-03 12:09:40   \n",
       "4      NaN     NaN     NaN  2019-05-03 12:41:24     NaN  2019-05-03 12:41:24   \n",
       "5      NaN     NaN     NaN  2019-05-03 13:12:56     NaN  2019-05-03 13:12:56   \n",
       "\n",
       "                 Bulk 15  \n",
       "key                       \n",
       "1    2019-05-03 11:03:52  \n",
       "2    2019-05-03 11:40:20  \n",
       "3    2019-05-03 12:09:40  \n",
       "4    2019-05-03 12:41:24  \n",
       "5    2019-05-03 13:12:56  "
      ]
     },
     "execution_count": 16,
     "metadata": {},
     "output_type": "execute_result"
    }
   ],
   "source": [
    "data_bulk_time.info()\n",
    "data_bulk_time.head()"
   ]
  },
  {
   "cell_type": "markdown",
   "id": "dedcab85",
   "metadata": {},
   "source": [
    "В данных имеется много пропусков, данные пропуски в дальнейшем заменим на нули, после объединения всех признаков в одну таблицу. Скорее всего в одной партии использовались не все смеси сыпучих материалов, а только определенные"
   ]
  },
  {
   "cell_type": "markdown",
   "id": "e57a7a14",
   "metadata": {},
   "source": [
    "Приведем названия столбцов к единому стилю."
   ]
  },
  {
   "cell_type": "code",
   "execution_count": 17,
   "id": "741e743d",
   "metadata": {},
   "outputs": [
    {
     "data": {
      "text/plain": [
       "Index(['bulk_1', 'bulk_2', 'bulk_3', 'bulk_4', 'bulk_5', 'bulk_6', 'bulk_7',\n",
       "       'bulk_8', 'bulk_9', 'bulk_10', 'bulk_11', 'bulk_12', 'bulk_13',\n",
       "       'bulk_14', 'bulk_15'],\n",
       "      dtype='object')"
      ]
     },
     "execution_count": 17,
     "metadata": {},
     "output_type": "execute_result"
    }
   ],
   "source": [
    "data_bulk_time.columns = data_bulk_time.columns.str.replace(' ','_').str.lower()\n",
    "data_bulk_time.columns"
   ]
  },
  {
   "cell_type": "markdown",
   "id": "1afc19c6",
   "metadata": {},
   "source": [
    "### Таблица data_gas"
   ]
  },
  {
   "cell_type": "markdown",
   "id": "5aad8984",
   "metadata": {},
   "source": [
    "Посмотрим на данные таблицы data_gas"
   ]
  },
  {
   "cell_type": "code",
   "execution_count": 18,
   "id": "cc313b58",
   "metadata": {
    "scrolled": false
   },
   "outputs": [
    {
     "name": "stdout",
     "output_type": "stream",
     "text": [
      "<class 'pandas.core.frame.DataFrame'>\n",
      "Int64Index: 3239 entries, 1 to 3241\n",
      "Data columns (total 1 columns):\n",
      " #   Column  Non-Null Count  Dtype  \n",
      "---  ------  --------------  -----  \n",
      " 0   Газ 1   3239 non-null   float64\n",
      "dtypes: float64(1)\n",
      "memory usage: 50.6 KB\n"
     ]
    },
    {
     "data": {
      "text/html": [
       "<div>\n",
       "<style scoped>\n",
       "    .dataframe tbody tr th:only-of-type {\n",
       "        vertical-align: middle;\n",
       "    }\n",
       "\n",
       "    .dataframe tbody tr th {\n",
       "        vertical-align: top;\n",
       "    }\n",
       "\n",
       "    .dataframe thead th {\n",
       "        text-align: right;\n",
       "    }\n",
       "</style>\n",
       "<table border=\"1\" class=\"dataframe\">\n",
       "  <thead>\n",
       "    <tr style=\"text-align: right;\">\n",
       "      <th></th>\n",
       "      <th>Газ 1</th>\n",
       "    </tr>\n",
       "    <tr>\n",
       "      <th>key</th>\n",
       "      <th></th>\n",
       "    </tr>\n",
       "  </thead>\n",
       "  <tbody>\n",
       "    <tr>\n",
       "      <th>1</th>\n",
       "      <td>29.749986</td>\n",
       "    </tr>\n",
       "    <tr>\n",
       "      <th>2</th>\n",
       "      <td>12.555561</td>\n",
       "    </tr>\n",
       "    <tr>\n",
       "      <th>3</th>\n",
       "      <td>28.554793</td>\n",
       "    </tr>\n",
       "    <tr>\n",
       "      <th>4</th>\n",
       "      <td>18.841219</td>\n",
       "    </tr>\n",
       "    <tr>\n",
       "      <th>5</th>\n",
       "      <td>5.413692</td>\n",
       "    </tr>\n",
       "  </tbody>\n",
       "</table>\n",
       "</div>"
      ],
      "text/plain": [
       "         Газ 1\n",
       "key           \n",
       "1    29.749986\n",
       "2    12.555561\n",
       "3    28.554793\n",
       "4    18.841219\n",
       "5     5.413692"
      ]
     },
     "execution_count": 18,
     "metadata": {},
     "output_type": "execute_result"
    }
   ],
   "source": [
    "data_gas.info()\n",
    "data_gas.head()"
   ]
  },
  {
   "cell_type": "markdown",
   "id": "0865c418",
   "metadata": {},
   "source": [
    "#### Переименование столбцов"
   ]
  },
  {
   "cell_type": "markdown",
   "id": "32a24205",
   "metadata": {},
   "source": [
    "Приведем названия столбцов к единому стилю."
   ]
  },
  {
   "cell_type": "code",
   "execution_count": 19,
   "id": "b6dfc8e8",
   "metadata": {},
   "outputs": [
    {
     "data": {
      "text/plain": [
       "Index(['gas'], dtype='object')"
      ]
     },
     "execution_count": 19,
     "metadata": {},
     "output_type": "execute_result"
    }
   ],
   "source": [
    "data_gas.columns = ['gas']\n",
    "data_gas.columns"
   ]
  },
  {
   "cell_type": "markdown",
   "id": "4bec6c60",
   "metadata": {},
   "source": [
    "#### Изучим данные"
   ]
  },
  {
   "cell_type": "code",
   "execution_count": 20,
   "id": "7bc5d885",
   "metadata": {
    "scrolled": true
   },
   "outputs": [
    {
     "data": {
      "text/html": [
       "<div>\n",
       "<style scoped>\n",
       "    .dataframe tbody tr th:only-of-type {\n",
       "        vertical-align: middle;\n",
       "    }\n",
       "\n",
       "    .dataframe tbody tr th {\n",
       "        vertical-align: top;\n",
       "    }\n",
       "\n",
       "    .dataframe thead th {\n",
       "        text-align: right;\n",
       "    }\n",
       "</style>\n",
       "<table border=\"1\" class=\"dataframe\">\n",
       "  <thead>\n",
       "    <tr style=\"text-align: right;\">\n",
       "      <th></th>\n",
       "      <th>gas</th>\n",
       "    </tr>\n",
       "  </thead>\n",
       "  <tbody>\n",
       "    <tr>\n",
       "      <th>count</th>\n",
       "      <td>3239.000000</td>\n",
       "    </tr>\n",
       "    <tr>\n",
       "      <th>mean</th>\n",
       "      <td>11.002062</td>\n",
       "    </tr>\n",
       "    <tr>\n",
       "      <th>std</th>\n",
       "      <td>6.220327</td>\n",
       "    </tr>\n",
       "    <tr>\n",
       "      <th>min</th>\n",
       "      <td>0.008399</td>\n",
       "    </tr>\n",
       "    <tr>\n",
       "      <th>25%</th>\n",
       "      <td>7.043089</td>\n",
       "    </tr>\n",
       "    <tr>\n",
       "      <th>50%</th>\n",
       "      <td>9.836267</td>\n",
       "    </tr>\n",
       "    <tr>\n",
       "      <th>75%</th>\n",
       "      <td>13.769915</td>\n",
       "    </tr>\n",
       "    <tr>\n",
       "      <th>max</th>\n",
       "      <td>77.995040</td>\n",
       "    </tr>\n",
       "  </tbody>\n",
       "</table>\n",
       "</div>"
      ],
      "text/plain": [
       "               gas\n",
       "count  3239.000000\n",
       "mean     11.002062\n",
       "std       6.220327\n",
       "min       0.008399\n",
       "25%       7.043089\n",
       "50%       9.836267\n",
       "75%      13.769915\n",
       "max      77.995040"
      ]
     },
     "execution_count": 20,
     "metadata": {},
     "output_type": "execute_result"
    }
   ],
   "source": [
    "data_gas.describe()"
   ]
  },
  {
   "cell_type": "markdown",
   "id": "711cd5f9",
   "metadata": {},
   "source": [
    "#### Посмотрим данные на диаграммах"
   ]
  },
  {
   "cell_type": "markdown",
   "id": "5ec61715",
   "metadata": {},
   "source": [
    "Построим диаграмму размаха"
   ]
  },
  {
   "cell_type": "code",
   "execution_count": 21,
   "id": "44f31a01",
   "metadata": {
    "scrolled": false
   },
   "outputs": [
    {
     "data": {
      "text/plain": [
       "<AxesSubplot:>"
      ]
     },
     "execution_count": 21,
     "metadata": {},
     "output_type": "execute_result"
    },
    {
     "data": {
      "image/png": "[encoded data removed]",
      "text/plain": [
       "<Figure size 864x504 with 1 Axes>"
      ]
     },
     "metadata": {
      "needs_background": "light"
     },
     "output_type": "display_data"
    }
   ],
   "source": [
    "data_gas.boxplot(figsize=(12,7))"
   ]
  },
  {
   "cell_type": "markdown",
   "id": "ae651148",
   "metadata": {},
   "source": [
    "Посмотрим данные на гистограмме"
   ]
  },
  {
   "cell_type": "code",
   "execution_count": 22,
   "id": "0a7c1f83",
   "metadata": {
    "scrolled": true
   },
   "outputs": [
    {
     "data": {
      "text/plain": [
       "array([[<AxesSubplot:title={'center':'gas'}>]], dtype=object)"
      ]
     },
     "execution_count": 22,
     "metadata": {},
     "output_type": "execute_result"
    },
    {
     "data": {
      "image/png": "[encoded data removed]",
      "text/plain": [
       "<Figure size 432x288 with 1 Axes>"
      ]
     },
     "metadata": {
      "needs_background": "light"
     },
     "output_type": "display_data"
    }
   ],
   "source": [
    "data_gas.hist()"
   ]
  },
  {
   "cell_type": "markdown",
   "id": "ae167e9a",
   "metadata": {},
   "source": [
    "### Таблица data_temp"
   ]
  },
  {
   "cell_type": "markdown",
   "id": "0a970e03",
   "metadata": {},
   "source": [
    "Посмотрим на данные таблицы data_temp"
   ]
  },
  {
   "cell_type": "code",
   "execution_count": 23,
   "id": "dbc6ad95",
   "metadata": {
    "scrolled": false
   },
   "outputs": [
    {
     "name": "stdout",
     "output_type": "stream",
     "text": [
      "<class 'pandas.core.frame.DataFrame'>\n",
      "RangeIndex: 15907 entries, 0 to 15906\n",
      "Data columns (total 3 columns):\n",
      " #   Column        Non-Null Count  Dtype  \n",
      "---  ------        --------------  -----  \n",
      " 0   key           15907 non-null  int64  \n",
      " 1   Время замера  15907 non-null  object \n",
      " 2   Температура   13006 non-null  float64\n",
      "dtypes: float64(1), int64(1), object(1)\n",
      "memory usage: 372.9+ KB\n"
     ]
    },
    {
     "data": {
      "text/html": [
       "<div>\n",
       "<style scoped>\n",
       "    .dataframe tbody tr th:only-of-type {\n",
       "        vertical-align: middle;\n",
       "    }\n",
       "\n",
       "    .dataframe tbody tr th {\n",
       "        vertical-align: top;\n",
       "    }\n",
       "\n",
       "    .dataframe thead th {\n",
       "        text-align: right;\n",
       "    }\n",
       "</style>\n",
       "<table border=\"1\" class=\"dataframe\">\n",
       "  <thead>\n",
       "    <tr style=\"text-align: right;\">\n",
       "      <th></th>\n",
       "      <th>key</th>\n",
       "      <th>Время замера</th>\n",
       "      <th>Температура</th>\n",
       "    </tr>\n",
       "  </thead>\n",
       "  <tbody>\n",
       "    <tr>\n",
       "      <th>0</th>\n",
       "      <td>1</td>\n",
       "      <td>2019-05-03 11:16:18</td>\n",
       "      <td>1571.0</td>\n",
       "    </tr>\n",
       "    <tr>\n",
       "      <th>1</th>\n",
       "      <td>1</td>\n",
       "      <td>2019-05-03 11:25:53</td>\n",
       "      <td>1604.0</td>\n",
       "    </tr>\n",
       "    <tr>\n",
       "      <th>2</th>\n",
       "      <td>1</td>\n",
       "      <td>2019-05-03 11:29:11</td>\n",
       "      <td>1618.0</td>\n",
       "    </tr>\n",
       "    <tr>\n",
       "      <th>3</th>\n",
       "      <td>1</td>\n",
       "      <td>2019-05-03 11:30:01</td>\n",
       "      <td>1601.0</td>\n",
       "    </tr>\n",
       "    <tr>\n",
       "      <th>4</th>\n",
       "      <td>1</td>\n",
       "      <td>2019-05-03 11:30:39</td>\n",
       "      <td>1613.0</td>\n",
       "    </tr>\n",
       "    <tr>\n",
       "      <th>5</th>\n",
       "      <td>2</td>\n",
       "      <td>2019-05-03 11:37:27</td>\n",
       "      <td>1581.0</td>\n",
       "    </tr>\n",
       "    <tr>\n",
       "      <th>6</th>\n",
       "      <td>2</td>\n",
       "      <td>2019-05-03 11:38:00</td>\n",
       "      <td>1577.0</td>\n",
       "    </tr>\n",
       "    <tr>\n",
       "      <th>7</th>\n",
       "      <td>2</td>\n",
       "      <td>2019-05-03 11:49:38</td>\n",
       "      <td>1589.0</td>\n",
       "    </tr>\n",
       "    <tr>\n",
       "      <th>8</th>\n",
       "      <td>2</td>\n",
       "      <td>2019-05-03 11:55:50</td>\n",
       "      <td>1604.0</td>\n",
       "    </tr>\n",
       "    <tr>\n",
       "      <th>9</th>\n",
       "      <td>2</td>\n",
       "      <td>2019-05-03 11:58:24</td>\n",
       "      <td>1608.0</td>\n",
       "    </tr>\n",
       "  </tbody>\n",
       "</table>\n",
       "</div>"
      ],
      "text/plain": [
       "   key         Время замера  Температура\n",
       "0    1  2019-05-03 11:16:18       1571.0\n",
       "1    1  2019-05-03 11:25:53       1604.0\n",
       "2    1  2019-05-03 11:29:11       1618.0\n",
       "3    1  2019-05-03 11:30:01       1601.0\n",
       "4    1  2019-05-03 11:30:39       1613.0\n",
       "5    2  2019-05-03 11:37:27       1581.0\n",
       "6    2  2019-05-03 11:38:00       1577.0\n",
       "7    2  2019-05-03 11:49:38       1589.0\n",
       "8    2  2019-05-03 11:55:50       1604.0\n",
       "9    2  2019-05-03 11:58:24       1608.0"
      ]
     },
     "execution_count": 23,
     "metadata": {},
     "output_type": "execute_result"
    }
   ],
   "source": [
    "data_temp.info()\n",
    "data_temp.head(10)"
   ]
  },
  {
   "cell_type": "markdown",
   "id": "722f0815",
   "metadata": {},
   "source": [
    "#### Переименование столбцов"
   ]
  },
  {
   "cell_type": "markdown",
   "id": "646a1530",
   "metadata": {},
   "source": [
    "Приведем названия столбцов к единому стилю."
   ]
  },
  {
   "cell_type": "code",
   "execution_count": 24,
   "id": "0831c0b0",
   "metadata": {},
   "outputs": [
    {
     "data": {
      "text/plain": [
       "Index(['key', 'time_meas', 'temp'], dtype='object')"
      ]
     },
     "execution_count": 24,
     "metadata": {},
     "output_type": "execute_result"
    }
   ],
   "source": [
    "data_temp.columns = ['key', 'time_meas', 'temp']\n",
    "data_temp.columns"
   ]
  },
  {
   "cell_type": "markdown",
   "id": "266735c3",
   "metadata": {},
   "source": [
    "#### Замена типа данных"
   ]
  },
  {
   "cell_type": "markdown",
   "id": "1922a8fe",
   "metadata": {},
   "source": [
    "Заменим типы данных на дате в столбцах `start_heat` и `end_heat`"
   ]
  },
  {
   "cell_type": "code",
   "execution_count": 25,
   "id": "f2d1dcdc",
   "metadata": {
    "scrolled": true
   },
   "outputs": [],
   "source": [
    "data_temp = data_temp.astype({'time_meas':'datetime64'})"
   ]
  },
  {
   "cell_type": "markdown",
   "id": "4bf4168b",
   "metadata": {},
   "source": [
    "#### Посмотрим данные на диаграммах"
   ]
  },
  {
   "cell_type": "markdown",
   "id": "13915e60",
   "metadata": {},
   "source": [
    "Построим диаграмму размаха"
   ]
  },
  {
   "cell_type": "code",
   "execution_count": 26,
   "id": "81303333",
   "metadata": {
    "scrolled": false
   },
   "outputs": [
    {
     "data": {
      "text/plain": [
       "<AxesSubplot:>"
      ]
     },
     "execution_count": 26,
     "metadata": {},
     "output_type": "execute_result"
    },
    {
     "data": {
      "image/png": "[encoded data removed]",
      "text/plain": [
       "<Figure size 864x504 with 1 Axes>"
      ]
     },
     "metadata": {
      "needs_background": "light"
     },
     "output_type": "display_data"
    }
   ],
   "source": [
    "data_temp.boxplot(column='temp', figsize=(12,7))"
   ]
  },
  {
   "cell_type": "markdown",
   "id": "f707bda1",
   "metadata": {},
   "source": [
    "Из данных видно, что имеются единичные выбросы температур менее 1400℃. После обработки конечных показателей температуры, проработаем эти выбросы "
   ]
  },
  {
   "cell_type": "markdown",
   "id": "d3d41dd9",
   "metadata": {},
   "source": [
    "#### Изучим данные"
   ]
  },
  {
   "cell_type": "code",
   "execution_count": 27,
   "id": "1ff92e65",
   "metadata": {
    "scrolled": true
   },
   "outputs": [
    {
     "data": {
      "text/html": [
       "<div>\n",
       "<style scoped>\n",
       "    .dataframe tbody tr th:only-of-type {\n",
       "        vertical-align: middle;\n",
       "    }\n",
       "\n",
       "    .dataframe tbody tr th {\n",
       "        vertical-align: top;\n",
       "    }\n",
       "\n",
       "    .dataframe thead th {\n",
       "        text-align: right;\n",
       "    }\n",
       "</style>\n",
       "<table border=\"1\" class=\"dataframe\">\n",
       "  <thead>\n",
       "    <tr style=\"text-align: right;\">\n",
       "      <th></th>\n",
       "      <th>key</th>\n",
       "      <th>temp</th>\n",
       "    </tr>\n",
       "  </thead>\n",
       "  <tbody>\n",
       "    <tr>\n",
       "      <th>count</th>\n",
       "      <td>15907.000000</td>\n",
       "      <td>13006.000000</td>\n",
       "    </tr>\n",
       "    <tr>\n",
       "      <th>mean</th>\n",
       "      <td>1607.880870</td>\n",
       "      <td>1591.840920</td>\n",
       "    </tr>\n",
       "    <tr>\n",
       "      <th>std</th>\n",
       "      <td>942.212073</td>\n",
       "      <td>21.375851</td>\n",
       "    </tr>\n",
       "    <tr>\n",
       "      <th>min</th>\n",
       "      <td>1.000000</td>\n",
       "      <td>1191.000000</td>\n",
       "    </tr>\n",
       "    <tr>\n",
       "      <th>25%</th>\n",
       "      <td>790.000000</td>\n",
       "      <td>1581.000000</td>\n",
       "    </tr>\n",
       "    <tr>\n",
       "      <th>50%</th>\n",
       "      <td>1618.000000</td>\n",
       "      <td>1591.000000</td>\n",
       "    </tr>\n",
       "    <tr>\n",
       "      <th>75%</th>\n",
       "      <td>2427.000000</td>\n",
       "      <td>1601.000000</td>\n",
       "    </tr>\n",
       "    <tr>\n",
       "      <th>max</th>\n",
       "      <td>3241.000000</td>\n",
       "      <td>1705.000000</td>\n",
       "    </tr>\n",
       "  </tbody>\n",
       "</table>\n",
       "</div>"
      ],
      "text/plain": [
       "                key          temp\n",
       "count  15907.000000  13006.000000\n",
       "mean    1607.880870   1591.840920\n",
       "std      942.212073     21.375851\n",
       "min        1.000000   1191.000000\n",
       "25%      790.000000   1581.000000\n",
       "50%     1618.000000   1591.000000\n",
       "75%     2427.000000   1601.000000\n",
       "max     3241.000000   1705.000000"
      ]
     },
     "execution_count": 27,
     "metadata": {},
     "output_type": "execute_result"
    }
   ],
   "source": [
    "data_temp.describe()"
   ]
  },
  {
   "cell_type": "markdown",
   "id": "2284c90c",
   "metadata": {},
   "source": [
    "В данных о замерах температуры имеются пропуски. Т.к. у нас целевым признаком является конечная температура у каждой партии, посмотрим нет ли пропусков у целевых признаков. Так же избавимся от партий у которых имеются только один замер температуры. Для этого создадим таблицу `temp_max` с данными о первых и последних замерах температуры, времени последнего замера и общего затраченного времени на каждую партию  "
   ]
  },
  {
   "cell_type": "code",
   "execution_count": 28,
   "id": "3fd68bc7",
   "metadata": {
    "scrolled": false
   },
   "outputs": [
    {
     "data": {
      "text/html": [
       "<div>\n",
       "<style scoped>\n",
       "    .dataframe tbody tr th:only-of-type {\n",
       "        vertical-align: middle;\n",
       "    }\n",
       "\n",
       "    .dataframe tbody tr th {\n",
       "        vertical-align: top;\n",
       "    }\n",
       "\n",
       "    .dataframe thead th {\n",
       "        text-align: right;\n",
       "    }\n",
       "</style>\n",
       "<table border=\"1\" class=\"dataframe\">\n",
       "  <thead>\n",
       "    <tr style=\"text-align: right;\">\n",
       "      <th></th>\n",
       "      <th>time_max</th>\n",
       "      <th>start_temp</th>\n",
       "      <th>end_temp</th>\n",
       "      <th>time_meas</th>\n",
       "    </tr>\n",
       "    <tr>\n",
       "      <th>key</th>\n",
       "      <th></th>\n",
       "      <th></th>\n",
       "      <th></th>\n",
       "      <th></th>\n",
       "    </tr>\n",
       "  </thead>\n",
       "  <tbody>\n",
       "    <tr>\n",
       "      <th>1</th>\n",
       "      <td>2019-05-03 11:30:39</td>\n",
       "      <td>1571.0</td>\n",
       "      <td>1613.0</td>\n",
       "      <td>861.0</td>\n",
       "    </tr>\n",
       "    <tr>\n",
       "      <th>2</th>\n",
       "      <td>2019-05-03 11:59:12</td>\n",
       "      <td>1581.0</td>\n",
       "      <td>1602.0</td>\n",
       "      <td>1305.0</td>\n",
       "    </tr>\n",
       "    <tr>\n",
       "      <th>3</th>\n",
       "      <td>2019-05-03 12:34:57</td>\n",
       "      <td>1596.0</td>\n",
       "      <td>1599.0</td>\n",
       "      <td>1300.0</td>\n",
       "    </tr>\n",
       "    <tr>\n",
       "      <th>4</th>\n",
       "      <td>2019-05-03 12:59:25</td>\n",
       "      <td>1601.0</td>\n",
       "      <td>1625.0</td>\n",
       "      <td>388.0</td>\n",
       "    </tr>\n",
       "    <tr>\n",
       "      <th>5</th>\n",
       "      <td>2019-05-03 13:36:01</td>\n",
       "      <td>1576.0</td>\n",
       "      <td>1602.0</td>\n",
       "      <td>762.0</td>\n",
       "    </tr>\n",
       "    <tr>\n",
       "      <th>...</th>\n",
       "      <td>...</td>\n",
       "      <td>...</td>\n",
       "      <td>...</td>\n",
       "      <td>...</td>\n",
       "    </tr>\n",
       "    <tr>\n",
       "      <th>3237</th>\n",
       "      <td>2019-08-31 23:05:43</td>\n",
       "      <td>1569.0</td>\n",
       "      <td>NaN</td>\n",
       "      <td>1299.0</td>\n",
       "    </tr>\n",
       "    <tr>\n",
       "      <th>3238</th>\n",
       "      <td>2019-08-31 23:43:00</td>\n",
       "      <td>1584.0</td>\n",
       "      <td>NaN</td>\n",
       "      <td>749.0</td>\n",
       "    </tr>\n",
       "    <tr>\n",
       "      <th>3239</th>\n",
       "      <td>2019-09-01 02:24:15</td>\n",
       "      <td>1598.0</td>\n",
       "      <td>NaN</td>\n",
       "      <td>3148.0</td>\n",
       "    </tr>\n",
       "    <tr>\n",
       "      <th>3240</th>\n",
       "      <td>2019-09-01 03:35:16</td>\n",
       "      <td>1617.0</td>\n",
       "      <td>NaN</td>\n",
       "      <td>3375.0</td>\n",
       "    </tr>\n",
       "    <tr>\n",
       "      <th>3241</th>\n",
       "      <td>2019-09-01 04:38:08</td>\n",
       "      <td>1586.0</td>\n",
       "      <td>NaN</td>\n",
       "      <td>2078.0</td>\n",
       "    </tr>\n",
       "  </tbody>\n",
       "</table>\n",
       "<p>3214 rows × 4 columns</p>\n",
       "</div>"
      ],
      "text/plain": [
       "                time_max  start_temp  end_temp  time_meas\n",
       "key                                                      \n",
       "1    2019-05-03 11:30:39      1571.0    1613.0      861.0\n",
       "2    2019-05-03 11:59:12      1581.0    1602.0     1305.0\n",
       "3    2019-05-03 12:34:57      1596.0    1599.0     1300.0\n",
       "4    2019-05-03 12:59:25      1601.0    1625.0      388.0\n",
       "5    2019-05-03 13:36:01      1576.0    1602.0      762.0\n",
       "...                  ...         ...       ...        ...\n",
       "3237 2019-08-31 23:05:43      1569.0       NaN     1299.0\n",
       "3238 2019-08-31 23:43:00      1584.0       NaN      749.0\n",
       "3239 2019-09-01 02:24:15      1598.0       NaN     3148.0\n",
       "3240 2019-09-01 03:35:16      1617.0       NaN     3375.0\n",
       "3241 2019-09-01 04:38:08      1586.0       NaN     2078.0\n",
       "\n",
       "[3214 rows x 4 columns]"
      ]
     },
     "execution_count": 28,
     "metadata": {},
     "output_type": "execute_result"
    }
   ],
   "source": [
    "data_temp_new = pd.DataFrame(columns=['key', 'time_max', 'start_temp', 'end_temp', 'time_meas'])\n",
    "\n",
    "\n",
    "for i in list(data_temp['key'].unique()):\n",
    "    if data_temp[data_temp['key'] == i]['key'].count() != 1:\n",
    "        min_time = data_temp[data_temp['key'] == i]['time_meas'].min()\n",
    "        max_time = data_temp[data_temp['key'] == i]['time_meas'].max()\n",
    "        t_meas = (max_time - min_time).total_seconds()\n",
    "        temp_start = data_temp[data_temp['time_meas'] == min_time]['temp'].values[0]\n",
    "        temp_end = data_temp[data_temp['time_meas'] == max_time]['temp'].values[0]\n",
    "        \n",
    "        data_temp_new.loc[len(data_temp_new.index)] = [i, max_time, temp_start, temp_end, t_meas]\n",
    "    \n",
    "data_temp_new.set_index('key', inplace=True)\n",
    "data_temp_new"
   ]
  },
  {
   "cell_type": "markdown",
   "id": "4c50270b",
   "metadata": {},
   "source": [
    "Посмотрим в каких замерах отсутствуют данные о температуре"
   ]
  },
  {
   "cell_type": "code",
   "execution_count": 29,
   "id": "bdb48ed8",
   "metadata": {
    "scrolled": false
   },
   "outputs": [
    {
     "data": {
      "text/html": [
       "<div>\n",
       "<style scoped>\n",
       "    .dataframe tbody tr th:only-of-type {\n",
       "        vertical-align: middle;\n",
       "    }\n",
       "\n",
       "    .dataframe tbody tr th {\n",
       "        vertical-align: top;\n",
       "    }\n",
       "\n",
       "    .dataframe thead th {\n",
       "        text-align: right;\n",
       "    }\n",
       "</style>\n",
       "<table border=\"1\" class=\"dataframe\">\n",
       "  <thead>\n",
       "    <tr style=\"text-align: right;\">\n",
       "      <th></th>\n",
       "      <th>time_max</th>\n",
       "      <th>start_temp</th>\n",
       "      <th>end_temp</th>\n",
       "      <th>time_meas</th>\n",
       "    </tr>\n",
       "    <tr>\n",
       "      <th>key</th>\n",
       "      <th></th>\n",
       "      <th></th>\n",
       "      <th></th>\n",
       "      <th></th>\n",
       "    </tr>\n",
       "  </thead>\n",
       "  <tbody>\n",
       "    <tr>\n",
       "      <th>2500</th>\n",
       "      <td>2019-08-06 03:28:21</td>\n",
       "      <td>1539.0</td>\n",
       "      <td>NaN</td>\n",
       "      <td>1010.0</td>\n",
       "    </tr>\n",
       "    <tr>\n",
       "      <th>2501</th>\n",
       "      <td>2019-08-06 04:31:14</td>\n",
       "      <td>1587.0</td>\n",
       "      <td>NaN</td>\n",
       "      <td>2792.0</td>\n",
       "    </tr>\n",
       "    <tr>\n",
       "      <th>2502</th>\n",
       "      <td>2019-08-06 05:12:20</td>\n",
       "      <td>1583.0</td>\n",
       "      <td>NaN</td>\n",
       "      <td>1614.0</td>\n",
       "    </tr>\n",
       "    <tr>\n",
       "      <th>2503</th>\n",
       "      <td>2019-08-06 06:07:35</td>\n",
       "      <td>1603.0</td>\n",
       "      <td>NaN</td>\n",
       "      <td>2129.0</td>\n",
       "    </tr>\n",
       "    <tr>\n",
       "      <th>2504</th>\n",
       "      <td>2019-08-06 07:04:16</td>\n",
       "      <td>1583.0</td>\n",
       "      <td>NaN</td>\n",
       "      <td>1717.0</td>\n",
       "    </tr>\n",
       "    <tr>\n",
       "      <th>...</th>\n",
       "      <td>...</td>\n",
       "      <td>...</td>\n",
       "      <td>...</td>\n",
       "      <td>...</td>\n",
       "    </tr>\n",
       "    <tr>\n",
       "      <th>3237</th>\n",
       "      <td>2019-08-31 23:05:43</td>\n",
       "      <td>1569.0</td>\n",
       "      <td>NaN</td>\n",
       "      <td>1299.0</td>\n",
       "    </tr>\n",
       "    <tr>\n",
       "      <th>3238</th>\n",
       "      <td>2019-08-31 23:43:00</td>\n",
       "      <td>1584.0</td>\n",
       "      <td>NaN</td>\n",
       "      <td>749.0</td>\n",
       "    </tr>\n",
       "    <tr>\n",
       "      <th>3239</th>\n",
       "      <td>2019-09-01 02:24:15</td>\n",
       "      <td>1598.0</td>\n",
       "      <td>NaN</td>\n",
       "      <td>3148.0</td>\n",
       "    </tr>\n",
       "    <tr>\n",
       "      <th>3240</th>\n",
       "      <td>2019-09-01 03:35:16</td>\n",
       "      <td>1617.0</td>\n",
       "      <td>NaN</td>\n",
       "      <td>3375.0</td>\n",
       "    </tr>\n",
       "    <tr>\n",
       "      <th>3241</th>\n",
       "      <td>2019-09-01 04:38:08</td>\n",
       "      <td>1586.0</td>\n",
       "      <td>NaN</td>\n",
       "      <td>2078.0</td>\n",
       "    </tr>\n",
       "  </tbody>\n",
       "</table>\n",
       "<p>739 rows × 4 columns</p>\n",
       "</div>"
      ],
      "text/plain": [
       "                time_max  start_temp  end_temp  time_meas\n",
       "key                                                      \n",
       "2500 2019-08-06 03:28:21      1539.0       NaN     1010.0\n",
       "2501 2019-08-06 04:31:14      1587.0       NaN     2792.0\n",
       "2502 2019-08-06 05:12:20      1583.0       NaN     1614.0\n",
       "2503 2019-08-06 06:07:35      1603.0       NaN     2129.0\n",
       "2504 2019-08-06 07:04:16      1583.0       NaN     1717.0\n",
       "...                  ...         ...       ...        ...\n",
       "3237 2019-08-31 23:05:43      1569.0       NaN     1299.0\n",
       "3238 2019-08-31 23:43:00      1584.0       NaN      749.0\n",
       "3239 2019-09-01 02:24:15      1598.0       NaN     3148.0\n",
       "3240 2019-09-01 03:35:16      1617.0       NaN     3375.0\n",
       "3241 2019-09-01 04:38:08      1586.0       NaN     2078.0\n",
       "\n",
       "[739 rows x 4 columns]"
      ]
     },
     "execution_count": 29,
     "metadata": {},
     "output_type": "execute_result"
    }
   ],
   "source": [
    "data_temp_new.query('end_temp != end_temp')"
   ]
  },
  {
   "cell_type": "markdown",
   "id": "74c39f61",
   "metadata": {},
   "source": [
    "Как видно пропуски целевого признака составляют почти 23% партий. Т.к. без этих данных мы не сможем провести обучение модели, придется удалить все эти партии из анализа \n",
    "\n",
    "Проверим данные на случайно взятой партии "
   ]
  },
  {
   "cell_type": "code",
   "execution_count": 30,
   "id": "91554860",
   "metadata": {
    "scrolled": true
   },
   "outputs": [
    {
     "data": {
      "text/html": [
       "<div>\n",
       "<style scoped>\n",
       "    .dataframe tbody tr th:only-of-type {\n",
       "        vertical-align: middle;\n",
       "    }\n",
       "\n",
       "    .dataframe tbody tr th {\n",
       "        vertical-align: top;\n",
       "    }\n",
       "\n",
       "    .dataframe thead th {\n",
       "        text-align: right;\n",
       "    }\n",
       "</style>\n",
       "<table border=\"1\" class=\"dataframe\">\n",
       "  <thead>\n",
       "    <tr style=\"text-align: right;\">\n",
       "      <th></th>\n",
       "      <th>key</th>\n",
       "      <th>time_meas</th>\n",
       "      <th>temp</th>\n",
       "    </tr>\n",
       "  </thead>\n",
       "  <tbody>\n",
       "    <tr>\n",
       "      <th>15878</th>\n",
       "      <td>3237</td>\n",
       "      <td>2019-08-31 22:44:04</td>\n",
       "      <td>1569.0</td>\n",
       "    </tr>\n",
       "    <tr>\n",
       "      <th>15879</th>\n",
       "      <td>3237</td>\n",
       "      <td>2019-08-31 22:44:44</td>\n",
       "      <td>NaN</td>\n",
       "    </tr>\n",
       "    <tr>\n",
       "      <th>15880</th>\n",
       "      <td>3237</td>\n",
       "      <td>2019-08-31 22:51:02</td>\n",
       "      <td>NaN</td>\n",
       "    </tr>\n",
       "    <tr>\n",
       "      <th>15881</th>\n",
       "      <td>3237</td>\n",
       "      <td>2019-08-31 23:01:16</td>\n",
       "      <td>NaN</td>\n",
       "    </tr>\n",
       "    <tr>\n",
       "      <th>15882</th>\n",
       "      <td>3237</td>\n",
       "      <td>2019-08-31 23:05:43</td>\n",
       "      <td>NaN</td>\n",
       "    </tr>\n",
       "  </tbody>\n",
       "</table>\n",
       "</div>"
      ],
      "text/plain": [
       "        key           time_meas    temp\n",
       "15878  3237 2019-08-31 22:44:04  1569.0\n",
       "15879  3237 2019-08-31 22:44:44     NaN\n",
       "15880  3237 2019-08-31 22:51:02     NaN\n",
       "15881  3237 2019-08-31 23:01:16     NaN\n",
       "15882  3237 2019-08-31 23:05:43     NaN"
      ]
     },
     "execution_count": 30,
     "metadata": {},
     "output_type": "execute_result"
    }
   ],
   "source": [
    "data_temp.query('key == 3237')"
   ]
  },
  {
   "cell_type": "markdown",
   "id": "e2a20e5f",
   "metadata": {},
   "source": [
    "Удалим эти партии"
   ]
  },
  {
   "cell_type": "code",
   "execution_count": 31,
   "id": "8018d1f5",
   "metadata": {},
   "outputs": [
    {
     "data": {
      "text/html": [
       "<div>\n",
       "<style scoped>\n",
       "    .dataframe tbody tr th:only-of-type {\n",
       "        vertical-align: middle;\n",
       "    }\n",
       "\n",
       "    .dataframe tbody tr th {\n",
       "        vertical-align: top;\n",
       "    }\n",
       "\n",
       "    .dataframe thead th {\n",
       "        text-align: right;\n",
       "    }\n",
       "</style>\n",
       "<table border=\"1\" class=\"dataframe\">\n",
       "  <thead>\n",
       "    <tr style=\"text-align: right;\">\n",
       "      <th></th>\n",
       "      <th>time_max</th>\n",
       "      <th>start_temp</th>\n",
       "      <th>end_temp</th>\n",
       "      <th>time_meas</th>\n",
       "    </tr>\n",
       "    <tr>\n",
       "      <th>key</th>\n",
       "      <th></th>\n",
       "      <th></th>\n",
       "      <th></th>\n",
       "      <th></th>\n",
       "    </tr>\n",
       "  </thead>\n",
       "  <tbody>\n",
       "    <tr>\n",
       "      <th>1</th>\n",
       "      <td>2019-05-03 11:30:39</td>\n",
       "      <td>1571.0</td>\n",
       "      <td>1613.0</td>\n",
       "      <td>861.0</td>\n",
       "    </tr>\n",
       "    <tr>\n",
       "      <th>2</th>\n",
       "      <td>2019-05-03 11:59:12</td>\n",
       "      <td>1581.0</td>\n",
       "      <td>1602.0</td>\n",
       "      <td>1305.0</td>\n",
       "    </tr>\n",
       "    <tr>\n",
       "      <th>3</th>\n",
       "      <td>2019-05-03 12:34:57</td>\n",
       "      <td>1596.0</td>\n",
       "      <td>1599.0</td>\n",
       "      <td>1300.0</td>\n",
       "    </tr>\n",
       "    <tr>\n",
       "      <th>4</th>\n",
       "      <td>2019-05-03 12:59:25</td>\n",
       "      <td>1601.0</td>\n",
       "      <td>1625.0</td>\n",
       "      <td>388.0</td>\n",
       "    </tr>\n",
       "    <tr>\n",
       "      <th>5</th>\n",
       "      <td>2019-05-03 13:36:01</td>\n",
       "      <td>1576.0</td>\n",
       "      <td>1602.0</td>\n",
       "      <td>762.0</td>\n",
       "    </tr>\n",
       "    <tr>\n",
       "      <th>...</th>\n",
       "      <td>...</td>\n",
       "      <td>...</td>\n",
       "      <td>...</td>\n",
       "      <td>...</td>\n",
       "    </tr>\n",
       "    <tr>\n",
       "      <th>2495</th>\n",
       "      <td>2019-08-06 00:54:42</td>\n",
       "      <td>1570.0</td>\n",
       "      <td>1591.0</td>\n",
       "      <td>1137.0</td>\n",
       "    </tr>\n",
       "    <tr>\n",
       "      <th>2496</th>\n",
       "      <td>2019-08-06 01:29:52</td>\n",
       "      <td>1554.0</td>\n",
       "      <td>1591.0</td>\n",
       "      <td>1618.0</td>\n",
       "    </tr>\n",
       "    <tr>\n",
       "      <th>2497</th>\n",
       "      <td>2019-08-06 01:53:50</td>\n",
       "      <td>1571.0</td>\n",
       "      <td>1589.0</td>\n",
       "      <td>717.0</td>\n",
       "    </tr>\n",
       "    <tr>\n",
       "      <th>2498</th>\n",
       "      <td>2019-08-06 02:25:31</td>\n",
       "      <td>1591.0</td>\n",
       "      <td>1594.0</td>\n",
       "      <td>1302.0</td>\n",
       "    </tr>\n",
       "    <tr>\n",
       "      <th>2499</th>\n",
       "      <td>2019-08-06 03:00:28</td>\n",
       "      <td>1569.0</td>\n",
       "      <td>1603.0</td>\n",
       "      <td>1203.0</td>\n",
       "    </tr>\n",
       "  </tbody>\n",
       "</table>\n",
       "<p>2475 rows × 4 columns</p>\n",
       "</div>"
      ],
      "text/plain": [
       "                time_max  start_temp  end_temp  time_meas\n",
       "key                                                      \n",
       "1    2019-05-03 11:30:39      1571.0    1613.0      861.0\n",
       "2    2019-05-03 11:59:12      1581.0    1602.0     1305.0\n",
       "3    2019-05-03 12:34:57      1596.0    1599.0     1300.0\n",
       "4    2019-05-03 12:59:25      1601.0    1625.0      388.0\n",
       "5    2019-05-03 13:36:01      1576.0    1602.0      762.0\n",
       "...                  ...         ...       ...        ...\n",
       "2495 2019-08-06 00:54:42      1570.0    1591.0     1137.0\n",
       "2496 2019-08-06 01:29:52      1554.0    1591.0     1618.0\n",
       "2497 2019-08-06 01:53:50      1571.0    1589.0      717.0\n",
       "2498 2019-08-06 02:25:31      1591.0    1594.0     1302.0\n",
       "2499 2019-08-06 03:00:28      1569.0    1603.0     1203.0\n",
       "\n",
       "[2475 rows x 4 columns]"
      ]
     },
     "execution_count": 31,
     "metadata": {},
     "output_type": "execute_result"
    }
   ],
   "source": [
    "data_temp_new = data_temp_new.query('end_temp == end_temp')\n",
    "data_temp_new"
   ]
  },
  {
   "cell_type": "markdown",
   "id": "90b72803",
   "metadata": {},
   "source": [
    "Посмотрим на данные после удаления неизвестных целевых признаков"
   ]
  },
  {
   "cell_type": "code",
   "execution_count": 32,
   "id": "b57d3cbb",
   "metadata": {},
   "outputs": [
    {
     "data": {
      "text/plain": [
       "<AxesSubplot:>"
      ]
     },
     "execution_count": 32,
     "metadata": {},
     "output_type": "execute_result"
    },
    {
     "data": {
      "image/png": "[encoded data removed]",
      "text/plain": [
       "<Figure size 864x504 with 1 Axes>"
      ]
     },
     "metadata": {
      "needs_background": "light"
     },
     "output_type": "display_data"
    }
   ],
   "source": [
    "data_temp_new.boxplot(column=['start_temp', 'end_temp'], figsize=(12,7))"
   ]
  },
  {
   "cell_type": "markdown",
   "id": "e425d389",
   "metadata": {},
   "source": [
    "Имеются выбросы ниже 1300℃ после первого этапа, в конечной температуре эти выбросы отсутствуют, поэтому трогать их не будем.  "
   ]
  },
  {
   "cell_type": "markdown",
   "id": "d5a6133a",
   "metadata": {},
   "source": [
    "### Таблица data_wire"
   ]
  },
  {
   "cell_type": "markdown",
   "id": "75c20e51",
   "metadata": {},
   "source": [
    "Посмотрим на данные таблицы data_wire"
   ]
  },
  {
   "cell_type": "code",
   "execution_count": 33,
   "id": "e84436aa",
   "metadata": {
    "scrolled": false
   },
   "outputs": [
    {
     "name": "stdout",
     "output_type": "stream",
     "text": [
      "<class 'pandas.core.frame.DataFrame'>\n",
      "Int64Index: 3081 entries, 1 to 3241\n",
      "Data columns (total 9 columns):\n",
      " #   Column  Non-Null Count  Dtype  \n",
      "---  ------  --------------  -----  \n",
      " 0   Wire 1  3055 non-null   float64\n",
      " 1   Wire 2  1079 non-null   float64\n",
      " 2   Wire 3  63 non-null     float64\n",
      " 3   Wire 4  14 non-null     float64\n",
      " 4   Wire 5  1 non-null      float64\n",
      " 5   Wire 6  73 non-null     float64\n",
      " 6   Wire 7  11 non-null     float64\n",
      " 7   Wire 8  19 non-null     float64\n",
      " 8   Wire 9  29 non-null     float64\n",
      "dtypes: float64(9)\n",
      "memory usage: 240.7 KB\n"
     ]
    },
    {
     "data": {
      "text/html": [
       "<div>\n",
       "<style scoped>\n",
       "    .dataframe tbody tr th:only-of-type {\n",
       "        vertical-align: middle;\n",
       "    }\n",
       "\n",
       "    .dataframe tbody tr th {\n",
       "        vertical-align: top;\n",
       "    }\n",
       "\n",
       "    .dataframe thead th {\n",
       "        text-align: right;\n",
       "    }\n",
       "</style>\n",
       "<table border=\"1\" class=\"dataframe\">\n",
       "  <thead>\n",
       "    <tr style=\"text-align: right;\">\n",
       "      <th></th>\n",
       "      <th>Wire 1</th>\n",
       "      <th>Wire 2</th>\n",
       "      <th>Wire 3</th>\n",
       "      <th>Wire 4</th>\n",
       "      <th>Wire 5</th>\n",
       "      <th>Wire 6</th>\n",
       "      <th>Wire 7</th>\n",
       "      <th>Wire 8</th>\n",
       "      <th>Wire 9</th>\n",
       "    </tr>\n",
       "    <tr>\n",
       "      <th>key</th>\n",
       "      <th></th>\n",
       "      <th></th>\n",
       "      <th></th>\n",
       "      <th></th>\n",
       "      <th></th>\n",
       "      <th></th>\n",
       "      <th></th>\n",
       "      <th></th>\n",
       "      <th></th>\n",
       "    </tr>\n",
       "  </thead>\n",
       "  <tbody>\n",
       "    <tr>\n",
       "      <th>1</th>\n",
       "      <td>60.059998</td>\n",
       "      <td>NaN</td>\n",
       "      <td>NaN</td>\n",
       "      <td>NaN</td>\n",
       "      <td>NaN</td>\n",
       "      <td>NaN</td>\n",
       "      <td>NaN</td>\n",
       "      <td>NaN</td>\n",
       "      <td>NaN</td>\n",
       "    </tr>\n",
       "    <tr>\n",
       "      <th>2</th>\n",
       "      <td>96.052315</td>\n",
       "      <td>NaN</td>\n",
       "      <td>NaN</td>\n",
       "      <td>NaN</td>\n",
       "      <td>NaN</td>\n",
       "      <td>NaN</td>\n",
       "      <td>NaN</td>\n",
       "      <td>NaN</td>\n",
       "      <td>NaN</td>\n",
       "    </tr>\n",
       "    <tr>\n",
       "      <th>3</th>\n",
       "      <td>91.160157</td>\n",
       "      <td>NaN</td>\n",
       "      <td>NaN</td>\n",
       "      <td>NaN</td>\n",
       "      <td>NaN</td>\n",
       "      <td>NaN</td>\n",
       "      <td>NaN</td>\n",
       "      <td>NaN</td>\n",
       "      <td>NaN</td>\n",
       "    </tr>\n",
       "    <tr>\n",
       "      <th>4</th>\n",
       "      <td>89.063515</td>\n",
       "      <td>NaN</td>\n",
       "      <td>NaN</td>\n",
       "      <td>NaN</td>\n",
       "      <td>NaN</td>\n",
       "      <td>NaN</td>\n",
       "      <td>NaN</td>\n",
       "      <td>NaN</td>\n",
       "      <td>NaN</td>\n",
       "    </tr>\n",
       "    <tr>\n",
       "      <th>5</th>\n",
       "      <td>89.238236</td>\n",
       "      <td>9.11456</td>\n",
       "      <td>NaN</td>\n",
       "      <td>NaN</td>\n",
       "      <td>NaN</td>\n",
       "      <td>NaN</td>\n",
       "      <td>NaN</td>\n",
       "      <td>NaN</td>\n",
       "      <td>NaN</td>\n",
       "    </tr>\n",
       "  </tbody>\n",
       "</table>\n",
       "</div>"
      ],
      "text/plain": [
       "        Wire 1   Wire 2  Wire 3  Wire 4  Wire 5  Wire 6  Wire 7  Wire 8  \\\n",
       "key                                                                       \n",
       "1    60.059998      NaN     NaN     NaN     NaN     NaN     NaN     NaN   \n",
       "2    96.052315      NaN     NaN     NaN     NaN     NaN     NaN     NaN   \n",
       "3    91.160157      NaN     NaN     NaN     NaN     NaN     NaN     NaN   \n",
       "4    89.063515      NaN     NaN     NaN     NaN     NaN     NaN     NaN   \n",
       "5    89.238236  9.11456     NaN     NaN     NaN     NaN     NaN     NaN   \n",
       "\n",
       "     Wire 9  \n",
       "key          \n",
       "1       NaN  \n",
       "2       NaN  \n",
       "3       NaN  \n",
       "4       NaN  \n",
       "5       NaN  "
      ]
     },
     "execution_count": 33,
     "metadata": {},
     "output_type": "execute_result"
    }
   ],
   "source": [
    "data_wire.info()\n",
    "data_wire.head()"
   ]
  },
  {
   "cell_type": "markdown",
   "id": "9d614d8b",
   "metadata": {},
   "source": [
    "В данных имеется много пропусков, данные пропуски в дальнейшем заменим на нули, после объединения всех признаков в одну таблицу. Скорее всего в одной партии использовались не все проволочные материалы, а только определенные"
   ]
  },
  {
   "cell_type": "markdown",
   "id": "375e0293",
   "metadata": {},
   "source": [
    "#### Переименование столбцов"
   ]
  },
  {
   "cell_type": "markdown",
   "id": "4fb4aea3",
   "metadata": {},
   "source": [
    "Приведем названия столбцов к единому стилю."
   ]
  },
  {
   "cell_type": "code",
   "execution_count": 34,
   "id": "ba10a90f",
   "metadata": {},
   "outputs": [
    {
     "data": {
      "text/plain": [
       "Index(['wire_1', 'wire_2', 'wire_3', 'wire_4', 'wire_5', 'wire_6', 'wire_7',\n",
       "       'wire_8', 'wire_9'],\n",
       "      dtype='object')"
      ]
     },
     "execution_count": 34,
     "metadata": {},
     "output_type": "execute_result"
    }
   ],
   "source": [
    "data_wire.columns = data_wire.columns.str.replace(' ','_').str.lower()\n",
    "data_wire.columns"
   ]
  },
  {
   "cell_type": "markdown",
   "id": "90d3b319",
   "metadata": {},
   "source": [
    "#### Изучим данные"
   ]
  },
  {
   "cell_type": "code",
   "execution_count": 35,
   "id": "f026218f",
   "metadata": {
    "scrolled": false
   },
   "outputs": [
    {
     "data": {
      "text/html": [
       "<div>\n",
       "<style scoped>\n",
       "    .dataframe tbody tr th:only-of-type {\n",
       "        vertical-align: middle;\n",
       "    }\n",
       "\n",
       "    .dataframe tbody tr th {\n",
       "        vertical-align: top;\n",
       "    }\n",
       "\n",
       "    .dataframe thead th {\n",
       "        text-align: right;\n",
       "    }\n",
       "</style>\n",
       "<table border=\"1\" class=\"dataframe\">\n",
       "  <thead>\n",
       "    <tr style=\"text-align: right;\">\n",
       "      <th></th>\n",
       "      <th>wire_1</th>\n",
       "      <th>wire_2</th>\n",
       "      <th>wire_3</th>\n",
       "      <th>wire_4</th>\n",
       "      <th>wire_5</th>\n",
       "      <th>wire_6</th>\n",
       "      <th>wire_7</th>\n",
       "      <th>wire_8</th>\n",
       "      <th>wire_9</th>\n",
       "    </tr>\n",
       "  </thead>\n",
       "  <tbody>\n",
       "    <tr>\n",
       "      <th>count</th>\n",
       "      <td>3055.000000</td>\n",
       "      <td>1079.000000</td>\n",
       "      <td>63.000000</td>\n",
       "      <td>14.000000</td>\n",
       "      <td>1.000</td>\n",
       "      <td>73.000000</td>\n",
       "      <td>11.000000</td>\n",
       "      <td>19.000000</td>\n",
       "      <td>29.000000</td>\n",
       "    </tr>\n",
       "    <tr>\n",
       "      <th>mean</th>\n",
       "      <td>100.895853</td>\n",
       "      <td>50.577323</td>\n",
       "      <td>189.482681</td>\n",
       "      <td>57.442841</td>\n",
       "      <td>15.132</td>\n",
       "      <td>48.016974</td>\n",
       "      <td>10.039007</td>\n",
       "      <td>53.625193</td>\n",
       "      <td>34.155752</td>\n",
       "    </tr>\n",
       "    <tr>\n",
       "      <th>std</th>\n",
       "      <td>42.012518</td>\n",
       "      <td>39.320216</td>\n",
       "      <td>99.513444</td>\n",
       "      <td>28.824667</td>\n",
       "      <td>NaN</td>\n",
       "      <td>33.919845</td>\n",
       "      <td>8.610584</td>\n",
       "      <td>16.881728</td>\n",
       "      <td>19.931616</td>\n",
       "    </tr>\n",
       "    <tr>\n",
       "      <th>min</th>\n",
       "      <td>1.918800</td>\n",
       "      <td>0.030160</td>\n",
       "      <td>0.144144</td>\n",
       "      <td>24.148801</td>\n",
       "      <td>15.132</td>\n",
       "      <td>0.034320</td>\n",
       "      <td>0.234208</td>\n",
       "      <td>45.076721</td>\n",
       "      <td>4.622800</td>\n",
       "    </tr>\n",
       "    <tr>\n",
       "      <th>25%</th>\n",
       "      <td>72.115684</td>\n",
       "      <td>20.193680</td>\n",
       "      <td>95.135044</td>\n",
       "      <td>40.807002</td>\n",
       "      <td>15.132</td>\n",
       "      <td>25.053600</td>\n",
       "      <td>6.762756</td>\n",
       "      <td>46.094879</td>\n",
       "      <td>22.058401</td>\n",
       "    </tr>\n",
       "    <tr>\n",
       "      <th>50%</th>\n",
       "      <td>100.158234</td>\n",
       "      <td>40.142956</td>\n",
       "      <td>235.194977</td>\n",
       "      <td>45.234282</td>\n",
       "      <td>15.132</td>\n",
       "      <td>42.076324</td>\n",
       "      <td>9.017009</td>\n",
       "      <td>46.279999</td>\n",
       "      <td>30.066399</td>\n",
       "    </tr>\n",
       "    <tr>\n",
       "      <th>75%</th>\n",
       "      <td>126.060483</td>\n",
       "      <td>70.227558</td>\n",
       "      <td>276.252014</td>\n",
       "      <td>76.124619</td>\n",
       "      <td>15.132</td>\n",
       "      <td>64.212723</td>\n",
       "      <td>11.886057</td>\n",
       "      <td>48.089603</td>\n",
       "      <td>43.862003</td>\n",
       "    </tr>\n",
       "    <tr>\n",
       "      <th>max</th>\n",
       "      <td>330.314424</td>\n",
       "      <td>282.780152</td>\n",
       "      <td>385.008668</td>\n",
       "      <td>113.231044</td>\n",
       "      <td>15.132</td>\n",
       "      <td>180.454575</td>\n",
       "      <td>32.847674</td>\n",
       "      <td>102.762401</td>\n",
       "      <td>90.053604</td>\n",
       "    </tr>\n",
       "  </tbody>\n",
       "</table>\n",
       "</div>"
      ],
      "text/plain": [
       "            wire_1       wire_2      wire_3      wire_4  wire_5      wire_6  \\\n",
       "count  3055.000000  1079.000000   63.000000   14.000000   1.000   73.000000   \n",
       "mean    100.895853    50.577323  189.482681   57.442841  15.132   48.016974   \n",
       "std      42.012518    39.320216   99.513444   28.824667     NaN   33.919845   \n",
       "min       1.918800     0.030160    0.144144   24.148801  15.132    0.034320   \n",
       "25%      72.115684    20.193680   95.135044   40.807002  15.132   25.053600   \n",
       "50%     100.158234    40.142956  235.194977   45.234282  15.132   42.076324   \n",
       "75%     126.060483    70.227558  276.252014   76.124619  15.132   64.212723   \n",
       "max     330.314424   282.780152  385.008668  113.231044  15.132  180.454575   \n",
       "\n",
       "          wire_7      wire_8     wire_9  \n",
       "count  11.000000   19.000000  29.000000  \n",
       "mean   10.039007   53.625193  34.155752  \n",
       "std     8.610584   16.881728  19.931616  \n",
       "min     0.234208   45.076721   4.622800  \n",
       "25%     6.762756   46.094879  22.058401  \n",
       "50%     9.017009   46.279999  30.066399  \n",
       "75%    11.886057   48.089603  43.862003  \n",
       "max    32.847674  102.762401  90.053604  "
      ]
     },
     "execution_count": 35,
     "metadata": {},
     "output_type": "execute_result"
    }
   ],
   "source": [
    "data_wire.describe()"
   ]
  },
  {
   "cell_type": "markdown",
   "id": "b79cddb8",
   "metadata": {},
   "source": [
    "Как видно из данных состав проволочных материалов wire_5, добавляли всего один раз. Чаще всего использовали wire_1"
   ]
  },
  {
   "cell_type": "markdown",
   "id": "4078e9bd",
   "metadata": {},
   "source": [
    "#### Посмотрим на данные на диаграмме размаха"
   ]
  },
  {
   "cell_type": "code",
   "execution_count": 36,
   "id": "2d22fd24",
   "metadata": {
    "scrolled": false
   },
   "outputs": [
    {
     "data": {
      "text/plain": [
       "<AxesSubplot:>"
      ]
     },
     "execution_count": 36,
     "metadata": {},
     "output_type": "execute_result"
    },
    {
     "data": {
      "image/png": "[encoded data removed]",
      "text/plain": [
       "<Figure size 1080x576 with 1 Axes>"
      ]
     },
     "metadata": {
      "needs_background": "light"
     },
     "output_type": "display_data"
    }
   ],
   "source": [
    "data_wire.boxplot(figsize=(15,8))"
   ]
  },
  {
   "cell_type": "markdown",
   "id": "927e4a67",
   "metadata": {},
   "source": [
    "### Таблица data_wire_time"
   ]
  },
  {
   "cell_type": "markdown",
   "id": "532550e9",
   "metadata": {},
   "source": [
    "Посмотрим на данные таблицы data_wire_time"
   ]
  },
  {
   "cell_type": "code",
   "execution_count": 37,
   "id": "9cca5e82",
   "metadata": {
    "scrolled": false
   },
   "outputs": [
    {
     "name": "stdout",
     "output_type": "stream",
     "text": [
      "<class 'pandas.core.frame.DataFrame'>\n",
      "Int64Index: 3081 entries, 1 to 3241\n",
      "Data columns (total 9 columns):\n",
      " #   Column  Non-Null Count  Dtype \n",
      "---  ------  --------------  ----- \n",
      " 0   Wire 1  3055 non-null   object\n",
      " 1   Wire 2  1079 non-null   object\n",
      " 2   Wire 3  63 non-null     object\n",
      " 3   Wire 4  14 non-null     object\n",
      " 4   Wire 5  1 non-null      object\n",
      " 5   Wire 6  73 non-null     object\n",
      " 6   Wire 7  11 non-null     object\n",
      " 7   Wire 8  19 non-null     object\n",
      " 8   Wire 9  29 non-null     object\n",
      "dtypes: object(9)\n",
      "memory usage: 240.7+ KB\n"
     ]
    },
    {
     "data": {
      "text/html": [
       "<div>\n",
       "<style scoped>\n",
       "    .dataframe tbody tr th:only-of-type {\n",
       "        vertical-align: middle;\n",
       "    }\n",
       "\n",
       "    .dataframe tbody tr th {\n",
       "        vertical-align: top;\n",
       "    }\n",
       "\n",
       "    .dataframe thead th {\n",
       "        text-align: right;\n",
       "    }\n",
       "</style>\n",
       "<table border=\"1\" class=\"dataframe\">\n",
       "  <thead>\n",
       "    <tr style=\"text-align: right;\">\n",
       "      <th></th>\n",
       "      <th>Wire 1</th>\n",
       "      <th>Wire 2</th>\n",
       "      <th>Wire 3</th>\n",
       "      <th>Wire 4</th>\n",
       "      <th>Wire 5</th>\n",
       "      <th>Wire 6</th>\n",
       "      <th>Wire 7</th>\n",
       "      <th>Wire 8</th>\n",
       "      <th>Wire 9</th>\n",
       "    </tr>\n",
       "    <tr>\n",
       "      <th>key</th>\n",
       "      <th></th>\n",
       "      <th></th>\n",
       "      <th></th>\n",
       "      <th></th>\n",
       "      <th></th>\n",
       "      <th></th>\n",
       "      <th></th>\n",
       "      <th></th>\n",
       "      <th></th>\n",
       "    </tr>\n",
       "  </thead>\n",
       "  <tbody>\n",
       "    <tr>\n",
       "      <th>1</th>\n",
       "      <td>2019-05-03 11:11:41</td>\n",
       "      <td>NaN</td>\n",
       "      <td>NaN</td>\n",
       "      <td>NaN</td>\n",
       "      <td>NaN</td>\n",
       "      <td>NaN</td>\n",
       "      <td>NaN</td>\n",
       "      <td>NaN</td>\n",
       "      <td>NaN</td>\n",
       "    </tr>\n",
       "    <tr>\n",
       "      <th>2</th>\n",
       "      <td>2019-05-03 11:46:10</td>\n",
       "      <td>NaN</td>\n",
       "      <td>NaN</td>\n",
       "      <td>NaN</td>\n",
       "      <td>NaN</td>\n",
       "      <td>NaN</td>\n",
       "      <td>NaN</td>\n",
       "      <td>NaN</td>\n",
       "      <td>NaN</td>\n",
       "    </tr>\n",
       "    <tr>\n",
       "      <th>3</th>\n",
       "      <td>2019-05-03 12:13:47</td>\n",
       "      <td>NaN</td>\n",
       "      <td>NaN</td>\n",
       "      <td>NaN</td>\n",
       "      <td>NaN</td>\n",
       "      <td>NaN</td>\n",
       "      <td>NaN</td>\n",
       "      <td>NaN</td>\n",
       "      <td>NaN</td>\n",
       "    </tr>\n",
       "    <tr>\n",
       "      <th>4</th>\n",
       "      <td>2019-05-03 12:48:05</td>\n",
       "      <td>NaN</td>\n",
       "      <td>NaN</td>\n",
       "      <td>NaN</td>\n",
       "      <td>NaN</td>\n",
       "      <td>NaN</td>\n",
       "      <td>NaN</td>\n",
       "      <td>NaN</td>\n",
       "      <td>NaN</td>\n",
       "    </tr>\n",
       "    <tr>\n",
       "      <th>5</th>\n",
       "      <td>2019-05-03 13:18:15</td>\n",
       "      <td>2019-05-03 13:32:06</td>\n",
       "      <td>NaN</td>\n",
       "      <td>NaN</td>\n",
       "      <td>NaN</td>\n",
       "      <td>NaN</td>\n",
       "      <td>NaN</td>\n",
       "      <td>NaN</td>\n",
       "      <td>NaN</td>\n",
       "    </tr>\n",
       "  </tbody>\n",
       "</table>\n",
       "</div>"
      ],
      "text/plain": [
       "                  Wire 1               Wire 2 Wire 3 Wire 4 Wire 5 Wire 6  \\\n",
       "key                                                                         \n",
       "1    2019-05-03 11:11:41                  NaN    NaN    NaN    NaN    NaN   \n",
       "2    2019-05-03 11:46:10                  NaN    NaN    NaN    NaN    NaN   \n",
       "3    2019-05-03 12:13:47                  NaN    NaN    NaN    NaN    NaN   \n",
       "4    2019-05-03 12:48:05                  NaN    NaN    NaN    NaN    NaN   \n",
       "5    2019-05-03 13:18:15  2019-05-03 13:32:06    NaN    NaN    NaN    NaN   \n",
       "\n",
       "    Wire 7 Wire 8 Wire 9  \n",
       "key                       \n",
       "1      NaN    NaN    NaN  \n",
       "2      NaN    NaN    NaN  \n",
       "3      NaN    NaN    NaN  \n",
       "4      NaN    NaN    NaN  \n",
       "5      NaN    NaN    NaN  "
      ]
     },
     "execution_count": 37,
     "metadata": {},
     "output_type": "execute_result"
    }
   ],
   "source": [
    "data_wire_time.info()\n",
    "data_wire_time.head()"
   ]
  },
  {
   "cell_type": "markdown",
   "id": "5fbbef78",
   "metadata": {},
   "source": [
    "В данных имеется много пропусков, данные пропуски в дальнейшем заменим на нули, после объединения всех признаков в одну таблицу. Скорее всего в одной партии использовались не все проволочные материалы, а только определенные"
   ]
  },
  {
   "cell_type": "markdown",
   "id": "04b1b228",
   "metadata": {},
   "source": [
    "Приведем названия столбцов к единому стилю."
   ]
  },
  {
   "cell_type": "code",
   "execution_count": 38,
   "id": "47bde9f4",
   "metadata": {},
   "outputs": [
    {
     "data": {
      "text/plain": [
       "Index(['wire_1', 'wire_2', 'wire_3', 'wire_4', 'wire_5', 'wire_6', 'wire_7',\n",
       "       'wire_8', 'wire_9'],\n",
       "      dtype='object')"
      ]
     },
     "execution_count": 38,
     "metadata": {},
     "output_type": "execute_result"
    }
   ],
   "source": [
    "data_wire_time.columns = data_wire_time.columns.str.replace(' ','_').str.lower()\n",
    "data_wire_time.columns"
   ]
  },
  {
   "cell_type": "markdown",
   "id": "ff849204",
   "metadata": {},
   "source": [
    "### Вывод"
   ]
  },
  {
   "cell_type": "markdown",
   "id": "3f8723d4",
   "metadata": {},
   "source": [
    "Были загружены и изучены данные. Для всех таблиц в роли индекса был указан номер партии. Произвели замену данных в некоторых таблицах. Привели названия столбцов к единому стилю. \n",
    "\n",
    "Для данных об электродах (таблица `data_arc`), провели расчеты суммарной полной мощности и суммарного времени затраченного на нагрев дуги для каждой партии. Данные расчеты занесли в новую таблицу `data_arc_new`.\n",
    "\n",
    "Во многих данных отсутствовал целевой признак (конечная температура замера), поэтому была создана новая таблица `data_temp_new`, где были удалены партии без целевого признака и внесена информация о начальном и конечном замере температуры, времени последнего замера и общего затраченного времени. "
   ]
  },
  {
   "cell_type": "markdown",
   "id": "77f5a519",
   "metadata": {},
   "source": [
    "## Исследование задачи"
   ]
  },
  {
   "cell_type": "markdown",
   "id": "c0d97de2",
   "metadata": {},
   "source": [
    "### Объединение данных"
   ]
  },
  {
   "cell_type": "markdown",
   "id": "961abc61",
   "metadata": {},
   "source": [
    "Объединим таблицы для проведения прогнозов. Нам понадобятся таблицы `data_arc_new`, `data_bulk`, `data_gas`, `data_temp_new` и `data_wire`. Данные о времени подачи сыпучих и проволочных материалов использовать не будем. "
   ]
  },
  {
   "cell_type": "code",
   "execution_count": 39,
   "id": "cc4ac4f4",
   "metadata": {},
   "outputs": [],
   "source": [
    "df = data_temp_new.join([data_arc_new, data_bulk, data_gas, data_wire], how='inner')"
   ]
  },
  {
   "cell_type": "code",
   "execution_count": 40,
   "id": "a59c5650",
   "metadata": {},
   "outputs": [
    {
     "data": {
      "text/html": [
       "<div>\n",
       "<style scoped>\n",
       "    .dataframe tbody tr th:only-of-type {\n",
       "        vertical-align: middle;\n",
       "    }\n",
       "\n",
       "    .dataframe tbody tr th {\n",
       "        vertical-align: top;\n",
       "    }\n",
       "\n",
       "    .dataframe thead th {\n",
       "        text-align: right;\n",
       "    }\n",
       "</style>\n",
       "<table border=\"1\" class=\"dataframe\">\n",
       "  <thead>\n",
       "    <tr style=\"text-align: right;\">\n",
       "      <th></th>\n",
       "      <th>time_max</th>\n",
       "      <th>start_temp</th>\n",
       "      <th>end_temp</th>\n",
       "      <th>time_meas</th>\n",
       "      <th>time_heat</th>\n",
       "      <th>full_power</th>\n",
       "      <th>bulk_1</th>\n",
       "      <th>bulk_2</th>\n",
       "      <th>bulk_3</th>\n",
       "      <th>bulk_4</th>\n",
       "      <th>...</th>\n",
       "      <th>gas</th>\n",
       "      <th>wire_1</th>\n",
       "      <th>wire_2</th>\n",
       "      <th>wire_3</th>\n",
       "      <th>wire_4</th>\n",
       "      <th>wire_5</th>\n",
       "      <th>wire_6</th>\n",
       "      <th>wire_7</th>\n",
       "      <th>wire_8</th>\n",
       "      <th>wire_9</th>\n",
       "    </tr>\n",
       "    <tr>\n",
       "      <th>key</th>\n",
       "      <th></th>\n",
       "      <th></th>\n",
       "      <th></th>\n",
       "      <th></th>\n",
       "      <th></th>\n",
       "      <th></th>\n",
       "      <th></th>\n",
       "      <th></th>\n",
       "      <th></th>\n",
       "      <th></th>\n",
       "      <th></th>\n",
       "      <th></th>\n",
       "      <th></th>\n",
       "      <th></th>\n",
       "      <th></th>\n",
       "      <th></th>\n",
       "      <th></th>\n",
       "      <th></th>\n",
       "      <th></th>\n",
       "      <th></th>\n",
       "      <th></th>\n",
       "    </tr>\n",
       "  </thead>\n",
       "  <tbody>\n",
       "    <tr>\n",
       "      <th>1.0</th>\n",
       "      <td>2019-05-03 11:30:39</td>\n",
       "      <td>1571.0</td>\n",
       "      <td>1613.0</td>\n",
       "      <td>861.0</td>\n",
       "      <td>1098.0</td>\n",
       "      <td>5.826395</td>\n",
       "      <td>NaN</td>\n",
       "      <td>NaN</td>\n",
       "      <td>NaN</td>\n",
       "      <td>43.0</td>\n",
       "      <td>...</td>\n",
       "      <td>29.749986</td>\n",
       "      <td>60.059998</td>\n",
       "      <td>NaN</td>\n",
       "      <td>NaN</td>\n",
       "      <td>NaN</td>\n",
       "      <td>NaN</td>\n",
       "      <td>NaN</td>\n",
       "      <td>NaN</td>\n",
       "      <td>NaN</td>\n",
       "      <td>NaN</td>\n",
       "    </tr>\n",
       "    <tr>\n",
       "      <th>2.0</th>\n",
       "      <td>2019-05-03 11:59:12</td>\n",
       "      <td>1581.0</td>\n",
       "      <td>1602.0</td>\n",
       "      <td>1305.0</td>\n",
       "      <td>811.0</td>\n",
       "      <td>3.649216</td>\n",
       "      <td>NaN</td>\n",
       "      <td>NaN</td>\n",
       "      <td>NaN</td>\n",
       "      <td>73.0</td>\n",
       "      <td>...</td>\n",
       "      <td>12.555561</td>\n",
       "      <td>96.052315</td>\n",
       "      <td>NaN</td>\n",
       "      <td>NaN</td>\n",
       "      <td>NaN</td>\n",
       "      <td>NaN</td>\n",
       "      <td>NaN</td>\n",
       "      <td>NaN</td>\n",
       "      <td>NaN</td>\n",
       "      <td>NaN</td>\n",
       "    </tr>\n",
       "    <tr>\n",
       "      <th>3.0</th>\n",
       "      <td>2019-05-03 12:34:57</td>\n",
       "      <td>1596.0</td>\n",
       "      <td>1599.0</td>\n",
       "      <td>1300.0</td>\n",
       "      <td>655.0</td>\n",
       "      <td>2.989534</td>\n",
       "      <td>NaN</td>\n",
       "      <td>NaN</td>\n",
       "      <td>NaN</td>\n",
       "      <td>34.0</td>\n",
       "      <td>...</td>\n",
       "      <td>28.554793</td>\n",
       "      <td>91.160157</td>\n",
       "      <td>NaN</td>\n",
       "      <td>NaN</td>\n",
       "      <td>NaN</td>\n",
       "      <td>NaN</td>\n",
       "      <td>NaN</td>\n",
       "      <td>NaN</td>\n",
       "      <td>NaN</td>\n",
       "      <td>NaN</td>\n",
       "    </tr>\n",
       "    <tr>\n",
       "      <th>4.0</th>\n",
       "      <td>2019-05-03 12:59:25</td>\n",
       "      <td>1601.0</td>\n",
       "      <td>1625.0</td>\n",
       "      <td>388.0</td>\n",
       "      <td>741.0</td>\n",
       "      <td>3.814962</td>\n",
       "      <td>NaN</td>\n",
       "      <td>NaN</td>\n",
       "      <td>NaN</td>\n",
       "      <td>81.0</td>\n",
       "      <td>...</td>\n",
       "      <td>18.841219</td>\n",
       "      <td>89.063515</td>\n",
       "      <td>NaN</td>\n",
       "      <td>NaN</td>\n",
       "      <td>NaN</td>\n",
       "      <td>NaN</td>\n",
       "      <td>NaN</td>\n",
       "      <td>NaN</td>\n",
       "      <td>NaN</td>\n",
       "      <td>NaN</td>\n",
       "    </tr>\n",
       "    <tr>\n",
       "      <th>5.0</th>\n",
       "      <td>2019-05-03 13:36:01</td>\n",
       "      <td>1576.0</td>\n",
       "      <td>1602.0</td>\n",
       "      <td>762.0</td>\n",
       "      <td>869.0</td>\n",
       "      <td>4.035758</td>\n",
       "      <td>NaN</td>\n",
       "      <td>NaN</td>\n",
       "      <td>NaN</td>\n",
       "      <td>78.0</td>\n",
       "      <td>...</td>\n",
       "      <td>5.413692</td>\n",
       "      <td>89.238236</td>\n",
       "      <td>9.11456</td>\n",
       "      <td>NaN</td>\n",
       "      <td>NaN</td>\n",
       "      <td>NaN</td>\n",
       "      <td>NaN</td>\n",
       "      <td>NaN</td>\n",
       "      <td>NaN</td>\n",
       "      <td>NaN</td>\n",
       "    </tr>\n",
       "  </tbody>\n",
       "</table>\n",
       "<p>5 rows × 31 columns</p>\n",
       "</div>"
      ],
      "text/plain": [
       "               time_max  start_temp  end_temp  time_meas  time_heat  \\\n",
       "key                                                                   \n",
       "1.0 2019-05-03 11:30:39      1571.0    1613.0      861.0     1098.0   \n",
       "2.0 2019-05-03 11:59:12      1581.0    1602.0     1305.0      811.0   \n",
       "3.0 2019-05-03 12:34:57      1596.0    1599.0     1300.0      655.0   \n",
       "4.0 2019-05-03 12:59:25      1601.0    1625.0      388.0      741.0   \n",
       "5.0 2019-05-03 13:36:01      1576.0    1602.0      762.0      869.0   \n",
       "\n",
       "     full_power  bulk_1  bulk_2  bulk_3  bulk_4  ...        gas     wire_1  \\\n",
       "key                                              ...                         \n",
       "1.0    5.826395     NaN     NaN     NaN    43.0  ...  29.749986  60.059998   \n",
       "2.0    3.649216     NaN     NaN     NaN    73.0  ...  12.555561  96.052315   \n",
       "3.0    2.989534     NaN     NaN     NaN    34.0  ...  28.554793  91.160157   \n",
       "4.0    3.814962     NaN     NaN     NaN    81.0  ...  18.841219  89.063515   \n",
       "5.0    4.035758     NaN     NaN     NaN    78.0  ...   5.413692  89.238236   \n",
       "\n",
       "      wire_2  wire_3  wire_4  wire_5  wire_6  wire_7  wire_8  wire_9  \n",
       "key                                                                   \n",
       "1.0      NaN     NaN     NaN     NaN     NaN     NaN     NaN     NaN  \n",
       "2.0      NaN     NaN     NaN     NaN     NaN     NaN     NaN     NaN  \n",
       "3.0      NaN     NaN     NaN     NaN     NaN     NaN     NaN     NaN  \n",
       "4.0      NaN     NaN     NaN     NaN     NaN     NaN     NaN     NaN  \n",
       "5.0  9.11456     NaN     NaN     NaN     NaN     NaN     NaN     NaN  \n",
       "\n",
       "[5 rows x 31 columns]"
      ]
     },
     "execution_count": 40,
     "metadata": {},
     "output_type": "execute_result"
    }
   ],
   "source": [
    "df.head()"
   ]
  },
  {
   "cell_type": "code",
   "execution_count": 41,
   "id": "0b664251",
   "metadata": {},
   "outputs": [
    {
     "name": "stdout",
     "output_type": "stream",
     "text": [
      "<class 'pandas.core.frame.DataFrame'>\n",
      "Float64Index: 2329 entries, 1.0 to 2499.0\n",
      "Data columns (total 31 columns):\n",
      " #   Column      Non-Null Count  Dtype         \n",
      "---  ------      --------------  -----         \n",
      " 0   time_max    2329 non-null   datetime64[ns]\n",
      " 1   start_temp  2329 non-null   float64       \n",
      " 2   end_temp    2329 non-null   float64       \n",
      " 3   time_meas   2329 non-null   float64       \n",
      " 4   time_heat   2329 non-null   float64       \n",
      " 5   full_power  2329 non-null   float64       \n",
      " 6   bulk_1      199 non-null    float64       \n",
      " 7   bulk_2      13 non-null     float64       \n",
      " 8   bulk_3      960 non-null    float64       \n",
      " 9   bulk_4      812 non-null    float64       \n",
      " 10  bulk_5      53 non-null     float64       \n",
      " 11  bulk_6      438 non-null    float64       \n",
      " 12  bulk_7      13 non-null     float64       \n",
      " 13  bulk_8      1 non-null      float64       \n",
      " 14  bulk_9      13 non-null     float64       \n",
      " 15  bulk_10     143 non-null    float64       \n",
      " 16  bulk_11     130 non-null    float64       \n",
      " 17  bulk_12     1812 non-null   float64       \n",
      " 18  bulk_13     14 non-null     float64       \n",
      " 19  bulk_14     2068 non-null   float64       \n",
      " 20  bulk_15     1699 non-null   float64       \n",
      " 21  gas         2329 non-null   float64       \n",
      " 22  wire_1      2306 non-null   float64       \n",
      " 23  wire_2      811 non-null    float64       \n",
      " 24  wire_3      39 non-null     float64       \n",
      " 25  wire_4      12 non-null     float64       \n",
      " 26  wire_5      0 non-null      float64       \n",
      " 27  wire_6      45 non-null     float64       \n",
      " 28  wire_7      4 non-null      float64       \n",
      " 29  wire_8      13 non-null     float64       \n",
      " 30  wire_9      24 non-null     float64       \n",
      "dtypes: datetime64[ns](1), float64(30)\n",
      "memory usage: 582.2 KB\n"
     ]
    }
   ],
   "source": [
    "df.info()"
   ]
  },
  {
   "cell_type": "markdown",
   "id": "21044dd3",
   "metadata": {},
   "source": [
    "Как видно в данных очень много пропущенные значений в информации о подаче сыпучих и проволочных материалов. Удалим столбцы, где заполненных значений менее 30, т.е. данные материалы добавлялись менее, чем в 1% партий. Также удалим столбец о времени последнего замера температуры"
   ]
  },
  {
   "cell_type": "code",
   "execution_count": 42,
   "id": "73fbbeaf",
   "metadata": {},
   "outputs": [],
   "source": [
    "df.drop(\n",
    "     columns=['time_max', 'bulk_2', 'bulk_7', 'bulk_8', 'bulk_9', 'bulk_13', 'wire_4', 'wire_5', 'wire_7', 'wire_8', 'wire_9'],\n",
    "    inplace=True\n",
    ")"
   ]
  },
  {
   "cell_type": "markdown",
   "id": "7267ab13",
   "metadata": {},
   "source": [
    "Заменим все пропущенные значения на нули"
   ]
  },
  {
   "cell_type": "code",
   "execution_count": 43,
   "id": "47817342",
   "metadata": {},
   "outputs": [
    {
     "name": "stdout",
     "output_type": "stream",
     "text": [
      "<class 'pandas.core.frame.DataFrame'>\n",
      "Float64Index: 2329 entries, 1.0 to 2499.0\n",
      "Data columns (total 20 columns):\n",
      " #   Column      Non-Null Count  Dtype  \n",
      "---  ------      --------------  -----  \n",
      " 0   start_temp  2329 non-null   float64\n",
      " 1   end_temp    2329 non-null   float64\n",
      " 2   time_meas   2329 non-null   float64\n",
      " 3   time_heat   2329 non-null   float64\n",
      " 4   full_power  2329 non-null   float64\n",
      " 5   bulk_1      2329 non-null   float64\n",
      " 6   bulk_3      2329 non-null   float64\n",
      " 7   bulk_4      2329 non-null   float64\n",
      " 8   bulk_5      2329 non-null   float64\n",
      " 9   bulk_6      2329 non-null   float64\n",
      " 10  bulk_10     2329 non-null   float64\n",
      " 11  bulk_11     2329 non-null   float64\n",
      " 12  bulk_12     2329 non-null   float64\n",
      " 13  bulk_14     2329 non-null   float64\n",
      " 14  bulk_15     2329 non-null   float64\n",
      " 15  gas         2329 non-null   float64\n",
      " 16  wire_1      2329 non-null   float64\n",
      " 17  wire_2      2329 non-null   float64\n",
      " 18  wire_3      2329 non-null   float64\n",
      " 19  wire_6      2329 non-null   float64\n",
      "dtypes: float64(20)\n",
      "memory usage: 382.1 KB\n"
     ]
    }
   ],
   "source": [
    "df.fillna(0, inplace=True)\n",
    "df.info()"
   ]
  },
  {
   "cell_type": "markdown",
   "id": "51e8cf07",
   "metadata": {},
   "source": [
    "### Разобьем признаки для обучения"
   ]
  },
  {
   "cell_type": "code",
   "execution_count": 44,
   "id": "52392e91",
   "metadata": {},
   "outputs": [
    {
     "data": {
      "text/html": [
       "<div>\n",
       "<style scoped>\n",
       "    .dataframe tbody tr th:only-of-type {\n",
       "        vertical-align: middle;\n",
       "    }\n",
       "\n",
       "    .dataframe tbody tr th {\n",
       "        vertical-align: top;\n",
       "    }\n",
       "\n",
       "    .dataframe thead th {\n",
       "        text-align: right;\n",
       "    }\n",
       "</style>\n",
       "<table border=\"1\" class=\"dataframe\">\n",
       "  <thead>\n",
       "    <tr style=\"text-align: right;\">\n",
       "      <th></th>\n",
       "      <th>start_temp</th>\n",
       "      <th>end_temp</th>\n",
       "      <th>time_meas</th>\n",
       "      <th>time_heat</th>\n",
       "      <th>full_power</th>\n",
       "      <th>bulk_1</th>\n",
       "      <th>bulk_3</th>\n",
       "      <th>bulk_4</th>\n",
       "      <th>bulk_5</th>\n",
       "      <th>bulk_6</th>\n",
       "      <th>bulk_10</th>\n",
       "      <th>bulk_11</th>\n",
       "      <th>bulk_12</th>\n",
       "      <th>bulk_14</th>\n",
       "      <th>bulk_15</th>\n",
       "      <th>gas</th>\n",
       "      <th>wire_1</th>\n",
       "      <th>wire_2</th>\n",
       "      <th>wire_3</th>\n",
       "      <th>wire_6</th>\n",
       "    </tr>\n",
       "    <tr>\n",
       "      <th>key</th>\n",
       "      <th></th>\n",
       "      <th></th>\n",
       "      <th></th>\n",
       "      <th></th>\n",
       "      <th></th>\n",
       "      <th></th>\n",
       "      <th></th>\n",
       "      <th></th>\n",
       "      <th></th>\n",
       "      <th></th>\n",
       "      <th></th>\n",
       "      <th></th>\n",
       "      <th></th>\n",
       "      <th></th>\n",
       "      <th></th>\n",
       "      <th></th>\n",
       "      <th></th>\n",
       "      <th></th>\n",
       "      <th></th>\n",
       "      <th></th>\n",
       "    </tr>\n",
       "  </thead>\n",
       "  <tbody>\n",
       "    <tr>\n",
       "      <th>1.0</th>\n",
       "      <td>1571.0</td>\n",
       "      <td>1613.0</td>\n",
       "      <td>861.0</td>\n",
       "      <td>1098.0</td>\n",
       "      <td>5.826395</td>\n",
       "      <td>0.0</td>\n",
       "      <td>0.0</td>\n",
       "      <td>43.0</td>\n",
       "      <td>0.0</td>\n",
       "      <td>0.0</td>\n",
       "      <td>0.0</td>\n",
       "      <td>0.0</td>\n",
       "      <td>206.0</td>\n",
       "      <td>150.0</td>\n",
       "      <td>154.0</td>\n",
       "      <td>29.749986</td>\n",
       "      <td>60.059998</td>\n",
       "      <td>0.00000</td>\n",
       "      <td>0.0</td>\n",
       "      <td>0.0</td>\n",
       "    </tr>\n",
       "    <tr>\n",
       "      <th>2.0</th>\n",
       "      <td>1581.0</td>\n",
       "      <td>1602.0</td>\n",
       "      <td>1305.0</td>\n",
       "      <td>811.0</td>\n",
       "      <td>3.649216</td>\n",
       "      <td>0.0</td>\n",
       "      <td>0.0</td>\n",
       "      <td>73.0</td>\n",
       "      <td>0.0</td>\n",
       "      <td>0.0</td>\n",
       "      <td>0.0</td>\n",
       "      <td>0.0</td>\n",
       "      <td>206.0</td>\n",
       "      <td>149.0</td>\n",
       "      <td>154.0</td>\n",
       "      <td>12.555561</td>\n",
       "      <td>96.052315</td>\n",
       "      <td>0.00000</td>\n",
       "      <td>0.0</td>\n",
       "      <td>0.0</td>\n",
       "    </tr>\n",
       "    <tr>\n",
       "      <th>3.0</th>\n",
       "      <td>1596.0</td>\n",
       "      <td>1599.0</td>\n",
       "      <td>1300.0</td>\n",
       "      <td>655.0</td>\n",
       "      <td>2.989534</td>\n",
       "      <td>0.0</td>\n",
       "      <td>0.0</td>\n",
       "      <td>34.0</td>\n",
       "      <td>0.0</td>\n",
       "      <td>0.0</td>\n",
       "      <td>0.0</td>\n",
       "      <td>0.0</td>\n",
       "      <td>205.0</td>\n",
       "      <td>152.0</td>\n",
       "      <td>153.0</td>\n",
       "      <td>28.554793</td>\n",
       "      <td>91.160157</td>\n",
       "      <td>0.00000</td>\n",
       "      <td>0.0</td>\n",
       "      <td>0.0</td>\n",
       "    </tr>\n",
       "    <tr>\n",
       "      <th>4.0</th>\n",
       "      <td>1601.0</td>\n",
       "      <td>1625.0</td>\n",
       "      <td>388.0</td>\n",
       "      <td>741.0</td>\n",
       "      <td>3.814962</td>\n",
       "      <td>0.0</td>\n",
       "      <td>0.0</td>\n",
       "      <td>81.0</td>\n",
       "      <td>0.0</td>\n",
       "      <td>0.0</td>\n",
       "      <td>0.0</td>\n",
       "      <td>0.0</td>\n",
       "      <td>207.0</td>\n",
       "      <td>153.0</td>\n",
       "      <td>154.0</td>\n",
       "      <td>18.841219</td>\n",
       "      <td>89.063515</td>\n",
       "      <td>0.00000</td>\n",
       "      <td>0.0</td>\n",
       "      <td>0.0</td>\n",
       "    </tr>\n",
       "    <tr>\n",
       "      <th>5.0</th>\n",
       "      <td>1576.0</td>\n",
       "      <td>1602.0</td>\n",
       "      <td>762.0</td>\n",
       "      <td>869.0</td>\n",
       "      <td>4.035758</td>\n",
       "      <td>0.0</td>\n",
       "      <td>0.0</td>\n",
       "      <td>78.0</td>\n",
       "      <td>0.0</td>\n",
       "      <td>0.0</td>\n",
       "      <td>0.0</td>\n",
       "      <td>0.0</td>\n",
       "      <td>203.0</td>\n",
       "      <td>151.0</td>\n",
       "      <td>152.0</td>\n",
       "      <td>5.413692</td>\n",
       "      <td>89.238236</td>\n",
       "      <td>9.11456</td>\n",
       "      <td>0.0</td>\n",
       "      <td>0.0</td>\n",
       "    </tr>\n",
       "    <tr>\n",
       "      <th>...</th>\n",
       "      <td>...</td>\n",
       "      <td>...</td>\n",
       "      <td>...</td>\n",
       "      <td>...</td>\n",
       "      <td>...</td>\n",
       "      <td>...</td>\n",
       "      <td>...</td>\n",
       "      <td>...</td>\n",
       "      <td>...</td>\n",
       "      <td>...</td>\n",
       "      <td>...</td>\n",
       "      <td>...</td>\n",
       "      <td>...</td>\n",
       "      <td>...</td>\n",
       "      <td>...</td>\n",
       "      <td>...</td>\n",
       "      <td>...</td>\n",
       "      <td>...</td>\n",
       "      <td>...</td>\n",
       "      <td>...</td>\n",
       "    </tr>\n",
       "    <tr>\n",
       "      <th>2495.0</th>\n",
       "      <td>1570.0</td>\n",
       "      <td>1591.0</td>\n",
       "      <td>1137.0</td>\n",
       "      <td>723.0</td>\n",
       "      <td>3.986869</td>\n",
       "      <td>0.0</td>\n",
       "      <td>21.0</td>\n",
       "      <td>0.0</td>\n",
       "      <td>0.0</td>\n",
       "      <td>0.0</td>\n",
       "      <td>90.0</td>\n",
       "      <td>0.0</td>\n",
       "      <td>256.0</td>\n",
       "      <td>129.0</td>\n",
       "      <td>223.0</td>\n",
       "      <td>7.125735</td>\n",
       "      <td>89.150879</td>\n",
       "      <td>0.00000</td>\n",
       "      <td>0.0</td>\n",
       "      <td>0.0</td>\n",
       "    </tr>\n",
       "    <tr>\n",
       "      <th>2496.0</th>\n",
       "      <td>1554.0</td>\n",
       "      <td>1591.0</td>\n",
       "      <td>1618.0</td>\n",
       "      <td>940.0</td>\n",
       "      <td>5.057033</td>\n",
       "      <td>0.0</td>\n",
       "      <td>0.0</td>\n",
       "      <td>63.0</td>\n",
       "      <td>0.0</td>\n",
       "      <td>0.0</td>\n",
       "      <td>122.0</td>\n",
       "      <td>0.0</td>\n",
       "      <td>256.0</td>\n",
       "      <td>129.0</td>\n",
       "      <td>226.0</td>\n",
       "      <td>9.412616</td>\n",
       "      <td>114.179527</td>\n",
       "      <td>0.00000</td>\n",
       "      <td>0.0</td>\n",
       "      <td>0.0</td>\n",
       "    </tr>\n",
       "    <tr>\n",
       "      <th>2497.0</th>\n",
       "      <td>1571.0</td>\n",
       "      <td>1589.0</td>\n",
       "      <td>717.0</td>\n",
       "      <td>569.0</td>\n",
       "      <td>2.885017</td>\n",
       "      <td>0.0</td>\n",
       "      <td>0.0</td>\n",
       "      <td>85.0</td>\n",
       "      <td>0.0</td>\n",
       "      <td>0.0</td>\n",
       "      <td>0.0</td>\n",
       "      <td>0.0</td>\n",
       "      <td>230.0</td>\n",
       "      <td>124.0</td>\n",
       "      <td>226.0</td>\n",
       "      <td>6.271699</td>\n",
       "      <td>94.086723</td>\n",
       "      <td>9.04800</td>\n",
       "      <td>0.0</td>\n",
       "      <td>0.0</td>\n",
       "    </tr>\n",
       "    <tr>\n",
       "      <th>2498.0</th>\n",
       "      <td>1591.0</td>\n",
       "      <td>1594.0</td>\n",
       "      <td>1302.0</td>\n",
       "      <td>750.0</td>\n",
       "      <td>4.143749</td>\n",
       "      <td>0.0</td>\n",
       "      <td>90.0</td>\n",
       "      <td>0.0</td>\n",
       "      <td>0.0</td>\n",
       "      <td>0.0</td>\n",
       "      <td>101.0</td>\n",
       "      <td>0.0</td>\n",
       "      <td>206.0</td>\n",
       "      <td>129.0</td>\n",
       "      <td>207.0</td>\n",
       "      <td>14.953657</td>\n",
       "      <td>118.110717</td>\n",
       "      <td>0.00000</td>\n",
       "      <td>0.0</td>\n",
       "      <td>0.0</td>\n",
       "    </tr>\n",
       "    <tr>\n",
       "      <th>2499.0</th>\n",
       "      <td>1569.0</td>\n",
       "      <td>1603.0</td>\n",
       "      <td>1203.0</td>\n",
       "      <td>883.0</td>\n",
       "      <td>4.953010</td>\n",
       "      <td>0.0</td>\n",
       "      <td>47.0</td>\n",
       "      <td>0.0</td>\n",
       "      <td>0.0</td>\n",
       "      <td>0.0</td>\n",
       "      <td>0.0</td>\n",
       "      <td>0.0</td>\n",
       "      <td>233.0</td>\n",
       "      <td>126.0</td>\n",
       "      <td>227.0</td>\n",
       "      <td>11.336151</td>\n",
       "      <td>110.160958</td>\n",
       "      <td>50.00528</td>\n",
       "      <td>0.0</td>\n",
       "      <td>0.0</td>\n",
       "    </tr>\n",
       "  </tbody>\n",
       "</table>\n",
       "<p>2329 rows × 20 columns</p>\n",
       "</div>"
      ],
      "text/plain": [
       "        start_temp  end_temp  time_meas  time_heat  full_power  bulk_1  \\\n",
       "key                                                                      \n",
       "1.0         1571.0    1613.0      861.0     1098.0    5.826395     0.0   \n",
       "2.0         1581.0    1602.0     1305.0      811.0    3.649216     0.0   \n",
       "3.0         1596.0    1599.0     1300.0      655.0    2.989534     0.0   \n",
       "4.0         1601.0    1625.0      388.0      741.0    3.814962     0.0   \n",
       "5.0         1576.0    1602.0      762.0      869.0    4.035758     0.0   \n",
       "...            ...       ...        ...        ...         ...     ...   \n",
       "2495.0      1570.0    1591.0     1137.0      723.0    3.986869     0.0   \n",
       "2496.0      1554.0    1591.0     1618.0      940.0    5.057033     0.0   \n",
       "2497.0      1571.0    1589.0      717.0      569.0    2.885017     0.0   \n",
       "2498.0      1591.0    1594.0     1302.0      750.0    4.143749     0.0   \n",
       "2499.0      1569.0    1603.0     1203.0      883.0    4.953010     0.0   \n",
       "\n",
       "        bulk_3  bulk_4  bulk_5  bulk_6  bulk_10  bulk_11  bulk_12  bulk_14  \\\n",
       "key                                                                          \n",
       "1.0        0.0    43.0     0.0     0.0      0.0      0.0    206.0    150.0   \n",
       "2.0        0.0    73.0     0.0     0.0      0.0      0.0    206.0    149.0   \n",
       "3.0        0.0    34.0     0.0     0.0      0.0      0.0    205.0    152.0   \n",
       "4.0        0.0    81.0     0.0     0.0      0.0      0.0    207.0    153.0   \n",
       "5.0        0.0    78.0     0.0     0.0      0.0      0.0    203.0    151.0   \n",
       "...        ...     ...     ...     ...      ...      ...      ...      ...   \n",
       "2495.0    21.0     0.0     0.0     0.0     90.0      0.0    256.0    129.0   \n",
       "2496.0     0.0    63.0     0.0     0.0    122.0      0.0    256.0    129.0   \n",
       "2497.0     0.0    85.0     0.0     0.0      0.0      0.0    230.0    124.0   \n",
       "2498.0    90.0     0.0     0.0     0.0    101.0      0.0    206.0    129.0   \n",
       "2499.0    47.0     0.0     0.0     0.0      0.0      0.0    233.0    126.0   \n",
       "\n",
       "        bulk_15        gas      wire_1    wire_2  wire_3  wire_6  \n",
       "key                                                               \n",
       "1.0       154.0  29.749986   60.059998   0.00000     0.0     0.0  \n",
       "2.0       154.0  12.555561   96.052315   0.00000     0.0     0.0  \n",
       "3.0       153.0  28.554793   91.160157   0.00000     0.0     0.0  \n",
       "4.0       154.0  18.841219   89.063515   0.00000     0.0     0.0  \n",
       "5.0       152.0   5.413692   89.238236   9.11456     0.0     0.0  \n",
       "...         ...        ...         ...       ...     ...     ...  \n",
       "2495.0    223.0   7.125735   89.150879   0.00000     0.0     0.0  \n",
       "2496.0    226.0   9.412616  114.179527   0.00000     0.0     0.0  \n",
       "2497.0    226.0   6.271699   94.086723   9.04800     0.0     0.0  \n",
       "2498.0    207.0  14.953657  118.110717   0.00000     0.0     0.0  \n",
       "2499.0    227.0  11.336151  110.160958  50.00528     0.0     0.0  \n",
       "\n",
       "[2329 rows x 20 columns]"
      ]
     },
     "execution_count": 44,
     "metadata": {},
     "output_type": "execute_result"
    }
   ],
   "source": [
    "df"
   ]
  },
  {
   "cell_type": "markdown",
   "id": "08d3d336",
   "metadata": {},
   "source": [
    "Сохраним признаки в переменные **features** и **target**."
   ]
  },
  {
   "cell_type": "code",
   "execution_count": 45,
   "id": "30879432",
   "metadata": {},
   "outputs": [],
   "source": [
    "features = df.drop(columns=['end_temp'])\n",
    "target = df['end_temp']"
   ]
  },
  {
   "cell_type": "markdown",
   "id": "a4697016",
   "metadata": {},
   "source": [
    "Разделим исходные данные на обучающую и тестовую выборки."
   ]
  },
  {
   "cell_type": "code",
   "execution_count": 46,
   "id": "611c9185",
   "metadata": {},
   "outputs": [],
   "source": [
    "features_train, features_test, target_train, target_test = train_test_split(\n",
    "    features, target, test_size=0.2, random_state=20220809)"
   ]
  },
  {
   "cell_type": "code",
   "execution_count": 47,
   "id": "79bc23f1",
   "metadata": {
    "scrolled": true
   },
   "outputs": [
    {
     "name": "stdout",
     "output_type": "stream",
     "text": [
      "Размер обучающей выборки: (1863, 19) (1863,)\n",
      "Размер тестовой выборки: (466, 19) (466,)\n"
     ]
    }
   ],
   "source": [
    "print('Размер обучающей выборки:', features_train.shape, target_train.shape)\n",
    "print('Размер тестовой выборки:', features_test.shape, target_test.shape)"
   ]
  },
  {
   "cell_type": "markdown",
   "id": "3b5f10b0",
   "metadata": {},
   "source": [
    "## Обучение модели"
   ]
  },
  {
   "cell_type": "code",
   "execution_count": 48,
   "id": "851f42dc",
   "metadata": {},
   "outputs": [],
   "source": [
    "best_model = pd.DataFrame({'Model': [], 'MAE': []}) "
   ]
  },
  {
   "cell_type": "markdown",
   "id": "df51b36d",
   "metadata": {},
   "source": [
    "### Дерево решений"
   ]
  },
  {
   "cell_type": "code",
   "execution_count": 49,
   "id": "deb33a50",
   "metadata": {
    "scrolled": false
   },
   "outputs": [
    {
     "name": "stdout",
     "output_type": "stream",
     "text": [
      "Fitting 5 folds for each of 10 candidates, totalling 50 fits\n",
      "\n",
      "Лучшая модель дерева решений:\n",
      "DecisionTreeRegressor(criterion='absolute_error', max_depth=6,\n",
      "                      random_state=20220809)   MAE: 7.168585142264118\n",
      "\n",
      "7.88 for {'criterion': 'absolute_error', 'max_depth': 1, 'random_state': 20220809}\n",
      "7.80 for {'criterion': 'absolute_error', 'max_depth': 2, 'random_state': 20220809}\n",
      "7.51 for {'criterion': 'absolute_error', 'max_depth': 3, 'random_state': 20220809}\n",
      "7.51 for {'criterion': 'absolute_error', 'max_depth': 4, 'random_state': 20220809}\n",
      "7.34 for {'criterion': 'absolute_error', 'max_depth': 5, 'random_state': 20220809}\n",
      "7.17 for {'criterion': 'absolute_error', 'max_depth': 6, 'random_state': 20220809}\n",
      "7.33 for {'criterion': 'absolute_error', 'max_depth': 7, 'random_state': 20220809}\n",
      "7.40 for {'criterion': 'absolute_error', 'max_depth': 8, 'random_state': 20220809}\n",
      "7.49 for {'criterion': 'absolute_error', 'max_depth': 9, 'random_state': 20220809}\n",
      "7.54 for {'criterion': 'absolute_error', 'max_depth': 10, 'random_state': 20220809}\n",
      "\n",
      "CPU times: total: 7.33 s\n",
      "Wall time: 7.35 s\n"
     ]
    }
   ],
   "source": [
    "%%time\n",
    "\n",
    "regressor = DecisionTreeRegressor() \n",
    "max_depth_list = [x for x in range(1, 11)]\n",
    "hyperparams = [{'criterion':['absolute_error'], 'max_depth':max_depth_list, 'random_state':[20220809]}]\n",
    "\n",
    "cv = GridSearchCV(regressor, hyperparams, cv = 5, verbose=1, scoring='neg_mean_absolute_error')\n",
    "cv.fit(features_train,target_train)\n",
    "\n",
    "best_factor_dt = cv.best_estimator_\n",
    "\n",
    "print()\n",
    "print('Лучшая модель дерева решений:')\n",
    "print(best_factor_dt, '  MAE:', cv.best_score_*-1)\n",
    "print()\n",
    "means = cv.cv_results_['mean_test_score']\n",
    "for mean, params in zip(means, cv.cv_results_['params']):\n",
    "    print(\"%0.2f for %s\"% ((mean*-1), params))\n",
    "print()\n",
    "\n",
    "best_model = best_model.append({'Model': best_factor_dt, 'MAE': cv.best_score_*-1}, ignore_index=True)"
   ]
  },
  {
   "cell_type": "markdown",
   "id": "4aa49400",
   "metadata": {},
   "source": [
    "### Случайный лес"
   ]
  },
  {
   "cell_type": "code",
   "execution_count": 50,
   "id": "f8e2a617",
   "metadata": {
    "scrolled": false
   },
   "outputs": [
    {
     "name": "stdout",
     "output_type": "stream",
     "text": [
      "Fitting 3 folds for each of 54 candidates, totalling 162 fits\n",
      "\n",
      "Лучшая модель дерева решений:\n",
      "RandomForestRegressor(criterion='absolute_error', max_depth=14, n_estimators=70,\n",
      "                      random_state=20220809)   MAE: 6.157832988267773\n",
      "\n",
      "6.29 for {'criterion': 'absolute_error', 'max_depth': 10, 'n_estimators': 10, 'random_state': 20220809}\n",
      "6.25 for {'criterion': 'absolute_error', 'max_depth': 10, 'n_estimators': 20, 'random_state': 20220809}\n",
      "6.21 for {'criterion': 'absolute_error', 'max_depth': 10, 'n_estimators': 30, 'random_state': 20220809}\n",
      "6.21 for {'criterion': 'absolute_error', 'max_depth': 10, 'n_estimators': 40, 'random_state': 20220809}\n",
      "6.23 for {'criterion': 'absolute_error', 'max_depth': 10, 'n_estimators': 50, 'random_state': 20220809}\n",
      "6.22 for {'criterion': 'absolute_error', 'max_depth': 10, 'n_estimators': 60, 'random_state': 20220809}\n",
      "6.21 for {'criterion': 'absolute_error', 'max_depth': 10, 'n_estimators': 70, 'random_state': 20220809}\n",
      "6.21 for {'criterion': 'absolute_error', 'max_depth': 10, 'n_estimators': 80, 'random_state': 20220809}\n",
      "6.20 for {'criterion': 'absolute_error', 'max_depth': 10, 'n_estimators': 90, 'random_state': 20220809}\n",
      "6.33 for {'criterion': 'absolute_error', 'max_depth': 12, 'n_estimators': 10, 'random_state': 20220809}\n",
      "6.27 for {'criterion': 'absolute_error', 'max_depth': 12, 'n_estimators': 20, 'random_state': 20220809}\n",
      "6.23 for {'criterion': 'absolute_error', 'max_depth': 12, 'n_estimators': 30, 'random_state': 20220809}\n",
      "6.22 for {'criterion': 'absolute_error', 'max_depth': 12, 'n_estimators': 40, 'random_state': 20220809}\n",
      "6.20 for {'criterion': 'absolute_error', 'max_depth': 12, 'n_estimators': 50, 'random_state': 20220809}\n",
      "6.18 for {'criterion': 'absolute_error', 'max_depth': 12, 'n_estimators': 60, 'random_state': 20220809}\n",
      "6.17 for {'criterion': 'absolute_error', 'max_depth': 12, 'n_estimators': 70, 'random_state': 20220809}\n",
      "6.17 for {'criterion': 'absolute_error', 'max_depth': 12, 'n_estimators': 80, 'random_state': 20220809}\n",
      "6.16 for {'criterion': 'absolute_error', 'max_depth': 12, 'n_estimators': 90, 'random_state': 20220809}\n",
      "6.35 for {'criterion': 'absolute_error', 'max_depth': 14, 'n_estimators': 10, 'random_state': 20220809}\n",
      "6.19 for {'criterion': 'absolute_error', 'max_depth': 14, 'n_estimators': 20, 'random_state': 20220809}\n",
      "6.19 for {'criterion': 'absolute_error', 'max_depth': 14, 'n_estimators': 30, 'random_state': 20220809}\n",
      "6.20 for {'criterion': 'absolute_error', 'max_depth': 14, 'n_estimators': 40, 'random_state': 20220809}\n",
      "6.18 for {'criterion': 'absolute_error', 'max_depth': 14, 'n_estimators': 50, 'random_state': 20220809}\n",
      "6.17 for {'criterion': 'absolute_error', 'max_depth': 14, 'n_estimators': 60, 'random_state': 20220809}\n",
      "6.16 for {'criterion': 'absolute_error', 'max_depth': 14, 'n_estimators': 70, 'random_state': 20220809}\n",
      "6.16 for {'criterion': 'absolute_error', 'max_depth': 14, 'n_estimators': 80, 'random_state': 20220809}\n",
      "6.16 for {'criterion': 'absolute_error', 'max_depth': 14, 'n_estimators': 90, 'random_state': 20220809}\n",
      "6.40 for {'criterion': 'absolute_error', 'max_depth': 16, 'n_estimators': 10, 'random_state': 20220809}\n",
      "6.27 for {'criterion': 'absolute_error', 'max_depth': 16, 'n_estimators': 20, 'random_state': 20220809}\n",
      "6.20 for {'criterion': 'absolute_error', 'max_depth': 16, 'n_estimators': 30, 'random_state': 20220809}\n",
      "6.20 for {'criterion': 'absolute_error', 'max_depth': 16, 'n_estimators': 40, 'random_state': 20220809}\n",
      "6.20 for {'criterion': 'absolute_error', 'max_depth': 16, 'n_estimators': 50, 'random_state': 20220809}\n",
      "6.19 for {'criterion': 'absolute_error', 'max_depth': 16, 'n_estimators': 60, 'random_state': 20220809}\n",
      "6.19 for {'criterion': 'absolute_error', 'max_depth': 16, 'n_estimators': 70, 'random_state': 20220809}\n",
      "6.19 for {'criterion': 'absolute_error', 'max_depth': 16, 'n_estimators': 80, 'random_state': 20220809}\n",
      "6.19 for {'criterion': 'absolute_error', 'max_depth': 16, 'n_estimators': 90, 'random_state': 20220809}\n",
      "6.38 for {'criterion': 'absolute_error', 'max_depth': 18, 'n_estimators': 10, 'random_state': 20220809}\n",
      "6.23 for {'criterion': 'absolute_error', 'max_depth': 18, 'n_estimators': 20, 'random_state': 20220809}\n",
      "6.25 for {'criterion': 'absolute_error', 'max_depth': 18, 'n_estimators': 30, 'random_state': 20220809}\n",
      "6.24 for {'criterion': 'absolute_error', 'max_depth': 18, 'n_estimators': 40, 'random_state': 20220809}\n",
      "6.24 for {'criterion': 'absolute_error', 'max_depth': 18, 'n_estimators': 50, 'random_state': 20220809}\n",
      "6.21 for {'criterion': 'absolute_error', 'max_depth': 18, 'n_estimators': 60, 'random_state': 20220809}\n",
      "6.21 for {'criterion': 'absolute_error', 'max_depth': 18, 'n_estimators': 70, 'random_state': 20220809}\n",
      "6.20 for {'criterion': 'absolute_error', 'max_depth': 18, 'n_estimators': 80, 'random_state': 20220809}\n",
      "6.19 for {'criterion': 'absolute_error', 'max_depth': 18, 'n_estimators': 90, 'random_state': 20220809}\n",
      "6.37 for {'criterion': 'absolute_error', 'max_depth': 20, 'n_estimators': 10, 'random_state': 20220809}\n",
      "6.23 for {'criterion': 'absolute_error', 'max_depth': 20, 'n_estimators': 20, 'random_state': 20220809}\n",
      "6.21 for {'criterion': 'absolute_error', 'max_depth': 20, 'n_estimators': 30, 'random_state': 20220809}\n",
      "6.22 for {'criterion': 'absolute_error', 'max_depth': 20, 'n_estimators': 40, 'random_state': 20220809}\n",
      "6.23 for {'criterion': 'absolute_error', 'max_depth': 20, 'n_estimators': 50, 'random_state': 20220809}\n",
      "6.21 for {'criterion': 'absolute_error', 'max_depth': 20, 'n_estimators': 60, 'random_state': 20220809}\n",
      "6.20 for {'criterion': 'absolute_error', 'max_depth': 20, 'n_estimators': 70, 'random_state': 20220809}\n",
      "6.20 for {'criterion': 'absolute_error', 'max_depth': 20, 'n_estimators': 80, 'random_state': 20220809}\n",
      "6.19 for {'criterion': 'absolute_error', 'max_depth': 20, 'n_estimators': 90, 'random_state': 20220809}\n",
      "\n",
      "CPU times: total: 11min 19s\n",
      "Wall time: 11min 19s\n"
     ]
    }
   ],
   "source": [
    "%%time\n",
    "\n",
    "regressor = RandomForestRegressor() \n",
    "max_depth_list = [x for x in range(10, 21, 2)]\n",
    "max_estimators = [x for x in range(10, 91, 10)] \n",
    "hyperparams = [{'criterion':['absolute_error'], 'max_depth':max_depth_list, 'n_estimators':max_estimators, 'random_state':[20220809]}]\n",
    "\n",
    "cv = GridSearchCV(regressor, hyperparams, cv = 3, verbose=1, scoring='neg_mean_absolute_error')\n",
    "cv.fit(features_train,target_train)\n",
    "\n",
    "best_factor_rf = cv.best_estimator_\n",
    "print()\n",
    "print('Лучшая модель дерева решений:')\n",
    "print(best_factor_rf, '  MAE:', cv.best_score_*-1)\n",
    "print()\n",
    "means = cv.cv_results_['mean_test_score']\n",
    "for mean, params in zip(means, cv.cv_results_['params']):\n",
    "    print(\"%0.2f for %s\"% ((mean*-1), params))\n",
    "print()\n",
    "\n",
    "best_model = best_model.append({'Model': 'RandomForestRegressor()', 'MAE': cv.best_score_*-1}, ignore_index=True)"
   ]
  },
  {
   "cell_type": "markdown",
   "id": "0067893a",
   "metadata": {},
   "source": [
    "### CatBoost"
   ]
  },
  {
   "cell_type": "code",
   "execution_count": 51,
   "id": "2b30d28f",
   "metadata": {
    "scrolled": false
   },
   "outputs": [
    {
     "name": "stdout",
     "output_type": "stream",
     "text": [
      "Fitting 2 folds for each of 126 candidates, totalling 252 fits\n",
      "\n",
      "Лучшая модель CatBoost:\n",
      "{'iterations': 450, 'learning_rate': 0.05, 'max_depth': 6, 'verbose': False}   MAE: 5.893827840415888\n",
      "\n",
      "7.03 for {'iterations': 100, 'learning_rate': 0.05, 'max_depth': 1, 'verbose': False}\n",
      "6.64 for {'iterations': 100, 'learning_rate': 0.05, 'max_depth': 2, 'verbose': False}\n",
      "6.50 for {'iterations': 100, 'learning_rate': 0.05, 'max_depth': 3, 'verbose': False}\n",
      "6.38 for {'iterations': 100, 'learning_rate': 0.05, 'max_depth': 4, 'verbose': False}\n",
      "6.30 for {'iterations': 100, 'learning_rate': 0.05, 'max_depth': 5, 'verbose': False}\n",
      "6.21 for {'iterations': 100, 'learning_rate': 0.05, 'max_depth': 6, 'verbose': False}\n",
      "6.22 for {'iterations': 100, 'learning_rate': 0.05, 'max_depth': 7, 'verbose': False}\n",
      "6.65 for {'iterations': 100, 'learning_rate': 0.1, 'max_depth': 1, 'verbose': False}\n",
      "6.33 for {'iterations': 100, 'learning_rate': 0.1, 'max_depth': 2, 'verbose': False}\n",
      "6.22 for {'iterations': 100, 'learning_rate': 0.1, 'max_depth': 3, 'verbose': False}\n",
      "6.09 for {'iterations': 100, 'learning_rate': 0.1, 'max_depth': 4, 'verbose': False}\n",
      "6.04 for {'iterations': 100, 'learning_rate': 0.1, 'max_depth': 5, 'verbose': False}\n",
      "6.01 for {'iterations': 100, 'learning_rate': 0.1, 'max_depth': 6, 'verbose': False}\n",
      "6.01 for {'iterations': 100, 'learning_rate': 0.1, 'max_depth': 7, 'verbose': False}\n",
      "6.81 for {'iterations': 150, 'learning_rate': 0.05, 'max_depth': 1, 'verbose': False}\n",
      "6.48 for {'iterations': 150, 'learning_rate': 0.05, 'max_depth': 2, 'verbose': False}\n",
      "6.32 for {'iterations': 150, 'learning_rate': 0.05, 'max_depth': 3, 'verbose': False}\n",
      "6.20 for {'iterations': 150, 'learning_rate': 0.05, 'max_depth': 4, 'verbose': False}\n",
      "6.11 for {'iterations': 150, 'learning_rate': 0.05, 'max_depth': 5, 'verbose': False}\n",
      "6.07 for {'iterations': 150, 'learning_rate': 0.05, 'max_depth': 6, 'verbose': False}\n",
      "6.08 for {'iterations': 150, 'learning_rate': 0.05, 'max_depth': 7, 'verbose': False}\n",
      "6.47 for {'iterations': 150, 'learning_rate': 0.1, 'max_depth': 1, 'verbose': False}\n",
      "6.17 for {'iterations': 150, 'learning_rate': 0.1, 'max_depth': 2, 'verbose': False}\n",
      "6.09 for {'iterations': 150, 'learning_rate': 0.1, 'max_depth': 3, 'verbose': False}\n",
      "6.01 for {'iterations': 150, 'learning_rate': 0.1, 'max_depth': 4, 'verbose': False}\n",
      "5.98 for {'iterations': 150, 'learning_rate': 0.1, 'max_depth': 5, 'verbose': False}\n",
      "5.94 for {'iterations': 150, 'learning_rate': 0.1, 'max_depth': 6, 'verbose': False}\n",
      "5.98 for {'iterations': 150, 'learning_rate': 0.1, 'max_depth': 7, 'verbose': False}\n",
      "6.65 for {'iterations': 200, 'learning_rate': 0.05, 'max_depth': 1, 'verbose': False}\n",
      "6.32 for {'iterations': 200, 'learning_rate': 0.05, 'max_depth': 2, 'verbose': False}\n",
      "6.17 for {'iterations': 200, 'learning_rate': 0.05, 'max_depth': 3, 'verbose': False}\n",
      "6.09 for {'iterations': 200, 'learning_rate': 0.05, 'max_depth': 4, 'verbose': False}\n",
      "6.00 for {'iterations': 200, 'learning_rate': 0.05, 'max_depth': 5, 'verbose': False}\n",
      "5.99 for {'iterations': 200, 'learning_rate': 0.05, 'max_depth': 6, 'verbose': False}\n",
      "5.98 for {'iterations': 200, 'learning_rate': 0.05, 'max_depth': 7, 'verbose': False}\n",
      "6.34 for {'iterations': 200, 'learning_rate': 0.1, 'max_depth': 1, 'verbose': False}\n",
      "6.10 for {'iterations': 200, 'learning_rate': 0.1, 'max_depth': 2, 'verbose': False}\n",
      "6.06 for {'iterations': 200, 'learning_rate': 0.1, 'max_depth': 3, 'verbose': False}\n",
      "5.98 for {'iterations': 200, 'learning_rate': 0.1, 'max_depth': 4, 'verbose': False}\n",
      "5.97 for {'iterations': 200, 'learning_rate': 0.1, 'max_depth': 5, 'verbose': False}\n",
      "5.96 for {'iterations': 200, 'learning_rate': 0.1, 'max_depth': 6, 'verbose': False}\n",
      "5.95 for {'iterations': 200, 'learning_rate': 0.1, 'max_depth': 7, 'verbose': False}\n",
      "6.56 for {'iterations': 250, 'learning_rate': 0.05, 'max_depth': 1, 'verbose': False}\n",
      "6.23 for {'iterations': 250, 'learning_rate': 0.05, 'max_depth': 2, 'verbose': False}\n",
      "6.09 for {'iterations': 250, 'learning_rate': 0.05, 'max_depth': 3, 'verbose': False}\n",
      "6.00 for {'iterations': 250, 'learning_rate': 0.05, 'max_depth': 4, 'verbose': False}\n",
      "5.94 for {'iterations': 250, 'learning_rate': 0.05, 'max_depth': 5, 'verbose': False}\n",
      "5.94 for {'iterations': 250, 'learning_rate': 0.05, 'max_depth': 6, 'verbose': False}\n",
      "5.93 for {'iterations': 250, 'learning_rate': 0.05, 'max_depth': 7, 'verbose': False}\n",
      "6.26 for {'iterations': 250, 'learning_rate': 0.1, 'max_depth': 1, 'verbose': False}\n",
      "6.07 for {'iterations': 250, 'learning_rate': 0.1, 'max_depth': 2, 'verbose': False}\n",
      "6.06 for {'iterations': 250, 'learning_rate': 0.1, 'max_depth': 3, 'verbose': False}\n",
      "5.97 for {'iterations': 250, 'learning_rate': 0.1, 'max_depth': 4, 'verbose': False}\n",
      "5.97 for {'iterations': 250, 'learning_rate': 0.1, 'max_depth': 5, 'verbose': False}\n",
      "5.97 for {'iterations': 250, 'learning_rate': 0.1, 'max_depth': 6, 'verbose': False}\n",
      "5.96 for {'iterations': 250, 'learning_rate': 0.1, 'max_depth': 7, 'verbose': False}\n",
      "6.48 for {'iterations': 300, 'learning_rate': 0.05, 'max_depth': 1, 'verbose': False}\n",
      "6.19 for {'iterations': 300, 'learning_rate': 0.05, 'max_depth': 2, 'verbose': False}\n",
      "6.05 for {'iterations': 300, 'learning_rate': 0.05, 'max_depth': 3, 'verbose': False}\n",
      "5.96 for {'iterations': 300, 'learning_rate': 0.05, 'max_depth': 4, 'verbose': False}\n",
      "5.93 for {'iterations': 300, 'learning_rate': 0.05, 'max_depth': 5, 'verbose': False}\n",
      "5.92 for {'iterations': 300, 'learning_rate': 0.05, 'max_depth': 6, 'verbose': False}\n",
      "5.93 for {'iterations': 300, 'learning_rate': 0.05, 'max_depth': 7, 'verbose': False}\n",
      "6.20 for {'iterations': 300, 'learning_rate': 0.1, 'max_depth': 1, 'verbose': False}\n",
      "6.04 for {'iterations': 300, 'learning_rate': 0.1, 'max_depth': 2, 'verbose': False}\n",
      "6.04 for {'iterations': 300, 'learning_rate': 0.1, 'max_depth': 3, 'verbose': False}\n",
      "5.97 for {'iterations': 300, 'learning_rate': 0.1, 'max_depth': 4, 'verbose': False}\n",
      "5.97 for {'iterations': 300, 'learning_rate': 0.1, 'max_depth': 5, 'verbose': False}\n",
      "5.99 for {'iterations': 300, 'learning_rate': 0.1, 'max_depth': 6, 'verbose': False}\n",
      "5.96 for {'iterations': 300, 'learning_rate': 0.1, 'max_depth': 7, 'verbose': False}\n",
      "6.41 for {'iterations': 350, 'learning_rate': 0.05, 'max_depth': 1, 'verbose': False}\n",
      "6.15 for {'iterations': 350, 'learning_rate': 0.05, 'max_depth': 2, 'verbose': False}\n",
      "6.02 for {'iterations': 350, 'learning_rate': 0.05, 'max_depth': 3, 'verbose': False}\n",
      "5.95 for {'iterations': 350, 'learning_rate': 0.05, 'max_depth': 4, 'verbose': False}\n",
      "5.93 for {'iterations': 350, 'learning_rate': 0.05, 'max_depth': 5, 'verbose': False}\n",
      "5.90 for {'iterations': 350, 'learning_rate': 0.05, 'max_depth': 6, 'verbose': False}\n",
      "5.92 for {'iterations': 350, 'learning_rate': 0.05, 'max_depth': 7, 'verbose': False}\n",
      "6.16 for {'iterations': 350, 'learning_rate': 0.1, 'max_depth': 1, 'verbose': False}\n",
      "6.04 for {'iterations': 350, 'learning_rate': 0.1, 'max_depth': 2, 'verbose': False}\n",
      "6.03 for {'iterations': 350, 'learning_rate': 0.1, 'max_depth': 3, 'verbose': False}\n",
      "5.98 for {'iterations': 350, 'learning_rate': 0.1, 'max_depth': 4, 'verbose': False}\n",
      "5.98 for {'iterations': 350, 'learning_rate': 0.1, 'max_depth': 5, 'verbose': False}\n",
      "5.99 for {'iterations': 350, 'learning_rate': 0.1, 'max_depth': 6, 'verbose': False}\n",
      "5.96 for {'iterations': 350, 'learning_rate': 0.1, 'max_depth': 7, 'verbose': False}\n",
      "6.36 for {'iterations': 400, 'learning_rate': 0.05, 'max_depth': 1, 'verbose': False}\n",
      "6.11 for {'iterations': 400, 'learning_rate': 0.05, 'max_depth': 2, 'verbose': False}\n",
      "6.01 for {'iterations': 400, 'learning_rate': 0.05, 'max_depth': 3, 'verbose': False}\n",
      "5.94 for {'iterations': 400, 'learning_rate': 0.05, 'max_depth': 4, 'verbose': False}\n",
      "5.92 for {'iterations': 400, 'learning_rate': 0.05, 'max_depth': 5, 'verbose': False}\n",
      "5.90 for {'iterations': 400, 'learning_rate': 0.05, 'max_depth': 6, 'verbose': False}\n",
      "5.92 for {'iterations': 400, 'learning_rate': 0.05, 'max_depth': 7, 'verbose': False}\n",
      "6.12 for {'iterations': 400, 'learning_rate': 0.1, 'max_depth': 1, 'verbose': False}\n",
      "6.04 for {'iterations': 400, 'learning_rate': 0.1, 'max_depth': 2, 'verbose': False}\n",
      "6.04 for {'iterations': 400, 'learning_rate': 0.1, 'max_depth': 3, 'verbose': False}\n",
      "5.98 for {'iterations': 400, 'learning_rate': 0.1, 'max_depth': 4, 'verbose': False}\n",
      "5.99 for {'iterations': 400, 'learning_rate': 0.1, 'max_depth': 5, 'verbose': False}\n",
      "5.99 for {'iterations': 400, 'learning_rate': 0.1, 'max_depth': 6, 'verbose': False}\n",
      "5.96 for {'iterations': 400, 'learning_rate': 0.1, 'max_depth': 7, 'verbose': False}\n",
      "6.31 for {'iterations': 450, 'learning_rate': 0.05, 'max_depth': 1, 'verbose': False}\n",
      "6.08 for {'iterations': 450, 'learning_rate': 0.05, 'max_depth': 2, 'verbose': False}\n",
      "6.00 for {'iterations': 450, 'learning_rate': 0.05, 'max_depth': 3, 'verbose': False}\n",
      "5.94 for {'iterations': 450, 'learning_rate': 0.05, 'max_depth': 4, 'verbose': False}\n",
      "5.92 for {'iterations': 450, 'learning_rate': 0.05, 'max_depth': 5, 'verbose': False}\n",
      "5.89 for {'iterations': 450, 'learning_rate': 0.05, 'max_depth': 6, 'verbose': False}\n",
      "5.92 for {'iterations': 450, 'learning_rate': 0.05, 'max_depth': 7, 'verbose': False}\n",
      "6.10 for {'iterations': 450, 'learning_rate': 0.1, 'max_depth': 1, 'verbose': False}\n",
      "6.04 for {'iterations': 450, 'learning_rate': 0.1, 'max_depth': 2, 'verbose': False}\n",
      "6.04 for {'iterations': 450, 'learning_rate': 0.1, 'max_depth': 3, 'verbose': False}\n",
      "5.98 for {'iterations': 450, 'learning_rate': 0.1, 'max_depth': 4, 'verbose': False}\n",
      "6.00 for {'iterations': 450, 'learning_rate': 0.1, 'max_depth': 5, 'verbose': False}\n",
      "6.01 for {'iterations': 450, 'learning_rate': 0.1, 'max_depth': 6, 'verbose': False}\n",
      "5.96 for {'iterations': 450, 'learning_rate': 0.1, 'max_depth': 7, 'verbose': False}\n",
      "6.27 for {'iterations': 500, 'learning_rate': 0.05, 'max_depth': 1, 'verbose': False}\n",
      "6.06 for {'iterations': 500, 'learning_rate': 0.05, 'max_depth': 2, 'verbose': False}\n",
      "6.00 for {'iterations': 500, 'learning_rate': 0.05, 'max_depth': 3, 'verbose': False}\n",
      "5.94 for {'iterations': 500, 'learning_rate': 0.05, 'max_depth': 4, 'verbose': False}\n",
      "5.92 for {'iterations': 500, 'learning_rate': 0.05, 'max_depth': 5, 'verbose': False}\n",
      "5.90 for {'iterations': 500, 'learning_rate': 0.05, 'max_depth': 6, 'verbose': False}\n",
      "5.92 for {'iterations': 500, 'learning_rate': 0.05, 'max_depth': 7, 'verbose': False}\n",
      "6.08 for {'iterations': 500, 'learning_rate': 0.1, 'max_depth': 1, 'verbose': False}\n",
      "6.05 for {'iterations': 500, 'learning_rate': 0.1, 'max_depth': 2, 'verbose': False}\n",
      "6.05 for {'iterations': 500, 'learning_rate': 0.1, 'max_depth': 3, 'verbose': False}\n",
      "6.00 for {'iterations': 500, 'learning_rate': 0.1, 'max_depth': 4, 'verbose': False}\n",
      "6.01 for {'iterations': 500, 'learning_rate': 0.1, 'max_depth': 5, 'verbose': False}\n",
      "6.02 for {'iterations': 500, 'learning_rate': 0.1, 'max_depth': 6, 'verbose': False}\n",
      "5.96 for {'iterations': 500, 'learning_rate': 0.1, 'max_depth': 7, 'verbose': False}\n",
      "\n",
      "CPU times: total: 9min 37s\n",
      "Wall time: 3min 28s\n"
     ]
    }
   ],
   "source": [
    "%%time\n",
    "\n",
    "regressor = CatBoostRegressor() \n",
    "max_iterations_list = [x for x in  range(100, 501, 50)]\n",
    "max_depth_list = [x for x in range (1, 8)]\n",
    "hyperparams = [{'max_depth':max_depth_list, 'iterations':max_iterations_list, 'learning_rate' : [0.05, 0.1], 'verbose':[False]}]\n",
    "\n",
    "cv = GridSearchCV(regressor, hyperparams, cv = 2, verbose=1, scoring='neg_mean_absolute_error')\n",
    "cv.fit(features_train, target_train)\n",
    "\n",
    "best_factor_cat = cv.best_estimator_\n",
    "print()\n",
    "print('Лучшая модель CatBoost:')\n",
    "print(cv.best_params_, '  MAE:', cv.best_score_*-1)\n",
    "print()\n",
    "means = cv.cv_results_['mean_test_score']\n",
    "for mean, params in zip(means, cv.cv_results_['params']):\n",
    "    print(\"%0.2f for %s\"% ((mean*-1), params))\n",
    "print()\n",
    "\n",
    "best_model = best_model.append({'Model': 'CatBoostRegressor()', 'MAE': cv.best_score_*-1}, ignore_index=True)"
   ]
  },
  {
   "cell_type": "markdown",
   "id": "79dc93e8",
   "metadata": {},
   "source": [
    "### LGBMRegressor"
   ]
  },
  {
   "cell_type": "code",
   "execution_count": 52,
   "id": "a43036a6",
   "metadata": {
    "scrolled": false
   },
   "outputs": [
    {
     "name": "stdout",
     "output_type": "stream",
     "text": [
      "Fitting 2 folds for each of 240 candidates, totalling 480 fits\n",
      "\n",
      "Лучшая модель LGBMRegressor:\n",
      "{'learning_rate': 0.1, 'max_depth': 6, 'n_estimators': 61, 'num_leaves': 15, 'random_state': 20220809}   MAE: 5.944643174658539\n",
      "\n",
      "8.08 for {'learning_rate': 0.03, 'max_depth': 1, 'n_estimators': 1, 'num_leaves': 12, 'random_state': 20220809}\n",
      "8.08 for {'learning_rate': 0.03, 'max_depth': 1, 'n_estimators': 1, 'num_leaves': 15, 'random_state': 20220809}\n",
      "8.08 for {'learning_rate': 0.03, 'max_depth': 1, 'n_estimators': 1, 'num_leaves': 18, 'random_state': 20220809}\n",
      "7.82 for {'learning_rate': 0.03, 'max_depth': 1, 'n_estimators': 21, 'num_leaves': 12, 'random_state': 20220809}\n",
      "7.82 for {'learning_rate': 0.03, 'max_depth': 1, 'n_estimators': 21, 'num_leaves': 15, 'random_state': 20220809}\n",
      "7.82 for {'learning_rate': 0.03, 'max_depth': 1, 'n_estimators': 21, 'num_leaves': 18, 'random_state': 20220809}\n",
      "7.62 for {'learning_rate': 0.03, 'max_depth': 1, 'n_estimators': 41, 'num_leaves': 12, 'random_state': 20220809}\n",
      "7.62 for {'learning_rate': 0.03, 'max_depth': 1, 'n_estimators': 41, 'num_leaves': 15, 'random_state': 20220809}\n",
      "7.62 for {'learning_rate': 0.03, 'max_depth': 1, 'n_estimators': 41, 'num_leaves': 18, 'random_state': 20220809}\n",
      "7.46 for {'learning_rate': 0.03, 'max_depth': 1, 'n_estimators': 61, 'num_leaves': 12, 'random_state': 20220809}\n",
      "7.46 for {'learning_rate': 0.03, 'max_depth': 1, 'n_estimators': 61, 'num_leaves': 15, 'random_state': 20220809}\n",
      "7.46 for {'learning_rate': 0.03, 'max_depth': 1, 'n_estimators': 61, 'num_leaves': 18, 'random_state': 20220809}\n",
      "7.32 for {'learning_rate': 0.03, 'max_depth': 1, 'n_estimators': 81, 'num_leaves': 12, 'random_state': 20220809}\n",
      "7.32 for {'learning_rate': 0.03, 'max_depth': 1, 'n_estimators': 81, 'num_leaves': 15, 'random_state': 20220809}\n",
      "7.32 for {'learning_rate': 0.03, 'max_depth': 1, 'n_estimators': 81, 'num_leaves': 18, 'random_state': 20220809}\n",
      "8.06 for {'learning_rate': 0.03, 'max_depth': 2, 'n_estimators': 1, 'num_leaves': 12, 'random_state': 20220809}\n",
      "8.06 for {'learning_rate': 0.03, 'max_depth': 2, 'n_estimators': 1, 'num_leaves': 15, 'random_state': 20220809}\n",
      "8.06 for {'learning_rate': 0.03, 'max_depth': 2, 'n_estimators': 1, 'num_leaves': 18, 'random_state': 20220809}\n",
      "7.55 for {'learning_rate': 0.03, 'max_depth': 2, 'n_estimators': 21, 'num_leaves': 12, 'random_state': 20220809}\n",
      "7.55 for {'learning_rate': 0.03, 'max_depth': 2, 'n_estimators': 21, 'num_leaves': 15, 'random_state': 20220809}\n",
      "7.55 for {'learning_rate': 0.03, 'max_depth': 2, 'n_estimators': 21, 'num_leaves': 18, 'random_state': 20220809}\n",
      "7.21 for {'learning_rate': 0.03, 'max_depth': 2, 'n_estimators': 41, 'num_leaves': 12, 'random_state': 20220809}\n",
      "7.21 for {'learning_rate': 0.03, 'max_depth': 2, 'n_estimators': 41, 'num_leaves': 15, 'random_state': 20220809}\n",
      "7.21 for {'learning_rate': 0.03, 'max_depth': 2, 'n_estimators': 41, 'num_leaves': 18, 'random_state': 20220809}\n",
      "6.97 for {'learning_rate': 0.03, 'max_depth': 2, 'n_estimators': 61, 'num_leaves': 12, 'random_state': 20220809}\n",
      "6.97 for {'learning_rate': 0.03, 'max_depth': 2, 'n_estimators': 61, 'num_leaves': 15, 'random_state': 20220809}\n",
      "6.97 for {'learning_rate': 0.03, 'max_depth': 2, 'n_estimators': 61, 'num_leaves': 18, 'random_state': 20220809}\n",
      "6.80 for {'learning_rate': 0.03, 'max_depth': 2, 'n_estimators': 81, 'num_leaves': 12, 'random_state': 20220809}\n",
      "6.80 for {'learning_rate': 0.03, 'max_depth': 2, 'n_estimators': 81, 'num_leaves': 15, 'random_state': 20220809}\n",
      "6.80 for {'learning_rate': 0.03, 'max_depth': 2, 'n_estimators': 81, 'num_leaves': 18, 'random_state': 20220809}\n",
      "8.04 for {'learning_rate': 0.03, 'max_depth': 3, 'n_estimators': 1, 'num_leaves': 12, 'random_state': 20220809}\n",
      "8.04 for {'learning_rate': 0.03, 'max_depth': 3, 'n_estimators': 1, 'num_leaves': 15, 'random_state': 20220809}\n",
      "8.04 for {'learning_rate': 0.03, 'max_depth': 3, 'n_estimators': 1, 'num_leaves': 18, 'random_state': 20220809}\n",
      "7.36 for {'learning_rate': 0.03, 'max_depth': 3, 'n_estimators': 21, 'num_leaves': 12, 'random_state': 20220809}\n",
      "7.36 for {'learning_rate': 0.03, 'max_depth': 3, 'n_estimators': 21, 'num_leaves': 15, 'random_state': 20220809}\n",
      "7.36 for {'learning_rate': 0.03, 'max_depth': 3, 'n_estimators': 21, 'num_leaves': 18, 'random_state': 20220809}\n",
      "6.97 for {'learning_rate': 0.03, 'max_depth': 3, 'n_estimators': 41, 'num_leaves': 12, 'random_state': 20220809}\n",
      "6.97 for {'learning_rate': 0.03, 'max_depth': 3, 'n_estimators': 41, 'num_leaves': 15, 'random_state': 20220809}\n",
      "6.97 for {'learning_rate': 0.03, 'max_depth': 3, 'n_estimators': 41, 'num_leaves': 18, 'random_state': 20220809}\n",
      "6.70 for {'learning_rate': 0.03, 'max_depth': 3, 'n_estimators': 61, 'num_leaves': 12, 'random_state': 20220809}\n",
      "6.70 for {'learning_rate': 0.03, 'max_depth': 3, 'n_estimators': 61, 'num_leaves': 15, 'random_state': 20220809}\n",
      "6.70 for {'learning_rate': 0.03, 'max_depth': 3, 'n_estimators': 61, 'num_leaves': 18, 'random_state': 20220809}\n",
      "6.54 for {'learning_rate': 0.03, 'max_depth': 3, 'n_estimators': 81, 'num_leaves': 12, 'random_state': 20220809}\n",
      "6.54 for {'learning_rate': 0.03, 'max_depth': 3, 'n_estimators': 81, 'num_leaves': 15, 'random_state': 20220809}\n",
      "6.54 for {'learning_rate': 0.03, 'max_depth': 3, 'n_estimators': 81, 'num_leaves': 18, 'random_state': 20220809}\n",
      "8.03 for {'learning_rate': 0.03, 'max_depth': 4, 'n_estimators': 1, 'num_leaves': 12, 'random_state': 20220809}\n",
      "8.02 for {'learning_rate': 0.03, 'max_depth': 4, 'n_estimators': 1, 'num_leaves': 15, 'random_state': 20220809}\n",
      "8.02 for {'learning_rate': 0.03, 'max_depth': 4, 'n_estimators': 1, 'num_leaves': 18, 'random_state': 20220809}\n",
      "7.22 for {'learning_rate': 0.03, 'max_depth': 4, 'n_estimators': 21, 'num_leaves': 12, 'random_state': 20220809}\n",
      "7.22 for {'learning_rate': 0.03, 'max_depth': 4, 'n_estimators': 21, 'num_leaves': 15, 'random_state': 20220809}\n",
      "7.22 for {'learning_rate': 0.03, 'max_depth': 4, 'n_estimators': 21, 'num_leaves': 18, 'random_state': 20220809}\n",
      "6.82 for {'learning_rate': 0.03, 'max_depth': 4, 'n_estimators': 41, 'num_leaves': 12, 'random_state': 20220809}\n",
      "6.81 for {'learning_rate': 0.03, 'max_depth': 4, 'n_estimators': 41, 'num_leaves': 15, 'random_state': 20220809}\n",
      "6.81 for {'learning_rate': 0.03, 'max_depth': 4, 'n_estimators': 41, 'num_leaves': 18, 'random_state': 20220809}\n",
      "6.56 for {'learning_rate': 0.03, 'max_depth': 4, 'n_estimators': 61, 'num_leaves': 12, 'random_state': 20220809}\n",
      "6.56 for {'learning_rate': 0.03, 'max_depth': 4, 'n_estimators': 61, 'num_leaves': 15, 'random_state': 20220809}\n",
      "6.56 for {'learning_rate': 0.03, 'max_depth': 4, 'n_estimators': 61, 'num_leaves': 18, 'random_state': 20220809}\n",
      "6.39 for {'learning_rate': 0.03, 'max_depth': 4, 'n_estimators': 81, 'num_leaves': 12, 'random_state': 20220809}\n",
      "6.39 for {'learning_rate': 0.03, 'max_depth': 4, 'n_estimators': 81, 'num_leaves': 15, 'random_state': 20220809}\n",
      "6.39 for {'learning_rate': 0.03, 'max_depth': 4, 'n_estimators': 81, 'num_leaves': 18, 'random_state': 20220809}\n",
      "8.03 for {'learning_rate': 0.03, 'max_depth': 5, 'n_estimators': 1, 'num_leaves': 12, 'random_state': 20220809}\n",
      "8.02 for {'learning_rate': 0.03, 'max_depth': 5, 'n_estimators': 1, 'num_leaves': 15, 'random_state': 20220809}\n",
      "8.02 for {'learning_rate': 0.03, 'max_depth': 5, 'n_estimators': 1, 'num_leaves': 18, 'random_state': 20220809}\n",
      "7.20 for {'learning_rate': 0.03, 'max_depth': 5, 'n_estimators': 21, 'num_leaves': 12, 'random_state': 20220809}\n",
      "7.15 for {'learning_rate': 0.03, 'max_depth': 5, 'n_estimators': 21, 'num_leaves': 15, 'random_state': 20220809}\n",
      "7.14 for {'learning_rate': 0.03, 'max_depth': 5, 'n_estimators': 21, 'num_leaves': 18, 'random_state': 20220809}\n",
      "6.76 for {'learning_rate': 0.03, 'max_depth': 5, 'n_estimators': 41, 'num_leaves': 12, 'random_state': 20220809}\n",
      "6.71 for {'learning_rate': 0.03, 'max_depth': 5, 'n_estimators': 41, 'num_leaves': 15, 'random_state': 20220809}\n",
      "6.69 for {'learning_rate': 0.03, 'max_depth': 5, 'n_estimators': 41, 'num_leaves': 18, 'random_state': 20220809}\n",
      "6.47 for {'learning_rate': 0.03, 'max_depth': 5, 'n_estimators': 61, 'num_leaves': 12, 'random_state': 20220809}\n",
      "6.42 for {'learning_rate': 0.03, 'max_depth': 5, 'n_estimators': 61, 'num_leaves': 15, 'random_state': 20220809}\n",
      "6.40 for {'learning_rate': 0.03, 'max_depth': 5, 'n_estimators': 61, 'num_leaves': 18, 'random_state': 20220809}\n",
      "6.29 for {'learning_rate': 0.03, 'max_depth': 5, 'n_estimators': 81, 'num_leaves': 12, 'random_state': 20220809}\n",
      "6.24 for {'learning_rate': 0.03, 'max_depth': 5, 'n_estimators': 81, 'num_leaves': 15, 'random_state': 20220809}\n",
      "6.23 for {'learning_rate': 0.03, 'max_depth': 5, 'n_estimators': 81, 'num_leaves': 18, 'random_state': 20220809}\n",
      "8.03 for {'learning_rate': 0.03, 'max_depth': 6, 'n_estimators': 1, 'num_leaves': 12, 'random_state': 20220809}\n",
      "8.02 for {'learning_rate': 0.03, 'max_depth': 6, 'n_estimators': 1, 'num_leaves': 15, 'random_state': 20220809}\n",
      "8.02 for {'learning_rate': 0.03, 'max_depth': 6, 'n_estimators': 1, 'num_leaves': 18, 'random_state': 20220809}\n",
      "7.20 for {'learning_rate': 0.03, 'max_depth': 6, 'n_estimators': 21, 'num_leaves': 12, 'random_state': 20220809}\n",
      "7.15 for {'learning_rate': 0.03, 'max_depth': 6, 'n_estimators': 21, 'num_leaves': 15, 'random_state': 20220809}\n",
      "7.12 for {'learning_rate': 0.03, 'max_depth': 6, 'n_estimators': 21, 'num_leaves': 18, 'random_state': 20220809}\n",
      "6.75 for {'learning_rate': 0.03, 'max_depth': 6, 'n_estimators': 41, 'num_leaves': 12, 'random_state': 20220809}\n",
      "6.69 for {'learning_rate': 0.03, 'max_depth': 6, 'n_estimators': 41, 'num_leaves': 15, 'random_state': 20220809}\n",
      "6.68 for {'learning_rate': 0.03, 'max_depth': 6, 'n_estimators': 41, 'num_leaves': 18, 'random_state': 20220809}\n",
      "6.45 for {'learning_rate': 0.03, 'max_depth': 6, 'n_estimators': 61, 'num_leaves': 12, 'random_state': 20220809}\n",
      "6.38 for {'learning_rate': 0.03, 'max_depth': 6, 'n_estimators': 61, 'num_leaves': 15, 'random_state': 20220809}\n",
      "6.37 for {'learning_rate': 0.03, 'max_depth': 6, 'n_estimators': 61, 'num_leaves': 18, 'random_state': 20220809}\n",
      "6.25 for {'learning_rate': 0.03, 'max_depth': 6, 'n_estimators': 81, 'num_leaves': 12, 'random_state': 20220809}\n",
      "6.18 for {'learning_rate': 0.03, 'max_depth': 6, 'n_estimators': 81, 'num_leaves': 15, 'random_state': 20220809}\n",
      "6.20 for {'learning_rate': 0.03, 'max_depth': 6, 'n_estimators': 81, 'num_leaves': 18, 'random_state': 20220809}\n",
      "8.03 for {'learning_rate': 0.03, 'max_depth': 7, 'n_estimators': 1, 'num_leaves': 12, 'random_state': 20220809}\n",
      "8.02 for {'learning_rate': 0.03, 'max_depth': 7, 'n_estimators': 1, 'num_leaves': 15, 'random_state': 20220809}\n",
      "8.02 for {'learning_rate': 0.03, 'max_depth': 7, 'n_estimators': 1, 'num_leaves': 18, 'random_state': 20220809}\n",
      "7.20 for {'learning_rate': 0.03, 'max_depth': 7, 'n_estimators': 21, 'num_leaves': 12, 'random_state': 20220809}\n",
      "7.15 for {'learning_rate': 0.03, 'max_depth': 7, 'n_estimators': 21, 'num_leaves': 15, 'random_state': 20220809}\n",
      "7.11 for {'learning_rate': 0.03, 'max_depth': 7, 'n_estimators': 21, 'num_leaves': 18, 'random_state': 20220809}\n",
      "6.75 for {'learning_rate': 0.03, 'max_depth': 7, 'n_estimators': 41, 'num_leaves': 12, 'random_state': 20220809}\n",
      "6.69 for {'learning_rate': 0.03, 'max_depth': 7, 'n_estimators': 41, 'num_leaves': 15, 'random_state': 20220809}\n",
      "6.66 for {'learning_rate': 0.03, 'max_depth': 7, 'n_estimators': 41, 'num_leaves': 18, 'random_state': 20220809}\n",
      "6.45 for {'learning_rate': 0.03, 'max_depth': 7, 'n_estimators': 61, 'num_leaves': 12, 'random_state': 20220809}\n",
      "6.37 for {'learning_rate': 0.03, 'max_depth': 7, 'n_estimators': 61, 'num_leaves': 15, 'random_state': 20220809}\n",
      "6.35 for {'learning_rate': 0.03, 'max_depth': 7, 'n_estimators': 61, 'num_leaves': 18, 'random_state': 20220809}\n",
      "6.25 for {'learning_rate': 0.03, 'max_depth': 7, 'n_estimators': 81, 'num_leaves': 12, 'random_state': 20220809}\n",
      "6.19 for {'learning_rate': 0.03, 'max_depth': 7, 'n_estimators': 81, 'num_leaves': 15, 'random_state': 20220809}\n",
      "6.17 for {'learning_rate': 0.03, 'max_depth': 7, 'n_estimators': 81, 'num_leaves': 18, 'random_state': 20220809}\n",
      "8.03 for {'learning_rate': 0.03, 'max_depth': 8, 'n_estimators': 1, 'num_leaves': 12, 'random_state': 20220809}\n",
      "8.02 for {'learning_rate': 0.03, 'max_depth': 8, 'n_estimators': 1, 'num_leaves': 15, 'random_state': 20220809}\n",
      "8.02 for {'learning_rate': 0.03, 'max_depth': 8, 'n_estimators': 1, 'num_leaves': 18, 'random_state': 20220809}\n",
      "7.20 for {'learning_rate': 0.03, 'max_depth': 8, 'n_estimators': 21, 'num_leaves': 12, 'random_state': 20220809}\n",
      "7.15 for {'learning_rate': 0.03, 'max_depth': 8, 'n_estimators': 21, 'num_leaves': 15, 'random_state': 20220809}\n",
      "7.11 for {'learning_rate': 0.03, 'max_depth': 8, 'n_estimators': 21, 'num_leaves': 18, 'random_state': 20220809}\n",
      "6.76 for {'learning_rate': 0.03, 'max_depth': 8, 'n_estimators': 41, 'num_leaves': 12, 'random_state': 20220809}\n",
      "6.69 for {'learning_rate': 0.03, 'max_depth': 8, 'n_estimators': 41, 'num_leaves': 15, 'random_state': 20220809}\n",
      "6.66 for {'learning_rate': 0.03, 'max_depth': 8, 'n_estimators': 41, 'num_leaves': 18, 'random_state': 20220809}\n",
      "6.45 for {'learning_rate': 0.03, 'max_depth': 8, 'n_estimators': 61, 'num_leaves': 12, 'random_state': 20220809}\n",
      "6.38 for {'learning_rate': 0.03, 'max_depth': 8, 'n_estimators': 61, 'num_leaves': 15, 'random_state': 20220809}\n",
      "6.35 for {'learning_rate': 0.03, 'max_depth': 8, 'n_estimators': 61, 'num_leaves': 18, 'random_state': 20220809}\n",
      "6.26 for {'learning_rate': 0.03, 'max_depth': 8, 'n_estimators': 81, 'num_leaves': 12, 'random_state': 20220809}\n",
      "6.20 for {'learning_rate': 0.03, 'max_depth': 8, 'n_estimators': 81, 'num_leaves': 15, 'random_state': 20220809}\n",
      "6.17 for {'learning_rate': 0.03, 'max_depth': 8, 'n_estimators': 81, 'num_leaves': 18, 'random_state': 20220809}\n",
      "8.05 for {'learning_rate': 0.1, 'max_depth': 1, 'n_estimators': 1, 'num_leaves': 12, 'random_state': 20220809}\n",
      "8.05 for {'learning_rate': 0.1, 'max_depth': 1, 'n_estimators': 1, 'num_leaves': 15, 'random_state': 20220809}\n",
      "8.05 for {'learning_rate': 0.1, 'max_depth': 1, 'n_estimators': 1, 'num_leaves': 18, 'random_state': 20220809}\n",
      "7.38 for {'learning_rate': 0.1, 'max_depth': 1, 'n_estimators': 21, 'num_leaves': 12, 'random_state': 20220809}\n",
      "7.38 for {'learning_rate': 0.1, 'max_depth': 1, 'n_estimators': 21, 'num_leaves': 15, 'random_state': 20220809}\n",
      "7.38 for {'learning_rate': 0.1, 'max_depth': 1, 'n_estimators': 21, 'num_leaves': 18, 'random_state': 20220809}\n",
      "7.02 for {'learning_rate': 0.1, 'max_depth': 1, 'n_estimators': 41, 'num_leaves': 12, 'random_state': 20220809}\n",
      "7.02 for {'learning_rate': 0.1, 'max_depth': 1, 'n_estimators': 41, 'num_leaves': 15, 'random_state': 20220809}\n",
      "7.02 for {'learning_rate': 0.1, 'max_depth': 1, 'n_estimators': 41, 'num_leaves': 18, 'random_state': 20220809}\n",
      "6.81 for {'learning_rate': 0.1, 'max_depth': 1, 'n_estimators': 61, 'num_leaves': 12, 'random_state': 20220809}\n",
      "6.81 for {'learning_rate': 0.1, 'max_depth': 1, 'n_estimators': 61, 'num_leaves': 15, 'random_state': 20220809}\n",
      "6.81 for {'learning_rate': 0.1, 'max_depth': 1, 'n_estimators': 61, 'num_leaves': 18, 'random_state': 20220809}\n",
      "6.65 for {'learning_rate': 0.1, 'max_depth': 1, 'n_estimators': 81, 'num_leaves': 12, 'random_state': 20220809}\n",
      "6.65 for {'learning_rate': 0.1, 'max_depth': 1, 'n_estimators': 81, 'num_leaves': 15, 'random_state': 20220809}\n",
      "6.65 for {'learning_rate': 0.1, 'max_depth': 1, 'n_estimators': 81, 'num_leaves': 18, 'random_state': 20220809}\n",
      "7.99 for {'learning_rate': 0.1, 'max_depth': 2, 'n_estimators': 1, 'num_leaves': 12, 'random_state': 20220809}\n",
      "7.99 for {'learning_rate': 0.1, 'max_depth': 2, 'n_estimators': 1, 'num_leaves': 15, 'random_state': 20220809}\n",
      "7.99 for {'learning_rate': 0.1, 'max_depth': 2, 'n_estimators': 1, 'num_leaves': 18, 'random_state': 20220809}\n",
      "6.88 for {'learning_rate': 0.1, 'max_depth': 2, 'n_estimators': 21, 'num_leaves': 12, 'random_state': 20220809}\n",
      "6.88 for {'learning_rate': 0.1, 'max_depth': 2, 'n_estimators': 21, 'num_leaves': 15, 'random_state': 20220809}\n",
      "6.88 for {'learning_rate': 0.1, 'max_depth': 2, 'n_estimators': 21, 'num_leaves': 18, 'random_state': 20220809}\n",
      "6.52 for {'learning_rate': 0.1, 'max_depth': 2, 'n_estimators': 41, 'num_leaves': 12, 'random_state': 20220809}\n",
      "6.52 for {'learning_rate': 0.1, 'max_depth': 2, 'n_estimators': 41, 'num_leaves': 15, 'random_state': 20220809}\n",
      "6.52 for {'learning_rate': 0.1, 'max_depth': 2, 'n_estimators': 41, 'num_leaves': 18, 'random_state': 20220809}\n",
      "6.34 for {'learning_rate': 0.1, 'max_depth': 2, 'n_estimators': 61, 'num_leaves': 12, 'random_state': 20220809}\n",
      "6.34 for {'learning_rate': 0.1, 'max_depth': 2, 'n_estimators': 61, 'num_leaves': 15, 'random_state': 20220809}\n",
      "6.34 for {'learning_rate': 0.1, 'max_depth': 2, 'n_estimators': 61, 'num_leaves': 18, 'random_state': 20220809}\n",
      "6.21 for {'learning_rate': 0.1, 'max_depth': 2, 'n_estimators': 81, 'num_leaves': 12, 'random_state': 20220809}\n",
      "6.21 for {'learning_rate': 0.1, 'max_depth': 2, 'n_estimators': 81, 'num_leaves': 15, 'random_state': 20220809}\n",
      "6.21 for {'learning_rate': 0.1, 'max_depth': 2, 'n_estimators': 81, 'num_leaves': 18, 'random_state': 20220809}\n",
      "7.91 for {'learning_rate': 0.1, 'max_depth': 3, 'n_estimators': 1, 'num_leaves': 12, 'random_state': 20220809}\n",
      "7.91 for {'learning_rate': 0.1, 'max_depth': 3, 'n_estimators': 1, 'num_leaves': 15, 'random_state': 20220809}\n",
      "7.91 for {'learning_rate': 0.1, 'max_depth': 3, 'n_estimators': 1, 'num_leaves': 18, 'random_state': 20220809}\n",
      "6.61 for {'learning_rate': 0.1, 'max_depth': 3, 'n_estimators': 21, 'num_leaves': 12, 'random_state': 20220809}\n",
      "6.61 for {'learning_rate': 0.1, 'max_depth': 3, 'n_estimators': 21, 'num_leaves': 15, 'random_state': 20220809}\n",
      "6.61 for {'learning_rate': 0.1, 'max_depth': 3, 'n_estimators': 21, 'num_leaves': 18, 'random_state': 20220809}\n",
      "6.28 for {'learning_rate': 0.1, 'max_depth': 3, 'n_estimators': 41, 'num_leaves': 12, 'random_state': 20220809}\n",
      "6.28 for {'learning_rate': 0.1, 'max_depth': 3, 'n_estimators': 41, 'num_leaves': 15, 'random_state': 20220809}\n",
      "6.28 for {'learning_rate': 0.1, 'max_depth': 3, 'n_estimators': 41, 'num_leaves': 18, 'random_state': 20220809}\n",
      "6.10 for {'learning_rate': 0.1, 'max_depth': 3, 'n_estimators': 61, 'num_leaves': 12, 'random_state': 20220809}\n",
      "6.10 for {'learning_rate': 0.1, 'max_depth': 3, 'n_estimators': 61, 'num_leaves': 15, 'random_state': 20220809}\n",
      "6.10 for {'learning_rate': 0.1, 'max_depth': 3, 'n_estimators': 61, 'num_leaves': 18, 'random_state': 20220809}\n",
      "6.03 for {'learning_rate': 0.1, 'max_depth': 3, 'n_estimators': 81, 'num_leaves': 12, 'random_state': 20220809}\n",
      "6.03 for {'learning_rate': 0.1, 'max_depth': 3, 'n_estimators': 81, 'num_leaves': 15, 'random_state': 20220809}\n",
      "6.03 for {'learning_rate': 0.1, 'max_depth': 3, 'n_estimators': 81, 'num_leaves': 18, 'random_state': 20220809}\n",
      "7.88 for {'learning_rate': 0.1, 'max_depth': 4, 'n_estimators': 1, 'num_leaves': 12, 'random_state': 20220809}\n",
      "7.87 for {'learning_rate': 0.1, 'max_depth': 4, 'n_estimators': 1, 'num_leaves': 15, 'random_state': 20220809}\n",
      "7.87 for {'learning_rate': 0.1, 'max_depth': 4, 'n_estimators': 1, 'num_leaves': 18, 'random_state': 20220809}\n",
      "6.47 for {'learning_rate': 0.1, 'max_depth': 4, 'n_estimators': 21, 'num_leaves': 12, 'random_state': 20220809}\n",
      "6.45 for {'learning_rate': 0.1, 'max_depth': 4, 'n_estimators': 21, 'num_leaves': 15, 'random_state': 20220809}\n",
      "6.45 for {'learning_rate': 0.1, 'max_depth': 4, 'n_estimators': 21, 'num_leaves': 18, 'random_state': 20220809}\n",
      "6.14 for {'learning_rate': 0.1, 'max_depth': 4, 'n_estimators': 41, 'num_leaves': 12, 'random_state': 20220809}\n",
      "6.13 for {'learning_rate': 0.1, 'max_depth': 4, 'n_estimators': 41, 'num_leaves': 15, 'random_state': 20220809}\n",
      "6.13 for {'learning_rate': 0.1, 'max_depth': 4, 'n_estimators': 41, 'num_leaves': 18, 'random_state': 20220809}\n",
      "6.05 for {'learning_rate': 0.1, 'max_depth': 4, 'n_estimators': 61, 'num_leaves': 12, 'random_state': 20220809}\n",
      "6.03 for {'learning_rate': 0.1, 'max_depth': 4, 'n_estimators': 61, 'num_leaves': 15, 'random_state': 20220809}\n",
      "6.03 for {'learning_rate': 0.1, 'max_depth': 4, 'n_estimators': 61, 'num_leaves': 18, 'random_state': 20220809}\n",
      "6.04 for {'learning_rate': 0.1, 'max_depth': 4, 'n_estimators': 81, 'num_leaves': 12, 'random_state': 20220809}\n",
      "5.99 for {'learning_rate': 0.1, 'max_depth': 4, 'n_estimators': 81, 'num_leaves': 15, 'random_state': 20220809}\n",
      "5.99 for {'learning_rate': 0.1, 'max_depth': 4, 'n_estimators': 81, 'num_leaves': 18, 'random_state': 20220809}\n",
      "7.88 for {'learning_rate': 0.1, 'max_depth': 5, 'n_estimators': 1, 'num_leaves': 12, 'random_state': 20220809}\n",
      "7.85 for {'learning_rate': 0.1, 'max_depth': 5, 'n_estimators': 1, 'num_leaves': 15, 'random_state': 20220809}\n",
      "7.86 for {'learning_rate': 0.1, 'max_depth': 5, 'n_estimators': 1, 'num_leaves': 18, 'random_state': 20220809}\n",
      "6.39 for {'learning_rate': 0.1, 'max_depth': 5, 'n_estimators': 21, 'num_leaves': 12, 'random_state': 20220809}\n",
      "6.30 for {'learning_rate': 0.1, 'max_depth': 5, 'n_estimators': 21, 'num_leaves': 15, 'random_state': 20220809}\n",
      "6.33 for {'learning_rate': 0.1, 'max_depth': 5, 'n_estimators': 21, 'num_leaves': 18, 'random_state': 20220809}\n",
      "6.07 for {'learning_rate': 0.1, 'max_depth': 5, 'n_estimators': 41, 'num_leaves': 12, 'random_state': 20220809}\n",
      "6.02 for {'learning_rate': 0.1, 'max_depth': 5, 'n_estimators': 41, 'num_leaves': 15, 'random_state': 20220809}\n",
      "6.08 for {'learning_rate': 0.1, 'max_depth': 5, 'n_estimators': 41, 'num_leaves': 18, 'random_state': 20220809}\n",
      "6.00 for {'learning_rate': 0.1, 'max_depth': 5, 'n_estimators': 61, 'num_leaves': 12, 'random_state': 20220809}\n",
      "5.96 for {'learning_rate': 0.1, 'max_depth': 5, 'n_estimators': 61, 'num_leaves': 15, 'random_state': 20220809}\n",
      "6.02 for {'learning_rate': 0.1, 'max_depth': 5, 'n_estimators': 61, 'num_leaves': 18, 'random_state': 20220809}\n",
      "6.00 for {'learning_rate': 0.1, 'max_depth': 5, 'n_estimators': 81, 'num_leaves': 12, 'random_state': 20220809}\n",
      "5.96 for {'learning_rate': 0.1, 'max_depth': 5, 'n_estimators': 81, 'num_leaves': 15, 'random_state': 20220809}\n",
      "6.00 for {'learning_rate': 0.1, 'max_depth': 5, 'n_estimators': 81, 'num_leaves': 18, 'random_state': 20220809}\n",
      "7.88 for {'learning_rate': 0.1, 'max_depth': 6, 'n_estimators': 1, 'num_leaves': 12, 'random_state': 20220809}\n",
      "7.85 for {'learning_rate': 0.1, 'max_depth': 6, 'n_estimators': 1, 'num_leaves': 15, 'random_state': 20220809}\n",
      "7.86 for {'learning_rate': 0.1, 'max_depth': 6, 'n_estimators': 1, 'num_leaves': 18, 'random_state': 20220809}\n",
      "6.34 for {'learning_rate': 0.1, 'max_depth': 6, 'n_estimators': 21, 'num_leaves': 12, 'random_state': 20220809}\n",
      "6.26 for {'learning_rate': 0.1, 'max_depth': 6, 'n_estimators': 21, 'num_leaves': 15, 'random_state': 20220809}\n",
      "6.28 for {'learning_rate': 0.1, 'max_depth': 6, 'n_estimators': 21, 'num_leaves': 18, 'random_state': 20220809}\n",
      "6.03 for {'learning_rate': 0.1, 'max_depth': 6, 'n_estimators': 41, 'num_leaves': 12, 'random_state': 20220809}\n",
      "5.99 for {'learning_rate': 0.1, 'max_depth': 6, 'n_estimators': 41, 'num_leaves': 15, 'random_state': 20220809}\n",
      "6.03 for {'learning_rate': 0.1, 'max_depth': 6, 'n_estimators': 41, 'num_leaves': 18, 'random_state': 20220809}\n",
      "5.98 for {'learning_rate': 0.1, 'max_depth': 6, 'n_estimators': 61, 'num_leaves': 12, 'random_state': 20220809}\n",
      "5.94 for {'learning_rate': 0.1, 'max_depth': 6, 'n_estimators': 61, 'num_leaves': 15, 'random_state': 20220809}\n",
      "6.01 for {'learning_rate': 0.1, 'max_depth': 6, 'n_estimators': 61, 'num_leaves': 18, 'random_state': 20220809}\n",
      "5.97 for {'learning_rate': 0.1, 'max_depth': 6, 'n_estimators': 81, 'num_leaves': 12, 'random_state': 20220809}\n",
      "5.97 for {'learning_rate': 0.1, 'max_depth': 6, 'n_estimators': 81, 'num_leaves': 15, 'random_state': 20220809}\n",
      "6.04 for {'learning_rate': 0.1, 'max_depth': 6, 'n_estimators': 81, 'num_leaves': 18, 'random_state': 20220809}\n",
      "7.88 for {'learning_rate': 0.1, 'max_depth': 7, 'n_estimators': 1, 'num_leaves': 12, 'random_state': 20220809}\n",
      "7.85 for {'learning_rate': 0.1, 'max_depth': 7, 'n_estimators': 1, 'num_leaves': 15, 'random_state': 20220809}\n",
      "7.86 for {'learning_rate': 0.1, 'max_depth': 7, 'n_estimators': 1, 'num_leaves': 18, 'random_state': 20220809}\n",
      "6.35 for {'learning_rate': 0.1, 'max_depth': 7, 'n_estimators': 21, 'num_leaves': 12, 'random_state': 20220809}\n",
      "6.26 for {'learning_rate': 0.1, 'max_depth': 7, 'n_estimators': 21, 'num_leaves': 15, 'random_state': 20220809}\n",
      "6.25 for {'learning_rate': 0.1, 'max_depth': 7, 'n_estimators': 21, 'num_leaves': 18, 'random_state': 20220809}\n",
      "6.04 for {'learning_rate': 0.1, 'max_depth': 7, 'n_estimators': 41, 'num_leaves': 12, 'random_state': 20220809}\n",
      "6.00 for {'learning_rate': 0.1, 'max_depth': 7, 'n_estimators': 41, 'num_leaves': 15, 'random_state': 20220809}\n",
      "6.03 for {'learning_rate': 0.1, 'max_depth': 7, 'n_estimators': 41, 'num_leaves': 18, 'random_state': 20220809}\n",
      "5.98 for {'learning_rate': 0.1, 'max_depth': 7, 'n_estimators': 61, 'num_leaves': 12, 'random_state': 20220809}\n",
      "5.98 for {'learning_rate': 0.1, 'max_depth': 7, 'n_estimators': 61, 'num_leaves': 15, 'random_state': 20220809}\n",
      "6.02 for {'learning_rate': 0.1, 'max_depth': 7, 'n_estimators': 61, 'num_leaves': 18, 'random_state': 20220809}\n",
      "6.00 for {'learning_rate': 0.1, 'max_depth': 7, 'n_estimators': 81, 'num_leaves': 12, 'random_state': 20220809}\n",
      "5.99 for {'learning_rate': 0.1, 'max_depth': 7, 'n_estimators': 81, 'num_leaves': 15, 'random_state': 20220809}\n",
      "6.03 for {'learning_rate': 0.1, 'max_depth': 7, 'n_estimators': 81, 'num_leaves': 18, 'random_state': 20220809}\n",
      "7.88 for {'learning_rate': 0.1, 'max_depth': 8, 'n_estimators': 1, 'num_leaves': 12, 'random_state': 20220809}\n",
      "7.85 for {'learning_rate': 0.1, 'max_depth': 8, 'n_estimators': 1, 'num_leaves': 15, 'random_state': 20220809}\n",
      "7.86 for {'learning_rate': 0.1, 'max_depth': 8, 'n_estimators': 1, 'num_leaves': 18, 'random_state': 20220809}\n",
      "6.35 for {'learning_rate': 0.1, 'max_depth': 8, 'n_estimators': 21, 'num_leaves': 12, 'random_state': 20220809}\n",
      "6.31 for {'learning_rate': 0.1, 'max_depth': 8, 'n_estimators': 21, 'num_leaves': 15, 'random_state': 20220809}\n",
      "6.25 for {'learning_rate': 0.1, 'max_depth': 8, 'n_estimators': 21, 'num_leaves': 18, 'random_state': 20220809}\n",
      "6.03 for {'learning_rate': 0.1, 'max_depth': 8, 'n_estimators': 41, 'num_leaves': 12, 'random_state': 20220809}\n",
      "6.05 for {'learning_rate': 0.1, 'max_depth': 8, 'n_estimators': 41, 'num_leaves': 15, 'random_state': 20220809}\n",
      "6.00 for {'learning_rate': 0.1, 'max_depth': 8, 'n_estimators': 41, 'num_leaves': 18, 'random_state': 20220809}\n",
      "5.99 for {'learning_rate': 0.1, 'max_depth': 8, 'n_estimators': 61, 'num_leaves': 12, 'random_state': 20220809}\n",
      "6.02 for {'learning_rate': 0.1, 'max_depth': 8, 'n_estimators': 61, 'num_leaves': 15, 'random_state': 20220809}\n",
      "6.00 for {'learning_rate': 0.1, 'max_depth': 8, 'n_estimators': 61, 'num_leaves': 18, 'random_state': 20220809}\n",
      "5.97 for {'learning_rate': 0.1, 'max_depth': 8, 'n_estimators': 81, 'num_leaves': 12, 'random_state': 20220809}\n",
      "6.03 for {'learning_rate': 0.1, 'max_depth': 8, 'n_estimators': 81, 'num_leaves': 15, 'random_state': 20220809}\n",
      "6.02 for {'learning_rate': 0.1, 'max_depth': 8, 'n_estimators': 81, 'num_leaves': 18, 'random_state': 20220809}\n",
      "\n",
      "CPU times: total: 1min 10s\n",
      "Wall time: 17.9 s\n"
     ]
    }
   ],
   "source": [
    "%%time\n",
    "\n",
    "regressor = LGBMRegressor() \n",
    "max_estimators_list = [x for x in  range(1, 101, 20)]\n",
    "max_depth_list = [x for x in range (1, 9)]\n",
    "hyperparams = [{'max_depth':max_depth_list, 'n_estimators':max_estimators_list, 'learning_rate' : [0.03, 0.1],\n",
    "               'num_leaves': [12, 15, 18], 'random_state':[20220809]}]\n",
    "\n",
    "cv = GridSearchCV(regressor, hyperparams, cv = 2, verbose=1, scoring='neg_mean_absolute_error')\n",
    "cv.fit(features_train, target_train)\n",
    "\n",
    "best_factor_lgb = cv.best_estimator_\n",
    "print()\n",
    "print('Лучшая модель LGBMRegressor:')\n",
    "print(cv.best_params_, '  MAE:', cv.best_score_*-1)\n",
    "print()\n",
    "means = cv.cv_results_['mean_test_score']\n",
    "for mean, params in zip(means, cv.cv_results_['params']):\n",
    "    print(\"%0.2f for %s\"% ((mean*-1), params))\n",
    "print()\n",
    "\n",
    "best_model = best_model.append({'Model': best_factor_lgb, 'MAE': cv.best_score_*-1}, ignore_index=True)"
   ]
  },
  {
   "cell_type": "markdown",
   "id": "640aa75a",
   "metadata": {},
   "source": [
    "### Линейная регрессия"
   ]
  },
  {
   "cell_type": "code",
   "execution_count": 53,
   "id": "7fb13910",
   "metadata": {},
   "outputs": [
    {
     "name": "stdout",
     "output_type": "stream",
     "text": [
      "MAE линейной модели: 6.313510586082748\n"
     ]
    }
   ],
   "source": [
    "linear = cross_val_score(\n",
    "    LinearRegression(),\n",
    "    features_train,\n",
    "    target_train,\n",
    "    scoring = 'neg_mean_absolute_error',\n",
    "    cv = 5).mean()*-1\n",
    "\n",
    "print('MAE линейной модели:', linear)\n",
    "\n",
    "best_model = best_model.append({'Model': 'LinearRegression()', 'MAE': linear}, ignore_index=True)"
   ]
  },
  {
   "cell_type": "markdown",
   "id": "8bc8362c",
   "metadata": {},
   "source": [
    "### Ridge"
   ]
  },
  {
   "cell_type": "code",
   "execution_count": 54,
   "id": "8da06375",
   "metadata": {
    "scrolled": false
   },
   "outputs": [
    {
     "name": "stdout",
     "output_type": "stream",
     "text": [
      "Fitting 2 folds for each of 30 candidates, totalling 60 fits\n",
      "\n",
      "Лучшая модель Ridge:\n",
      "Ridge(alpha=1, random_state=20220809, solver='svd')   MAE: 6.400470318615534\n",
      "\n",
      "6.40 for {'alpha': 1, 'random_state': 20220809, 'solver': 'auto'}\n",
      "6.40 for {'alpha': 1, 'random_state': 20220809, 'solver': 'svd'}\n",
      "6.40 for {'alpha': 1, 'random_state': 20220809, 'solver': 'cholesky'}\n",
      "6.42 for {'alpha': 1, 'random_state': 20220809, 'solver': 'lsqr'}\n",
      "6.45 for {'alpha': 1, 'random_state': 20220809, 'solver': 'sparse_cg'}\n",
      "6.40 for {'alpha': 0.1, 'random_state': 20220809, 'solver': 'auto'}\n",
      "6.40 for {'alpha': 0.1, 'random_state': 20220809, 'solver': 'svd'}\n",
      "6.40 for {'alpha': 0.1, 'random_state': 20220809, 'solver': 'cholesky'}\n",
      "6.42 for {'alpha': 0.1, 'random_state': 20220809, 'solver': 'lsqr'}\n",
      "6.45 for {'alpha': 0.1, 'random_state': 20220809, 'solver': 'sparse_cg'}\n",
      "6.40 for {'alpha': 0.01, 'random_state': 20220809, 'solver': 'auto'}\n",
      "6.40 for {'alpha': 0.01, 'random_state': 20220809, 'solver': 'svd'}\n",
      "6.40 for {'alpha': 0.01, 'random_state': 20220809, 'solver': 'cholesky'}\n",
      "6.42 for {'alpha': 0.01, 'random_state': 20220809, 'solver': 'lsqr'}\n",
      "6.45 for {'alpha': 0.01, 'random_state': 20220809, 'solver': 'sparse_cg'}\n",
      "6.40 for {'alpha': 0.001, 'random_state': 20220809, 'solver': 'auto'}\n",
      "6.40 for {'alpha': 0.001, 'random_state': 20220809, 'solver': 'svd'}\n",
      "6.40 for {'alpha': 0.001, 'random_state': 20220809, 'solver': 'cholesky'}\n",
      "6.42 for {'alpha': 0.001, 'random_state': 20220809, 'solver': 'lsqr'}\n",
      "6.45 for {'alpha': 0.001, 'random_state': 20220809, 'solver': 'sparse_cg'}\n",
      "6.40 for {'alpha': 0.0001, 'random_state': 20220809, 'solver': 'auto'}\n",
      "6.40 for {'alpha': 0.0001, 'random_state': 20220809, 'solver': 'svd'}\n",
      "6.40 for {'alpha': 0.0001, 'random_state': 20220809, 'solver': 'cholesky'}\n",
      "6.42 for {'alpha': 0.0001, 'random_state': 20220809, 'solver': 'lsqr'}\n",
      "6.45 for {'alpha': 0.0001, 'random_state': 20220809, 'solver': 'sparse_cg'}\n",
      "6.40 for {'alpha': 0, 'random_state': 20220809, 'solver': 'auto'}\n",
      "6.40 for {'alpha': 0, 'random_state': 20220809, 'solver': 'svd'}\n",
      "6.40 for {'alpha': 0, 'random_state': 20220809, 'solver': 'cholesky'}\n",
      "6.42 for {'alpha': 0, 'random_state': 20220809, 'solver': 'lsqr'}\n",
      "6.45 for {'alpha': 0, 'random_state': 20220809, 'solver': 'sparse_cg'}\n",
      "\n",
      "CPU times: total: 844 ms\n",
      "Wall time: 404 ms\n"
     ]
    }
   ],
   "source": [
    "%%time\n",
    "\n",
    "regressor = Ridge() \n",
    "max_estimators_list = [x for x in  range(50, 101, 10)]\n",
    "max_depth_list = [x for x in range (3, 9)]\n",
    "hyperparams = [{'solver':['auto', 'svd', 'cholesky', 'lsqr','sparse_cg'],\n",
    "                'alpha': [1, 0.1, 0.01, 0.001, 0.0001, 0],\n",
    "                'random_state':[20220809]}]\n",
    "\n",
    "cv = GridSearchCV(regressor, hyperparams, cv = 2, verbose=1, scoring='neg_mean_absolute_error')\n",
    "cv.fit(features_train, target_train)\n",
    "\n",
    "best_factor_rg = cv.best_estimator_\n",
    "print()\n",
    "print('Лучшая модель Ridge:')\n",
    "print(best_factor_rg, '  MAE:', cv.best_score_*-1)\n",
    "print()\n",
    "means = cv.cv_results_['mean_test_score']\n",
    "for mean, params in zip(means, cv.cv_results_['params']):\n",
    "    print(\"%0.2f for %s\"% ((mean*-1), params))\n",
    "print()\n",
    "\n",
    "best_model = best_model.append({'Model': best_factor_rg, 'MAE': cv.best_score_*-1}, ignore_index=True)"
   ]
  },
  {
   "cell_type": "markdown",
   "id": "6b5e25dd",
   "metadata": {},
   "source": [
    "## Тестирование"
   ]
  },
  {
   "cell_type": "code",
   "execution_count": 55,
   "id": "2c738be6",
   "metadata": {},
   "outputs": [],
   "source": [
    "best_model = best_model.set_index('Model')"
   ]
  },
  {
   "cell_type": "code",
   "execution_count": 56,
   "id": "69d5b4db",
   "metadata": {},
   "outputs": [
    {
     "data": {
      "text/html": [
       "<style  type=\"text/css\" >\n",
       "#T_cb3b1_row2_col0{\n",
       "            color: white;\n",
       "             font-weight: bold;\n",
       "             background-color: darkblue;\n",
       "        }</style><table id=\"T_cb3b1_\" ><thead>    <tr>        <th class=\"blank level0\" ></th>        <th class=\"col_heading level0 col0\" >MAE</th>    </tr>    <tr>        <th class=\"index_name level0\" >Model</th>        <th class=\"blank\" ></th>    </tr></thead><tbody>\n",
       "                <tr>\n",
       "                        <th id=\"T_cb3b1_level0_row0\" class=\"row_heading level0 row0\" >DecisionTreeRegressor(criterion='absolute_error', max_depth=6,\n",
       "                      random_state=20220809)</th>\n",
       "                        <td id=\"T_cb3b1_row0_col0\" class=\"data row0 col0\" >7.168585</td>\n",
       "            </tr>\n",
       "            <tr>\n",
       "                        <th id=\"T_cb3b1_level0_row1\" class=\"row_heading level0 row1\" >RandomForestRegressor()</th>\n",
       "                        <td id=\"T_cb3b1_row1_col0\" class=\"data row1 col0\" >6.157833</td>\n",
       "            </tr>\n",
       "            <tr>\n",
       "                        <th id=\"T_cb3b1_level0_row2\" class=\"row_heading level0 row2\" >CatBoostRegressor()</th>\n",
       "                        <td id=\"T_cb3b1_row2_col0\" class=\"data row2 col0\" >5.893828</td>\n",
       "            </tr>\n",
       "            <tr>\n",
       "                        <th id=\"T_cb3b1_level0_row3\" class=\"row_heading level0 row3\" >LGBMRegressor(max_depth=6, n_estimators=61, num_leaves=15,\n",
       "              random_state=20220809)</th>\n",
       "                        <td id=\"T_cb3b1_row3_col0\" class=\"data row3 col0\" >5.944643</td>\n",
       "            </tr>\n",
       "            <tr>\n",
       "                        <th id=\"T_cb3b1_level0_row4\" class=\"row_heading level0 row4\" >LinearRegression()</th>\n",
       "                        <td id=\"T_cb3b1_row4_col0\" class=\"data row4 col0\" >6.313511</td>\n",
       "            </tr>\n",
       "            <tr>\n",
       "                        <th id=\"T_cb3b1_level0_row5\" class=\"row_heading level0 row5\" >Ridge(alpha=1, random_state=20220809, solver='svd')</th>\n",
       "                        <td id=\"T_cb3b1_row5_col0\" class=\"data row5 col0\" >6.400470</td>\n",
       "            </tr>\n",
       "    </tbody></table>"
      ],
      "text/plain": [
       "<pandas.io.formats.style.Styler at 0x22a5e11f9a0>"
      ]
     },
     "execution_count": 56,
     "metadata": {},
     "output_type": "execute_result"
    }
   ],
   "source": [
    "def highlight_min(s, props=''):\n",
    "    return np.where(s == np.nanmin(s.values), props, '')\n",
    "\n",
    "best_model.style.apply(highlight_min, props='color:white; font-weight:bold; background-color:darkblue;', axis=0)"
   ]
  },
  {
   "cell_type": "markdown",
   "id": "1f2918b9",
   "metadata": {},
   "source": [
    "Протестируем лучшую модель CatBoostRegressor()"
   ]
  },
  {
   "cell_type": "code",
   "execution_count": 57,
   "id": "3172a8c4",
   "metadata": {},
   "outputs": [
    {
     "name": "stdout",
     "output_type": "stream",
     "text": [
      "Итоговая метрика: 5.363880191522762\n"
     ]
    }
   ],
   "source": [
    "model = best_factor_cat\n",
    "model.fit(features_train, target_train)\n",
    "predicted_valid = model.predict(features_test)\n",
    "mae = mean_absolute_error(target_test, predicted_valid)\n",
    "\n",
    "print('Итоговая метрика:', mae)"
   ]
  },
  {
   "cell_type": "markdown",
   "id": "51eecfea",
   "metadata": {},
   "source": [
    "Наилучшее значение метрики **МАЕ = 5.36388**, получилось на модели **CatBoostRegressor(iterations=450, learning_rate=0.05, max_depth=6)**"
   ]
  },
  {
   "cell_type": "markdown",
   "id": "273aef7f",
   "metadata": {},
   "source": [
    "### Визуализация предсказания"
   ]
  },
  {
   "cell_type": "markdown",
   "id": "9215309e",
   "metadata": {},
   "source": [
    "Отобразим финальные предсказания на графике: графики исходного и предсказанных данных."
   ]
  },
  {
   "cell_type": "code",
   "execution_count": 58,
   "id": "97b9be38",
   "metadata": {},
   "outputs": [],
   "source": [
    "true_pred = pd.DataFrame({ \n",
    "    'y_true' : target_test,\n",
    "    'y_pred' : best_factor_cat.predict(features_test)\n",
    "    }).sort_index()"
   ]
  },
  {
   "cell_type": "code",
   "execution_count": 59,
   "id": "fcd5e855",
   "metadata": {},
   "outputs": [
    {
     "data": {
      "image/png": "[encoded data removed]",
      "text/plain": [
       "<Figure size 1224x576 with 1 Axes>"
      ]
     },
     "metadata": {
      "needs_background": "light"
     },
     "output_type": "display_data"
    }
   ],
   "source": [
    "true_pred.plot(figsize=(17,8), title='Сравнение истинных и предсказанных значений');"
   ]
  },
  {
   "cell_type": "markdown",
   "id": "e9022ba4",
   "metadata": {},
   "source": [
    "По графику видно, что модель не плохо определяет конечную температуру партии. Но есть пики уменьшения и увеличения температуры, в пределах 30℃, которые модель не смогла предсказать."
   ]
  },
  {
   "cell_type": "markdown",
   "id": "7057e4ca",
   "metadata": {},
   "source": [
    "### Анализ важности"
   ]
  },
  {
   "cell_type": "markdown",
   "id": "ebdaf131",
   "metadata": {},
   "source": [
    "Проведем анализ важности факторов "
   ]
  },
  {
   "cell_type": "code",
   "execution_count": 60,
   "id": "3b142133",
   "metadata": {
    "scrolled": false
   },
   "outputs": [
    {
     "data": {
      "text/html": [
       "<div>\n",
       "<style scoped>\n",
       "    .dataframe tbody tr th:only-of-type {\n",
       "        vertical-align: middle;\n",
       "    }\n",
       "\n",
       "    .dataframe tbody tr th {\n",
       "        vertical-align: top;\n",
       "    }\n",
       "\n",
       "    .dataframe thead th {\n",
       "        text-align: right;\n",
       "    }\n",
       "</style>\n",
       "<table border=\"1\" class=\"dataframe\">\n",
       "  <thead>\n",
       "    <tr style=\"text-align: right;\">\n",
       "      <th></th>\n",
       "      <th>features</th>\n",
       "      <th>feature_importances</th>\n",
       "    </tr>\n",
       "  </thead>\n",
       "  <tbody>\n",
       "    <tr>\n",
       "      <th>0</th>\n",
       "      <td>start_temp</td>\n",
       "      <td>26.126525</td>\n",
       "    </tr>\n",
       "    <tr>\n",
       "      <th>3</th>\n",
       "      <td>full_power</td>\n",
       "      <td>18.724931</td>\n",
       "    </tr>\n",
       "    <tr>\n",
       "      <th>1</th>\n",
       "      <td>time_meas</td>\n",
       "      <td>10.393866</td>\n",
       "    </tr>\n",
       "    <tr>\n",
       "      <th>2</th>\n",
       "      <td>time_heat</td>\n",
       "      <td>9.415162</td>\n",
       "    </tr>\n",
       "    <tr>\n",
       "      <th>15</th>\n",
       "      <td>wire_1</td>\n",
       "      <td>6.289749</td>\n",
       "    </tr>\n",
       "    <tr>\n",
       "      <th>8</th>\n",
       "      <td>bulk_6</td>\n",
       "      <td>4.853390</td>\n",
       "    </tr>\n",
       "    <tr>\n",
       "      <th>12</th>\n",
       "      <td>bulk_14</td>\n",
       "      <td>3.772744</td>\n",
       "    </tr>\n",
       "    <tr>\n",
       "      <th>11</th>\n",
       "      <td>bulk_12</td>\n",
       "      <td>3.725277</td>\n",
       "    </tr>\n",
       "    <tr>\n",
       "      <th>16</th>\n",
       "      <td>wire_2</td>\n",
       "      <td>3.390437</td>\n",
       "    </tr>\n",
       "    <tr>\n",
       "      <th>13</th>\n",
       "      <td>bulk_15</td>\n",
       "      <td>3.368764</td>\n",
       "    </tr>\n",
       "    <tr>\n",
       "      <th>14</th>\n",
       "      <td>gas</td>\n",
       "      <td>2.679333</td>\n",
       "    </tr>\n",
       "    <tr>\n",
       "      <th>4</th>\n",
       "      <td>bulk_1</td>\n",
       "      <td>2.328896</td>\n",
       "    </tr>\n",
       "    <tr>\n",
       "      <th>6</th>\n",
       "      <td>bulk_4</td>\n",
       "      <td>1.367909</td>\n",
       "    </tr>\n",
       "    <tr>\n",
       "      <th>5</th>\n",
       "      <td>bulk_3</td>\n",
       "      <td>1.135945</td>\n",
       "    </tr>\n",
       "    <tr>\n",
       "      <th>18</th>\n",
       "      <td>wire_6</td>\n",
       "      <td>0.823746</td>\n",
       "    </tr>\n",
       "    <tr>\n",
       "      <th>10</th>\n",
       "      <td>bulk_11</td>\n",
       "      <td>0.419735</td>\n",
       "    </tr>\n",
       "    <tr>\n",
       "      <th>17</th>\n",
       "      <td>wire_3</td>\n",
       "      <td>0.414428</td>\n",
       "    </tr>\n",
       "    <tr>\n",
       "      <th>7</th>\n",
       "      <td>bulk_5</td>\n",
       "      <td>0.402608</td>\n",
       "    </tr>\n",
       "    <tr>\n",
       "      <th>9</th>\n",
       "      <td>bulk_10</td>\n",
       "      <td>0.366554</td>\n",
       "    </tr>\n",
       "  </tbody>\n",
       "</table>\n",
       "</div>"
      ],
      "text/plain": [
       "      features  feature_importances\n",
       "0   start_temp            26.126525\n",
       "3   full_power            18.724931\n",
       "1    time_meas            10.393866\n",
       "2    time_heat             9.415162\n",
       "15      wire_1             6.289749\n",
       "8       bulk_6             4.853390\n",
       "12     bulk_14             3.772744\n",
       "11     bulk_12             3.725277\n",
       "16      wire_2             3.390437\n",
       "13     bulk_15             3.368764\n",
       "14         gas             2.679333\n",
       "4       bulk_1             2.328896\n",
       "6       bulk_4             1.367909\n",
       "5       bulk_3             1.135945\n",
       "18      wire_6             0.823746\n",
       "10     bulk_11             0.419735\n",
       "17      wire_3             0.414428\n",
       "7       bulk_5             0.402608\n",
       "9      bulk_10             0.366554"
      ]
     },
     "metadata": {},
     "output_type": "display_data"
    }
   ],
   "source": [
    "important_factor = pd.DataFrame({'features' : list(features_train.columns),\n",
    "                                 'feature_importances':  best_factor_cat.feature_importances_})\n",
    "\n",
    "display(important_factor.sort_values(by='feature_importances', ascending=False))\n"
   ]
  },
  {
   "cell_type": "code",
   "execution_count": 61,
   "id": "0e6aadaf",
   "metadata": {},
   "outputs": [
    {
     "data": {
      "text/plain": [
       "Text(0, 0.5, '')"
      ]
     },
     "execution_count": 61,
     "metadata": {},
     "output_type": "execute_result"
    },
    {
     "data": {
      "image/png": "[encoded data removed]",
      "text/plain": [
       "<Figure size 1008x1008 with 1 Axes>"
      ]
     },
     "metadata": {},
     "output_type": "display_data"
    }
   ],
   "source": [
    "important_factor.plot.pie(\n",
    "    explode=[0.15]*len(features.count()),\n",
    "    labels = important_factor.features,\n",
    "    y = 'feature_importances',\n",
    "    autopct='%0.1f%%', \n",
    "    shadow=True,\n",
    "    legend=False, \n",
    "    figsize=(14, 14),\n",
    "    title= 'Влияние признаков на предсказание'\n",
    ");\n",
    "\n",
    "plt.ylabel('')"
   ]
  },
  {
   "cell_type": "markdown",
   "id": "ac7943e9",
   "metadata": {},
   "source": [
    "Больше всего на предсказания влияют признаки start_temp и full_power с 26,1% и 18,7% соответственно. Признаки wire_6, bulk_11, wire_3, bulk_5 и bulk_10, не имеют даже 1% влияния. "
   ]
  },
  {
   "cell_type": "markdown",
   "id": "439924dd",
   "metadata": {},
   "source": [
    "## Вывод"
   ]
  },
  {
   "cell_type": "markdown",
   "id": "9085d9df",
   "metadata": {},
   "source": [
    "Был произведен анализ обработки стали на металлургическом комбинате, для оптимизации производственных расходов путем уменьшения потребления электроэнергии на этапе обработки стали. Стояла задача построения модели, которая предскажет температуру стали. Для решения данной проблемы был разработан план действий по построению модели. В ходе работы были пройдены все пункты плана. Были загружены и изучены данные металлургического комбината. Провели работу с пропусками, были удалены партии без целевого признака (конечной температуры). Остальные пропуски заменены нулями, это пропуски по добавлению сыпучих и проволочных материалов, которые появились из-за того, что не все типы металлов добавлялись сразу в одну партию. Заменили типы данных у некоторых значений. Привели названия столбцов к единому стилю. Построены графики. Подготовили признаки для модели, была рассчитана полная мощность каждой партии в отдельности и время, затраченное на нагрев дугой. Удалены из анализа партии с одним замером температуры. Так же было рассчитано время, затраченное на обработку всей партии.\n",
    "\n",
    "Была создана таблица с отобранными признаками для прогнозирования и разбита на обучающею и тестовую для моделирования, в соотношении 4 к 1. Было проверено несколько моделей: **DecisionTreeRegressor**, **RandomForestRegressor**, **CatBoostRegressor**, **LGBMRegressor**, **LinearRegression** и **Ridge**. Среди которых лучше себя показала модель **CatBoostRegressor** с параметрами **iterations=450, learning_rate=0.05, max_depth=6, verbose=False**, качество которой было проверено на тестовой выборке и достигнута **МАЕ = 5.36388**, что полностью удовлетворяет условию задачи. Построили график сравнения истинных и предсказанных значений, на котором видно, что модель не плохо определяет конечную температуру партии. \n",
    "\n",
    "Провели анализ важности факторов у модели-победителя, как видно основными факторами является начальная температура и полная мощность всей партии. Можно сделать вывод что, управляя стартовой температурой плавления, можно управлять энергозатратами."
   ]
  }
 ],
 "metadata": {
  "ExecuteTimeLog": [
   {
    "duration": 1317,
    "start_time": "2022-08-12T20:50:34.533Z"
   },
   {
    "duration": 122,
    "start_time": "2022-08-12T20:50:35.852Z"
   },
   {
    "duration": 7,
    "start_time": "2022-08-12T20:50:35.986Z"
   },
   {
    "duration": 7,
    "start_time": "2022-08-12T20:50:36.630Z"
   },
   {
    "duration": 8,
    "start_time": "2022-08-12T20:50:37.403Z"
   },
   {
    "duration": 7,
    "start_time": "2022-08-12T20:50:37.774Z"
   },
   {
    "duration": 7,
    "start_time": "2022-08-12T20:50:38.116Z"
   },
   {
    "duration": 8,
    "start_time": "2022-08-12T20:50:38.612Z"
   },
   {
    "duration": 7,
    "start_time": "2022-08-12T20:50:38.721Z"
   },
   {
    "duration": 11,
    "start_time": "2022-08-12T20:50:38.862Z"
   },
   {
    "duration": 15,
    "start_time": "2022-08-12T20:50:39.017Z"
   },
   {
    "duration": 8,
    "start_time": "2022-08-12T20:50:39.334Z"
   },
   {
    "duration": 7,
    "start_time": "2022-08-12T20:50:39.588Z"
   },
   {
    "duration": 455,
    "start_time": "2022-08-12T20:50:46.910Z"
   },
   {
    "duration": 20,
    "start_time": "2022-08-12T20:50:47.453Z"
   },
   {
    "duration": 4,
    "start_time": "2022-08-12T20:50:48.011Z"
   },
   {
    "duration": 11,
    "start_time": "2022-08-12T20:50:48.761Z"
   },
   {
    "duration": 17,
    "start_time": "2022-08-12T20:50:49.254Z"
   },
   {
    "duration": 12,
    "start_time": "2022-08-12T20:50:49.351Z"
   },
   {
    "duration": 10,
    "start_time": "2022-08-12T20:50:49.447Z"
   },
   {
    "duration": 5,
    "start_time": "2022-08-12T20:50:49.549Z"
   },
   {
    "duration": 151,
    "start_time": "2022-08-12T20:50:49.687Z"
   },
   {
    "duration": 8789,
    "start_time": "2022-08-12T20:50:49.840Z"
   },
   {
    "duration": 25,
    "start_time": "2022-08-12T20:50:58.631Z"
   },
   {
    "duration": 4,
    "start_time": "2022-08-12T20:50:58.658Z"
   },
   {
    "duration": 42,
    "start_time": "2022-08-12T20:50:58.664Z"
   },
   {
    "duration": 395,
    "start_time": "2022-08-12T20:50:58.707Z"
   },
   {
    "duration": 36,
    "start_time": "2022-08-12T20:50:59.104Z"
   },
   {
    "duration": 4,
    "start_time": "2022-08-12T20:50:59.141Z"
   },
   {
    "duration": 13,
    "start_time": "2022-08-12T20:50:59.146Z"
   },
   {
    "duration": 5,
    "start_time": "2022-08-12T20:50:59.160Z"
   },
   {
    "duration": 16,
    "start_time": "2022-08-12T20:50:59.167Z"
   },
   {
    "duration": 134,
    "start_time": "2022-08-12T20:50:59.184Z"
   },
   {
    "duration": 145,
    "start_time": "2022-08-12T20:50:59.319Z"
   },
   {
    "duration": 15,
    "start_time": "2022-08-12T20:50:59.465Z"
   },
   {
    "duration": 4,
    "start_time": "2022-08-12T20:50:59.481Z"
   },
   {
    "duration": 7,
    "start_time": "2022-08-12T20:50:59.487Z"
   },
   {
    "duration": 128,
    "start_time": "2022-08-12T20:50:59.495Z"
   },
   {
    "duration": 19,
    "start_time": "2022-08-12T20:50:59.625Z"
   },
   {
    "duration": 15454,
    "start_time": "2022-08-12T20:50:59.645Z"
   },
   {
    "duration": 11,
    "start_time": "2022-08-12T20:51:15.102Z"
   },
   {
    "duration": 11,
    "start_time": "2022-08-12T20:51:15.115Z"
   },
   {
    "duration": 22,
    "start_time": "2022-08-12T20:51:15.127Z"
   },
   {
    "duration": 125,
    "start_time": "2022-08-12T20:51:15.150Z"
   },
   {
    "duration": 16,
    "start_time": "2022-08-12T20:51:15.276Z"
   },
   {
    "duration": 5,
    "start_time": "2022-08-12T20:51:15.294Z"
   },
   {
    "duration": 46,
    "start_time": "2022-08-12T20:51:15.300Z"
   },
   {
    "duration": 209,
    "start_time": "2022-08-12T20:51:15.347Z"
   },
   {
    "duration": 20,
    "start_time": "2022-08-12T20:51:15.557Z"
   },
   {
    "duration": 8,
    "start_time": "2022-08-12T20:51:15.579Z"
   },
   {
    "duration": 12,
    "start_time": "2022-08-12T20:51:15.589Z"
   },
   {
    "duration": 37,
    "start_time": "2022-08-12T20:51:15.602Z"
   },
   {
    "duration": 12,
    "start_time": "2022-08-12T20:51:15.641Z"
   },
   {
    "duration": 4,
    "start_time": "2022-08-12T20:51:15.654Z"
   },
   {
    "duration": 13,
    "start_time": "2022-08-12T20:51:15.660Z"
   },
   {
    "duration": 10,
    "start_time": "2022-08-12T20:51:15.674Z"
   },
   {
    "duration": 5,
    "start_time": "2022-08-12T20:51:15.686Z"
   },
   {
    "duration": 5,
    "start_time": "2022-08-12T20:51:15.694Z"
   },
   {
    "duration": 4,
    "start_time": "2022-08-12T20:51:15.913Z"
   },
   {
    "duration": 6,
    "start_time": "2022-08-12T20:51:19.541Z"
   },
   {
    "duration": 2,
    "start_time": "2022-08-12T20:51:19.767Z"
   },
   {
    "duration": 100,
    "start_time": "2022-08-12T20:51:20.062Z"
   },
   {
    "duration": 2,
    "start_time": "2022-08-12T20:51:21.190Z"
   },
   {
    "duration": 3,
    "start_time": "2022-08-12T20:51:21.375Z"
   },
   {
    "duration": 633,
    "start_time": "2022-08-12T20:51:36.852Z"
   },
   {
    "duration": 19907,
    "start_time": "2022-08-12T20:52:00.565Z"
   },
   {
    "duration": 1567,
    "start_time": "2022-08-12T20:54:46.209Z"
   },
   {
    "duration": 241148,
    "start_time": "2022-08-12T20:54:49.871Z"
   },
   {
    "duration": 17526,
    "start_time": "2022-08-12T20:59:50.221Z"
   },
   {
    "duration": 3781,
    "start_time": "2022-08-12T21:00:41.879Z"
   },
   {
    "duration": 17619,
    "start_time": "2022-08-12T21:00:53.526Z"
   },
   {
    "duration": 7293,
    "start_time": "2022-08-12T21:01:23.423Z"
   },
   {
    "duration": 700037,
    "start_time": "2022-08-12T21:01:39.304Z"
   },
   {
    "duration": 284516,
    "start_time": "2022-08-12T21:15:54.052Z"
   },
   {
    "duration": 192470,
    "start_time": "2022-08-12T21:22:35.448Z"
   },
   {
    "duration": 7145,
    "start_time": "2022-08-12T21:28:58.474Z"
   },
   {
    "duration": 7113,
    "start_time": "2022-08-12T21:29:21.659Z"
   },
   {
    "duration": 7154,
    "start_time": "2022-08-12T21:30:08.937Z"
   },
   {
    "duration": 31,
    "start_time": "2022-08-12T21:30:28.664Z"
   },
   {
    "duration": 30,
    "start_time": "2022-08-12T21:30:39.722Z"
   },
   {
    "duration": 7161,
    "start_time": "2022-08-12T21:30:46.354Z"
   },
   {
    "duration": 71,
    "start_time": "2022-08-12T21:31:06.525Z"
   },
   {
    "duration": 7178,
    "start_time": "2022-08-12T21:31:11.532Z"
   },
   {
    "duration": 7236,
    "start_time": "2022-08-12T21:31:30.362Z"
   },
   {
    "duration": 7340,
    "start_time": "2022-08-12T21:32:26.994Z"
   },
   {
    "duration": 7284,
    "start_time": "2022-08-12T21:32:43.009Z"
   },
   {
    "duration": 31,
    "start_time": "2022-08-12T21:33:32.150Z"
   },
   {
    "duration": 7281,
    "start_time": "2022-08-12T21:33:40.460Z"
   },
   {
    "duration": 7149,
    "start_time": "2022-08-12T21:33:55.992Z"
   },
   {
    "duration": 140168,
    "start_time": "2022-08-12T21:36:07.868Z"
   },
   {
    "duration": 3,
    "start_time": "2022-08-12T21:39:44.223Z"
   },
   {
    "duration": 3,
    "start_time": "2022-08-12T21:39:46.145Z"
   },
   {
    "duration": 560,
    "start_time": "2022-08-12T21:41:05.022Z"
   },
   {
    "duration": 4,
    "start_time": "2022-08-12T21:41:48.440Z"
   },
   {
    "duration": 4,
    "start_time": "2022-08-12T21:41:49.436Z"
   },
   {
    "duration": 830,
    "start_time": "2022-08-12T21:41:50.032Z"
   },
   {
    "duration": 202240,
    "start_time": "2022-08-12T21:42:56.118Z"
   },
   {
    "duration": 657,
    "start_time": "2022-08-12T21:46:34.510Z"
   },
   {
    "duration": 132755,
    "start_time": "2022-08-12T21:47:05.978Z"
   },
   {
    "duration": 1101,
    "start_time": "2022-08-12T21:49:36.759Z"
   },
   {
    "duration": 674,
    "start_time": "2022-08-12T21:50:11.834Z"
   },
   {
    "duration": 1730,
    "start_time": "2022-08-12T21:50:18.935Z"
   },
   {
    "duration": 1022,
    "start_time": "2022-08-12T21:50:25.330Z"
   },
   {
    "duration": 2572,
    "start_time": "2022-08-12T21:50:31.497Z"
   },
   {
    "duration": 1656,
    "start_time": "2022-08-12T21:51:01.606Z"
   },
   {
    "duration": 2007,
    "start_time": "2022-08-12T21:51:07.533Z"
   },
   {
    "duration": 657185,
    "start_time": "2022-08-12T21:52:18.278Z"
   },
   {
    "duration": 1417,
    "start_time": "2022-08-12T22:04:40.672Z"
   },
   {
    "duration": 1503,
    "start_time": "2022-08-12T22:07:03.084Z"
   },
   {
    "duration": 62140,
    "start_time": "2022-08-12T22:08:57.295Z"
   },
   {
    "duration": 132648,
    "start_time": "2022-08-12T22:11:09.517Z"
   },
   {
    "duration": 61837,
    "start_time": "2022-08-12T22:14:34.590Z"
   },
   {
    "duration": 93521,
    "start_time": "2022-08-12T22:16:53.470Z"
   },
   {
    "duration": 93709,
    "start_time": "2022-08-12T22:18:26.992Z"
   },
   {
    "duration": 52405,
    "start_time": "2022-08-12T22:20:00.703Z"
   },
   {
    "duration": 24215,
    "start_time": "2022-08-12T22:22:18.092Z"
   },
   {
    "duration": 73029,
    "start_time": "2022-08-12T22:22:52.133Z"
   },
   {
    "duration": 159224,
    "start_time": "2022-08-12T22:25:35.145Z"
   },
   {
    "duration": 291343,
    "start_time": "2022-08-12T22:29:12.823Z"
   },
   {
    "duration": 248802,
    "start_time": "2022-08-12T22:35:52.179Z"
   },
   {
    "duration": 124510,
    "start_time": "2022-08-12T22:41:25.196Z"
   },
   {
    "duration": 77233,
    "start_time": "2022-08-12T22:44:06.260Z"
   },
   {
    "duration": 112577,
    "start_time": "2022-08-12T22:46:11.290Z"
   },
   {
    "duration": 110870,
    "start_time": "2022-08-12T22:50:36.681Z"
   },
   {
    "duration": 3,
    "start_time": "2022-08-12T22:52:27.552Z"
   },
   {
    "duration": 84045,
    "start_time": "2022-08-12T22:55:24.994Z"
   },
   {
    "duration": 82564,
    "start_time": "2022-08-12T22:57:17.181Z"
   },
   {
    "duration": 702491,
    "start_time": "2022-08-12T23:00:07.354Z"
   },
   {
    "duration": 9,
    "start_time": "2022-08-12T23:11:49.847Z"
   },
   {
    "duration": 3618,
    "start_time": "2022-08-12T23:13:04.224Z"
   },
   {
    "duration": 85,
    "start_time": "2022-08-12T23:15:17.066Z"
   },
   {
    "duration": 122615,
    "start_time": "2022-08-12T23:21:53.139Z"
   },
   {
    "duration": 3,
    "start_time": "2022-08-12T23:26:52.393Z"
   },
   {
    "duration": 3,
    "start_time": "2022-08-12T23:26:52.760Z"
   },
   {
    "duration": 250,
    "start_time": "2022-08-12T23:26:53.519Z"
   },
   {
    "duration": 270,
    "start_time": "2022-08-12T23:27:06.490Z"
   },
   {
    "duration": 3,
    "start_time": "2022-08-12T23:27:21.803Z"
   },
   {
    "duration": 235,
    "start_time": "2022-08-12T23:27:22.751Z"
   },
   {
    "duration": 4742,
    "start_time": "2022-08-12T23:27:32.013Z"
   },
   {
    "duration": 1642,
    "start_time": "2022-08-12T23:27:36.757Z"
   },
   {
    "duration": 166,
    "start_time": "2022-08-12T23:28:30.676Z"
   },
   {
    "duration": 106,
    "start_time": "2022-08-12T23:29:02.435Z"
   },
   {
    "duration": 3,
    "start_time": "2022-08-12T23:29:23.897Z"
   },
   {
    "duration": 238,
    "start_time": "2022-08-12T23:29:26.803Z"
   },
   {
    "duration": 3,
    "start_time": "2022-08-12T23:29:29.856Z"
   },
   {
    "duration": 236,
    "start_time": "2022-08-12T23:29:31.185Z"
   },
   {
    "duration": 4818,
    "start_time": "2022-08-12T23:29:35.938Z"
   },
   {
    "duration": 1482,
    "start_time": "2022-08-12T23:29:40.758Z"
   },
   {
    "duration": 350,
    "start_time": "2022-08-12T23:30:10.690Z"
   },
   {
    "duration": 16,
    "start_time": "2022-08-12T23:30:14.105Z"
   },
   {
    "duration": 4,
    "start_time": "2022-08-13T06:41:15.281Z"
   },
   {
    "duration": 1378,
    "start_time": "2022-08-13T06:41:42.406Z"
   },
   {
    "duration": 198,
    "start_time": "2022-08-13T06:41:48.186Z"
   },
   {
    "duration": 21,
    "start_time": "2022-08-13T06:41:49.895Z"
   },
   {
    "duration": 4,
    "start_time": "2022-08-13T06:41:50.556Z"
   },
   {
    "duration": 11,
    "start_time": "2022-08-13T06:41:51.298Z"
   },
   {
    "duration": 17,
    "start_time": "2022-08-13T06:41:51.712Z"
   },
   {
    "duration": 13,
    "start_time": "2022-08-13T06:41:52.060Z"
   },
   {
    "duration": 10,
    "start_time": "2022-08-13T06:41:52.412Z"
   },
   {
    "duration": 5,
    "start_time": "2022-08-13T06:41:52.792Z"
   },
   {
    "duration": 171,
    "start_time": "2022-08-13T06:41:53.359Z"
   },
   {
    "duration": 8868,
    "start_time": "2022-08-13T06:41:53.905Z"
   },
   {
    "duration": 19,
    "start_time": "2022-08-13T06:42:02.775Z"
   },
   {
    "duration": 8,
    "start_time": "2022-08-13T06:42:02.796Z"
   },
   {
    "duration": 55,
    "start_time": "2022-08-13T06:42:02.806Z"
   },
   {
    "duration": 277,
    "start_time": "2022-08-13T06:42:02.862Z"
   },
   {
    "duration": 21,
    "start_time": "2022-08-13T06:43:00.700Z"
   },
   {
    "duration": 5,
    "start_time": "2022-08-13T06:43:01.294Z"
   },
   {
    "duration": 12,
    "start_time": "2022-08-13T06:43:01.814Z"
   },
   {
    "duration": 4,
    "start_time": "2022-08-13T06:43:02.344Z"
   },
   {
    "duration": 11,
    "start_time": "2022-08-13T06:43:02.702Z"
   },
   {
    "duration": 109,
    "start_time": "2022-08-13T06:43:03.253Z"
   },
   {
    "duration": 137,
    "start_time": "2022-08-13T06:43:03.577Z"
   },
   {
    "duration": 16,
    "start_time": "2022-08-13T06:43:04.140Z"
   },
   {
    "duration": 4,
    "start_time": "2022-08-13T06:43:04.705Z"
   },
   {
    "duration": 9,
    "start_time": "2022-08-13T06:43:05.241Z"
   },
   {
    "duration": 107,
    "start_time": "2022-08-13T06:43:05.769Z"
   },
   {
    "duration": 14,
    "start_time": "2022-08-13T06:43:06.352Z"
   },
   {
    "duration": 15306,
    "start_time": "2022-08-13T06:43:06.710Z"
   },
   {
    "duration": 20,
    "start_time": "2022-08-13T06:43:22.018Z"
   },
   {
    "duration": 8,
    "start_time": "2022-08-13T06:43:22.039Z"
   },
   {
    "duration": 13,
    "start_time": "2022-08-13T06:43:22.049Z"
   },
   {
    "duration": 125,
    "start_time": "2022-08-13T06:43:22.064Z"
   },
   {
    "duration": 16,
    "start_time": "2022-08-13T06:43:22.190Z"
   },
   {
    "duration": 9,
    "start_time": "2022-08-13T06:43:22.207Z"
   },
   {
    "duration": 41,
    "start_time": "2022-08-13T06:43:22.217Z"
   },
   {
    "duration": 224,
    "start_time": "2022-08-13T06:43:22.259Z"
   },
   {
    "duration": 17,
    "start_time": "2022-08-13T06:43:49.449Z"
   },
   {
    "duration": 4,
    "start_time": "2022-08-13T06:43:50.272Z"
   },
   {
    "duration": 10,
    "start_time": "2022-08-13T06:43:52.081Z"
   },
   {
    "duration": 20,
    "start_time": "2022-08-13T06:43:52.347Z"
   },
   {
    "duration": 10,
    "start_time": "2022-08-13T06:43:52.762Z"
   },
   {
    "duration": 4,
    "start_time": "2022-08-13T06:43:54.445Z"
   },
   {
    "duration": 9,
    "start_time": "2022-08-13T06:43:54.678Z"
   },
   {
    "duration": 10,
    "start_time": "2022-08-13T06:43:55.363Z"
   },
   {
    "duration": 9,
    "start_time": "2022-08-13T06:46:34.165Z"
   },
   {
    "duration": 103,
    "start_time": "2022-08-13T06:46:45.662Z"
   },
   {
    "duration": 4,
    "start_time": "2022-08-13T06:47:00.033Z"
   },
   {
    "duration": 12,
    "start_time": "2022-08-13T06:47:14.956Z"
   },
   {
    "duration": 4,
    "start_time": "2022-08-13T07:02:12.301Z"
   },
   {
    "duration": 10,
    "start_time": "2022-08-13T07:02:25.890Z"
   },
   {
    "duration": 11,
    "start_time": "2022-08-13T07:02:31.546Z"
   },
   {
    "duration": 9,
    "start_time": "2022-08-13T07:03:56.979Z"
   },
   {
    "duration": 3,
    "start_time": "2022-08-13T07:04:08.839Z"
   },
   {
    "duration": 3,
    "start_time": "2022-08-13T07:04:12.287Z"
   },
   {
    "duration": 15,
    "start_time": "2022-08-13T07:04:21.464Z"
   },
   {
    "duration": 4,
    "start_time": "2022-08-13T07:04:32.765Z"
   },
   {
    "duration": 4,
    "start_time": "2022-08-13T07:04:47.111Z"
   },
   {
    "duration": 11,
    "start_time": "2022-08-13T07:06:05.877Z"
   },
   {
    "duration": 3,
    "start_time": "2022-08-13T07:06:42.588Z"
   },
   {
    "duration": 4,
    "start_time": "2022-08-13T07:06:47.977Z"
   },
   {
    "duration": 10,
    "start_time": "2022-08-13T07:07:07.159Z"
   },
   {
    "duration": 10,
    "start_time": "2022-08-13T07:08:53.758Z"
   },
   {
    "duration": 11,
    "start_time": "2022-08-13T07:08:56.675Z"
   },
   {
    "duration": 2,
    "start_time": "2022-08-13T07:09:04.590Z"
   },
   {
    "duration": 4,
    "start_time": "2022-08-13T07:11:00.931Z"
   },
   {
    "duration": 3,
    "start_time": "2022-08-13T07:11:05.940Z"
   },
   {
    "duration": 9,
    "start_time": "2022-08-13T07:54:40.441Z"
   },
   {
    "duration": 4,
    "start_time": "2022-08-13T07:55:38.797Z"
   },
   {
    "duration": 4,
    "start_time": "2022-08-13T08:15:58.629Z"
   },
   {
    "duration": 4,
    "start_time": "2022-08-13T08:16:09.763Z"
   },
   {
    "duration": 10,
    "start_time": "2022-08-13T08:17:04.239Z"
   },
   {
    "duration": 11,
    "start_time": "2022-08-13T08:17:13.778Z"
   },
   {
    "duration": 4,
    "start_time": "2022-08-13T08:17:18.397Z"
   },
   {
    "duration": 9,
    "start_time": "2022-08-13T08:17:34.708Z"
   },
   {
    "duration": 176,
    "start_time": "2022-08-13T08:18:23.981Z"
   },
   {
    "duration": 83,
    "start_time": "2022-08-13T08:18:29.725Z"
   },
   {
    "duration": 4,
    "start_time": "2022-08-13T08:19:01.702Z"
   },
   {
    "duration": 9,
    "start_time": "2022-08-13T08:19:16.696Z"
   },
   {
    "duration": 4,
    "start_time": "2022-08-13T08:19:19.425Z"
   },
   {
    "duration": 9,
    "start_time": "2022-08-13T08:20:04.178Z"
   },
   {
    "duration": 4,
    "start_time": "2022-08-13T08:20:12.442Z"
   },
   {
    "duration": 9,
    "start_time": "2022-08-13T08:20:17.264Z"
   },
   {
    "duration": 5,
    "start_time": "2022-08-13T08:20:36.430Z"
   },
   {
    "duration": 7,
    "start_time": "2022-08-13T08:20:47.924Z"
   },
   {
    "duration": 8,
    "start_time": "2022-08-13T08:26:17.273Z"
   },
   {
    "duration": 5,
    "start_time": "2022-08-13T08:26:25.915Z"
   },
   {
    "duration": 8,
    "start_time": "2022-08-13T08:26:40.622Z"
   },
   {
    "duration": 819,
    "start_time": "2022-08-13T08:26:52.563Z"
   },
   {
    "duration": 841,
    "start_time": "2022-08-13T08:26:55.669Z"
   },
   {
    "duration": 6,
    "start_time": "2022-08-13T08:27:03.605Z"
   },
   {
    "duration": 212,
    "start_time": "2022-08-13T08:27:42.277Z"
   },
   {
    "duration": 3,
    "start_time": "2022-08-13T08:27:56.232Z"
   },
   {
    "duration": 3,
    "start_time": "2022-08-13T08:28:00.265Z"
   },
   {
    "duration": 89,
    "start_time": "2022-08-13T08:28:00.684Z"
   },
   {
    "duration": 3,
    "start_time": "2022-08-13T08:28:05.677Z"
   },
   {
    "duration": 82,
    "start_time": "2022-08-13T08:28:06.045Z"
   },
   {
    "duration": 3,
    "start_time": "2022-08-13T08:29:02.641Z"
   },
   {
    "duration": 5,
    "start_time": "2022-08-13T08:29:03.432Z"
   },
   {
    "duration": 3,
    "start_time": "2022-08-13T08:29:03.986Z"
   },
   {
    "duration": 7543,
    "start_time": "2022-08-13T08:29:05.660Z"
   },
   {
    "duration": 409300,
    "start_time": "2022-08-13T08:29:18.627Z"
   },
   {
    "duration": 263829,
    "start_time": "2022-08-13T08:36:07.930Z"
   },
   {
    "duration": 119091,
    "start_time": "2022-08-13T08:40:31.763Z"
   },
   {
    "duration": 99,
    "start_time": "2022-08-13T08:42:30.856Z"
   },
   {
    "duration": 34,
    "start_time": "2022-08-13T08:44:07.574Z"
   },
   {
    "duration": 5464,
    "start_time": "2022-08-13T08:44:43.973Z"
   },
   {
    "duration": 711,
    "start_time": "2022-08-13T08:47:57.231Z"
   },
   {
    "duration": 5730,
    "start_time": "2022-08-13T08:48:05.112Z"
   },
   {
    "duration": 28,
    "start_time": "2022-08-13T08:49:45.187Z"
   },
   {
    "duration": 1263,
    "start_time": "2022-08-13T08:49:59.077Z"
   },
   {
    "duration": 5612,
    "start_time": "2022-08-13T08:50:09.228Z"
   },
   {
    "duration": 3,
    "start_time": "2022-08-13T08:50:24.817Z"
   },
   {
    "duration": 3,
    "start_time": "2022-08-13T08:50:25.191Z"
   },
   {
    "duration": 237,
    "start_time": "2022-08-13T08:50:25.586Z"
   },
   {
    "duration": 4800,
    "start_time": "2022-08-13T08:50:26.097Z"
   },
   {
    "duration": 1479,
    "start_time": "2022-08-13T08:50:30.899Z"
   },
   {
    "duration": 361,
    "start_time": "2022-08-13T08:50:32.380Z"
   },
   {
    "duration": 96,
    "start_time": "2022-08-13T08:50:32.743Z"
   },
   {
    "duration": 31,
    "start_time": "2022-08-13T08:51:12.912Z"
   },
   {
    "duration": 10,
    "start_time": "2022-08-13T08:51:26.330Z"
   },
   {
    "duration": 4767,
    "start_time": "2022-08-13T08:51:57.581Z"
   },
   {
    "duration": 304,
    "start_time": "2022-08-13T08:52:10.037Z"
   },
   {
    "duration": 3,
    "start_time": "2022-08-13T08:53:10.815Z"
   },
   {
    "duration": 3,
    "start_time": "2022-08-13T08:53:11.005Z"
   },
   {
    "duration": 243,
    "start_time": "2022-08-13T08:53:11.188Z"
   },
   {
    "duration": 4870,
    "start_time": "2022-08-13T08:53:11.433Z"
   },
   {
    "duration": 1579,
    "start_time": "2022-08-13T08:53:16.305Z"
   },
   {
    "duration": 564,
    "start_time": "2022-08-13T08:53:17.885Z"
   },
   {
    "duration": 190,
    "start_time": "2022-08-13T08:53:18.450Z"
   },
   {
    "duration": 217,
    "start_time": "2022-08-13T08:53:18.642Z"
   },
   {
    "duration": 4,
    "start_time": "2022-08-13T08:54:21.148Z"
   },
   {
    "duration": 38,
    "start_time": "2022-08-13T08:54:21.951Z"
   },
   {
    "duration": 7310,
    "start_time": "2022-08-13T08:58:26.803Z"
   },
   {
    "duration": 7183,
    "start_time": "2022-08-13T08:58:51.837Z"
   },
   {
    "duration": 10,
    "start_time": "2022-08-13T08:59:25.768Z"
   },
   {
    "duration": 5,
    "start_time": "2022-08-13T09:00:02.250Z"
   },
   {
    "duration": 7321,
    "start_time": "2022-08-13T09:23:36.179Z"
   },
   {
    "duration": 413121,
    "start_time": "2022-08-13T09:24:06.182Z"
   },
   {
    "duration": 251120,
    "start_time": "2022-08-13T09:30:59.305Z"
   },
   {
    "duration": 134321,
    "start_time": "2022-08-13T09:35:10.426Z"
   },
   {
    "duration": 112,
    "start_time": "2022-08-13T09:37:30.640Z"
   },
   {
    "duration": 6391,
    "start_time": "2022-08-13T09:37:30.753Z"
   },
   {
    "duration": 94,
    "start_time": "2022-08-13T09:37:37.146Z"
   },
   {
    "duration": 102,
    "start_time": "2022-08-13T09:37:37.243Z"
   },
   {
    "duration": 239,
    "start_time": "2022-08-13T09:37:37.347Z"
   },
   {
    "duration": 4888,
    "start_time": "2022-08-13T09:37:37.588Z"
   },
   {
    "duration": 1551,
    "start_time": "2022-08-13T09:37:42.478Z"
   },
   {
    "duration": 417,
    "start_time": "2022-08-13T09:37:44.031Z"
   },
   {
    "duration": 189,
    "start_time": "2022-08-13T09:37:44.450Z"
   },
   {
    "duration": 205,
    "start_time": "2022-08-13T09:37:44.641Z"
   },
   {
    "duration": 4,
    "start_time": "2022-08-13T09:37:44.848Z"
   },
   {
    "duration": 89,
    "start_time": "2022-08-13T09:37:44.853Z"
   },
   {
    "duration": 17,
    "start_time": "2022-08-13T09:37:44.944Z"
   },
   {
    "duration": 9,
    "start_time": "2022-08-13T09:38:18.313Z"
   },
   {
    "duration": 11,
    "start_time": "2022-08-13T09:39:25.364Z"
   },
   {
    "duration": 20,
    "start_time": "2022-08-13T09:39:27.336Z"
   },
   {
    "duration": 11,
    "start_time": "2022-08-13T09:39:29.843Z"
   },
   {
    "duration": 10,
    "start_time": "2022-08-13T09:39:35.337Z"
   },
   {
    "duration": 10,
    "start_time": "2022-08-13T09:39:50.493Z"
   },
   {
    "duration": 3,
    "start_time": "2022-08-13T09:39:53.536Z"
   },
   {
    "duration": 5,
    "start_time": "2022-08-13T09:39:55.965Z"
   },
   {
    "duration": 4,
    "start_time": "2022-08-13T09:39:58.240Z"
   },
   {
    "duration": 273,
    "start_time": "2022-08-13T09:40:16.056Z"
   },
   {
    "duration": 510,
    "start_time": "2022-08-13T09:40:16.626Z"
   },
   {
    "duration": 116033,
    "start_time": "2022-08-13T09:40:17.138Z"
   },
   {
    "duration": 1135,
    "start_time": "2022-08-13T09:42:13.173Z"
   },
   {
    "duration": 47,
    "start_time": "2022-08-13T09:42:14.310Z"
   },
   {
    "duration": 422,
    "start_time": "2022-08-13T09:42:14.359Z"
   },
   {
    "duration": 4,
    "start_time": "2022-08-13T09:42:40.555Z"
   },
   {
    "duration": 11,
    "start_time": "2022-08-13T09:42:42.809Z"
   },
   {
    "duration": 11,
    "start_time": "2022-08-13T09:42:51.014Z"
   },
   {
    "duration": 4,
    "start_time": "2022-08-13T09:42:52.528Z"
   },
   {
    "duration": 5,
    "start_time": "2022-08-13T09:42:53.501Z"
   },
   {
    "duration": 4,
    "start_time": "2022-08-13T09:42:53.995Z"
   },
   {
    "duration": 8300,
    "start_time": "2022-08-13T09:42:58.666Z"
   },
   {
    "duration": 437745,
    "start_time": "2022-08-13T09:43:09.594Z"
   },
   {
    "duration": 119573,
    "start_time": "2022-08-13T09:50:27.342Z"
   },
   {
    "duration": 9406,
    "start_time": "2022-08-13T09:52:26.916Z"
   },
   {
    "duration": 317,
    "start_time": "2022-08-13T09:52:36.324Z"
   },
   {
    "duration": 8202,
    "start_time": "2022-08-13T09:52:36.643Z"
   },
   {
    "duration": 6871,
    "start_time": "2022-08-13T09:52:54.358Z"
   },
   {
    "duration": 1257,
    "start_time": "2022-08-13T09:53:16.978Z"
   },
   {
    "duration": 185,
    "start_time": "2022-08-13T09:53:18.237Z"
   },
   {
    "duration": 20,
    "start_time": "2022-08-13T09:53:18.424Z"
   },
   {
    "duration": 4,
    "start_time": "2022-08-13T09:53:18.446Z"
   },
   {
    "duration": 11,
    "start_time": "2022-08-13T09:53:19.108Z"
   },
   {
    "duration": 17,
    "start_time": "2022-08-13T09:53:19.454Z"
   },
   {
    "duration": 12,
    "start_time": "2022-08-13T09:53:19.794Z"
   },
   {
    "duration": 11,
    "start_time": "2022-08-13T09:53:20.154Z"
   },
   {
    "duration": 5,
    "start_time": "2022-08-13T09:53:20.493Z"
   },
   {
    "duration": 154,
    "start_time": "2022-08-13T09:53:21.041Z"
   },
   {
    "duration": 9055,
    "start_time": "2022-08-13T09:53:21.582Z"
   },
   {
    "duration": 20,
    "start_time": "2022-08-13T09:53:30.639Z"
   },
   {
    "duration": 12,
    "start_time": "2022-08-13T09:53:30.661Z"
   },
   {
    "duration": 70,
    "start_time": "2022-08-13T09:53:30.675Z"
   },
   {
    "duration": 294,
    "start_time": "2022-08-13T09:53:30.746Z"
   },
   {
    "duration": 22,
    "start_time": "2022-08-13T09:53:31.041Z"
   },
   {
    "duration": 17,
    "start_time": "2022-08-13T09:53:31.065Z"
   },
   {
    "duration": 18,
    "start_time": "2022-08-13T09:53:31.084Z"
   },
   {
    "duration": 17,
    "start_time": "2022-08-13T09:53:31.103Z"
   },
   {
    "duration": 25,
    "start_time": "2022-08-13T09:53:31.122Z"
   },
   {
    "duration": 122,
    "start_time": "2022-08-13T09:53:31.148Z"
   },
   {
    "duration": 160,
    "start_time": "2022-08-13T09:53:31.271Z"
   },
   {
    "duration": 17,
    "start_time": "2022-08-13T09:53:31.433Z"
   },
   {
    "duration": 8,
    "start_time": "2022-08-13T09:53:31.451Z"
   },
   {
    "duration": 25,
    "start_time": "2022-08-13T09:53:31.460Z"
   },
   {
    "duration": 113,
    "start_time": "2022-08-13T09:53:31.487Z"
   },
   {
    "duration": 14,
    "start_time": "2022-08-13T09:53:31.602Z"
   },
   {
    "duration": 16079,
    "start_time": "2022-08-13T09:53:31.618Z"
   },
   {
    "duration": 16,
    "start_time": "2022-08-13T09:53:47.699Z"
   },
   {
    "duration": 30,
    "start_time": "2022-08-13T09:53:47.718Z"
   },
   {
    "duration": 13,
    "start_time": "2022-08-13T09:53:47.750Z"
   },
   {
    "duration": 134,
    "start_time": "2022-08-13T09:53:47.765Z"
   },
   {
    "duration": 17,
    "start_time": "2022-08-13T09:53:47.901Z"
   },
   {
    "duration": 18,
    "start_time": "2022-08-13T09:53:47.920Z"
   },
   {
    "duration": 30,
    "start_time": "2022-08-13T09:53:47.939Z"
   },
   {
    "duration": 232,
    "start_time": "2022-08-13T09:53:47.970Z"
   },
   {
    "duration": 19,
    "start_time": "2022-08-13T09:53:48.204Z"
   },
   {
    "duration": 16,
    "start_time": "2022-08-13T09:53:48.225Z"
   },
   {
    "duration": 14,
    "start_time": "2022-08-13T09:53:48.243Z"
   },
   {
    "duration": 19,
    "start_time": "2022-08-13T09:53:48.259Z"
   },
   {
    "duration": 10,
    "start_time": "2022-08-13T09:53:48.501Z"
   },
   {
    "duration": 4,
    "start_time": "2022-08-13T09:54:01.211Z"
   },
   {
    "duration": 10,
    "start_time": "2022-08-13T09:54:01.837Z"
   },
   {
    "duration": 14,
    "start_time": "2022-08-13T09:54:06.123Z"
   },
   {
    "duration": 4,
    "start_time": "2022-08-13T09:54:08.619Z"
   },
   {
    "duration": 6,
    "start_time": "2022-08-13T09:54:09.643Z"
   },
   {
    "duration": 4,
    "start_time": "2022-08-13T09:54:11.614Z"
   },
   {
    "duration": 8221,
    "start_time": "2022-08-13T09:54:15.114Z"
   },
   {
    "duration": 435591,
    "start_time": "2022-08-13T09:54:23.338Z"
   },
   {
    "duration": 262160,
    "start_time": "2022-08-13T10:01:38.931Z"
   },
   {
    "duration": 117660,
    "start_time": "2022-08-13T10:06:01.095Z"
   },
   {
    "duration": 883,
    "start_time": "2022-08-13T10:07:58.757Z"
   },
   {
    "duration": 7298,
    "start_time": "2022-08-13T10:07:59.645Z"
   },
   {
    "duration": 4,
    "start_time": "2022-08-13T10:08:07.037Z"
   },
   {
    "duration": 7,
    "start_time": "2022-08-13T10:08:07.042Z"
   },
   {
    "duration": 281,
    "start_time": "2022-08-13T10:08:07.050Z"
   },
   {
    "duration": 5182,
    "start_time": "2022-08-13T10:08:07.339Z"
   },
   {
    "duration": 1606,
    "start_time": "2022-08-13T10:08:12.522Z"
   },
   {
    "duration": 321,
    "start_time": "2022-08-13T10:08:14.130Z"
   },
   {
    "duration": 96,
    "start_time": "2022-08-13T10:08:14.452Z"
   },
   {
    "duration": 305,
    "start_time": "2022-08-13T10:08:14.639Z"
   },
   {
    "duration": 4,
    "start_time": "2022-08-13T11:10:21.861Z"
   },
   {
    "duration": 38,
    "start_time": "2022-08-13T11:10:22.108Z"
   },
   {
    "duration": 4,
    "start_time": "2022-08-13T11:10:30.842Z"
   },
   {
    "duration": 3,
    "start_time": "2022-08-13T11:10:31.456Z"
   },
   {
    "duration": 304,
    "start_time": "2022-08-13T11:10:31.630Z"
   },
   {
    "duration": 4014,
    "start_time": "2022-08-13T11:10:31.937Z"
   },
   {
    "duration": 1901,
    "start_time": "2022-08-13T11:10:35.953Z"
   },
   {
    "duration": 296,
    "start_time": "2022-08-13T11:10:37.855Z"
   },
   {
    "duration": 194,
    "start_time": "2022-08-13T11:10:38.152Z"
   },
   {
    "duration": 104,
    "start_time": "2022-08-13T11:10:38.349Z"
   },
   {
    "duration": 100,
    "start_time": "2022-08-13T11:10:38.540Z"
   },
   {
    "duration": 16,
    "start_time": "2022-08-13T11:10:38.642Z"
   },
   {
    "duration": 100,
    "start_time": "2022-08-13T11:10:52.311Z"
   },
   {
    "duration": 10,
    "start_time": "2022-08-13T11:11:17.505Z"
   },
   {
    "duration": 10,
    "start_time": "2022-08-13T11:11:30.777Z"
   },
   {
    "duration": 13,
    "start_time": "2022-08-13T11:11:47.937Z"
   },
   {
    "duration": 4,
    "start_time": "2022-08-13T11:12:05.813Z"
   },
   {
    "duration": 3,
    "start_time": "2022-08-13T11:12:16.346Z"
   },
   {
    "duration": 8323,
    "start_time": "2022-08-13T11:13:15.410Z"
   },
   {
    "duration": 8653,
    "start_time": "2022-08-13T11:13:38.819Z"
   },
   {
    "duration": 9,
    "start_time": "2022-08-13T11:13:47.474Z"
   },
   {
    "duration": 3,
    "start_time": "2022-08-13T11:14:29.492Z"
   },
   {
    "duration": 8174,
    "start_time": "2022-08-13T11:15:31.300Z"
   },
   {
    "duration": 4,
    "start_time": "2022-08-13T11:15:44.671Z"
   },
   {
    "duration": 4,
    "start_time": "2022-08-13T11:15:47.568Z"
   },
   {
    "duration": 9,
    "start_time": "2022-08-13T11:16:01.649Z"
   },
   {
    "duration": 26,
    "start_time": "2022-08-13T11:16:48.824Z"
   },
   {
    "duration": 8278,
    "start_time": "2022-08-13T11:17:12.620Z"
   },
   {
    "duration": 112,
    "start_time": "2022-08-13T11:17:45.463Z"
   },
   {
    "duration": 8,
    "start_time": "2022-08-13T11:18:07.138Z"
   },
   {
    "duration": 297,
    "start_time": "2022-08-13T11:18:37.865Z"
   },
   {
    "duration": 125,
    "start_time": "2022-08-13T11:18:50.943Z"
   },
   {
    "duration": 3,
    "start_time": "2022-08-13T11:18:53.629Z"
   },
   {
    "duration": 11,
    "start_time": "2022-08-13T11:18:54.356Z"
   },
   {
    "duration": 7,
    "start_time": "2022-08-13T11:19:10.110Z"
   },
   {
    "duration": 292,
    "start_time": "2022-08-13T11:19:24.449Z"
   },
   {
    "duration": 7,
    "start_time": "2022-08-13T11:19:24.860Z"
   },
   {
    "duration": 3,
    "start_time": "2022-08-13T11:19:32.110Z"
   },
   {
    "duration": 3,
    "start_time": "2022-08-13T11:19:32.487Z"
   },
   {
    "duration": 299,
    "start_time": "2022-08-13T11:19:33.009Z"
   },
   {
    "duration": 7,
    "start_time": "2022-08-13T11:19:33.914Z"
   },
   {
    "duration": 4104,
    "start_time": "2022-08-13T11:19:35.890Z"
   },
   {
    "duration": 1395,
    "start_time": "2022-08-13T11:19:39.996Z"
   },
   {
    "duration": 91476,
    "start_time": "2022-08-13T11:19:41.393Z"
   },
   {
    "duration": 273,
    "start_time": "2022-08-13T11:21:12.871Z"
   },
   {
    "duration": 96,
    "start_time": "2022-08-13T11:21:13.146Z"
   },
   {
    "duration": 99,
    "start_time": "2022-08-13T11:21:13.244Z"
   },
   {
    "duration": 11,
    "start_time": "2022-08-13T11:21:13.344Z"
   },
   {
    "duration": 7,
    "start_time": "2022-08-13T11:21:13.357Z"
   },
   {
    "duration": 13,
    "start_time": "2022-08-13T11:21:13.365Z"
   },
   {
    "duration": 1337,
    "start_time": "2022-08-13T11:21:49.113Z"
   },
   {
    "duration": 193,
    "start_time": "2022-08-13T11:21:50.451Z"
   },
   {
    "duration": 20,
    "start_time": "2022-08-13T11:21:50.645Z"
   },
   {
    "duration": 3,
    "start_time": "2022-08-13T11:21:50.667Z"
   },
   {
    "duration": 14,
    "start_time": "2022-08-13T11:21:50.672Z"
   },
   {
    "duration": 20,
    "start_time": "2022-08-13T11:21:50.687Z"
   },
   {
    "duration": 29,
    "start_time": "2022-08-13T11:21:50.709Z"
   },
   {
    "duration": 9,
    "start_time": "2022-08-13T11:21:50.740Z"
   },
   {
    "duration": 6,
    "start_time": "2022-08-13T11:21:50.751Z"
   },
   {
    "duration": 160,
    "start_time": "2022-08-13T11:21:50.758Z"
   },
   {
    "duration": 8832,
    "start_time": "2022-08-13T11:21:50.919Z"
   },
   {
    "duration": 20,
    "start_time": "2022-08-13T11:21:59.753Z"
   },
   {
    "duration": 8,
    "start_time": "2022-08-13T11:21:59.774Z"
   },
   {
    "duration": 57,
    "start_time": "2022-08-13T11:21:59.784Z"
   },
   {
    "duration": 281,
    "start_time": "2022-08-13T11:21:59.843Z"
   },
   {
    "duration": 27,
    "start_time": "2022-08-13T11:22:00.125Z"
   },
   {
    "duration": 49,
    "start_time": "2022-08-13T11:22:00.154Z"
   },
   {
    "duration": 28,
    "start_time": "2022-08-13T11:22:00.205Z"
   },
   {
    "duration": 11,
    "start_time": "2022-08-13T11:22:00.234Z"
   },
   {
    "duration": 29,
    "start_time": "2022-08-13T11:22:00.246Z"
   },
   {
    "duration": 125,
    "start_time": "2022-08-13T11:22:00.277Z"
   },
   {
    "duration": 144,
    "start_time": "2022-08-13T11:22:00.404Z"
   },
   {
    "duration": 15,
    "start_time": "2022-08-13T11:22:00.549Z"
   },
   {
    "duration": 50,
    "start_time": "2022-08-13T11:22:00.566Z"
   },
   {
    "duration": 25,
    "start_time": "2022-08-13T11:22:00.617Z"
   },
   {
    "duration": 124,
    "start_time": "2022-08-13T11:22:00.644Z"
   },
   {
    "duration": 14,
    "start_time": "2022-08-13T11:22:00.769Z"
   },
   {
    "duration": 15383,
    "start_time": "2022-08-13T11:22:00.784Z"
   },
   {
    "duration": 15,
    "start_time": "2022-08-13T11:22:16.169Z"
   },
   {
    "duration": 13,
    "start_time": "2022-08-13T11:22:16.185Z"
   },
   {
    "duration": 15,
    "start_time": "2022-08-13T11:22:16.199Z"
   },
   {
    "duration": 142,
    "start_time": "2022-08-13T11:22:16.215Z"
   },
   {
    "duration": 17,
    "start_time": "2022-08-13T11:22:16.359Z"
   },
   {
    "duration": 7,
    "start_time": "2022-08-13T11:22:16.377Z"
   },
   {
    "duration": 54,
    "start_time": "2022-08-13T11:22:16.385Z"
   },
   {
    "duration": 223,
    "start_time": "2022-08-13T11:22:16.440Z"
   },
   {
    "duration": 16,
    "start_time": "2022-08-13T11:22:16.665Z"
   },
   {
    "duration": 6,
    "start_time": "2022-08-13T11:22:16.683Z"
   },
   {
    "duration": 13,
    "start_time": "2022-08-13T11:22:16.690Z"
   },
   {
    "duration": 41,
    "start_time": "2022-08-13T11:22:16.704Z"
   },
   {
    "duration": 9,
    "start_time": "2022-08-13T11:22:16.749Z"
   },
   {
    "duration": 3,
    "start_time": "2022-08-13T11:22:16.759Z"
   },
   {
    "duration": 13,
    "start_time": "2022-08-13T11:22:16.764Z"
   },
   {
    "duration": 8,
    "start_time": "2022-08-13T11:22:16.778Z"
   },
   {
    "duration": 2,
    "start_time": "2022-08-13T11:22:16.788Z"
   },
   {
    "duration": 9,
    "start_time": "2022-08-13T11:22:16.792Z"
   },
   {
    "duration": 37,
    "start_time": "2022-08-13T11:22:16.802Z"
   },
   {
    "duration": 7217,
    "start_time": "2022-08-13T11:23:25.451Z"
   },
   {
    "duration": 2,
    "start_time": "2022-08-13T11:23:43.782Z"
   },
   {
    "duration": 7233,
    "start_time": "2022-08-13T11:24:06.223Z"
   },
   {
    "duration": 412727,
    "start_time": "2022-08-13T11:24:43.449Z"
   },
   {
    "duration": 253364,
    "start_time": "2022-08-13T11:31:36.178Z"
   },
   {
    "duration": 118904,
    "start_time": "2022-08-13T11:35:49.543Z"
   },
   {
    "duration": 189,
    "start_time": "2022-08-13T11:37:48.449Z"
   },
   {
    "duration": 5498,
    "start_time": "2022-08-13T11:37:48.641Z"
   },
   {
    "duration": 4,
    "start_time": "2022-08-13T11:37:54.141Z"
   },
   {
    "duration": 107,
    "start_time": "2022-08-13T11:37:54.146Z"
   },
   {
    "duration": 266,
    "start_time": "2022-08-13T11:37:54.255Z"
   },
   {
    "duration": 6,
    "start_time": "2022-08-13T11:37:54.523Z"
   },
   {
    "duration": 245,
    "start_time": "2022-08-13T11:37:54.538Z"
   },
   {
    "duration": 5567,
    "start_time": "2022-08-13T11:37:54.785Z"
   },
   {
    "duration": 4,
    "start_time": "2022-08-13T11:40:24.290Z"
   },
   {
    "duration": 2,
    "start_time": "2022-08-13T11:40:24.567Z"
   },
   {
    "duration": 244,
    "start_time": "2022-08-13T11:40:25.150Z"
   },
   {
    "duration": 5497,
    "start_time": "2022-08-13T11:40:31.846Z"
   },
   {
    "duration": 1732,
    "start_time": "2022-08-13T11:40:37.345Z"
   },
   {
    "duration": 269,
    "start_time": "2022-08-13T11:40:39.079Z"
   },
   {
    "duration": 94,
    "start_time": "2022-08-13T11:40:39.350Z"
   },
   {
    "duration": 301,
    "start_time": "2022-08-13T11:40:39.446Z"
   },
   {
    "duration": 90,
    "start_time": "2022-08-13T11:40:39.749Z"
   },
   {
    "duration": 42,
    "start_time": "2022-08-13T11:40:39.841Z"
   },
   {
    "duration": 38,
    "start_time": "2022-08-13T11:42:48.862Z"
   },
   {
    "duration": 170,
    "start_time": "2022-08-13T11:43:01.521Z"
   },
   {
    "duration": 70,
    "start_time": "2022-08-13T11:43:14.330Z"
   },
   {
    "duration": 254022,
    "start_time": "2022-08-13T11:43:27.882Z"
   },
   {
    "duration": 1601,
    "start_time": "2022-08-13T11:47:41.907Z"
   },
   {
    "duration": 3,
    "start_time": "2022-08-13T11:50:14.082Z"
   },
   {
    "duration": 4,
    "start_time": "2022-08-13T11:50:54.511Z"
   },
   {
    "duration": 8,
    "start_time": "2022-08-13T11:51:35.774Z"
   },
   {
    "duration": 8,
    "start_time": "2022-08-13T11:51:39.942Z"
   },
   {
    "duration": 3,
    "start_time": "2022-08-13T11:51:50.719Z"
   },
   {
    "duration": 3,
    "start_time": "2022-08-13T11:52:20.209Z"
   },
   {
    "duration": 3,
    "start_time": "2022-08-13T11:52:35.414Z"
   },
   {
    "duration": 107112,
    "start_time": "2022-08-13T11:56:11.250Z"
   },
   {
    "duration": 7136,
    "start_time": "2022-08-13T11:58:14.174Z"
   },
   {
    "duration": 31520,
    "start_time": "2022-08-13T11:58:39.177Z"
   },
   {
    "duration": 2811,
    "start_time": "2022-08-13T11:59:16.068Z"
   },
   {
    "duration": 1273,
    "start_time": "2022-08-13T11:59:39.691Z"
   },
   {
    "duration": 195,
    "start_time": "2022-08-13T11:59:40.966Z"
   },
   {
    "duration": 24,
    "start_time": "2022-08-13T11:59:41.162Z"
   },
   {
    "duration": 5,
    "start_time": "2022-08-13T11:59:41.188Z"
   },
   {
    "duration": 12,
    "start_time": "2022-08-13T11:59:41.194Z"
   },
   {
    "duration": 16,
    "start_time": "2022-08-13T11:59:41.207Z"
   },
   {
    "duration": 15,
    "start_time": "2022-08-13T11:59:41.224Z"
   },
   {
    "duration": 9,
    "start_time": "2022-08-13T11:59:41.240Z"
   },
   {
    "duration": 5,
    "start_time": "2022-08-13T11:59:41.250Z"
   },
   {
    "duration": 158,
    "start_time": "2022-08-13T11:59:41.257Z"
   },
   {
    "duration": 9103,
    "start_time": "2022-08-13T11:59:41.416Z"
   },
   {
    "duration": 21,
    "start_time": "2022-08-13T11:59:50.521Z"
   },
   {
    "duration": 4,
    "start_time": "2022-08-13T11:59:50.544Z"
   },
   {
    "duration": 44,
    "start_time": "2022-08-13T11:59:50.550Z"
   },
   {
    "duration": 285,
    "start_time": "2022-08-13T11:59:50.595Z"
   },
   {
    "duration": 22,
    "start_time": "2022-08-13T11:59:50.881Z"
   },
   {
    "duration": 6,
    "start_time": "2022-08-13T11:59:50.905Z"
   },
   {
    "duration": 32,
    "start_time": "2022-08-13T11:59:50.912Z"
   },
   {
    "duration": 5,
    "start_time": "2022-08-13T11:59:50.945Z"
   },
   {
    "duration": 10,
    "start_time": "2022-08-13T11:59:50.952Z"
   },
   {
    "duration": 138,
    "start_time": "2022-08-13T11:59:50.964Z"
   },
   {
    "duration": 136,
    "start_time": "2022-08-13T11:59:51.103Z"
   },
   {
    "duration": 15,
    "start_time": "2022-08-13T11:59:51.241Z"
   },
   {
    "duration": 4,
    "start_time": "2022-08-13T11:59:51.257Z"
   },
   {
    "duration": 10,
    "start_time": "2022-08-13T11:59:51.262Z"
   },
   {
    "duration": 127,
    "start_time": "2022-08-13T11:59:51.273Z"
   },
   {
    "duration": 14,
    "start_time": "2022-08-13T11:59:51.401Z"
   },
   {
    "duration": 15699,
    "start_time": "2022-08-13T11:59:51.418Z"
   },
   {
    "duration": 21,
    "start_time": "2022-08-13T12:00:07.118Z"
   },
   {
    "duration": 8,
    "start_time": "2022-08-13T12:00:07.141Z"
   },
   {
    "duration": 12,
    "start_time": "2022-08-13T12:00:07.151Z"
   },
   {
    "duration": 139,
    "start_time": "2022-08-13T12:00:07.165Z"
   },
   {
    "duration": 17,
    "start_time": "2022-08-13T12:00:07.306Z"
   },
   {
    "duration": 14,
    "start_time": "2022-08-13T12:00:07.325Z"
   },
   {
    "duration": 30,
    "start_time": "2022-08-13T12:00:07.341Z"
   },
   {
    "duration": 221,
    "start_time": "2022-08-13T12:00:07.373Z"
   },
   {
    "duration": 16,
    "start_time": "2022-08-13T12:00:07.596Z"
   },
   {
    "duration": 8,
    "start_time": "2022-08-13T12:00:07.614Z"
   },
   {
    "duration": 22,
    "start_time": "2022-08-13T12:00:07.623Z"
   },
   {
    "duration": 18,
    "start_time": "2022-08-13T12:00:07.647Z"
   },
   {
    "duration": 10,
    "start_time": "2022-08-13T12:00:07.666Z"
   },
   {
    "duration": 4,
    "start_time": "2022-08-13T12:00:07.677Z"
   },
   {
    "duration": 16,
    "start_time": "2022-08-13T12:00:07.682Z"
   },
   {
    "duration": 10,
    "start_time": "2022-08-13T12:00:07.700Z"
   },
   {
    "duration": 3,
    "start_time": "2022-08-13T12:00:07.738Z"
   },
   {
    "duration": 8,
    "start_time": "2022-08-13T12:00:07.743Z"
   },
   {
    "duration": 7,
    "start_time": "2022-08-13T12:00:07.752Z"
   },
   {
    "duration": 7201,
    "start_time": "2022-08-13T12:00:07.761Z"
   },
   {
    "duration": 409607,
    "start_time": "2022-08-13T12:00:14.963Z"
   },
   {
    "duration": 255680,
    "start_time": "2022-08-13T12:07:04.572Z"
   },
   {
    "duration": 106703,
    "start_time": "2022-08-13T12:11:20.253Z"
   },
   {
    "duration": 186,
    "start_time": "2022-08-13T12:13:06.958Z"
   },
   {
    "duration": 6401,
    "start_time": "2022-08-13T12:13:07.146Z"
   },
   {
    "duration": 1334,
    "start_time": "2022-08-13T12:26:17.529Z"
   },
   {
    "duration": 205,
    "start_time": "2022-08-13T12:26:18.865Z"
   },
   {
    "duration": 26,
    "start_time": "2022-08-13T12:26:19.072Z"
   },
   {
    "duration": 4,
    "start_time": "2022-08-13T12:26:19.100Z"
   },
   {
    "duration": 11,
    "start_time": "2022-08-13T12:26:19.106Z"
   },
   {
    "duration": 21,
    "start_time": "2022-08-13T12:26:19.118Z"
   },
   {
    "duration": 11,
    "start_time": "2022-08-13T12:26:19.141Z"
   },
   {
    "duration": 10,
    "start_time": "2022-08-13T12:26:19.154Z"
   },
   {
    "duration": 5,
    "start_time": "2022-08-13T12:26:19.165Z"
   },
   {
    "duration": 168,
    "start_time": "2022-08-13T12:26:19.171Z"
   },
   {
    "duration": 8682,
    "start_time": "2022-08-13T12:26:19.341Z"
   },
   {
    "duration": 29,
    "start_time": "2022-08-13T12:26:28.025Z"
   },
   {
    "duration": 4,
    "start_time": "2022-08-13T12:26:28.056Z"
   },
   {
    "duration": 42,
    "start_time": "2022-08-13T12:26:28.062Z"
   },
   {
    "duration": 278,
    "start_time": "2022-08-13T12:26:28.106Z"
   },
   {
    "duration": 20,
    "start_time": "2022-08-13T12:26:28.386Z"
   },
   {
    "duration": 9,
    "start_time": "2022-08-13T12:26:28.407Z"
   },
   {
    "duration": 24,
    "start_time": "2022-08-13T12:26:28.418Z"
   },
   {
    "duration": 4,
    "start_time": "2022-08-13T12:26:28.444Z"
   },
   {
    "duration": 12,
    "start_time": "2022-08-13T12:26:28.450Z"
   },
   {
    "duration": 131,
    "start_time": "2022-08-13T12:26:28.463Z"
   },
   {
    "duration": 137,
    "start_time": "2022-08-13T12:26:28.596Z"
   },
   {
    "duration": 17,
    "start_time": "2022-08-13T12:26:28.734Z"
   },
   {
    "duration": 4,
    "start_time": "2022-08-13T12:26:28.752Z"
   },
   {
    "duration": 10,
    "start_time": "2022-08-13T12:26:28.757Z"
   },
   {
    "duration": 135,
    "start_time": "2022-08-13T12:26:28.768Z"
   },
   {
    "duration": 18,
    "start_time": "2022-08-13T12:26:28.905Z"
   },
   {
    "duration": 15458,
    "start_time": "2022-08-13T12:26:28.925Z"
   },
   {
    "duration": 11,
    "start_time": "2022-08-13T12:26:44.385Z"
   },
   {
    "duration": 17,
    "start_time": "2022-08-13T12:26:44.397Z"
   },
   {
    "duration": 18,
    "start_time": "2022-08-13T12:26:44.415Z"
   },
   {
    "duration": 114,
    "start_time": "2022-08-13T12:26:44.438Z"
   },
   {
    "duration": 16,
    "start_time": "2022-08-13T12:26:44.553Z"
   },
   {
    "duration": 8,
    "start_time": "2022-08-13T12:26:44.570Z"
   },
   {
    "duration": 29,
    "start_time": "2022-08-13T12:26:44.579Z"
   },
   {
    "duration": 231,
    "start_time": "2022-08-13T12:26:44.609Z"
   },
   {
    "duration": 16,
    "start_time": "2022-08-13T12:26:44.842Z"
   },
   {
    "duration": 8,
    "start_time": "2022-08-13T12:26:44.859Z"
   },
   {
    "duration": 22,
    "start_time": "2022-08-13T12:26:44.868Z"
   },
   {
    "duration": 17,
    "start_time": "2022-08-13T12:26:44.891Z"
   },
   {
    "duration": 12,
    "start_time": "2022-08-13T12:26:44.911Z"
   },
   {
    "duration": 5,
    "start_time": "2022-08-13T12:26:44.938Z"
   },
   {
    "duration": 25,
    "start_time": "2022-08-13T12:26:44.945Z"
   },
   {
    "duration": 10,
    "start_time": "2022-08-13T12:26:44.972Z"
   },
   {
    "duration": 3,
    "start_time": "2022-08-13T12:26:44.983Z"
   },
   {
    "duration": 7,
    "start_time": "2022-08-13T12:26:44.987Z"
   },
   {
    "duration": 7,
    "start_time": "2022-08-13T12:26:44.995Z"
   },
   {
    "duration": 7206,
    "start_time": "2022-08-13T12:26:45.003Z"
   },
   {
    "duration": 408054,
    "start_time": "2022-08-13T12:26:52.210Z"
   },
   {
    "duration": 269257,
    "start_time": "2022-08-13T12:39:04.277Z"
   },
   {
    "duration": 248557,
    "start_time": "2022-08-13T12:44:20.859Z"
   },
   {
    "duration": 5,
    "start_time": "2022-08-13T12:49:49.039Z"
   },
   {
    "duration": 257696,
    "start_time": "2022-08-13T12:49:53.211Z"
   },
   {
    "duration": 122292,
    "start_time": "2022-08-13T12:55:09.256Z"
   },
   {
    "duration": 97,
    "start_time": "2022-08-13T12:57:11.550Z"
   },
   {
    "duration": 5798,
    "start_time": "2022-08-13T12:57:11.649Z"
   },
   {
    "duration": 90,
    "start_time": "2022-08-13T12:57:17.449Z"
   },
   {
    "duration": 12,
    "start_time": "2022-08-13T12:57:17.541Z"
   },
   {
    "duration": 256,
    "start_time": "2022-08-13T12:57:17.554Z"
   },
   {
    "duration": 5520,
    "start_time": "2022-08-13T12:57:17.811Z"
   },
   {
    "duration": 1510,
    "start_time": "2022-08-13T12:57:23.338Z"
   },
   {
    "duration": 302,
    "start_time": "2022-08-13T12:57:24.850Z"
   },
   {
    "duration": 92,
    "start_time": "2022-08-13T12:57:25.154Z"
   },
   {
    "duration": 300,
    "start_time": "2022-08-13T12:57:25.339Z"
   },
   {
    "duration": 4,
    "start_time": "2022-08-13T13:02:28.596Z"
   },
   {
    "duration": 51,
    "start_time": "2022-08-13T13:02:28.833Z"
   },
   {
    "duration": 3,
    "start_time": "2022-08-13T13:02:36.235Z"
   },
   {
    "duration": 10,
    "start_time": "2022-08-13T13:03:12.459Z"
   },
   {
    "duration": 4,
    "start_time": "2022-08-13T13:19:54.356Z"
   },
   {
    "duration": 1845,
    "start_time": "2022-08-13T13:25:19.116Z"
   },
   {
    "duration": 4,
    "start_time": "2022-08-13T13:27:15.611Z"
   },
   {
    "duration": 227,
    "start_time": "2022-08-13T13:27:23.218Z"
   },
   {
    "duration": 10,
    "start_time": "2022-08-13T13:27:51.193Z"
   },
   {
    "duration": 172,
    "start_time": "2022-08-13T13:27:56.114Z"
   },
   {
    "duration": 14,
    "start_time": "2022-08-13T13:28:38.160Z"
   },
   {
    "duration": 5,
    "start_time": "2022-08-13T13:33:00.923Z"
   },
   {
    "duration": 12,
    "start_time": "2022-08-13T13:33:02.511Z"
   },
   {
    "duration": 190,
    "start_time": "2022-08-13T13:33:08.020Z"
   },
   {
    "duration": 187,
    "start_time": "2022-08-13T13:36:12.890Z"
   },
   {
    "duration": 9,
    "start_time": "2022-08-13T13:54:02.870Z"
   },
   {
    "duration": 10,
    "start_time": "2022-08-13T13:55:25.337Z"
   },
   {
    "duration": 140,
    "start_time": "2022-08-13T13:56:28.428Z"
   },
   {
    "duration": 345,
    "start_time": "2022-08-13T13:57:04.030Z"
   },
   {
    "duration": 305,
    "start_time": "2022-08-13T19:20:25.709Z"
   },
   {
    "duration": 145,
    "start_time": "2022-08-13T19:20:35.919Z"
   },
   {
    "duration": 320,
    "start_time": "2022-08-13T19:20:43.909Z"
   },
   {
    "duration": 403,
    "start_time": "2022-08-13T19:20:49.868Z"
   },
   {
    "duration": 374,
    "start_time": "2022-08-13T19:21:09.122Z"
   },
   {
    "duration": 331,
    "start_time": "2022-08-13T19:21:14.909Z"
   },
   {
    "duration": 353,
    "start_time": "2022-08-13T19:21:22.632Z"
   },
   {
    "duration": 11,
    "start_time": "2022-08-13T19:21:35.009Z"
   },
   {
    "duration": 306,
    "start_time": "2022-08-13T19:21:57.021Z"
   },
   {
    "duration": 357,
    "start_time": "2022-08-13T19:22:03.923Z"
   },
   {
    "duration": 139,
    "start_time": "2022-08-13T19:22:52.380Z"
   },
   {
    "duration": 315,
    "start_time": "2022-08-13T19:23:03.776Z"
   },
   {
    "duration": 623,
    "start_time": "2022-08-13T19:23:19.382Z"
   },
   {
    "duration": 438,
    "start_time": "2022-08-13T19:23:29.438Z"
   },
   {
    "duration": 315,
    "start_time": "2022-08-13T19:23:38.429Z"
   },
   {
    "duration": 360,
    "start_time": "2022-08-13T19:23:44.543Z"
   },
   {
    "duration": 383,
    "start_time": "2022-08-13T19:23:51.814Z"
   },
   {
    "duration": 180,
    "start_time": "2022-08-13T19:24:07.037Z"
   },
   {
    "duration": 259,
    "start_time": "2022-08-13T19:24:16.628Z"
   },
   {
    "duration": 309,
    "start_time": "2022-08-13T19:24:24.531Z"
   },
   {
    "duration": 787,
    "start_time": "2022-08-13T19:24:33.833Z"
   },
   {
    "duration": 796,
    "start_time": "2022-08-13T19:24:49.109Z"
   },
   {
    "duration": 340,
    "start_time": "2022-08-13T19:25:53.351Z"
   },
   {
    "duration": 358,
    "start_time": "2022-08-13T19:26:16.045Z"
   },
   {
    "duration": 54,
    "start_time": "2022-08-13T19:28:26.376Z"
   },
   {
    "duration": 352,
    "start_time": "2022-08-13T19:28:35.941Z"
   },
   {
    "duration": 360,
    "start_time": "2022-08-13T19:28:43.642Z"
   },
   {
    "duration": 328,
    "start_time": "2022-08-13T19:32:20.601Z"
   },
   {
    "duration": 54,
    "start_time": "2022-08-13T19:32:36.439Z"
   },
   {
    "duration": 377,
    "start_time": "2022-08-13T19:32:44.153Z"
   },
   {
    "duration": 368,
    "start_time": "2022-08-13T19:33:34.832Z"
   },
   {
    "duration": 322,
    "start_time": "2022-08-13T19:34:04.375Z"
   },
   {
    "duration": 633,
    "start_time": "2022-08-13T19:34:17.757Z"
   },
   {
    "duration": 45,
    "start_time": "2022-08-13T19:34:39.546Z"
   },
   {
    "duration": 367,
    "start_time": "2022-08-13T19:34:43.084Z"
   },
   {
    "duration": 404,
    "start_time": "2022-08-13T19:35:08.605Z"
   },
   {
    "duration": 375,
    "start_time": "2022-08-13T19:35:40.018Z"
   },
   {
    "duration": 331,
    "start_time": "2022-08-13T19:36:12.837Z"
   },
   {
    "duration": 340,
    "start_time": "2022-08-13T19:36:34.893Z"
   },
   {
    "duration": 334,
    "start_time": "2022-08-13T19:36:40.739Z"
   },
   {
    "duration": 332,
    "start_time": "2022-08-13T19:37:56.137Z"
   },
   {
    "duration": 421,
    "start_time": "2022-08-13T19:38:37.506Z"
   },
   {
    "duration": 494,
    "start_time": "2022-08-13T19:38:45.850Z"
   },
   {
    "duration": 131,
    "start_time": "2022-08-13T19:39:34.150Z"
   },
   {
    "duration": 131,
    "start_time": "2022-08-13T19:40:11.273Z"
   },
   {
    "duration": 335,
    "start_time": "2022-08-13T19:41:02.391Z"
   },
   {
    "duration": 85,
    "start_time": "2022-08-13T19:44:36.864Z"
   },
   {
    "duration": 102,
    "start_time": "2022-08-13T19:45:45.852Z"
   },
   {
    "duration": 94,
    "start_time": "2022-08-13T19:46:11.976Z"
   },
   {
    "duration": 52,
    "start_time": "2022-08-13T19:48:38.386Z"
   },
   {
    "duration": 94,
    "start_time": "2022-08-13T19:48:47.576Z"
   },
   {
    "duration": 245,
    "start_time": "2022-08-13T19:49:18.227Z"
   },
   {
    "duration": 338,
    "start_time": "2022-08-13T19:49:34.729Z"
   },
   {
    "duration": 368,
    "start_time": "2022-08-13T19:49:45.070Z"
   },
   {
    "duration": 317,
    "start_time": "2022-08-13T19:49:52.616Z"
   },
   {
    "duration": 121,
    "start_time": "2022-08-13T19:50:19.512Z"
   },
   {
    "duration": 368,
    "start_time": "2022-08-13T19:50:33.516Z"
   },
   {
    "duration": 381,
    "start_time": "2022-08-13T19:50:43.610Z"
   },
   {
    "duration": 348,
    "start_time": "2022-08-13T19:51:48.063Z"
   },
   {
    "duration": 1237,
    "start_time": "2022-08-13T19:59:22.162Z"
   },
   {
    "duration": 202,
    "start_time": "2022-08-13T19:59:23.498Z"
   },
   {
    "duration": 23,
    "start_time": "2022-08-13T19:59:25.521Z"
   },
   {
    "duration": 4,
    "start_time": "2022-08-13T19:59:28.646Z"
   },
   {
    "duration": 11,
    "start_time": "2022-08-13T19:59:32.284Z"
   },
   {
    "duration": 18,
    "start_time": "2022-08-13T19:59:33.479Z"
   },
   {
    "duration": 13,
    "start_time": "2022-08-13T19:59:34.486Z"
   },
   {
    "duration": 11,
    "start_time": "2022-08-13T19:59:35.194Z"
   },
   {
    "duration": 5,
    "start_time": "2022-08-13T19:59:36.271Z"
   },
   {
    "duration": 157,
    "start_time": "2022-08-13T19:59:37.322Z"
   },
   {
    "duration": 9381,
    "start_time": "2022-08-13T19:59:38.731Z"
   },
   {
    "duration": 26,
    "start_time": "2022-08-13T19:59:48.113Z"
   },
   {
    "duration": 8,
    "start_time": "2022-08-13T19:59:48.141Z"
   },
   {
    "duration": 48,
    "start_time": "2022-08-13T19:59:48.151Z"
   },
   {
    "duration": 285,
    "start_time": "2022-08-13T19:59:50.718Z"
   },
   {
    "duration": 22,
    "start_time": "2022-08-13T19:59:53.296Z"
   },
   {
    "duration": 5,
    "start_time": "2022-08-13T19:59:54.416Z"
   },
   {
    "duration": 12,
    "start_time": "2022-08-13T19:59:55.868Z"
   },
   {
    "duration": 4,
    "start_time": "2022-08-13T19:59:56.905Z"
   },
   {
    "duration": 11,
    "start_time": "2022-08-13T19:59:57.785Z"
   },
   {
    "duration": 257,
    "start_time": "2022-08-13T20:00:52.828Z"
   },
   {
    "duration": 20,
    "start_time": "2022-08-13T20:00:55.531Z"
   },
   {
    "duration": 5,
    "start_time": "2022-08-13T20:00:58.308Z"
   },
   {
    "duration": 12,
    "start_time": "2022-08-13T20:01:00.511Z"
   },
   {
    "duration": 4,
    "start_time": "2022-08-13T20:01:02.990Z"
   },
   {
    "duration": 11,
    "start_time": "2022-08-13T20:01:05.103Z"
   },
   {
    "duration": 111,
    "start_time": "2022-08-13T20:01:06.284Z"
   },
   {
    "duration": 160,
    "start_time": "2022-08-13T20:01:07.547Z"
   },
   {
    "duration": 20,
    "start_time": "2022-08-13T20:01:08.986Z"
   },
   {
    "duration": 4,
    "start_time": "2022-08-13T20:01:11.162Z"
   },
   {
    "duration": 7,
    "start_time": "2022-08-13T20:01:12.524Z"
   },
   {
    "duration": 106,
    "start_time": "2022-08-13T20:01:13.871Z"
   },
   {
    "duration": 15,
    "start_time": "2022-08-13T20:01:15.315Z"
   },
   {
    "duration": 15524,
    "start_time": "2022-08-13T20:01:18.858Z"
   },
   {
    "duration": 12,
    "start_time": "2022-08-13T20:01:34.384Z"
   },
   {
    "duration": 15,
    "start_time": "2022-08-13T20:01:34.397Z"
   },
   {
    "duration": 12,
    "start_time": "2022-08-13T20:01:34.413Z"
   },
   {
    "duration": 146,
    "start_time": "2022-08-13T20:01:34.426Z"
   },
   {
    "duration": 22,
    "start_time": "2022-08-13T20:01:38.912Z"
   },
   {
    "duration": 5,
    "start_time": "2022-08-13T20:01:40.610Z"
   },
   {
    "duration": 29,
    "start_time": "2022-08-13T20:01:41.606Z"
   },
   {
    "duration": 213,
    "start_time": "2022-08-13T20:01:43.148Z"
   },
   {
    "duration": 17,
    "start_time": "2022-08-13T20:01:44.653Z"
   },
   {
    "duration": 5,
    "start_time": "2022-08-13T20:01:47.257Z"
   },
   {
    "duration": 10,
    "start_time": "2022-08-13T20:01:51.067Z"
   },
   {
    "duration": 19,
    "start_time": "2022-08-13T20:01:53.307Z"
   },
   {
    "duration": 11,
    "start_time": "2022-08-13T20:01:54.100Z"
   },
   {
    "duration": 4,
    "start_time": "2022-08-13T20:01:59.718Z"
   },
   {
    "duration": 175,
    "start_time": "2022-08-13T20:06:22.440Z"
   },
   {
    "duration": 191,
    "start_time": "2022-08-13T20:06:34.412Z"
   },
   {
    "duration": 185,
    "start_time": "2022-08-13T20:08:39.041Z"
   },
   {
    "duration": 170,
    "start_time": "2022-08-13T20:09:05.347Z"
   },
   {
    "duration": 175,
    "start_time": "2022-08-13T20:09:14.786Z"
   },
   {
    "duration": 268,
    "start_time": "2022-08-13T20:09:30.908Z"
   },
   {
    "duration": 122,
    "start_time": "2022-08-13T20:09:40.780Z"
   },
   {
    "duration": 176,
    "start_time": "2022-08-13T20:09:43.663Z"
   },
   {
    "duration": 182,
    "start_time": "2022-08-13T20:09:49.129Z"
   },
   {
    "duration": 171,
    "start_time": "2022-08-13T20:09:54.756Z"
   },
   {
    "duration": 168,
    "start_time": "2022-08-13T20:10:23.873Z"
   },
   {
    "duration": 3,
    "start_time": "2022-08-13T20:11:36.322Z"
   },
   {
    "duration": 2,
    "start_time": "2022-08-13T20:12:15.539Z"
   },
   {
    "duration": 5,
    "start_time": "2022-08-13T20:12:28.512Z"
   },
   {
    "duration": 4,
    "start_time": "2022-08-13T20:12:37.136Z"
   },
   {
    "duration": 5,
    "start_time": "2022-08-13T20:13:20.560Z"
   },
   {
    "duration": 10,
    "start_time": "2022-08-13T20:14:58.053Z"
   },
   {
    "duration": 18,
    "start_time": "2022-08-13T20:14:58.406Z"
   },
   {
    "duration": 92,
    "start_time": "2022-08-13T20:15:00.970Z"
   },
   {
    "duration": 170,
    "start_time": "2022-08-13T20:16:32.365Z"
   },
   {
    "duration": 18,
    "start_time": "2022-08-13T20:19:47.209Z"
   },
   {
    "duration": 35,
    "start_time": "2022-08-13T20:20:02.878Z"
   },
   {
    "duration": 26,
    "start_time": "2022-08-13T20:20:14.367Z"
   },
   {
    "duration": 6,
    "start_time": "2022-08-13T20:20:24.181Z"
   },
   {
    "duration": 11,
    "start_time": "2022-08-13T20:21:53.123Z"
   },
   {
    "duration": 4,
    "start_time": "2022-08-13T20:22:55.260Z"
   },
   {
    "duration": 10,
    "start_time": "2022-08-13T20:22:56.269Z"
   },
   {
    "duration": 10,
    "start_time": "2022-08-13T20:23:03.992Z"
   },
   {
    "duration": 3,
    "start_time": "2022-08-13T20:23:13.076Z"
   },
   {
    "duration": 5,
    "start_time": "2022-08-13T20:23:13.876Z"
   },
   {
    "duration": 4,
    "start_time": "2022-08-13T20:23:14.279Z"
   },
   {
    "duration": 1213,
    "start_time": "2022-08-13T20:23:24.593Z"
   },
   {
    "duration": 190,
    "start_time": "2022-08-13T20:23:26.206Z"
   },
   {
    "duration": 20,
    "start_time": "2022-08-13T20:23:29.372Z"
   },
   {
    "duration": 4,
    "start_time": "2022-08-13T20:23:31.239Z"
   },
   {
    "duration": 10,
    "start_time": "2022-08-13T20:23:33.445Z"
   },
   {
    "duration": 17,
    "start_time": "2022-08-13T20:23:35.226Z"
   },
   {
    "duration": 12,
    "start_time": "2022-08-13T20:23:36.742Z"
   },
   {
    "duration": 10,
    "start_time": "2022-08-13T20:23:38.067Z"
   },
   {
    "duration": 6,
    "start_time": "2022-08-13T20:23:39.206Z"
   },
   {
    "duration": 144,
    "start_time": "2022-08-13T20:23:40.764Z"
   },
   {
    "duration": 9085,
    "start_time": "2022-08-13T20:23:42.708Z"
   },
   {
    "duration": 19,
    "start_time": "2022-08-13T20:23:51.794Z"
   },
   {
    "duration": 4,
    "start_time": "2022-08-13T20:23:53.283Z"
   },
   {
    "duration": 45,
    "start_time": "2022-08-13T20:23:54.241Z"
   },
   {
    "duration": 266,
    "start_time": "2022-08-13T20:23:56.214Z"
   },
   {
    "duration": 22,
    "start_time": "2022-08-13T20:23:57.506Z"
   },
   {
    "duration": 5,
    "start_time": "2022-08-13T20:23:59.076Z"
   },
   {
    "duration": 13,
    "start_time": "2022-08-13T20:24:00.463Z"
   },
   {
    "duration": 4,
    "start_time": "2022-08-13T20:24:01.905Z"
   },
   {
    "duration": 11,
    "start_time": "2022-08-13T20:24:02.641Z"
   },
   {
    "duration": 116,
    "start_time": "2022-08-13T20:24:03.846Z"
   },
   {
    "duration": 136,
    "start_time": "2022-08-13T20:24:04.840Z"
   },
   {
    "duration": 16,
    "start_time": "2022-08-13T20:24:05.959Z"
   },
   {
    "duration": 4,
    "start_time": "2022-08-13T20:24:07.279Z"
   },
   {
    "duration": 7,
    "start_time": "2022-08-13T20:24:08.718Z"
   },
   {
    "duration": 109,
    "start_time": "2022-08-13T20:24:10.086Z"
   },
   {
    "duration": 15,
    "start_time": "2022-08-13T20:24:11.169Z"
   },
   {
    "duration": 15579,
    "start_time": "2022-08-13T20:24:12.625Z"
   },
   {
    "duration": 15,
    "start_time": "2022-08-13T20:24:29.685Z"
   },
   {
    "duration": 10,
    "start_time": "2022-08-13T20:24:30.302Z"
   },
   {
    "duration": 14,
    "start_time": "2022-08-13T20:24:31.052Z"
   },
   {
    "duration": 116,
    "start_time": "2022-08-13T20:24:33.267Z"
   },
   {
    "duration": 17,
    "start_time": "2022-08-13T20:24:34.863Z"
   },
   {
    "duration": 4,
    "start_time": "2022-08-13T20:24:36.052Z"
   },
   {
    "duration": 30,
    "start_time": "2022-08-13T20:24:36.583Z"
   },
   {
    "duration": 217,
    "start_time": "2022-08-13T20:24:37.720Z"
   },
   {
    "duration": 17,
    "start_time": "2022-08-13T20:24:38.729Z"
   },
   {
    "duration": 5,
    "start_time": "2022-08-13T20:24:39.590Z"
   },
   {
    "duration": 10,
    "start_time": "2022-08-13T20:24:42.051Z"
   },
   {
    "duration": 21,
    "start_time": "2022-08-13T20:24:42.611Z"
   },
   {
    "duration": 11,
    "start_time": "2022-08-13T20:24:42.980Z"
   },
   {
    "duration": 171,
    "start_time": "2022-08-13T20:24:44.517Z"
   },
   {
    "duration": 168,
    "start_time": "2022-08-13T20:24:45.250Z"
   },
   {
    "duration": 4,
    "start_time": "2022-08-13T20:24:45.959Z"
   },
   {
    "duration": 5,
    "start_time": "2022-08-13T20:24:51.348Z"
   },
   {
    "duration": 4,
    "start_time": "2022-08-13T20:24:55.776Z"
   },
   {
    "duration": 11,
    "start_time": "2022-08-13T20:24:56.205Z"
   },
   {
    "duration": 10,
    "start_time": "2022-08-13T20:24:57.242Z"
   },
   {
    "duration": 3,
    "start_time": "2022-08-13T20:24:58.568Z"
   },
   {
    "duration": 6,
    "start_time": "2022-08-13T20:24:59.460Z"
   },
   {
    "duration": 4,
    "start_time": "2022-08-13T20:24:59.715Z"
   },
   {
    "duration": 7385,
    "start_time": "2022-08-13T20:25:03.877Z"
   },
   {
    "duration": 389654,
    "start_time": "2022-08-13T20:25:11.264Z"
   },
   {
    "duration": 246240,
    "start_time": "2022-08-13T20:31:40.919Z"
   },
   {
    "duration": 113643,
    "start_time": "2022-08-13T20:35:47.161Z"
   },
   {
    "duration": 49,
    "start_time": "2022-08-13T20:37:40.806Z"
   },
   {
    "duration": 6002,
    "start_time": "2022-08-13T20:37:40.939Z"
   },
   {
    "duration": 94,
    "start_time": "2022-08-13T20:37:46.943Z"
   },
   {
    "duration": 8,
    "start_time": "2022-08-13T20:37:47.039Z"
   },
   {
    "duration": 229,
    "start_time": "2022-08-13T20:37:47.048Z"
   },
   {
    "duration": 7360,
    "start_time": "2022-08-13T20:37:47.279Z"
   },
   {
    "duration": 1512,
    "start_time": "2022-08-13T20:37:54.640Z"
   },
   {
    "duration": 796,
    "start_time": "2022-08-13T20:37:56.154Z"
   },
   {
    "duration": 92,
    "start_time": "2022-08-13T20:37:56.951Z"
   },
   {
    "duration": 109,
    "start_time": "2022-08-13T20:37:57.046Z"
   },
   {
    "duration": 99,
    "start_time": "2022-08-13T20:37:57.241Z"
   },
   {
    "duration": 42,
    "start_time": "2022-08-13T20:37:57.342Z"
   },
   {
    "duration": 1654,
    "start_time": "2022-08-13T20:40:40.069Z"
   },
   {
    "duration": 5,
    "start_time": "2022-08-13T20:41:18.223Z"
   },
   {
    "duration": 3,
    "start_time": "2022-08-13T20:41:20.241Z"
   },
   {
    "duration": 6306,
    "start_time": "2022-08-13T20:41:23.938Z"
   },
   {
    "duration": 86390,
    "start_time": "2022-08-13T20:41:49.452Z"
   },
   {
    "duration": 12,
    "start_time": "2022-08-13T20:43:22.237Z"
   },
   {
    "duration": 20,
    "start_time": "2022-08-13T20:43:23.550Z"
   },
   {
    "duration": 12,
    "start_time": "2022-08-13T20:43:24.478Z"
   },
   {
    "duration": 174,
    "start_time": "2022-08-13T20:43:28.325Z"
   },
   {
    "duration": 172,
    "start_time": "2022-08-13T20:43:29.278Z"
   },
   {
    "duration": 5,
    "start_time": "2022-08-13T20:43:29.793Z"
   },
   {
    "duration": 6,
    "start_time": "2022-08-13T20:43:31.711Z"
   },
   {
    "duration": 9,
    "start_time": "2022-08-13T20:43:35.176Z"
   },
   {
    "duration": 5,
    "start_time": "2022-08-13T20:43:38.382Z"
   },
   {
    "duration": 9,
    "start_time": "2022-08-13T20:44:03.520Z"
   },
   {
    "duration": 4,
    "start_time": "2022-08-13T20:44:11.369Z"
   },
   {
    "duration": 10,
    "start_time": "2022-08-13T20:44:16.710Z"
   },
   {
    "duration": 11,
    "start_time": "2022-08-13T20:44:18.331Z"
   },
   {
    "duration": 4,
    "start_time": "2022-08-13T20:44:30.733Z"
   },
   {
    "duration": 5,
    "start_time": "2022-08-13T20:44:31.365Z"
   },
   {
    "duration": 4,
    "start_time": "2022-08-13T20:44:32.074Z"
   },
   {
    "duration": 7032,
    "start_time": "2022-08-13T20:44:35.321Z"
   },
   {
    "duration": 5,
    "start_time": "2022-08-13T20:44:48.101Z"
   },
   {
    "duration": 3,
    "start_time": "2022-08-13T20:44:49.363Z"
   },
   {
    "duration": 7693,
    "start_time": "2022-08-13T20:44:51.424Z"
   },
   {
    "duration": 426772,
    "start_time": "2022-08-13T20:45:10.444Z"
   },
   {
    "duration": 265565,
    "start_time": "2022-08-13T20:52:17.220Z"
   },
   {
    "duration": 629570,
    "start_time": "2022-08-13T20:56:42.786Z"
   },
   {
    "duration": 382,
    "start_time": "2022-08-13T21:07:12.358Z"
   },
   {
    "duration": 7396,
    "start_time": "2022-08-13T21:07:12.744Z"
   },
   {
    "duration": 5,
    "start_time": "2022-08-13T21:07:20.142Z"
   },
   {
    "duration": 90,
    "start_time": "2022-08-13T21:07:20.149Z"
   },
   {
    "duration": 272,
    "start_time": "2022-08-13T21:07:20.240Z"
   },
   {
    "duration": 8245,
    "start_time": "2022-08-13T21:07:20.514Z"
   },
   {
    "duration": 1671,
    "start_time": "2022-08-13T21:07:28.761Z"
   },
   {
    "duration": 627,
    "start_time": "2022-08-13T21:07:30.433Z"
   },
   {
    "duration": 200,
    "start_time": "2022-08-13T21:07:31.139Z"
   },
   {
    "duration": 298,
    "start_time": "2022-08-13T21:07:31.342Z"
   },
   {
    "duration": 6,
    "start_time": "2022-08-13T21:07:31.642Z"
   },
   {
    "duration": 114,
    "start_time": "2022-08-13T21:07:31.651Z"
   },
   {
    "duration": 46,
    "start_time": "2022-08-13T21:11:32.761Z"
   },
   {
    "duration": 17,
    "start_time": "2022-08-13T21:11:55.751Z"
   },
   {
    "duration": 19,
    "start_time": "2022-08-13T21:12:40.108Z"
   },
   {
    "duration": 15,
    "start_time": "2022-08-13T21:12:57.840Z"
   },
   {
    "duration": 16,
    "start_time": "2022-08-13T21:13:09.271Z"
   },
   {
    "duration": 1824,
    "start_time": "2022-08-13T21:13:18.411Z"
   },
   {
    "duration": 10,
    "start_time": "2022-08-13T21:13:51.254Z"
   },
   {
    "duration": 19,
    "start_time": "2022-08-13T21:13:51.508Z"
   },
   {
    "duration": 11,
    "start_time": "2022-08-13T21:13:52.151Z"
   },
   {
    "duration": 172,
    "start_time": "2022-08-13T21:13:54.570Z"
   },
   {
    "duration": 168,
    "start_time": "2022-08-13T21:13:55.230Z"
   },
   {
    "duration": 5,
    "start_time": "2022-08-13T21:13:55.732Z"
   },
   {
    "duration": 5,
    "start_time": "2022-08-13T21:13:58.263Z"
   },
   {
    "duration": 4,
    "start_time": "2022-08-13T21:14:04.219Z"
   },
   {
    "duration": 10,
    "start_time": "2022-08-13T21:14:04.849Z"
   },
   {
    "duration": 10,
    "start_time": "2022-08-13T21:14:08.219Z"
   },
   {
    "duration": 4,
    "start_time": "2022-08-13T21:14:15.586Z"
   },
   {
    "duration": 6,
    "start_time": "2022-08-13T21:14:16.759Z"
   },
   {
    "duration": 4,
    "start_time": "2022-08-13T21:14:18.283Z"
   },
   {
    "duration": 7193,
    "start_time": "2022-08-13T21:15:03.428Z"
   },
   {
    "duration": 426564,
    "start_time": "2022-08-13T21:17:09.511Z"
   },
   {
    "duration": 137027,
    "start_time": "2022-08-13T21:24:16.077Z"
   },
   {
    "duration": 3,
    "start_time": "2022-08-13T21:26:48.362Z"
   },
   {
    "duration": 2,
    "start_time": "2022-08-13T21:26:48.576Z"
   },
   {
    "duration": 1447,
    "start_time": "2022-08-13T21:26:50.635Z"
   },
   {
    "duration": 3,
    "start_time": "2022-08-13T21:28:50.723Z"
   },
   {
    "duration": 3,
    "start_time": "2022-08-13T21:28:50.978Z"
   },
   {
    "duration": 223,
    "start_time": "2022-08-13T21:28:51.237Z"
   },
   {
    "duration": 8682,
    "start_time": "2022-08-13T21:28:51.501Z"
   },
   {
    "duration": 1559,
    "start_time": "2022-08-13T21:29:00.185Z"
   },
   {
    "duration": 605,
    "start_time": "2022-08-13T21:29:01.745Z"
   },
   {
    "duration": 88,
    "start_time": "2022-08-13T21:29:02.352Z"
   },
   {
    "duration": 198,
    "start_time": "2022-08-13T21:29:02.442Z"
   },
   {
    "duration": 103,
    "start_time": "2022-08-13T21:29:02.641Z"
   },
   {
    "duration": 11,
    "start_time": "2022-08-13T21:29:02.746Z"
   },
   {
    "duration": 8,
    "start_time": "2022-08-13T21:30:04.426Z"
   },
   {
    "duration": 23,
    "start_time": "2022-08-13T21:30:06.615Z"
   },
   {
    "duration": 14,
    "start_time": "2022-08-13T21:30:08.881Z"
   },
   {
    "duration": 10,
    "start_time": "2022-08-13T21:30:34.157Z"
   },
   {
    "duration": 4,
    "start_time": "2022-08-13T21:30:59.616Z"
   },
   {
    "duration": 9,
    "start_time": "2022-08-13T21:31:00.353Z"
   },
   {
    "duration": 9,
    "start_time": "2022-08-13T21:31:01.338Z"
   },
   {
    "duration": 4,
    "start_time": "2022-08-13T21:31:02.867Z"
   },
   {
    "duration": 4,
    "start_time": "2022-08-13T21:31:03.844Z"
   },
   {
    "duration": 4,
    "start_time": "2022-08-13T21:31:05.255Z"
   },
   {
    "duration": 5963,
    "start_time": "2022-08-13T21:31:11.213Z"
   },
   {
    "duration": 427493,
    "start_time": "2022-08-13T21:32:04.647Z"
   },
   {
    "duration": 140582,
    "start_time": "2022-08-13T21:46:35.460Z"
   },
   {
    "duration": 3,
    "start_time": "2022-08-13T21:49:23.827Z"
   },
   {
    "duration": 3,
    "start_time": "2022-08-13T21:49:25.677Z"
   },
   {
    "duration": 195,
    "start_time": "2022-08-13T21:49:27.606Z"
   },
   {
    "duration": 8534,
    "start_time": "2022-08-13T21:49:29.673Z"
   },
   {
    "duration": 1921,
    "start_time": "2022-08-13T21:49:38.208Z"
   },
   {
    "duration": 8,
    "start_time": "2022-08-13T21:52:07.220Z"
   },
   {
    "duration": 25,
    "start_time": "2022-08-13T21:52:07.799Z"
   },
   {
    "duration": 11,
    "start_time": "2022-08-13T21:52:08.197Z"
   },
   {
    "duration": 5,
    "start_time": "2022-08-13T21:52:11.929Z"
   },
   {
    "duration": 12,
    "start_time": "2022-08-13T21:52:13.979Z"
   },
   {
    "duration": 10,
    "start_time": "2022-08-13T21:52:17.182Z"
   },
   {
    "duration": 4,
    "start_time": "2022-08-13T21:52:33.526Z"
   },
   {
    "duration": 6,
    "start_time": "2022-08-13T21:52:35.721Z"
   },
   {
    "duration": 3,
    "start_time": "2022-08-13T21:52:37.106Z"
   },
   {
    "duration": 381278,
    "start_time": "2022-08-13T21:54:27.125Z"
   },
   {
    "duration": 4,
    "start_time": "2022-08-13T22:00:48.406Z"
   },
   {
    "duration": 11669,
    "start_time": "2022-08-13T22:01:35.501Z"
   },
   {
    "duration": 155951,
    "start_time": "2022-08-13T22:04:01.616Z"
   },
   {
    "duration": 465092,
    "start_time": "2022-08-13T22:09:55.856Z"
   },
   {
    "duration": 899,
    "start_time": "2022-08-13T22:18:02.249Z"
   },
   {
    "duration": 3353,
    "start_time": "2022-08-13T22:20:19.960Z"
   },
   {
    "duration": 2767,
    "start_time": "2022-08-13T22:20:29.962Z"
   },
   {
    "duration": 104050,
    "start_time": "2022-08-13T22:20:58.002Z"
   },
   {
    "duration": 391,
    "start_time": "2022-08-13T22:23:22.353Z"
   },
   {
    "duration": 93830,
    "start_time": "2022-08-13T22:24:59.122Z"
   },
   {
    "duration": 391,
    "start_time": "2022-08-13T22:27:31.258Z"
   },
   {
    "duration": 3203,
    "start_time": "2022-08-13T22:28:30.426Z"
   },
   {
    "duration": 243075,
    "start_time": "2022-08-13T22:28:44.564Z"
   },
   {
    "duration": 2827,
    "start_time": "2022-08-13T22:33:30.420Z"
   },
   {
    "duration": 1337,
    "start_time": "2022-08-13T22:35:13.526Z"
   },
   {
    "duration": 189,
    "start_time": "2022-08-13T22:35:14.865Z"
   },
   {
    "duration": 20,
    "start_time": "2022-08-13T22:35:15.056Z"
   },
   {
    "duration": 5,
    "start_time": "2022-08-13T22:35:15.077Z"
   },
   {
    "duration": 26,
    "start_time": "2022-08-13T22:35:15.084Z"
   },
   {
    "duration": 23,
    "start_time": "2022-08-13T22:35:15.112Z"
   },
   {
    "duration": 12,
    "start_time": "2022-08-13T22:35:15.136Z"
   },
   {
    "duration": 9,
    "start_time": "2022-08-13T22:35:15.149Z"
   },
   {
    "duration": 10,
    "start_time": "2022-08-13T22:35:15.160Z"
   },
   {
    "duration": 160,
    "start_time": "2022-08-13T22:35:15.172Z"
   },
   {
    "duration": 8681,
    "start_time": "2022-08-13T22:35:15.333Z"
   },
   {
    "duration": 26,
    "start_time": "2022-08-13T22:35:24.015Z"
   },
   {
    "duration": 16,
    "start_time": "2022-08-13T22:35:24.042Z"
   },
   {
    "duration": 96,
    "start_time": "2022-08-13T22:35:24.061Z"
   },
   {
    "duration": 579,
    "start_time": "2022-08-13T22:35:24.159Z"
   },
   {
    "duration": 21,
    "start_time": "2022-08-13T22:35:24.740Z"
   },
   {
    "duration": 18,
    "start_time": "2022-08-13T22:35:24.762Z"
   },
   {
    "duration": 64,
    "start_time": "2022-08-13T22:35:24.782Z"
   },
   {
    "duration": 12,
    "start_time": "2022-08-13T22:35:24.847Z"
   },
   {
    "duration": 14,
    "start_time": "2022-08-13T22:35:24.860Z"
   },
   {
    "duration": 210,
    "start_time": "2022-08-13T22:35:24.875Z"
   },
   {
    "duration": 233,
    "start_time": "2022-08-13T22:35:25.138Z"
   },
   {
    "duration": 68,
    "start_time": "2022-08-13T22:35:25.373Z"
   },
   {
    "duration": 4,
    "start_time": "2022-08-13T22:35:25.443Z"
   },
   {
    "duration": 11,
    "start_time": "2022-08-13T22:35:25.448Z"
   },
   {
    "duration": 208,
    "start_time": "2022-08-13T22:35:25.460Z"
   },
   {
    "duration": 70,
    "start_time": "2022-08-13T22:35:25.670Z"
   },
   {
    "duration": 16799,
    "start_time": "2022-08-13T22:35:25.742Z"
   },
   {
    "duration": 14,
    "start_time": "2022-08-13T22:35:42.542Z"
   },
   {
    "duration": 22,
    "start_time": "2022-08-13T22:35:42.557Z"
   },
   {
    "duration": 24,
    "start_time": "2022-08-13T22:35:42.580Z"
   },
   {
    "duration": 117,
    "start_time": "2022-08-13T22:35:42.606Z"
   },
   {
    "duration": 21,
    "start_time": "2022-08-13T22:35:42.725Z"
   },
   {
    "duration": 4,
    "start_time": "2022-08-13T22:35:42.748Z"
   },
   {
    "duration": 31,
    "start_time": "2022-08-13T22:35:42.753Z"
   },
   {
    "duration": 224,
    "start_time": "2022-08-13T22:35:42.785Z"
   },
   {
    "duration": 16,
    "start_time": "2022-08-13T22:35:43.011Z"
   },
   {
    "duration": 5,
    "start_time": "2022-08-13T22:35:43.038Z"
   },
   {
    "duration": 9,
    "start_time": "2022-08-13T22:35:43.044Z"
   },
   {
    "duration": 21,
    "start_time": "2022-08-13T22:35:43.054Z"
   },
   {
    "duration": 19,
    "start_time": "2022-08-13T22:35:43.079Z"
   },
   {
    "duration": 9,
    "start_time": "2022-08-13T22:35:43.100Z"
   },
   {
    "duration": 33,
    "start_time": "2022-08-13T22:35:43.110Z"
   },
   {
    "duration": 3,
    "start_time": "2022-08-13T22:35:43.144Z"
   },
   {
    "duration": 5,
    "start_time": "2022-08-13T22:35:43.149Z"
   },
   {
    "duration": 5,
    "start_time": "2022-08-13T22:35:43.156Z"
   },
   {
    "duration": 5864,
    "start_time": "2022-08-13T22:35:43.162Z"
   },
   {
    "duration": 551873,
    "start_time": "2022-08-13T22:35:49.027Z"
   },
   {
    "duration": 240212,
    "start_time": "2022-08-13T22:45:00.901Z"
   },
   {
    "duration": 85547,
    "start_time": "2022-08-13T22:49:01.114Z"
   },
   {
    "duration": 181,
    "start_time": "2022-08-13T22:50:26.663Z"
   },
   {
    "duration": 5999,
    "start_time": "2022-08-13T22:50:26.846Z"
   },
   {
    "duration": 90,
    "start_time": "2022-08-13T22:50:32.849Z"
   },
   {
    "duration": 8,
    "start_time": "2022-08-13T22:50:32.941Z"
   },
   {
    "duration": 279,
    "start_time": "2022-08-13T22:50:32.950Z"
   },
   {
    "duration": 8546,
    "start_time": "2022-08-13T22:50:33.230Z"
   },
   {
    "duration": 1911,
    "start_time": "2022-08-13T22:50:41.778Z"
   },
   {
    "duration": 363,
    "start_time": "2022-08-13T22:50:43.691Z"
   },
   {
    "duration": 92,
    "start_time": "2022-08-13T22:50:44.056Z"
   },
   {
    "duration": 97,
    "start_time": "2022-08-13T22:50:44.150Z"
   },
   {
    "duration": 98,
    "start_time": "2022-08-13T22:50:44.248Z"
   },
   {
    "duration": 42,
    "start_time": "2022-08-13T22:50:44.347Z"
   },
   {
    "duration": 5,
    "start_time": "2022-08-13T22:53:45.987Z"
   },
   {
    "duration": 206,
    "start_time": "2022-08-13T22:53:48.027Z"
   },
   {
    "duration": 9,
    "start_time": "2022-08-13T22:54:45.657Z"
   },
   {
    "duration": 343,
    "start_time": "2022-08-13T22:54:49.405Z"
   },
   {
    "duration": 1944,
    "start_time": "2022-08-14T04:40:55.362Z"
   },
   {
    "duration": 194,
    "start_time": "2022-08-14T04:40:57.308Z"
   },
   {
    "duration": 22,
    "start_time": "2022-08-14T04:40:57.504Z"
   },
   {
    "duration": 3,
    "start_time": "2022-08-14T04:40:57.528Z"
   },
   {
    "duration": 11,
    "start_time": "2022-08-14T04:40:57.777Z"
   },
   {
    "duration": 18,
    "start_time": "2022-08-14T04:40:58.078Z"
   },
   {
    "duration": 14,
    "start_time": "2022-08-14T04:40:58.382Z"
   },
   {
    "duration": 11,
    "start_time": "2022-08-14T04:40:58.677Z"
   },
   {
    "duration": 5,
    "start_time": "2022-08-14T04:40:58.946Z"
   },
   {
    "duration": 161,
    "start_time": "2022-08-14T04:40:59.399Z"
   },
   {
    "duration": 8764,
    "start_time": "2022-08-14T04:40:59.865Z"
   },
   {
    "duration": 21,
    "start_time": "2022-08-14T04:41:08.631Z"
   },
   {
    "duration": 5,
    "start_time": "2022-08-14T04:41:08.654Z"
   },
   {
    "duration": 63,
    "start_time": "2022-08-14T04:41:08.661Z"
   },
   {
    "duration": 295,
    "start_time": "2022-08-14T04:41:08.726Z"
   },
   {
    "duration": 21,
    "start_time": "2022-08-14T04:41:09.023Z"
   },
   {
    "duration": 4,
    "start_time": "2022-08-14T04:41:09.046Z"
   },
   {
    "duration": 14,
    "start_time": "2022-08-14T04:41:09.051Z"
   },
   {
    "duration": 5,
    "start_time": "2022-08-14T04:41:09.066Z"
   },
   {
    "duration": 12,
    "start_time": "2022-08-14T04:41:09.099Z"
   },
   {
    "duration": 139,
    "start_time": "2022-08-14T04:41:09.113Z"
   },
   {
    "duration": 158,
    "start_time": "2022-08-14T04:41:09.253Z"
   },
   {
    "duration": 15,
    "start_time": "2022-08-14T04:41:09.412Z"
   },
   {
    "duration": 4,
    "start_time": "2022-08-14T04:41:09.428Z"
   },
   {
    "duration": 10,
    "start_time": "2022-08-14T04:41:09.434Z"
   },
   {
    "duration": 104,
    "start_time": "2022-08-14T04:41:09.781Z"
   },
   {
    "duration": 17,
    "start_time": "2022-08-14T04:41:10.293Z"
   },
   {
    "duration": 15397,
    "start_time": "2022-08-14T04:41:10.646Z"
   },
   {
    "duration": 12,
    "start_time": "2022-08-14T04:41:26.044Z"
   },
   {
    "duration": 8,
    "start_time": "2022-08-14T04:41:26.058Z"
   },
   {
    "duration": 13,
    "start_time": "2022-08-14T04:41:26.068Z"
   },
   {
    "duration": 122,
    "start_time": "2022-08-14T04:41:26.100Z"
   },
   {
    "duration": 17,
    "start_time": "2022-08-14T04:41:26.223Z"
   },
   {
    "duration": 6,
    "start_time": "2022-08-14T04:41:26.242Z"
   },
   {
    "duration": 30,
    "start_time": "2022-08-14T04:41:26.250Z"
   },
   {
    "duration": 221,
    "start_time": "2022-08-14T04:41:26.282Z"
   },
   {
    "duration": 17,
    "start_time": "2022-08-14T04:41:26.505Z"
   },
   {
    "duration": 7,
    "start_time": "2022-08-14T04:41:26.523Z"
   },
   {
    "duration": 10,
    "start_time": "2022-08-14T04:41:26.531Z"
   },
   {
    "duration": 20,
    "start_time": "2022-08-14T04:41:26.543Z"
   },
   {
    "duration": 38,
    "start_time": "2022-08-14T04:41:26.564Z"
   },
   {
    "duration": 4,
    "start_time": "2022-08-14T04:41:47.438Z"
   },
   {
    "duration": 11,
    "start_time": "2022-08-14T04:41:48.694Z"
   },
   {
    "duration": 3,
    "start_time": "2022-08-14T04:41:51.115Z"
   },
   {
    "duration": 6,
    "start_time": "2022-08-14T04:41:51.592Z"
   },
   {
    "duration": 4,
    "start_time": "2022-08-14T04:41:51.936Z"
   },
   {
    "duration": 31,
    "start_time": "2022-08-14T04:42:31.211Z"
   }
  ],
  "kernelspec": {
   "display_name": "Python 3 (ipykernel)",
   "language": "python",
   "name": "python3"
  },
  "language_info": {
   "codemirror_mode": {
    "name": "ipython",
    "version": 3
   },
   "file_extension": ".py",
   "mimetype": "text/x-python",
   "name": "python",
   "nbconvert_exporter": "python",
   "pygments_lexer": "ipython3",
   "version": "3.9.12"
  },
  "toc": {
   "base_numbering": 1,
   "nav_menu": {},
   "number_sections": true,
   "sideBar": true,
   "skip_h1_title": true,
   "title_cell": "Содержание",
   "title_sidebar": "Contents",
   "toc_cell": true,
   "toc_position": {
    "height": "532px",
    "left": "380px",
    "top": "111.125px",
    "width": "302.391px"
   },
   "toc_section_display": true,
   "toc_window_display": true
  }
 },
 "nbformat": 4,
 "nbformat_minor": 5
}
