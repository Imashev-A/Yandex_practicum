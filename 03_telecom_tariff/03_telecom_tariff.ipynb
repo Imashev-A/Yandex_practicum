{
 "cells": [
  {
   "cell_type": "markdown",
   "id": "11705d33",
   "metadata": {
    "toc": true
   },
   "source": [
    "<h1>Содержание<span class=\"tocSkip\"></span></h1>\n",
    "<div class=\"toc\"><ul class=\"toc-item\"><li><span><a href=\"#Изучение-данных-из-файла\" data-toc-modified-id=\"Изучение-данных-из-файла-1\"><span class=\"toc-item-num\">1&nbsp;&nbsp;</span>Изучение данных из файла</a></span></li><li><span><a href=\"#Предобработка-данных\" data-toc-modified-id=\"Предобработка-данных-2\"><span class=\"toc-item-num\">2&nbsp;&nbsp;</span>Предобработка данных</a></span><ul class=\"toc-item\"><li><span><a href=\"#Расчет-для-каждого-пользователя\" data-toc-modified-id=\"Расчет-для-каждого-пользователя-2.1\"><span class=\"toc-item-num\">2.1&nbsp;&nbsp;</span>Расчет для каждого пользователя</a></span><ul class=\"toc-item\"><li><span><a href=\"#Таблица-о-звонках-пользователей\" data-toc-modified-id=\"Таблица-о-звонках-пользователей-2.1.1\"><span class=\"toc-item-num\">2.1.1&nbsp;&nbsp;</span>Таблица о звонках пользователей</a></span></li><li><span><a href=\"#Таблица-о-интернет-трафике-пользователей\" data-toc-modified-id=\"Таблица-о-интернет-трафике-пользователей-2.1.2\"><span class=\"toc-item-num\">2.1.2&nbsp;&nbsp;</span>Таблица о интернет трафике пользователей</a></span></li><li><span><a href=\"#Таблица-о-сообщениях-пользователей\" data-toc-modified-id=\"Таблица-о-сообщениях-пользователей-2.1.3\"><span class=\"toc-item-num\">2.1.3&nbsp;&nbsp;</span>Таблица о сообщениях пользователей</a></span></li></ul></li><li><span><a href=\"#Объединение-данных.\" data-toc-modified-id=\"Объединение-данных.-2.2\"><span class=\"toc-item-num\">2.2&nbsp;&nbsp;</span>Объединение данных.</a></span></li><li><span><a href=\"#Помесячная-выручка-с-каждого-пользователя.\" data-toc-modified-id=\"Помесячная-выручка-с-каждого-пользователя.-2.3\"><span class=\"toc-item-num\">2.3&nbsp;&nbsp;</span>Помесячная выручка с каждого пользователя.</a></span></li><li><span><a href=\"#Вывод\" data-toc-modified-id=\"Вывод-2.4\"><span class=\"toc-item-num\">2.4&nbsp;&nbsp;</span>Вывод</a></span></li></ul></li><li><span><a href=\"#Анализ-данных\" data-toc-modified-id=\"Анализ-данных-3\"><span class=\"toc-item-num\">3&nbsp;&nbsp;</span>Анализ данных</a></span><ul class=\"toc-item\"><li><span><a href=\"#Количество-минут-в-месяц.\" data-toc-modified-id=\"Количество-минут-в-месяц.-3.1\"><span class=\"toc-item-num\">3.1&nbsp;&nbsp;</span>Количество минут в месяц.</a></span></li><li><span><a href=\"#Количество-сообщений-в-месяц.\" data-toc-modified-id=\"Количество-сообщений-в-месяц.-3.2\"><span class=\"toc-item-num\">3.2&nbsp;&nbsp;</span>Количество сообщений в месяц.</a></span></li><li><span><a href=\"#Количество-интернет-трафика-в-месяц.\" data-toc-modified-id=\"Количество-интернет-трафика-в-месяц.-3.3\"><span class=\"toc-item-num\">3.3&nbsp;&nbsp;</span>Количество интернет-трафика в месяц.</a></span></li></ul></li><li><span><a href=\"#Проверка-гипотезы\" data-toc-modified-id=\"Проверка-гипотезы-4\"><span class=\"toc-item-num\">4&nbsp;&nbsp;</span>Проверка гипотезы</a></span><ul class=\"toc-item\"><li><span><a href=\"#Гипотеза-1\" data-toc-modified-id=\"Гипотеза-1-4.1\"><span class=\"toc-item-num\">4.1&nbsp;&nbsp;</span>Гипотеза 1</a></span></li><li><span><a href=\"#Гипотеза-2\" data-toc-modified-id=\"Гипотеза-2-4.2\"><span class=\"toc-item-num\">4.2&nbsp;&nbsp;</span>Гипотеза 2</a></span></li><li><span><a href=\"#Вывод\" data-toc-modified-id=\"Вывод-4.3\"><span class=\"toc-item-num\">4.3&nbsp;&nbsp;</span>Вывод</a></span></li></ul></li><li><span><a href=\"#Общий-вывод\" data-toc-modified-id=\"Общий-вывод-5\"><span class=\"toc-item-num\">5&nbsp;&nbsp;</span>Общий вывод</a></span></li></ul></div>"
   ]
  },
  {
   "cell_type": "markdown",
   "id": "19b04ac3",
   "metadata": {},
   "source": [
    "# Анализ компании «Мегалайн»"
   ]
  },
  {
   "cell_type": "markdown",
   "id": "e9ff5689",
   "metadata": {},
   "source": [
    "Вы аналитик компании «Мегалайн» — федерального оператора сотовой связи. Клиентам предлагают два тарифных плана: «Смарт» и «Ультра». Чтобы скорректировать рекламный бюджет, коммерческий департамент хочет понять, какой тариф приносит больше денег.\n",
    "Вам предстоит сделать предварительный анализ тарифов на небольшой выборке клиентов. В вашем распоряжении данные 500 пользователей «Мегалайна»: кто они, откуда, каким тарифом пользуются, сколько звонков и сообщений каждый отправил за 2018 год. Нужно проанализировать поведение клиентов и сделать вывод — какой тариф лучше.\n",
    "\n",
    "**Описание тарифов:**\n",
    "\n",
    "**Тариф «Смарт»**\n",
    "1.\tЕжемесячная плата: 550 рублей\n",
    "2.\tВключено 500 минут разговора, 50 сообщений и 15 Гб интернет-трафика\n",
    "3.\tСтоимость услуг сверх тарифного пакета:\n",
    "o\tминута разговора: 3 рубля\n",
    "o\tсообщение: 3 рубля\n",
    "o\t1 Гб интернет-трафика: 200 рублей\n",
    "\n",
    "**Тариф «Ультра»**\n",
    "1.\tЕжемесячная плата: 1950 рублей\n",
    "2.\tВключено 3000 минут разговора, 1000 сообщений и 30 Гб интернет-трафика\n",
    "3.\tСтоимость услуг сверх тарифного пакета:\n",
    "o\tминута разговора: 1 рубль\n",
    "o\tсообщение: 1 рубль\n",
    "o\t1 Гб интернет-трафика: 150 рублей\n",
    "\n",
    "**Примечание:**\n",
    "\n",
    "«Мегалайн» всегда округляет секунды до минут, а мегабайты — до гигабайт. Каждый звонок округляется отдельно: даже если он длился всего 1 секунду, будет засчитан как 1 минута.\n",
    "Для веб-трафика отдельные сессии не считаются. Вместо этого общая сумма за месяц округляется в бо́льшую сторону. Если абонент использует 1025 мегабайт в этом месяце, с него возьмут плату за 2 гигабайта.\n"
   ]
  },
  {
   "cell_type": "markdown",
   "id": "851a882e",
   "metadata": {},
   "source": [
    "**Описание данных**\n",
    "\n",
    "Таблица users (информация о пользователях):\n",
    "* user_id — уникальный идентификатор пользователя\n",
    "* first_name — имя пользователя\n",
    "* last_name — фамилия пользователя\n",
    "* age — возраст пользователя (годы)\n",
    "* reg_date — дата подключения тарифа (день, месяц, год)\n",
    "* churn_date — дата прекращения пользования тарифом (если значение пропущено, то тариф ещё действовал на момент выгрузки данных)\n",
    "* city — город проживания пользователя\n",
    "* tarif — название тарифного плана\n",
    "\n",
    "Таблица calls (информация о звонках):\n",
    "* id — уникальный номер звонка\n",
    "* call_date — дата звонка\n",
    "* duration — длительность звонка в минутах\n",
    "* user_id — идентификатор пользователя, сделавшего звонок\n",
    "\n",
    "Таблица messages (информация о сообщениях):\n",
    "* id — уникальный номер сообщения\n",
    "* message_date — дата сообщения\n",
    "* user_id — идентификатор пользователя, отправившего сообщение\n",
    "\n",
    "Таблица internet (информация об интернет-сессиях):\n",
    "* id — уникальный номер сессии\n",
    "* mb_used — объём потраченного за сессию интернет-трафика (в мегабайтах)\n",
    "* session_date — дата интернет-сессии\n",
    "* user_id — идентификатор пользователя\n",
    "\n",
    "Таблица tariffs (информация о тарифах):\n",
    "* tariff_name — название тарифа\n",
    "* rub_monthly_fee — ежемесячная абонентская плата в рублях\n",
    "* minutes_included — количество минут разговора в месяц, включённых в абонентскую плату\n",
    "* messages_included — количество сообщений в месяц, включённых в абонентскую плату\n",
    "* mb_per_month_included — объём интернет-трафика, включённого в абонентскую плату (в мегабайтах)\n",
    "* rub_per_minute — стоимость минуты разговора сверх тарифного пакета (например, если в тарифе 100 минут разговора в месяц, то со 101 минуты будет взиматься плата)\n",
    "* rub_per_message — стоимость отправки сообщения сверх тарифного пакета\n",
    "* rub_per_gb — стоимость дополнительного гигабайта интернет-трафика сверх тарифного пакета (1 гигабайт = 1024 мегабайта)"
   ]
  },
  {
   "cell_type": "markdown",
   "id": "60e08cf8",
   "metadata": {},
   "source": [
    "## Изучение данных из файла"
   ]
  },
  {
   "cell_type": "code",
   "execution_count": 1,
   "id": "cc780e30",
   "metadata": {},
   "outputs": [],
   "source": [
    "import matplotlib.pyplot as plt\n",
    "import numpy as np\n",
    "import pandas as pd\n",
    "import warnings\n",
    "\n",
    "from pymystem3 import Mystem\n",
    "from scipy import stats as st"
   ]
  },
  {
   "cell_type": "markdown",
   "id": "6c70efac",
   "metadata": {},
   "source": [
    "Загрузим данные"
   ]
  },
  {
   "cell_type": "code",
   "execution_count": 2,
   "id": "88a75826",
   "metadata": {
    "scrolled": true
   },
   "outputs": [],
   "source": [
    "calls = pd.read_csv('./datasets/calls.csv', parse_dates=['call_date'])\n",
    "internet = pd.read_csv('./datasets/internet.csv', parse_dates=['session_date'], index_col=0 )\n",
    "messages = pd.read_csv('./datasets/messages.csv', parse_dates=['message_date'])\n",
    "tariffs = pd.read_csv('./datasets/tariffs.csv')\n",
    "users = pd.read_csv('./datasets/users.csv', parse_dates=['churn_date', 'reg_date'])"
   ]
  },
  {
   "cell_type": "markdown",
   "id": "8af07482",
   "metadata": {},
   "source": [
    "Изучим данные таблиц"
   ]
  },
  {
   "cell_type": "code",
   "execution_count": 3,
   "id": "c4be22f9",
   "metadata": {
    "scrolled": false
   },
   "outputs": [
    {
     "name": "stdout",
     "output_type": "stream",
     "text": [
      "<class 'pandas.core.frame.DataFrame'>\n",
      "RangeIndex: 202607 entries, 0 to 202606\n",
      "Data columns (total 4 columns):\n",
      "id           202607 non-null object\n",
      "call_date    202607 non-null datetime64[ns]\n",
      "duration     202607 non-null float64\n",
      "user_id      202607 non-null int64\n",
      "dtypes: datetime64[ns](1), float64(1), int64(1), object(1)\n",
      "memory usage: 6.2+ MB\n"
     ]
    },
    {
     "data": {
      "text/html": [
       "<div>\n",
       "<style scoped>\n",
       "    .dataframe tbody tr th:only-of-type {\n",
       "        vertical-align: middle;\n",
       "    }\n",
       "\n",
       "    .dataframe tbody tr th {\n",
       "        vertical-align: top;\n",
       "    }\n",
       "\n",
       "    .dataframe thead th {\n",
       "        text-align: right;\n",
       "    }\n",
       "</style>\n",
       "<table border=\"1\" class=\"dataframe\">\n",
       "  <thead>\n",
       "    <tr style=\"text-align: right;\">\n",
       "      <th></th>\n",
       "      <th>id</th>\n",
       "      <th>call_date</th>\n",
       "      <th>duration</th>\n",
       "      <th>user_id</th>\n",
       "    </tr>\n",
       "  </thead>\n",
       "  <tbody>\n",
       "    <tr>\n",
       "      <td>0</td>\n",
       "      <td>1000_0</td>\n",
       "      <td>2018-07-25</td>\n",
       "      <td>0.00</td>\n",
       "      <td>1000</td>\n",
       "    </tr>\n",
       "    <tr>\n",
       "      <td>1</td>\n",
       "      <td>1000_1</td>\n",
       "      <td>2018-08-17</td>\n",
       "      <td>0.00</td>\n",
       "      <td>1000</td>\n",
       "    </tr>\n",
       "    <tr>\n",
       "      <td>2</td>\n",
       "      <td>1000_2</td>\n",
       "      <td>2018-06-11</td>\n",
       "      <td>2.85</td>\n",
       "      <td>1000</td>\n",
       "    </tr>\n",
       "    <tr>\n",
       "      <td>3</td>\n",
       "      <td>1000_3</td>\n",
       "      <td>2018-09-21</td>\n",
       "      <td>13.80</td>\n",
       "      <td>1000</td>\n",
       "    </tr>\n",
       "    <tr>\n",
       "      <td>4</td>\n",
       "      <td>1000_4</td>\n",
       "      <td>2018-12-15</td>\n",
       "      <td>5.18</td>\n",
       "      <td>1000</td>\n",
       "    </tr>\n",
       "  </tbody>\n",
       "</table>\n",
       "</div>"
      ],
      "text/plain": [
       "       id  call_date  duration  user_id\n",
       "0  1000_0 2018-07-25      0.00     1000\n",
       "1  1000_1 2018-08-17      0.00     1000\n",
       "2  1000_2 2018-06-11      2.85     1000\n",
       "3  1000_3 2018-09-21     13.80     1000\n",
       "4  1000_4 2018-12-15      5.18     1000"
      ]
     },
     "metadata": {},
     "output_type": "display_data"
    },
    {
     "name": "stdout",
     "output_type": "stream",
     "text": [
      "-------------------------------------------------------------------\n",
      "\n",
      "<class 'pandas.core.frame.DataFrame'>\n",
      "Int64Index: 149396 entries, 0 to 149395\n",
      "Data columns (total 4 columns):\n",
      "id              149396 non-null object\n",
      "mb_used         149396 non-null float64\n",
      "session_date    149396 non-null datetime64[ns]\n",
      "user_id         149396 non-null int64\n",
      "dtypes: datetime64[ns](1), float64(1), int64(1), object(1)\n",
      "memory usage: 5.7+ MB\n"
     ]
    },
    {
     "data": {
      "text/html": [
       "<div>\n",
       "<style scoped>\n",
       "    .dataframe tbody tr th:only-of-type {\n",
       "        vertical-align: middle;\n",
       "    }\n",
       "\n",
       "    .dataframe tbody tr th {\n",
       "        vertical-align: top;\n",
       "    }\n",
       "\n",
       "    .dataframe thead th {\n",
       "        text-align: right;\n",
       "    }\n",
       "</style>\n",
       "<table border=\"1\" class=\"dataframe\">\n",
       "  <thead>\n",
       "    <tr style=\"text-align: right;\">\n",
       "      <th></th>\n",
       "      <th>id</th>\n",
       "      <th>mb_used</th>\n",
       "      <th>session_date</th>\n",
       "      <th>user_id</th>\n",
       "    </tr>\n",
       "  </thead>\n",
       "  <tbody>\n",
       "    <tr>\n",
       "      <td>0</td>\n",
       "      <td>1000_0</td>\n",
       "      <td>112.95</td>\n",
       "      <td>2018-11-25</td>\n",
       "      <td>1000</td>\n",
       "    </tr>\n",
       "    <tr>\n",
       "      <td>1</td>\n",
       "      <td>1000_1</td>\n",
       "      <td>1052.81</td>\n",
       "      <td>2018-09-07</td>\n",
       "      <td>1000</td>\n",
       "    </tr>\n",
       "    <tr>\n",
       "      <td>2</td>\n",
       "      <td>1000_2</td>\n",
       "      <td>1197.26</td>\n",
       "      <td>2018-06-25</td>\n",
       "      <td>1000</td>\n",
       "    </tr>\n",
       "    <tr>\n",
       "      <td>3</td>\n",
       "      <td>1000_3</td>\n",
       "      <td>550.27</td>\n",
       "      <td>2018-08-22</td>\n",
       "      <td>1000</td>\n",
       "    </tr>\n",
       "    <tr>\n",
       "      <td>4</td>\n",
       "      <td>1000_4</td>\n",
       "      <td>302.56</td>\n",
       "      <td>2018-09-24</td>\n",
       "      <td>1000</td>\n",
       "    </tr>\n",
       "  </tbody>\n",
       "</table>\n",
       "</div>"
      ],
      "text/plain": [
       "       id  mb_used session_date  user_id\n",
       "0  1000_0   112.95   2018-11-25     1000\n",
       "1  1000_1  1052.81   2018-09-07     1000\n",
       "2  1000_2  1197.26   2018-06-25     1000\n",
       "3  1000_3   550.27   2018-08-22     1000\n",
       "4  1000_4   302.56   2018-09-24     1000"
      ]
     },
     "metadata": {},
     "output_type": "display_data"
    },
    {
     "name": "stdout",
     "output_type": "stream",
     "text": [
      "-------------------------------------------------------------------\n",
      "\n",
      "<class 'pandas.core.frame.DataFrame'>\n",
      "RangeIndex: 123036 entries, 0 to 123035\n",
      "Data columns (total 3 columns):\n",
      "id              123036 non-null object\n",
      "message_date    123036 non-null datetime64[ns]\n",
      "user_id         123036 non-null int64\n",
      "dtypes: datetime64[ns](1), int64(1), object(1)\n",
      "memory usage: 2.8+ MB\n"
     ]
    },
    {
     "data": {
      "text/html": [
       "<div>\n",
       "<style scoped>\n",
       "    .dataframe tbody tr th:only-of-type {\n",
       "        vertical-align: middle;\n",
       "    }\n",
       "\n",
       "    .dataframe tbody tr th {\n",
       "        vertical-align: top;\n",
       "    }\n",
       "\n",
       "    .dataframe thead th {\n",
       "        text-align: right;\n",
       "    }\n",
       "</style>\n",
       "<table border=\"1\" class=\"dataframe\">\n",
       "  <thead>\n",
       "    <tr style=\"text-align: right;\">\n",
       "      <th></th>\n",
       "      <th>id</th>\n",
       "      <th>message_date</th>\n",
       "      <th>user_id</th>\n",
       "    </tr>\n",
       "  </thead>\n",
       "  <tbody>\n",
       "    <tr>\n",
       "      <td>0</td>\n",
       "      <td>1000_0</td>\n",
       "      <td>2018-06-27</td>\n",
       "      <td>1000</td>\n",
       "    </tr>\n",
       "    <tr>\n",
       "      <td>1</td>\n",
       "      <td>1000_1</td>\n",
       "      <td>2018-10-08</td>\n",
       "      <td>1000</td>\n",
       "    </tr>\n",
       "    <tr>\n",
       "      <td>2</td>\n",
       "      <td>1000_2</td>\n",
       "      <td>2018-08-04</td>\n",
       "      <td>1000</td>\n",
       "    </tr>\n",
       "    <tr>\n",
       "      <td>3</td>\n",
       "      <td>1000_3</td>\n",
       "      <td>2018-06-16</td>\n",
       "      <td>1000</td>\n",
       "    </tr>\n",
       "    <tr>\n",
       "      <td>4</td>\n",
       "      <td>1000_4</td>\n",
       "      <td>2018-12-05</td>\n",
       "      <td>1000</td>\n",
       "    </tr>\n",
       "  </tbody>\n",
       "</table>\n",
       "</div>"
      ],
      "text/plain": [
       "       id message_date  user_id\n",
       "0  1000_0   2018-06-27     1000\n",
       "1  1000_1   2018-10-08     1000\n",
       "2  1000_2   2018-08-04     1000\n",
       "3  1000_3   2018-06-16     1000\n",
       "4  1000_4   2018-12-05     1000"
      ]
     },
     "metadata": {},
     "output_type": "display_data"
    },
    {
     "name": "stdout",
     "output_type": "stream",
     "text": [
      "-------------------------------------------------------------------\n",
      "\n",
      "<class 'pandas.core.frame.DataFrame'>\n",
      "RangeIndex: 2 entries, 0 to 1\n",
      "Data columns (total 8 columns):\n",
      "messages_included        2 non-null int64\n",
      "mb_per_month_included    2 non-null int64\n",
      "minutes_included         2 non-null int64\n",
      "rub_monthly_fee          2 non-null int64\n",
      "rub_per_gb               2 non-null int64\n",
      "rub_per_message          2 non-null int64\n",
      "rub_per_minute           2 non-null int64\n",
      "tariff_name              2 non-null object\n",
      "dtypes: int64(7), object(1)\n",
      "memory usage: 256.0+ bytes\n"
     ]
    },
    {
     "data": {
      "text/html": [
       "<div>\n",
       "<style scoped>\n",
       "    .dataframe tbody tr th:only-of-type {\n",
       "        vertical-align: middle;\n",
       "    }\n",
       "\n",
       "    .dataframe tbody tr th {\n",
       "        vertical-align: top;\n",
       "    }\n",
       "\n",
       "    .dataframe thead th {\n",
       "        text-align: right;\n",
       "    }\n",
       "</style>\n",
       "<table border=\"1\" class=\"dataframe\">\n",
       "  <thead>\n",
       "    <tr style=\"text-align: right;\">\n",
       "      <th></th>\n",
       "      <th>messages_included</th>\n",
       "      <th>mb_per_month_included</th>\n",
       "      <th>minutes_included</th>\n",
       "      <th>rub_monthly_fee</th>\n",
       "      <th>rub_per_gb</th>\n",
       "      <th>rub_per_message</th>\n",
       "      <th>rub_per_minute</th>\n",
       "      <th>tariff_name</th>\n",
       "    </tr>\n",
       "  </thead>\n",
       "  <tbody>\n",
       "    <tr>\n",
       "      <td>0</td>\n",
       "      <td>50</td>\n",
       "      <td>15360</td>\n",
       "      <td>500</td>\n",
       "      <td>550</td>\n",
       "      <td>200</td>\n",
       "      <td>3</td>\n",
       "      <td>3</td>\n",
       "      <td>smart</td>\n",
       "    </tr>\n",
       "    <tr>\n",
       "      <td>1</td>\n",
       "      <td>1000</td>\n",
       "      <td>30720</td>\n",
       "      <td>3000</td>\n",
       "      <td>1950</td>\n",
       "      <td>150</td>\n",
       "      <td>1</td>\n",
       "      <td>1</td>\n",
       "      <td>ultra</td>\n",
       "    </tr>\n",
       "  </tbody>\n",
       "</table>\n",
       "</div>"
      ],
      "text/plain": [
       "   messages_included  mb_per_month_included  minutes_included  \\\n",
       "0                 50                  15360               500   \n",
       "1               1000                  30720              3000   \n",
       "\n",
       "   rub_monthly_fee  rub_per_gb  rub_per_message  rub_per_minute tariff_name  \n",
       "0              550         200                3               3       smart  \n",
       "1             1950         150                1               1       ultra  "
      ]
     },
     "metadata": {},
     "output_type": "display_data"
    },
    {
     "name": "stdout",
     "output_type": "stream",
     "text": [
      "-------------------------------------------------------------------\n",
      "\n",
      "<class 'pandas.core.frame.DataFrame'>\n",
      "RangeIndex: 500 entries, 0 to 499\n",
      "Data columns (total 8 columns):\n",
      "user_id       500 non-null int64\n",
      "age           500 non-null int64\n",
      "churn_date    38 non-null datetime64[ns]\n",
      "city          500 non-null object\n",
      "first_name    500 non-null object\n",
      "last_name     500 non-null object\n",
      "reg_date      500 non-null datetime64[ns]\n",
      "tariff        500 non-null object\n",
      "dtypes: datetime64[ns](2), int64(2), object(4)\n",
      "memory usage: 31.4+ KB\n"
     ]
    },
    {
     "data": {
      "text/html": [
       "<div>\n",
       "<style scoped>\n",
       "    .dataframe tbody tr th:only-of-type {\n",
       "        vertical-align: middle;\n",
       "    }\n",
       "\n",
       "    .dataframe tbody tr th {\n",
       "        vertical-align: top;\n",
       "    }\n",
       "\n",
       "    .dataframe thead th {\n",
       "        text-align: right;\n",
       "    }\n",
       "</style>\n",
       "<table border=\"1\" class=\"dataframe\">\n",
       "  <thead>\n",
       "    <tr style=\"text-align: right;\">\n",
       "      <th></th>\n",
       "      <th>user_id</th>\n",
       "      <th>age</th>\n",
       "      <th>churn_date</th>\n",
       "      <th>city</th>\n",
       "      <th>first_name</th>\n",
       "      <th>last_name</th>\n",
       "      <th>reg_date</th>\n",
       "      <th>tariff</th>\n",
       "    </tr>\n",
       "  </thead>\n",
       "  <tbody>\n",
       "    <tr>\n",
       "      <td>0</td>\n",
       "      <td>1000</td>\n",
       "      <td>52</td>\n",
       "      <td>NaT</td>\n",
       "      <td>Краснодар</td>\n",
       "      <td>Рафаил</td>\n",
       "      <td>Верещагин</td>\n",
       "      <td>2018-05-25</td>\n",
       "      <td>ultra</td>\n",
       "    </tr>\n",
       "    <tr>\n",
       "      <td>1</td>\n",
       "      <td>1001</td>\n",
       "      <td>41</td>\n",
       "      <td>NaT</td>\n",
       "      <td>Москва</td>\n",
       "      <td>Иван</td>\n",
       "      <td>Ежов</td>\n",
       "      <td>2018-11-01</td>\n",
       "      <td>smart</td>\n",
       "    </tr>\n",
       "    <tr>\n",
       "      <td>2</td>\n",
       "      <td>1002</td>\n",
       "      <td>59</td>\n",
       "      <td>NaT</td>\n",
       "      <td>Стерлитамак</td>\n",
       "      <td>Евгений</td>\n",
       "      <td>Абрамович</td>\n",
       "      <td>2018-06-17</td>\n",
       "      <td>smart</td>\n",
       "    </tr>\n",
       "    <tr>\n",
       "      <td>3</td>\n",
       "      <td>1003</td>\n",
       "      <td>23</td>\n",
       "      <td>NaT</td>\n",
       "      <td>Москва</td>\n",
       "      <td>Белла</td>\n",
       "      <td>Белякова</td>\n",
       "      <td>2018-08-17</td>\n",
       "      <td>ultra</td>\n",
       "    </tr>\n",
       "    <tr>\n",
       "      <td>4</td>\n",
       "      <td>1004</td>\n",
       "      <td>68</td>\n",
       "      <td>NaT</td>\n",
       "      <td>Новокузнецк</td>\n",
       "      <td>Татьяна</td>\n",
       "      <td>Авдеенко</td>\n",
       "      <td>2018-05-14</td>\n",
       "      <td>ultra</td>\n",
       "    </tr>\n",
       "  </tbody>\n",
       "</table>\n",
       "</div>"
      ],
      "text/plain": [
       "   user_id  age churn_date         city first_name  last_name   reg_date  \\\n",
       "0     1000   52        NaT    Краснодар     Рафаил  Верещагин 2018-05-25   \n",
       "1     1001   41        NaT       Москва       Иван       Ежов 2018-11-01   \n",
       "2     1002   59        NaT  Стерлитамак    Евгений  Абрамович 2018-06-17   \n",
       "3     1003   23        NaT       Москва      Белла   Белякова 2018-08-17   \n",
       "4     1004   68        NaT  Новокузнецк    Татьяна   Авдеенко 2018-05-14   \n",
       "\n",
       "  tariff  \n",
       "0  ultra  \n",
       "1  smart  \n",
       "2  smart  \n",
       "3  ultra  \n",
       "4  ultra  "
      ]
     },
     "metadata": {},
     "output_type": "display_data"
    },
    {
     "name": "stdout",
     "output_type": "stream",
     "text": [
      "-------------------------------------------------------------------\n",
      "\n"
     ]
    }
   ],
   "source": [
    "table = [calls, internet, messages, tariffs, users]\n",
    "for row in table:\n",
    "    row.info()\n",
    "    display(row.head())\n",
    "    print('-------------------------------------------------------------------', end='\\n\\n')"
   ]
  },
  {
   "cell_type": "markdown",
   "id": "752bbbf7",
   "metadata": {},
   "source": [
    "**Вывод**\n",
    "\n",
    "Проанализировав данные, изменили типы данных у столбцов с датой, при чтении файла. И избавились от столбца **'Unnamed: 0'** таблицы **internet**, как дублирующего значения индексов. \n",
    "\n",
    "Пустые значения присутствуют только в таблице users, столбце churn_date, где хранится информация о дате прекращения использования тарифа. В данном случае, если значение пропущено, то тариф ещё действовал на момент выгрузки данных, поэтому трогать их не будем. \n",
    "\n",
    "В таблице **calls** столбце **duration**, имеются нулевые значения. Это не ошибка: нулями обозначены пропущенные звонки, поэтому их не нужно удалять.\n",
    "\n",
    "Все остальные данные в порядке. "
   ]
  },
  {
   "cell_type": "markdown",
   "id": "f0dc0ab7",
   "metadata": {},
   "source": [
    "## Предобработка данных"
   ]
  },
  {
   "cell_type": "markdown",
   "id": "cc4450de",
   "metadata": {},
   "source": [
    "### Расчет для каждого пользователя"
   ]
  },
  {
   "cell_type": "markdown",
   "id": "3d3ebeb8",
   "metadata": {},
   "source": [
    "Посчитайте для каждого пользователя:\n",
    "1. количество сделанных звонков и израсходованных минут разговора по месяцам;\n",
    "2. количество отправленных сообщений по месяцам;\n",
    "3. объем израсходованного интернет-трафика по месяцам;\n"
   ]
  },
  {
   "cell_type": "markdown",
   "id": "4aaa4a3f",
   "metadata": {},
   "source": [
    "Добавим в таблицы calls, internet и messages столбец month, с указанием месяца, проведенных операций."
   ]
  },
  {
   "cell_type": "code",
   "execution_count": 4,
   "id": "d720c9c9",
   "metadata": {},
   "outputs": [],
   "source": [
    "calls['month'] = calls['call_date'].dt.month\n",
    "internet['month'] = internet['session_date'].dt.month\n",
    "messages['month'] = messages['message_date'].dt.month"
   ]
  },
  {
   "cell_type": "markdown",
   "id": "0e7a6f6d",
   "metadata": {},
   "source": [
    "#### Таблица о звонках пользователей "
   ]
  },
  {
   "cell_type": "markdown",
   "id": "9c1895f4",
   "metadata": {},
   "source": [
    "Округлим каждый звонок абонентов до минуты, если звонок длился 1 секунду, будет засчитан, как 1 минута. И переведем в целочисленный тип"
   ]
  },
  {
   "cell_type": "code",
   "execution_count": 5,
   "id": "d79ccb49",
   "metadata": {
    "scrolled": true
   },
   "outputs": [
    {
     "data": {
      "text/html": [
       "<div>\n",
       "<style scoped>\n",
       "    .dataframe tbody tr th:only-of-type {\n",
       "        vertical-align: middle;\n",
       "    }\n",
       "\n",
       "    .dataframe tbody tr th {\n",
       "        vertical-align: top;\n",
       "    }\n",
       "\n",
       "    .dataframe thead th {\n",
       "        text-align: right;\n",
       "    }\n",
       "</style>\n",
       "<table border=\"1\" class=\"dataframe\">\n",
       "  <thead>\n",
       "    <tr style=\"text-align: right;\">\n",
       "      <th></th>\n",
       "      <th>id</th>\n",
       "      <th>call_date</th>\n",
       "      <th>duration</th>\n",
       "      <th>user_id</th>\n",
       "      <th>month</th>\n",
       "    </tr>\n",
       "  </thead>\n",
       "  <tbody>\n",
       "    <tr>\n",
       "      <td>0</td>\n",
       "      <td>1000_0</td>\n",
       "      <td>2018-07-25</td>\n",
       "      <td>0</td>\n",
       "      <td>1000</td>\n",
       "      <td>7</td>\n",
       "    </tr>\n",
       "    <tr>\n",
       "      <td>1</td>\n",
       "      <td>1000_1</td>\n",
       "      <td>2018-08-17</td>\n",
       "      <td>0</td>\n",
       "      <td>1000</td>\n",
       "      <td>8</td>\n",
       "    </tr>\n",
       "    <tr>\n",
       "      <td>2</td>\n",
       "      <td>1000_2</td>\n",
       "      <td>2018-06-11</td>\n",
       "      <td>3</td>\n",
       "      <td>1000</td>\n",
       "      <td>6</td>\n",
       "    </tr>\n",
       "    <tr>\n",
       "      <td>3</td>\n",
       "      <td>1000_3</td>\n",
       "      <td>2018-09-21</td>\n",
       "      <td>14</td>\n",
       "      <td>1000</td>\n",
       "      <td>9</td>\n",
       "    </tr>\n",
       "    <tr>\n",
       "      <td>4</td>\n",
       "      <td>1000_4</td>\n",
       "      <td>2018-12-15</td>\n",
       "      <td>6</td>\n",
       "      <td>1000</td>\n",
       "      <td>12</td>\n",
       "    </tr>\n",
       "  </tbody>\n",
       "</table>\n",
       "</div>"
      ],
      "text/plain": [
       "       id  call_date  duration  user_id  month\n",
       "0  1000_0 2018-07-25         0     1000      7\n",
       "1  1000_1 2018-08-17         0     1000      8\n",
       "2  1000_2 2018-06-11         3     1000      6\n",
       "3  1000_3 2018-09-21        14     1000      9\n",
       "4  1000_4 2018-12-15         6     1000     12"
      ]
     },
     "execution_count": 5,
     "metadata": {},
     "output_type": "execute_result"
    }
   ],
   "source": [
    "calls['duration'] = calls['duration'].apply(np.ceil).astype('int')\n",
    "calls.head()"
   ]
  },
  {
   "cell_type": "markdown",
   "id": "1479a0cd",
   "metadata": {},
   "source": [
    "Для каждого пользователя сгруппируем данные по количеству и длительности сделанных звонков по месяцам."
   ]
  },
  {
   "cell_type": "code",
   "execution_count": 6,
   "id": "5eb65b63",
   "metadata": {},
   "outputs": [
    {
     "data": {
      "text/html": [
       "<div>\n",
       "<style scoped>\n",
       "    .dataframe tbody tr th:only-of-type {\n",
       "        vertical-align: middle;\n",
       "    }\n",
       "\n",
       "    .dataframe tbody tr th {\n",
       "        vertical-align: top;\n",
       "    }\n",
       "\n",
       "    .dataframe thead th {\n",
       "        text-align: right;\n",
       "    }\n",
       "</style>\n",
       "<table border=\"1\" class=\"dataframe\">\n",
       "  <thead>\n",
       "    <tr style=\"text-align: right;\">\n",
       "      <th></th>\n",
       "      <th>user_id</th>\n",
       "      <th>month</th>\n",
       "      <th>calls_count</th>\n",
       "      <th>duration</th>\n",
       "    </tr>\n",
       "  </thead>\n",
       "  <tbody>\n",
       "    <tr>\n",
       "      <td>0</td>\n",
       "      <td>1000</td>\n",
       "      <td>5</td>\n",
       "      <td>22</td>\n",
       "      <td>159</td>\n",
       "    </tr>\n",
       "    <tr>\n",
       "      <td>1</td>\n",
       "      <td>1000</td>\n",
       "      <td>6</td>\n",
       "      <td>43</td>\n",
       "      <td>172</td>\n",
       "    </tr>\n",
       "    <tr>\n",
       "      <td>2</td>\n",
       "      <td>1000</td>\n",
       "      <td>7</td>\n",
       "      <td>47</td>\n",
       "      <td>340</td>\n",
       "    </tr>\n",
       "    <tr>\n",
       "      <td>3</td>\n",
       "      <td>1000</td>\n",
       "      <td>8</td>\n",
       "      <td>52</td>\n",
       "      <td>408</td>\n",
       "    </tr>\n",
       "    <tr>\n",
       "      <td>4</td>\n",
       "      <td>1000</td>\n",
       "      <td>9</td>\n",
       "      <td>58</td>\n",
       "      <td>466</td>\n",
       "    </tr>\n",
       "    <tr>\n",
       "      <td>5</td>\n",
       "      <td>1000</td>\n",
       "      <td>10</td>\n",
       "      <td>57</td>\n",
       "      <td>350</td>\n",
       "    </tr>\n",
       "    <tr>\n",
       "      <td>6</td>\n",
       "      <td>1000</td>\n",
       "      <td>11</td>\n",
       "      <td>43</td>\n",
       "      <td>338</td>\n",
       "    </tr>\n",
       "    <tr>\n",
       "      <td>7</td>\n",
       "      <td>1000</td>\n",
       "      <td>12</td>\n",
       "      <td>46</td>\n",
       "      <td>333</td>\n",
       "    </tr>\n",
       "    <tr>\n",
       "      <td>8</td>\n",
       "      <td>1001</td>\n",
       "      <td>11</td>\n",
       "      <td>59</td>\n",
       "      <td>430</td>\n",
       "    </tr>\n",
       "    <tr>\n",
       "      <td>9</td>\n",
       "      <td>1001</td>\n",
       "      <td>12</td>\n",
       "      <td>63</td>\n",
       "      <td>414</td>\n",
       "    </tr>\n",
       "  </tbody>\n",
       "</table>\n",
       "</div>"
      ],
      "text/plain": [
       "   user_id  month  calls_count  duration\n",
       "0     1000      5           22       159\n",
       "1     1000      6           43       172\n",
       "2     1000      7           47       340\n",
       "3     1000      8           52       408\n",
       "4     1000      9           58       466\n",
       "5     1000     10           57       350\n",
       "6     1000     11           43       338\n",
       "7     1000     12           46       333\n",
       "8     1001     11           59       430\n",
       "9     1001     12           63       414"
      ]
     },
     "execution_count": 6,
     "metadata": {},
     "output_type": "execute_result"
    }
   ],
   "source": [
    "calls_group = calls.groupby(['user_id', 'month'])['duration'].agg(['count','sum']).reset_index()\n",
    "calls_group.columns = ['user_id', 'month', 'calls_count', 'duration']\n",
    "calls_group.head(10)"
   ]
  },
  {
   "cell_type": "markdown",
   "id": "6736f808",
   "metadata": {},
   "source": [
    "#### Таблица о интернет трафике пользователей"
   ]
  },
  {
   "cell_type": "code",
   "execution_count": 7,
   "id": "6212c79f",
   "metadata": {},
   "outputs": [
    {
     "data": {
      "text/html": [
       "<div>\n",
       "<style scoped>\n",
       "    .dataframe tbody tr th:only-of-type {\n",
       "        vertical-align: middle;\n",
       "    }\n",
       "\n",
       "    .dataframe tbody tr th {\n",
       "        vertical-align: top;\n",
       "    }\n",
       "\n",
       "    .dataframe thead th {\n",
       "        text-align: right;\n",
       "    }\n",
       "</style>\n",
       "<table border=\"1\" class=\"dataframe\">\n",
       "  <thead>\n",
       "    <tr style=\"text-align: right;\">\n",
       "      <th></th>\n",
       "      <th>id</th>\n",
       "      <th>mb_used</th>\n",
       "      <th>session_date</th>\n",
       "      <th>user_id</th>\n",
       "      <th>month</th>\n",
       "    </tr>\n",
       "  </thead>\n",
       "  <tbody>\n",
       "    <tr>\n",
       "      <td>11</td>\n",
       "      <td>1000_11</td>\n",
       "      <td>0.0</td>\n",
       "      <td>2018-08-28</td>\n",
       "      <td>1000</td>\n",
       "      <td>8</td>\n",
       "    </tr>\n",
       "    <tr>\n",
       "      <td>38</td>\n",
       "      <td>1000_38</td>\n",
       "      <td>0.0</td>\n",
       "      <td>2018-11-27</td>\n",
       "      <td>1000</td>\n",
       "      <td>11</td>\n",
       "    </tr>\n",
       "    <tr>\n",
       "      <td>46</td>\n",
       "      <td>1000_46</td>\n",
       "      <td>0.0</td>\n",
       "      <td>2018-06-30</td>\n",
       "      <td>1000</td>\n",
       "      <td>6</td>\n",
       "    </tr>\n",
       "    <tr>\n",
       "      <td>67</td>\n",
       "      <td>1000_67</td>\n",
       "      <td>0.0</td>\n",
       "      <td>2018-06-16</td>\n",
       "      <td>1000</td>\n",
       "      <td>6</td>\n",
       "    </tr>\n",
       "    <tr>\n",
       "      <td>72</td>\n",
       "      <td>1000_72</td>\n",
       "      <td>0.0</td>\n",
       "      <td>2018-06-15</td>\n",
       "      <td>1000</td>\n",
       "      <td>6</td>\n",
       "    </tr>\n",
       "    <tr>\n",
       "      <td>...</td>\n",
       "      <td>...</td>\n",
       "      <td>...</td>\n",
       "      <td>...</td>\n",
       "      <td>...</td>\n",
       "      <td>...</td>\n",
       "    </tr>\n",
       "    <tr>\n",
       "      <td>149380</td>\n",
       "      <td>1499_141</td>\n",
       "      <td>0.0</td>\n",
       "      <td>2018-12-11</td>\n",
       "      <td>1499</td>\n",
       "      <td>12</td>\n",
       "    </tr>\n",
       "    <tr>\n",
       "      <td>149381</td>\n",
       "      <td>1499_142</td>\n",
       "      <td>0.0</td>\n",
       "      <td>2018-11-01</td>\n",
       "      <td>1499</td>\n",
       "      <td>11</td>\n",
       "    </tr>\n",
       "    <tr>\n",
       "      <td>149383</td>\n",
       "      <td>1499_144</td>\n",
       "      <td>0.0</td>\n",
       "      <td>2018-11-27</td>\n",
       "      <td>1499</td>\n",
       "      <td>11</td>\n",
       "    </tr>\n",
       "    <tr>\n",
       "      <td>149386</td>\n",
       "      <td>1499_147</td>\n",
       "      <td>0.0</td>\n",
       "      <td>2018-10-21</td>\n",
       "      <td>1499</td>\n",
       "      <td>10</td>\n",
       "    </tr>\n",
       "    <tr>\n",
       "      <td>149393</td>\n",
       "      <td>1499_154</td>\n",
       "      <td>0.0</td>\n",
       "      <td>2018-10-27</td>\n",
       "      <td>1499</td>\n",
       "      <td>10</td>\n",
       "    </tr>\n",
       "  </tbody>\n",
       "</table>\n",
       "<p>19598 rows × 5 columns</p>\n",
       "</div>"
      ],
      "text/plain": [
       "              id  mb_used session_date  user_id  month\n",
       "11       1000_11      0.0   2018-08-28     1000      8\n",
       "38       1000_38      0.0   2018-11-27     1000     11\n",
       "46       1000_46      0.0   2018-06-30     1000      6\n",
       "67       1000_67      0.0   2018-06-16     1000      6\n",
       "72       1000_72      0.0   2018-06-15     1000      6\n",
       "...          ...      ...          ...      ...    ...\n",
       "149380  1499_141      0.0   2018-12-11     1499     12\n",
       "149381  1499_142      0.0   2018-11-01     1499     11\n",
       "149383  1499_144      0.0   2018-11-27     1499     11\n",
       "149386  1499_147      0.0   2018-10-21     1499     10\n",
       "149393  1499_154      0.0   2018-10-27     1499     10\n",
       "\n",
       "[19598 rows x 5 columns]"
      ]
     },
     "execution_count": 7,
     "metadata": {},
     "output_type": "execute_result"
    }
   ],
   "source": [
    "internet.query('mb_used == 0')"
   ]
  },
  {
   "cell_type": "markdown",
   "id": "a77de4d1",
   "metadata": {},
   "source": [
    "Как видно, в столбце mb_used, присутствует 19598 нулевых значений. Они могли появиться при подключении интернета, но отсутствующего трафика или при потере данных. Удалим эти строки из таблицы."
   ]
  },
  {
   "cell_type": "code",
   "execution_count": 8,
   "id": "f02a1ceb",
   "metadata": {},
   "outputs": [],
   "source": [
    "internet = internet.query(\"mb_used != 0\").reset_index(drop=True)"
   ]
  },
  {
   "cell_type": "markdown",
   "id": "52f64e6b",
   "metadata": {},
   "source": [
    "Для каждого пользователя сгруппируем данные по объему израсходованного интернет-трафика по месяцам."
   ]
  },
  {
   "cell_type": "code",
   "execution_count": 9,
   "id": "099aabec",
   "metadata": {},
   "outputs": [],
   "source": [
    "internet_group = internet.groupby(['user_id', 'month'])['mb_used'].sum().reset_index()\n",
    "internet_group.columns = ['user_id', 'month', 'mb_used']\n",
    "internet_group.head()"
   ]
  },
  {
   "cell_type": "markdown",
   "id": "650ddc3c",
   "metadata": {},
   "source": [
    "Для интернет-трафика посчитаем общую сумму за месяц, округляя в большую сторону. Если абонент использует 1025 мегабайт в этом месяце, то считаем как, 2 гигабайта. Для этого создадим столбец gb_used"
   ]
  },
  {
   "cell_type": "code",
   "execution_count": 10,
   "id": "3e81b94e",
   "metadata": {},
   "outputs": [
    {
     "data": {
      "text/html": [
       "<div>\n",
       "<style scoped>\n",
       "    .dataframe tbody tr th:only-of-type {\n",
       "        vertical-align: middle;\n",
       "    }\n",
       "\n",
       "    .dataframe tbody tr th {\n",
       "        vertical-align: top;\n",
       "    }\n",
       "\n",
       "    .dataframe thead th {\n",
       "        text-align: right;\n",
       "    }\n",
       "</style>\n",
       "<table border=\"1\" class=\"dataframe\">\n",
       "  <thead>\n",
       "    <tr style=\"text-align: right;\">\n",
       "      <th></th>\n",
       "      <th>user_id</th>\n",
       "      <th>month</th>\n",
       "      <th>mb_used</th>\n",
       "      <th>gb_used</th>\n",
       "    </tr>\n",
       "  </thead>\n",
       "  <tbody>\n",
       "    <tr>\n",
       "      <td>0</td>\n",
       "      <td>1000</td>\n",
       "      <td>5</td>\n",
       "      <td>2253.49</td>\n",
       "      <td>3</td>\n",
       "    </tr>\n",
       "    <tr>\n",
       "      <td>1</td>\n",
       "      <td>1000</td>\n",
       "      <td>6</td>\n",
       "      <td>23233.77</td>\n",
       "      <td>23</td>\n",
       "    </tr>\n",
       "    <tr>\n",
       "      <td>2</td>\n",
       "      <td>1000</td>\n",
       "      <td>7</td>\n",
       "      <td>14003.64</td>\n",
       "      <td>14</td>\n",
       "    </tr>\n",
       "    <tr>\n",
       "      <td>3</td>\n",
       "      <td>1000</td>\n",
       "      <td>8</td>\n",
       "      <td>14055.93</td>\n",
       "      <td>14</td>\n",
       "    </tr>\n",
       "    <tr>\n",
       "      <td>4</td>\n",
       "      <td>1000</td>\n",
       "      <td>9</td>\n",
       "      <td>14568.91</td>\n",
       "      <td>15</td>\n",
       "    </tr>\n",
       "    <tr>\n",
       "      <td>5</td>\n",
       "      <td>1000</td>\n",
       "      <td>10</td>\n",
       "      <td>14702.49</td>\n",
       "      <td>15</td>\n",
       "    </tr>\n",
       "    <tr>\n",
       "      <td>6</td>\n",
       "      <td>1000</td>\n",
       "      <td>11</td>\n",
       "      <td>14756.47</td>\n",
       "      <td>15</td>\n",
       "    </tr>\n",
       "    <tr>\n",
       "      <td>7</td>\n",
       "      <td>1000</td>\n",
       "      <td>12</td>\n",
       "      <td>9817.61</td>\n",
       "      <td>10</td>\n",
       "    </tr>\n",
       "    <tr>\n",
       "      <td>8</td>\n",
       "      <td>1001</td>\n",
       "      <td>11</td>\n",
       "      <td>18429.34</td>\n",
       "      <td>18</td>\n",
       "    </tr>\n",
       "    <tr>\n",
       "      <td>9</td>\n",
       "      <td>1001</td>\n",
       "      <td>12</td>\n",
       "      <td>14036.66</td>\n",
       "      <td>14</td>\n",
       "    </tr>\n",
       "  </tbody>\n",
       "</table>\n",
       "</div>"
      ],
      "text/plain": [
       "   user_id  month   mb_used  gb_used\n",
       "0     1000      5   2253.49        3\n",
       "1     1000      6  23233.77       23\n",
       "2     1000      7  14003.64       14\n",
       "3     1000      8  14055.93       14\n",
       "4     1000      9  14568.91       15\n",
       "5     1000     10  14702.49       15\n",
       "6     1000     11  14756.47       15\n",
       "7     1000     12   9817.61       10\n",
       "8     1001     11  18429.34       18\n",
       "9     1001     12  14036.66       14"
      ]
     },
     "execution_count": 10,
     "metadata": {},
     "output_type": "execute_result"
    }
   ],
   "source": [
    "internet_group['gb_used'] = np.ceil(internet_group['mb_used'] / 1024).astype('int')\n",
    "internet_group.head(10)"
   ]
  },
  {
   "cell_type": "markdown",
   "id": "878646bf",
   "metadata": {},
   "source": [
    "#### Таблица о сообщениях пользователей"
   ]
  },
  {
   "cell_type": "markdown",
   "id": "82611967",
   "metadata": {},
   "source": [
    "Для каждого пользователя сгруппируем данные по количеству отправленных сообщений по месяцам"
   ]
  },
  {
   "cell_type": "code",
   "execution_count": 11,
   "id": "133273f6",
   "metadata": {},
   "outputs": [
    {
     "data": {
      "text/html": [
       "<div>\n",
       "<style scoped>\n",
       "    .dataframe tbody tr th:only-of-type {\n",
       "        vertical-align: middle;\n",
       "    }\n",
       "\n",
       "    .dataframe tbody tr th {\n",
       "        vertical-align: top;\n",
       "    }\n",
       "\n",
       "    .dataframe thead th {\n",
       "        text-align: right;\n",
       "    }\n",
       "</style>\n",
       "<table border=\"1\" class=\"dataframe\">\n",
       "  <thead>\n",
       "    <tr style=\"text-align: right;\">\n",
       "      <th></th>\n",
       "      <th>user_id</th>\n",
       "      <th>month</th>\n",
       "      <th>message</th>\n",
       "    </tr>\n",
       "  </thead>\n",
       "  <tbody>\n",
       "    <tr>\n",
       "      <td>0</td>\n",
       "      <td>1000</td>\n",
       "      <td>5</td>\n",
       "      <td>22</td>\n",
       "    </tr>\n",
       "    <tr>\n",
       "      <td>1</td>\n",
       "      <td>1000</td>\n",
       "      <td>6</td>\n",
       "      <td>60</td>\n",
       "    </tr>\n",
       "    <tr>\n",
       "      <td>2</td>\n",
       "      <td>1000</td>\n",
       "      <td>7</td>\n",
       "      <td>75</td>\n",
       "    </tr>\n",
       "    <tr>\n",
       "      <td>3</td>\n",
       "      <td>1000</td>\n",
       "      <td>8</td>\n",
       "      <td>81</td>\n",
       "    </tr>\n",
       "    <tr>\n",
       "      <td>4</td>\n",
       "      <td>1000</td>\n",
       "      <td>9</td>\n",
       "      <td>57</td>\n",
       "    </tr>\n",
       "    <tr>\n",
       "      <td>5</td>\n",
       "      <td>1000</td>\n",
       "      <td>10</td>\n",
       "      <td>73</td>\n",
       "    </tr>\n",
       "    <tr>\n",
       "      <td>6</td>\n",
       "      <td>1000</td>\n",
       "      <td>11</td>\n",
       "      <td>58</td>\n",
       "    </tr>\n",
       "    <tr>\n",
       "      <td>7</td>\n",
       "      <td>1000</td>\n",
       "      <td>12</td>\n",
       "      <td>70</td>\n",
       "    </tr>\n",
       "    <tr>\n",
       "      <td>8</td>\n",
       "      <td>1002</td>\n",
       "      <td>6</td>\n",
       "      <td>4</td>\n",
       "    </tr>\n",
       "    <tr>\n",
       "      <td>9</td>\n",
       "      <td>1002</td>\n",
       "      <td>7</td>\n",
       "      <td>11</td>\n",
       "    </tr>\n",
       "  </tbody>\n",
       "</table>\n",
       "</div>"
      ],
      "text/plain": [
       "   user_id  month  message\n",
       "0     1000      5       22\n",
       "1     1000      6       60\n",
       "2     1000      7       75\n",
       "3     1000      8       81\n",
       "4     1000      9       57\n",
       "5     1000     10       73\n",
       "6     1000     11       58\n",
       "7     1000     12       70\n",
       "8     1002      6        4\n",
       "9     1002      7       11"
      ]
     },
     "execution_count": 11,
     "metadata": {},
     "output_type": "execute_result"
    }
   ],
   "source": [
    "messages_group = messages.groupby(['user_id', 'month'])['id'].count().reset_index()\n",
    "messages_group.columns = ['user_id', 'month', 'message']\n",
    "messages_group.head(10)"
   ]
  },
  {
   "cell_type": "markdown",
   "id": "3b825555",
   "metadata": {},
   "source": [
    "### Объединение данных."
   ]
  },
  {
   "cell_type": "markdown",
   "id": "589547a3",
   "metadata": {},
   "source": [
    "Объединим все 3 таблицы в одну таблицу statistics."
   ]
  },
  {
   "cell_type": "code",
   "execution_count": 12,
   "id": "c700642c",
   "metadata": {
    "scrolled": true
   },
   "outputs": [
    {
     "data": {
      "text/html": [
       "<div>\n",
       "<style scoped>\n",
       "    .dataframe tbody tr th:only-of-type {\n",
       "        vertical-align: middle;\n",
       "    }\n",
       "\n",
       "    .dataframe tbody tr th {\n",
       "        vertical-align: top;\n",
       "    }\n",
       "\n",
       "    .dataframe thead th {\n",
       "        text-align: right;\n",
       "    }\n",
       "</style>\n",
       "<table border=\"1\" class=\"dataframe\">\n",
       "  <thead>\n",
       "    <tr style=\"text-align: right;\">\n",
       "      <th></th>\n",
       "      <th>user_id</th>\n",
       "      <th>month</th>\n",
       "      <th>calls_count</th>\n",
       "      <th>duration</th>\n",
       "      <th>mb_used</th>\n",
       "      <th>gb_used</th>\n",
       "      <th>message</th>\n",
       "    </tr>\n",
       "  </thead>\n",
       "  <tbody>\n",
       "    <tr>\n",
       "      <td>0</td>\n",
       "      <td>1000</td>\n",
       "      <td>5</td>\n",
       "      <td>22.0</td>\n",
       "      <td>159.0</td>\n",
       "      <td>2253.49</td>\n",
       "      <td>3.0</td>\n",
       "      <td>22.0</td>\n",
       "    </tr>\n",
       "    <tr>\n",
       "      <td>1</td>\n",
       "      <td>1000</td>\n",
       "      <td>6</td>\n",
       "      <td>43.0</td>\n",
       "      <td>172.0</td>\n",
       "      <td>23233.77</td>\n",
       "      <td>23.0</td>\n",
       "      <td>60.0</td>\n",
       "    </tr>\n",
       "    <tr>\n",
       "      <td>2</td>\n",
       "      <td>1000</td>\n",
       "      <td>7</td>\n",
       "      <td>47.0</td>\n",
       "      <td>340.0</td>\n",
       "      <td>14003.64</td>\n",
       "      <td>14.0</td>\n",
       "      <td>75.0</td>\n",
       "    </tr>\n",
       "    <tr>\n",
       "      <td>3</td>\n",
       "      <td>1000</td>\n",
       "      <td>8</td>\n",
       "      <td>52.0</td>\n",
       "      <td>408.0</td>\n",
       "      <td>14055.93</td>\n",
       "      <td>14.0</td>\n",
       "      <td>81.0</td>\n",
       "    </tr>\n",
       "    <tr>\n",
       "      <td>4</td>\n",
       "      <td>1000</td>\n",
       "      <td>9</td>\n",
       "      <td>58.0</td>\n",
       "      <td>466.0</td>\n",
       "      <td>14568.91</td>\n",
       "      <td>15.0</td>\n",
       "      <td>57.0</td>\n",
       "    </tr>\n",
       "  </tbody>\n",
       "</table>\n",
       "</div>"
      ],
      "text/plain": [
       "   user_id  month  calls_count  duration   mb_used  gb_used  message\n",
       "0     1000      5         22.0     159.0   2253.49      3.0     22.0\n",
       "1     1000      6         43.0     172.0  23233.77     23.0     60.0\n",
       "2     1000      7         47.0     340.0  14003.64     14.0     75.0\n",
       "3     1000      8         52.0     408.0  14055.93     14.0     81.0\n",
       "4     1000      9         58.0     466.0  14568.91     15.0     57.0"
      ]
     },
     "execution_count": 12,
     "metadata": {},
     "output_type": "execute_result"
    }
   ],
   "source": [
    "statistics = calls_group.merge(internet_group,  on=['user_id', 'month'], how='outer')\n",
    "statistics = statistics.merge(messages_group,  on=['user_id', 'month'], how='outer')\n",
    "statistics.head()"
   ]
  },
  {
   "cell_type": "markdown",
   "id": "4ffcbf78",
   "metadata": {},
   "source": [
    "Добавим информацию о городе и используемом тарифе "
   ]
  },
  {
   "cell_type": "code",
   "execution_count": 13,
   "id": "3bdcd3b0",
   "metadata": {
    "scrolled": true
   },
   "outputs": [
    {
     "data": {
      "text/html": [
       "<div>\n",
       "<style scoped>\n",
       "    .dataframe tbody tr th:only-of-type {\n",
       "        vertical-align: middle;\n",
       "    }\n",
       "\n",
       "    .dataframe tbody tr th {\n",
       "        vertical-align: top;\n",
       "    }\n",
       "\n",
       "    .dataframe thead th {\n",
       "        text-align: right;\n",
       "    }\n",
       "</style>\n",
       "<table border=\"1\" class=\"dataframe\">\n",
       "  <thead>\n",
       "    <tr style=\"text-align: right;\">\n",
       "      <th></th>\n",
       "      <th>user_id</th>\n",
       "      <th>month</th>\n",
       "      <th>calls_count</th>\n",
       "      <th>duration</th>\n",
       "      <th>mb_used</th>\n",
       "      <th>gb_used</th>\n",
       "      <th>message</th>\n",
       "      <th>city</th>\n",
       "      <th>tariff</th>\n",
       "    </tr>\n",
       "  </thead>\n",
       "  <tbody>\n",
       "    <tr>\n",
       "      <td>0</td>\n",
       "      <td>1000</td>\n",
       "      <td>5</td>\n",
       "      <td>22.0</td>\n",
       "      <td>159.0</td>\n",
       "      <td>2253.49</td>\n",
       "      <td>3.0</td>\n",
       "      <td>22.0</td>\n",
       "      <td>Краснодар</td>\n",
       "      <td>ultra</td>\n",
       "    </tr>\n",
       "    <tr>\n",
       "      <td>1</td>\n",
       "      <td>1000</td>\n",
       "      <td>6</td>\n",
       "      <td>43.0</td>\n",
       "      <td>172.0</td>\n",
       "      <td>23233.77</td>\n",
       "      <td>23.0</td>\n",
       "      <td>60.0</td>\n",
       "      <td>Краснодар</td>\n",
       "      <td>ultra</td>\n",
       "    </tr>\n",
       "    <tr>\n",
       "      <td>2</td>\n",
       "      <td>1000</td>\n",
       "      <td>7</td>\n",
       "      <td>47.0</td>\n",
       "      <td>340.0</td>\n",
       "      <td>14003.64</td>\n",
       "      <td>14.0</td>\n",
       "      <td>75.0</td>\n",
       "      <td>Краснодар</td>\n",
       "      <td>ultra</td>\n",
       "    </tr>\n",
       "    <tr>\n",
       "      <td>3</td>\n",
       "      <td>1000</td>\n",
       "      <td>8</td>\n",
       "      <td>52.0</td>\n",
       "      <td>408.0</td>\n",
       "      <td>14055.93</td>\n",
       "      <td>14.0</td>\n",
       "      <td>81.0</td>\n",
       "      <td>Краснодар</td>\n",
       "      <td>ultra</td>\n",
       "    </tr>\n",
       "    <tr>\n",
       "      <td>4</td>\n",
       "      <td>1000</td>\n",
       "      <td>9</td>\n",
       "      <td>58.0</td>\n",
       "      <td>466.0</td>\n",
       "      <td>14568.91</td>\n",
       "      <td>15.0</td>\n",
       "      <td>57.0</td>\n",
       "      <td>Краснодар</td>\n",
       "      <td>ultra</td>\n",
       "    </tr>\n",
       "    <tr>\n",
       "      <td>5</td>\n",
       "      <td>1000</td>\n",
       "      <td>10</td>\n",
       "      <td>57.0</td>\n",
       "      <td>350.0</td>\n",
       "      <td>14702.49</td>\n",
       "      <td>15.0</td>\n",
       "      <td>73.0</td>\n",
       "      <td>Краснодар</td>\n",
       "      <td>ultra</td>\n",
       "    </tr>\n",
       "    <tr>\n",
       "      <td>6</td>\n",
       "      <td>1000</td>\n",
       "      <td>11</td>\n",
       "      <td>43.0</td>\n",
       "      <td>338.0</td>\n",
       "      <td>14756.47</td>\n",
       "      <td>15.0</td>\n",
       "      <td>58.0</td>\n",
       "      <td>Краснодар</td>\n",
       "      <td>ultra</td>\n",
       "    </tr>\n",
       "    <tr>\n",
       "      <td>7</td>\n",
       "      <td>1000</td>\n",
       "      <td>12</td>\n",
       "      <td>46.0</td>\n",
       "      <td>333.0</td>\n",
       "      <td>9817.61</td>\n",
       "      <td>10.0</td>\n",
       "      <td>70.0</td>\n",
       "      <td>Краснодар</td>\n",
       "      <td>ultra</td>\n",
       "    </tr>\n",
       "    <tr>\n",
       "      <td>8</td>\n",
       "      <td>1001</td>\n",
       "      <td>11</td>\n",
       "      <td>59.0</td>\n",
       "      <td>430.0</td>\n",
       "      <td>18429.34</td>\n",
       "      <td>18.0</td>\n",
       "      <td>NaN</td>\n",
       "      <td>Москва</td>\n",
       "      <td>smart</td>\n",
       "    </tr>\n",
       "    <tr>\n",
       "      <td>9</td>\n",
       "      <td>1001</td>\n",
       "      <td>12</td>\n",
       "      <td>63.0</td>\n",
       "      <td>414.0</td>\n",
       "      <td>14036.66</td>\n",
       "      <td>14.0</td>\n",
       "      <td>NaN</td>\n",
       "      <td>Москва</td>\n",
       "      <td>smart</td>\n",
       "    </tr>\n",
       "  </tbody>\n",
       "</table>\n",
       "</div>"
      ],
      "text/plain": [
       "   user_id  month  calls_count  duration   mb_used  gb_used  message  \\\n",
       "0     1000      5         22.0     159.0   2253.49      3.0     22.0   \n",
       "1     1000      6         43.0     172.0  23233.77     23.0     60.0   \n",
       "2     1000      7         47.0     340.0  14003.64     14.0     75.0   \n",
       "3     1000      8         52.0     408.0  14055.93     14.0     81.0   \n",
       "4     1000      9         58.0     466.0  14568.91     15.0     57.0   \n",
       "5     1000     10         57.0     350.0  14702.49     15.0     73.0   \n",
       "6     1000     11         43.0     338.0  14756.47     15.0     58.0   \n",
       "7     1000     12         46.0     333.0   9817.61     10.0     70.0   \n",
       "8     1001     11         59.0     430.0  18429.34     18.0      NaN   \n",
       "9     1001     12         63.0     414.0  14036.66     14.0      NaN   \n",
       "\n",
       "        city tariff  \n",
       "0  Краснодар  ultra  \n",
       "1  Краснодар  ultra  \n",
       "2  Краснодар  ultra  \n",
       "3  Краснодар  ultra  \n",
       "4  Краснодар  ultra  \n",
       "5  Краснодар  ultra  \n",
       "6  Краснодар  ultra  \n",
       "7  Краснодар  ultra  \n",
       "8     Москва  smart  \n",
       "9     Москва  smart  "
      ]
     },
     "execution_count": 13,
     "metadata": {},
     "output_type": "execute_result"
    }
   ],
   "source": [
    "statistics = statistics.merge(users[['user_id', 'city', 'tariff']], how='left', on=['user_id'])\n",
    "statistics.head(10)"
   ]
  },
  {
   "cell_type": "markdown",
   "id": "56e0f9ee",
   "metadata": {},
   "source": [
    "### Помесячная выручка с каждого пользователя."
   ]
  },
  {
   "cell_type": "markdown",
   "id": "d52905ca",
   "metadata": {},
   "source": [
    "Посмотрим информацию о получившейся таблице "
   ]
  },
  {
   "cell_type": "code",
   "execution_count": 14,
   "id": "e3b4b4bc",
   "metadata": {
    "scrolled": true
   },
   "outputs": [
    {
     "name": "stdout",
     "output_type": "stream",
     "text": [
      "<class 'pandas.core.frame.DataFrame'>\n",
      "Int64Index: 3214 entries, 0 to 3213\n",
      "Data columns (total 9 columns):\n",
      "user_id        3214 non-null int64\n",
      "month          3214 non-null int64\n",
      "calls_count    3174 non-null float64\n",
      "duration       3174 non-null float64\n",
      "mb_used        3201 non-null float64\n",
      "gb_used        3201 non-null float64\n",
      "message        2717 non-null float64\n",
      "city           3214 non-null object\n",
      "tariff         3214 non-null object\n",
      "dtypes: float64(5), int64(2), object(2)\n",
      "memory usage: 251.1+ KB\n"
     ]
    }
   ],
   "source": [
    "statistics.info()"
   ]
  },
  {
   "cell_type": "markdown",
   "id": "b9dcd752",
   "metadata": {},
   "source": [
    "У нас появились пустые значения, вероятнее в определенные месяцы, пользователи не звонили, не писали смс или не пользовались интернетом. Избавимся от пропусков, заменив из на нуль."
   ]
  },
  {
   "cell_type": "code",
   "execution_count": 15,
   "id": "a0b26d71",
   "metadata": {},
   "outputs": [],
   "source": [
    "statistics = statistics.fillna(0)"
   ]
  },
  {
   "cell_type": "markdown",
   "id": "59833a1a",
   "metadata": {},
   "source": [
    "Посчитаем помесячную выручку с каждого пользователя. Для этого вычтем бесплатный лимит из суммарного количества звонков, сообщений и интернет-трафика, остаток умножим на значение из тарифного плана, прибавим абонентскую плату, соответствующую тарифному плану."
   ]
  },
  {
   "cell_type": "code",
   "execution_count": 16,
   "id": "22007e00",
   "metadata": {},
   "outputs": [],
   "source": [
    "def income(df):\n",
    "    if df['tariff'] == 'ultra':\n",
    "        min = (df['duration'] - tariffs.loc[1, 'minutes_included']) * tariffs.loc[1, 'rub_per_message']\n",
    "        inet = (df['gb_used'] - tariffs.loc[1, 'mb_per_month_included'] / 1024) * tariffs.loc[1, 'rub_per_gb']\n",
    "        sms = (df['message'] - tariffs.loc[1, 'messages_included']) * tariffs.loc[1, 'rub_per_message']\n",
    "\n",
    "        if min < 0:\n",
    "            min = 0\n",
    "        \n",
    "        if inet < 0:\n",
    "            inet = 0\n",
    "            \n",
    "        if sms < 0:\n",
    "            sms = 0\n",
    "            \n",
    "        return min + inet + sms + tariffs.loc[1,'rub_monthly_fee']\n",
    "        \n",
    "    else:\n",
    "        \n",
    "        min = (df['duration'] - tariffs.loc[0, 'minutes_included']) * tariffs.loc[0, 'rub_per_message']\n",
    "        inet = (df['gb_used'] - tariffs.loc[0, 'mb_per_month_included'] / 1024) * tariffs.loc[0, 'rub_per_gb']\n",
    "        sms = (df['message'] - tariffs.loc[0, 'messages_included']) * tariffs.loc[0, 'rub_per_message']\n",
    "\n",
    "        if min <= 0:\n",
    "            min = 0\n",
    "        \n",
    "        if inet <= 0:\n",
    "            inet = 0\n",
    "            \n",
    "        if sms <= 0:\n",
    "            sms = 0\n",
    "            \n",
    "        return min + inet + sms + tariffs.loc[0,'rub_monthly_fee']"
   ]
  },
  {
   "cell_type": "code",
   "execution_count": 17,
   "id": "96c89773",
   "metadata": {},
   "outputs": [
    {
     "data": {
      "text/html": [
       "<div>\n",
       "<style scoped>\n",
       "    .dataframe tbody tr th:only-of-type {\n",
       "        vertical-align: middle;\n",
       "    }\n",
       "\n",
       "    .dataframe tbody tr th {\n",
       "        vertical-align: top;\n",
       "    }\n",
       "\n",
       "    .dataframe thead th {\n",
       "        text-align: right;\n",
       "    }\n",
       "</style>\n",
       "<table border=\"1\" class=\"dataframe\">\n",
       "  <thead>\n",
       "    <tr style=\"text-align: right;\">\n",
       "      <th></th>\n",
       "      <th>user_id</th>\n",
       "      <th>month</th>\n",
       "      <th>calls_count</th>\n",
       "      <th>duration</th>\n",
       "      <th>mb_used</th>\n",
       "      <th>gb_used</th>\n",
       "      <th>message</th>\n",
       "      <th>city</th>\n",
       "      <th>tariff</th>\n",
       "      <th>total</th>\n",
       "    </tr>\n",
       "  </thead>\n",
       "  <tbody>\n",
       "    <tr>\n",
       "      <td>0</td>\n",
       "      <td>1000</td>\n",
       "      <td>5</td>\n",
       "      <td>22.0</td>\n",
       "      <td>159.0</td>\n",
       "      <td>2253.49</td>\n",
       "      <td>3.0</td>\n",
       "      <td>22.0</td>\n",
       "      <td>Краснодар</td>\n",
       "      <td>ultra</td>\n",
       "      <td>1950.0</td>\n",
       "    </tr>\n",
       "    <tr>\n",
       "      <td>1</td>\n",
       "      <td>1000</td>\n",
       "      <td>6</td>\n",
       "      <td>43.0</td>\n",
       "      <td>172.0</td>\n",
       "      <td>23233.77</td>\n",
       "      <td>23.0</td>\n",
       "      <td>60.0</td>\n",
       "      <td>Краснодар</td>\n",
       "      <td>ultra</td>\n",
       "      <td>1950.0</td>\n",
       "    </tr>\n",
       "    <tr>\n",
       "      <td>2</td>\n",
       "      <td>1000</td>\n",
       "      <td>7</td>\n",
       "      <td>47.0</td>\n",
       "      <td>340.0</td>\n",
       "      <td>14003.64</td>\n",
       "      <td>14.0</td>\n",
       "      <td>75.0</td>\n",
       "      <td>Краснодар</td>\n",
       "      <td>ultra</td>\n",
       "      <td>1950.0</td>\n",
       "    </tr>\n",
       "    <tr>\n",
       "      <td>3</td>\n",
       "      <td>1000</td>\n",
       "      <td>8</td>\n",
       "      <td>52.0</td>\n",
       "      <td>408.0</td>\n",
       "      <td>14055.93</td>\n",
       "      <td>14.0</td>\n",
       "      <td>81.0</td>\n",
       "      <td>Краснодар</td>\n",
       "      <td>ultra</td>\n",
       "      <td>1950.0</td>\n",
       "    </tr>\n",
       "    <tr>\n",
       "      <td>4</td>\n",
       "      <td>1000</td>\n",
       "      <td>9</td>\n",
       "      <td>58.0</td>\n",
       "      <td>466.0</td>\n",
       "      <td>14568.91</td>\n",
       "      <td>15.0</td>\n",
       "      <td>57.0</td>\n",
       "      <td>Краснодар</td>\n",
       "      <td>ultra</td>\n",
       "      <td>1950.0</td>\n",
       "    </tr>\n",
       "    <tr>\n",
       "      <td>5</td>\n",
       "      <td>1000</td>\n",
       "      <td>10</td>\n",
       "      <td>57.0</td>\n",
       "      <td>350.0</td>\n",
       "      <td>14702.49</td>\n",
       "      <td>15.0</td>\n",
       "      <td>73.0</td>\n",
       "      <td>Краснодар</td>\n",
       "      <td>ultra</td>\n",
       "      <td>1950.0</td>\n",
       "    </tr>\n",
       "    <tr>\n",
       "      <td>6</td>\n",
       "      <td>1000</td>\n",
       "      <td>11</td>\n",
       "      <td>43.0</td>\n",
       "      <td>338.0</td>\n",
       "      <td>14756.47</td>\n",
       "      <td>15.0</td>\n",
       "      <td>58.0</td>\n",
       "      <td>Краснодар</td>\n",
       "      <td>ultra</td>\n",
       "      <td>1950.0</td>\n",
       "    </tr>\n",
       "    <tr>\n",
       "      <td>7</td>\n",
       "      <td>1000</td>\n",
       "      <td>12</td>\n",
       "      <td>46.0</td>\n",
       "      <td>333.0</td>\n",
       "      <td>9817.61</td>\n",
       "      <td>10.0</td>\n",
       "      <td>70.0</td>\n",
       "      <td>Краснодар</td>\n",
       "      <td>ultra</td>\n",
       "      <td>1950.0</td>\n",
       "    </tr>\n",
       "    <tr>\n",
       "      <td>8</td>\n",
       "      <td>1001</td>\n",
       "      <td>11</td>\n",
       "      <td>59.0</td>\n",
       "      <td>430.0</td>\n",
       "      <td>18429.34</td>\n",
       "      <td>18.0</td>\n",
       "      <td>0.0</td>\n",
       "      <td>Москва</td>\n",
       "      <td>smart</td>\n",
       "      <td>1150.0</td>\n",
       "    </tr>\n",
       "    <tr>\n",
       "      <td>9</td>\n",
       "      <td>1001</td>\n",
       "      <td>12</td>\n",
       "      <td>63.0</td>\n",
       "      <td>414.0</td>\n",
       "      <td>14036.66</td>\n",
       "      <td>14.0</td>\n",
       "      <td>0.0</td>\n",
       "      <td>Москва</td>\n",
       "      <td>smart</td>\n",
       "      <td>550.0</td>\n",
       "    </tr>\n",
       "  </tbody>\n",
       "</table>\n",
       "</div>"
      ],
      "text/plain": [
       "   user_id  month  calls_count  duration   mb_used  gb_used  message  \\\n",
       "0     1000      5         22.0     159.0   2253.49      3.0     22.0   \n",
       "1     1000      6         43.0     172.0  23233.77     23.0     60.0   \n",
       "2     1000      7         47.0     340.0  14003.64     14.0     75.0   \n",
       "3     1000      8         52.0     408.0  14055.93     14.0     81.0   \n",
       "4     1000      9         58.0     466.0  14568.91     15.0     57.0   \n",
       "5     1000     10         57.0     350.0  14702.49     15.0     73.0   \n",
       "6     1000     11         43.0     338.0  14756.47     15.0     58.0   \n",
       "7     1000     12         46.0     333.0   9817.61     10.0     70.0   \n",
       "8     1001     11         59.0     430.0  18429.34     18.0      0.0   \n",
       "9     1001     12         63.0     414.0  14036.66     14.0      0.0   \n",
       "\n",
       "        city tariff   total  \n",
       "0  Краснодар  ultra  1950.0  \n",
       "1  Краснодар  ultra  1950.0  \n",
       "2  Краснодар  ultra  1950.0  \n",
       "3  Краснодар  ultra  1950.0  \n",
       "4  Краснодар  ultra  1950.0  \n",
       "5  Краснодар  ultra  1950.0  \n",
       "6  Краснодар  ultra  1950.0  \n",
       "7  Краснодар  ultra  1950.0  \n",
       "8     Москва  smart  1150.0  \n",
       "9     Москва  smart   550.0  "
      ]
     },
     "execution_count": 17,
     "metadata": {},
     "output_type": "execute_result"
    }
   ],
   "source": [
    "statistics['total'] = statistics.apply(income, axis=1)\n",
    "statistics.head(10)"
   ]
  },
  {
   "cell_type": "markdown",
   "id": "64398301",
   "metadata": {},
   "source": [
    "### Вывод"
   ]
  },
  {
   "cell_type": "markdown",
   "id": "0e6650dc",
   "metadata": {},
   "source": [
    "У некоторых столбцов изменили типы данных. \n",
    "\n",
    "В несколько таблиц добавили столбцы с указанием номера месяца, т.к. у нас данные за 1 год, поэтому использовали метод dt.month. \n",
    "\n",
    "Посчитали для каждого пользователя количество сделанных звонков и израсходованных минут разговора, количество отправленных сообщений и объем израсходованного интернет-трафика. Все данные группировали по месяцам и объединили в одну таблицу statistics. И далее посчитали месячную выручку по каждому пользователю."
   ]
  },
  {
   "cell_type": "markdown",
   "id": "71e39e96",
   "metadata": {},
   "source": [
    "## Анализ данных"
   ]
  },
  {
   "cell_type": "markdown",
   "id": "b878ddad",
   "metadata": {},
   "source": [
    "Посчитаем для каждого тарифа, необходимое количество минут, сообщений и объём интернет-трафика требуется пользователям в месяц. Для этого создадим отдельные таблицы для каждого тарифа по месяцам. "
   ]
  },
  {
   "cell_type": "code",
   "execution_count": 18,
   "id": "3b15cd25",
   "metadata": {},
   "outputs": [
    {
     "data": {
      "text/html": [
       "<div>\n",
       "<style scoped>\n",
       "    .dataframe tbody tr th:only-of-type {\n",
       "        vertical-align: middle;\n",
       "    }\n",
       "\n",
       "    .dataframe tbody tr th {\n",
       "        vertical-align: top;\n",
       "    }\n",
       "\n",
       "    .dataframe thead th {\n",
       "        text-align: right;\n",
       "    }\n",
       "</style>\n",
       "<table border=\"1\" class=\"dataframe\">\n",
       "  <thead>\n",
       "    <tr style=\"text-align: right;\">\n",
       "      <th></th>\n",
       "      <th>user_id</th>\n",
       "      <th>month</th>\n",
       "      <th>calls_count</th>\n",
       "      <th>duration</th>\n",
       "      <th>mb_used</th>\n",
       "      <th>gb_used</th>\n",
       "      <th>message</th>\n",
       "      <th>city</th>\n",
       "      <th>tariff</th>\n",
       "      <th>total</th>\n",
       "    </tr>\n",
       "  </thead>\n",
       "  <tbody>\n",
       "    <tr>\n",
       "      <td>0</td>\n",
       "      <td>1000</td>\n",
       "      <td>5</td>\n",
       "      <td>22.0</td>\n",
       "      <td>159.0</td>\n",
       "      <td>2253.49</td>\n",
       "      <td>3.0</td>\n",
       "      <td>22.0</td>\n",
       "      <td>Краснодар</td>\n",
       "      <td>ultra</td>\n",
       "      <td>1950.0</td>\n",
       "    </tr>\n",
       "    <tr>\n",
       "      <td>1</td>\n",
       "      <td>1000</td>\n",
       "      <td>6</td>\n",
       "      <td>43.0</td>\n",
       "      <td>172.0</td>\n",
       "      <td>23233.77</td>\n",
       "      <td>23.0</td>\n",
       "      <td>60.0</td>\n",
       "      <td>Краснодар</td>\n",
       "      <td>ultra</td>\n",
       "      <td>1950.0</td>\n",
       "    </tr>\n",
       "    <tr>\n",
       "      <td>2</td>\n",
       "      <td>1000</td>\n",
       "      <td>7</td>\n",
       "      <td>47.0</td>\n",
       "      <td>340.0</td>\n",
       "      <td>14003.64</td>\n",
       "      <td>14.0</td>\n",
       "      <td>75.0</td>\n",
       "      <td>Краснодар</td>\n",
       "      <td>ultra</td>\n",
       "      <td>1950.0</td>\n",
       "    </tr>\n",
       "    <tr>\n",
       "      <td>3</td>\n",
       "      <td>1000</td>\n",
       "      <td>8</td>\n",
       "      <td>52.0</td>\n",
       "      <td>408.0</td>\n",
       "      <td>14055.93</td>\n",
       "      <td>14.0</td>\n",
       "      <td>81.0</td>\n",
       "      <td>Краснодар</td>\n",
       "      <td>ultra</td>\n",
       "      <td>1950.0</td>\n",
       "    </tr>\n",
       "    <tr>\n",
       "      <td>4</td>\n",
       "      <td>1000</td>\n",
       "      <td>9</td>\n",
       "      <td>58.0</td>\n",
       "      <td>466.0</td>\n",
       "      <td>14568.91</td>\n",
       "      <td>15.0</td>\n",
       "      <td>57.0</td>\n",
       "      <td>Краснодар</td>\n",
       "      <td>ultra</td>\n",
       "      <td>1950.0</td>\n",
       "    </tr>\n",
       "    <tr>\n",
       "      <td>5</td>\n",
       "      <td>1000</td>\n",
       "      <td>10</td>\n",
       "      <td>57.0</td>\n",
       "      <td>350.0</td>\n",
       "      <td>14702.49</td>\n",
       "      <td>15.0</td>\n",
       "      <td>73.0</td>\n",
       "      <td>Краснодар</td>\n",
       "      <td>ultra</td>\n",
       "      <td>1950.0</td>\n",
       "    </tr>\n",
       "    <tr>\n",
       "      <td>6</td>\n",
       "      <td>1000</td>\n",
       "      <td>11</td>\n",
       "      <td>43.0</td>\n",
       "      <td>338.0</td>\n",
       "      <td>14756.47</td>\n",
       "      <td>15.0</td>\n",
       "      <td>58.0</td>\n",
       "      <td>Краснодар</td>\n",
       "      <td>ultra</td>\n",
       "      <td>1950.0</td>\n",
       "    </tr>\n",
       "    <tr>\n",
       "      <td>7</td>\n",
       "      <td>1000</td>\n",
       "      <td>12</td>\n",
       "      <td>46.0</td>\n",
       "      <td>333.0</td>\n",
       "      <td>9817.61</td>\n",
       "      <td>10.0</td>\n",
       "      <td>70.0</td>\n",
       "      <td>Краснодар</td>\n",
       "      <td>ultra</td>\n",
       "      <td>1950.0</td>\n",
       "    </tr>\n",
       "    <tr>\n",
       "      <td>8</td>\n",
       "      <td>1003</td>\n",
       "      <td>8</td>\n",
       "      <td>55.0</td>\n",
       "      <td>380.0</td>\n",
       "      <td>8565.21</td>\n",
       "      <td>9.0</td>\n",
       "      <td>37.0</td>\n",
       "      <td>Москва</td>\n",
       "      <td>ultra</td>\n",
       "      <td>1950.0</td>\n",
       "    </tr>\n",
       "    <tr>\n",
       "      <td>9</td>\n",
       "      <td>1003</td>\n",
       "      <td>9</td>\n",
       "      <td>134.0</td>\n",
       "      <td>961.0</td>\n",
       "      <td>12468.87</td>\n",
       "      <td>13.0</td>\n",
       "      <td>91.0</td>\n",
       "      <td>Москва</td>\n",
       "      <td>ultra</td>\n",
       "      <td>1950.0</td>\n",
       "    </tr>\n",
       "  </tbody>\n",
       "</table>\n",
       "</div>"
      ],
      "text/plain": [
       "   user_id  month  calls_count  duration   mb_used  gb_used  message  \\\n",
       "0     1000      5         22.0     159.0   2253.49      3.0     22.0   \n",
       "1     1000      6         43.0     172.0  23233.77     23.0     60.0   \n",
       "2     1000      7         47.0     340.0  14003.64     14.0     75.0   \n",
       "3     1000      8         52.0     408.0  14055.93     14.0     81.0   \n",
       "4     1000      9         58.0     466.0  14568.91     15.0     57.0   \n",
       "5     1000     10         57.0     350.0  14702.49     15.0     73.0   \n",
       "6     1000     11         43.0     338.0  14756.47     15.0     58.0   \n",
       "7     1000     12         46.0     333.0   9817.61     10.0     70.0   \n",
       "8     1003      8         55.0     380.0   8565.21      9.0     37.0   \n",
       "9     1003      9        134.0     961.0  12468.87     13.0     91.0   \n",
       "\n",
       "        city tariff   total  \n",
       "0  Краснодар  ultra  1950.0  \n",
       "1  Краснодар  ultra  1950.0  \n",
       "2  Краснодар  ultra  1950.0  \n",
       "3  Краснодар  ultra  1950.0  \n",
       "4  Краснодар  ultra  1950.0  \n",
       "5  Краснодар  ultra  1950.0  \n",
       "6  Краснодар  ultra  1950.0  \n",
       "7  Краснодар  ultra  1950.0  \n",
       "8     Москва  ultra  1950.0  \n",
       "9     Москва  ultra  1950.0  "
      ]
     },
     "metadata": {},
     "output_type": "display_data"
    },
    {
     "data": {
      "text/html": [
       "<div>\n",
       "<style scoped>\n",
       "    .dataframe tbody tr th:only-of-type {\n",
       "        vertical-align: middle;\n",
       "    }\n",
       "\n",
       "    .dataframe tbody tr th {\n",
       "        vertical-align: top;\n",
       "    }\n",
       "\n",
       "    .dataframe thead th {\n",
       "        text-align: right;\n",
       "    }\n",
       "</style>\n",
       "<table border=\"1\" class=\"dataframe\">\n",
       "  <thead>\n",
       "    <tr style=\"text-align: right;\">\n",
       "      <th></th>\n",
       "      <th>user_id</th>\n",
       "      <th>month</th>\n",
       "      <th>calls_count</th>\n",
       "      <th>duration</th>\n",
       "      <th>mb_used</th>\n",
       "      <th>gb_used</th>\n",
       "      <th>message</th>\n",
       "      <th>city</th>\n",
       "      <th>tariff</th>\n",
       "      <th>total</th>\n",
       "    </tr>\n",
       "  </thead>\n",
       "  <tbody>\n",
       "    <tr>\n",
       "      <td>0</td>\n",
       "      <td>1001</td>\n",
       "      <td>11</td>\n",
       "      <td>59.0</td>\n",
       "      <td>430.0</td>\n",
       "      <td>18429.34</td>\n",
       "      <td>18.0</td>\n",
       "      <td>0.0</td>\n",
       "      <td>Москва</td>\n",
       "      <td>smart</td>\n",
       "      <td>1150.0</td>\n",
       "    </tr>\n",
       "    <tr>\n",
       "      <td>1</td>\n",
       "      <td>1001</td>\n",
       "      <td>12</td>\n",
       "      <td>63.0</td>\n",
       "      <td>414.0</td>\n",
       "      <td>14036.66</td>\n",
       "      <td>14.0</td>\n",
       "      <td>0.0</td>\n",
       "      <td>Москва</td>\n",
       "      <td>smart</td>\n",
       "      <td>550.0</td>\n",
       "    </tr>\n",
       "    <tr>\n",
       "      <td>2</td>\n",
       "      <td>1002</td>\n",
       "      <td>6</td>\n",
       "      <td>15.0</td>\n",
       "      <td>117.0</td>\n",
       "      <td>10856.82</td>\n",
       "      <td>11.0</td>\n",
       "      <td>4.0</td>\n",
       "      <td>Стерлитамак</td>\n",
       "      <td>smart</td>\n",
       "      <td>550.0</td>\n",
       "    </tr>\n",
       "    <tr>\n",
       "      <td>3</td>\n",
       "      <td>1002</td>\n",
       "      <td>7</td>\n",
       "      <td>26.0</td>\n",
       "      <td>214.0</td>\n",
       "      <td>17580.10</td>\n",
       "      <td>18.0</td>\n",
       "      <td>11.0</td>\n",
       "      <td>Стерлитамак</td>\n",
       "      <td>smart</td>\n",
       "      <td>1150.0</td>\n",
       "    </tr>\n",
       "    <tr>\n",
       "      <td>4</td>\n",
       "      <td>1002</td>\n",
       "      <td>8</td>\n",
       "      <td>42.0</td>\n",
       "      <td>289.0</td>\n",
       "      <td>20319.26</td>\n",
       "      <td>20.0</td>\n",
       "      <td>13.0</td>\n",
       "      <td>Стерлитамак</td>\n",
       "      <td>smart</td>\n",
       "      <td>1550.0</td>\n",
       "    </tr>\n",
       "    <tr>\n",
       "      <td>5</td>\n",
       "      <td>1002</td>\n",
       "      <td>9</td>\n",
       "      <td>36.0</td>\n",
       "      <td>206.0</td>\n",
       "      <td>16691.08</td>\n",
       "      <td>17.0</td>\n",
       "      <td>4.0</td>\n",
       "      <td>Стерлитамак</td>\n",
       "      <td>smart</td>\n",
       "      <td>950.0</td>\n",
       "    </tr>\n",
       "    <tr>\n",
       "      <td>6</td>\n",
       "      <td>1002</td>\n",
       "      <td>10</td>\n",
       "      <td>33.0</td>\n",
       "      <td>212.0</td>\n",
       "      <td>13888.25</td>\n",
       "      <td>14.0</td>\n",
       "      <td>10.0</td>\n",
       "      <td>Стерлитамак</td>\n",
       "      <td>smart</td>\n",
       "      <td>550.0</td>\n",
       "    </tr>\n",
       "    <tr>\n",
       "      <td>7</td>\n",
       "      <td>1002</td>\n",
       "      <td>11</td>\n",
       "      <td>32.0</td>\n",
       "      <td>243.0</td>\n",
       "      <td>18587.28</td>\n",
       "      <td>19.0</td>\n",
       "      <td>16.0</td>\n",
       "      <td>Стерлитамак</td>\n",
       "      <td>smart</td>\n",
       "      <td>1350.0</td>\n",
       "    </tr>\n",
       "    <tr>\n",
       "      <td>8</td>\n",
       "      <td>1002</td>\n",
       "      <td>12</td>\n",
       "      <td>33.0</td>\n",
       "      <td>236.0</td>\n",
       "      <td>18113.73</td>\n",
       "      <td>18.0</td>\n",
       "      <td>12.0</td>\n",
       "      <td>Стерлитамак</td>\n",
       "      <td>smart</td>\n",
       "      <td>1150.0</td>\n",
       "    </tr>\n",
       "    <tr>\n",
       "      <td>9</td>\n",
       "      <td>1005</td>\n",
       "      <td>1</td>\n",
       "      <td>15.0</td>\n",
       "      <td>95.0</td>\n",
       "      <td>2727.97</td>\n",
       "      <td>3.0</td>\n",
       "      <td>7.0</td>\n",
       "      <td>Набережные Челны</td>\n",
       "      <td>smart</td>\n",
       "      <td>550.0</td>\n",
       "    </tr>\n",
       "  </tbody>\n",
       "</table>\n",
       "</div>"
      ],
      "text/plain": [
       "   user_id  month  calls_count  duration   mb_used  gb_used  message  \\\n",
       "0     1001     11         59.0     430.0  18429.34     18.0      0.0   \n",
       "1     1001     12         63.0     414.0  14036.66     14.0      0.0   \n",
       "2     1002      6         15.0     117.0  10856.82     11.0      4.0   \n",
       "3     1002      7         26.0     214.0  17580.10     18.0     11.0   \n",
       "4     1002      8         42.0     289.0  20319.26     20.0     13.0   \n",
       "5     1002      9         36.0     206.0  16691.08     17.0      4.0   \n",
       "6     1002     10         33.0     212.0  13888.25     14.0     10.0   \n",
       "7     1002     11         32.0     243.0  18587.28     19.0     16.0   \n",
       "8     1002     12         33.0     236.0  18113.73     18.0     12.0   \n",
       "9     1005      1         15.0      95.0   2727.97      3.0      7.0   \n",
       "\n",
       "               city tariff   total  \n",
       "0            Москва  smart  1150.0  \n",
       "1            Москва  smart   550.0  \n",
       "2       Стерлитамак  smart   550.0  \n",
       "3       Стерлитамак  smart  1150.0  \n",
       "4       Стерлитамак  smart  1550.0  \n",
       "5       Стерлитамак  smart   950.0  \n",
       "6       Стерлитамак  smart   550.0  \n",
       "7       Стерлитамак  smart  1350.0  \n",
       "8       Стерлитамак  smart  1150.0  \n",
       "9  Набережные Челны  smart   550.0  "
      ]
     },
     "execution_count": 18,
     "metadata": {},
     "output_type": "execute_result"
    }
   ],
   "source": [
    "ultra = statistics.query('tariff == \"ultra\"').reset_index(drop=True)\n",
    "smart = statistics.query('tariff == \"smart\"').reset_index(drop=True)\n",
    "display(ultra.head(10))\n",
    "smart.head(10)"
   ]
  },
  {
   "cell_type": "markdown",
   "id": "56fc80cd",
   "metadata": {},
   "source": [
    "Создадим функцию tariff_month(), для построения графиков по тарифам по длительности звонков, количеству сообщений и расхода интернета. Расчета средней, дисперсии и стандартного отклонения и отобразим это на диаграмме размаха."
   ]
  },
  {
   "cell_type": "code",
   "execution_count": 19,
   "id": "98be03b4",
   "metadata": {},
   "outputs": [],
   "source": [
    "def tariff_month(column, title, bins1=40, bins2=40):\n",
    "    \n",
    "    warnings.filterwarnings('ignore', category=np.VisibleDeprecationWarning)\n",
    "\n",
    "    display(statistics.groupby('tariff')[column].agg([np.mean, np.var, np.std]))\n",
    "   \n",
    "    ax = plt.gca()\n",
    "    smart.plot( y=column, title=title, kind='hist', ec='black', bins=bins1, \\\n",
    "                    figsize=(12,5), color='blue', ax=ax, grid=True)\n",
    "    ultra.plot( y=column, title=title, kind='hist', ec='black', bins=bins2, \\\n",
    "                    figsize=(12,5), color='red', ax=ax, grid=True, alpha=0.7)\n",
    "    plt.legend(['Smart','Ultra'])\n",
    "    \n",
    "    statistics.boxplot(column=column, by='tariff', figsize=(10,6))\n",
    "    "
   ]
  },
  {
   "cell_type": "markdown",
   "id": "aa443386",
   "metadata": {},
   "source": [
    "### Количество минут в месяц."
   ]
  },
  {
   "cell_type": "markdown",
   "id": "96af7ca0",
   "metadata": {},
   "source": [
    "Построим гистограмму и диаграмму размаха, количества минут разговоров в месяц в зависимости от тарифа."
   ]
  },
  {
   "cell_type": "code",
   "execution_count": 20,
   "id": "371c7df2",
   "metadata": {
    "scrolled": false
   },
   "outputs": [
    {
     "data": {
      "text/html": [
       "<div>\n",
       "<style scoped>\n",
       "    .dataframe tbody tr th:only-of-type {\n",
       "        vertical-align: middle;\n",
       "    }\n",
       "\n",
       "    .dataframe tbody tr th {\n",
       "        vertical-align: top;\n",
       "    }\n",
       "\n",
       "    .dataframe thead th {\n",
       "        text-align: right;\n",
       "    }\n",
       "</style>\n",
       "<table border=\"1\" class=\"dataframe\">\n",
       "  <thead>\n",
       "    <tr style=\"text-align: right;\">\n",
       "      <th></th>\n",
       "      <th>mean</th>\n",
       "      <th>var</th>\n",
       "      <th>std</th>\n",
       "    </tr>\n",
       "    <tr>\n",
       "      <th>tariff</th>\n",
       "      <th></th>\n",
       "      <th></th>\n",
       "      <th></th>\n",
       "    </tr>\n",
       "  </thead>\n",
       "  <tbody>\n",
       "    <tr>\n",
       "      <td>smart</td>\n",
       "      <td>417.934948</td>\n",
       "      <td>36219.315784</td>\n",
       "      <td>190.313730</td>\n",
       "    </tr>\n",
       "    <tr>\n",
       "      <td>ultra</td>\n",
       "      <td>526.623350</td>\n",
       "      <td>100873.633397</td>\n",
       "      <td>317.606098</td>\n",
       "    </tr>\n",
       "  </tbody>\n",
       "</table>\n",
       "</div>"
      ],
      "text/plain": [
       "              mean            var         std\n",
       "tariff                                       \n",
       "smart   417.934948   36219.315784  190.313730\n",
       "ultra   526.623350  100873.633397  317.606098"
      ]
     },
     "metadata": {},
     "output_type": "display_data"
    },
    {
     "data": {
      "image/png": "[encoded data removed]",
      "text/plain": [
       "<Figure size 864x360 with 1 Axes>"
      ]
     },
     "metadata": {
      "needs_background": "light"
     },
     "output_type": "display_data"
    },
    {
     "data": {
      "image/png": "[encoded data removed]",
      "text/plain": [
       "<Figure size 720x432 with 1 Axes>"
      ]
     },
     "metadata": {
      "needs_background": "light"
     },
     "output_type": "display_data"
    }
   ],
   "source": [
    "tariff_month('duration', 'Количество минут в месяц по тарифам', 40, 50)"
   ]
  },
  {
   "cell_type": "markdown",
   "id": "a7419ede",
   "metadata": {},
   "source": [
    "Как видно из данных абоненты на тарифе ультра в среднем разговаривают 526 минут, как видно очень много абонентов вообще не звонят. Большая часть абонентов разговаривают в пределах 250 – 800 минут, укладываясь в лимит звонков на тарифе. \n",
    "\n",
    "На тарифе смарт средняя продолжительность звонков 417 минут, но много абонентов, которые разговаривают сверх лимита в 500 минут, пик звонков приходится от 250 – 600 минут в месяц. "
   ]
  },
  {
   "cell_type": "markdown",
   "id": "81d1a9f7",
   "metadata": {},
   "source": [
    "### Количество сообщений в месяц."
   ]
  },
  {
   "cell_type": "markdown",
   "id": "ecf1e592",
   "metadata": {},
   "source": [
    "Построим гистограмму и диаграмму размаха, количества сообщений в месяц в зависимости от тарифа."
   ]
  },
  {
   "cell_type": "code",
   "execution_count": 21,
   "id": "8bc39603",
   "metadata": {
    "scrolled": false
   },
   "outputs": [
    {
     "data": {
      "text/html": [
       "<div>\n",
       "<style scoped>\n",
       "    .dataframe tbody tr th:only-of-type {\n",
       "        vertical-align: middle;\n",
       "    }\n",
       "\n",
       "    .dataframe tbody tr th {\n",
       "        vertical-align: top;\n",
       "    }\n",
       "\n",
       "    .dataframe thead th {\n",
       "        text-align: right;\n",
       "    }\n",
       "</style>\n",
       "<table border=\"1\" class=\"dataframe\">\n",
       "  <thead>\n",
       "    <tr style=\"text-align: right;\">\n",
       "      <th></th>\n",
       "      <th>mean</th>\n",
       "      <th>var</th>\n",
       "      <th>std</th>\n",
       "    </tr>\n",
       "    <tr>\n",
       "      <th>tariff</th>\n",
       "      <th></th>\n",
       "      <th></th>\n",
       "      <th></th>\n",
       "    </tr>\n",
       "  </thead>\n",
       "  <tbody>\n",
       "    <tr>\n",
       "      <td>smart</td>\n",
       "      <td>33.384029</td>\n",
       "      <td>796.812958</td>\n",
       "      <td>28.227876</td>\n",
       "    </tr>\n",
       "    <tr>\n",
       "      <td>ultra</td>\n",
       "      <td>49.363452</td>\n",
       "      <td>2285.266143</td>\n",
       "      <td>47.804457</td>\n",
       "    </tr>\n",
       "  </tbody>\n",
       "</table>\n",
       "</div>"
      ],
      "text/plain": [
       "             mean          var        std\n",
       "tariff                                   \n",
       "smart   33.384029   796.812958  28.227876\n",
       "ultra   49.363452  2285.266143  47.804457"
      ]
     },
     "metadata": {},
     "output_type": "display_data"
    },
    {
     "data": {
      "image/png": "[encoded data removed]",
      "text/plain": [
       "<Figure size 864x360 with 1 Axes>"
      ]
     },
     "metadata": {
      "needs_background": "light"
     },
     "output_type": "display_data"
    },
    {
     "data": {
      "image/png": "[encoded data removed]",
      "text/plain": [
       "<Figure size 720x432 with 1 Axes>"
      ]
     },
     "metadata": {
      "needs_background": "light"
     },
     "output_type": "display_data"
    }
   ],
   "source": [
    "tariff_month('message', 'Количество сообщений в месяц по тарифам', 40, 50)"
   ]
  },
  {
   "cell_type": "markdown",
   "id": "da4ae632",
   "metadata": {},
   "source": [
    "Как видно из данных абоненты на тарифе ультра отправляют в среднем 49 сообщений в месяц, а на тарифе смарт – 33. Большая часть абонентов на обоих тарифах, вообще не отправляют сообщений, скорее всего этот вид связи не популярен у клиентов. На тарифе ультра нет абонентов, которые превысили бы лимит в 1000 сообщений. На тарифе смарт, все же есть абоненты, которые отправляли более 50 сообщений в месяц, заложенных в тариф."
   ]
  },
  {
   "cell_type": "markdown",
   "id": "ac5976a8",
   "metadata": {},
   "source": [
    "### Количество интернет-трафика в месяц."
   ]
  },
  {
   "cell_type": "markdown",
   "id": "1aedd2c1",
   "metadata": {},
   "source": [
    "Построим гистограмму и диаграмму размаха, расхода интернет трафика в месяц в зависимости от тарифа."
   ]
  },
  {
   "cell_type": "code",
   "execution_count": 22,
   "id": "e276a7d8",
   "metadata": {},
   "outputs": [
    {
     "data": {
      "text/html": [
       "<div>\n",
       "<style scoped>\n",
       "    .dataframe tbody tr th:only-of-type {\n",
       "        vertical-align: middle;\n",
       "    }\n",
       "\n",
       "    .dataframe tbody tr th {\n",
       "        vertical-align: top;\n",
       "    }\n",
       "\n",
       "    .dataframe thead th {\n",
       "        text-align: right;\n",
       "    }\n",
       "</style>\n",
       "<table border=\"1\" class=\"dataframe\">\n",
       "  <thead>\n",
       "    <tr style=\"text-align: right;\">\n",
       "      <th></th>\n",
       "      <th>mean</th>\n",
       "      <th>var</th>\n",
       "      <th>std</th>\n",
       "    </tr>\n",
       "    <tr>\n",
       "      <th>tariff</th>\n",
       "      <th></th>\n",
       "      <th></th>\n",
       "      <th></th>\n",
       "    </tr>\n",
       "  </thead>\n",
       "  <tbody>\n",
       "    <tr>\n",
       "      <td>smart</td>\n",
       "      <td>16.328847</td>\n",
       "      <td>33.028705</td>\n",
       "      <td>5.747061</td>\n",
       "    </tr>\n",
       "    <tr>\n",
       "      <td>ultra</td>\n",
       "      <td>19.494416</td>\n",
       "      <td>97.091686</td>\n",
       "      <td>9.853511</td>\n",
       "    </tr>\n",
       "  </tbody>\n",
       "</table>\n",
       "</div>"
      ],
      "text/plain": [
       "             mean        var       std\n",
       "tariff                                \n",
       "smart   16.328847  33.028705  5.747061\n",
       "ultra   19.494416  97.091686  9.853511"
      ]
     },
     "metadata": {},
     "output_type": "display_data"
    },
    {
     "data": {
      "image/png": "[encoded data removed]",
      "text/plain": [
       "<Figure size 864x360 with 1 Axes>"
      ]
     },
     "metadata": {
      "needs_background": "light"
     },
     "output_type": "display_data"
    },
    {
     "data": {
      "image/png": "[encoded data removed]",
      "text/plain": [
       "<Figure size 720x432 with 1 Axes>"
      ]
     },
     "metadata": {
      "needs_background": "light"
     },
     "output_type": "display_data"
    }
   ],
   "source": [
    "tariff_month('gb_used', 'Интернет трафик в месяц по тарифам', 30)"
   ]
  },
  {
   "cell_type": "markdown",
   "id": "2ca3f3da",
   "metadata": {},
   "source": [
    "У абонентов тарифа смарт, среднее расхода интернета в месяц, составляет 16 Гб, что превышает выделенный на тарифе лимит 15 Гб в месяц. Большая часть абонентов на тарифе смарт расходуют интернет в пределах 9 – 25 Гб в месяц.\n",
    "\n",
    "У абонентов на тарифе ультра, среднее составляет 19 Гб, что меньше лимита в 30 Гб в месяц.  Большая часть абонентов на это тарифе, укладывается в лимит трафика на тарифе"
   ]
  },
  {
   "cell_type": "markdown",
   "id": "eead7200",
   "metadata": {},
   "source": [
    "## Проверка гипотезы"
   ]
  },
  {
   "cell_type": "markdown",
   "id": "87f56a59",
   "metadata": {},
   "source": [
    "Нам необходимо проверить 2 гипотезы: \n",
    "1.\tсредняя выручка пользователей тарифов «Ультра» и «Смарт» различаются;\n",
    "2.\tсредняя выручка пользователей из Москвы отличается от выручки пользователей из других регионов."
   ]
  },
  {
   "cell_type": "markdown",
   "id": "ff902482",
   "metadata": {},
   "source": [
    "### Гипотеза 1"
   ]
  },
  {
   "cell_type": "markdown",
   "id": "c0f7b215",
   "metadata": {},
   "source": [
    "**H0 (нулевая гипотеза)** - средняя выручка пользователей тарифов «Ультра» и «Смарт» равны.\n",
    "\n",
    "**H1 (альтернативная гипотеза)** - средняя выручка пользователей тарифов «Ультра» и «Смарт» различаются."
   ]
  },
  {
   "cell_type": "code",
   "execution_count": 23,
   "id": "468c25a3",
   "metadata": {},
   "outputs": [
    {
     "data": {
      "text/html": [
       "<div>\n",
       "<style scoped>\n",
       "    .dataframe tbody tr th:only-of-type {\n",
       "        vertical-align: middle;\n",
       "    }\n",
       "\n",
       "    .dataframe tbody tr th {\n",
       "        vertical-align: top;\n",
       "    }\n",
       "\n",
       "    .dataframe thead th {\n",
       "        text-align: right;\n",
       "    }\n",
       "</style>\n",
       "<table border=\"1\" class=\"dataframe\">\n",
       "  <thead>\n",
       "    <tr style=\"text-align: right;\">\n",
       "      <th></th>\n",
       "      <th>median</th>\n",
       "      <th>var</th>\n",
       "      <th>std</th>\n",
       "      <th>sum</th>\n",
       "      <th>count_nonzero</th>\n",
       "    </tr>\n",
       "    <tr>\n",
       "      <th>tariff</th>\n",
       "      <th></th>\n",
       "      <th></th>\n",
       "      <th></th>\n",
       "      <th></th>\n",
       "      <th></th>\n",
       "    </tr>\n",
       "  </thead>\n",
       "  <tbody>\n",
       "    <tr>\n",
       "      <td>smart</td>\n",
       "      <td>1023.0</td>\n",
       "      <td>669785.708006</td>\n",
       "      <td>818.404367</td>\n",
       "      <td>2875351.0</td>\n",
       "      <td>2229.0</td>\n",
       "    </tr>\n",
       "    <tr>\n",
       "      <td>ultra</td>\n",
       "      <td>1950.0</td>\n",
       "      <td>141516.745079</td>\n",
       "      <td>376.187114</td>\n",
       "      <td>2039100.0</td>\n",
       "      <td>985.0</td>\n",
       "    </tr>\n",
       "  </tbody>\n",
       "</table>\n",
       "</div>"
      ],
      "text/plain": [
       "        median            var         std        sum  count_nonzero\n",
       "tariff                                                             \n",
       "smart   1023.0  669785.708006  818.404367  2875351.0         2229.0\n",
       "ultra   1950.0  141516.745079  376.187114  2039100.0          985.0"
      ]
     },
     "execution_count": 23,
     "metadata": {},
     "output_type": "execute_result"
    }
   ],
   "source": [
    "statistics.groupby('tariff')['total'].agg([np.median, np.var, np.std, np.sum, np.count_nonzero])"
   ]
  },
  {
   "cell_type": "markdown",
   "id": "cf143c45",
   "metadata": {},
   "source": [
    "Как видно медиана и дисперсия различаются. Проверим гипотезу с помощью метода “ttest_ind()”, параметр “equal_var” укажем как “False”. Критический уровень статистической значимости возьмем 0.5"
   ]
  },
  {
   "cell_type": "code",
   "execution_count": 24,
   "id": "9032235a",
   "metadata": {},
   "outputs": [
    {
     "name": "stdout",
     "output_type": "stream",
     "text": [
      "p-значение: 4.2606313931076085e-250\n",
      "Отвергаем нулевую гипотезу\n"
     ]
    }
   ],
   "source": [
    "alpha = .05\n",
    "\n",
    "results = st.ttest_ind(ultra['total'], smart['total'], equal_var=False)\n",
    "\n",
    "print('p-значение:', results.pvalue)\n",
    "\n",
    "if (results.pvalue < alpha):\n",
    "    print(\"Отвергаем нулевую гипотезу\")\n",
    "else:\n",
    "    print(\"Не получилось отвергнуть нулевую гипотезу\")"
   ]
  },
  {
   "cell_type": "markdown",
   "id": "bfba3736",
   "metadata": {},
   "source": [
    "Нулевую гипотезу отвергаем. Верно утверждение, что средняя выручка пользователей тарифов смарт и ультра различается."
   ]
  },
  {
   "cell_type": "markdown",
   "id": "9e0ee920",
   "metadata": {},
   "source": [
    "### Гипотеза 2"
   ]
  },
  {
   "cell_type": "markdown",
   "id": "323db454",
   "metadata": {},
   "source": [
    "**H0 (нулевая гипотеза)** - средняя выручка пользователей из Москвы равна выручке пользователей из других регионов\n",
    "\n",
    "**H1 (альтернативная гипотеза)** - средняя выручка пользователей из Москвы и пользователей из других регионов различаются."
   ]
  },
  {
   "cell_type": "code",
   "execution_count": 25,
   "id": "3137383d",
   "metadata": {},
   "outputs": [
    {
     "name": "stdout",
     "output_type": "stream",
     "text": [
      "\u001b[1mМосква:\u001b[0m\n",
      "median      1750.000000\n",
      "var       565636.467012\n",
      "std          752.088071\n",
      "Name: total, dtype: float64\n",
      "\n",
      "\u001b[1mРегионы:\u001b[0m\n",
      "median      1583.000000\n",
      "var       654137.628522\n",
      "std          808.787752\n",
      "Name: total, dtype: float64\n"
     ]
    }
   ],
   "source": [
    "moscow = statistics.query('city ==  \"Москва\"')\n",
    "other = statistics.query('city !=  \"Москва\"')\n",
    "\n",
    "print('\\033[1m' + 'Москва:'  + '\\033[0m')\n",
    "print(moscow['total'].agg([np.median, np.var, np.std]), end='\\n\\n')\n",
    "\n",
    "print('\\033[1m' + 'Регионы:'  + '\\033[0m')\n",
    "print(other['total'].agg([np.median, np.var, np.std]))"
   ]
  },
  {
   "cell_type": "markdown",
   "id": "ea4b01a8",
   "metadata": {},
   "source": [
    "Как видно медиана отличается не очень сильно. Проверим гипотезу с помощью метода “ttest_ind()”. Критический уровень статистической значимости возьмем 0.5"
   ]
  },
  {
   "cell_type": "code",
   "execution_count": 26,
   "id": "f04e64b7",
   "metadata": {},
   "outputs": [
    {
     "name": "stdout",
     "output_type": "stream",
     "text": [
      "p-значение: 0.5440152911670223\n",
      "Не получилось отвергнуть нулевую гипотезу\n"
     ]
    }
   ],
   "source": [
    "alpha = .05\n",
    "\n",
    "results = st.ttest_ind(moscow['total'], other['total'])\n",
    "\n",
    "print('p-значение:', results.pvalue)\n",
    "\n",
    "if (results.pvalue < alpha):\n",
    "    print(\"Отвергаем нулевую гипотезу\")\n",
    "else:\n",
    "    print(\"Не получилось отвергнуть нулевую гипотезу\")"
   ]
  },
  {
   "cell_type": "markdown",
   "id": "0ece58bb",
   "metadata": {},
   "source": [
    "Не получилось отвергнуть нулевую гипотезу. Утверждение, что средняя выручка пользователей из Москвы равна выручке пользователей из других регионов, подтвердилась. "
   ]
  },
  {
   "cell_type": "markdown",
   "id": "1b3cc2c6",
   "metadata": {},
   "source": [
    "### Вывод"
   ]
  },
  {
   "cell_type": "markdown",
   "id": "0ebdf3fa",
   "metadata": {},
   "source": [
    "Надо было проверить 2 гипотезы. \n",
    "1.\tГипотеза, что средняя выручка пользователей тарифов смарт и ультра различаются, подтвердилась. \n",
    "2.\tГипотеза, что средняя выручка пользователей Москвы отличается от выручки пользователей из других регионов, не подтвердилась. Траты на связь в Москве и регионах, почти не отличаются."
   ]
  },
  {
   "cell_type": "markdown",
   "id": "aad68838",
   "metadata": {},
   "source": [
    "## Общий вывод"
   ]
  },
  {
   "cell_type": "markdown",
   "id": "0b06ad4f",
   "metadata": {},
   "source": [
    "Был произведен анализ пользователей компании «Мегалайн», на тарифах Смарт и Ультра. Были произведены расчеты, сравнивающие использование мобильной связи на разных тарифах. \n",
    "\n",
    "Вывели, что в среднем абоненты на тарифе Смарт в месяц, звонят меньше (417 минут, против 526 минут), но при этом многие на этом тарифе, не укладываются в лимит тарифа 500 минут, и им приходится платить сверх абонентской платы. \n",
    "\n",
    "Провели анализ отправленных сообщений и выяснили, что в большинстве случае, пользователи вообще не отправляют сообщения. Скорее всего многие начали общаться в мессенджерах и отправка сообщений не актуальна. \n",
    "\n",
    "Из анализа видно, что пользователи тарифов Смарт и Ультра, в среднем используют 16 и 19 Гб соответственно. При этом пользователи на тарифе Смарт, не укладываются в лимит 15 Гб, большая часть пользователей расходуют до 25 Гб и доплачивают за интернет сверх абонентской платы. На тарифе Ультра в большинстве случаев, пользователи укладываются в лимит 30 Гб.\n",
    "\n",
    "Многим пользователям на тарифе Ультра, было бы выгоднее перейти на тариф Смарт, для сокращения расходов.\n",
    "\n",
    "Проверили 2 гипотезы: \n",
    "1.\tГипотеза, что средняя выручка пользователей тарифов «Ультра» и «Смарт» различаются, верна. \n",
    "2.\tГипотеза, что средняя выручка пользователей из Москвы отличается от выручки пользователей из других регионов, не подтвердилась. \n",
    "\n",
    "Если взять общую выручку на тарифе Смарт и Ультра, то они составляют 2875351 и 2039100 соответственно. При этом на тарифе Смарт пользователей в 2 раза больше и составляет 2229, против 985 пользователей на тарифе Ультра. \n"
   ]
  }
 ],
 "metadata": {
  "ExecuteTimeLog": [
   {
    "duration": 924,
    "start_time": "2022-02-18T18:29:52.071Z"
   },
   {
    "duration": 893,
    "start_time": "2022-02-18T18:29:52.997Z"
   },
   {
    "duration": 84,
    "start_time": "2022-02-18T18:29:53.893Z"
   },
   {
    "duration": 47,
    "start_time": "2022-02-18T18:29:53.979Z"
   },
   {
    "duration": 61,
    "start_time": "2022-02-18T18:29:54.027Z"
   },
   {
    "duration": 61,
    "start_time": "2022-02-18T18:29:54.090Z"
   },
   {
    "duration": 11,
    "start_time": "2022-02-18T18:29:54.153Z"
   },
   {
    "duration": 55,
    "start_time": "2022-02-18T18:29:54.167Z"
   },
   {
    "duration": 13,
    "start_time": "2022-02-18T18:29:54.225Z"
   },
   {
    "duration": 102,
    "start_time": "2022-02-18T18:29:54.240Z"
   },
   {
    "duration": 21,
    "start_time": "2022-02-18T18:29:54.344Z"
   },
   {
    "duration": 29,
    "start_time": "2022-02-18T18:29:54.367Z"
   },
   {
    "duration": 18,
    "start_time": "2022-02-18T18:29:54.418Z"
   },
   {
    "duration": 6,
    "start_time": "2022-02-18T18:29:54.438Z"
   },
   {
    "duration": 4,
    "start_time": "2022-02-18T18:29:54.446Z"
   },
   {
    "duration": 6,
    "start_time": "2022-02-18T18:29:54.451Z"
   },
   {
    "duration": 327,
    "start_time": "2022-02-18T18:29:54.459Z"
   },
   {
    "duration": 37,
    "start_time": "2022-02-18T18:29:54.787Z"
   },
   {
    "duration": 4,
    "start_time": "2022-02-18T18:29:54.826Z"
   },
   {
    "duration": 654,
    "start_time": "2022-02-18T18:29:54.832Z"
   },
   {
    "duration": 637,
    "start_time": "2022-02-18T18:29:55.488Z"
   },
   {
    "duration": 595,
    "start_time": "2022-02-18T18:29:56.126Z"
   },
   {
    "duration": 14,
    "start_time": "2022-02-18T18:29:56.725Z"
   },
   {
    "duration": 6,
    "start_time": "2022-02-18T18:29:56.741Z"
   },
   {
    "duration": 13,
    "start_time": "2022-02-18T18:29:56.749Z"
   },
   {
    "duration": 5,
    "start_time": "2022-02-18T18:29:56.764Z"
   }
  ],
  "kernelspec": {
   "display_name": "Python 3 (ipykernel)",
   "language": "python",
   "name": "python3"
  },
  "language_info": {
   "codemirror_mode": {
    "name": "ipython",
    "version": 3
   },
   "file_extension": ".py",
   "mimetype": "text/x-python",
   "name": "python",
   "nbconvert_exporter": "python",
   "pygments_lexer": "ipython3",
   "version": "3.9.12"
  },
  "toc": {
   "base_numbering": 1,
   "nav_menu": {},
   "number_sections": true,
   "sideBar": true,
   "skip_h1_title": true,
   "title_cell": "Содержание",
   "title_sidebar": "Contents",
   "toc_cell": true,
   "toc_position": {
    "height": "calc(100% - 180px)",
    "left": "10px",
    "top": "150px",
    "width": "320px"
   },
   "toc_section_display": true,
   "toc_window_display": true
  }
 },
 "nbformat": 4,
 "nbformat_minor": 5
}
