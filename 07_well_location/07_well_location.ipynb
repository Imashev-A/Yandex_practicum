{
 "cells": [
  {
   "cell_type": "markdown",
   "id": "dd2b3613",
   "metadata": {
    "toc": true
   },
   "source": [
    "<h1>Содержание<span class=\"tocSkip\"></span></h1>\n",
    "<div class=\"toc\"><ul class=\"toc-item\"><li><span><a href=\"#Загрузка-и-подготовка-данных\" data-toc-modified-id=\"Загрузка-и-подготовка-данных-1\"><span class=\"toc-item-num\">1&nbsp;&nbsp;</span>Загрузка и подготовка данных</a></span><ul class=\"toc-item\"><li><span><a href=\"#Загрузим-и-изучим-данные\" data-toc-modified-id=\"Загрузим-и-изучим-данные-1.1\"><span class=\"toc-item-num\">1.1&nbsp;&nbsp;</span>Загрузим и изучим данные</a></span><ul class=\"toc-item\"><li><span><a href=\"#Таблица-data_1\" data-toc-modified-id=\"Таблица-data_1-1.1.1\"><span class=\"toc-item-num\">1.1.1&nbsp;&nbsp;</span>Таблица data_1</a></span></li><li><span><a href=\"#Таблица-data_2\" data-toc-modified-id=\"Таблица-data_2-1.1.2\"><span class=\"toc-item-num\">1.1.2&nbsp;&nbsp;</span>Таблица data_2</a></span></li><li><span><a href=\"#Таблица-data_3\" data-toc-modified-id=\"Таблица-data_3-1.1.3\"><span class=\"toc-item-num\">1.1.3&nbsp;&nbsp;</span>Таблица data_3</a></span></li><li><span><a href=\"#Вывод\" data-toc-modified-id=\"Вывод-1.1.4\"><span class=\"toc-item-num\">1.1.4&nbsp;&nbsp;</span>Вывод</a></span></li></ul></li><li><span><a href=\"#Обработка-дубликатов\" data-toc-modified-id=\"Обработка-дубликатов-1.2\"><span class=\"toc-item-num\">1.2&nbsp;&nbsp;</span>Обработка дубликатов</a></span><ul class=\"toc-item\"><li><span><a href=\"#Явные-дубликаты\" data-toc-modified-id=\"Явные-дубликаты-1.2.1\"><span class=\"toc-item-num\">1.2.1&nbsp;&nbsp;</span>Явные дубликаты</a></span></li><li><span><a href=\"#Дубликаты--в-таблице-data_1\" data-toc-modified-id=\"Дубликаты--в-таблице-data_1-1.2.2\"><span class=\"toc-item-num\">1.2.2&nbsp;&nbsp;</span>Дубликаты  в таблице data_1</a></span></li><li><span><a href=\"#Дубликаты--в-таблице-data_2\" data-toc-modified-id=\"Дубликаты--в-таблице-data_2-1.2.3\"><span class=\"toc-item-num\">1.2.3&nbsp;&nbsp;</span>Дубликаты  в таблице data_2</a></span></li><li><span><a href=\"#Дубликаты--в-таблице-data_3\" data-toc-modified-id=\"Дубликаты--в-таблице-data_3-1.2.4\"><span class=\"toc-item-num\">1.2.4&nbsp;&nbsp;</span>Дубликаты  в таблице data_3</a></span></li><li><span><a href=\"#Дубликаты-скважин-в-разных-регионах\" data-toc-modified-id=\"Дубликаты-скважин-в-разных-регионах-1.2.5\"><span class=\"toc-item-num\">1.2.5&nbsp;&nbsp;</span>Дубликаты скважин в разных регионах</a></span></li></ul></li></ul></li><li><span><a href=\"#Обучение-и-проверка-модели\" data-toc-modified-id=\"Обучение-и-проверка-модели-2\"><span class=\"toc-item-num\">2&nbsp;&nbsp;</span>Обучение и проверка модели</a></span><ul class=\"toc-item\"><li><span><a href=\"#Разобьем-признаки-для-обучения\" data-toc-modified-id=\"Разобьем-признаки-для-обучения-2.1\"><span class=\"toc-item-num\">2.1&nbsp;&nbsp;</span>Разобьем признаки для обучения</a></span></li><li><span><a href=\"#Обучение-модели\" data-toc-modified-id=\"Обучение-модели-2.2\"><span class=\"toc-item-num\">2.2&nbsp;&nbsp;</span>Обучение модели</a></span><ul class=\"toc-item\"><li><span><a href=\"#Первый-регион\" data-toc-modified-id=\"Первый-регион-2.2.1\"><span class=\"toc-item-num\">2.2.1&nbsp;&nbsp;</span>Первый регион</a></span></li><li><span><a href=\"#Второй-регион\" data-toc-modified-id=\"Второй-регион-2.2.2\"><span class=\"toc-item-num\">2.2.2&nbsp;&nbsp;</span>Второй регион</a></span></li><li><span><a href=\"#Третий-регион\" data-toc-modified-id=\"Третий-регион-2.2.3\"><span class=\"toc-item-num\">2.2.3&nbsp;&nbsp;</span>Третий регион</a></span></li><li><span><a href=\"#Вывод\" data-toc-modified-id=\"Вывод-2.2.4\"><span class=\"toc-item-num\">2.2.4&nbsp;&nbsp;</span>Вывод</a></span></li></ul></li></ul></li><li><span><a href=\"#Подготовка-к-расчёту-прибыли\" data-toc-modified-id=\"Подготовка-к-расчёту-прибыли-3\"><span class=\"toc-item-num\">3&nbsp;&nbsp;</span>Подготовка к расчёту прибыли</a></span></li><li><span><a href=\"#Расчёт-прибыли-и-рисков\" data-toc-modified-id=\"Расчёт-прибыли-и-рисков-4\"><span class=\"toc-item-num\">4&nbsp;&nbsp;</span>Расчёт прибыли и рисков</a></span><ul class=\"toc-item\"><li><span><a href=\"#Первый-регион\" data-toc-modified-id=\"Первый-регион-4.1\"><span class=\"toc-item-num\">4.1&nbsp;&nbsp;</span>Первый регион</a></span></li><li><span><a href=\"#Второй-регион\" data-toc-modified-id=\"Второй-регион-4.2\"><span class=\"toc-item-num\">4.2&nbsp;&nbsp;</span>Второй регион</a></span></li><li><span><a href=\"#Третий-регион\" data-toc-modified-id=\"Третий-регион-4.3\"><span class=\"toc-item-num\">4.3&nbsp;&nbsp;</span>Третий регион</a></span></li><li><span><a href=\"#Вывод\" data-toc-modified-id=\"Вывод-4.4\"><span class=\"toc-item-num\">4.4&nbsp;&nbsp;</span>Вывод</a></span></li></ul></li></ul></div>"
   ]
  },
  {
   "cell_type": "markdown",
   "id": "44180eda",
   "metadata": {},
   "source": [
    "# Выбор локации для скважины\n",
    "\n",
    "Допустим, вы работаете в добывающей компании «ГлавРосГосНефть». Нужно решить, где бурить новую скважину.\n",
    "\n",
    "Вам предоставлены пробы нефти в трёх регионах: в каждом 10 000 месторождений, где измерили качество нефти и объём её запасов. Постройте модель машинного обучения, которая поможет определить регион, где добыча принесёт наибольшую прибыль. Проанализируйте возможную прибыль и риски техникой *Bootstrap.*\n",
    "\n",
    "Шаги для выбора локации:\n",
    "\n",
    "- В избранном регионе ищут месторождения, для каждого определяют значения признаков;\n",
    "- Строят модель и оценивают объём запасов;\n",
    "- Выбирают месторождения с самым высокими оценками значений. Количество месторождений зависит от бюджета компании и стоимости разработки одной скважины;\n",
    "- Прибыль равна суммарной прибыли отобранных месторождений.\n",
    "\n",
    "Вам предоставлены пробы нефти в трёх регионах. Характеристики для каждой скважины в регионе уже известны. Постройте модель для определения региона, где добыча принесёт наибольшую прибыль. Проанализируйте возможную прибыль и риски техникой Bootstrap.\n",
    "\n",
    "# Описание данных\n",
    "\n",
    "**Данные геологоразведки трёх регионов находятся в файлах:**\n",
    "* id — уникальный идентификатор скважины;\n",
    "* f0, f1, f2 — три признака точек (неважно, что они означают, но сами признаки значимы);\n",
    "* product — объём запасов в скважине (тыс. баррелей).\n",
    "\n",
    "**Условия задачи:**\n",
    "* Для обучения модели подходит только линейная регрессия (остальные — недостаточно предсказуемые).\n",
    "* При разведке региона исследуют 500 точек, из которых с помощью машинного обучения выбирают 200 лучших для разработки.\n",
    "* Бюджет на разработку скважин в регионе — 10 млрд рублей.\n",
    "* При нынешних ценах один баррель сырья приносит 450 рублей дохода. Доход с каждой единицы продукта составляет 450 тыс. рублей, поскольку объём указан в тысячах баррелей.\n",
    "* После оценки рисков нужно оставить лишь те регионы, в которых вероятность убытков меньше 2.5%. Среди них выбирают регион с наибольшей средней прибылью.\n",
    "\n",
    "Данные синтетические: детали контрактов и характеристики месторождений не разглашаются."
   ]
  },
  {
   "cell_type": "markdown",
   "id": "f7ccbe25",
   "metadata": {},
   "source": [
    "## Загрузка и подготовка данных"
   ]
  },
  {
   "cell_type": "code",
   "execution_count": 1,
   "id": "87d836f2",
   "metadata": {},
   "outputs": [],
   "source": [
    "import matplotlib.pyplot as plt\n",
    "import numpy as np\n",
    "import pandas as pd\n",
    "\n",
    "from sklearn.ensemble import RandomForestRegressor\n",
    "from sklearn.linear_model import LinearRegression\n",
    "from sklearn.metrics import mean_squared_error\n",
    "from sklearn.model_selection import train_test_split\n",
    "from sklearn.tree import DecisionTreeRegressor"
   ]
  },
  {
   "cell_type": "markdown",
   "id": "6f847652",
   "metadata": {},
   "source": [
    "### Загрузим и изучим данные"
   ]
  },
  {
   "cell_type": "markdown",
   "id": "6c70efac",
   "metadata": {},
   "source": [
    "Загрузим данные"
   ]
  },
  {
   "cell_type": "code",
   "execution_count": 2,
   "id": "7024fc25",
   "metadata": {},
   "outputs": [],
   "source": [
    "data_1 = pd.read_csv('https://code.s3.yandex.net/datasets/geo_data_0.csv')\n",
    "data_2 = pd.read_csv('https://code.s3.yandex.net/datasets/geo_data_1.csv')\n",
    "data_3 = pd.read_csv('https://code.s3.yandex.net/datasets/geo_data_2.csv')"
   ]
  },
  {
   "cell_type": "markdown",
   "id": "8af07482",
   "metadata": {},
   "source": [
    "Изучим данные таблиц"
   ]
  },
  {
   "cell_type": "markdown",
   "id": "5c0bcbe4",
   "metadata": {},
   "source": [
    "#### Таблица data_1"
   ]
  },
  {
   "cell_type": "code",
   "execution_count": 3,
   "id": "650ab6dd",
   "metadata": {},
   "outputs": [
    {
     "name": "stdout",
     "output_type": "stream",
     "text": [
      "<class 'pandas.core.frame.DataFrame'>\n",
      "RangeIndex: 100000 entries, 0 to 99999\n",
      "Data columns (total 5 columns):\n",
      " #   Column   Non-Null Count   Dtype  \n",
      "---  ------   --------------   -----  \n",
      " 0   id       100000 non-null  object \n",
      " 1   f0       100000 non-null  float64\n",
      " 2   f1       100000 non-null  float64\n",
      " 3   f2       100000 non-null  float64\n",
      " 4   product  100000 non-null  float64\n",
      "dtypes: float64(4), object(1)\n",
      "memory usage: 3.8+ MB\n"
     ]
    },
    {
     "data": {
      "text/html": [
       "<div>\n",
       "<style scoped>\n",
       "    .dataframe tbody tr th:only-of-type {\n",
       "        vertical-align: middle;\n",
       "    }\n",
       "\n",
       "    .dataframe tbody tr th {\n",
       "        vertical-align: top;\n",
       "    }\n",
       "\n",
       "    .dataframe thead th {\n",
       "        text-align: right;\n",
       "    }\n",
       "</style>\n",
       "<table border=\"1\" class=\"dataframe\">\n",
       "  <thead>\n",
       "    <tr style=\"text-align: right;\">\n",
       "      <th></th>\n",
       "      <th>id</th>\n",
       "      <th>f0</th>\n",
       "      <th>f1</th>\n",
       "      <th>f2</th>\n",
       "      <th>product</th>\n",
       "    </tr>\n",
       "  </thead>\n",
       "  <tbody>\n",
       "    <tr>\n",
       "      <th>0</th>\n",
       "      <td>txEyH</td>\n",
       "      <td>0.705745</td>\n",
       "      <td>-0.497823</td>\n",
       "      <td>1.221170</td>\n",
       "      <td>105.280062</td>\n",
       "    </tr>\n",
       "    <tr>\n",
       "      <th>1</th>\n",
       "      <td>2acmU</td>\n",
       "      <td>1.334711</td>\n",
       "      <td>-0.340164</td>\n",
       "      <td>4.365080</td>\n",
       "      <td>73.037750</td>\n",
       "    </tr>\n",
       "    <tr>\n",
       "      <th>2</th>\n",
       "      <td>409Wp</td>\n",
       "      <td>1.022732</td>\n",
       "      <td>0.151990</td>\n",
       "      <td>1.419926</td>\n",
       "      <td>85.265647</td>\n",
       "    </tr>\n",
       "    <tr>\n",
       "      <th>3</th>\n",
       "      <td>iJLyR</td>\n",
       "      <td>-0.032172</td>\n",
       "      <td>0.139033</td>\n",
       "      <td>2.978566</td>\n",
       "      <td>168.620776</td>\n",
       "    </tr>\n",
       "    <tr>\n",
       "      <th>4</th>\n",
       "      <td>Xdl7t</td>\n",
       "      <td>1.988431</td>\n",
       "      <td>0.155413</td>\n",
       "      <td>4.751769</td>\n",
       "      <td>154.036647</td>\n",
       "    </tr>\n",
       "  </tbody>\n",
       "</table>\n",
       "</div>"
      ],
      "text/plain": [
       "      id        f0        f1        f2     product\n",
       "0  txEyH  0.705745 -0.497823  1.221170  105.280062\n",
       "1  2acmU  1.334711 -0.340164  4.365080   73.037750\n",
       "2  409Wp  1.022732  0.151990  1.419926   85.265647\n",
       "3  iJLyR -0.032172  0.139033  2.978566  168.620776\n",
       "4  Xdl7t  1.988431  0.155413  4.751769  154.036647"
      ]
     },
     "execution_count": 3,
     "metadata": {},
     "output_type": "execute_result"
    }
   ],
   "source": [
    "data_1.info()\n",
    "data_1.head()"
   ]
  },
  {
   "cell_type": "code",
   "execution_count": 4,
   "id": "d0048fd0",
   "metadata": {},
   "outputs": [
    {
     "data": {
      "text/html": [
       "<div>\n",
       "<style scoped>\n",
       "    .dataframe tbody tr th:only-of-type {\n",
       "        vertical-align: middle;\n",
       "    }\n",
       "\n",
       "    .dataframe tbody tr th {\n",
       "        vertical-align: top;\n",
       "    }\n",
       "\n",
       "    .dataframe thead th {\n",
       "        text-align: right;\n",
       "    }\n",
       "</style>\n",
       "<table border=\"1\" class=\"dataframe\">\n",
       "  <thead>\n",
       "    <tr style=\"text-align: right;\">\n",
       "      <th></th>\n",
       "      <th>f0</th>\n",
       "      <th>f1</th>\n",
       "      <th>f2</th>\n",
       "      <th>product</th>\n",
       "    </tr>\n",
       "  </thead>\n",
       "  <tbody>\n",
       "    <tr>\n",
       "      <th>count</th>\n",
       "      <td>100000.000000</td>\n",
       "      <td>100000.000000</td>\n",
       "      <td>100000.000000</td>\n",
       "      <td>100000.000000</td>\n",
       "    </tr>\n",
       "    <tr>\n",
       "      <th>mean</th>\n",
       "      <td>0.500419</td>\n",
       "      <td>0.250143</td>\n",
       "      <td>2.502647</td>\n",
       "      <td>92.500000</td>\n",
       "    </tr>\n",
       "    <tr>\n",
       "      <th>std</th>\n",
       "      <td>0.871832</td>\n",
       "      <td>0.504433</td>\n",
       "      <td>3.248248</td>\n",
       "      <td>44.288691</td>\n",
       "    </tr>\n",
       "    <tr>\n",
       "      <th>min</th>\n",
       "      <td>-1.408605</td>\n",
       "      <td>-0.848218</td>\n",
       "      <td>-12.088328</td>\n",
       "      <td>0.000000</td>\n",
       "    </tr>\n",
       "    <tr>\n",
       "      <th>25%</th>\n",
       "      <td>-0.072580</td>\n",
       "      <td>-0.200881</td>\n",
       "      <td>0.287748</td>\n",
       "      <td>56.497507</td>\n",
       "    </tr>\n",
       "    <tr>\n",
       "      <th>50%</th>\n",
       "      <td>0.502360</td>\n",
       "      <td>0.250252</td>\n",
       "      <td>2.515969</td>\n",
       "      <td>91.849972</td>\n",
       "    </tr>\n",
       "    <tr>\n",
       "      <th>75%</th>\n",
       "      <td>1.073581</td>\n",
       "      <td>0.700646</td>\n",
       "      <td>4.715088</td>\n",
       "      <td>128.564089</td>\n",
       "    </tr>\n",
       "    <tr>\n",
       "      <th>max</th>\n",
       "      <td>2.362331</td>\n",
       "      <td>1.343769</td>\n",
       "      <td>16.003790</td>\n",
       "      <td>185.364347</td>\n",
       "    </tr>\n",
       "  </tbody>\n",
       "</table>\n",
       "</div>"
      ],
      "text/plain": [
       "                  f0             f1             f2        product\n",
       "count  100000.000000  100000.000000  100000.000000  100000.000000\n",
       "mean        0.500419       0.250143       2.502647      92.500000\n",
       "std         0.871832       0.504433       3.248248      44.288691\n",
       "min        -1.408605      -0.848218     -12.088328       0.000000\n",
       "25%        -0.072580      -0.200881       0.287748      56.497507\n",
       "50%         0.502360       0.250252       2.515969      91.849972\n",
       "75%         1.073581       0.700646       4.715088     128.564089\n",
       "max         2.362331       1.343769      16.003790     185.364347"
      ]
     },
     "execution_count": 4,
     "metadata": {},
     "output_type": "execute_result"
    }
   ],
   "source": [
    "data_1.describe()"
   ]
  },
  {
   "cell_type": "code",
   "execution_count": 5,
   "id": "9cdc2652",
   "metadata": {
    "scrolled": true
   },
   "outputs": [
    {
     "data": {
      "text/html": [
       "<div>\n",
       "<style scoped>\n",
       "    .dataframe tbody tr th:only-of-type {\n",
       "        vertical-align: middle;\n",
       "    }\n",
       "\n",
       "    .dataframe tbody tr th {\n",
       "        vertical-align: top;\n",
       "    }\n",
       "\n",
       "    .dataframe thead th {\n",
       "        text-align: right;\n",
       "    }\n",
       "</style>\n",
       "<table border=\"1\" class=\"dataframe\">\n",
       "  <thead>\n",
       "    <tr style=\"text-align: right;\">\n",
       "      <th></th>\n",
       "      <th>f0</th>\n",
       "      <th>f1</th>\n",
       "      <th>f2</th>\n",
       "      <th>product</th>\n",
       "    </tr>\n",
       "  </thead>\n",
       "  <tbody>\n",
       "    <tr>\n",
       "      <th>f0</th>\n",
       "      <td>1.000000</td>\n",
       "      <td>-0.440723</td>\n",
       "      <td>-0.003153</td>\n",
       "      <td>0.143536</td>\n",
       "    </tr>\n",
       "    <tr>\n",
       "      <th>f1</th>\n",
       "      <td>-0.440723</td>\n",
       "      <td>1.000000</td>\n",
       "      <td>0.001724</td>\n",
       "      <td>-0.192356</td>\n",
       "    </tr>\n",
       "    <tr>\n",
       "      <th>f2</th>\n",
       "      <td>-0.003153</td>\n",
       "      <td>0.001724</td>\n",
       "      <td>1.000000</td>\n",
       "      <td>0.483663</td>\n",
       "    </tr>\n",
       "    <tr>\n",
       "      <th>product</th>\n",
       "      <td>0.143536</td>\n",
       "      <td>-0.192356</td>\n",
       "      <td>0.483663</td>\n",
       "      <td>1.000000</td>\n",
       "    </tr>\n",
       "  </tbody>\n",
       "</table>\n",
       "</div>"
      ],
      "text/plain": [
       "               f0        f1        f2   product\n",
       "f0       1.000000 -0.440723 -0.003153  0.143536\n",
       "f1      -0.440723  1.000000  0.001724 -0.192356\n",
       "f2      -0.003153  0.001724  1.000000  0.483663\n",
       "product  0.143536 -0.192356  0.483663  1.000000"
      ]
     },
     "execution_count": 5,
     "metadata": {},
     "output_type": "execute_result"
    }
   ],
   "source": [
    "data_1.corr()"
   ]
  },
  {
   "cell_type": "code",
   "execution_count": 6,
   "id": "24eb59da",
   "metadata": {
    "scrolled": false
   },
   "outputs": [
    {
     "data": {
      "image/png": "[encoded data removed]",
      "text/plain": [
       "<Figure size 1440x432 with 4 Axes>"
      ]
     },
     "metadata": {
      "needs_background": "light"
     },
     "output_type": "display_data"
    }
   ],
   "source": [
    "fig,ax = plt.subplots(1,4, figsize = (20, 6))\n",
    "a = 0\n",
    "for row in ['f0', 'f1', 'f2', 'product']:\n",
    "    graf = data_1.boxplot(column=row, notch=True, ax=ax[a])\n",
    "    a += 1"
   ]
  },
  {
   "cell_type": "markdown",
   "id": "a149b71c",
   "metadata": {},
   "source": [
    "#### Таблица data_2"
   ]
  },
  {
   "cell_type": "code",
   "execution_count": 7,
   "id": "fc8c0037",
   "metadata": {},
   "outputs": [
    {
     "name": "stdout",
     "output_type": "stream",
     "text": [
      "<class 'pandas.core.frame.DataFrame'>\n",
      "RangeIndex: 100000 entries, 0 to 99999\n",
      "Data columns (total 5 columns):\n",
      " #   Column   Non-Null Count   Dtype  \n",
      "---  ------   --------------   -----  \n",
      " 0   id       100000 non-null  object \n",
      " 1   f0       100000 non-null  float64\n",
      " 2   f1       100000 non-null  float64\n",
      " 3   f2       100000 non-null  float64\n",
      " 4   product  100000 non-null  float64\n",
      "dtypes: float64(4), object(1)\n",
      "memory usage: 3.8+ MB\n"
     ]
    },
    {
     "data": {
      "text/html": [
       "<div>\n",
       "<style scoped>\n",
       "    .dataframe tbody tr th:only-of-type {\n",
       "        vertical-align: middle;\n",
       "    }\n",
       "\n",
       "    .dataframe tbody tr th {\n",
       "        vertical-align: top;\n",
       "    }\n",
       "\n",
       "    .dataframe thead th {\n",
       "        text-align: right;\n",
       "    }\n",
       "</style>\n",
       "<table border=\"1\" class=\"dataframe\">\n",
       "  <thead>\n",
       "    <tr style=\"text-align: right;\">\n",
       "      <th></th>\n",
       "      <th>id</th>\n",
       "      <th>f0</th>\n",
       "      <th>f1</th>\n",
       "      <th>f2</th>\n",
       "      <th>product</th>\n",
       "    </tr>\n",
       "  </thead>\n",
       "  <tbody>\n",
       "    <tr>\n",
       "      <th>0</th>\n",
       "      <td>kBEdx</td>\n",
       "      <td>-15.001348</td>\n",
       "      <td>-8.276000</td>\n",
       "      <td>-0.005876</td>\n",
       "      <td>3.179103</td>\n",
       "    </tr>\n",
       "    <tr>\n",
       "      <th>1</th>\n",
       "      <td>62mP7</td>\n",
       "      <td>14.272088</td>\n",
       "      <td>-3.475083</td>\n",
       "      <td>0.999183</td>\n",
       "      <td>26.953261</td>\n",
       "    </tr>\n",
       "    <tr>\n",
       "      <th>2</th>\n",
       "      <td>vyE1P</td>\n",
       "      <td>6.263187</td>\n",
       "      <td>-5.948386</td>\n",
       "      <td>5.001160</td>\n",
       "      <td>134.766305</td>\n",
       "    </tr>\n",
       "    <tr>\n",
       "      <th>3</th>\n",
       "      <td>KcrkZ</td>\n",
       "      <td>-13.081196</td>\n",
       "      <td>-11.506057</td>\n",
       "      <td>4.999415</td>\n",
       "      <td>137.945408</td>\n",
       "    </tr>\n",
       "    <tr>\n",
       "      <th>4</th>\n",
       "      <td>AHL4O</td>\n",
       "      <td>12.702195</td>\n",
       "      <td>-8.147433</td>\n",
       "      <td>5.004363</td>\n",
       "      <td>134.766305</td>\n",
       "    </tr>\n",
       "  </tbody>\n",
       "</table>\n",
       "</div>"
      ],
      "text/plain": [
       "      id         f0         f1        f2     product\n",
       "0  kBEdx -15.001348  -8.276000 -0.005876    3.179103\n",
       "1  62mP7  14.272088  -3.475083  0.999183   26.953261\n",
       "2  vyE1P   6.263187  -5.948386  5.001160  134.766305\n",
       "3  KcrkZ -13.081196 -11.506057  4.999415  137.945408\n",
       "4  AHL4O  12.702195  -8.147433  5.004363  134.766305"
      ]
     },
     "execution_count": 7,
     "metadata": {},
     "output_type": "execute_result"
    }
   ],
   "source": [
    "data_2.info()\n",
    "data_2.head()"
   ]
  },
  {
   "cell_type": "code",
   "execution_count": 8,
   "id": "60647ffd",
   "metadata": {},
   "outputs": [
    {
     "data": {
      "text/html": [
       "<div>\n",
       "<style scoped>\n",
       "    .dataframe tbody tr th:only-of-type {\n",
       "        vertical-align: middle;\n",
       "    }\n",
       "\n",
       "    .dataframe tbody tr th {\n",
       "        vertical-align: top;\n",
       "    }\n",
       "\n",
       "    .dataframe thead th {\n",
       "        text-align: right;\n",
       "    }\n",
       "</style>\n",
       "<table border=\"1\" class=\"dataframe\">\n",
       "  <thead>\n",
       "    <tr style=\"text-align: right;\">\n",
       "      <th></th>\n",
       "      <th>f0</th>\n",
       "      <th>f1</th>\n",
       "      <th>f2</th>\n",
       "      <th>product</th>\n",
       "    </tr>\n",
       "  </thead>\n",
       "  <tbody>\n",
       "    <tr>\n",
       "      <th>count</th>\n",
       "      <td>100000.000000</td>\n",
       "      <td>100000.000000</td>\n",
       "      <td>100000.000000</td>\n",
       "      <td>100000.000000</td>\n",
       "    </tr>\n",
       "    <tr>\n",
       "      <th>mean</th>\n",
       "      <td>1.141296</td>\n",
       "      <td>-4.796579</td>\n",
       "      <td>2.494541</td>\n",
       "      <td>68.825000</td>\n",
       "    </tr>\n",
       "    <tr>\n",
       "      <th>std</th>\n",
       "      <td>8.965932</td>\n",
       "      <td>5.119872</td>\n",
       "      <td>1.703572</td>\n",
       "      <td>45.944423</td>\n",
       "    </tr>\n",
       "    <tr>\n",
       "      <th>min</th>\n",
       "      <td>-31.609576</td>\n",
       "      <td>-26.358598</td>\n",
       "      <td>-0.018144</td>\n",
       "      <td>0.000000</td>\n",
       "    </tr>\n",
       "    <tr>\n",
       "      <th>25%</th>\n",
       "      <td>-6.298551</td>\n",
       "      <td>-8.267985</td>\n",
       "      <td>1.000021</td>\n",
       "      <td>26.953261</td>\n",
       "    </tr>\n",
       "    <tr>\n",
       "      <th>50%</th>\n",
       "      <td>1.153055</td>\n",
       "      <td>-4.813172</td>\n",
       "      <td>2.011479</td>\n",
       "      <td>57.085625</td>\n",
       "    </tr>\n",
       "    <tr>\n",
       "      <th>75%</th>\n",
       "      <td>8.621015</td>\n",
       "      <td>-1.332816</td>\n",
       "      <td>3.999904</td>\n",
       "      <td>107.813044</td>\n",
       "    </tr>\n",
       "    <tr>\n",
       "      <th>max</th>\n",
       "      <td>29.421755</td>\n",
       "      <td>18.734063</td>\n",
       "      <td>5.019721</td>\n",
       "      <td>137.945408</td>\n",
       "    </tr>\n",
       "  </tbody>\n",
       "</table>\n",
       "</div>"
      ],
      "text/plain": [
       "                  f0             f1             f2        product\n",
       "count  100000.000000  100000.000000  100000.000000  100000.000000\n",
       "mean        1.141296      -4.796579       2.494541      68.825000\n",
       "std         8.965932       5.119872       1.703572      45.944423\n",
       "min       -31.609576     -26.358598      -0.018144       0.000000\n",
       "25%        -6.298551      -8.267985       1.000021      26.953261\n",
       "50%         1.153055      -4.813172       2.011479      57.085625\n",
       "75%         8.621015      -1.332816       3.999904     107.813044\n",
       "max        29.421755      18.734063       5.019721     137.945408"
      ]
     },
     "execution_count": 8,
     "metadata": {},
     "output_type": "execute_result"
    }
   ],
   "source": [
    "data_2.describe()"
   ]
  },
  {
   "cell_type": "code",
   "execution_count": 9,
   "id": "9a295d65",
   "metadata": {
    "scrolled": true
   },
   "outputs": [
    {
     "data": {
      "text/html": [
       "<div>\n",
       "<style scoped>\n",
       "    .dataframe tbody tr th:only-of-type {\n",
       "        vertical-align: middle;\n",
       "    }\n",
       "\n",
       "    .dataframe tbody tr th {\n",
       "        vertical-align: top;\n",
       "    }\n",
       "\n",
       "    .dataframe thead th {\n",
       "        text-align: right;\n",
       "    }\n",
       "</style>\n",
       "<table border=\"1\" class=\"dataframe\">\n",
       "  <thead>\n",
       "    <tr style=\"text-align: right;\">\n",
       "      <th></th>\n",
       "      <th>f0</th>\n",
       "      <th>f1</th>\n",
       "      <th>f2</th>\n",
       "      <th>product</th>\n",
       "    </tr>\n",
       "  </thead>\n",
       "  <tbody>\n",
       "    <tr>\n",
       "      <th>f0</th>\n",
       "      <td>1.000000</td>\n",
       "      <td>0.182287</td>\n",
       "      <td>-0.001777</td>\n",
       "      <td>-0.030491</td>\n",
       "    </tr>\n",
       "    <tr>\n",
       "      <th>f1</th>\n",
       "      <td>0.182287</td>\n",
       "      <td>1.000000</td>\n",
       "      <td>-0.002595</td>\n",
       "      <td>-0.010155</td>\n",
       "    </tr>\n",
       "    <tr>\n",
       "      <th>f2</th>\n",
       "      <td>-0.001777</td>\n",
       "      <td>-0.002595</td>\n",
       "      <td>1.000000</td>\n",
       "      <td>0.999397</td>\n",
       "    </tr>\n",
       "    <tr>\n",
       "      <th>product</th>\n",
       "      <td>-0.030491</td>\n",
       "      <td>-0.010155</td>\n",
       "      <td>0.999397</td>\n",
       "      <td>1.000000</td>\n",
       "    </tr>\n",
       "  </tbody>\n",
       "</table>\n",
       "</div>"
      ],
      "text/plain": [
       "               f0        f1        f2   product\n",
       "f0       1.000000  0.182287 -0.001777 -0.030491\n",
       "f1       0.182287  1.000000 -0.002595 -0.010155\n",
       "f2      -0.001777 -0.002595  1.000000  0.999397\n",
       "product -0.030491 -0.010155  0.999397  1.000000"
      ]
     },
     "execution_count": 9,
     "metadata": {},
     "output_type": "execute_result"
    }
   ],
   "source": [
    "data_2.corr()"
   ]
  },
  {
   "cell_type": "code",
   "execution_count": 10,
   "id": "c4067292",
   "metadata": {
    "scrolled": true
   },
   "outputs": [
    {
     "data": {
      "image/png": "[encoded data removed]",
      "text/plain": [
       "<Figure size 1440x432 with 4 Axes>"
      ]
     },
     "metadata": {
      "needs_background": "light"
     },
     "output_type": "display_data"
    }
   ],
   "source": [
    "fig,ax = plt.subplots(1,4, figsize = (20,6))\n",
    "a = 0\n",
    "for row in ['f0', 'f1', 'f2', 'product']:\n",
    "    graf = data_2.boxplot(column=row, notch=True, ax=ax[a])\n",
    "    a += 1"
   ]
  },
  {
   "cell_type": "markdown",
   "id": "fdf8a235",
   "metadata": {},
   "source": [
    "#### Таблица data_3"
   ]
  },
  {
   "cell_type": "code",
   "execution_count": 11,
   "id": "951c702d",
   "metadata": {},
   "outputs": [
    {
     "name": "stdout",
     "output_type": "stream",
     "text": [
      "<class 'pandas.core.frame.DataFrame'>\n",
      "RangeIndex: 100000 entries, 0 to 99999\n",
      "Data columns (total 5 columns):\n",
      " #   Column   Non-Null Count   Dtype  \n",
      "---  ------   --------------   -----  \n",
      " 0   id       100000 non-null  object \n",
      " 1   f0       100000 non-null  float64\n",
      " 2   f1       100000 non-null  float64\n",
      " 3   f2       100000 non-null  float64\n",
      " 4   product  100000 non-null  float64\n",
      "dtypes: float64(4), object(1)\n",
      "memory usage: 3.8+ MB\n"
     ]
    },
    {
     "data": {
      "text/html": [
       "<div>\n",
       "<style scoped>\n",
       "    .dataframe tbody tr th:only-of-type {\n",
       "        vertical-align: middle;\n",
       "    }\n",
       "\n",
       "    .dataframe tbody tr th {\n",
       "        vertical-align: top;\n",
       "    }\n",
       "\n",
       "    .dataframe thead th {\n",
       "        text-align: right;\n",
       "    }\n",
       "</style>\n",
       "<table border=\"1\" class=\"dataframe\">\n",
       "  <thead>\n",
       "    <tr style=\"text-align: right;\">\n",
       "      <th></th>\n",
       "      <th>id</th>\n",
       "      <th>f0</th>\n",
       "      <th>f1</th>\n",
       "      <th>f2</th>\n",
       "      <th>product</th>\n",
       "    </tr>\n",
       "  </thead>\n",
       "  <tbody>\n",
       "    <tr>\n",
       "      <th>0</th>\n",
       "      <td>fwXo0</td>\n",
       "      <td>-1.146987</td>\n",
       "      <td>0.963328</td>\n",
       "      <td>-0.828965</td>\n",
       "      <td>27.758673</td>\n",
       "    </tr>\n",
       "    <tr>\n",
       "      <th>1</th>\n",
       "      <td>WJtFt</td>\n",
       "      <td>0.262778</td>\n",
       "      <td>0.269839</td>\n",
       "      <td>-2.530187</td>\n",
       "      <td>56.069697</td>\n",
       "    </tr>\n",
       "    <tr>\n",
       "      <th>2</th>\n",
       "      <td>ovLUW</td>\n",
       "      <td>0.194587</td>\n",
       "      <td>0.289035</td>\n",
       "      <td>-5.586433</td>\n",
       "      <td>62.871910</td>\n",
       "    </tr>\n",
       "    <tr>\n",
       "      <th>3</th>\n",
       "      <td>q6cA6</td>\n",
       "      <td>2.236060</td>\n",
       "      <td>-0.553760</td>\n",
       "      <td>0.930038</td>\n",
       "      <td>114.572842</td>\n",
       "    </tr>\n",
       "    <tr>\n",
       "      <th>4</th>\n",
       "      <td>WPMUX</td>\n",
       "      <td>-0.515993</td>\n",
       "      <td>1.716266</td>\n",
       "      <td>5.899011</td>\n",
       "      <td>149.600746</td>\n",
       "    </tr>\n",
       "  </tbody>\n",
       "</table>\n",
       "</div>"
      ],
      "text/plain": [
       "      id        f0        f1        f2     product\n",
       "0  fwXo0 -1.146987  0.963328 -0.828965   27.758673\n",
       "1  WJtFt  0.262778  0.269839 -2.530187   56.069697\n",
       "2  ovLUW  0.194587  0.289035 -5.586433   62.871910\n",
       "3  q6cA6  2.236060 -0.553760  0.930038  114.572842\n",
       "4  WPMUX -0.515993  1.716266  5.899011  149.600746"
      ]
     },
     "execution_count": 11,
     "metadata": {},
     "output_type": "execute_result"
    }
   ],
   "source": [
    "data_3.info()\n",
    "data_3.head()"
   ]
  },
  {
   "cell_type": "code",
   "execution_count": 12,
   "id": "1b856b02",
   "metadata": {},
   "outputs": [
    {
     "data": {
      "text/html": [
       "<div>\n",
       "<style scoped>\n",
       "    .dataframe tbody tr th:only-of-type {\n",
       "        vertical-align: middle;\n",
       "    }\n",
       "\n",
       "    .dataframe tbody tr th {\n",
       "        vertical-align: top;\n",
       "    }\n",
       "\n",
       "    .dataframe thead th {\n",
       "        text-align: right;\n",
       "    }\n",
       "</style>\n",
       "<table border=\"1\" class=\"dataframe\">\n",
       "  <thead>\n",
       "    <tr style=\"text-align: right;\">\n",
       "      <th></th>\n",
       "      <th>f0</th>\n",
       "      <th>f1</th>\n",
       "      <th>f2</th>\n",
       "      <th>product</th>\n",
       "    </tr>\n",
       "  </thead>\n",
       "  <tbody>\n",
       "    <tr>\n",
       "      <th>count</th>\n",
       "      <td>100000.000000</td>\n",
       "      <td>100000.000000</td>\n",
       "      <td>100000.000000</td>\n",
       "      <td>100000.000000</td>\n",
       "    </tr>\n",
       "    <tr>\n",
       "      <th>mean</th>\n",
       "      <td>0.002023</td>\n",
       "      <td>-0.002081</td>\n",
       "      <td>2.495128</td>\n",
       "      <td>95.000000</td>\n",
       "    </tr>\n",
       "    <tr>\n",
       "      <th>std</th>\n",
       "      <td>1.732045</td>\n",
       "      <td>1.730417</td>\n",
       "      <td>3.473445</td>\n",
       "      <td>44.749921</td>\n",
       "    </tr>\n",
       "    <tr>\n",
       "      <th>min</th>\n",
       "      <td>-8.760004</td>\n",
       "      <td>-7.084020</td>\n",
       "      <td>-11.970335</td>\n",
       "      <td>0.000000</td>\n",
       "    </tr>\n",
       "    <tr>\n",
       "      <th>25%</th>\n",
       "      <td>-1.162288</td>\n",
       "      <td>-1.174820</td>\n",
       "      <td>0.130359</td>\n",
       "      <td>59.450441</td>\n",
       "    </tr>\n",
       "    <tr>\n",
       "      <th>50%</th>\n",
       "      <td>0.009424</td>\n",
       "      <td>-0.009482</td>\n",
       "      <td>2.484236</td>\n",
       "      <td>94.925613</td>\n",
       "    </tr>\n",
       "    <tr>\n",
       "      <th>75%</th>\n",
       "      <td>1.158535</td>\n",
       "      <td>1.163678</td>\n",
       "      <td>4.858794</td>\n",
       "      <td>130.595027</td>\n",
       "    </tr>\n",
       "    <tr>\n",
       "      <th>max</th>\n",
       "      <td>7.238262</td>\n",
       "      <td>7.844801</td>\n",
       "      <td>16.739402</td>\n",
       "      <td>190.029838</td>\n",
       "    </tr>\n",
       "  </tbody>\n",
       "</table>\n",
       "</div>"
      ],
      "text/plain": [
       "                  f0             f1             f2        product\n",
       "count  100000.000000  100000.000000  100000.000000  100000.000000\n",
       "mean        0.002023      -0.002081       2.495128      95.000000\n",
       "std         1.732045       1.730417       3.473445      44.749921\n",
       "min        -8.760004      -7.084020     -11.970335       0.000000\n",
       "25%        -1.162288      -1.174820       0.130359      59.450441\n",
       "50%         0.009424      -0.009482       2.484236      94.925613\n",
       "75%         1.158535       1.163678       4.858794     130.595027\n",
       "max         7.238262       7.844801      16.739402     190.029838"
      ]
     },
     "execution_count": 12,
     "metadata": {},
     "output_type": "execute_result"
    }
   ],
   "source": [
    "data_3.describe()"
   ]
  },
  {
   "cell_type": "code",
   "execution_count": 13,
   "id": "cafc01c1",
   "metadata": {
    "scrolled": true
   },
   "outputs": [
    {
     "data": {
      "text/html": [
       "<div>\n",
       "<style scoped>\n",
       "    .dataframe tbody tr th:only-of-type {\n",
       "        vertical-align: middle;\n",
       "    }\n",
       "\n",
       "    .dataframe tbody tr th {\n",
       "        vertical-align: top;\n",
       "    }\n",
       "\n",
       "    .dataframe thead th {\n",
       "        text-align: right;\n",
       "    }\n",
       "</style>\n",
       "<table border=\"1\" class=\"dataframe\">\n",
       "  <thead>\n",
       "    <tr style=\"text-align: right;\">\n",
       "      <th></th>\n",
       "      <th>f0</th>\n",
       "      <th>f1</th>\n",
       "      <th>f2</th>\n",
       "      <th>product</th>\n",
       "    </tr>\n",
       "  </thead>\n",
       "  <tbody>\n",
       "    <tr>\n",
       "      <th>f0</th>\n",
       "      <td>1.000000</td>\n",
       "      <td>0.000528</td>\n",
       "      <td>-0.000448</td>\n",
       "      <td>-0.001987</td>\n",
       "    </tr>\n",
       "    <tr>\n",
       "      <th>f1</th>\n",
       "      <td>0.000528</td>\n",
       "      <td>1.000000</td>\n",
       "      <td>0.000779</td>\n",
       "      <td>-0.001012</td>\n",
       "    </tr>\n",
       "    <tr>\n",
       "      <th>f2</th>\n",
       "      <td>-0.000448</td>\n",
       "      <td>0.000779</td>\n",
       "      <td>1.000000</td>\n",
       "      <td>0.445871</td>\n",
       "    </tr>\n",
       "    <tr>\n",
       "      <th>product</th>\n",
       "      <td>-0.001987</td>\n",
       "      <td>-0.001012</td>\n",
       "      <td>0.445871</td>\n",
       "      <td>1.000000</td>\n",
       "    </tr>\n",
       "  </tbody>\n",
       "</table>\n",
       "</div>"
      ],
      "text/plain": [
       "               f0        f1        f2   product\n",
       "f0       1.000000  0.000528 -0.000448 -0.001987\n",
       "f1       0.000528  1.000000  0.000779 -0.001012\n",
       "f2      -0.000448  0.000779  1.000000  0.445871\n",
       "product -0.001987 -0.001012  0.445871  1.000000"
      ]
     },
     "execution_count": 13,
     "metadata": {},
     "output_type": "execute_result"
    }
   ],
   "source": [
    "data_3.corr()"
   ]
  },
  {
   "cell_type": "code",
   "execution_count": 14,
   "id": "8e74469e",
   "metadata": {
    "scrolled": true
   },
   "outputs": [
    {
     "data": {
      "image/png": "[encoded data removed]",
      "text/plain": [
       "<Figure size 1440x432 with 4 Axes>"
      ]
     },
     "metadata": {
      "needs_background": "light"
     },
     "output_type": "display_data"
    }
   ],
   "source": [
    "fig,ax = plt.subplots(1,4, figsize = (20,6))\n",
    "a = 0\n",
    "for row in ['f0', 'f1', 'f2', 'product']:\n",
    "    graf = data_3.boxplot(column=row, notch=True, ax=ax[a])\n",
    "    a += 1"
   ]
  },
  {
   "cell_type": "markdown",
   "id": "63d58439",
   "metadata": {},
   "source": [
    "#### Вывод"
   ]
  },
  {
   "cell_type": "markdown",
   "id": "13d5edeb",
   "metadata": {},
   "source": [
    "Во всех регионах по 100 000 скважин. В данных отсутствуют пропуски. В некоторых признаках регионов имеются выбросы, т.к. из задания неизвестно, что означают эти признаки, но они важны, не будем трогать выбросы  "
   ]
  },
  {
   "cell_type": "markdown",
   "id": "bbac906f",
   "metadata": {},
   "source": [
    "###  Обработка дубликатов"
   ]
  },
  {
   "cell_type": "markdown",
   "id": "3bf00e9c",
   "metadata": {},
   "source": [
    "#### Явные дубликаты"
   ]
  },
  {
   "cell_type": "markdown",
   "id": "24ad5354",
   "metadata": {},
   "source": [
    "Посмотрим, есть ли явные дубликаты в таблицах:"
   ]
  },
  {
   "cell_type": "code",
   "execution_count": 15,
   "id": "24916612",
   "metadata": {
    "scrolled": true
   },
   "outputs": [
    {
     "name": "stdout",
     "output_type": "stream",
     "text": [
      "Дубликатов в таблице data_1: 0\n",
      "Дубликатов в таблице data_2: 0\n",
      "Дубликатов в таблице data_3: 0\n"
     ]
    }
   ],
   "source": [
    "print('Дубликатов в таблице data_1:', data_1.duplicated().sum())\n",
    "print('Дубликатов в таблице data_2:', data_2.duplicated().sum())\n",
    "print('Дубликатов в таблице data_3:', data_3.duplicated().sum())"
   ]
  },
  {
   "cell_type": "markdown",
   "id": "d669d698",
   "metadata": {},
   "source": [
    "#### Дубликаты  в таблице data_1"
   ]
  },
  {
   "cell_type": "markdown",
   "id": "27cb2fd1",
   "metadata": {},
   "source": [
    "Посмотрим, есть ли дубликаты идентификаторов скважин в регионе, для этого создадим функцию duplacat"
   ]
  },
  {
   "cell_type": "code",
   "execution_count": 16,
   "id": "87f3e70c",
   "metadata": {},
   "outputs": [],
   "source": [
    "def duplicat(table, columns):\n",
    "    return table[columns.isin(columns[columns.duplicated()])].sort_values('id')"
   ]
  },
  {
   "cell_type": "markdown",
   "id": "f515f0a8",
   "metadata": {},
   "source": [
    "Дубликаты скважин в таблице data_1"
   ]
  },
  {
   "cell_type": "code",
   "execution_count": 17,
   "id": "6305a39b",
   "metadata": {
    "scrolled": false
   },
   "outputs": [
    {
     "data": {
      "text/html": [
       "<div>\n",
       "<style scoped>\n",
       "    .dataframe tbody tr th:only-of-type {\n",
       "        vertical-align: middle;\n",
       "    }\n",
       "\n",
       "    .dataframe tbody tr th {\n",
       "        vertical-align: top;\n",
       "    }\n",
       "\n",
       "    .dataframe thead th {\n",
       "        text-align: right;\n",
       "    }\n",
       "</style>\n",
       "<table border=\"1\" class=\"dataframe\">\n",
       "  <thead>\n",
       "    <tr style=\"text-align: right;\">\n",
       "      <th></th>\n",
       "      <th>id</th>\n",
       "      <th>f0</th>\n",
       "      <th>f1</th>\n",
       "      <th>f2</th>\n",
       "      <th>product</th>\n",
       "    </tr>\n",
       "  </thead>\n",
       "  <tbody>\n",
       "    <tr>\n",
       "      <th>66136</th>\n",
       "      <td>74z30</td>\n",
       "      <td>1.084962</td>\n",
       "      <td>-0.312358</td>\n",
       "      <td>6.990771</td>\n",
       "      <td>127.643327</td>\n",
       "    </tr>\n",
       "    <tr>\n",
       "      <th>64022</th>\n",
       "      <td>74z30</td>\n",
       "      <td>0.741456</td>\n",
       "      <td>0.459229</td>\n",
       "      <td>5.153109</td>\n",
       "      <td>140.771492</td>\n",
       "    </tr>\n",
       "    <tr>\n",
       "      <th>51970</th>\n",
       "      <td>A5aEY</td>\n",
       "      <td>-0.180335</td>\n",
       "      <td>0.935548</td>\n",
       "      <td>-2.094773</td>\n",
       "      <td>33.020205</td>\n",
       "    </tr>\n",
       "    <tr>\n",
       "      <th>3389</th>\n",
       "      <td>A5aEY</td>\n",
       "      <td>-0.039949</td>\n",
       "      <td>0.156872</td>\n",
       "      <td>0.209861</td>\n",
       "      <td>89.249364</td>\n",
       "    </tr>\n",
       "    <tr>\n",
       "      <th>69163</th>\n",
       "      <td>AGS9W</td>\n",
       "      <td>-0.933795</td>\n",
       "      <td>0.116194</td>\n",
       "      <td>-3.655896</td>\n",
       "      <td>19.230453</td>\n",
       "    </tr>\n",
       "    <tr>\n",
       "      <th>42529</th>\n",
       "      <td>AGS9W</td>\n",
       "      <td>1.454747</td>\n",
       "      <td>-0.479651</td>\n",
       "      <td>0.683380</td>\n",
       "      <td>126.370504</td>\n",
       "    </tr>\n",
       "    <tr>\n",
       "      <th>931</th>\n",
       "      <td>HZww2</td>\n",
       "      <td>0.755284</td>\n",
       "      <td>0.368511</td>\n",
       "      <td>1.863211</td>\n",
       "      <td>30.681774</td>\n",
       "    </tr>\n",
       "    <tr>\n",
       "      <th>7530</th>\n",
       "      <td>HZww2</td>\n",
       "      <td>1.061194</td>\n",
       "      <td>-0.373969</td>\n",
       "      <td>10.430210</td>\n",
       "      <td>158.828695</td>\n",
       "    </tr>\n",
       "    <tr>\n",
       "      <th>63593</th>\n",
       "      <td>QcMuo</td>\n",
       "      <td>0.635635</td>\n",
       "      <td>-0.473422</td>\n",
       "      <td>0.862670</td>\n",
       "      <td>64.578675</td>\n",
       "    </tr>\n",
       "    <tr>\n",
       "      <th>1949</th>\n",
       "      <td>QcMuo</td>\n",
       "      <td>0.506563</td>\n",
       "      <td>-0.323775</td>\n",
       "      <td>-2.215583</td>\n",
       "      <td>75.496502</td>\n",
       "    </tr>\n",
       "    <tr>\n",
       "      <th>75715</th>\n",
       "      <td>Tdehs</td>\n",
       "      <td>0.112079</td>\n",
       "      <td>0.430296</td>\n",
       "      <td>3.218993</td>\n",
       "      <td>60.964018</td>\n",
       "    </tr>\n",
       "    <tr>\n",
       "      <th>21426</th>\n",
       "      <td>Tdehs</td>\n",
       "      <td>0.829407</td>\n",
       "      <td>0.298807</td>\n",
       "      <td>-0.049563</td>\n",
       "      <td>96.035308</td>\n",
       "    </tr>\n",
       "    <tr>\n",
       "      <th>92341</th>\n",
       "      <td>TtcGQ</td>\n",
       "      <td>0.110711</td>\n",
       "      <td>1.022689</td>\n",
       "      <td>0.911381</td>\n",
       "      <td>101.318008</td>\n",
       "    </tr>\n",
       "    <tr>\n",
       "      <th>60140</th>\n",
       "      <td>TtcGQ</td>\n",
       "      <td>0.569276</td>\n",
       "      <td>-0.104876</td>\n",
       "      <td>6.440215</td>\n",
       "      <td>85.350186</td>\n",
       "    </tr>\n",
       "    <tr>\n",
       "      <th>89582</th>\n",
       "      <td>bsk9y</td>\n",
       "      <td>0.398908</td>\n",
       "      <td>-0.400253</td>\n",
       "      <td>10.122376</td>\n",
       "      <td>163.433078</td>\n",
       "    </tr>\n",
       "    <tr>\n",
       "      <th>97785</th>\n",
       "      <td>bsk9y</td>\n",
       "      <td>0.378429</td>\n",
       "      <td>0.005837</td>\n",
       "      <td>0.160827</td>\n",
       "      <td>160.637302</td>\n",
       "    </tr>\n",
       "    <tr>\n",
       "      <th>41724</th>\n",
       "      <td>bxg6G</td>\n",
       "      <td>-0.823752</td>\n",
       "      <td>0.546319</td>\n",
       "      <td>3.630479</td>\n",
       "      <td>93.007798</td>\n",
       "    </tr>\n",
       "    <tr>\n",
       "      <th>1364</th>\n",
       "      <td>bxg6G</td>\n",
       "      <td>0.411645</td>\n",
       "      <td>0.856830</td>\n",
       "      <td>-3.653440</td>\n",
       "      <td>73.604260</td>\n",
       "    </tr>\n",
       "    <tr>\n",
       "      <th>16633</th>\n",
       "      <td>fiKDv</td>\n",
       "      <td>0.157341</td>\n",
       "      <td>1.028359</td>\n",
       "      <td>5.585586</td>\n",
       "      <td>95.817889</td>\n",
       "    </tr>\n",
       "    <tr>\n",
       "      <th>90815</th>\n",
       "      <td>fiKDv</td>\n",
       "      <td>0.049883</td>\n",
       "      <td>0.841313</td>\n",
       "      <td>6.394613</td>\n",
       "      <td>137.346586</td>\n",
       "    </tr>\n",
       "  </tbody>\n",
       "</table>\n",
       "</div>"
      ],
      "text/plain": [
       "          id        f0        f1         f2     product\n",
       "66136  74z30  1.084962 -0.312358   6.990771  127.643327\n",
       "64022  74z30  0.741456  0.459229   5.153109  140.771492\n",
       "51970  A5aEY -0.180335  0.935548  -2.094773   33.020205\n",
       "3389   A5aEY -0.039949  0.156872   0.209861   89.249364\n",
       "69163  AGS9W -0.933795  0.116194  -3.655896   19.230453\n",
       "42529  AGS9W  1.454747 -0.479651   0.683380  126.370504\n",
       "931    HZww2  0.755284  0.368511   1.863211   30.681774\n",
       "7530   HZww2  1.061194 -0.373969  10.430210  158.828695\n",
       "63593  QcMuo  0.635635 -0.473422   0.862670   64.578675\n",
       "1949   QcMuo  0.506563 -0.323775  -2.215583   75.496502\n",
       "75715  Tdehs  0.112079  0.430296   3.218993   60.964018\n",
       "21426  Tdehs  0.829407  0.298807  -0.049563   96.035308\n",
       "92341  TtcGQ  0.110711  1.022689   0.911381  101.318008\n",
       "60140  TtcGQ  0.569276 -0.104876   6.440215   85.350186\n",
       "89582  bsk9y  0.398908 -0.400253  10.122376  163.433078\n",
       "97785  bsk9y  0.378429  0.005837   0.160827  160.637302\n",
       "41724  bxg6G -0.823752  0.546319   3.630479   93.007798\n",
       "1364   bxg6G  0.411645  0.856830  -3.653440   73.604260\n",
       "16633  fiKDv  0.157341  1.028359   5.585586   95.817889\n",
       "90815  fiKDv  0.049883  0.841313   6.394613  137.346586"
      ]
     },
     "execution_count": 17,
     "metadata": {},
     "output_type": "execute_result"
    }
   ],
   "source": [
    "duplicat(data_1, data_1['id'])"
   ]
  },
  {
   "cell_type": "markdown",
   "id": "c16f9e43",
   "metadata": {},
   "source": [
    "Т.к. ID является уникальным идентификатором скважины, удалим имеющиеся дубликаты"
   ]
  },
  {
   "cell_type": "code",
   "execution_count": 18,
   "id": "8d281de0",
   "metadata": {},
   "outputs": [],
   "source": [
    "data_1 = data_1.drop_duplicates(subset='id')"
   ]
  },
  {
   "cell_type": "markdown",
   "id": "d30f3708",
   "metadata": {},
   "source": [
    "#### Дубликаты  в таблице data_2"
   ]
  },
  {
   "cell_type": "markdown",
   "id": "96ada7e0",
   "metadata": {},
   "source": [
    "Дубликаты скважин в таблице data_2"
   ]
  },
  {
   "cell_type": "code",
   "execution_count": 19,
   "id": "9bade936",
   "metadata": {
    "scrolled": false
   },
   "outputs": [
    {
     "data": {
      "text/html": [
       "<div>\n",
       "<style scoped>\n",
       "    .dataframe tbody tr th:only-of-type {\n",
       "        vertical-align: middle;\n",
       "    }\n",
       "\n",
       "    .dataframe tbody tr th {\n",
       "        vertical-align: top;\n",
       "    }\n",
       "\n",
       "    .dataframe thead th {\n",
       "        text-align: right;\n",
       "    }\n",
       "</style>\n",
       "<table border=\"1\" class=\"dataframe\">\n",
       "  <thead>\n",
       "    <tr style=\"text-align: right;\">\n",
       "      <th></th>\n",
       "      <th>id</th>\n",
       "      <th>f0</th>\n",
       "      <th>f1</th>\n",
       "      <th>f2</th>\n",
       "      <th>product</th>\n",
       "    </tr>\n",
       "  </thead>\n",
       "  <tbody>\n",
       "    <tr>\n",
       "      <th>5849</th>\n",
       "      <td>5ltQ6</td>\n",
       "      <td>-3.435401</td>\n",
       "      <td>-12.296043</td>\n",
       "      <td>1.999796</td>\n",
       "      <td>57.085625</td>\n",
       "    </tr>\n",
       "    <tr>\n",
       "      <th>84461</th>\n",
       "      <td>5ltQ6</td>\n",
       "      <td>18.213839</td>\n",
       "      <td>2.191999</td>\n",
       "      <td>3.993869</td>\n",
       "      <td>107.813044</td>\n",
       "    </tr>\n",
       "    <tr>\n",
       "      <th>1305</th>\n",
       "      <td>LHZR0</td>\n",
       "      <td>11.170835</td>\n",
       "      <td>-1.945066</td>\n",
       "      <td>3.002872</td>\n",
       "      <td>80.859783</td>\n",
       "    </tr>\n",
       "    <tr>\n",
       "      <th>41906</th>\n",
       "      <td>LHZR0</td>\n",
       "      <td>-8.989672</td>\n",
       "      <td>-4.286607</td>\n",
       "      <td>2.009139</td>\n",
       "      <td>57.085625</td>\n",
       "    </tr>\n",
       "    <tr>\n",
       "      <th>2721</th>\n",
       "      <td>bfPNe</td>\n",
       "      <td>-9.494442</td>\n",
       "      <td>-5.463692</td>\n",
       "      <td>4.006042</td>\n",
       "      <td>110.992147</td>\n",
       "    </tr>\n",
       "    <tr>\n",
       "      <th>82178</th>\n",
       "      <td>bfPNe</td>\n",
       "      <td>-6.202799</td>\n",
       "      <td>-4.820045</td>\n",
       "      <td>2.995107</td>\n",
       "      <td>84.038886</td>\n",
       "    </tr>\n",
       "    <tr>\n",
       "      <th>47591</th>\n",
       "      <td>wt4Uk</td>\n",
       "      <td>-9.091098</td>\n",
       "      <td>-8.109279</td>\n",
       "      <td>-0.002314</td>\n",
       "      <td>3.179103</td>\n",
       "    </tr>\n",
       "    <tr>\n",
       "      <th>82873</th>\n",
       "      <td>wt4Uk</td>\n",
       "      <td>10.259972</td>\n",
       "      <td>-9.376355</td>\n",
       "      <td>4.994297</td>\n",
       "      <td>134.766305</td>\n",
       "    </tr>\n",
       "  </tbody>\n",
       "</table>\n",
       "</div>"
      ],
      "text/plain": [
       "          id         f0         f1        f2     product\n",
       "5849   5ltQ6  -3.435401 -12.296043  1.999796   57.085625\n",
       "84461  5ltQ6  18.213839   2.191999  3.993869  107.813044\n",
       "1305   LHZR0  11.170835  -1.945066  3.002872   80.859783\n",
       "41906  LHZR0  -8.989672  -4.286607  2.009139   57.085625\n",
       "2721   bfPNe  -9.494442  -5.463692  4.006042  110.992147\n",
       "82178  bfPNe  -6.202799  -4.820045  2.995107   84.038886\n",
       "47591  wt4Uk  -9.091098  -8.109279 -0.002314    3.179103\n",
       "82873  wt4Uk  10.259972  -9.376355  4.994297  134.766305"
      ]
     },
     "execution_count": 19,
     "metadata": {},
     "output_type": "execute_result"
    }
   ],
   "source": [
    "duplicat(data_2, data_2['id'])"
   ]
  },
  {
   "cell_type": "markdown",
   "id": "ce811d6b",
   "metadata": {},
   "source": [
    "Удалим дубликаты идентификаторов скважин"
   ]
  },
  {
   "cell_type": "code",
   "execution_count": 20,
   "id": "3fdbea44",
   "metadata": {},
   "outputs": [],
   "source": [
    "data_2 = data_2.drop_duplicates(subset='id')"
   ]
  },
  {
   "cell_type": "markdown",
   "id": "5bd903d2",
   "metadata": {},
   "source": [
    "#### Дубликаты  в таблице data_3"
   ]
  },
  {
   "cell_type": "markdown",
   "id": "0a94dcad",
   "metadata": {},
   "source": [
    "Дубликаты скважин в таблице data_3"
   ]
  },
  {
   "cell_type": "code",
   "execution_count": 21,
   "id": "fc16d991",
   "metadata": {
    "scrolled": true
   },
   "outputs": [
    {
     "data": {
      "text/html": [
       "<div>\n",
       "<style scoped>\n",
       "    .dataframe tbody tr th:only-of-type {\n",
       "        vertical-align: middle;\n",
       "    }\n",
       "\n",
       "    .dataframe tbody tr th {\n",
       "        vertical-align: top;\n",
       "    }\n",
       "\n",
       "    .dataframe thead th {\n",
       "        text-align: right;\n",
       "    }\n",
       "</style>\n",
       "<table border=\"1\" class=\"dataframe\">\n",
       "  <thead>\n",
       "    <tr style=\"text-align: right;\">\n",
       "      <th></th>\n",
       "      <th>id</th>\n",
       "      <th>f0</th>\n",
       "      <th>f1</th>\n",
       "      <th>f2</th>\n",
       "      <th>product</th>\n",
       "    </tr>\n",
       "  </thead>\n",
       "  <tbody>\n",
       "    <tr>\n",
       "      <th>45404</th>\n",
       "      <td>KUPhW</td>\n",
       "      <td>0.231846</td>\n",
       "      <td>-1.698941</td>\n",
       "      <td>4.990775</td>\n",
       "      <td>11.716299</td>\n",
       "    </tr>\n",
       "    <tr>\n",
       "      <th>55967</th>\n",
       "      <td>KUPhW</td>\n",
       "      <td>1.211150</td>\n",
       "      <td>3.176408</td>\n",
       "      <td>5.543540</td>\n",
       "      <td>132.831802</td>\n",
       "    </tr>\n",
       "    <tr>\n",
       "      <th>11449</th>\n",
       "      <td>VF7Jo</td>\n",
       "      <td>2.122656</td>\n",
       "      <td>-0.858275</td>\n",
       "      <td>5.746001</td>\n",
       "      <td>181.716817</td>\n",
       "    </tr>\n",
       "    <tr>\n",
       "      <th>49564</th>\n",
       "      <td>VF7Jo</td>\n",
       "      <td>-0.883115</td>\n",
       "      <td>0.560537</td>\n",
       "      <td>0.723601</td>\n",
       "      <td>136.233420</td>\n",
       "    </tr>\n",
       "    <tr>\n",
       "      <th>44378</th>\n",
       "      <td>Vcm5J</td>\n",
       "      <td>-1.229484</td>\n",
       "      <td>-2.439204</td>\n",
       "      <td>1.222909</td>\n",
       "      <td>137.968290</td>\n",
       "    </tr>\n",
       "    <tr>\n",
       "      <th>95090</th>\n",
       "      <td>Vcm5J</td>\n",
       "      <td>2.587702</td>\n",
       "      <td>1.986875</td>\n",
       "      <td>2.482245</td>\n",
       "      <td>92.327572</td>\n",
       "    </tr>\n",
       "    <tr>\n",
       "      <th>28039</th>\n",
       "      <td>xCHr8</td>\n",
       "      <td>1.633027</td>\n",
       "      <td>0.368135</td>\n",
       "      <td>-2.378367</td>\n",
       "      <td>6.120525</td>\n",
       "    </tr>\n",
       "    <tr>\n",
       "      <th>43233</th>\n",
       "      <td>xCHr8</td>\n",
       "      <td>-0.847066</td>\n",
       "      <td>2.101796</td>\n",
       "      <td>5.597130</td>\n",
       "      <td>184.388641</td>\n",
       "    </tr>\n",
       "  </tbody>\n",
       "</table>\n",
       "</div>"
      ],
      "text/plain": [
       "          id        f0        f1        f2     product\n",
       "45404  KUPhW  0.231846 -1.698941  4.990775   11.716299\n",
       "55967  KUPhW  1.211150  3.176408  5.543540  132.831802\n",
       "11449  VF7Jo  2.122656 -0.858275  5.746001  181.716817\n",
       "49564  VF7Jo -0.883115  0.560537  0.723601  136.233420\n",
       "44378  Vcm5J -1.229484 -2.439204  1.222909  137.968290\n",
       "95090  Vcm5J  2.587702  1.986875  2.482245   92.327572\n",
       "28039  xCHr8  1.633027  0.368135 -2.378367    6.120525\n",
       "43233  xCHr8 -0.847066  2.101796  5.597130  184.388641"
      ]
     },
     "execution_count": 21,
     "metadata": {},
     "output_type": "execute_result"
    }
   ],
   "source": [
    "duplicat(data_3, data_3['id'])"
   ]
  },
  {
   "cell_type": "markdown",
   "id": "f19f83f1",
   "metadata": {},
   "source": [
    "Удалим дубликаты идентификаторов скважин"
   ]
  },
  {
   "cell_type": "code",
   "execution_count": 22,
   "id": "a34518c0",
   "metadata": {},
   "outputs": [],
   "source": [
    "data_3 = data_3.drop_duplicates(subset='id')"
   ]
  },
  {
   "cell_type": "markdown",
   "id": "8cfa13c0",
   "metadata": {},
   "source": [
    "#### Дубликаты скважин в разных регионах"
   ]
  },
  {
   "cell_type": "markdown",
   "id": "8bf4f611",
   "metadata": {},
   "source": [
    "Посмотрим, есть ли повторяющиеся скважины во всех трех регионах "
   ]
  },
  {
   "cell_type": "code",
   "execution_count": 23,
   "id": "d748dcea",
   "metadata": {},
   "outputs": [
    {
     "data": {
      "text/html": [
       "<div>\n",
       "<style scoped>\n",
       "    .dataframe tbody tr th:only-of-type {\n",
       "        vertical-align: middle;\n",
       "    }\n",
       "\n",
       "    .dataframe tbody tr th {\n",
       "        vertical-align: top;\n",
       "    }\n",
       "\n",
       "    .dataframe thead th {\n",
       "        text-align: right;\n",
       "    }\n",
       "</style>\n",
       "<table border=\"1\" class=\"dataframe\">\n",
       "  <thead>\n",
       "    <tr style=\"text-align: right;\">\n",
       "      <th></th>\n",
       "      <th>id</th>\n",
       "      <th>f0_x</th>\n",
       "      <th>f1_x</th>\n",
       "      <th>f2_x</th>\n",
       "      <th>product_x</th>\n",
       "      <th>f0_y</th>\n",
       "      <th>f1_y</th>\n",
       "      <th>f2_y</th>\n",
       "      <th>product_y</th>\n",
       "      <th>f0</th>\n",
       "      <th>f1</th>\n",
       "      <th>f2</th>\n",
       "      <th>product</th>\n",
       "    </tr>\n",
       "  </thead>\n",
       "  <tbody>\n",
       "  </tbody>\n",
       "</table>\n",
       "</div>"
      ],
      "text/plain": [
       "Empty DataFrame\n",
       "Columns: [id, f0_x, f1_x, f2_x, product_x, f0_y, f1_y, f2_y, product_y, f0, f1, f2, product]\n",
       "Index: []"
      ]
     },
     "execution_count": 23,
     "metadata": {},
     "output_type": "execute_result"
    }
   ],
   "source": [
    "data_1.merge(data_2,on='id').merge(data_3,on='id')"
   ]
  },
  {
   "cell_type": "markdown",
   "id": "964bc612",
   "metadata": {},
   "source": [
    "Проверим дубликаты идентификаторов скважин в различных регионах"
   ]
  },
  {
   "cell_type": "code",
   "execution_count": 24,
   "id": "3e94b559",
   "metadata": {},
   "outputs": [
    {
     "data": {
      "text/html": [
       "<div>\n",
       "<style scoped>\n",
       "    .dataframe tbody tr th:only-of-type {\n",
       "        vertical-align: middle;\n",
       "    }\n",
       "\n",
       "    .dataframe tbody tr th {\n",
       "        vertical-align: top;\n",
       "    }\n",
       "\n",
       "    .dataframe thead th {\n",
       "        text-align: right;\n",
       "    }\n",
       "</style>\n",
       "<table border=\"1\" class=\"dataframe\">\n",
       "  <thead>\n",
       "    <tr style=\"text-align: right;\">\n",
       "      <th></th>\n",
       "      <th>id</th>\n",
       "      <th>f0_x</th>\n",
       "      <th>f1_x</th>\n",
       "      <th>f2_x</th>\n",
       "      <th>product_x</th>\n",
       "      <th>f0_y</th>\n",
       "      <th>f1_y</th>\n",
       "      <th>f2_y</th>\n",
       "      <th>product_y</th>\n",
       "    </tr>\n",
       "  </thead>\n",
       "  <tbody>\n",
       "    <tr>\n",
       "      <th>0</th>\n",
       "      <td>Q64YW</td>\n",
       "      <td>0.453692</td>\n",
       "      <td>0.851595</td>\n",
       "      <td>1.483317</td>\n",
       "      <td>137.265232</td>\n",
       "      <td>3.005548</td>\n",
       "      <td>-0.243063</td>\n",
       "      <td>5.000265</td>\n",
       "      <td>134.766305</td>\n",
       "    </tr>\n",
       "    <tr>\n",
       "      <th>1</th>\n",
       "      <td>CXJ2r</td>\n",
       "      <td>1.799663</td>\n",
       "      <td>0.152615</td>\n",
       "      <td>2.308270</td>\n",
       "      <td>124.783815</td>\n",
       "      <td>4.595329</td>\n",
       "      <td>-1.967882</td>\n",
       "      <td>4.000767</td>\n",
       "      <td>107.813044</td>\n",
       "    </tr>\n",
       "    <tr>\n",
       "      <th>2</th>\n",
       "      <td>Y2udP</td>\n",
       "      <td>1.226808</td>\n",
       "      <td>-0.482702</td>\n",
       "      <td>7.197720</td>\n",
       "      <td>178.864963</td>\n",
       "      <td>12.544203</td>\n",
       "      <td>5.897907</td>\n",
       "      <td>1.007743</td>\n",
       "      <td>26.953261</td>\n",
       "    </tr>\n",
       "    <tr>\n",
       "      <th>3</th>\n",
       "      <td>g3RRG</td>\n",
       "      <td>1.256835</td>\n",
       "      <td>-0.594468</td>\n",
       "      <td>2.258115</td>\n",
       "      <td>36.909351</td>\n",
       "      <td>5.884971</td>\n",
       "      <td>-3.853958</td>\n",
       "      <td>5.000735</td>\n",
       "      <td>134.766305</td>\n",
       "    </tr>\n",
       "    <tr>\n",
       "      <th>4</th>\n",
       "      <td>mpZhE</td>\n",
       "      <td>1.050752</td>\n",
       "      <td>0.001206</td>\n",
       "      <td>3.015799</td>\n",
       "      <td>102.323401</td>\n",
       "      <td>11.206881</td>\n",
       "      <td>-2.291883</td>\n",
       "      <td>1.003807</td>\n",
       "      <td>26.953261</td>\n",
       "    </tr>\n",
       "    <tr>\n",
       "      <th>5</th>\n",
       "      <td>L1Fdm</td>\n",
       "      <td>-0.870625</td>\n",
       "      <td>0.216046</td>\n",
       "      <td>6.551127</td>\n",
       "      <td>99.473405</td>\n",
       "      <td>-3.346138</td>\n",
       "      <td>1.878476</td>\n",
       "      <td>0.004355</td>\n",
       "      <td>3.179103</td>\n",
       "    </tr>\n",
       "    <tr>\n",
       "      <th>6</th>\n",
       "      <td>it2OW</td>\n",
       "      <td>-0.649660</td>\n",
       "      <td>0.966137</td>\n",
       "      <td>7.852383</td>\n",
       "      <td>152.939409</td>\n",
       "      <td>-7.472182</td>\n",
       "      <td>-14.802085</td>\n",
       "      <td>4.005783</td>\n",
       "      <td>110.992147</td>\n",
       "    </tr>\n",
       "    <tr>\n",
       "      <th>7</th>\n",
       "      <td>gnA83</td>\n",
       "      <td>0.874183</td>\n",
       "      <td>0.658348</td>\n",
       "      <td>4.315275</td>\n",
       "      <td>78.952516</td>\n",
       "      <td>13.842436</td>\n",
       "      <td>-12.362831</td>\n",
       "      <td>4.003258</td>\n",
       "      <td>107.813044</td>\n",
       "    </tr>\n",
       "    <tr>\n",
       "      <th>8</th>\n",
       "      <td>Mp3uM</td>\n",
       "      <td>0.233182</td>\n",
       "      <td>0.999516</td>\n",
       "      <td>1.626957</td>\n",
       "      <td>109.425501</td>\n",
       "      <td>6.109864</td>\n",
       "      <td>-6.680806</td>\n",
       "      <td>4.995256</td>\n",
       "      <td>134.766305</td>\n",
       "    </tr>\n",
       "    <tr>\n",
       "      <th>9</th>\n",
       "      <td>pGQRI</td>\n",
       "      <td>0.042350</td>\n",
       "      <td>-0.052613</td>\n",
       "      <td>2.241901</td>\n",
       "      <td>168.331029</td>\n",
       "      <td>-5.171681</td>\n",
       "      <td>-0.546409</td>\n",
       "      <td>3.002864</td>\n",
       "      <td>84.038886</td>\n",
       "    </tr>\n",
       "  </tbody>\n",
       "</table>\n",
       "</div>"
      ],
      "text/plain": [
       "      id      f0_x      f1_x      f2_x   product_x       f0_y       f1_y  \\\n",
       "0  Q64YW  0.453692  0.851595  1.483317  137.265232   3.005548  -0.243063   \n",
       "1  CXJ2r  1.799663  0.152615  2.308270  124.783815   4.595329  -1.967882   \n",
       "2  Y2udP  1.226808 -0.482702  7.197720  178.864963  12.544203   5.897907   \n",
       "3  g3RRG  1.256835 -0.594468  2.258115   36.909351   5.884971  -3.853958   \n",
       "4  mpZhE  1.050752  0.001206  3.015799  102.323401  11.206881  -2.291883   \n",
       "5  L1Fdm -0.870625  0.216046  6.551127   99.473405  -3.346138   1.878476   \n",
       "6  it2OW -0.649660  0.966137  7.852383  152.939409  -7.472182 -14.802085   \n",
       "7  gnA83  0.874183  0.658348  4.315275   78.952516  13.842436 -12.362831   \n",
       "8  Mp3uM  0.233182  0.999516  1.626957  109.425501   6.109864  -6.680806   \n",
       "9  pGQRI  0.042350 -0.052613  2.241901  168.331029  -5.171681  -0.546409   \n",
       "\n",
       "       f2_y   product_y  \n",
       "0  5.000265  134.766305  \n",
       "1  4.000767  107.813044  \n",
       "2  1.007743   26.953261  \n",
       "3  5.000735  134.766305  \n",
       "4  1.003807   26.953261  \n",
       "5  0.004355    3.179103  \n",
       "6  4.005783  110.992147  \n",
       "7  4.003258  107.813044  \n",
       "8  4.995256  134.766305  \n",
       "9  3.002864   84.038886  "
      ]
     },
     "execution_count": 24,
     "metadata": {},
     "output_type": "execute_result"
    }
   ],
   "source": [
    "data_1.merge(data_2,on='id')"
   ]
  },
  {
   "cell_type": "code",
   "execution_count": 25,
   "id": "4ae40a65",
   "metadata": {
    "scrolled": false
   },
   "outputs": [
    {
     "data": {
      "text/html": [
       "<div>\n",
       "<style scoped>\n",
       "    .dataframe tbody tr th:only-of-type {\n",
       "        vertical-align: middle;\n",
       "    }\n",
       "\n",
       "    .dataframe tbody tr th {\n",
       "        vertical-align: top;\n",
       "    }\n",
       "\n",
       "    .dataframe thead th {\n",
       "        text-align: right;\n",
       "    }\n",
       "</style>\n",
       "<table border=\"1\" class=\"dataframe\">\n",
       "  <thead>\n",
       "    <tr style=\"text-align: right;\">\n",
       "      <th></th>\n",
       "      <th>id</th>\n",
       "      <th>f0_x</th>\n",
       "      <th>f1_x</th>\n",
       "      <th>f2_x</th>\n",
       "      <th>product_x</th>\n",
       "      <th>f0_y</th>\n",
       "      <th>f1_y</th>\n",
       "      <th>f2_y</th>\n",
       "      <th>product_y</th>\n",
       "    </tr>\n",
       "  </thead>\n",
       "  <tbody>\n",
       "    <tr>\n",
       "      <th>0</th>\n",
       "      <td>wqgPo</td>\n",
       "      <td>2.009877</td>\n",
       "      <td>-0.119927</td>\n",
       "      <td>5.254332</td>\n",
       "      <td>72.798085</td>\n",
       "      <td>0.052461</td>\n",
       "      <td>1.424025</td>\n",
       "      <td>0.085541</td>\n",
       "      <td>10.686576</td>\n",
       "    </tr>\n",
       "    <tr>\n",
       "      <th>1</th>\n",
       "      <td>kpKGs</td>\n",
       "      <td>1.984545</td>\n",
       "      <td>0.356201</td>\n",
       "      <td>-0.876743</td>\n",
       "      <td>53.006141</td>\n",
       "      <td>0.391595</td>\n",
       "      <td>0.520890</td>\n",
       "      <td>0.935081</td>\n",
       "      <td>91.558464</td>\n",
       "    </tr>\n",
       "    <tr>\n",
       "      <th>2</th>\n",
       "      <td>scFN4</td>\n",
       "      <td>1.209207</td>\n",
       "      <td>-0.491543</td>\n",
       "      <td>0.871066</td>\n",
       "      <td>82.239907</td>\n",
       "      <td>2.198203</td>\n",
       "      <td>0.733283</td>\n",
       "      <td>10.562272</td>\n",
       "      <td>153.719681</td>\n",
       "    </tr>\n",
       "    <tr>\n",
       "      <th>3</th>\n",
       "      <td>i2csb</td>\n",
       "      <td>1.876060</td>\n",
       "      <td>0.130102</td>\n",
       "      <td>3.916158</td>\n",
       "      <td>178.191619</td>\n",
       "      <td>0.395736</td>\n",
       "      <td>-1.039466</td>\n",
       "      <td>3.262824</td>\n",
       "      <td>136.079194</td>\n",
       "    </tr>\n",
       "    <tr>\n",
       "      <th>4</th>\n",
       "      <td>Suyut</td>\n",
       "      <td>1.034755</td>\n",
       "      <td>0.211378</td>\n",
       "      <td>5.166985</td>\n",
       "      <td>134.183249</td>\n",
       "      <td>0.730034</td>\n",
       "      <td>0.998910</td>\n",
       "      <td>0.673342</td>\n",
       "      <td>51.978338</td>\n",
       "    </tr>\n",
       "    <tr>\n",
       "      <th>5</th>\n",
       "      <td>uSye4</td>\n",
       "      <td>1.452571</td>\n",
       "      <td>-0.452693</td>\n",
       "      <td>-1.800189</td>\n",
       "      <td>79.717634</td>\n",
       "      <td>-0.066172</td>\n",
       "      <td>2.543996</td>\n",
       "      <td>-0.054049</td>\n",
       "      <td>141.345070</td>\n",
       "    </tr>\n",
       "    <tr>\n",
       "      <th>6</th>\n",
       "      <td>5ssQt</td>\n",
       "      <td>-1.005117</td>\n",
       "      <td>0.268726</td>\n",
       "      <td>-0.407822</td>\n",
       "      <td>53.206029</td>\n",
       "      <td>-0.651825</td>\n",
       "      <td>0.782415</td>\n",
       "      <td>2.690636</td>\n",
       "      <td>120.108761</td>\n",
       "    </tr>\n",
       "    <tr>\n",
       "      <th>7</th>\n",
       "      <td>tgOl6</td>\n",
       "      <td>1.242237</td>\n",
       "      <td>-0.545994</td>\n",
       "      <td>-1.070228</td>\n",
       "      <td>52.566338</td>\n",
       "      <td>-6.077439</td>\n",
       "      <td>-1.366449</td>\n",
       "      <td>1.858951</td>\n",
       "      <td>153.001240</td>\n",
       "    </tr>\n",
       "    <tr>\n",
       "      <th>8</th>\n",
       "      <td>2tyMi</td>\n",
       "      <td>0.576679</td>\n",
       "      <td>-0.411140</td>\n",
       "      <td>-3.725859</td>\n",
       "      <td>69.292672</td>\n",
       "      <td>-1.789602</td>\n",
       "      <td>-1.359044</td>\n",
       "      <td>-4.840745</td>\n",
       "      <td>145.901447</td>\n",
       "    </tr>\n",
       "    <tr>\n",
       "      <th>9</th>\n",
       "      <td>TXPOv</td>\n",
       "      <td>-0.614415</td>\n",
       "      <td>0.669327</td>\n",
       "      <td>4.392560</td>\n",
       "      <td>111.029432</td>\n",
       "      <td>-1.714714</td>\n",
       "      <td>0.545975</td>\n",
       "      <td>6.907380</td>\n",
       "      <td>109.685043</td>\n",
       "    </tr>\n",
       "    <tr>\n",
       "      <th>10</th>\n",
       "      <td>G6k8A</td>\n",
       "      <td>-0.332671</td>\n",
       "      <td>0.873613</td>\n",
       "      <td>0.056776</td>\n",
       "      <td>59.356289</td>\n",
       "      <td>3.021943</td>\n",
       "      <td>2.091350</td>\n",
       "      <td>2.325737</td>\n",
       "      <td>81.922702</td>\n",
       "    </tr>\n",
       "    <tr>\n",
       "      <th>11</th>\n",
       "      <td>rAJA6</td>\n",
       "      <td>0.763807</td>\n",
       "      <td>-0.256567</td>\n",
       "      <td>-2.539103</td>\n",
       "      <td>36.295666</td>\n",
       "      <td>1.426039</td>\n",
       "      <td>1.262731</td>\n",
       "      <td>1.915009</td>\n",
       "      <td>80.927100</td>\n",
       "    </tr>\n",
       "    <tr>\n",
       "      <th>12</th>\n",
       "      <td>PyNp5</td>\n",
       "      <td>0.800617</td>\n",
       "      <td>-0.423276</td>\n",
       "      <td>-0.262853</td>\n",
       "      <td>37.280078</td>\n",
       "      <td>-1.248973</td>\n",
       "      <td>-1.246669</td>\n",
       "      <td>-0.538638</td>\n",
       "      <td>122.021857</td>\n",
       "    </tr>\n",
       "    <tr>\n",
       "      <th>13</th>\n",
       "      <td>LhkAh</td>\n",
       "      <td>-0.016588</td>\n",
       "      <td>0.311455</td>\n",
       "      <td>5.752433</td>\n",
       "      <td>100.077127</td>\n",
       "      <td>-1.011388</td>\n",
       "      <td>-1.422994</td>\n",
       "      <td>0.167327</td>\n",
       "      <td>97.289509</td>\n",
       "    </tr>\n",
       "    <tr>\n",
       "      <th>14</th>\n",
       "      <td>eVdPR</td>\n",
       "      <td>0.948962</td>\n",
       "      <td>0.470545</td>\n",
       "      <td>4.841681</td>\n",
       "      <td>114.217840</td>\n",
       "      <td>-3.325910</td>\n",
       "      <td>0.212653</td>\n",
       "      <td>-2.172340</td>\n",
       "      <td>61.323206</td>\n",
       "    </tr>\n",
       "    <tr>\n",
       "      <th>15</th>\n",
       "      <td>H2jd8</td>\n",
       "      <td>-0.095755</td>\n",
       "      <td>0.549838</td>\n",
       "      <td>4.798969</td>\n",
       "      <td>121.587791</td>\n",
       "      <td>-0.882244</td>\n",
       "      <td>0.102113</td>\n",
       "      <td>5.132965</td>\n",
       "      <td>97.736331</td>\n",
       "    </tr>\n",
       "    <tr>\n",
       "      <th>16</th>\n",
       "      <td>lFHA5</td>\n",
       "      <td>0.825315</td>\n",
       "      <td>-0.415530</td>\n",
       "      <td>1.316067</td>\n",
       "      <td>145.287376</td>\n",
       "      <td>1.143130</td>\n",
       "      <td>1.528147</td>\n",
       "      <td>2.717799</td>\n",
       "      <td>84.144358</td>\n",
       "    </tr>\n",
       "  </tbody>\n",
       "</table>\n",
       "</div>"
      ],
      "text/plain": [
       "       id      f0_x      f1_x      f2_x   product_x      f0_y      f1_y  \\\n",
       "0   wqgPo  2.009877 -0.119927  5.254332   72.798085  0.052461  1.424025   \n",
       "1   kpKGs  1.984545  0.356201 -0.876743   53.006141  0.391595  0.520890   \n",
       "2   scFN4  1.209207 -0.491543  0.871066   82.239907  2.198203  0.733283   \n",
       "3   i2csb  1.876060  0.130102  3.916158  178.191619  0.395736 -1.039466   \n",
       "4   Suyut  1.034755  0.211378  5.166985  134.183249  0.730034  0.998910   \n",
       "5   uSye4  1.452571 -0.452693 -1.800189   79.717634 -0.066172  2.543996   \n",
       "6   5ssQt -1.005117  0.268726 -0.407822   53.206029 -0.651825  0.782415   \n",
       "7   tgOl6  1.242237 -0.545994 -1.070228   52.566338 -6.077439 -1.366449   \n",
       "8   2tyMi  0.576679 -0.411140 -3.725859   69.292672 -1.789602 -1.359044   \n",
       "9   TXPOv -0.614415  0.669327  4.392560  111.029432 -1.714714  0.545975   \n",
       "10  G6k8A -0.332671  0.873613  0.056776   59.356289  3.021943  2.091350   \n",
       "11  rAJA6  0.763807 -0.256567 -2.539103   36.295666  1.426039  1.262731   \n",
       "12  PyNp5  0.800617 -0.423276 -0.262853   37.280078 -1.248973 -1.246669   \n",
       "13  LhkAh -0.016588  0.311455  5.752433  100.077127 -1.011388 -1.422994   \n",
       "14  eVdPR  0.948962  0.470545  4.841681  114.217840 -3.325910  0.212653   \n",
       "15  H2jd8 -0.095755  0.549838  4.798969  121.587791 -0.882244  0.102113   \n",
       "16  lFHA5  0.825315 -0.415530  1.316067  145.287376  1.143130  1.528147   \n",
       "\n",
       "         f2_y   product_y  \n",
       "0    0.085541   10.686576  \n",
       "1    0.935081   91.558464  \n",
       "2   10.562272  153.719681  \n",
       "3    3.262824  136.079194  \n",
       "4    0.673342   51.978338  \n",
       "5   -0.054049  141.345070  \n",
       "6    2.690636  120.108761  \n",
       "7    1.858951  153.001240  \n",
       "8   -4.840745  145.901447  \n",
       "9    6.907380  109.685043  \n",
       "10   2.325737   81.922702  \n",
       "11   1.915009   80.927100  \n",
       "12  -0.538638  122.021857  \n",
       "13   0.167327   97.289509  \n",
       "14  -2.172340   61.323206  \n",
       "15   5.132965   97.736331  \n",
       "16   2.717799   84.144358  "
      ]
     },
     "execution_count": 25,
     "metadata": {},
     "output_type": "execute_result"
    }
   ],
   "source": [
    "data_1.merge(data_3,on='id')"
   ]
  },
  {
   "cell_type": "code",
   "execution_count": 26,
   "id": "9409cbc1",
   "metadata": {
    "scrolled": true
   },
   "outputs": [
    {
     "data": {
      "text/html": [
       "<div>\n",
       "<style scoped>\n",
       "    .dataframe tbody tr th:only-of-type {\n",
       "        vertical-align: middle;\n",
       "    }\n",
       "\n",
       "    .dataframe tbody tr th {\n",
       "        vertical-align: top;\n",
       "    }\n",
       "\n",
       "    .dataframe thead th {\n",
       "        text-align: right;\n",
       "    }\n",
       "</style>\n",
       "<table border=\"1\" class=\"dataframe\">\n",
       "  <thead>\n",
       "    <tr style=\"text-align: right;\">\n",
       "      <th></th>\n",
       "      <th>id</th>\n",
       "      <th>f0_x</th>\n",
       "      <th>f1_x</th>\n",
       "      <th>f2_x</th>\n",
       "      <th>product_x</th>\n",
       "      <th>f0_y</th>\n",
       "      <th>f1_y</th>\n",
       "      <th>f2_y</th>\n",
       "      <th>product_y</th>\n",
       "    </tr>\n",
       "  </thead>\n",
       "  <tbody>\n",
       "    <tr>\n",
       "      <th>0</th>\n",
       "      <td>TAqwC</td>\n",
       "      <td>-13.045712</td>\n",
       "      <td>-13.056006</td>\n",
       "      <td>0.007640</td>\n",
       "      <td>3.179103</td>\n",
       "      <td>-0.176382</td>\n",
       "      <td>-0.503558</td>\n",
       "      <td>1.877303</td>\n",
       "      <td>38.618695</td>\n",
       "    </tr>\n",
       "    <tr>\n",
       "      <th>1</th>\n",
       "      <td>uMqiK</td>\n",
       "      <td>2.734183</td>\n",
       "      <td>-3.102346</td>\n",
       "      <td>-0.002654</td>\n",
       "      <td>0.000000</td>\n",
       "      <td>-1.772509</td>\n",
       "      <td>0.152085</td>\n",
       "      <td>-0.422541</td>\n",
       "      <td>119.682928</td>\n",
       "    </tr>\n",
       "    <tr>\n",
       "      <th>2</th>\n",
       "      <td>D8TNs</td>\n",
       "      <td>-0.646266</td>\n",
       "      <td>3.667055</td>\n",
       "      <td>1.006161</td>\n",
       "      <td>30.132364</td>\n",
       "      <td>0.280382</td>\n",
       "      <td>0.061393</td>\n",
       "      <td>4.887870</td>\n",
       "      <td>114.943876</td>\n",
       "    </tr>\n",
       "    <tr>\n",
       "      <th>3</th>\n",
       "      <td>g2I86</td>\n",
       "      <td>17.818406</td>\n",
       "      <td>2.946716</td>\n",
       "      <td>0.991640</td>\n",
       "      <td>26.953261</td>\n",
       "      <td>-1.616730</td>\n",
       "      <td>1.110380</td>\n",
       "      <td>4.226968</td>\n",
       "      <td>107.940639</td>\n",
       "    </tr>\n",
       "  </tbody>\n",
       "</table>\n",
       "</div>"
      ],
      "text/plain": [
       "      id       f0_x       f1_x      f2_x  product_x      f0_y      f1_y  \\\n",
       "0  TAqwC -13.045712 -13.056006  0.007640   3.179103 -0.176382 -0.503558   \n",
       "1  uMqiK   2.734183  -3.102346 -0.002654   0.000000 -1.772509  0.152085   \n",
       "2  D8TNs  -0.646266   3.667055  1.006161  30.132364  0.280382  0.061393   \n",
       "3  g2I86  17.818406   2.946716  0.991640  26.953261 -1.616730  1.110380   \n",
       "\n",
       "       f2_y   product_y  \n",
       "0  1.877303   38.618695  \n",
       "1 -0.422541  119.682928  \n",
       "2  4.887870  114.943876  \n",
       "3  4.226968  107.940639  "
      ]
     },
     "execution_count": 26,
     "metadata": {},
     "output_type": "execute_result"
    }
   ],
   "source": [
    "data_2.merge(data_3,on='id')"
   ]
  },
  {
   "cell_type": "markdown",
   "id": "2efc8650",
   "metadata": {},
   "source": [
    "**Вывод**\n",
    "\n",
    "Некоторые идентификаторы скважин повторяются в нескольких регионах. Трогать эти данные не будем, возможно скважины находятся на границе регионов и занимают большую площадь, по условию задания не сказано расположение регионов"
   ]
  },
  {
   "cell_type": "markdown",
   "id": "c6c8cd74",
   "metadata": {},
   "source": [
    "## Обучение и проверка модели"
   ]
  },
  {
   "cell_type": "markdown",
   "id": "c0d97de2",
   "metadata": {},
   "source": [
    "### Разобьем признаки для обучения"
   ]
  },
  {
   "cell_type": "code",
   "execution_count": 27,
   "id": "e9a70090",
   "metadata": {},
   "outputs": [],
   "source": [
    "columns = ['product', 'id']\n",
    "features_1, features_2, features_3 = data_1.drop(columns=columns), data_2.drop(columns=columns), data_3.drop(columns=columns)\n",
    "target_1, target_2, target_3 = data_1['product'], data_2['product'], data_3['product']"
   ]
  },
  {
   "cell_type": "code",
   "execution_count": 28,
   "id": "4140d475",
   "metadata": {},
   "outputs": [],
   "source": [
    "features_train_1, features_valid_1, target_train_1, target_valid_1 = train_test_split(\n",
    "    features_1, target_1, test_size=0.25, random_state=12345)\n",
    "\n",
    "features_train_2, features_valid_2, target_train_2, target_valid_2 = train_test_split(\n",
    "    features_2, target_2, test_size=0.25, random_state=12345)\n",
    "\n",
    "features_train_3, features_valid_3, target_train_3, target_valid_3 = train_test_split(\n",
    "    features_3, target_3, test_size=0.25, random_state=12345)"
   ]
  },
  {
   "cell_type": "markdown",
   "id": "3b5f10b0",
   "metadata": {},
   "source": [
    "### Обучение модели"
   ]
  },
  {
   "cell_type": "markdown",
   "id": "ec6d3f4b",
   "metadata": {},
   "source": [
    "#### Первый регион"
   ]
  },
  {
   "cell_type": "code",
   "execution_count": 29,
   "id": "71973fdf",
   "metadata": {},
   "outputs": [
    {
     "name": "stdout",
     "output_type": "stream",
     "text": [
      "Cредний запас предсказанного сырья 92.78915638280621\n",
      "RMSE модели линейной регрессии на валидационной выборке для 1 скважины: 37.853527328872964\n"
     ]
    }
   ],
   "source": [
    "model_1 = LinearRegression() \n",
    "model_1.fit(features_train_1, target_train_1) \n",
    "predictions_valid_1 = model_1.predict(features_valid_1)\n",
    "mean_1 = predictions_valid_1.mean()\n",
    "rmse_1 = mean_squared_error(target_valid_1, predictions_valid_1)**0.5\n",
    "\n",
    "print('Cредний запас предсказанного сырья', mean_1)\n",
    "print(\"RMSE модели линейной регрессии на валидационной выборке для 1 скважины:\", rmse_1)"
   ]
  },
  {
   "cell_type": "markdown",
   "id": "8ec4f42e",
   "metadata": {},
   "source": [
    "#### Второй регион"
   ]
  },
  {
   "cell_type": "code",
   "execution_count": 30,
   "id": "24fccff5",
   "metadata": {},
   "outputs": [
    {
     "name": "stdout",
     "output_type": "stream",
     "text": [
      "Cредний запас предсказанного сырья 69.17831957030432\n",
      "RMSE модели линейной регрессии на валидационной выборке для 2 скважины: 0.8920592647717025\n"
     ]
    }
   ],
   "source": [
    "model_2 = LinearRegression() \n",
    "model_2.fit(features_train_2, target_train_2) \n",
    "predictions_valid_2 = model_2.predict(features_valid_2)\n",
    "mean_2 = predictions_valid_2.mean()\n",
    "rmse_2 = mean_squared_error(target_valid_2, predictions_valid_2)**0.5\n",
    "\n",
    "print('Cредний запас предсказанного сырья', mean_2)\n",
    "print(\"RMSE модели линейной регрессии на валидационной выборке для 2 скважины:\", rmse_2)"
   ]
  },
  {
   "cell_type": "markdown",
   "id": "dc132802",
   "metadata": {},
   "source": [
    "#### Третий регион"
   ]
  },
  {
   "cell_type": "code",
   "execution_count": 31,
   "id": "fa8db6c1",
   "metadata": {},
   "outputs": [
    {
     "name": "stdout",
     "output_type": "stream",
     "text": [
      "Cредний запас предсказанного сырья 94.86572480562035\n",
      "RMSE модели линейной регрессии на валидационной выборке для 3 скважины: 40.07585073246016\n"
     ]
    }
   ],
   "source": [
    "model_3 = LinearRegression() \n",
    "model_3.fit(features_train_3, target_train_3) \n",
    "predictions_valid_3 = model_3.predict(features_valid_3)\n",
    "mean_3 = predictions_valid_3.mean()\n",
    "rmse_3 = mean_squared_error(target_valid_3, predictions_valid_3)**0.5\n",
    "\n",
    "print('Cредний запас предсказанного сырья', mean_3)\n",
    "print(\"RMSE модели линейной регрессии на валидационной выборке для 3 скважины:\", rmse_3)"
   ]
  },
  {
   "cell_type": "markdown",
   "id": "ded0ab60",
   "metadata": {},
   "source": [
    "#### Вывод"
   ]
  },
  {
   "cell_type": "code",
   "execution_count": 32,
   "id": "9895bb3f",
   "metadata": {},
   "outputs": [
    {
     "data": {
      "text/html": [
       "<div>\n",
       "<style scoped>\n",
       "    .dataframe tbody tr th:only-of-type {\n",
       "        vertical-align: middle;\n",
       "    }\n",
       "\n",
       "    .dataframe tbody tr th {\n",
       "        vertical-align: top;\n",
       "    }\n",
       "\n",
       "    .dataframe thead th {\n",
       "        text-align: right;\n",
       "    }\n",
       "</style>\n",
       "<table border=\"1\" class=\"dataframe\">\n",
       "  <thead>\n",
       "    <tr style=\"text-align: right;\">\n",
       "      <th></th>\n",
       "      <th>Первый регион</th>\n",
       "      <th>Второй регион</th>\n",
       "      <th>Третий регион</th>\n",
       "    </tr>\n",
       "  </thead>\n",
       "  <tbody>\n",
       "    <tr>\n",
       "      <th>MEAN</th>\n",
       "      <td>92.789156</td>\n",
       "      <td>69.178320</td>\n",
       "      <td>94.865725</td>\n",
       "    </tr>\n",
       "    <tr>\n",
       "      <th>RMSE</th>\n",
       "      <td>37.853527</td>\n",
       "      <td>0.892059</td>\n",
       "      <td>40.075851</td>\n",
       "    </tr>\n",
       "  </tbody>\n",
       "</table>\n",
       "</div>"
      ],
      "text/plain": [
       "      Первый регион  Второй регион  Третий регион\n",
       "MEAN      92.789156      69.178320      94.865725\n",
       "RMSE      37.853527       0.892059      40.075851"
      ]
     },
     "execution_count": 32,
     "metadata": {},
     "output_type": "execute_result"
    }
   ],
   "source": [
    "index = ['MEAN', 'RMSE']\n",
    "df = pd.DataFrame(index = index, \n",
    "                  data = [(mean_1, mean_2, mean_3), \n",
    "                          (rmse_1, rmse_2, rmse_3)],\n",
    "                  columns = ['Первый регион', 'Второй регион', 'Третий регион'])\n",
    "df"
   ]
  },
  {
   "cell_type": "markdown",
   "id": "5b82a1ad",
   "metadata": {},
   "source": [
    "Для второго региона RMSE=0.89, является наилучшим, но при этом у региона наименьший средний запас предсказанного сырья 69.2.\n",
    "\n",
    "Для первого региона RMSE=37.8, при среднем запасе предсказанного сырья равным 92.8.\n",
    "\n",
    "В третьем регионе RMSE=40, при среднем запасе предсказанного сырья равным 94.9."
   ]
  },
  {
   "cell_type": "code",
   "execution_count": 33,
   "id": "8b0bf0b5",
   "metadata": {},
   "outputs": [
    {
     "data": {
      "text/plain": [
       "(8235, 5)"
      ]
     },
     "execution_count": 33,
     "metadata": {},
     "output_type": "execute_result"
    }
   ],
   "source": [
    "data_2.query('product == 0').shape"
   ]
  },
  {
   "cell_type": "markdown",
   "id": "bd13dc88",
   "metadata": {},
   "source": [
    "Как видно во втором регионе очень много нулевых значение, более 8000. Поэтому средний запас предсказанного сырья оказался наименьший"
   ]
  },
  {
   "cell_type": "markdown",
   "id": "e598993d",
   "metadata": {},
   "source": [
    "## Подготовка к расчёту прибыли"
   ]
  },
  {
   "cell_type": "markdown",
   "id": "e52fc95d",
   "metadata": {},
   "source": [
    "Для дальнейших расчетов понадобятся следующие переменные:"
   ]
  },
  {
   "cell_type": "code",
   "execution_count": 34,
   "id": "545f2eaa",
   "metadata": {},
   "outputs": [],
   "source": [
    "budget = 10000000000 # бюджет на регион 10 млрд рублей.\n",
    "barrel_price = 450 # цена барреля\n",
    "barrel_income = 450000 # Доход с каждой единицы продукта \n",
    "wells_best = 200 # лучших для разработки скважин\n",
    "wells_exploration = 500 # Количество исследуемых объектов при разведке\n",
    "samp = 1000 # количество выборок"
   ]
  },
  {
   "cell_type": "markdown",
   "id": "145b7146",
   "metadata": {},
   "source": [
    "Рассчитаем достаточный объём сырья для безубыточной разработки новой скважины"
   ]
  },
  {
   "cell_type": "code",
   "execution_count": 35,
   "id": "c838ea4c",
   "metadata": {},
   "outputs": [
    {
     "data": {
      "text/plain": [
       "111.11111111111111"
      ]
     },
     "execution_count": 35,
     "metadata": {},
     "output_type": "execute_result"
    }
   ],
   "source": [
    "mean_volume = budget / (barrel_income * wells_best )\n",
    "mean_volume"
   ]
  },
  {
   "cell_type": "markdown",
   "id": "a0d5341a",
   "metadata": {},
   "source": [
    "Из расчетов на одну скважину объём запасов в скважине должно быть 111.11 тыс. баррелей. Т.к. во все трех регионов, в среднем объемы запасов меньше, так для первой, второй и третьей они составляют 92.8, 69.2 и 94.9 соответственно."
   ]
  },
  {
   "cell_type": "markdown",
   "id": "c918f74a",
   "metadata": {},
   "source": [
    "**Вывод**\n",
    "\n",
    "Мы рассчитали средний объем запасов сырья в скважине, необходимый для окупаемости вложенных средств в регион, который составил 111.11 тыс баррелей. \n",
    "\n",
    "Для 1 и 3 региона средние показатели запасов сырья немного меньше, но т.к. анализ производился из 100000 скважин, то при выборе необходимых 500 объектов для разведки, шансы на поиск подходящих скважин хорошие. \n",
    "\n",
    "Для 2 региона средний показатель равен 69.2, что почти в 2 раза меньше необходимого объема."
   ]
  },
  {
   "cell_type": "markdown",
   "id": "7e1add40",
   "metadata": {},
   "source": [
    "## Расчёт прибыли и рисков "
   ]
  },
  {
   "cell_type": "markdown",
   "id": "4776bba5",
   "metadata": {},
   "source": [
    "Напишем функцию для расчёта прибыли по выбранным скважинам и предсказаниям модели."
   ]
  },
  {
   "cell_type": "code",
   "execution_count": 36,
   "id": "188de249",
   "metadata": {
    "scrolled": false
   },
   "outputs": [],
   "source": [
    "def revenue(target, probabilities, count):\n",
    "    probs_sorted = probabilities.sort_values(ascending=False)\n",
    "    selected = target[probs_sorted.index][:count]\n",
    "    return barrel_income * selected.sum() - budget\n",
    "\n",
    "\n",
    "def bootstrap(target_valid, predictions_valid):\n",
    "    state = np.random.RandomState(12345)\n",
    "    values = []\n",
    "    \n",
    "    data = {'target_valid' : target_valid, 'predictions_valid' : predictions_valid}\n",
    "    target_predict_valid = pd.DataFrame(data, columns = ['target_valid', 'predictions_valid'])\n",
    "\n",
    "    for i in range(samp):\n",
    "        target_subsample = target_predict_valid['target_valid'].sample(n=wells_exploration, replace=True, random_state=state)\n",
    "        probs_subsample = target_predict_valid['predictions_valid'][target_subsample.index] \n",
    "        values.append(revenue(target_subsample, probs_subsample, wells_best))\n",
    "\n",
    "    values = pd.Series(values)\n",
    "    lower = values.quantile(0.025) \n",
    "    upper = values.quantile(0.975)\n",
    "    mean = values.mean()\n",
    "\n",
    "    print('Средняя выручка в регионе {:.2f} млн.рублей'.format(mean / 10**6))\n",
    "    print('95%-й доверительный интервал  в регионе {:.2f} – {:.2f} млн.рублей'.format(lower / 10**6, upper / 10**6))\n",
    "    print('Вероятность убытков {:.2%}'.format((values < 0).sum() / samp))"
   ]
  },
  {
   "cell_type": "markdown",
   "id": "c120526b",
   "metadata": {},
   "source": [
    "### Первый регион"
   ]
  },
  {
   "cell_type": "markdown",
   "id": "0d973e68",
   "metadata": {},
   "source": [
    "Посчитаем риски и прибыль для первого региона"
   ]
  },
  {
   "cell_type": "code",
   "execution_count": 37,
   "id": "02ccbf13",
   "metadata": {
    "scrolled": true
   },
   "outputs": [
    {
     "name": "stdout",
     "output_type": "stream",
     "text": [
      "Средняя выручка в регионе 409.43 млн.рублей\n",
      "95%-й доверительный интервал  в регионе -131.54 – 944.40 млн.рублей\n",
      "Вероятность убытков 7.10%\n"
     ]
    }
   ],
   "source": [
    "bootstrap(target_valid_1, predictions_valid_1)"
   ]
  },
  {
   "cell_type": "markdown",
   "id": "071231d0",
   "metadata": {},
   "source": [
    "### Второй регион"
   ]
  },
  {
   "cell_type": "markdown",
   "id": "da4c3d3a",
   "metadata": {},
   "source": [
    "Посчитаем риски и прибыль для второго региона"
   ]
  },
  {
   "cell_type": "code",
   "execution_count": 38,
   "id": "4033e0a2",
   "metadata": {},
   "outputs": [
    {
     "name": "stdout",
     "output_type": "stream",
     "text": [
      "Средняя выручка в регионе 536.90 млн.рублей\n",
      "95%-й доверительный интервал  в регионе 114.53 – 970.79 млн.рублей\n",
      "Вероятность убытков 0.90%\n"
     ]
    }
   ],
   "source": [
    "bootstrap(target_valid_2, predictions_valid_2)"
   ]
  },
  {
   "cell_type": "markdown",
   "id": "d79722b3",
   "metadata": {},
   "source": [
    "### Третий регион"
   ]
  },
  {
   "cell_type": "markdown",
   "id": "40df235d",
   "metadata": {},
   "source": [
    "Посчитаем риски и прибыль для третьего региона"
   ]
  },
  {
   "cell_type": "code",
   "execution_count": 39,
   "id": "313ec593",
   "metadata": {},
   "outputs": [
    {
     "name": "stdout",
     "output_type": "stream",
     "text": [
      "Средняя выручка в регионе 353.79 млн.рублей\n",
      "95%-й доверительный интервал  в регионе -159.19 – 875.65 млн.рублей\n",
      "Вероятность убытков 10.20%\n"
     ]
    }
   ],
   "source": [
    "bootstrap(target_valid_3, predictions_valid_3)"
   ]
  },
  {
   "cell_type": "markdown",
   "id": "6e0f3f1f",
   "metadata": {},
   "source": [
    "### Вывод"
   ]
  },
  {
   "cell_type": "markdown",
   "id": "614a94cd",
   "metadata": {},
   "source": [
    "Были проанализированы несколько регионов для будующей скважины. У второго региона наибольшая средняя выручка равная 536.9 млн рублей. Также во втором регионе вероятность убытков меньше 2.5% и составляет 0.9%. Поэтому для разработок месторождений подходит только второй регион"
   ]
  }
 ],
 "metadata": {
  "kernelspec": {
   "display_name": "Python 3 (ipykernel)",
   "language": "python",
   "name": "python3"
  },
  "language_info": {
   "codemirror_mode": {
    "name": "ipython",
    "version": 3
   },
   "file_extension": ".py",
   "mimetype": "text/x-python",
   "name": "python",
   "nbconvert_exporter": "python",
   "pygments_lexer": "ipython3",
   "version": "3.9.12"
  },
  "toc": {
   "base_numbering": 1,
   "nav_menu": {},
   "number_sections": true,
   "sideBar": true,
   "skip_h1_title": true,
   "title_cell": "Содержание",
   "title_sidebar": "Contents",
   "toc_cell": true,
   "toc_position": {
    "height": "calc(100% - 180px)",
    "left": "10px",
    "top": "150px",
    "width": "320px"
   },
   "toc_section_display": true,
   "toc_window_display": true
  }
 },
 "nbformat": 4,
 "nbformat_minor": 5
}
