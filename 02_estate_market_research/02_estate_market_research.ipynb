{
 "cells": [
  {
   "cell_type": "markdown",
   "id": "c2765902",
   "metadata": {
    "toc": true
   },
   "source": [
    "<h1>Содержание<span class=\"tocSkip\"></span></h1>\n",
    "<div class=\"toc\"><ul class=\"toc-item\"><li><span><a href=\"#Изучение-данных-из-файла\" data-toc-modified-id=\"Изучение-данных-из-файла-1\"><span class=\"toc-item-num\">1&nbsp;&nbsp;</span>Изучение данных из файла</a></span></li><li><span><a href=\"#Предобработка-данных\" data-toc-modified-id=\"Предобработка-данных-2\"><span class=\"toc-item-num\">2&nbsp;&nbsp;</span>Предобработка данных</a></span><ul class=\"toc-item\"><li><span><a href=\"#Обработка-пропусков\" data-toc-modified-id=\"Обработка-пропусков-2.1\"><span class=\"toc-item-num\">2.1&nbsp;&nbsp;</span>Обработка пропусков</a></span><ul class=\"toc-item\"><li><span><a href=\"#Пропуски-locality_name\" data-toc-modified-id=\"Пропуски-locality_name-2.1.1\"><span class=\"toc-item-num\">2.1.1&nbsp;&nbsp;</span>Пропуски locality_name</a></span></li><li><span><a href=\"#Пропуски-balcony-и-is_apartment\" data-toc-modified-id=\"Пропуски-balcony-и-is_apartment-2.1.2\"><span class=\"toc-item-num\">2.1.2&nbsp;&nbsp;</span>Пропуски balcony и is_apartment</a></span></li><li><span><a href=\"#Пропуски-cityCenters_nearest\" data-toc-modified-id=\"Пропуски-cityCenters_nearest-2.1.3\"><span class=\"toc-item-num\">2.1.3&nbsp;&nbsp;</span>Пропуски cityCenters_nearest</a></span></li><li><span><a href=\"#Пропуски-ceiling_height-и-floors_total\" data-toc-modified-id=\"Пропуски-ceiling_height-и-floors_total-2.1.4\"><span class=\"toc-item-num\">2.1.4&nbsp;&nbsp;</span>Пропуски ceiling_height и floors_total</a></span></li><li><span><a href=\"#Вывод\" data-toc-modified-id=\"Вывод-2.1.5\"><span class=\"toc-item-num\">2.1.5&nbsp;&nbsp;</span>Вывод</a></span></li></ul></li><li><span><a href=\"#Замена-типа-данных\" data-toc-modified-id=\"Замена-типа-данных-2.2\"><span class=\"toc-item-num\">2.2&nbsp;&nbsp;</span>Замена типа данных</a></span></li></ul></li><li><span><a href=\"#Расчёты-и-добавление-результатов-в-таблицу\" data-toc-modified-id=\"Расчёты-и-добавление-результатов-в-таблицу-3\"><span class=\"toc-item-num\">3&nbsp;&nbsp;</span>Расчёты и добавление результатов в таблицу</a></span><ul class=\"toc-item\"><li><span><a href=\"#Цена-квадратного-метра\" data-toc-modified-id=\"Цена-квадратного-метра-3.1\"><span class=\"toc-item-num\">3.1&nbsp;&nbsp;</span>Цена квадратного метра</a></span></li><li><span><a href=\"#День-недели,-месяц-и-год-публикации-объявления\" data-toc-modified-id=\"День-недели,-месяц-и-год-публикации-объявления-3.2\"><span class=\"toc-item-num\">3.2&nbsp;&nbsp;</span>День недели, месяц и год публикации объявления</a></span></li><li><span><a href=\"#Этаж-квартиры\" data-toc-modified-id=\"Этаж-квартиры-3.3\"><span class=\"toc-item-num\">3.3&nbsp;&nbsp;</span>Этаж квартиры</a></span></li><li><span><a href=\"#Соотношение-площадей-в-недвижимости\" data-toc-modified-id=\"Соотношение-площадей-в-недвижимости-3.4\"><span class=\"toc-item-num\">3.4&nbsp;&nbsp;</span>Соотношение площадей в недвижимости</a></span></li><li><span><a href=\"#Вывод\" data-toc-modified-id=\"Вывод-3.5\"><span class=\"toc-item-num\">3.5&nbsp;&nbsp;</span>Вывод</a></span></li></ul></li><li><span><a href=\"#Исследовательский-анализ-данных\" data-toc-modified-id=\"Исследовательский-анализ-данных-4\"><span class=\"toc-item-num\">4&nbsp;&nbsp;</span>Исследовательский анализ данных</a></span><ul class=\"toc-item\"><li><span><a href=\"#Анализ-и-графики-для-данных-по-площади,-цене,-числу-комнат-и-высоте-потолков\" data-toc-modified-id=\"Анализ-и-графики-для-данных-по-площади,-цене,-числу-комнат-и-высоте-потолков-4.1\"><span class=\"toc-item-num\">4.1&nbsp;&nbsp;</span>Анализ и графики для данных по площади, цене, числу комнат и высоте потолков</a></span><ul class=\"toc-item\"><li><span><a href=\"#Площадь-недвижимости\" data-toc-modified-id=\"Площадь-недвижимости-4.1.1\"><span class=\"toc-item-num\">4.1.1&nbsp;&nbsp;</span>Площадь недвижимости</a></span></li><li><span><a href=\"#Цена\" data-toc-modified-id=\"Цена-4.1.2\"><span class=\"toc-item-num\">4.1.2&nbsp;&nbsp;</span>Цена</a></span></li><li><span><a href=\"#Число-комнат\" data-toc-modified-id=\"Число-комнат-4.1.3\"><span class=\"toc-item-num\">4.1.3&nbsp;&nbsp;</span>Число комнат</a></span></li><li><span><a href=\"#Высота-потолков\" data-toc-modified-id=\"Высота-потолков-4.1.4\"><span class=\"toc-item-num\">4.1.4&nbsp;&nbsp;</span>Высота потолков</a></span></li></ul></li><li><span><a href=\"#Время-продажи-квартиры\" data-toc-modified-id=\"Время-продажи-квартиры-4.2\"><span class=\"toc-item-num\">4.2&nbsp;&nbsp;</span>Время продажи квартиры</a></span></li><li><span><a href=\"#Редкие-и-выбивающиеся-значения\" data-toc-modified-id=\"Редкие-и-выбивающиеся-значения-4.3\"><span class=\"toc-item-num\">4.3&nbsp;&nbsp;</span>Редкие и выбивающиеся значения</a></span></li><li><span><a href=\"#Зависимость-стоимости-от-факторов\" data-toc-modified-id=\"Зависимость-стоимости-от-факторов-4.4\"><span class=\"toc-item-num\">4.4&nbsp;&nbsp;</span>Зависимость стоимости от факторов</a></span><ul class=\"toc-item\"><li><span><a href=\"#Зависимость-цены-от-площади\" data-toc-modified-id=\"Зависимость-цены-от-площади-4.4.1\"><span class=\"toc-item-num\">4.4.1&nbsp;&nbsp;</span>Зависимость цены от площади</a></span></li><li><span><a href=\"#Зависимость-цены-от-числа-комнат\" data-toc-modified-id=\"Зависимость-цены-от-числа-комнат-4.4.2\"><span class=\"toc-item-num\">4.4.2&nbsp;&nbsp;</span>Зависимость цены от числа комнат</a></span></li><li><span><a href=\"#Зависимость-цены-от-удалённости-от-центра\" data-toc-modified-id=\"Зависимость-цены-от-удалённости-от-центра-4.4.3\"><span class=\"toc-item-num\">4.4.3&nbsp;&nbsp;</span>Зависимость цены от удалённости от центра</a></span></li><li><span><a href=\"#Зависимость-цены-от-того-этажа--квартиры\" data-toc-modified-id=\"Зависимость-цены-от-того-этажа--квартиры-4.4.4\"><span class=\"toc-item-num\">4.4.4&nbsp;&nbsp;</span>Зависимость цены от того этажа  квартиры</a></span></li><li><span><a href=\"#Зависимость-цены-от-даты-размещения:-дня-недели,-месяца-и-года\" data-toc-modified-id=\"Зависимость-цены-от-даты-размещения:-дня-недели,-месяца-и-года-4.4.5\"><span class=\"toc-item-num\">4.4.5&nbsp;&nbsp;</span>Зависимость цены от даты размещения: дня недели, месяца и года</a></span></li></ul></li><li><span><a href=\"#Населенные-пункты-с-наибольшим-числом-объявлений\" data-toc-modified-id=\"Населенные-пункты-с-наибольшим-числом-объявлений-4.5\"><span class=\"toc-item-num\">4.5&nbsp;&nbsp;</span>Населенные пункты с наибольшим числом объявлений</a></span></li><li><span><a href=\"#Анализ-объявлений-в-Санкт-Петербурге\" data-toc-modified-id=\"Анализ-объявлений-в-Санкт-Петербурге-4.6\"><span class=\"toc-item-num\">4.6&nbsp;&nbsp;</span>Анализ объявлений в Санкт-Петербурге</a></span><ul class=\"toc-item\"><li><span><a href=\"#Площадь-недвижимости-в-центре-Санкт-Петербурга\" data-toc-modified-id=\"Площадь-недвижимости-в-центре-Санкт-Петербурга-4.6.1\"><span class=\"toc-item-num\">4.6.1&nbsp;&nbsp;</span>Площадь недвижимости в центре Санкт-Петербурга</a></span></li><li><span><a href=\"#Цены-в-центре-Санкт-Петербурга\" data-toc-modified-id=\"Цены-в-центре-Санкт-Петербурга-4.6.2\"><span class=\"toc-item-num\">4.6.2&nbsp;&nbsp;</span>Цены в центре Санкт-Петербурга</a></span></li><li><span><a href=\"#Число-комнат-в-центре-Санкт-Петербурга\" data-toc-modified-id=\"Число-комнат-в-центре-Санкт-Петербурга-4.6.3\"><span class=\"toc-item-num\">4.6.3&nbsp;&nbsp;</span>Число комнат в центре Санкт-Петербурга</a></span></li><li><span><a href=\"#Высота-потолков-в-центре-Санкт-Петербурга\" data-toc-modified-id=\"Высота-потолков-в-центре-Санкт-Петербурга-4.6.4\"><span class=\"toc-item-num\">4.6.4&nbsp;&nbsp;</span>Высота потолков в центре Санкт-Петербурга</a></span></li><li><span><a href=\"#Зависимость-цены-от-числа-комнат-в-Санкт-Петербурге\" data-toc-modified-id=\"Зависимость-цены-от-числа-комнат-в-Санкт-Петербурге-4.6.5\"><span class=\"toc-item-num\">4.6.5&nbsp;&nbsp;</span>Зависимость цены от числа комнат в Санкт-Петербурге</a></span></li><li><span><a href=\"#Зависимость-цены-от-удалённости-от-центра-в-Санкт-Петербурге\" data-toc-modified-id=\"Зависимость-цены-от-удалённости-от-центра-в-Санкт-Петербурге-4.6.6\"><span class=\"toc-item-num\">4.6.6&nbsp;&nbsp;</span>Зависимость цены от удалённости от центра в Санкт-Петербурге</a></span></li><li><span><a href=\"#Зависимость-цены-от-этажа--квартиры-в-Санкт-Петербурге\" data-toc-modified-id=\"Зависимость-цены-от-этажа--квартиры-в-Санкт-Петербурге-4.6.7\"><span class=\"toc-item-num\">4.6.7&nbsp;&nbsp;</span>Зависимость цены от этажа  квартиры в Санкт-Петербурге</a></span></li><li><span><a href=\"#Зависимость-цены-от-даты-размещения:-дня-недели,-месяца-и-года-в-Санкт-Петербурге\" data-toc-modified-id=\"Зависимость-цены-от-даты-размещения:-дня-недели,-месяца-и-года-в-Санкт-Петербурге-4.6.8\"><span class=\"toc-item-num\">4.6.8&nbsp;&nbsp;</span>Зависимость цены от даты размещения: дня недели, месяца и года в Санкт-Петербурге</a></span></li></ul></li></ul></li><li><span><a href=\"#Общий-вывод\" data-toc-modified-id=\"Общий-вывод-5\"><span class=\"toc-item-num\">5&nbsp;&nbsp;</span>Общий вывод</a></span></li></ul></div>"
   ]
  },
  {
   "cell_type": "markdown",
   "id": "e8b7cc5d",
   "metadata": {},
   "source": [
    "# Исследование объявлений о продаже квартир\n",
    "\n",
    "В вашем распоряжении данные сервиса Яндекс.Недвижимость — архив объявлений о продаже квартир в Санкт-Петербурге и соседних населённых пунктах за несколько лет. Нужно научиться определять рыночную стоимость объектов недвижимости. Ваша задача — установить параметры. Это позволит построить автоматизированную систему: она отследит аномалии и мошенническую деятельность. \n",
    "\n",
    "По каждой квартире на продажу доступны два вида данных. Первые вписаны пользователем, вторые получены автоматически на основе картографических данных. Например, расстояние до центра, аэропорта, ближайшего парка и водоёма. "
   ]
  },
  {
   "cell_type": "markdown",
   "id": "506346ae",
   "metadata": {},
   "source": [
    "# Описание данных\n",
    "\n",
    "* `airports_nearest` — расстояние до ближайшего аэропорта в метрах (м)\n",
    "* `balcony` — число балконов\n",
    "* `ceiling_height` — высота потолков (м)\n",
    "* `cityCenters_nearest` — расстояние до центра города (м)\n",
    "* `days_exposition` — сколько дней было размещено объявление (от публикации до снятия)\n",
    "* `first_day_exposition` — дата публикации\n",
    "* `floor` — этаж\n",
    "* `floors_total` — всего этажей в доме\n",
    "* `is_apartment` — апартаменты (булев тип)\n",
    "* `kitchen_area` — площадь кухни в квадратных метрах (м²)\n",
    "* `last_price` — цена на момент снятия с публикации\n",
    "* `living_area` — жилая площадь в квадратных метрах (м²)\n",
    "* `locality_name` — название населённого пункта\n",
    "* `open_plan` — свободная планировка (булев тип)\n",
    "* `parks_around3000` — число парков в радиусе 3 км\n",
    "* `parks_nearest` — расстояние до ближайшего парка (м)\n",
    "* `ponds_around3000` — число водоёмов в радиусе 3 км\n",
    "* `ponds_nearest` — расстояние до ближайшего водоёма (м)\n",
    "* `rooms` — число комнат\n",
    "* `studio` — квартира-студия (булев тип)\n",
    "* `total_area` — площадь квартиры в квадратных метрах (м²)\n",
    "* `total_images` — число фотографий квартиры в объявлении"
   ]
  },
  {
   "cell_type": "markdown",
   "id": "d7510405",
   "metadata": {},
   "source": [
    "## Изучение данных из файла"
   ]
  },
  {
   "cell_type": "code",
   "execution_count": 1,
   "id": "4c794caf",
   "metadata": {},
   "outputs": [],
   "source": [
    "import matplotlib.pyplot as plt\n",
    "import pandas as pd\n",
    "\n",
    "from pymystem3 import Mystem"
   ]
  },
  {
   "cell_type": "markdown",
   "id": "6c70efac",
   "metadata": {},
   "source": [
    "Загрузим данные"
   ]
  },
  {
   "cell_type": "code",
   "execution_count": 2,
   "id": "7921287c",
   "metadata": {
    "scrolled": false
   },
   "outputs": [
    {
     "data": {
      "text/html": [
       "<div>\n",
       "<style scoped>\n",
       "    .dataframe tbody tr th:only-of-type {\n",
       "        vertical-align: middle;\n",
       "    }\n",
       "\n",
       "    .dataframe tbody tr th {\n",
       "        vertical-align: top;\n",
       "    }\n",
       "\n",
       "    .dataframe thead th {\n",
       "        text-align: right;\n",
       "    }\n",
       "</style>\n",
       "<table border=\"1\" class=\"dataframe\">\n",
       "  <thead>\n",
       "    <tr style=\"text-align: right;\">\n",
       "      <th></th>\n",
       "      <th>total_images</th>\n",
       "      <th>last_price</th>\n",
       "      <th>total_area</th>\n",
       "      <th>first_day_exposition</th>\n",
       "      <th>rooms</th>\n",
       "      <th>ceiling_height</th>\n",
       "      <th>floors_total</th>\n",
       "      <th>living_area</th>\n",
       "      <th>floor</th>\n",
       "      <th>is_apartment</th>\n",
       "      <th>...</th>\n",
       "      <th>kitchen_area</th>\n",
       "      <th>balcony</th>\n",
       "      <th>locality_name</th>\n",
       "      <th>airports_nearest</th>\n",
       "      <th>cityCenters_nearest</th>\n",
       "      <th>parks_around3000</th>\n",
       "      <th>parks_nearest</th>\n",
       "      <th>ponds_around3000</th>\n",
       "      <th>ponds_nearest</th>\n",
       "      <th>days_exposition</th>\n",
       "    </tr>\n",
       "  </thead>\n",
       "  <tbody>\n",
       "    <tr>\n",
       "      <th>0</th>\n",
       "      <td>20</td>\n",
       "      <td>13000000.0</td>\n",
       "      <td>108.00</td>\n",
       "      <td>2019-03-07T00:00:00</td>\n",
       "      <td>3</td>\n",
       "      <td>2.70</td>\n",
       "      <td>16.0</td>\n",
       "      <td>51.00</td>\n",
       "      <td>8</td>\n",
       "      <td>NaN</td>\n",
       "      <td>...</td>\n",
       "      <td>25.00</td>\n",
       "      <td>NaN</td>\n",
       "      <td>Санкт-Петербург</td>\n",
       "      <td>18863.0</td>\n",
       "      <td>16028.0</td>\n",
       "      <td>1.0</td>\n",
       "      <td>482.0</td>\n",
       "      <td>2.0</td>\n",
       "      <td>755.0</td>\n",
       "      <td>NaN</td>\n",
       "    </tr>\n",
       "    <tr>\n",
       "      <th>1</th>\n",
       "      <td>7</td>\n",
       "      <td>3350000.0</td>\n",
       "      <td>40.40</td>\n",
       "      <td>2018-12-04T00:00:00</td>\n",
       "      <td>1</td>\n",
       "      <td>NaN</td>\n",
       "      <td>11.0</td>\n",
       "      <td>18.60</td>\n",
       "      <td>1</td>\n",
       "      <td>NaN</td>\n",
       "      <td>...</td>\n",
       "      <td>11.00</td>\n",
       "      <td>2.0</td>\n",
       "      <td>посёлок Шушары</td>\n",
       "      <td>12817.0</td>\n",
       "      <td>18603.0</td>\n",
       "      <td>0.0</td>\n",
       "      <td>NaN</td>\n",
       "      <td>0.0</td>\n",
       "      <td>NaN</td>\n",
       "      <td>81.0</td>\n",
       "    </tr>\n",
       "    <tr>\n",
       "      <th>2</th>\n",
       "      <td>10</td>\n",
       "      <td>5196000.0</td>\n",
       "      <td>56.00</td>\n",
       "      <td>2015-08-20T00:00:00</td>\n",
       "      <td>2</td>\n",
       "      <td>NaN</td>\n",
       "      <td>5.0</td>\n",
       "      <td>34.30</td>\n",
       "      <td>4</td>\n",
       "      <td>NaN</td>\n",
       "      <td>...</td>\n",
       "      <td>8.30</td>\n",
       "      <td>0.0</td>\n",
       "      <td>Санкт-Петербург</td>\n",
       "      <td>21741.0</td>\n",
       "      <td>13933.0</td>\n",
       "      <td>1.0</td>\n",
       "      <td>90.0</td>\n",
       "      <td>2.0</td>\n",
       "      <td>574.0</td>\n",
       "      <td>558.0</td>\n",
       "    </tr>\n",
       "    <tr>\n",
       "      <th>3</th>\n",
       "      <td>0</td>\n",
       "      <td>64900000.0</td>\n",
       "      <td>159.00</td>\n",
       "      <td>2015-07-24T00:00:00</td>\n",
       "      <td>3</td>\n",
       "      <td>NaN</td>\n",
       "      <td>14.0</td>\n",
       "      <td>NaN</td>\n",
       "      <td>9</td>\n",
       "      <td>NaN</td>\n",
       "      <td>...</td>\n",
       "      <td>NaN</td>\n",
       "      <td>0.0</td>\n",
       "      <td>Санкт-Петербург</td>\n",
       "      <td>28098.0</td>\n",
       "      <td>6800.0</td>\n",
       "      <td>2.0</td>\n",
       "      <td>84.0</td>\n",
       "      <td>3.0</td>\n",
       "      <td>234.0</td>\n",
       "      <td>424.0</td>\n",
       "    </tr>\n",
       "    <tr>\n",
       "      <th>4</th>\n",
       "      <td>2</td>\n",
       "      <td>10000000.0</td>\n",
       "      <td>100.00</td>\n",
       "      <td>2018-06-19T00:00:00</td>\n",
       "      <td>2</td>\n",
       "      <td>3.03</td>\n",
       "      <td>14.0</td>\n",
       "      <td>32.00</td>\n",
       "      <td>13</td>\n",
       "      <td>NaN</td>\n",
       "      <td>...</td>\n",
       "      <td>41.00</td>\n",
       "      <td>NaN</td>\n",
       "      <td>Санкт-Петербург</td>\n",
       "      <td>31856.0</td>\n",
       "      <td>8098.0</td>\n",
       "      <td>2.0</td>\n",
       "      <td>112.0</td>\n",
       "      <td>1.0</td>\n",
       "      <td>48.0</td>\n",
       "      <td>121.0</td>\n",
       "    </tr>\n",
       "    <tr>\n",
       "      <th>5</th>\n",
       "      <td>10</td>\n",
       "      <td>2890000.0</td>\n",
       "      <td>30.40</td>\n",
       "      <td>2018-09-10T00:00:00</td>\n",
       "      <td>1</td>\n",
       "      <td>NaN</td>\n",
       "      <td>12.0</td>\n",
       "      <td>14.40</td>\n",
       "      <td>5</td>\n",
       "      <td>NaN</td>\n",
       "      <td>...</td>\n",
       "      <td>9.10</td>\n",
       "      <td>NaN</td>\n",
       "      <td>городской посёлок Янино-1</td>\n",
       "      <td>NaN</td>\n",
       "      <td>NaN</td>\n",
       "      <td>NaN</td>\n",
       "      <td>NaN</td>\n",
       "      <td>NaN</td>\n",
       "      <td>NaN</td>\n",
       "      <td>55.0</td>\n",
       "    </tr>\n",
       "    <tr>\n",
       "      <th>6</th>\n",
       "      <td>6</td>\n",
       "      <td>3700000.0</td>\n",
       "      <td>37.30</td>\n",
       "      <td>2017-11-02T00:00:00</td>\n",
       "      <td>1</td>\n",
       "      <td>NaN</td>\n",
       "      <td>26.0</td>\n",
       "      <td>10.60</td>\n",
       "      <td>6</td>\n",
       "      <td>NaN</td>\n",
       "      <td>...</td>\n",
       "      <td>14.40</td>\n",
       "      <td>1.0</td>\n",
       "      <td>посёлок Парголово</td>\n",
       "      <td>52996.0</td>\n",
       "      <td>19143.0</td>\n",
       "      <td>0.0</td>\n",
       "      <td>NaN</td>\n",
       "      <td>0.0</td>\n",
       "      <td>NaN</td>\n",
       "      <td>155.0</td>\n",
       "    </tr>\n",
       "    <tr>\n",
       "      <th>7</th>\n",
       "      <td>5</td>\n",
       "      <td>7915000.0</td>\n",
       "      <td>71.60</td>\n",
       "      <td>2019-04-18T00:00:00</td>\n",
       "      <td>2</td>\n",
       "      <td>NaN</td>\n",
       "      <td>24.0</td>\n",
       "      <td>NaN</td>\n",
       "      <td>22</td>\n",
       "      <td>NaN</td>\n",
       "      <td>...</td>\n",
       "      <td>18.90</td>\n",
       "      <td>2.0</td>\n",
       "      <td>Санкт-Петербург</td>\n",
       "      <td>23982.0</td>\n",
       "      <td>11634.0</td>\n",
       "      <td>0.0</td>\n",
       "      <td>NaN</td>\n",
       "      <td>0.0</td>\n",
       "      <td>NaN</td>\n",
       "      <td>NaN</td>\n",
       "    </tr>\n",
       "    <tr>\n",
       "      <th>8</th>\n",
       "      <td>20</td>\n",
       "      <td>2900000.0</td>\n",
       "      <td>33.16</td>\n",
       "      <td>2018-05-23T00:00:00</td>\n",
       "      <td>1</td>\n",
       "      <td>NaN</td>\n",
       "      <td>27.0</td>\n",
       "      <td>15.43</td>\n",
       "      <td>26</td>\n",
       "      <td>NaN</td>\n",
       "      <td>...</td>\n",
       "      <td>8.81</td>\n",
       "      <td>NaN</td>\n",
       "      <td>посёлок Мурино</td>\n",
       "      <td>NaN</td>\n",
       "      <td>NaN</td>\n",
       "      <td>NaN</td>\n",
       "      <td>NaN</td>\n",
       "      <td>NaN</td>\n",
       "      <td>NaN</td>\n",
       "      <td>189.0</td>\n",
       "    </tr>\n",
       "    <tr>\n",
       "      <th>9</th>\n",
       "      <td>18</td>\n",
       "      <td>5400000.0</td>\n",
       "      <td>61.00</td>\n",
       "      <td>2017-02-26T00:00:00</td>\n",
       "      <td>3</td>\n",
       "      <td>2.50</td>\n",
       "      <td>9.0</td>\n",
       "      <td>43.60</td>\n",
       "      <td>7</td>\n",
       "      <td>NaN</td>\n",
       "      <td>...</td>\n",
       "      <td>6.50</td>\n",
       "      <td>2.0</td>\n",
       "      <td>Санкт-Петербург</td>\n",
       "      <td>50898.0</td>\n",
       "      <td>15008.0</td>\n",
       "      <td>0.0</td>\n",
       "      <td>NaN</td>\n",
       "      <td>0.0</td>\n",
       "      <td>NaN</td>\n",
       "      <td>289.0</td>\n",
       "    </tr>\n",
       "  </tbody>\n",
       "</table>\n",
       "<p>10 rows × 22 columns</p>\n",
       "</div>"
      ],
      "text/plain": [
       "   total_images  last_price  total_area first_day_exposition  rooms  \\\n",
       "0            20  13000000.0      108.00  2019-03-07T00:00:00      3   \n",
       "1             7   3350000.0       40.40  2018-12-04T00:00:00      1   \n",
       "2            10   5196000.0       56.00  2015-08-20T00:00:00      2   \n",
       "3             0  64900000.0      159.00  2015-07-24T00:00:00      3   \n",
       "4             2  10000000.0      100.00  2018-06-19T00:00:00      2   \n",
       "5            10   2890000.0       30.40  2018-09-10T00:00:00      1   \n",
       "6             6   3700000.0       37.30  2017-11-02T00:00:00      1   \n",
       "7             5   7915000.0       71.60  2019-04-18T00:00:00      2   \n",
       "8            20   2900000.0       33.16  2018-05-23T00:00:00      1   \n",
       "9            18   5400000.0       61.00  2017-02-26T00:00:00      3   \n",
       "\n",
       "   ceiling_height  floors_total  living_area  floor is_apartment  ...  \\\n",
       "0            2.70          16.0        51.00      8          NaN  ...   \n",
       "1             NaN          11.0        18.60      1          NaN  ...   \n",
       "2             NaN           5.0        34.30      4          NaN  ...   \n",
       "3             NaN          14.0          NaN      9          NaN  ...   \n",
       "4            3.03          14.0        32.00     13          NaN  ...   \n",
       "5             NaN          12.0        14.40      5          NaN  ...   \n",
       "6             NaN          26.0        10.60      6          NaN  ...   \n",
       "7             NaN          24.0          NaN     22          NaN  ...   \n",
       "8             NaN          27.0        15.43     26          NaN  ...   \n",
       "9            2.50           9.0        43.60      7          NaN  ...   \n",
       "\n",
       "   kitchen_area  balcony              locality_name  airports_nearest  \\\n",
       "0         25.00      NaN            Санкт-Петербург           18863.0   \n",
       "1         11.00      2.0             посёлок Шушары           12817.0   \n",
       "2          8.30      0.0            Санкт-Петербург           21741.0   \n",
       "3           NaN      0.0            Санкт-Петербург           28098.0   \n",
       "4         41.00      NaN            Санкт-Петербург           31856.0   \n",
       "5          9.10      NaN  городской посёлок Янино-1               NaN   \n",
       "6         14.40      1.0          посёлок Парголово           52996.0   \n",
       "7         18.90      2.0            Санкт-Петербург           23982.0   \n",
       "8          8.81      NaN             посёлок Мурино               NaN   \n",
       "9          6.50      2.0            Санкт-Петербург           50898.0   \n",
       "\n",
       "  cityCenters_nearest  parks_around3000  parks_nearest  ponds_around3000  \\\n",
       "0             16028.0               1.0          482.0               2.0   \n",
       "1             18603.0               0.0            NaN               0.0   \n",
       "2             13933.0               1.0           90.0               2.0   \n",
       "3              6800.0               2.0           84.0               3.0   \n",
       "4              8098.0               2.0          112.0               1.0   \n",
       "5                 NaN               NaN            NaN               NaN   \n",
       "6             19143.0               0.0            NaN               0.0   \n",
       "7             11634.0               0.0            NaN               0.0   \n",
       "8                 NaN               NaN            NaN               NaN   \n",
       "9             15008.0               0.0            NaN               0.0   \n",
       "\n",
       "   ponds_nearest  days_exposition  \n",
       "0          755.0              NaN  \n",
       "1            NaN             81.0  \n",
       "2          574.0            558.0  \n",
       "3          234.0            424.0  \n",
       "4           48.0            121.0  \n",
       "5            NaN             55.0  \n",
       "6            NaN            155.0  \n",
       "7            NaN              NaN  \n",
       "8            NaN            189.0  \n",
       "9            NaN            289.0  \n",
       "\n",
       "[10 rows x 22 columns]"
      ]
     },
     "execution_count": 2,
     "metadata": {},
     "output_type": "execute_result"
    }
   ],
   "source": [
    "df = pd.read_csv('./datasets/real_estate_data.csv', sep='\\t')\n",
    "df.head(10)"
   ]
  },
  {
   "cell_type": "code",
   "execution_count": 3,
   "id": "3842865f",
   "metadata": {},
   "outputs": [
    {
     "name": "stdout",
     "output_type": "stream",
     "text": [
      "<class 'pandas.core.frame.DataFrame'>\n",
      "RangeIndex: 23699 entries, 0 to 23698\n",
      "Data columns (total 22 columns):\n",
      " #   Column                Non-Null Count  Dtype  \n",
      "---  ------                --------------  -----  \n",
      " 0   total_images          23699 non-null  int64  \n",
      " 1   last_price            23699 non-null  float64\n",
      " 2   total_area            23699 non-null  float64\n",
      " 3   first_day_exposition  23699 non-null  object \n",
      " 4   rooms                 23699 non-null  int64  \n",
      " 5   ceiling_height        14504 non-null  float64\n",
      " 6   floors_total          23613 non-null  float64\n",
      " 7   living_area           21796 non-null  float64\n",
      " 8   floor                 23699 non-null  int64  \n",
      " 9   is_apartment          2775 non-null   object \n",
      " 10  studio                23699 non-null  bool   \n",
      " 11  open_plan             23699 non-null  bool   \n",
      " 12  kitchen_area          21421 non-null  float64\n",
      " 13  balcony               12180 non-null  float64\n",
      " 14  locality_name         23650 non-null  object \n",
      " 15  airports_nearest      18157 non-null  float64\n",
      " 16  cityCenters_nearest   18180 non-null  float64\n",
      " 17  parks_around3000      18181 non-null  float64\n",
      " 18  parks_nearest         8079 non-null   float64\n",
      " 19  ponds_around3000      18181 non-null  float64\n",
      " 20  ponds_nearest         9110 non-null   float64\n",
      " 21  days_exposition       20518 non-null  float64\n",
      "dtypes: bool(2), float64(14), int64(3), object(3)\n",
      "memory usage: 3.7+ MB\n"
     ]
    }
   ],
   "source": [
    "df.info()"
   ]
  },
  {
   "cell_type": "code",
   "execution_count": 4,
   "id": "2f04e7ad",
   "metadata": {
    "scrolled": true
   },
   "outputs": [
    {
     "data": {
      "text/html": [
       "<div>\n",
       "<style scoped>\n",
       "    .dataframe tbody tr th:only-of-type {\n",
       "        vertical-align: middle;\n",
       "    }\n",
       "\n",
       "    .dataframe tbody tr th {\n",
       "        vertical-align: top;\n",
       "    }\n",
       "\n",
       "    .dataframe thead th {\n",
       "        text-align: right;\n",
       "    }\n",
       "</style>\n",
       "<table border=\"1\" class=\"dataframe\">\n",
       "  <thead>\n",
       "    <tr style=\"text-align: right;\">\n",
       "      <th></th>\n",
       "      <th>total_images</th>\n",
       "      <th>last_price</th>\n",
       "      <th>total_area</th>\n",
       "      <th>rooms</th>\n",
       "      <th>ceiling_height</th>\n",
       "      <th>floors_total</th>\n",
       "      <th>living_area</th>\n",
       "      <th>floor</th>\n",
       "      <th>kitchen_area</th>\n",
       "      <th>balcony</th>\n",
       "      <th>airports_nearest</th>\n",
       "      <th>cityCenters_nearest</th>\n",
       "      <th>parks_around3000</th>\n",
       "      <th>parks_nearest</th>\n",
       "      <th>ponds_around3000</th>\n",
       "      <th>ponds_nearest</th>\n",
       "      <th>days_exposition</th>\n",
       "    </tr>\n",
       "  </thead>\n",
       "  <tbody>\n",
       "    <tr>\n",
       "      <th>count</th>\n",
       "      <td>23699.000000</td>\n",
       "      <td>2.369900e+04</td>\n",
       "      <td>23699.000000</td>\n",
       "      <td>23699.000000</td>\n",
       "      <td>14504.000000</td>\n",
       "      <td>23613.000000</td>\n",
       "      <td>21796.000000</td>\n",
       "      <td>23699.000000</td>\n",
       "      <td>21421.000000</td>\n",
       "      <td>12180.000000</td>\n",
       "      <td>18157.000000</td>\n",
       "      <td>18180.000000</td>\n",
       "      <td>18181.000000</td>\n",
       "      <td>8079.000000</td>\n",
       "      <td>18181.000000</td>\n",
       "      <td>9110.000000</td>\n",
       "      <td>20518.000000</td>\n",
       "    </tr>\n",
       "    <tr>\n",
       "      <th>mean</th>\n",
       "      <td>9.858475</td>\n",
       "      <td>6.541549e+06</td>\n",
       "      <td>60.348651</td>\n",
       "      <td>2.070636</td>\n",
       "      <td>2.771499</td>\n",
       "      <td>10.673824</td>\n",
       "      <td>34.457852</td>\n",
       "      <td>5.892358</td>\n",
       "      <td>10.569807</td>\n",
       "      <td>1.150082</td>\n",
       "      <td>28793.672193</td>\n",
       "      <td>14191.277833</td>\n",
       "      <td>0.611408</td>\n",
       "      <td>490.804555</td>\n",
       "      <td>0.770255</td>\n",
       "      <td>517.980900</td>\n",
       "      <td>180.888634</td>\n",
       "    </tr>\n",
       "    <tr>\n",
       "      <th>std</th>\n",
       "      <td>5.682529</td>\n",
       "      <td>1.088701e+07</td>\n",
       "      <td>35.654083</td>\n",
       "      <td>1.078405</td>\n",
       "      <td>1.261056</td>\n",
       "      <td>6.597173</td>\n",
       "      <td>22.030445</td>\n",
       "      <td>4.885249</td>\n",
       "      <td>5.905438</td>\n",
       "      <td>1.071300</td>\n",
       "      <td>12630.880622</td>\n",
       "      <td>8608.386210</td>\n",
       "      <td>0.802074</td>\n",
       "      <td>342.317995</td>\n",
       "      <td>0.938346</td>\n",
       "      <td>277.720643</td>\n",
       "      <td>219.727988</td>\n",
       "    </tr>\n",
       "    <tr>\n",
       "      <th>min</th>\n",
       "      <td>0.000000</td>\n",
       "      <td>1.219000e+04</td>\n",
       "      <td>12.000000</td>\n",
       "      <td>0.000000</td>\n",
       "      <td>1.000000</td>\n",
       "      <td>1.000000</td>\n",
       "      <td>2.000000</td>\n",
       "      <td>1.000000</td>\n",
       "      <td>1.300000</td>\n",
       "      <td>0.000000</td>\n",
       "      <td>0.000000</td>\n",
       "      <td>181.000000</td>\n",
       "      <td>0.000000</td>\n",
       "      <td>1.000000</td>\n",
       "      <td>0.000000</td>\n",
       "      <td>13.000000</td>\n",
       "      <td>1.000000</td>\n",
       "    </tr>\n",
       "    <tr>\n",
       "      <th>25%</th>\n",
       "      <td>6.000000</td>\n",
       "      <td>3.400000e+06</td>\n",
       "      <td>40.000000</td>\n",
       "      <td>1.000000</td>\n",
       "      <td>2.520000</td>\n",
       "      <td>5.000000</td>\n",
       "      <td>18.600000</td>\n",
       "      <td>2.000000</td>\n",
       "      <td>7.000000</td>\n",
       "      <td>0.000000</td>\n",
       "      <td>18585.000000</td>\n",
       "      <td>9238.000000</td>\n",
       "      <td>0.000000</td>\n",
       "      <td>288.000000</td>\n",
       "      <td>0.000000</td>\n",
       "      <td>294.000000</td>\n",
       "      <td>45.000000</td>\n",
       "    </tr>\n",
       "    <tr>\n",
       "      <th>50%</th>\n",
       "      <td>9.000000</td>\n",
       "      <td>4.650000e+06</td>\n",
       "      <td>52.000000</td>\n",
       "      <td>2.000000</td>\n",
       "      <td>2.650000</td>\n",
       "      <td>9.000000</td>\n",
       "      <td>30.000000</td>\n",
       "      <td>4.000000</td>\n",
       "      <td>9.100000</td>\n",
       "      <td>1.000000</td>\n",
       "      <td>26726.000000</td>\n",
       "      <td>13098.500000</td>\n",
       "      <td>0.000000</td>\n",
       "      <td>455.000000</td>\n",
       "      <td>1.000000</td>\n",
       "      <td>502.000000</td>\n",
       "      <td>95.000000</td>\n",
       "    </tr>\n",
       "    <tr>\n",
       "      <th>75%</th>\n",
       "      <td>14.000000</td>\n",
       "      <td>6.800000e+06</td>\n",
       "      <td>69.900000</td>\n",
       "      <td>3.000000</td>\n",
       "      <td>2.800000</td>\n",
       "      <td>16.000000</td>\n",
       "      <td>42.300000</td>\n",
       "      <td>8.000000</td>\n",
       "      <td>12.000000</td>\n",
       "      <td>2.000000</td>\n",
       "      <td>37273.000000</td>\n",
       "      <td>16293.000000</td>\n",
       "      <td>1.000000</td>\n",
       "      <td>612.000000</td>\n",
       "      <td>1.000000</td>\n",
       "      <td>729.000000</td>\n",
       "      <td>232.000000</td>\n",
       "    </tr>\n",
       "    <tr>\n",
       "      <th>max</th>\n",
       "      <td>50.000000</td>\n",
       "      <td>7.630000e+08</td>\n",
       "      <td>900.000000</td>\n",
       "      <td>19.000000</td>\n",
       "      <td>100.000000</td>\n",
       "      <td>60.000000</td>\n",
       "      <td>409.700000</td>\n",
       "      <td>33.000000</td>\n",
       "      <td>112.000000</td>\n",
       "      <td>5.000000</td>\n",
       "      <td>84869.000000</td>\n",
       "      <td>65968.000000</td>\n",
       "      <td>3.000000</td>\n",
       "      <td>3190.000000</td>\n",
       "      <td>3.000000</td>\n",
       "      <td>1344.000000</td>\n",
       "      <td>1580.000000</td>\n",
       "    </tr>\n",
       "  </tbody>\n",
       "</table>\n",
       "</div>"
      ],
      "text/plain": [
       "       total_images    last_price    total_area         rooms  ceiling_height  \\\n",
       "count  23699.000000  2.369900e+04  23699.000000  23699.000000    14504.000000   \n",
       "mean       9.858475  6.541549e+06     60.348651      2.070636        2.771499   \n",
       "std        5.682529  1.088701e+07     35.654083      1.078405        1.261056   \n",
       "min        0.000000  1.219000e+04     12.000000      0.000000        1.000000   \n",
       "25%        6.000000  3.400000e+06     40.000000      1.000000        2.520000   \n",
       "50%        9.000000  4.650000e+06     52.000000      2.000000        2.650000   \n",
       "75%       14.000000  6.800000e+06     69.900000      3.000000        2.800000   \n",
       "max       50.000000  7.630000e+08    900.000000     19.000000      100.000000   \n",
       "\n",
       "       floors_total   living_area         floor  kitchen_area       balcony  \\\n",
       "count  23613.000000  21796.000000  23699.000000  21421.000000  12180.000000   \n",
       "mean      10.673824     34.457852      5.892358     10.569807      1.150082   \n",
       "std        6.597173     22.030445      4.885249      5.905438      1.071300   \n",
       "min        1.000000      2.000000      1.000000      1.300000      0.000000   \n",
       "25%        5.000000     18.600000      2.000000      7.000000      0.000000   \n",
       "50%        9.000000     30.000000      4.000000      9.100000      1.000000   \n",
       "75%       16.000000     42.300000      8.000000     12.000000      2.000000   \n",
       "max       60.000000    409.700000     33.000000    112.000000      5.000000   \n",
       "\n",
       "       airports_nearest  cityCenters_nearest  parks_around3000  parks_nearest  \\\n",
       "count      18157.000000         18180.000000      18181.000000    8079.000000   \n",
       "mean       28793.672193         14191.277833          0.611408     490.804555   \n",
       "std        12630.880622          8608.386210          0.802074     342.317995   \n",
       "min            0.000000           181.000000          0.000000       1.000000   \n",
       "25%        18585.000000          9238.000000          0.000000     288.000000   \n",
       "50%        26726.000000         13098.500000          0.000000     455.000000   \n",
       "75%        37273.000000         16293.000000          1.000000     612.000000   \n",
       "max        84869.000000         65968.000000          3.000000    3190.000000   \n",
       "\n",
       "       ponds_around3000  ponds_nearest  days_exposition  \n",
       "count      18181.000000    9110.000000     20518.000000  \n",
       "mean           0.770255     517.980900       180.888634  \n",
       "std            0.938346     277.720643       219.727988  \n",
       "min            0.000000      13.000000         1.000000  \n",
       "25%            0.000000     294.000000        45.000000  \n",
       "50%            1.000000     502.000000        95.000000  \n",
       "75%            1.000000     729.000000       232.000000  \n",
       "max            3.000000    1344.000000      1580.000000  "
      ]
     },
     "execution_count": 4,
     "metadata": {},
     "output_type": "execute_result"
    }
   ],
   "source": [
    "df.describe()"
   ]
  },
  {
   "cell_type": "markdown",
   "id": "9020af92",
   "metadata": {},
   "source": [
    "В данных очень много пропущенных значений, некоторые нужно будет заменить, некоторые оставим. Имеются выбросы, как 19 метровые квартиры, 100 метровые потолки и самая дорогая квартира за 763 миллиона. \n"
   ]
  },
  {
   "cell_type": "markdown",
   "id": "298d97e4",
   "metadata": {},
   "source": [
    "## Предобработка данных"
   ]
  },
  {
   "cell_type": "markdown",
   "id": "38a3c9b0",
   "metadata": {},
   "source": [
    "### Обработка пропусков"
   ]
  },
  {
   "cell_type": "markdown",
   "id": "18fa2706",
   "metadata": {},
   "source": [
    "Посмотрим пропуски по всем колонкам таблицы и заполним пропуски, где это необходимо "
   ]
  },
  {
   "cell_type": "code",
   "execution_count": 5,
   "id": "1f8094c8",
   "metadata": {
    "scrolled": false
   },
   "outputs": [
    {
     "data": {
      "text/plain": [
       "total_images                0\n",
       "last_price                  0\n",
       "total_area                  0\n",
       "first_day_exposition        0\n",
       "rooms                       0\n",
       "ceiling_height           9195\n",
       "floors_total               86\n",
       "living_area              1903\n",
       "floor                       0\n",
       "is_apartment            20924\n",
       "studio                      0\n",
       "open_plan                   0\n",
       "kitchen_area             2278\n",
       "balcony                 11519\n",
       "locality_name              49\n",
       "airports_nearest         5542\n",
       "cityCenters_nearest      5519\n",
       "parks_around3000         5518\n",
       "parks_nearest           15620\n",
       "ponds_around3000         5518\n",
       "ponds_nearest           14589\n",
       "days_exposition          3181\n",
       "dtype: int64"
      ]
     },
     "execution_count": 5,
     "metadata": {},
     "output_type": "execute_result"
    }
   ],
   "source": [
    "df.isna().sum()"
   ]
  },
  {
   "cell_type": "markdown",
   "id": "0d1d5df7",
   "metadata": {},
   "source": [
    "#### Пропуски locality_name"
   ]
  },
  {
   "cell_type": "markdown",
   "id": "c208a1ae",
   "metadata": {},
   "source": [
    "Для начала приведем в порядок данные в столбце locality_name, для этого заменим в названиях населенного пункта букву ё на е. "
   ]
  },
  {
   "cell_type": "code",
   "execution_count": 6,
   "id": "a16acf29",
   "metadata": {},
   "outputs": [],
   "source": [
    "df['locality_name'] = df['locality_name'].str.replace('ё', 'е')"
   ]
  },
  {
   "cell_type": "markdown",
   "id": "40bac8dd",
   "metadata": {},
   "source": [
    "Т.к. протяженность Санкт-Петербурга с юга на север – 32 км. То будем считать, что пустые значения в столбце locality_name, у которых расстояние до центра менее или равно 15 км, являются Санкт-Петербургом. Данные в столбце получены автоматически на основе картографических данных. Пропуски могли появиться, потому что были некорректно указаны данные и система автоматически не смогла найти координаты недвижимости."
   ]
  },
  {
   "cell_type": "code",
   "execution_count": 7,
   "id": "6c42ccc3",
   "metadata": {},
   "outputs": [],
   "source": [
    "df.loc[(df['locality_name'].isna()) & (df['cityCenters_nearest'] <= 15000), 'locality_name'] = 'Санкт-Петербург'"
   ]
  },
  {
   "cell_type": "markdown",
   "id": "ba0e90ff",
   "metadata": {},
   "source": [
    "Проверим количество пропусков в названии населенного пункта"
   ]
  },
  {
   "cell_type": "code",
   "execution_count": 8,
   "id": "af0067b6",
   "metadata": {},
   "outputs": [
    {
     "data": {
      "text/plain": [
       "21"
      ]
     },
     "execution_count": 8,
     "metadata": {},
     "output_type": "execute_result"
    }
   ],
   "source": [
    "df['locality_name'].isna().sum()"
   ]
  },
  {
   "cell_type": "markdown",
   "id": "a124b6a2",
   "metadata": {},
   "source": [
    "Для дальнейших расчетов создадим 2 столбца:\n",
    "1.\t“type_locality” – тип населенного пункта. Информацию возьмем из столбца “locality_name“, пустые значения заполним типом “город”\n",
    "2.\t“locality” – название населенного пункта. Из столбца “locality_name“ возьмем только названия населенных пунктов"
   ]
  },
  {
   "cell_type": "code",
   "execution_count": 9,
   "id": "30acbcbe",
   "metadata": {},
   "outputs": [],
   "source": [
    "def title_locality(df):\n",
    "    res = ' '.join(row for row in df.split(' ') if row.islower())\n",
    "    return res"
   ]
  },
  {
   "cell_type": "code",
   "execution_count": 10,
   "id": "4acae6e1",
   "metadata": {},
   "outputs": [],
   "source": [
    "def name_locality(df):\n",
    "    res = ' '.join(row for row in df.split(' ') if row.istitle())\n",
    "    return res"
   ]
  },
  {
   "cell_type": "code",
   "execution_count": 11,
   "id": "04ae9026",
   "metadata": {},
   "outputs": [
    {
     "data": {
      "text/html": [
       "<div>\n",
       "<style scoped>\n",
       "    .dataframe tbody tr th:only-of-type {\n",
       "        vertical-align: middle;\n",
       "    }\n",
       "\n",
       "    .dataframe tbody tr th {\n",
       "        vertical-align: top;\n",
       "    }\n",
       "\n",
       "    .dataframe thead th {\n",
       "        text-align: right;\n",
       "    }\n",
       "</style>\n",
       "<table border=\"1\" class=\"dataframe\">\n",
       "  <thead>\n",
       "    <tr style=\"text-align: right;\">\n",
       "      <th></th>\n",
       "      <th>total_images</th>\n",
       "      <th>last_price</th>\n",
       "      <th>total_area</th>\n",
       "      <th>first_day_exposition</th>\n",
       "      <th>rooms</th>\n",
       "      <th>ceiling_height</th>\n",
       "      <th>floors_total</th>\n",
       "      <th>living_area</th>\n",
       "      <th>floor</th>\n",
       "      <th>is_apartment</th>\n",
       "      <th>...</th>\n",
       "      <th>locality_name</th>\n",
       "      <th>airports_nearest</th>\n",
       "      <th>cityCenters_nearest</th>\n",
       "      <th>parks_around3000</th>\n",
       "      <th>parks_nearest</th>\n",
       "      <th>ponds_around3000</th>\n",
       "      <th>ponds_nearest</th>\n",
       "      <th>days_exposition</th>\n",
       "      <th>type_locality</th>\n",
       "      <th>locality</th>\n",
       "    </tr>\n",
       "  </thead>\n",
       "  <tbody>\n",
       "    <tr>\n",
       "      <th>0</th>\n",
       "      <td>20</td>\n",
       "      <td>13000000.0</td>\n",
       "      <td>108.0</td>\n",
       "      <td>2019-03-07T00:00:00</td>\n",
       "      <td>3</td>\n",
       "      <td>2.70</td>\n",
       "      <td>16.0</td>\n",
       "      <td>51.0</td>\n",
       "      <td>8</td>\n",
       "      <td>NaN</td>\n",
       "      <td>...</td>\n",
       "      <td>Санкт-Петербург</td>\n",
       "      <td>18863.0</td>\n",
       "      <td>16028.0</td>\n",
       "      <td>1.0</td>\n",
       "      <td>482.0</td>\n",
       "      <td>2.0</td>\n",
       "      <td>755.0</td>\n",
       "      <td>NaN</td>\n",
       "      <td>город</td>\n",
       "      <td>Санкт-Петербург</td>\n",
       "    </tr>\n",
       "    <tr>\n",
       "      <th>1</th>\n",
       "      <td>7</td>\n",
       "      <td>3350000.0</td>\n",
       "      <td>40.4</td>\n",
       "      <td>2018-12-04T00:00:00</td>\n",
       "      <td>1</td>\n",
       "      <td>NaN</td>\n",
       "      <td>11.0</td>\n",
       "      <td>18.6</td>\n",
       "      <td>1</td>\n",
       "      <td>NaN</td>\n",
       "      <td>...</td>\n",
       "      <td>поселок Шушары</td>\n",
       "      <td>12817.0</td>\n",
       "      <td>18603.0</td>\n",
       "      <td>0.0</td>\n",
       "      <td>NaN</td>\n",
       "      <td>0.0</td>\n",
       "      <td>NaN</td>\n",
       "      <td>81.0</td>\n",
       "      <td>поселок</td>\n",
       "      <td>Шушары</td>\n",
       "    </tr>\n",
       "    <tr>\n",
       "      <th>2</th>\n",
       "      <td>10</td>\n",
       "      <td>5196000.0</td>\n",
       "      <td>56.0</td>\n",
       "      <td>2015-08-20T00:00:00</td>\n",
       "      <td>2</td>\n",
       "      <td>NaN</td>\n",
       "      <td>5.0</td>\n",
       "      <td>34.3</td>\n",
       "      <td>4</td>\n",
       "      <td>NaN</td>\n",
       "      <td>...</td>\n",
       "      <td>Санкт-Петербург</td>\n",
       "      <td>21741.0</td>\n",
       "      <td>13933.0</td>\n",
       "      <td>1.0</td>\n",
       "      <td>90.0</td>\n",
       "      <td>2.0</td>\n",
       "      <td>574.0</td>\n",
       "      <td>558.0</td>\n",
       "      <td>город</td>\n",
       "      <td>Санкт-Петербург</td>\n",
       "    </tr>\n",
       "    <tr>\n",
       "      <th>3</th>\n",
       "      <td>0</td>\n",
       "      <td>64900000.0</td>\n",
       "      <td>159.0</td>\n",
       "      <td>2015-07-24T00:00:00</td>\n",
       "      <td>3</td>\n",
       "      <td>NaN</td>\n",
       "      <td>14.0</td>\n",
       "      <td>NaN</td>\n",
       "      <td>9</td>\n",
       "      <td>NaN</td>\n",
       "      <td>...</td>\n",
       "      <td>Санкт-Петербург</td>\n",
       "      <td>28098.0</td>\n",
       "      <td>6800.0</td>\n",
       "      <td>2.0</td>\n",
       "      <td>84.0</td>\n",
       "      <td>3.0</td>\n",
       "      <td>234.0</td>\n",
       "      <td>424.0</td>\n",
       "      <td>город</td>\n",
       "      <td>Санкт-Петербург</td>\n",
       "    </tr>\n",
       "    <tr>\n",
       "      <th>4</th>\n",
       "      <td>2</td>\n",
       "      <td>10000000.0</td>\n",
       "      <td>100.0</td>\n",
       "      <td>2018-06-19T00:00:00</td>\n",
       "      <td>2</td>\n",
       "      <td>3.03</td>\n",
       "      <td>14.0</td>\n",
       "      <td>32.0</td>\n",
       "      <td>13</td>\n",
       "      <td>NaN</td>\n",
       "      <td>...</td>\n",
       "      <td>Санкт-Петербург</td>\n",
       "      <td>31856.0</td>\n",
       "      <td>8098.0</td>\n",
       "      <td>2.0</td>\n",
       "      <td>112.0</td>\n",
       "      <td>1.0</td>\n",
       "      <td>48.0</td>\n",
       "      <td>121.0</td>\n",
       "      <td>город</td>\n",
       "      <td>Санкт-Петербург</td>\n",
       "    </tr>\n",
       "  </tbody>\n",
       "</table>\n",
       "<p>5 rows × 24 columns</p>\n",
       "</div>"
      ],
      "text/plain": [
       "   total_images  last_price  total_area first_day_exposition  rooms  \\\n",
       "0            20  13000000.0       108.0  2019-03-07T00:00:00      3   \n",
       "1             7   3350000.0        40.4  2018-12-04T00:00:00      1   \n",
       "2            10   5196000.0        56.0  2015-08-20T00:00:00      2   \n",
       "3             0  64900000.0       159.0  2015-07-24T00:00:00      3   \n",
       "4             2  10000000.0       100.0  2018-06-19T00:00:00      2   \n",
       "\n",
       "   ceiling_height  floors_total  living_area  floor is_apartment  ...  \\\n",
       "0            2.70          16.0         51.0      8          NaN  ...   \n",
       "1             NaN          11.0         18.6      1          NaN  ...   \n",
       "2             NaN           5.0         34.3      4          NaN  ...   \n",
       "3             NaN          14.0          NaN      9          NaN  ...   \n",
       "4            3.03          14.0         32.0     13          NaN  ...   \n",
       "\n",
       "     locality_name  airports_nearest  cityCenters_nearest  parks_around3000  \\\n",
       "0  Санкт-Петербург           18863.0              16028.0               1.0   \n",
       "1   поселок Шушары           12817.0              18603.0               0.0   \n",
       "2  Санкт-Петербург           21741.0              13933.0               1.0   \n",
       "3  Санкт-Петербург           28098.0               6800.0               2.0   \n",
       "4  Санкт-Петербург           31856.0               8098.0               2.0   \n",
       "\n",
       "  parks_nearest  ponds_around3000  ponds_nearest  days_exposition  \\\n",
       "0         482.0               2.0          755.0              NaN   \n",
       "1           NaN               0.0            NaN             81.0   \n",
       "2          90.0               2.0          574.0            558.0   \n",
       "3          84.0               3.0          234.0            424.0   \n",
       "4         112.0               1.0           48.0            121.0   \n",
       "\n",
       "   type_locality         locality  \n",
       "0          город  Санкт-Петербург  \n",
       "1        поселок           Шушары  \n",
       "2          город  Санкт-Петербург  \n",
       "3          город  Санкт-Петербург  \n",
       "4          город  Санкт-Петербург  \n",
       "\n",
       "[5 rows x 24 columns]"
      ]
     },
     "execution_count": 11,
     "metadata": {},
     "output_type": "execute_result"
    }
   ],
   "source": [
    "df['type_locality'] = df['locality_name'].fillna('').apply(title_locality)\n",
    "df.loc[df['type_locality']=='', 'type_locality'] = 'город'\n",
    "df['locality'] = df['locality_name'].fillna('').apply(name_locality)\n",
    "df.head()"
   ]
  },
  {
   "cell_type": "markdown",
   "id": "d0c3422d",
   "metadata": {},
   "source": [
    "#### Пропуски balcony и is_apartment"
   ]
  },
  {
   "cell_type": "markdown",
   "id": "2bfc2d11",
   "metadata": {},
   "source": [
    "В столбце количества балконов 49% пропусков, заполним пропущенные значения на 0. Скорее всего, что данные не указывали, из-за отсутствия балконов.\n",
    "\n",
    "Пустых строк в колонке апартаменты 88%, заменим их на False. Вероятнее этот пункт не был выбран, потому что его первоначально не было или просто не знали является ли их недвижимость апартаментом "
   ]
  },
  {
   "cell_type": "code",
   "execution_count": 12,
   "id": "8fb9925a",
   "metadata": {},
   "outputs": [],
   "source": [
    "df.fillna({'balcony':0, 'is_apartment':'False'}, inplace=True)"
   ]
  },
  {
   "cell_type": "markdown",
   "id": "6bf19825",
   "metadata": {},
   "source": [
    "#### Пропуски cityCenters_nearest"
   ]
  },
  {
   "cell_type": "markdown",
   "id": "c5977c5f",
   "metadata": {},
   "source": [
    "Пропуски в колонке расстояния до центра города, заменим на среднее значение расстояния сгруппированных по названию населенного пункта. Эти данные должны были подтянуться автоматически на основе картографических данных. Пропуски скорее всего появились, потому что были некорректно указаны данные и система автоматически не смогла найти координаты недвижимости. "
   ]
  },
  {
   "cell_type": "code",
   "execution_count": 13,
   "id": "d2061397",
   "metadata": {},
   "outputs": [],
   "source": [
    "for i in df['locality'].unique():\n",
    "    df.loc[(df['locality']==i) & (df['cityCenters_nearest'].isna()), 'cityCenters_nearest'] \\\n",
    "    = df.loc[df['locality']==i,'cityCenters_nearest'].mean()"
   ]
  },
  {
   "cell_type": "markdown",
   "id": "bff32070",
   "metadata": {},
   "source": [
    "Проверим количество пропусков в cityCenters_nearest"
   ]
  },
  {
   "cell_type": "code",
   "execution_count": 14,
   "id": "6e60b9b8",
   "metadata": {},
   "outputs": [
    {
     "data": {
      "text/plain": [
       "4829"
      ]
     },
     "execution_count": 14,
     "metadata": {},
     "output_type": "execute_result"
    }
   ],
   "source": [
    "df['cityCenters_nearest'].isna().sum()"
   ]
  },
  {
   "cell_type": "markdown",
   "id": "1c1703dd",
   "metadata": {},
   "source": [
    "Пропусков все еще много. Посмотрим сколько пропущенных значений в столбце cityCenters_nearest по городу Санкт-Петербург"
   ]
  },
  {
   "cell_type": "code",
   "execution_count": 15,
   "id": "c655e979",
   "metadata": {},
   "outputs": [
    {
     "data": {
      "text/plain": [
       "0"
      ]
     },
     "execution_count": 15,
     "metadata": {},
     "output_type": "execute_result"
    }
   ],
   "source": [
    "df.query('locality == \"Санкт-Петербург\" and cityCenters_nearest.isna()').shape[0]"
   ]
  },
  {
   "cell_type": "markdown",
   "id": "987ca9b9",
   "metadata": {},
   "source": [
    "Мы избавились от пропусков в столбце расстояние до цента по г. Санкт-Петербург, которые нам понадобятся для анализа. Остальные пропуски в этом столбце заменим на 0, чтобы можно было изменить столбец на целочисленный тип. "
   ]
  },
  {
   "cell_type": "code",
   "execution_count": 16,
   "id": "b21cc1e7",
   "metadata": {},
   "outputs": [],
   "source": [
    "df.loc[(df['locality_name'] != 'Санкт-Петербург') & (df['cityCenters_nearest'].isna()), 'cityCenters_nearest'] = 0"
   ]
  },
  {
   "cell_type": "markdown",
   "id": "e72b6550",
   "metadata": {},
   "source": [
    "#### Пропуски ceiling_height и floors_total"
   ]
  },
  {
   "cell_type": "markdown",
   "id": "c76dcefe",
   "metadata": {},
   "source": [
    "Выделим пять диапазонов отдаленности от центра **[0,5], [5,10], [10,15], [15,30] и больше 30 км.** В соответствии с этими  расстояниями рассчитаем медиану высоты потолков(т.к. имеются потолки и 100 метров) и среднею количества этажей"
   ]
  },
  {
   "cell_type": "code",
   "execution_count": 17,
   "id": "d33bebf6",
   "metadata": {},
   "outputs": [],
   "source": [
    "center_group_meter = [\n",
    "    [0, 5000],\n",
    "    [5000, 10000],\n",
    "    [10000, 15000],\n",
    "    [15000, 30000]\n",
    "]   #диапазоны расстояния до цента в метрах"
   ]
  },
  {
   "cell_type": "markdown",
   "id": "ff789421",
   "metadata": {},
   "source": [
    "Замена пропусков в столбце высота потолков. Пропуски заменим медианой высоты потолков, отфильтрованных по отдаленности от центра. Пропуски в этих данных могли появиться из-за того, что при подаче объявления не знали какая высота потолка"
   ]
  },
  {
   "cell_type": "code",
   "execution_count": 18,
   "id": "d827da1a",
   "metadata": {},
   "outputs": [],
   "source": [
    "for row in center_group_meter:\n",
    "    df.loc[(df['cityCenters_nearest']>=row[0]) & (df['cityCenters_nearest']<=row[1]) & \\\n",
    "           (df['ceiling_height'].isna()),'ceiling_height'] = df[(df['cityCenters_nearest']>=row[0]) & \\\n",
    "            (df['cityCenters_nearest']<=row[1])]['ceiling_height'].median()\n",
    "    \n",
    "df.loc[(df['cityCenters_nearest'] > 30000) & (df['ceiling_height'].isna()),'ceiling_height'] = \\\n",
    "    df[(df['cityCenters_nearest'] > 30000)]['ceiling_height'].median()"
   ]
  },
  {
   "cell_type": "markdown",
   "id": "79099762",
   "metadata": {},
   "source": [
    "Замена пропусков в столбце количество этажей. Пропуски заменим средним значением количества этажей, отфильтрованных по отдаленности от центра. При этом если среднее значение меньше этажа, то будем считать что он последний. Данные значения могли не указать, из-за отсутствия пункта на момент подачи объявления "
   ]
  },
  {
   "cell_type": "code",
   "execution_count": 19,
   "id": "56657a67",
   "metadata": {},
   "outputs": [],
   "source": [
    "for row in center_group_meter:\n",
    "    df.loc[(df['cityCenters_nearest']>=row[0]) & (df['cityCenters_nearest']<=row[1]) & \\\n",
    "           (df['floors_total'].isna()),'floors_total'] = df[(df['cityCenters_nearest']>=row[0]) & \\\n",
    "           (df['cityCenters_nearest']<=row[1])]['floors_total'].mean()\n",
    "    \n",
    "df.loc[(df['cityCenters_nearest'] > 30000) & (df['floors_total'].isna()),'floors_total'] = \\\n",
    "    df[(df['cityCenters_nearest'] > 30000)]['floors_total'].mean()"
   ]
  },
  {
   "cell_type": "markdown",
   "id": "ceaa4bfc",
   "metadata": {},
   "source": [
    "Если в поле количество этажей, значение меньше, чем в поле этаж, то будем считать что он последний. Проверим и заменим данные в столбце floors_total"
   ]
  },
  {
   "cell_type": "code",
   "execution_count": 20,
   "id": "cf5f2802",
   "metadata": {},
   "outputs": [],
   "source": [
    "def floors_tot(df):\n",
    "    if df['floors_total'] < df['floor']:\n",
    "        return df['floor']\n",
    "    else:\n",
    "        return df['floors_total']\n",
    "\n",
    "df['floors_total'] = df.apply(floors_tot, axis=1)"
   ]
  },
  {
   "cell_type": "markdown",
   "id": "7ecfe29f",
   "metadata": {},
   "source": [
    "Проверим оставшиеся  пропуски в таблице "
   ]
  },
  {
   "cell_type": "code",
   "execution_count": 21,
   "id": "9624aa50",
   "metadata": {
    "scrolled": false
   },
   "outputs": [
    {
     "data": {
      "text/plain": [
       "total_images                0\n",
       "last_price                  0\n",
       "total_area                  0\n",
       "first_day_exposition        0\n",
       "rooms                       0\n",
       "ceiling_height              0\n",
       "floors_total                0\n",
       "living_area              1903\n",
       "floor                       0\n",
       "is_apartment                0\n",
       "studio                      0\n",
       "open_plan                   0\n",
       "kitchen_area             2278\n",
       "balcony                     0\n",
       "locality_name              21\n",
       "airports_nearest         5542\n",
       "cityCenters_nearest         0\n",
       "parks_around3000         5518\n",
       "parks_nearest           15620\n",
       "ponds_around3000         5518\n",
       "ponds_nearest           14589\n",
       "days_exposition          3181\n",
       "type_locality               0\n",
       "locality                    0\n",
       "dtype: int64"
      ]
     },
     "execution_count": 21,
     "metadata": {},
     "output_type": "execute_result"
    }
   ],
   "source": [
    "df.isna().sum()"
   ]
  },
  {
   "cell_type": "markdown",
   "id": "a845f17a",
   "metadata": {},
   "source": [
    "#### Вывод"
   ]
  },
  {
   "cell_type": "markdown",
   "id": "b79df16f",
   "metadata": {},
   "source": [
    "Были заменены пропущенные значения в столбцах: locality_name, balcony, is_apartment, cityCenters_nearest, ceiling_height и floors_total. Большую часть пропусков заполнили средним значение по локации объекта или удаленности от центра.\n",
    "\n",
    "Остальные пропуски не трогали. В столбцах living_area и kitchen_area, пропущенные значения могли появиться из-за того, что это квартиры студии, общежитие или не жилая недвижимость или при подаче объявления не знали какая точная площадь кухни. Заполнять данные пропуски средними значениями или медианой не имеет смысла, т.к. у каждой недвижимости разные планировки и высчитать значения очень трудоемко. \n",
    "\n",
    "Данные в столбцах airports_nearest, parks_around3000, parks_nearest, ponds_around3000, ponds_nearest получены автоматически на основе картографических данных. Пропуски скорее всего появились, потому что расстояние до парков, водоемов, аэропорта очень большое и указывать их было не актуально. Или были некорректно указаны данные и система автоматически не смогла найти координаты недвижимости. Эти столбцы мы тоже пропустим и не будем заполнять пропуски\n",
    "\n",
    "В столбце days_exposition, пропуски могли появиться, т.к. не были указаны даты снятия объявления после продажи. "
   ]
  },
  {
   "cell_type": "markdown",
   "id": "d426c184",
   "metadata": {},
   "source": [
    "### Замена типа данных"
   ]
  },
  {
   "cell_type": "code",
   "execution_count": 22,
   "id": "ef3797a3",
   "metadata": {},
   "outputs": [],
   "source": [
    "df['first_day_exposition'] = pd.to_datetime(df['first_day_exposition'], format='%Y-%m-%dT%H:%M:%S')\n",
    "df = df.astype({\n",
    "    'last_price':int, 'floors_total':int, 'floor':int, \n",
    "    'is_apartment':bool, 'balcony':int, 'cityCenters_nearest':int\n",
    "})"
   ]
  },
  {
   "cell_type": "code",
   "execution_count": 23,
   "id": "c0940b70",
   "metadata": {
    "scrolled": false
   },
   "outputs": [
    {
     "name": "stdout",
     "output_type": "stream",
     "text": [
      "<class 'pandas.core.frame.DataFrame'>\n",
      "RangeIndex: 23699 entries, 0 to 23698\n",
      "Data columns (total 24 columns):\n",
      " #   Column                Non-Null Count  Dtype         \n",
      "---  ------                --------------  -----         \n",
      " 0   total_images          23699 non-null  int64         \n",
      " 1   last_price            23699 non-null  int32         \n",
      " 2   total_area            23699 non-null  float64       \n",
      " 3   first_day_exposition  23699 non-null  datetime64[ns]\n",
      " 4   rooms                 23699 non-null  int64         \n",
      " 5   ceiling_height        23699 non-null  float64       \n",
      " 6   floors_total          23699 non-null  int32         \n",
      " 7   living_area           21796 non-null  float64       \n",
      " 8   floor                 23699 non-null  int32         \n",
      " 9   is_apartment          23699 non-null  bool          \n",
      " 10  studio                23699 non-null  bool          \n",
      " 11  open_plan             23699 non-null  bool          \n",
      " 12  kitchen_area          21421 non-null  float64       \n",
      " 13  balcony               23699 non-null  int32         \n",
      " 14  locality_name         23678 non-null  object        \n",
      " 15  airports_nearest      18157 non-null  float64       \n",
      " 16  cityCenters_nearest   23699 non-null  int32         \n",
      " 17  parks_around3000      18181 non-null  float64       \n",
      " 18  parks_nearest         8079 non-null   float64       \n",
      " 19  ponds_around3000      18181 non-null  float64       \n",
      " 20  ponds_nearest         9110 non-null   float64       \n",
      " 21  days_exposition       20518 non-null  float64       \n",
      " 22  type_locality         23699 non-null  object        \n",
      " 23  locality              23699 non-null  object        \n",
      "dtypes: bool(3), datetime64[ns](1), float64(10), int32(5), int64(2), object(3)\n",
      "memory usage: 3.4+ MB\n"
     ]
    }
   ],
   "source": [
    "df.info()"
   ]
  },
  {
   "cell_type": "markdown",
   "id": "63977799",
   "metadata": {},
   "source": [
    "В столбце дата публикации, изменим тип данных на data\n",
    "\n",
    "Изменим типы данных у столбцов: 'last_price', 'floors_total', 'floor', 'balcony' и 'cityCenters_nearest' на целочисленный тип. А столбец апартаменты заменили на логический тип. Произвели замену типов для облегчения проведения расчетов и уменьшения размера таблицы "
   ]
  },
  {
   "cell_type": "markdown",
   "id": "cf0805f4",
   "metadata": {},
   "source": [
    "## Расчёты и добавление результатов в таблицу"
   ]
  },
  {
   "cell_type": "markdown",
   "id": "8a97901f",
   "metadata": {},
   "source": [
    "### Цена квадратного метра"
   ]
  },
  {
   "cell_type": "markdown",
   "id": "ce9242fe",
   "metadata": {},
   "source": [
    "Вычислим цену квадратного метра и добавим ее в новый столбец price_1m"
   ]
  },
  {
   "cell_type": "code",
   "execution_count": 24,
   "id": "30461bc3",
   "metadata": {},
   "outputs": [],
   "source": [
    "df['price_m2'] = (df['last_price'] / df['total_area']).astype('int')"
   ]
  },
  {
   "cell_type": "markdown",
   "id": "e5809ad8",
   "metadata": {},
   "source": [
    "### День недели, месяц и год публикации объявления"
   ]
  },
  {
   "cell_type": "markdown",
   "id": "6576ebba",
   "metadata": {},
   "source": [
    "Добавим столбцы с днем недели (day_week), месяца (month) и года (year) размещения объявления"
   ]
  },
  {
   "cell_type": "code",
   "execution_count": 25,
   "id": "445aee02",
   "metadata": {},
   "outputs": [],
   "source": [
    "df['day_week'] = df['first_day_exposition'].dt.day_name()\n",
    "df['month'] = df['first_day_exposition'].dt.month\n",
    "df['year'] = df['first_day_exposition'].dt.year"
   ]
  },
  {
   "cell_type": "markdown",
   "id": "741d3389",
   "metadata": {},
   "source": [
    "### Этаж квартиры"
   ]
  },
  {
   "cell_type": "markdown",
   "id": "e1436bd6",
   "metadata": {},
   "source": [
    "Добавим столбец level_floory с информацией об этаже, со следующими значениями: первый, последний, другой"
   ]
  },
  {
   "cell_type": "code",
   "execution_count": 26,
   "id": "9ba18d46",
   "metadata": {},
   "outputs": [],
   "source": [
    "def level(row):\n",
    "    if row['floor'] == 1:\n",
    "        return 'первый'\n",
    "    elif row['floors_total'] == row['floor']:\n",
    "        return 'последний'\n",
    "    else:\n",
    "        return 'другой'\n",
    "\n",
    "df['level_floory'] = df.apply(level, axis=1)"
   ]
  },
  {
   "cell_type": "markdown",
   "id": "71bf2ec2",
   "metadata": {},
   "source": [
    "### Соотношение площадей в недвижимости"
   ]
  },
  {
   "cell_type": "markdown",
   "id": "c8415318",
   "metadata": {},
   "source": [
    "Создадим столбцы соотношений жилой и общей площади (living_total), а также отношение площади кухни к общей (kitchen_total)"
   ]
  },
  {
   "cell_type": "code",
   "execution_count": 27,
   "id": "9e0d3f12",
   "metadata": {},
   "outputs": [],
   "source": [
    "df['living_total'] =  df['living_area'] / df['total_area']\n",
    "df['kitchen_total'] = df['kitchen_area'] / df['total_area']"
   ]
  },
  {
   "cell_type": "markdown",
   "id": "9871de8c",
   "metadata": {},
   "source": [
    "Посмотрим на данные которые получились "
   ]
  },
  {
   "cell_type": "code",
   "execution_count": 28,
   "id": "9a14e978",
   "metadata": {},
   "outputs": [
    {
     "data": {
      "text/html": [
       "<div>\n",
       "<style scoped>\n",
       "    .dataframe tbody tr th:only-of-type {\n",
       "        vertical-align: middle;\n",
       "    }\n",
       "\n",
       "    .dataframe tbody tr th {\n",
       "        vertical-align: top;\n",
       "    }\n",
       "\n",
       "    .dataframe thead th {\n",
       "        text-align: right;\n",
       "    }\n",
       "</style>\n",
       "<table border=\"1\" class=\"dataframe\">\n",
       "  <thead>\n",
       "    <tr style=\"text-align: right;\">\n",
       "      <th></th>\n",
       "      <th>total_images</th>\n",
       "      <th>last_price</th>\n",
       "      <th>total_area</th>\n",
       "      <th>first_day_exposition</th>\n",
       "      <th>rooms</th>\n",
       "      <th>ceiling_height</th>\n",
       "      <th>floors_total</th>\n",
       "      <th>living_area</th>\n",
       "      <th>floor</th>\n",
       "      <th>is_apartment</th>\n",
       "      <th>...</th>\n",
       "      <th>days_exposition</th>\n",
       "      <th>type_locality</th>\n",
       "      <th>locality</th>\n",
       "      <th>price_m2</th>\n",
       "      <th>day_week</th>\n",
       "      <th>month</th>\n",
       "      <th>year</th>\n",
       "      <th>level_floory</th>\n",
       "      <th>living_total</th>\n",
       "      <th>kitchen_total</th>\n",
       "    </tr>\n",
       "  </thead>\n",
       "  <tbody>\n",
       "    <tr>\n",
       "      <th>0</th>\n",
       "      <td>20</td>\n",
       "      <td>13000000</td>\n",
       "      <td>108.0</td>\n",
       "      <td>2019-03-07</td>\n",
       "      <td>3</td>\n",
       "      <td>2.70</td>\n",
       "      <td>16</td>\n",
       "      <td>51.0</td>\n",
       "      <td>8</td>\n",
       "      <td>True</td>\n",
       "      <td>...</td>\n",
       "      <td>NaN</td>\n",
       "      <td>город</td>\n",
       "      <td>Санкт-Петербург</td>\n",
       "      <td>120370</td>\n",
       "      <td>Thursday</td>\n",
       "      <td>3</td>\n",
       "      <td>2019</td>\n",
       "      <td>другой</td>\n",
       "      <td>0.472222</td>\n",
       "      <td>0.231481</td>\n",
       "    </tr>\n",
       "    <tr>\n",
       "      <th>1</th>\n",
       "      <td>7</td>\n",
       "      <td>3350000</td>\n",
       "      <td>40.4</td>\n",
       "      <td>2018-12-04</td>\n",
       "      <td>1</td>\n",
       "      <td>2.60</td>\n",
       "      <td>11</td>\n",
       "      <td>18.6</td>\n",
       "      <td>1</td>\n",
       "      <td>True</td>\n",
       "      <td>...</td>\n",
       "      <td>81.0</td>\n",
       "      <td>поселок</td>\n",
       "      <td>Шушары</td>\n",
       "      <td>82920</td>\n",
       "      <td>Tuesday</td>\n",
       "      <td>12</td>\n",
       "      <td>2018</td>\n",
       "      <td>первый</td>\n",
       "      <td>0.460396</td>\n",
       "      <td>0.272277</td>\n",
       "    </tr>\n",
       "    <tr>\n",
       "      <th>2</th>\n",
       "      <td>10</td>\n",
       "      <td>5196000</td>\n",
       "      <td>56.0</td>\n",
       "      <td>2015-08-20</td>\n",
       "      <td>2</td>\n",
       "      <td>2.60</td>\n",
       "      <td>5</td>\n",
       "      <td>34.3</td>\n",
       "      <td>4</td>\n",
       "      <td>True</td>\n",
       "      <td>...</td>\n",
       "      <td>558.0</td>\n",
       "      <td>город</td>\n",
       "      <td>Санкт-Петербург</td>\n",
       "      <td>92785</td>\n",
       "      <td>Thursday</td>\n",
       "      <td>8</td>\n",
       "      <td>2015</td>\n",
       "      <td>другой</td>\n",
       "      <td>0.612500</td>\n",
       "      <td>0.148214</td>\n",
       "    </tr>\n",
       "    <tr>\n",
       "      <th>3</th>\n",
       "      <td>0</td>\n",
       "      <td>64900000</td>\n",
       "      <td>159.0</td>\n",
       "      <td>2015-07-24</td>\n",
       "      <td>3</td>\n",
       "      <td>2.80</td>\n",
       "      <td>14</td>\n",
       "      <td>NaN</td>\n",
       "      <td>9</td>\n",
       "      <td>True</td>\n",
       "      <td>...</td>\n",
       "      <td>424.0</td>\n",
       "      <td>город</td>\n",
       "      <td>Санкт-Петербург</td>\n",
       "      <td>408176</td>\n",
       "      <td>Friday</td>\n",
       "      <td>7</td>\n",
       "      <td>2015</td>\n",
       "      <td>другой</td>\n",
       "      <td>NaN</td>\n",
       "      <td>NaN</td>\n",
       "    </tr>\n",
       "    <tr>\n",
       "      <th>4</th>\n",
       "      <td>2</td>\n",
       "      <td>10000000</td>\n",
       "      <td>100.0</td>\n",
       "      <td>2018-06-19</td>\n",
       "      <td>2</td>\n",
       "      <td>3.03</td>\n",
       "      <td>14</td>\n",
       "      <td>32.0</td>\n",
       "      <td>13</td>\n",
       "      <td>True</td>\n",
       "      <td>...</td>\n",
       "      <td>121.0</td>\n",
       "      <td>город</td>\n",
       "      <td>Санкт-Петербург</td>\n",
       "      <td>100000</td>\n",
       "      <td>Tuesday</td>\n",
       "      <td>6</td>\n",
       "      <td>2018</td>\n",
       "      <td>другой</td>\n",
       "      <td>0.320000</td>\n",
       "      <td>0.410000</td>\n",
       "    </tr>\n",
       "  </tbody>\n",
       "</table>\n",
       "<p>5 rows × 31 columns</p>\n",
       "</div>"
      ],
      "text/plain": [
       "   total_images  last_price  total_area first_day_exposition  rooms  \\\n",
       "0            20    13000000       108.0           2019-03-07      3   \n",
       "1             7     3350000        40.4           2018-12-04      1   \n",
       "2            10     5196000        56.0           2015-08-20      2   \n",
       "3             0    64900000       159.0           2015-07-24      3   \n",
       "4             2    10000000       100.0           2018-06-19      2   \n",
       "\n",
       "   ceiling_height  floors_total  living_area  floor  is_apartment  ...  \\\n",
       "0            2.70            16         51.0      8          True  ...   \n",
       "1            2.60            11         18.6      1          True  ...   \n",
       "2            2.60             5         34.3      4          True  ...   \n",
       "3            2.80            14          NaN      9          True  ...   \n",
       "4            3.03            14         32.0     13          True  ...   \n",
       "\n",
       "   days_exposition  type_locality         locality  price_m2  day_week  month  \\\n",
       "0              NaN          город  Санкт-Петербург    120370  Thursday      3   \n",
       "1             81.0        поселок           Шушары     82920   Tuesday     12   \n",
       "2            558.0          город  Санкт-Петербург     92785  Thursday      8   \n",
       "3            424.0          город  Санкт-Петербург    408176    Friday      7   \n",
       "4            121.0          город  Санкт-Петербург    100000   Tuesday      6   \n",
       "\n",
       "   year  level_floory  living_total  kitchen_total  \n",
       "0  2019        другой      0.472222       0.231481  \n",
       "1  2018        первый      0.460396       0.272277  \n",
       "2  2015        другой      0.612500       0.148214  \n",
       "3  2015        другой           NaN            NaN  \n",
       "4  2018        другой      0.320000       0.410000  \n",
       "\n",
       "[5 rows x 31 columns]"
      ]
     },
     "execution_count": 28,
     "metadata": {},
     "output_type": "execute_result"
    }
   ],
   "source": [
    "df.head()"
   ]
  },
  {
   "cell_type": "markdown",
   "id": "34a4132a",
   "metadata": {},
   "source": [
    "### Вывод"
   ]
  },
  {
   "cell_type": "markdown",
   "id": "6696beb6",
   "metadata": {},
   "source": [
    "Для дальнейшего анализа произвели следующие расчеты и добавили их в таблицу:\n",
    "1.\tЦена квадратного метра\n",
    "2.\tДни недели, месяц и год публикации объявления\n",
    "3.\tИнформация об этаже (первый, последний, другой)\n",
    "4.\tСоотношение жилой площади и общей площади, а также соотношение площади кухни к общей площади недвижимости "
   ]
  },
  {
   "cell_type": "markdown",
   "id": "d0fac253",
   "metadata": {},
   "source": [
    "## Исследовательский анализ данных"
   ]
  },
  {
   "cell_type": "markdown",
   "id": "bf78004e",
   "metadata": {},
   "source": [
    "### Анализ и графики для данных по площади, цене, числу комнат и высоте потолков"
   ]
  },
  {
   "cell_type": "markdown",
   "id": "700a106b",
   "metadata": {},
   "source": [
    "#### Площадь недвижимости"
   ]
  },
  {
   "cell_type": "markdown",
   "id": "a8462902",
   "metadata": {},
   "source": [
    "Посмотрим на данные по общей площади недвижимости на диаграмме размаха"
   ]
  },
  {
   "cell_type": "code",
   "execution_count": 29,
   "id": "3e9a9286",
   "metadata": {
    "scrolled": true
   },
   "outputs": [
    {
     "data": {
      "text/plain": [
       "<AxesSubplot:>"
      ]
     },
     "execution_count": 29,
     "metadata": {},
     "output_type": "execute_result"
    },
    {
     "data": {
      "image/png": "[encoded data removed]",
      "text/plain": [
       "<Figure size 432x288 with 1 Axes>"
      ]
     },
     "metadata": {
      "needs_background": "light"
     },
     "output_type": "display_data"
    }
   ],
   "source": [
    "df.boxplot('total_area', fontsize=15)"
   ]
  },
  {
   "cell_type": "markdown",
   "id": "89813358",
   "metadata": {},
   "source": [
    "Как видно из диаграммы размаха, пределы нормальных значений лежат в диапазоне 20-150. Построим гистограмму в этом диапазоне."
   ]
  },
  {
   "cell_type": "code",
   "execution_count": 30,
   "id": "3fca82eb",
   "metadata": {},
   "outputs": [
    {
     "data": {
      "text/plain": [
       "<AxesSubplot:title={'center':'Распределение общей площади'}, ylabel='Frequency'>"
      ]
     },
     "execution_count": 30,
     "metadata": {},
     "output_type": "execute_result"
    },
    {
     "data": {
      "image/png": "[encoded data removed]",
      "text/plain": [
       "<Figure size 720x360 with 1 Axes>"
      ]
     },
     "metadata": {
      "needs_background": "light"
     },
     "output_type": "display_data"
    }
   ],
   "source": [
    "df['total_area'].plot(\n",
    "    title='Распределение общей площади',\n",
    "    kind='hist',\n",
    "    bins=100,\n",
    "    range=(10,150),\n",
    "    figsize=(10,5),\n",
    "    grid=True,\n",
    "    ec='black'\n",
    ")"
   ]
  },
  {
   "cell_type": "markdown",
   "id": "40478304",
   "metadata": {},
   "source": [
    "Больше всего объявлений при площади 30 – 80, пик приходится при 45 кв.м. Есть выбросы более 600 кв.м., но их очень мало"
   ]
  },
  {
   "cell_type": "markdown",
   "id": "0f5370b6",
   "metadata": {},
   "source": [
    "#### Цена"
   ]
  },
  {
   "cell_type": "markdown",
   "id": "1da90b7b",
   "metadata": {},
   "source": [
    "Рассмотрим данные о цене за недвижимость"
   ]
  },
  {
   "cell_type": "code",
   "execution_count": 31,
   "id": "c8016ff9",
   "metadata": {
    "scrolled": false
   },
   "outputs": [
    {
     "data": {
      "text/plain": [
       "count    2.369900e+04\n",
       "mean     6.541549e+06\n",
       "std      1.088701e+07\n",
       "min      1.219000e+04\n",
       "25%      3.400000e+06\n",
       "50%      4.650000e+06\n",
       "75%      6.800000e+06\n",
       "max      7.630000e+08\n",
       "Name: last_price, dtype: float64"
      ]
     },
     "execution_count": 31,
     "metadata": {},
     "output_type": "execute_result"
    }
   ],
   "source": [
    "df['last_price'].describe()"
   ]
  },
  {
   "cell_type": "markdown",
   "id": "254fe986",
   "metadata": {},
   "source": [
    "Избавимся от е-формата чисел при анализе данного столбца, для этого значения в колонке last_price разделим на 1 000 000."
   ]
  },
  {
   "cell_type": "code",
   "execution_count": 32,
   "id": "9939d64a",
   "metadata": {},
   "outputs": [
    {
     "data": {
      "text/plain": [
       "count    23699.000000\n",
       "mean         6.541549\n",
       "std         10.887013\n",
       "min          0.012190\n",
       "25%          3.400000\n",
       "50%          4.650000\n",
       "75%          6.800000\n",
       "max        763.000000\n",
       "Name: last_price, dtype: float64"
      ]
     },
     "execution_count": 32,
     "metadata": {},
     "output_type": "execute_result"
    }
   ],
   "source": [
    "df['last_price'] = df['last_price'] / 1000000\n",
    "df['last_price'].describe()"
   ]
  },
  {
   "cell_type": "markdown",
   "id": "5313ce80",
   "metadata": {},
   "source": [
    "При числовом анализе данных последней цены на недвижимость видно, что межквартильный размах в диапазоне от 3,4 млн до 6,8 млн. А стандартное отклонение 10,8 млн. Построим гистограмму в диапазоне от 1 млн до 15 млн. "
   ]
  },
  {
   "cell_type": "code",
   "execution_count": 33,
   "id": "290f76f6",
   "metadata": {},
   "outputs": [
    {
     "data": {
      "text/plain": [
       "<AxesSubplot:title={'center':'Цена'}, ylabel='Frequency'>"
      ]
     },
     "execution_count": 33,
     "metadata": {},
     "output_type": "execute_result"
    },
    {
     "data": {
      "image/png": "[encoded data removed]",
      "text/plain": [
       "<Figure size 1080x360 with 1 Axes>"
      ]
     },
     "metadata": {
      "needs_background": "light"
     },
     "output_type": "display_data"
    }
   ],
   "source": [
    "df['last_price'].plot(\n",
    "    title='Цена',\n",
    "    kind='hist',\n",
    "    range=(1, 15),\n",
    "    bins=100,\n",
    "    figsize=(15, 5),\n",
    "    grid=True,\n",
    "    ec='black'\n",
    ")"
   ]
  },
  {
   "cell_type": "markdown",
   "id": "dbd18029",
   "metadata": {},
   "source": [
    "Как видно из гистограммы, половина объявлений при цене от 3 млн до 6 млн "
   ]
  },
  {
   "cell_type": "markdown",
   "id": "deee29c8",
   "metadata": {},
   "source": [
    "#### Число комнат"
   ]
  },
  {
   "cell_type": "markdown",
   "id": "b90ff80e",
   "metadata": {},
   "source": [
    "Построим диаграмму размаха количества комнат"
   ]
  },
  {
   "cell_type": "code",
   "execution_count": 34,
   "id": "981cc9ca",
   "metadata": {
    "scrolled": true
   },
   "outputs": [
    {
     "data": {
      "text/plain": [
       "<AxesSubplot:>"
      ]
     },
     "execution_count": 34,
     "metadata": {},
     "output_type": "execute_result"
    },
    {
     "data": {
      "image/png": "[encoded data removed]",
      "text/plain": [
       "<Figure size 432x288 with 1 Axes>"
      ]
     },
     "metadata": {
      "needs_background": "light"
     },
     "output_type": "display_data"
    }
   ],
   "source": [
    "df.boxplot('rooms', fontsize=15)"
   ]
  },
  {
   "cell_type": "markdown",
   "id": "eb1b43dd",
   "metadata": {},
   "source": [
    "Как видно основное количество объявлений при количестве комнат 0 – 6. Так же имеются выбросы более 10 комнат. Построим гистограмму по количеству комнат, диапазон значений возьмем от 0 – 6 комнат."
   ]
  },
  {
   "cell_type": "code",
   "execution_count": 35,
   "id": "f5501bef",
   "metadata": {
    "scrolled": false
   },
   "outputs": [
    {
     "data": {
      "text/plain": [
       "<AxesSubplot:title={'center':'Число комнат'}, ylabel='Frequency'>"
      ]
     },
     "execution_count": 35,
     "metadata": {},
     "output_type": "execute_result"
    },
    {
     "data": {
      "image/png": "[encoded data removed]",
      "text/plain": [
       "<Figure size 432x288 with 1 Axes>"
      ]
     },
     "metadata": {
      "needs_background": "light"
     },
     "output_type": "display_data"
    }
   ],
   "source": [
    "df['rooms'].plot(\n",
    "    title='Число комнат',\n",
    "    kind='hist',\n",
    "    range=(0,6),\n",
    "    grid=True,\n",
    "    ec='black'\n",
    ")"
   ]
  },
  {
   "cell_type": "markdown",
   "id": "815c86e3",
   "metadata": {},
   "source": [
    "Больше всего объявлений о недвижимости с 1 и 2 комнатами."
   ]
  },
  {
   "cell_type": "markdown",
   "id": "38529cdd",
   "metadata": {},
   "source": [
    "#### Высота потолков"
   ]
  },
  {
   "cell_type": "markdown",
   "id": "a9bf97f9",
   "metadata": {},
   "source": [
    "Посмотрим на данные о высоте потолков."
   ]
  },
  {
   "cell_type": "code",
   "execution_count": 36,
   "id": "97d49f6c",
   "metadata": {
    "scrolled": true
   },
   "outputs": [
    {
     "data": {
      "text/plain": [
       "count    23699.000000\n",
       "mean         2.725432\n",
       "std          0.989206\n",
       "min          1.000000\n",
       "25%          2.600000\n",
       "50%          2.600000\n",
       "75%          2.750000\n",
       "max        100.000000\n",
       "Name: ceiling_height, dtype: float64"
      ]
     },
     "execution_count": 36,
     "metadata": {},
     "output_type": "execute_result"
    }
   ],
   "source": [
    "df['ceiling_height'].describe()"
   ]
  },
  {
   "cell_type": "markdown",
   "id": "155481b2",
   "metadata": {},
   "source": [
    "Межквартильный размах 2,6 – 2,75 м. Имеются выбросы, как 100 метровый потолок. Построим гистограмму высоты потолков, диапазон данных возьмем 2-4 метров."
   ]
  },
  {
   "cell_type": "code",
   "execution_count": 37,
   "id": "e36c9e90",
   "metadata": {},
   "outputs": [
    {
     "data": {
      "text/plain": [
       "<AxesSubplot:title={'center':'Высота потолков'}, ylabel='Frequency'>"
      ]
     },
     "execution_count": 37,
     "metadata": {},
     "output_type": "execute_result"
    },
    {
     "data": {
      "image/png": "[encoded data removed]",
      "text/plain": [
       "<Figure size 432x288 with 1 Axes>"
      ]
     },
     "metadata": {
      "needs_background": "light"
     },
     "output_type": "display_data"
    }
   ],
   "source": [
    "df['ceiling_height'].plot(title='Высота потолков', kind='hist', range=(2,4), grid=True, ec='black')"
   ]
  },
  {
   "cell_type": "markdown",
   "id": "5a6c2da0",
   "metadata": {},
   "source": [
    "Как видно большая часть объявлений при потолках 2,5 – 2,8 м"
   ]
  },
  {
   "cell_type": "markdown",
   "id": "a1fe3311",
   "metadata": {},
   "source": [
    "### Время продажи квартиры"
   ]
  },
  {
   "cell_type": "markdown",
   "id": "e580873e",
   "metadata": {},
   "source": [
    "Посмотрим данные о количестве дней размещения объявлений методом describe(). "
   ]
  },
  {
   "cell_type": "code",
   "execution_count": 38,
   "id": "260896e4",
   "metadata": {},
   "outputs": [
    {
     "data": {
      "text/plain": [
       "count    20518.000000\n",
       "mean       180.888634\n",
       "std        219.727988\n",
       "min          1.000000\n",
       "25%         45.000000\n",
       "50%         95.000000\n",
       "75%        232.000000\n",
       "max       1580.000000\n",
       "Name: days_exposition, dtype: float64"
      ]
     },
     "execution_count": 38,
     "metadata": {},
     "output_type": "execute_result"
    }
   ],
   "source": [
    "df['days_exposition'].describe()"
   ]
  },
  {
   "cell_type": "markdown",
   "id": "2369b408",
   "metadata": {},
   "source": [
    "Максимальная дата публикаций 4,5 года, очень долго. Среднее количество дней 180 дней. Медиана 95 дней. Построим гистограмму с диапазоном до 400 дней "
   ]
  },
  {
   "cell_type": "code",
   "execution_count": 39,
   "id": "5eaa5770",
   "metadata": {
    "scrolled": true
   },
   "outputs": [
    {
     "data": {
      "text/plain": [
       "<AxesSubplot:title={'center':'Высота потолков'}, ylabel='Frequency'>"
      ]
     },
     "execution_count": 39,
     "metadata": {},
     "output_type": "execute_result"
    },
    {
     "data": {
      "image/png": "[encoded data removed]",
      "text/plain": [
       "<Figure size 720x288 with 1 Axes>"
      ]
     },
     "metadata": {
      "needs_background": "light"
     },
     "output_type": "display_data"
    }
   ],
   "source": [
    "df['days_exposition'].plot(\n",
    "    title='Высота потолков',\n",
    "    kind='hist',\n",
    "    range=(0, 400),\n",
    "    bins=100,\n",
    "    figsize=(10,4),\n",
    "    grid=True,\n",
    "    ec='black'\n",
    ")"
   ]
  },
  {
   "cell_type": "markdown",
   "id": "c353d524",
   "metadata": {},
   "source": [
    "Встречаются пики в пределах 50, 60, 90 дней. Возможно в эти дни происходит авто снятие объявлений или уведомление о необходимости продлить объявление, и пользователи снимали объявления. Хорошими сроками можно считать до 90 дней, быстрыми до 50 дней. Более 400 можно считать уже долгим сроком "
   ]
  },
  {
   "cell_type": "markdown",
   "id": "5f9bec7e",
   "metadata": {},
   "source": [
    "### Редкие и выбивающиеся значения"
   ]
  },
  {
   "cell_type": "markdown",
   "id": "32b9084b",
   "metadata": {},
   "source": [
    "Создадим таблицу filter с удалением редких и выбывающих значений. Так в столбце общая площадь возьмем данные в диапазоне 10 – 200 м2, при количестве комнат менее 6. Высота потолков будет в пределах 2,2 – 3,5 м, дата публикаций объявлений менее 500 дней и при цене меньше 20 млн"
   ]
  },
  {
   "cell_type": "code",
   "execution_count": 40,
   "id": "b957b0da",
   "metadata": {},
   "outputs": [
    {
     "data": {
      "text/plain": [
       "(18116, 31)"
      ]
     },
     "execution_count": 40,
     "metadata": {},
     "output_type": "execute_result"
    }
   ],
   "source": [
    "filter_df = df.query(\n",
    "    '(10 <= total_area <= 200) and (rooms < 6) and (2.2 <= ceiling_height <= 3.5) and (days_exposition < 500) and (last_price < 20)'\n",
    ")\n",
    "filter_df.shape"
   ]
  },
  {
   "cell_type": "markdown",
   "id": "e67b5f03",
   "metadata": {},
   "source": [
    "После избавление от “выбросов”, у нас осталось 18100 записей"
   ]
  },
  {
   "cell_type": "markdown",
   "id": "692ed755",
   "metadata": {},
   "source": [
    "### Зависимость стоимости от факторов"
   ]
  },
  {
   "cell_type": "markdown",
   "id": "2ba8a376",
   "metadata": {},
   "source": [
    "Создадим функцию relation(), для вычисления зависимости цены от факторов и построения графиков"
   ]
  },
  {
   "cell_type": "code",
   "execution_count": 41,
   "id": "8c95311b",
   "metadata": {},
   "outputs": [],
   "source": [
    "def relation(table, column, title, kind, mean, figsize=(6,4)):\n",
    "    if mean == 'median':\n",
    "        filter_column = table.groupby(column)['last_price'].median().reset_index().sort_values(by=column)\n",
    "    else: \n",
    "        filter_column = table.groupby(column)['last_price'].mean().reset_index().sort_values(by=column)\n",
    "        \n",
    "    return filter_column.plot(x=column, y='last_price', title=title, kind=kind, legend=False, figsize=figsize, grid=True)"
   ]
  },
  {
   "cell_type": "markdown",
   "id": "be49c974",
   "metadata": {},
   "source": [
    "#### Зависимость цены от площади"
   ]
  },
  {
   "cell_type": "markdown",
   "id": "d793e886",
   "metadata": {},
   "source": [
    "Построим диаграмму рассеивания зависимости цены от площади квартиры"
   ]
  },
  {
   "cell_type": "code",
   "execution_count": 42,
   "id": "637cf426",
   "metadata": {
    "scrolled": true
   },
   "outputs": [
    {
     "data": {
      "text/plain": [
       "<AxesSubplot:title={'center':'Зависимость цены от площади'}, xlabel='total_area', ylabel='last_price'>"
      ]
     },
     "execution_count": 42,
     "metadata": {},
     "output_type": "execute_result"
    },
    {
     "data": {
      "image/png": "[encoded data removed]",
      "text/plain": [
       "<Figure size 432x288 with 1 Axes>"
      ]
     },
     "metadata": {
      "needs_background": "light"
     },
     "output_type": "display_data"
    }
   ],
   "source": [
    "relation(filter_df, 'total_area', 'Зависимость цены от площади', 'scatter', 'mean')"
   ]
  },
  {
   "cell_type": "markdown",
   "id": "97db6384",
   "metadata": {},
   "source": [
    "Из графика видно, что с увеличением общей площади, увеличивается и стоимость квартиры"
   ]
  },
  {
   "cell_type": "markdown",
   "id": "f358cdbb",
   "metadata": {},
   "source": [
    "#### Зависимость цены от числа комнат"
   ]
  },
  {
   "cell_type": "markdown",
   "id": "7e585500",
   "metadata": {},
   "source": [
    "Построим график зависимости цены от числа комнат."
   ]
  },
  {
   "cell_type": "code",
   "execution_count": 43,
   "id": "56a4402a",
   "metadata": {
    "scrolled": true
   },
   "outputs": [
    {
     "data": {
      "text/plain": [
       "<AxesSubplot:title={'center':'Зависимость цены от числа комнат'}, ylabel='rooms'>"
      ]
     },
     "execution_count": 43,
     "metadata": {},
     "output_type": "execute_result"
    },
    {
     "data": {
      "image/png": "[encoded data removed]",
      "text/plain": [
       "<Figure size 432x288 with 1 Axes>"
      ]
     },
     "metadata": {
      "needs_background": "light"
     },
     "output_type": "display_data"
    }
   ],
   "source": [
    "relation(filter_df, 'rooms', 'Зависимость цены от числа комнат', 'barh', 'mean')"
   ]
  },
  {
   "cell_type": "markdown",
   "id": "0f2608d8",
   "metadata": {},
   "source": [
    "С увеличением количества комнат и растет стоимость жилья"
   ]
  },
  {
   "cell_type": "markdown",
   "id": "70134dd7",
   "metadata": {},
   "source": [
    "#### Зависимость цены от удалённости от центра"
   ]
  },
  {
   "cell_type": "markdown",
   "id": "6c68408b",
   "metadata": {},
   "source": [
    "Построим диаграмму рассеивания зависимости цены от удалённости от центра."
   ]
  },
  {
   "cell_type": "code",
   "execution_count": 44,
   "id": "210efe1b",
   "metadata": {},
   "outputs": [
    {
     "data": {
      "text/plain": [
       "<AxesSubplot:title={'center':'Зависимость цены от удалённости от центра'}, xlabel='cityCenters_nearest', ylabel='last_price'>"
      ]
     },
     "execution_count": 44,
     "metadata": {},
     "output_type": "execute_result"
    },
    {
     "data": {
      "image/png": "[encoded data removed]",
      "text/plain": [
       "<Figure size 432x288 with 1 Axes>"
      ]
     },
     "metadata": {
      "needs_background": "light"
     },
     "output_type": "display_data"
    }
   ],
   "source": [
    "relation(filter_df, 'cityCenters_nearest', 'Зависимость цены от удалённости от центра', 'scatter', 'mean')"
   ]
  },
  {
   "cell_type": "markdown",
   "id": "c0d0b1d8",
   "metadata": {},
   "source": [
    "Чем ближе к центру, тем больше цена"
   ]
  },
  {
   "cell_type": "markdown",
   "id": "56eaa350",
   "metadata": {},
   "source": [
    "#### Зависимость цены от того этажа  квартиры"
   ]
  },
  {
   "cell_type": "markdown",
   "id": "6548742c",
   "metadata": {},
   "source": [
    "Построим гистограмму зависимости цены от этажа"
   ]
  },
  {
   "cell_type": "code",
   "execution_count": 45,
   "id": "bbfccf72",
   "metadata": {},
   "outputs": [
    {
     "data": {
      "text/plain": [
       "<AxesSubplot:title={'center':'Зависимость цены от того этажа квартиры'}, xlabel='level_floory'>"
      ]
     },
     "execution_count": 45,
     "metadata": {},
     "output_type": "execute_result"
    },
    {
     "data": {
      "image/png": "[encoded data removed]",
      "text/plain": [
       "<Figure size 432x288 with 1 Axes>"
      ]
     },
     "metadata": {
      "needs_background": "light"
     },
     "output_type": "display_data"
    }
   ],
   "source": [
    "relation(filter_df, 'level_floory', 'Зависимость цены от того этажа квартиры', 'bar', 'mean')"
   ]
  },
  {
   "cell_type": "markdown",
   "id": "c081288a",
   "metadata": {},
   "source": [
    "Как видно из графика, квартиры на первом этаже стоят дешевле. Чуть дороже квартиры на последнем этаже и больше всего просят за квартиры на других этажах "
   ]
  },
  {
   "cell_type": "markdown",
   "id": "6eb59966",
   "metadata": {},
   "source": [
    "#### Зависимость цены от даты размещения: дня недели, месяца и года"
   ]
  },
  {
   "cell_type": "markdown",
   "id": "9f6545bb",
   "metadata": {},
   "source": [
    "Построим диаграмму зависимости цены от дня недели"
   ]
  },
  {
   "cell_type": "code",
   "execution_count": 46,
   "id": "472b6eae",
   "metadata": {
    "scrolled": false
   },
   "outputs": [
    {
     "data": {
      "text/plain": [
       "<AxesSubplot:title={'center':'Зависимость цены от того этажа квартиры'}, xlabel='day_week'>"
      ]
     },
     "execution_count": 46,
     "metadata": {},
     "output_type": "execute_result"
    },
    {
     "data": {
      "image/png": "[encoded data removed]",
      "text/plain": [
       "<Figure size 432x288 with 1 Axes>"
      ]
     },
     "metadata": {
      "needs_background": "light"
     },
     "output_type": "display_data"
    }
   ],
   "source": [
    "relation(filter_df, 'day_week', 'Зависимость цены от того этажа квартиры', 'bar', 'mean')"
   ]
  },
  {
   "cell_type": "markdown",
   "id": "e4336818",
   "metadata": {},
   "source": [
    "Цена на объявления, размещенные во вторник и четверг, чуть выше чем в остальные дни"
   ]
  },
  {
   "cell_type": "markdown",
   "id": "87130b8a",
   "metadata": {},
   "source": [
    "Построим диаграмму зависимости цены от дня месяца "
   ]
  },
  {
   "cell_type": "code",
   "execution_count": 47,
   "id": "6361ce64",
   "metadata": {},
   "outputs": [
    {
     "data": {
      "text/plain": [
       "<AxesSubplot:title={'center':'Зависимость цены от того этажа квартиры'}, xlabel='month'>"
      ]
     },
     "execution_count": 47,
     "metadata": {},
     "output_type": "execute_result"
    },
    {
     "data": {
      "image/png": "[encoded data removed]",
      "text/plain": [
       "<Figure size 432x288 with 1 Axes>"
      ]
     },
     "metadata": {
      "needs_background": "light"
     },
     "output_type": "display_data"
    }
   ],
   "source": [
    "relation(filter_df, 'month', 'Зависимость цены от того этажа квартиры', 'bar', 'median')"
   ]
  },
  {
   "cell_type": "markdown",
   "id": "5430fdc7",
   "metadata": {},
   "source": [
    "Как видно из графика в апреле и осенью цены квартиры выше, в июне - самые маленькие"
   ]
  },
  {
   "cell_type": "markdown",
   "id": "c8ab6f72",
   "metadata": {},
   "source": [
    "Построим диаграмму зависимости цены от года"
   ]
  },
  {
   "cell_type": "code",
   "execution_count": 48,
   "id": "6a5a66a2",
   "metadata": {
    "scrolled": false
   },
   "outputs": [
    {
     "data": {
      "text/plain": [
       "<AxesSubplot:title={'center':'Зависимость цены от того этажа квартиры'}, ylabel='year'>"
      ]
     },
     "execution_count": 48,
     "metadata": {},
     "output_type": "execute_result"
    },
    {
     "data": {
      "image/png": "[encoded data removed]",
      "text/plain": [
       "<Figure size 432x288 with 1 Axes>"
      ]
     },
     "metadata": {
      "needs_background": "light"
     },
     "output_type": "display_data"
    }
   ],
   "source": [
    "relation(filter_df, 'year', 'Зависимость цены от того этажа квартиры', 'barh', 'median')"
   ]
  },
  {
   "cell_type": "markdown",
   "id": "e63eb555",
   "metadata": {},
   "source": [
    "Как видно с 2017 года цены на недвижимость растут вверх и в 2019 самые большие цены. В 2015 году цены были высокие, но к 2016 произошел спад цен на недвижимость."
   ]
  },
  {
   "cell_type": "code",
   "execution_count": 49,
   "id": "69f6ebfb",
   "metadata": {
    "scrolled": true
   },
   "outputs": [
    {
     "data": {
      "text/html": [
       "<div>\n",
       "<style scoped>\n",
       "    .dataframe tbody tr th:only-of-type {\n",
       "        vertical-align: middle;\n",
       "    }\n",
       "\n",
       "    .dataframe tbody tr th {\n",
       "        vertical-align: top;\n",
       "    }\n",
       "\n",
       "    .dataframe thead th {\n",
       "        text-align: right;\n",
       "    }\n",
       "</style>\n",
       "<table border=\"1\" class=\"dataframe\">\n",
       "  <thead>\n",
       "    <tr style=\"text-align: right;\">\n",
       "      <th></th>\n",
       "      <th>last_price</th>\n",
       "      <th>price_m2</th>\n",
       "      <th>total_area</th>\n",
       "      <th>rooms</th>\n",
       "      <th>cityCenters_nearest</th>\n",
       "    </tr>\n",
       "  </thead>\n",
       "  <tbody>\n",
       "    <tr>\n",
       "      <th>last_price</th>\n",
       "      <td>1.000000</td>\n",
       "      <td>0.633436</td>\n",
       "      <td>0.762843</td>\n",
       "      <td>0.488155</td>\n",
       "      <td>0.003805</td>\n",
       "    </tr>\n",
       "    <tr>\n",
       "      <th>price_m2</th>\n",
       "      <td>0.633436</td>\n",
       "      <td>1.000000</td>\n",
       "      <td>0.037042</td>\n",
       "      <td>-0.148151</td>\n",
       "      <td>0.120435</td>\n",
       "    </tr>\n",
       "    <tr>\n",
       "      <th>total_area</th>\n",
       "      <td>0.762843</td>\n",
       "      <td>0.037042</td>\n",
       "      <td>1.000000</td>\n",
       "      <td>0.792008</td>\n",
       "      <td>-0.065482</td>\n",
       "    </tr>\n",
       "    <tr>\n",
       "      <th>rooms</th>\n",
       "      <td>0.488155</td>\n",
       "      <td>-0.148151</td>\n",
       "      <td>0.792008</td>\n",
       "      <td>1.000000</td>\n",
       "      <td>-0.066011</td>\n",
       "    </tr>\n",
       "    <tr>\n",
       "      <th>cityCenters_nearest</th>\n",
       "      <td>0.003805</td>\n",
       "      <td>0.120435</td>\n",
       "      <td>-0.065482</td>\n",
       "      <td>-0.066011</td>\n",
       "      <td>1.000000</td>\n",
       "    </tr>\n",
       "  </tbody>\n",
       "</table>\n",
       "</div>"
      ],
      "text/plain": [
       "                     last_price  price_m2  total_area     rooms  \\\n",
       "last_price             1.000000  0.633436    0.762843  0.488155   \n",
       "price_m2               0.633436  1.000000    0.037042 -0.148151   \n",
       "total_area             0.762843  0.037042    1.000000  0.792008   \n",
       "rooms                  0.488155 -0.148151    0.792008  1.000000   \n",
       "cityCenters_nearest    0.003805  0.120435   -0.065482 -0.066011   \n",
       "\n",
       "                     cityCenters_nearest  \n",
       "last_price                      0.003805  \n",
       "price_m2                        0.120435  \n",
       "total_area                     -0.065482  \n",
       "rooms                          -0.066011  \n",
       "cityCenters_nearest             1.000000  "
      ]
     },
     "execution_count": 49,
     "metadata": {},
     "output_type": "execute_result"
    }
   ],
   "source": [
    "filter_df[['last_price', 'price_m2', 'total_area', 'rooms', 'cityCenters_nearest']].corr()"
   ]
  },
  {
   "cell_type": "markdown",
   "id": "dd38eab6",
   "metadata": {},
   "source": [
    "Как видно из данных, наибольшая линейная связь у зависимости цены от общей площади недвижимости (0.76) и цены за квадратный метр (0.63). Линейная связи очень слаба или отсутствует у зависимости цены от удаленности от центра. Скорее всего, это связанно с тем, что имеются дорогие недвижимости в удаленных от центра районах, элитных районах."
   ]
  },
  {
   "cell_type": "markdown",
   "id": "3e75067d",
   "metadata": {},
   "source": [
    "### Населенные пункты с наибольшим числом объявлений"
   ]
  },
  {
   "cell_type": "markdown",
   "id": "e3cb68a7",
   "metadata": {},
   "source": [
    "Отберем 10 населённых пунктов с наибольшим числом объявлений. Посчитаем среднюю цену квадратного метра в этих населённых пунктах. "
   ]
  },
  {
   "cell_type": "code",
   "execution_count": 50,
   "id": "68e4d11c",
   "metadata": {
    "scrolled": true
   },
   "outputs": [
    {
     "data": {
      "text/html": [
       "<div>\n",
       "<style scoped>\n",
       "    .dataframe tbody tr th:only-of-type {\n",
       "        vertical-align: middle;\n",
       "    }\n",
       "\n",
       "    .dataframe tbody tr th {\n",
       "        vertical-align: top;\n",
       "    }\n",
       "\n",
       "    .dataframe thead th {\n",
       "        text-align: right;\n",
       "    }\n",
       "</style>\n",
       "<table border=\"1\" class=\"dataframe\">\n",
       "  <thead>\n",
       "    <tr style=\"text-align: right;\">\n",
       "      <th></th>\n",
       "      <th>count</th>\n",
       "      <th>mean</th>\n",
       "    </tr>\n",
       "    <tr>\n",
       "      <th>locality_name</th>\n",
       "      <th></th>\n",
       "      <th></th>\n",
       "    </tr>\n",
       "  </thead>\n",
       "  <tbody>\n",
       "    <tr>\n",
       "      <th>Санкт-Петербург</th>\n",
       "      <td>11841.0</td>\n",
       "      <td>106733.848915</td>\n",
       "    </tr>\n",
       "    <tr>\n",
       "      <th>поселок Мурино</th>\n",
       "      <td>515.0</td>\n",
       "      <td>85956.990291</td>\n",
       "    </tr>\n",
       "    <tr>\n",
       "      <th>поселок Шушары</th>\n",
       "      <td>384.0</td>\n",
       "      <td>77910.648438</td>\n",
       "    </tr>\n",
       "    <tr>\n",
       "      <th>Всеволожск</th>\n",
       "      <td>305.0</td>\n",
       "      <td>66597.160656</td>\n",
       "    </tr>\n",
       "    <tr>\n",
       "      <th>Колпино</th>\n",
       "      <td>292.0</td>\n",
       "      <td>74671.513699</td>\n",
       "    </tr>\n",
       "    <tr>\n",
       "      <th>поселок Парголово</th>\n",
       "      <td>286.0</td>\n",
       "      <td>89360.548951</td>\n",
       "    </tr>\n",
       "    <tr>\n",
       "      <th>Пушкин</th>\n",
       "      <td>270.0</td>\n",
       "      <td>100594.692593</td>\n",
       "    </tr>\n",
       "    <tr>\n",
       "      <th>деревня Кудрово</th>\n",
       "      <td>266.0</td>\n",
       "      <td>92656.526316</td>\n",
       "    </tr>\n",
       "    <tr>\n",
       "      <th>Гатчина</th>\n",
       "      <td>243.0</td>\n",
       "      <td>68076.436214</td>\n",
       "    </tr>\n",
       "    <tr>\n",
       "      <th>Выборг</th>\n",
       "      <td>187.0</td>\n",
       "      <td>57033.122995</td>\n",
       "    </tr>\n",
       "  </tbody>\n",
       "</table>\n",
       "</div>"
      ],
      "text/plain": [
       "                     count           mean\n",
       "locality_name                            \n",
       "Санкт-Петербург    11841.0  106733.848915\n",
       "поселок Мурино       515.0   85956.990291\n",
       "поселок Шушары       384.0   77910.648438\n",
       "Всеволожск           305.0   66597.160656\n",
       "Колпино              292.0   74671.513699\n",
       "поселок Парголово    286.0   89360.548951\n",
       "Пушкин               270.0  100594.692593\n",
       "деревня Кудрово      266.0   92656.526316\n",
       "Гатчина              243.0   68076.436214\n",
       "Выборг               187.0   57033.122995"
      ]
     },
     "execution_count": 50,
     "metadata": {},
     "output_type": "execute_result"
    }
   ],
   "source": [
    "locality_table = filter_df.pivot_table(index='locality_name', values='price_m2', aggfunc=('count', 'mean'))\n",
    "locality_table = locality_table.sort_values('count', ascending=False)[0:10]\n",
    "locality_table"
   ]
  },
  {
   "cell_type": "markdown",
   "id": "1d73d423",
   "metadata": {},
   "source": [
    "Самое большое количество объявлений в **Санкт-Петербурге**, а самое маленькое из топа 10 в **Выборге.**\n",
    "\n",
    "Выделим населённые пункты с самой высокой и низкой стоимостью жилья. "
   ]
  },
  {
   "cell_type": "code",
   "execution_count": 51,
   "id": "b5fd9dec",
   "metadata": {},
   "outputs": [
    {
     "name": "stdout",
     "output_type": "stream",
     "text": [
      "\u001b[1mСамая высокая стоимость в Санкт-Петербург 106734\u001b[0m\n",
      "\u001b[1mСамая низкая стоимость в Выборг 57033\u001b[0m\n"
     ]
    }
   ],
   "source": [
    "print ('\\033[1m' + 'Самая высокая стоимость в', locality_table[locality_table['mean']==locality_table['mean'].max()].index[0], \\\n",
    "       \"{:.0f}\".format(locality_table['mean'].max()) +'\\033[0m')\n",
    "\n",
    "print ('\\033[1m' + 'Самая низкая стоимость в', locality_table[locality_table['mean']==locality_table['mean'].min()].index[0], \\\n",
    "       \"{:.0f}\".format(locality_table['mean'].min()) +'\\033[0m')"
   ]
  },
  {
   "cell_type": "markdown",
   "id": "7310d60f",
   "metadata": {},
   "source": [
    "Из данных видно, что в Санкт-Петербурге самое большое количество объявлений и самая высокая стоимость квадратного метра 106 734. А в Выборге самое маленькое количество объявлений и низкая стоимость квадратного метра 57 033, из населенных пунктов с наибольшим числом объявлений. "
   ]
  },
  {
   "cell_type": "markdown",
   "id": "c62ab376",
   "metadata": {},
   "source": [
    "### Анализ объявлений в Санкт-Петербурге"
   ]
  },
  {
   "cell_type": "markdown",
   "id": "15e4fc4b",
   "metadata": {},
   "source": [
    "Создадим таблицу peter, оставив в ней только объявления по г.Санкт-Петербургу"
   ]
  },
  {
   "cell_type": "code",
   "execution_count": 52,
   "id": "54748aca",
   "metadata": {
    "scrolled": true
   },
   "outputs": [
    {
     "data": {
      "text/plain": [
       "15749"
      ]
     },
     "execution_count": 52,
     "metadata": {},
     "output_type": "execute_result"
    }
   ],
   "source": [
    "peter = df.query('locality == \"Санкт-Петербург\"').reset_index(drop=True)\n",
    "peter.shape[0]"
   ]
  },
  {
   "cell_type": "markdown",
   "id": "0decc955",
   "metadata": {},
   "source": [
    "Осталось 15749 записи. Рассчитаем расстояние до центра города в километрах, округлив до целых и сохраним в столбце   cityCenters_km"
   ]
  },
  {
   "cell_type": "code",
   "execution_count": 53,
   "id": "5d46015f",
   "metadata": {},
   "outputs": [],
   "source": [
    "peter['cityCenters_km'] = (peter['cityCenters_nearest'] / 1000).astype(int)"
   ]
  },
  {
   "cell_type": "markdown",
   "id": "017f029d",
   "metadata": {},
   "source": [
    "Посчитаем среднюю цену для каждого километра."
   ]
  },
  {
   "cell_type": "code",
   "execution_count": 54,
   "id": "753559b6",
   "metadata": {
    "scrolled": true
   },
   "outputs": [
    {
     "data": {
      "text/plain": [
       "<AxesSubplot:title={'center':'Цена на километр в Санкт-Петербурге'}, xlabel='cityCenters_km'>"
      ]
     },
     "execution_count": 54,
     "metadata": {},
     "output_type": "execute_result"
    },
    {
     "data": {
      "image/png": "[encoded data removed]",
      "text/plain": [
       "<Figure size 864x288 with 1 Axes>"
      ]
     },
     "metadata": {
      "needs_background": "light"
     },
     "output_type": "display_data"
    }
   ],
   "source": [
    "relation(peter, 'cityCenters_km', 'Цена на километр в Санкт-Петербурге', 'bar', 'mean', (12,4))"
   ]
  },
  {
   "cell_type": "markdown",
   "id": "f8f7744f",
   "metadata": {},
   "source": [
    "Из графика видно, что самые высокие цены в непосредственной близости к центру (до 1 км). После 7 км цены резко идут вниз, это и будет центральная зона. Имеется рост на 27 км, возможно это элитный микрорайон"
   ]
  },
  {
   "cell_type": "markdown",
   "id": "c5535b3d",
   "metadata": {},
   "source": [
    "Создадим таблицу, отфильтрованную по Санкт-Петербургу и с расстоянием до центра 0 – 7 км. И проведем анализ этой территории"
   ]
  },
  {
   "cell_type": "code",
   "execution_count": 55,
   "id": "3b2dfbf5",
   "metadata": {},
   "outputs": [],
   "source": [
    "peter_center = peter.query('cityCenters_km <= 7')"
   ]
  },
  {
   "cell_type": "markdown",
   "id": "7d9c4a8f",
   "metadata": {},
   "source": [
    "#### Площадь недвижимости в центре Санкт-Петербурга"
   ]
  },
  {
   "cell_type": "markdown",
   "id": "6a582c84",
   "metadata": {},
   "source": [
    "Посмотрим на данные по общей площади недвижимости в центре Санкт-Петербурга"
   ]
  },
  {
   "cell_type": "code",
   "execution_count": 56,
   "id": "b28c71e8",
   "metadata": {
    "scrolled": true
   },
   "outputs": [
    {
     "data": {
      "text/plain": [
       "count    3728.000000\n",
       "mean       92.295992\n",
       "std        60.432221\n",
       "min        12.000000\n",
       "25%        56.000000\n",
       "50%        77.800000\n",
       "75%       108.700000\n",
       "max       900.000000\n",
       "Name: total_area, dtype: float64"
      ]
     },
     "execution_count": 56,
     "metadata": {},
     "output_type": "execute_result"
    }
   ],
   "source": [
    "peter_center['total_area'].describe()"
   ]
  },
  {
   "cell_type": "code",
   "execution_count": 57,
   "id": "ae1c0593",
   "metadata": {},
   "outputs": [
    {
     "data": {
      "text/plain": [
       "<AxesSubplot:title={'center':'Распределение общей площади'}, ylabel='Frequency'>"
      ]
     },
     "execution_count": 57,
     "metadata": {},
     "output_type": "execute_result"
    },
    {
     "data": {
      "image/png": "[encoded data removed]",
      "text/plain": [
       "<Figure size 720x360 with 1 Axes>"
      ]
     },
     "metadata": {
      "needs_background": "light"
     },
     "output_type": "display_data"
    }
   ],
   "source": [
    "peter_center['total_area'].plot(title='Распределение общей площади', kind='hist', bins=100, range=(10,150), figsize=(10,5), grid=True, ec='black')"
   ]
  },
  {
   "cell_type": "markdown",
   "id": "c9696c12",
   "metadata": {},
   "source": [
    "В центре Санкт-Петербурга средняя площадь больше чем по всем объявлениям. Диапазон основного количества объявлений в центре вырос и составляет 30 – 100. Пики приходятся на 45, 60, 70 , 80 квадратных метров."
   ]
  },
  {
   "cell_type": "markdown",
   "id": "0d6d8923",
   "metadata": {},
   "source": [
    "#### Цены в центре Санкт-Петербурга "
   ]
  },
  {
   "cell_type": "markdown",
   "id": "5949d8eb",
   "metadata": {},
   "source": [
    "Рассмотрим данные о цене за недвижимость в центре Санкт-Петербурга"
   ]
  },
  {
   "cell_type": "code",
   "execution_count": 58,
   "id": "ffb09d71",
   "metadata": {
    "scrolled": true
   },
   "outputs": [
    {
     "data": {
      "text/plain": [
       "count    3728.000000\n",
       "mean       14.708082\n",
       "std        24.655969\n",
       "min         1.600000\n",
       "25%         6.550000\n",
       "50%         9.000000\n",
       "75%        14.102125\n",
       "max       763.000000\n",
       "Name: last_price, dtype: float64"
      ]
     },
     "execution_count": 58,
     "metadata": {},
     "output_type": "execute_result"
    }
   ],
   "source": [
    "peter_center['last_price'].describe()"
   ]
  },
  {
   "cell_type": "markdown",
   "id": "cb8b1296",
   "metadata": {},
   "source": [
    "При числовом анализе данных последней цены на недвижимость в центре Санкт-Петербурга видно, что средняя цена и медиана увеличились в 2 раза. Построим гистограмму в диапазоне от 2 млн до 20 млн."
   ]
  },
  {
   "cell_type": "code",
   "execution_count": 59,
   "id": "81bf4ae6",
   "metadata": {},
   "outputs": [
    {
     "data": {
      "text/plain": [
       "<AxesSubplot:title={'center':'Цена'}, ylabel='Frequency'>"
      ]
     },
     "execution_count": 59,
     "metadata": {},
     "output_type": "execute_result"
    },
    {
     "data": {
      "image/png": "[encoded data removed]",
      "text/plain": [
       "<Figure size 1080x360 with 1 Axes>"
      ]
     },
     "metadata": {
      "needs_background": "light"
     },
     "output_type": "display_data"
    }
   ],
   "source": [
    "peter_center['last_price'].plot(title='Цена', kind='hist', range=(2, 20), bins=100, figsize=(15, 5), grid=True, ec='black')"
   ]
  },
  {
   "cell_type": "markdown",
   "id": "2465691f",
   "metadata": {},
   "source": [
    "Как видно из гистограммы, в центре города квартиры стоят намного дороже, большая часть объявлений приходится от 5 млн до 10 млн "
   ]
  },
  {
   "cell_type": "markdown",
   "id": "e15a0b8a",
   "metadata": {},
   "source": [
    "#### Число комнат в центре Санкт-Петербурга"
   ]
  },
  {
   "cell_type": "markdown",
   "id": "c94b21fe",
   "metadata": {},
   "source": [
    "Построим на данные количества комнат в центре Санкт-Петербурга"
   ]
  },
  {
   "cell_type": "code",
   "execution_count": 60,
   "id": "5bff883f",
   "metadata": {
    "scrolled": true
   },
   "outputs": [
    {
     "data": {
      "text/plain": [
       "<AxesSubplot:>"
      ]
     },
     "execution_count": 60,
     "metadata": {},
     "output_type": "execute_result"
    },
    {
     "data": {
      "image/png": "[encoded data removed]",
      "text/plain": [
       "<Figure size 432x288 with 1 Axes>"
      ]
     },
     "metadata": {
      "needs_background": "light"
     },
     "output_type": "display_data"
    }
   ],
   "source": [
    "peter_center.boxplot('rooms', fontsize=15)"
   ]
  },
  {
   "cell_type": "markdown",
   "id": "aaf618ec",
   "metadata": {},
   "source": [
    "Как видно основное количество объявлений при количестве комнат 1 – 4. Построим гистограмму по количеству комнат, диапазон значений возьмем от 0 – 6 комнат."
   ]
  },
  {
   "cell_type": "code",
   "execution_count": 61,
   "id": "effbd5e5",
   "metadata": {
    "scrolled": true
   },
   "outputs": [
    {
     "data": {
      "text/plain": [
       "<AxesSubplot:title={'center':'Число комнат'}, ylabel='Frequency'>"
      ]
     },
     "execution_count": 61,
     "metadata": {},
     "output_type": "execute_result"
    },
    {
     "data": {
      "image/png": "[encoded data removed]",
      "text/plain": [
       "<Figure size 432x288 with 1 Axes>"
      ]
     },
     "metadata": {
      "needs_background": "light"
     },
     "output_type": "display_data"
    }
   ],
   "source": [
    "peter_center['rooms'].plot(title='Число комнат', kind='hist', range=(0,6), grid=True, ec='black')"
   ]
  },
  {
   "cell_type": "markdown",
   "id": "54c1a3e7",
   "metadata": {},
   "source": [
    "В центре Санкт-Петербурга больше всего объявлений о недвижимости с 2 и 3 комнатами, в отличии от всех объявлений, где преобладали 1-2 комнатные "
   ]
  },
  {
   "cell_type": "markdown",
   "id": "6b7eae8d",
   "metadata": {},
   "source": [
    "#### Высота потолков в центре Санкт-Петербурга"
   ]
  },
  {
   "cell_type": "markdown",
   "id": "384fa11e",
   "metadata": {},
   "source": [
    "Посмотрим на данные о высоте потолков в центре Санкт-Петербурга."
   ]
  },
  {
   "cell_type": "code",
   "execution_count": 62,
   "id": "5e7438f1",
   "metadata": {
    "scrolled": true
   },
   "outputs": [
    {
     "data": {
      "text/plain": [
       "count    3728.000000\n",
       "mean        2.977669\n",
       "std         0.708397\n",
       "min         2.000000\n",
       "25%         2.700000\n",
       "50%         2.800000\n",
       "75%         3.100000\n",
       "max        32.000000\n",
       "Name: ceiling_height, dtype: float64"
      ]
     },
     "execution_count": 62,
     "metadata": {},
     "output_type": "execute_result"
    }
   ],
   "source": [
    "peter_center['ceiling_height'].describe()"
   ]
  },
  {
   "cell_type": "markdown",
   "id": "68d2ef2f",
   "metadata": {},
   "source": [
    "В центре Санкт-Петербурга медианная высота потолка выше, чем среди всех объявлений и 2,8 м. Построим гистограмму высоты потолков, диапазон данных возьмем 2-4 метров."
   ]
  },
  {
   "cell_type": "code",
   "execution_count": 63,
   "id": "f37724a3",
   "metadata": {},
   "outputs": [
    {
     "data": {
      "text/plain": [
       "<AxesSubplot:title={'center':'Высота потолков'}, ylabel='Frequency'>"
      ]
     },
     "execution_count": 63,
     "metadata": {},
     "output_type": "execute_result"
    },
    {
     "data": {
      "image/png": "[encoded data removed]",
      "text/plain": [
       "<Figure size 432x288 with 1 Axes>"
      ]
     },
     "metadata": {
      "needs_background": "light"
     },
     "output_type": "display_data"
    }
   ],
   "source": [
    "peter_center['ceiling_height'].plot(title='Высота потолков', kind='hist', range=(2, 4), grid=True, ec='black')"
   ]
  },
  {
   "cell_type": "markdown",
   "id": "d3fcb567",
   "metadata": {},
   "source": [
    "Как видно большая часть объявлений при потолках 2,7 – 3,2 м"
   ]
  },
  {
   "cell_type": "markdown",
   "id": "3f3a6404",
   "metadata": {},
   "source": [
    "#### Зависимость цены от числа комнат в Санкт-Петербурге"
   ]
  },
  {
   "cell_type": "markdown",
   "id": "c9e94a78",
   "metadata": {},
   "source": [
    "Создадим функцию relation_spb(), для вычисления зависимости цены от факторов и построения графиков"
   ]
  },
  {
   "cell_type": "code",
   "execution_count": 64,
   "id": "61f79f72",
   "metadata": {},
   "outputs": [],
   "source": [
    "def relation_spb(table1, table2, column, title, kind, mean, figsize=(6,4)):\n",
    "    ax = plt.gca()\n",
    "    if mean == 'median':\n",
    "        filter_column_1 = table1.groupby(column)['last_price'].median().reset_index().sort_values(by=column)\n",
    "        filter_column_2 = table2.groupby(column)['last_price'].median().reset_index().sort_values(by=column)\n",
    "    else: \n",
    "        filter_column_1 = table1.groupby(column)['last_price'].mean().reset_index().sort_values(by=column)\n",
    "        filter_column_2 = table2.groupby(column)['last_price'].mean().reset_index().sort_values(by=column)\n",
    "    \n",
    "    filter_column_1.plot(x=column, y='last_price', title=title, kind=kind, ec='black', \n",
    "                         figsize=figsize, color='blue', ax=ax, width=0.3, position=1, grid=True)\n",
    "    filter_column_2.plot(x=column, y='last_price', title=title, kind=kind, ec='black', \\\n",
    "                         figsize=figsize, color='red', ax=ax, width=0.3, position=2, grid=True)\n",
    "    plt.legend(['Питер_центр','Питер'])"
   ]
  },
  {
   "cell_type": "markdown",
   "id": "643e0a78",
   "metadata": {},
   "source": [
    "Построим график зависимости цены от числа комнат во всем Санкт-Петербурге и в центре."
   ]
  },
  {
   "cell_type": "code",
   "execution_count": 65,
   "id": "55262896",
   "metadata": {
    "scrolled": true
   },
   "outputs": [
    {
     "data": {
      "image/png": "[encoded data removed]",
      "text/plain": [
       "<Figure size 1080x360 with 1 Axes>"
      ]
     },
     "metadata": {
      "needs_background": "light"
     },
     "output_type": "display_data"
    }
   ],
   "source": [
    "relation_spb(peter_center, peter, 'rooms', 'Зависимость цены от числа комнат', 'bar', 'mean', (15,5))"
   ]
  },
  {
   "cell_type": "markdown",
   "id": "ef2cd139",
   "metadata": {},
   "source": [
    "12-ти комнатная квартира очень сильно выделяется, скорее всего это единичное объявление, поэтому средняя стоимость большая. Т.к. до 6 комнатных квартир идет различия, посмотрим эти данные поближе, отфильтровав таблицы"
   ]
  },
  {
   "cell_type": "code",
   "execution_count": 66,
   "id": "9ab257c9",
   "metadata": {},
   "outputs": [
    {
     "data": {
      "image/png": "[encoded data removed]",
      "text/plain": [
       "<Figure size 720x360 with 1 Axes>"
      ]
     },
     "metadata": {
      "needs_background": "light"
     },
     "output_type": "display_data"
    }
   ],
   "source": [
    "filter_peter_center = peter_center.query('rooms < 7')\n",
    "filter_peter = peter.query('rooms < 7')\n",
    "relation_spb(filter_peter_center, filter_peter, 'rooms', 'Зависимость цены от числа комнат', 'bar', 'median', (10,5))"
   ]
  },
  {
   "cell_type": "markdown",
   "id": "9e565fa6",
   "metadata": {},
   "source": [
    "Как видно стоимость квартир, в зависимости от количества комнат, в центре города выше, чем стоимость по всему городу "
   ]
  },
  {
   "cell_type": "markdown",
   "id": "51189360",
   "metadata": {},
   "source": [
    "#### Зависимость цены от удалённости от центра в Санкт-Петербурге"
   ]
  },
  {
   "cell_type": "markdown",
   "id": "d2aa4c4f",
   "metadata": {},
   "source": [
    "Первые 7 км по Санкт-Петербургу, это и есть центр города, поэтому данные на этом отрезке будут полностью совпадать. Поэтому построим диаграмму размаха для всего города "
   ]
  },
  {
   "cell_type": "code",
   "execution_count": 67,
   "id": "e09fdd5e",
   "metadata": {},
   "outputs": [
    {
     "data": {
      "text/plain": [
       "<AxesSubplot:title={'center':'Зависимость цены от удалённости от центра'}, xlabel='cityCenters_nearest', ylabel='last_price'>"
      ]
     },
     "execution_count": 67,
     "metadata": {},
     "output_type": "execute_result"
    },
    {
     "data": {
      "image/png": "[encoded data removed]",
      "text/plain": [
       "<Figure size 432x288 with 1 Axes>"
      ]
     },
     "metadata": {
      "needs_background": "light"
     },
     "output_type": "display_data"
    }
   ],
   "source": [
    "relation(peter, 'cityCenters_nearest', 'Зависимость цены от удалённости от центра', 'scatter', 'mean')"
   ]
  },
  {
   "cell_type": "markdown",
   "id": "2d767444",
   "metadata": {},
   "source": [
    "Правило, чем ближе к центру, тем больше цена, применимо и в данном случае "
   ]
  },
  {
   "cell_type": "markdown",
   "id": "e72f644b",
   "metadata": {},
   "source": [
    "#### Зависимость цены от этажа  квартиры в Санкт-Петербурге"
   ]
  },
  {
   "cell_type": "markdown",
   "id": "e37364d1",
   "metadata": {},
   "source": [
    "Построим гистограмму зависимости цены от этажа"
   ]
  },
  {
   "cell_type": "code",
   "execution_count": 68,
   "id": "79de319f",
   "metadata": {},
   "outputs": [
    {
     "data": {
      "image/png": "[encoded data removed]",
      "text/plain": [
       "<Figure size 432x288 with 1 Axes>"
      ]
     },
     "metadata": {
      "needs_background": "light"
     },
     "output_type": "display_data"
    }
   ],
   "source": [
    "relation_spb(peter_center, peter, 'level_floory', 'Зависимость цены от того этажа квартиры', 'bar', 'median')"
   ]
  },
  {
   "cell_type": "markdown",
   "id": "08bdfb3d",
   "metadata": {},
   "source": [
    "Как видно из графика, квартиры на первом этаже стоят дешевле. Чуть дороже квартиры на последнем этаже и больше всего просят за квартиры на других этажах. Квартиры на первом этаже, находящиеся в центре города, стоят дороже, чем на любом этаже по всему Санкт-Петербургу. "
   ]
  },
  {
   "cell_type": "markdown",
   "id": "17d5ac63",
   "metadata": {},
   "source": [
    "#### Зависимость цены от даты размещения: дня недели, месяца и года в Санкт-Петербурге"
   ]
  },
  {
   "cell_type": "markdown",
   "id": "ecc97d1a",
   "metadata": {},
   "source": [
    "Построим диаграмму зависимости цены от дня недели"
   ]
  },
  {
   "cell_type": "code",
   "execution_count": 69,
   "id": "0bba8613",
   "metadata": {
    "scrolled": false
   },
   "outputs": [
    {
     "data": {
      "image/png": "[encoded data removed]",
      "text/plain": [
       "<Figure size 864x360 with 1 Axes>"
      ]
     },
     "metadata": {
      "needs_background": "light"
     },
     "output_type": "display_data"
    }
   ],
   "source": [
    "relation_spb(peter_center, peter, 'day_week', 'Зависимость цены от того этажа квартиры', 'bar', 'median', (12,5))"
   ]
  },
  {
   "cell_type": "markdown",
   "id": "a001f60d",
   "metadata": {},
   "source": [
    "Объявления по центру города, размещенные в воскресенье, чуть дешевле, чем в другие дни. По всему Санкт-Петербургу, разница цены от дня недели сильно не зависит."
   ]
  },
  {
   "cell_type": "markdown",
   "id": "85d5a390",
   "metadata": {},
   "source": [
    "Построим диаграмму зависимости цены от дня месяца "
   ]
  },
  {
   "cell_type": "code",
   "execution_count": 70,
   "id": "e5c66a9e",
   "metadata": {},
   "outputs": [
    {
     "data": {
      "image/png": "[encoded data removed]",
      "text/plain": [
       "<Figure size 1008x360 with 1 Axes>"
      ]
     },
     "metadata": {
      "needs_background": "light"
     },
     "output_type": "display_data"
    }
   ],
   "source": [
    "relation_spb(peter_center, peter, 'month', 'Зависимость цены от того этажа квартиры', 'bar', 'median', (14,5))"
   ]
  },
  {
   "cell_type": "markdown",
   "id": "f9b81011",
   "metadata": {},
   "source": [
    "Самая маленькая цена на объявления, размещенные в центре города, в декабре. С апреля - июнь, так же заметно снижение цен, скорее всего начало периода отпусков. В начале года и ближе к осени, цены самые высокие.\n",
    "\n",
    "Если брать весь город в целом, то тут в декабре, наоборот самые высокие цены. Летом также наблюдается снижение цен  "
   ]
  },
  {
   "cell_type": "markdown",
   "id": "492e0879",
   "metadata": {},
   "source": [
    "Построим диаграмму зависимости цены от года"
   ]
  },
  {
   "cell_type": "code",
   "execution_count": 71,
   "id": "ba77c5d1",
   "metadata": {
    "scrolled": false
   },
   "outputs": [
    {
     "data": {
      "image/png": "[encoded data removed]",
      "text/plain": [
       "<Figure size 432x288 with 1 Axes>"
      ]
     },
     "metadata": {
      "needs_background": "light"
     },
     "output_type": "display_data"
    }
   ],
   "source": [
    "relation_spb(peter_center, peter, 'year', 'Зависимость цены от того этажа квартиры', 'barh', 'median')"
   ]
  },
  {
   "cell_type": "markdown",
   "id": "45b78119",
   "metadata": {},
   "source": [
    "В 2014 году были самые большие цены, ранее мы избавлялись от этих данных, т.к. их было мало. В центре города с 2014 - 2018 наблюдается снижение цены на недвижимость , в 2019 цены начинают подниматься. По всему городу падение до 2017, с 2018 идет рост цен на недвижимость"
   ]
  },
  {
   "cell_type": "markdown",
   "id": "16f241f5",
   "metadata": {},
   "source": [
    "## Общий вывод"
   ]
  },
  {
   "cell_type": "markdown",
   "id": "f9307bfa",
   "metadata": {},
   "source": [
    "Был проведен анализ объявлений о продаже квартир в Санкт-Петербурге и соседних населённых пунктах за несколько лет. Рассматривая данные можно сказать, что стоимость квартир зависит от множества факторов. Квартиры, расположенные на первом и последних этажах, стоят дешевле чем на других. При этом первый этаж, ценится меньше, чем последний. Размещенные объявления в летний период дешевле, чем в начале года. Скорее это связано с началом отпусков. Начиная с 2014 года по 2017 наблюдается, спад стоимости недвижимости, повлиял кризис. С 2018 цены снова начинают расти.\n",
    "\n",
    "Был выделен радиус центра г.Санкт-Петербург и проведен анализ в сравнении со всем городом. Цены на квартиры, намного превышают цены по всему городу, и чем ближе к центру, тем дороже. В остальном цены в центре города, также подвержены факторам и зависят от площади, этажности, количества комнат. В центре города, также наблюдается спад цен в летние периоды. Можно сказать, что правила на всем рынке одинаковы "
   ]
  }
 ],
 "metadata": {
  "kernelspec": {
   "display_name": "Python 3 (ipykernel)",
   "language": "python",
   "name": "python3"
  },
  "language_info": {
   "codemirror_mode": {
    "name": "ipython",
    "version": 3
   },
   "file_extension": ".py",
   "mimetype": "text/x-python",
   "name": "python",
   "nbconvert_exporter": "python",
   "pygments_lexer": "ipython3",
   "version": "3.9.12"
  },
  "toc": {
   "base_numbering": 1,
   "nav_menu": {},
   "number_sections": true,
   "sideBar": true,
   "skip_h1_title": true,
   "title_cell": "Содержание",
   "title_sidebar": "Contents",
   "toc_cell": true,
   "toc_position": {
    "height": "577px",
    "left": "92px",
    "top": "145.125px",
    "width": "320px"
   },
   "toc_section_display": true,
   "toc_window_display": true
  }
 },
 "nbformat": 4,
 "nbformat_minor": 5
}
